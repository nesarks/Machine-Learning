{
 "cells": [
  {
   "cell_type": "code",
   "execution_count": 1,
   "metadata": {},
   "outputs": [],
   "source": [
    "import pandas as pd\n",
    "import csv"
   ]
  },
  {
   "cell_type": "markdown",
   "metadata": {},
   "source": [
    "## Data collection"
   ]
  },
  {
   "cell_type": "code",
   "execution_count": 2,
   "metadata": {},
   "outputs": [
    {
     "name": "stdout",
     "output_type": "stream",
     "text": [
      "Len tables 28\n",
      "Len everest_tables 10\n"
     ]
    }
   ],
   "source": [
    "tables = pd.read_html(\n",
    "    \"https://en.wikipedia.org/wiki/List_of_deaths_on_eight-thousanders\"\n",
    ")\n",
    "everest_tables = pd.read_html(\n",
    "    \"https://en.wikipedia.org/wiki/List_of_people_who_died_climbing_Mount_Everest\"\n",
    ")\n",
    "print(\"Len tables\", len(tables))\n",
    "print(\"Len everest_tables\", len(everest_tables))"
   ]
  },
  {
   "cell_type": "code",
   "execution_count": 3,
   "metadata": {},
   "outputs": [
    {
     "data": {
      "text/plain": [
       "Index(['Name', 'Date', 'Age', 'Expedition', 'Nationality', 'Cause of death',\n",
       "       'Location', 'Remains Status', 'Refs'],\n",
       "      dtype='object')"
      ]
     },
     "execution_count": 3,
     "metadata": {},
     "output_type": "execute_result"
    }
   ],
   "source": [
    "everest_tables[1].columns"
   ]
  },
  {
   "cell_type": "markdown",
   "metadata": {},
   "source": [
    "## Creating Dataframe"
   ]
  },
  {
   "cell_type": "code",
   "execution_count": 4,
   "metadata": {},
   "outputs": [],
   "source": [
    "valid_table_idxs = [2, 4, 6, 8, 9, 11, 13, 15, 17, 19, 21, 23, 24]\n",
    "idx_to_mountain_lookup = {\n",
    "    2: \"K2\",\n",
    "    4: \"Kangchenjunga\",\n",
    "    6: \"Lhotse\",\n",
    "    8: \"Makalu\",\n",
    "    9: \"Cho Oyu\",\n",
    "    11: \"Dhaulagiri I\",\n",
    "    13: \"Manaslu\",\n",
    "    15: \"Nanga Parbat\",\n",
    "    17: \"Annapurna I\",\n",
    "    19: \"Gasherbrum I\",\n",
    "    21: \"Broad Peak\",\n",
    "    23: \"Gasherbrum II\",\n",
    "    24: \"Shishapangma\",\n",
    "}"
   ]
  },
  {
   "cell_type": "code",
   "execution_count": 5,
   "metadata": {},
   "outputs": [
    {
     "name": "stdout",
     "output_type": "stream",
     "text": [
      "<class 'pandas.core.frame.DataFrame'>\n",
      "RangeIndex: 749 entries, 0 to 748\n",
      "Data columns (total 7 columns):\n",
      " #   Column          Non-Null Count  Dtype \n",
      "---  ------          --------------  ----- \n",
      " 0   Date            749 non-null    object\n",
      " 1   Name            749 non-null    object\n",
      " 2   Nationality     749 non-null    object\n",
      " 3   Cause of death  749 non-null    object\n",
      " 4   -               96 non-null     object\n",
      " 5   Mountain        749 non-null    object\n",
      " 6   References      615 non-null    object\n",
      "dtypes: object(7)\n",
      "memory usage: 41.1+ KB\n"
     ]
    }
   ],
   "source": [
    "all_mountains = pd.DataFrame()\n",
    "\n",
    "for idx in valid_table_idxs:\n",
    "    table = tables[idx]\n",
    "    table[\"Mountain\"] = idx_to_mountain_lookup[idx]\n",
    "\n",
    "    if all_mountains.empty:\n",
    "        all_mountains = table\n",
    "        continue\n",
    "    all_mountains = pd.concat([all_mountains, table], ignore_index=True)\n",
    "\n",
    "all_mountains.info()"
   ]
  },
  {
   "cell_type": "markdown",
   "metadata": {},
   "source": [
    "#### Adding everest data to the all mountains table\n"
   ]
  },
  {
   "cell_type": "code",
   "execution_count": 6,
   "metadata": {},
   "outputs": [
    {
     "name": "stdout",
     "output_type": "stream",
     "text": [
      "<class 'pandas.core.frame.DataFrame'>\n",
      "RangeIndex: 1081 entries, 0 to 1080\n",
      "Data columns (total 7 columns):\n",
      " #   Column          Non-Null Count  Dtype \n",
      "---  ------          --------------  ----- \n",
      " 0   Date            1081 non-null   object\n",
      " 1   Name            1081 non-null   object\n",
      " 2   Nationality     1078 non-null   object\n",
      " 3   Cause of death  1072 non-null   object\n",
      " 4   -               96 non-null     object\n",
      " 5   Mountain        1081 non-null   object\n",
      " 6   References      615 non-null    object\n",
      "dtypes: object(7)\n",
      "memory usage: 59.2+ KB\n"
     ]
    }
   ],
   "source": [
    "everest_useful_df = everest_tables[1][\n",
    "    [\"Name\", \"Date\", \"Nationality\", \"Cause of death\"]\n",
    "].copy()\n",
    "everest_useful_df[\"Mountain\"] = \"Mount Everest\"\n",
    "\n",
    "all_mountains = pd.concat([all_mountains, everest_useful_df], ignore_index=True)\n",
    "all_mountains.info()"
   ]
  },
  {
   "cell_type": "markdown",
   "metadata": {},
   "source": [
    "## Data Preprocessing"
   ]
  },
  {
   "cell_type": "code",
   "execution_count": 7,
   "metadata": {},
   "outputs": [],
   "source": [
    "all_mountains.drop(columns=[\"-\", \"References\"], inplace=True)"
   ]
  },
  {
   "cell_type": "code",
   "execution_count": 11,
   "metadata": {},
   "outputs": [],
   "source": [
    "all_mountains[\"Date\"] = all_mountains[\"Date\"].apply(lambda x: x.split(\"/\")[-1])\n",
    "all_mountains[\"Date\"] = all_mountains[\"Date\"].apply(lambda x: x.split(\"–\")[-1])\n",
    "all_mountains[\"Date\"] = all_mountains[\"Date\"].apply(lambda x: x.split(\"or\")[0])\n",
    "all_mountains[\"Date\"] = all_mountains[\"Date\"].apply(lambda x: x.split(\"[\")[0])\n",
    "\n",
    "values_to_replace = [\"Autumn\", \"Spring\", \"Winter\", \"Summer\", \"mid\", \"late\", \"early\"]\n",
    "for value in values_to_replace:\n",
    "    all_mountains[\"Date\"] = all_mountains[\"Date\"].str.replace(value, \"\").str.strip()\n",
    "\n",
    "all_mountains[\"Date\"] = pd.to_datetime(all_mountains[\"Date\"], format=\"mixed\")"
   ]
  },
  {
   "cell_type": "code",
   "execution_count": 13,
   "metadata": {},
   "outputs": [],
   "source": [
    "all_mountains.drop_duplicates(inplace=True)"
   ]
  },
  {
   "cell_type": "code",
   "execution_count": 16,
   "metadata": {},
   "outputs": [
    {
     "data": {
      "text/plain": [
       "Date              0\n",
       "Name              0\n",
       "Nationality       2\n",
       "Cause of death    9\n",
       "Mountain          0\n",
       "dtype: int64"
      ]
     },
     "execution_count": 16,
     "metadata": {},
     "output_type": "execute_result"
    }
   ],
   "source": [
    "all_mountains.fillna(pd.NA, inplace=True)\n",
    "all_mountains.isna().sum()"
   ]
  },
  {
   "cell_type": "code",
   "execution_count": 15,
   "metadata": {},
   "outputs": [
    {
     "data": {
      "text/html": [
       "<div>\n",
       "<style scoped>\n",
       "    .dataframe tbody tr th:only-of-type {\n",
       "        vertical-align: middle;\n",
       "    }\n",
       "\n",
       "    .dataframe tbody tr th {\n",
       "        vertical-align: top;\n",
       "    }\n",
       "\n",
       "    .dataframe thead th {\n",
       "        text-align: right;\n",
       "    }\n",
       "</style>\n",
       "<table border=\"1\" class=\"dataframe\">\n",
       "  <thead>\n",
       "    <tr style=\"text-align: right;\">\n",
       "      <th></th>\n",
       "      <th>Date</th>\n",
       "      <th>Name</th>\n",
       "      <th>Nationality</th>\n",
       "      <th>Cause of death</th>\n",
       "      <th>Mountain</th>\n",
       "    </tr>\n",
       "  </thead>\n",
       "  <tbody>\n",
       "    <tr>\n",
       "      <th>73</th>\n",
       "      <td>1986-08-10</td>\n",
       "      <td>Hannes Wieser</td>\n",
       "      <td>Austria</td>\n",
       "      <td>Altitude sickness</td>\n",
       "      <td>K2</td>\n",
       "    </tr>\n",
       "    <tr>\n",
       "      <th>903</th>\n",
       "      <td>1997-05-07</td>\n",
       "      <td>Nikolai Chevtchenko</td>\n",
       "      <td>Russia</td>\n",
       "      <td>Exhaustion and/or exposure</td>\n",
       "      <td>Mount Everest</td>\n",
       "    </tr>\n",
       "    <tr>\n",
       "      <th>292</th>\n",
       "      <td>2018-09-27</td>\n",
       "      <td>Dawa Gyaljen Sherpa</td>\n",
       "      <td>Nepal</td>\n",
       "      <td>Avalanche</td>\n",
       "      <td>Dhaulagiri I</td>\n",
       "    </tr>\n",
       "    <tr>\n",
       "      <th>303</th>\n",
       "      <td>2013-05-23</td>\n",
       "      <td>Chizuko Kono</td>\n",
       "      <td>Japan</td>\n",
       "      <td>Exhaustion</td>\n",
       "      <td>Dhaulagiri I</td>\n",
       "    </tr>\n",
       "    <tr>\n",
       "      <th>725</th>\n",
       "      <td>2009-10-15</td>\n",
       "      <td>Roby Piantoni</td>\n",
       "      <td>Italy</td>\n",
       "      <td>Fall</td>\n",
       "      <td>Shishapangma</td>\n",
       "    </tr>\n",
       "    <tr>\n",
       "      <th>672</th>\n",
       "      <td>2006-07-08</td>\n",
       "      <td>Markus Kronthaler</td>\n",
       "      <td>Austria</td>\n",
       "      <td>Exhaustion</td>\n",
       "      <td>Broad Peak</td>\n",
       "    </tr>\n",
       "    <tr>\n",
       "      <th>491</th>\n",
       "      <td>1996-06-20</td>\n",
       "      <td>Gabriel Stana</td>\n",
       "      <td>Romania</td>\n",
       "      <td>Avalanche</td>\n",
       "      <td>Nanga Parbat</td>\n",
       "    </tr>\n",
       "    <tr>\n",
       "      <th>869</th>\n",
       "      <td>1993-04-23</td>\n",
       "      <td>Pasang Lhamu Sherpa</td>\n",
       "      <td>Nepal</td>\n",
       "      <td>Disappearance (likely accidental death during ...</td>\n",
       "      <td>Mount Everest</td>\n",
       "    </tr>\n",
       "    <tr>\n",
       "      <th>323</th>\n",
       "      <td>2000-10-07</td>\n",
       "      <td>Gyalzen Chuldim</td>\n",
       "      <td>Nepal</td>\n",
       "      <td>Avalanche</td>\n",
       "      <td>Dhaulagiri I</td>\n",
       "    </tr>\n",
       "    <tr>\n",
       "      <th>495</th>\n",
       "      <td>1990-07-03</td>\n",
       "      <td>Chang-gi Park</td>\n",
       "      <td>South Korea</td>\n",
       "      <td>Fall into a crevasse</td>\n",
       "      <td>Nanga Parbat</td>\n",
       "    </tr>\n",
       "  </tbody>\n",
       "</table>\n",
       "</div>"
      ],
      "text/plain": [
       "          Date                 Name  Nationality  \\\n",
       "73  1986-08-10        Hannes Wieser      Austria   \n",
       "903 1997-05-07  Nikolai Chevtchenko       Russia   \n",
       "292 2018-09-27  Dawa Gyaljen Sherpa        Nepal   \n",
       "303 2013-05-23         Chizuko Kono        Japan   \n",
       "725 2009-10-15        Roby Piantoni        Italy   \n",
       "672 2006-07-08    Markus Kronthaler      Austria   \n",
       "491 1996-06-20        Gabriel Stana      Romania   \n",
       "869 1993-04-23  Pasang Lhamu Sherpa        Nepal   \n",
       "323 2000-10-07      Gyalzen Chuldim        Nepal   \n",
       "495 1990-07-03        Chang-gi Park  South Korea   \n",
       "\n",
       "                                        Cause of death       Mountain  \n",
       "73                                   Altitude sickness             K2  \n",
       "903                         Exhaustion and/or exposure  Mount Everest  \n",
       "292                                          Avalanche   Dhaulagiri I  \n",
       "303                                         Exhaustion   Dhaulagiri I  \n",
       "725                                               Fall   Shishapangma  \n",
       "672                                         Exhaustion     Broad Peak  \n",
       "491                                          Avalanche   Nanga Parbat  \n",
       "869  Disappearance (likely accidental death during ...  Mount Everest  \n",
       "323                                          Avalanche   Dhaulagiri I  \n",
       "495                               Fall into a crevasse   Nanga Parbat  "
      ]
     },
     "execution_count": 15,
     "metadata": {},
     "output_type": "execute_result"
    }
   ],
   "source": [
    "all_mountains.sample(10)"
   ]
  },
  {
   "cell_type": "code",
   "execution_count": 18,
   "metadata": {},
   "outputs": [
    {
     "name": "stdout",
     "output_type": "stream",
     "text": [
      "<class 'pandas.core.frame.DataFrame'>\n",
      "Index: 1078 entries, 0 to 1080\n",
      "Data columns (total 5 columns):\n",
      " #   Column          Non-Null Count  Dtype         \n",
      "---  ------          --------------  -----         \n",
      " 0   Date            1078 non-null   datetime64[ns]\n",
      " 1   Name            1078 non-null   object        \n",
      " 2   Nationality     1076 non-null   object        \n",
      " 3   Cause of death  1069 non-null   object        \n",
      " 4   Mountain        1078 non-null   object        \n",
      "dtypes: datetime64[ns](1), object(4)\n",
      "memory usage: 50.5+ KB\n"
     ]
    }
   ],
   "source": [
    "all_mountains.info()"
   ]
  },
  {
   "cell_type": "markdown",
   "metadata": {},
   "source": [
    "## Final dataset"
   ]
  },
  {
   "cell_type": "code",
   "execution_count": null,
   "metadata": {},
   "outputs": [],
   "source": [
    "all_mountains.to_csv(\n",
    "    \"deaths_on_eight-thousanders.csv\", index=False, quoting=csv.QUOTE_NONNUMERIC\n",
    ")"
   ]
  }
 ],
 "metadata": {
  "kernelspec": {
   "display_name": "Python 3 (ipykernel)",
   "language": "python",
   "name": "python3"
  },
  "language_info": {
   "codemirror_mode": {
    "name": "ipython",
    "version": 3
   },
   "file_extension": ".py",
   "mimetype": "text/x-python",
   "name": "python",
   "nbconvert_exporter": "python",
   "pygments_lexer": "ipython3",
   "version": "3.11.4"
  }
 },
 "nbformat": 4,
 "nbformat_minor": 2
}
