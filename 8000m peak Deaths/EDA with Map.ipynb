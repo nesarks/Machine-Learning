{
 "cells": [
  {
   "cell_type": "code",
   "execution_count": 17,
   "metadata": {
    "_cell_guid": "b1076dfc-b9ad-4769-8c92-a6c4dae69d19",
    "_uuid": "8f2839f25d086af736a60e9eeb907d3b93b6e0e5",
    "execution": {
     "iopub.execute_input": "2024-02-12T01:38:54.758701Z",
     "iopub.status.busy": "2024-02-12T01:38:54.7581Z",
     "iopub.status.idle": "2024-02-12T01:38:54.771321Z",
     "shell.execute_reply": "2024-02-12T01:38:54.770095Z",
     "shell.execute_reply.started": "2024-02-12T01:38:54.758658Z"
    }
   },
   "outputs": [
    {
     "data": {
      "text/html": [
       "<div>\n",
       "<style scoped>\n",
       "    .dataframe tbody tr th:only-of-type {\n",
       "        vertical-align: middle;\n",
       "    }\n",
       "\n",
       "    .dataframe tbody tr th {\n",
       "        vertical-align: top;\n",
       "    }\n",
       "\n",
       "    .dataframe thead th {\n",
       "        text-align: right;\n",
       "    }\n",
       "</style>\n",
       "<table border=\"1\" class=\"dataframe\">\n",
       "  <thead>\n",
       "    <tr style=\"text-align: right;\">\n",
       "      <th></th>\n",
       "      <th>Date</th>\n",
       "      <th>Name</th>\n",
       "      <th>Nationality</th>\n",
       "      <th>Cause of death</th>\n",
       "      <th>Mountain</th>\n",
       "      <th>year</th>\n",
       "    </tr>\n",
       "  </thead>\n",
       "  <tbody>\n",
       "    <tr>\n",
       "      <th>0</th>\n",
       "      <td>2023-07-27</td>\n",
       "      <td>Muhammad Hassan</td>\n",
       "      <td>Pakistan</td>\n",
       "      <td>Unknown</td>\n",
       "      <td>K2</td>\n",
       "      <td>2023</td>\n",
       "    </tr>\n",
       "    <tr>\n",
       "      <th>1</th>\n",
       "      <td>2022-07-22</td>\n",
       "      <td>Matthew Eakin</td>\n",
       "      <td>Australia</td>\n",
       "      <td>Fall</td>\n",
       "      <td>K2</td>\n",
       "      <td>2022</td>\n",
       "    </tr>\n",
       "    <tr>\n",
       "      <th>2</th>\n",
       "      <td>2022-07-22</td>\n",
       "      <td>Richard Cartier</td>\n",
       "      <td>Canada</td>\n",
       "      <td>Fall</td>\n",
       "      <td>K2</td>\n",
       "      <td>2022</td>\n",
       "    </tr>\n",
       "    <tr>\n",
       "      <th>3</th>\n",
       "      <td>2022-07-21</td>\n",
       "      <td>Ali Akbar Sakhi</td>\n",
       "      <td>Afghanistan</td>\n",
       "      <td>Unknown, suspected altitude sickness</td>\n",
       "      <td>K2</td>\n",
       "      <td>2022</td>\n",
       "    </tr>\n",
       "    <tr>\n",
       "      <th>4</th>\n",
       "      <td>2021-07-25</td>\n",
       "      <td>Rick Allen</td>\n",
       "      <td>United Kingdom</td>\n",
       "      <td>Avalanche</td>\n",
       "      <td>K2</td>\n",
       "      <td>2021</td>\n",
       "    </tr>\n",
       "  </tbody>\n",
       "</table>\n",
       "</div>"
      ],
      "text/plain": [
       "        Date             Name     Nationality  \\\n",
       "0 2023-07-27  Muhammad Hassan        Pakistan   \n",
       "1 2022-07-22    Matthew Eakin       Australia   \n",
       "2 2022-07-22  Richard Cartier          Canada   \n",
       "3 2022-07-21  Ali Akbar Sakhi     Afghanistan   \n",
       "4 2021-07-25       Rick Allen  United Kingdom   \n",
       "\n",
       "                         Cause of death Mountain  year  \n",
       "0                               Unknown       K2  2023  \n",
       "1                                  Fall       K2  2022  \n",
       "2                                  Fall       K2  2022  \n",
       "3  Unknown, suspected altitude sickness       K2  2022  \n",
       "4                             Avalanche       K2  2021  "
      ]
     },
     "execution_count": 17,
     "metadata": {},
     "output_type": "execute_result"
    }
   ],
   "source": [
    "import pandas as pd\n",
    "from warnings import filterwarnings\n",
    "\n",
    "filterwarnings(action='ignore', category=FutureWarning)\n",
    "\n",
    "# Define the local file path\n",
    "DEATHS = r'C:\\Users\\Ksnes\\OneDrive\\Documents\\GitHub\\Machine-Learning\\8000m peak Deaths\\deaths_on_eight-thousanders.csv'\n",
    "\n",
    "# Read the CSV file using the local file path\n",
    "df = pd.read_csv(filepath_or_buffer=DEATHS, parse_dates=['Date'])\n",
    "df['year'] = df['Date'].dt.year\n",
    "df.head()"
   ]
  },
  {
   "cell_type": "code",
   "execution_count": 19,
   "metadata": {
    "execution": {
     "iopub.execute_input": "2024-02-12T01:39:09.619541Z",
     "iopub.status.busy": "2024-02-12T01:39:09.618814Z",
     "iopub.status.idle": "2024-02-12T01:39:17.417695Z",
     "shell.execute_reply": "2024-02-12T01:39:17.41633Z",
     "shell.execute_reply.started": "2024-02-12T01:39:09.619498Z"
    }
   },
   "outputs": [
    {
     "name": "stdout",
     "output_type": "stream",
     "text": [
      "done in 0:00:37.398480\n"
     ]
    }
   ],
   "source": [
    "from arrow import now\n",
    "from geocoder import arcgis\n",
    "\n",
    "time_start = now()\n",
    "\n",
    "# Create a DataFrame for value counts\n",
    "value_counts_df = df['Mountain'].value_counts().reset_index()\n",
    "value_counts_df.columns = ['Mountain', 'count']\n",
    "\n",
    "# Create a list to store latitude and longitude values\n",
    "latitudes = []\n",
    "longitudes = []\n",
    "\n",
    "# Loop through unique mountain names and retrieve latitudes and longitudes\n",
    "for mountain in df['Mountain'].unique():\n",
    "    location = arcgis(location=mountain)\n",
    "    if location is not None:\n",
    "        latitudes.append(location.latlng[0])\n",
    "        longitudes.append(location.latlng[1])\n",
    "    else:\n",
    "        # If location is not found, append None to both latitudes and longitudes\n",
    "        latitudes.append(None)\n",
    "        longitudes.append(None)\n",
    "\n",
    "# Create a DataFrame for mountain locations\n",
    "mountain_df = pd.DataFrame({\n",
    "    'Mountain': df['Mountain'].unique(),\n",
    "    'latitude': latitudes,\n",
    "    'longitude': longitudes\n",
    "})\n",
    "\n",
    "# Merge the two DataFrames on the 'Mountain' column\n",
    "mountain_df = mountain_df.merge(value_counts_df, on='Mountain')\n",
    "\n",
    "print('done in {}'.format(now() - time_start))"
   ]
  },
  {
   "cell_type": "code",
   "execution_count": 20,
   "metadata": {
    "execution": {
     "iopub.execute_input": "2024-02-12T01:39:17.419782Z",
     "iopub.status.busy": "2024-02-12T01:39:17.419308Z",
     "iopub.status.idle": "2024-02-12T01:39:20.222691Z",
     "shell.execute_reply": "2024-02-12T01:39:20.221769Z",
     "shell.execute_reply.started": "2024-02-12T01:39:17.419742Z"
    }
   },
   "outputs": [
    {
     "data": {
      "application/vnd.plotly.v1+json": {
       "config": {
        "plotlyServerURL": "https://plot.ly"
       },
       "data": [
        {
         "hovertemplate": "<b>%{hovertext}</b><br><br>count=%{marker.size}<br>latitude=%{lat}<br>longitude=%{lon}<extra></extra>",
         "hovertext": [
          "K2",
          "Kangchenjunga",
          "Lhotse",
          "Makalu",
          "Cho Oyu",
          "Dhaulagiri I",
          "Manaslu",
          "Nanga Parbat",
          "Annapurna I",
          "Gasherbrum I",
          "Broad Peak",
          "Gasherbrum II",
          "Shishapangma",
          "Mount Everest"
         ],
         "lat": [
          35.88091000000003,
          27.703140000000076,
          27.96204000000006,
          27.889880000000062,
          28.09405000000004,
          30.347000000000037,
          28.549920000000043,
          35.237310000000036,
          28.59564000000006,
          35.72443000000004,
          51.41640000000007,
          35.75780000000003,
          28.353980000000035,
          27.987910000000056
         ],
         "legendgroup": "",
         "lon": [
          76.51334000000008,
          88.14739000000003,
          86.93370000000004,
          87.08944000000008,
          86.66080000000005,
          78.17892000000006,
          84.55962000000005,
          74.58914000000004,
          83.82053000000008,
          76.69641000000007,
          -125.50304999999997,
          76.65298000000007,
          85.77807000000007,
          86.92529000000007
         ],
         "marker": {
          "color": "#636efa",
          "size": [
           96,
           59,
           33,
           49,
           52,
           83,
           89,
           86,
           74,
           34,
           37,
           24,
           31,
           331
          ],
          "sizemode": "area",
          "sizeref": 0.8275
         },
         "mode": "markers",
         "name": "",
         "showlegend": false,
         "subplot": "mapbox",
         "type": "scattermapbox"
        }
       ],
       "layout": {
        "height": 900,
        "legend": {
         "itemsizing": "constant",
         "tracegroupgap": 0
        },
        "mapbox": {
         "center": {
          "lat": 32.10717214285719,
          "lon": 67.64589857142865
         },
         "domain": {
          "x": [
           0,
           1
          ],
          "y": [
           0,
           1
          ]
         },
         "style": "open-street-map",
         "zoom": 3
        },
        "margin": {
         "t": 60
        },
        "template": {
         "data": {
          "bar": [
           {
            "error_x": {
             "color": "#2a3f5f"
            },
            "error_y": {
             "color": "#2a3f5f"
            },
            "marker": {
             "line": {
              "color": "#E5ECF6",
              "width": 0.5
             },
             "pattern": {
              "fillmode": "overlay",
              "size": 10,
              "solidity": 0.2
             }
            },
            "type": "bar"
           }
          ],
          "barpolar": [
           {
            "marker": {
             "line": {
              "color": "#E5ECF6",
              "width": 0.5
             },
             "pattern": {
              "fillmode": "overlay",
              "size": 10,
              "solidity": 0.2
             }
            },
            "type": "barpolar"
           }
          ],
          "carpet": [
           {
            "aaxis": {
             "endlinecolor": "#2a3f5f",
             "gridcolor": "white",
             "linecolor": "white",
             "minorgridcolor": "white",
             "startlinecolor": "#2a3f5f"
            },
            "baxis": {
             "endlinecolor": "#2a3f5f",
             "gridcolor": "white",
             "linecolor": "white",
             "minorgridcolor": "white",
             "startlinecolor": "#2a3f5f"
            },
            "type": "carpet"
           }
          ],
          "choropleth": [
           {
            "colorbar": {
             "outlinewidth": 0,
             "ticks": ""
            },
            "type": "choropleth"
           }
          ],
          "contour": [
           {
            "colorbar": {
             "outlinewidth": 0,
             "ticks": ""
            },
            "colorscale": [
             [
              0,
              "#0d0887"
             ],
             [
              0.1111111111111111,
              "#46039f"
             ],
             [
              0.2222222222222222,
              "#7201a8"
             ],
             [
              0.3333333333333333,
              "#9c179e"
             ],
             [
              0.4444444444444444,
              "#bd3786"
             ],
             [
              0.5555555555555556,
              "#d8576b"
             ],
             [
              0.6666666666666666,
              "#ed7953"
             ],
             [
              0.7777777777777778,
              "#fb9f3a"
             ],
             [
              0.8888888888888888,
              "#fdca26"
             ],
             [
              1,
              "#f0f921"
             ]
            ],
            "type": "contour"
           }
          ],
          "contourcarpet": [
           {
            "colorbar": {
             "outlinewidth": 0,
             "ticks": ""
            },
            "type": "contourcarpet"
           }
          ],
          "heatmap": [
           {
            "colorbar": {
             "outlinewidth": 0,
             "ticks": ""
            },
            "colorscale": [
             [
              0,
              "#0d0887"
             ],
             [
              0.1111111111111111,
              "#46039f"
             ],
             [
              0.2222222222222222,
              "#7201a8"
             ],
             [
              0.3333333333333333,
              "#9c179e"
             ],
             [
              0.4444444444444444,
              "#bd3786"
             ],
             [
              0.5555555555555556,
              "#d8576b"
             ],
             [
              0.6666666666666666,
              "#ed7953"
             ],
             [
              0.7777777777777778,
              "#fb9f3a"
             ],
             [
              0.8888888888888888,
              "#fdca26"
             ],
             [
              1,
              "#f0f921"
             ]
            ],
            "type": "heatmap"
           }
          ],
          "heatmapgl": [
           {
            "colorbar": {
             "outlinewidth": 0,
             "ticks": ""
            },
            "colorscale": [
             [
              0,
              "#0d0887"
             ],
             [
              0.1111111111111111,
              "#46039f"
             ],
             [
              0.2222222222222222,
              "#7201a8"
             ],
             [
              0.3333333333333333,
              "#9c179e"
             ],
             [
              0.4444444444444444,
              "#bd3786"
             ],
             [
              0.5555555555555556,
              "#d8576b"
             ],
             [
              0.6666666666666666,
              "#ed7953"
             ],
             [
              0.7777777777777778,
              "#fb9f3a"
             ],
             [
              0.8888888888888888,
              "#fdca26"
             ],
             [
              1,
              "#f0f921"
             ]
            ],
            "type": "heatmapgl"
           }
          ],
          "histogram": [
           {
            "marker": {
             "pattern": {
              "fillmode": "overlay",
              "size": 10,
              "solidity": 0.2
             }
            },
            "type": "histogram"
           }
          ],
          "histogram2d": [
           {
            "colorbar": {
             "outlinewidth": 0,
             "ticks": ""
            },
            "colorscale": [
             [
              0,
              "#0d0887"
             ],
             [
              0.1111111111111111,
              "#46039f"
             ],
             [
              0.2222222222222222,
              "#7201a8"
             ],
             [
              0.3333333333333333,
              "#9c179e"
             ],
             [
              0.4444444444444444,
              "#bd3786"
             ],
             [
              0.5555555555555556,
              "#d8576b"
             ],
             [
              0.6666666666666666,
              "#ed7953"
             ],
             [
              0.7777777777777778,
              "#fb9f3a"
             ],
             [
              0.8888888888888888,
              "#fdca26"
             ],
             [
              1,
              "#f0f921"
             ]
            ],
            "type": "histogram2d"
           }
          ],
          "histogram2dcontour": [
           {
            "colorbar": {
             "outlinewidth": 0,
             "ticks": ""
            },
            "colorscale": [
             [
              0,
              "#0d0887"
             ],
             [
              0.1111111111111111,
              "#46039f"
             ],
             [
              0.2222222222222222,
              "#7201a8"
             ],
             [
              0.3333333333333333,
              "#9c179e"
             ],
             [
              0.4444444444444444,
              "#bd3786"
             ],
             [
              0.5555555555555556,
              "#d8576b"
             ],
             [
              0.6666666666666666,
              "#ed7953"
             ],
             [
              0.7777777777777778,
              "#fb9f3a"
             ],
             [
              0.8888888888888888,
              "#fdca26"
             ],
             [
              1,
              "#f0f921"
             ]
            ],
            "type": "histogram2dcontour"
           }
          ],
          "mesh3d": [
           {
            "colorbar": {
             "outlinewidth": 0,
             "ticks": ""
            },
            "type": "mesh3d"
           }
          ],
          "parcoords": [
           {
            "line": {
             "colorbar": {
              "outlinewidth": 0,
              "ticks": ""
             }
            },
            "type": "parcoords"
           }
          ],
          "pie": [
           {
            "automargin": true,
            "type": "pie"
           }
          ],
          "scatter": [
           {
            "fillpattern": {
             "fillmode": "overlay",
             "size": 10,
             "solidity": 0.2
            },
            "type": "scatter"
           }
          ],
          "scatter3d": [
           {
            "line": {
             "colorbar": {
              "outlinewidth": 0,
              "ticks": ""
             }
            },
            "marker": {
             "colorbar": {
              "outlinewidth": 0,
              "ticks": ""
             }
            },
            "type": "scatter3d"
           }
          ],
          "scattercarpet": [
           {
            "marker": {
             "colorbar": {
              "outlinewidth": 0,
              "ticks": ""
             }
            },
            "type": "scattercarpet"
           }
          ],
          "scattergeo": [
           {
            "marker": {
             "colorbar": {
              "outlinewidth": 0,
              "ticks": ""
             }
            },
            "type": "scattergeo"
           }
          ],
          "scattergl": [
           {
            "marker": {
             "colorbar": {
              "outlinewidth": 0,
              "ticks": ""
             }
            },
            "type": "scattergl"
           }
          ],
          "scattermapbox": [
           {
            "marker": {
             "colorbar": {
              "outlinewidth": 0,
              "ticks": ""
             }
            },
            "type": "scattermapbox"
           }
          ],
          "scatterpolar": [
           {
            "marker": {
             "colorbar": {
              "outlinewidth": 0,
              "ticks": ""
             }
            },
            "type": "scatterpolar"
           }
          ],
          "scatterpolargl": [
           {
            "marker": {
             "colorbar": {
              "outlinewidth": 0,
              "ticks": ""
             }
            },
            "type": "scatterpolargl"
           }
          ],
          "scatterternary": [
           {
            "marker": {
             "colorbar": {
              "outlinewidth": 0,
              "ticks": ""
             }
            },
            "type": "scatterternary"
           }
          ],
          "surface": [
           {
            "colorbar": {
             "outlinewidth": 0,
             "ticks": ""
            },
            "colorscale": [
             [
              0,
              "#0d0887"
             ],
             [
              0.1111111111111111,
              "#46039f"
             ],
             [
              0.2222222222222222,
              "#7201a8"
             ],
             [
              0.3333333333333333,
              "#9c179e"
             ],
             [
              0.4444444444444444,
              "#bd3786"
             ],
             [
              0.5555555555555556,
              "#d8576b"
             ],
             [
              0.6666666666666666,
              "#ed7953"
             ],
             [
              0.7777777777777778,
              "#fb9f3a"
             ],
             [
              0.8888888888888888,
              "#fdca26"
             ],
             [
              1,
              "#f0f921"
             ]
            ],
            "type": "surface"
           }
          ],
          "table": [
           {
            "cells": {
             "fill": {
              "color": "#EBF0F8"
             },
             "line": {
              "color": "white"
             }
            },
            "header": {
             "fill": {
              "color": "#C8D4E3"
             },
             "line": {
              "color": "white"
             }
            },
            "type": "table"
           }
          ]
         },
         "layout": {
          "annotationdefaults": {
           "arrowcolor": "#2a3f5f",
           "arrowhead": 0,
           "arrowwidth": 1
          },
          "autotypenumbers": "strict",
          "coloraxis": {
           "colorbar": {
            "outlinewidth": 0,
            "ticks": ""
           }
          },
          "colorscale": {
           "diverging": [
            [
             0,
             "#8e0152"
            ],
            [
             0.1,
             "#c51b7d"
            ],
            [
             0.2,
             "#de77ae"
            ],
            [
             0.3,
             "#f1b6da"
            ],
            [
             0.4,
             "#fde0ef"
            ],
            [
             0.5,
             "#f7f7f7"
            ],
            [
             0.6,
             "#e6f5d0"
            ],
            [
             0.7,
             "#b8e186"
            ],
            [
             0.8,
             "#7fbc41"
            ],
            [
             0.9,
             "#4d9221"
            ],
            [
             1,
             "#276419"
            ]
           ],
           "sequential": [
            [
             0,
             "#0d0887"
            ],
            [
             0.1111111111111111,
             "#46039f"
            ],
            [
             0.2222222222222222,
             "#7201a8"
            ],
            [
             0.3333333333333333,
             "#9c179e"
            ],
            [
             0.4444444444444444,
             "#bd3786"
            ],
            [
             0.5555555555555556,
             "#d8576b"
            ],
            [
             0.6666666666666666,
             "#ed7953"
            ],
            [
             0.7777777777777778,
             "#fb9f3a"
            ],
            [
             0.8888888888888888,
             "#fdca26"
            ],
            [
             1,
             "#f0f921"
            ]
           ],
           "sequentialminus": [
            [
             0,
             "#0d0887"
            ],
            [
             0.1111111111111111,
             "#46039f"
            ],
            [
             0.2222222222222222,
             "#7201a8"
            ],
            [
             0.3333333333333333,
             "#9c179e"
            ],
            [
             0.4444444444444444,
             "#bd3786"
            ],
            [
             0.5555555555555556,
             "#d8576b"
            ],
            [
             0.6666666666666666,
             "#ed7953"
            ],
            [
             0.7777777777777778,
             "#fb9f3a"
            ],
            [
             0.8888888888888888,
             "#fdca26"
            ],
            [
             1,
             "#f0f921"
            ]
           ]
          },
          "colorway": [
           "#636efa",
           "#EF553B",
           "#00cc96",
           "#ab63fa",
           "#FFA15A",
           "#19d3f3",
           "#FF6692",
           "#B6E880",
           "#FF97FF",
           "#FECB52"
          ],
          "font": {
           "color": "#2a3f5f"
          },
          "geo": {
           "bgcolor": "white",
           "lakecolor": "white",
           "landcolor": "#E5ECF6",
           "showlakes": true,
           "showland": true,
           "subunitcolor": "white"
          },
          "hoverlabel": {
           "align": "left"
          },
          "hovermode": "closest",
          "mapbox": {
           "style": "light"
          },
          "paper_bgcolor": "white",
          "plot_bgcolor": "#E5ECF6",
          "polar": {
           "angularaxis": {
            "gridcolor": "white",
            "linecolor": "white",
            "ticks": ""
           },
           "bgcolor": "#E5ECF6",
           "radialaxis": {
            "gridcolor": "white",
            "linecolor": "white",
            "ticks": ""
           }
          },
          "scene": {
           "xaxis": {
            "backgroundcolor": "#E5ECF6",
            "gridcolor": "white",
            "gridwidth": 2,
            "linecolor": "white",
            "showbackground": true,
            "ticks": "",
            "zerolinecolor": "white"
           },
           "yaxis": {
            "backgroundcolor": "#E5ECF6",
            "gridcolor": "white",
            "gridwidth": 2,
            "linecolor": "white",
            "showbackground": true,
            "ticks": "",
            "zerolinecolor": "white"
           },
           "zaxis": {
            "backgroundcolor": "#E5ECF6",
            "gridcolor": "white",
            "gridwidth": 2,
            "linecolor": "white",
            "showbackground": true,
            "ticks": "",
            "zerolinecolor": "white"
           }
          },
          "shapedefaults": {
           "line": {
            "color": "#2a3f5f"
           }
          },
          "ternary": {
           "aaxis": {
            "gridcolor": "white",
            "linecolor": "white",
            "ticks": ""
           },
           "baxis": {
            "gridcolor": "white",
            "linecolor": "white",
            "ticks": ""
           },
           "bgcolor": "#E5ECF6",
           "caxis": {
            "gridcolor": "white",
            "linecolor": "white",
            "ticks": ""
           }
          },
          "title": {
           "x": 0.05
          },
          "xaxis": {
           "automargin": true,
           "gridcolor": "white",
           "linecolor": "white",
           "ticks": "",
           "title": {
            "standoff": 15
           },
           "zerolinecolor": "white",
           "zerolinewidth": 2
          },
          "yaxis": {
           "automargin": true,
           "gridcolor": "white",
           "linecolor": "white",
           "ticks": "",
           "title": {
            "standoff": 15
           },
           "zerolinecolor": "white",
           "zerolinewidth": 2
          }
         }
        }
       }
      },
      "text/html": [
       "<div>                            <div id=\"baa0119a-20c7-4d54-b2ea-572127da72d9\" class=\"plotly-graph-div\" style=\"height:900px; width:100%;\"></div>            <script type=\"text/javascript\">                require([\"plotly\"], function(Plotly) {                    window.PLOTLYENV=window.PLOTLYENV || {};                                    if (document.getElementById(\"baa0119a-20c7-4d54-b2ea-572127da72d9\")) {                    Plotly.newPlot(                        \"baa0119a-20c7-4d54-b2ea-572127da72d9\",                        [{\"hovertemplate\":\"<b>%{hovertext}</b><br><br>count=%{marker.size}<br>latitude=%{lat}<br>longitude=%{lon}<extra></extra>\",\"hovertext\":[\"K2\",\"Kangchenjunga\",\"Lhotse\",\"Makalu\",\"Cho Oyu\",\"Dhaulagiri I\",\"Manaslu\",\"Nanga Parbat\",\"Annapurna I\",\"Gasherbrum I\",\"Broad Peak\",\"Gasherbrum II\",\"Shishapangma\",\"Mount Everest\"],\"lat\":[35.88091000000003,27.703140000000076,27.96204000000006,27.889880000000062,28.09405000000004,30.347000000000037,28.549920000000043,35.237310000000036,28.59564000000006,35.72443000000004,51.41640000000007,35.75780000000003,28.353980000000035,27.987910000000056],\"legendgroup\":\"\",\"lon\":[76.51334000000008,88.14739000000003,86.93370000000004,87.08944000000008,86.66080000000005,78.17892000000006,84.55962000000005,74.58914000000004,83.82053000000008,76.69641000000007,-125.50304999999997,76.65298000000007,85.77807000000007,86.92529000000007],\"marker\":{\"color\":\"#636efa\",\"size\":[96,59,33,49,52,83,89,86,74,34,37,24,31,331],\"sizemode\":\"area\",\"sizeref\":0.8275},\"mode\":\"markers\",\"name\":\"\",\"showlegend\":false,\"subplot\":\"mapbox\",\"type\":\"scattermapbox\"}],                        {\"template\":{\"data\":{\"histogram2dcontour\":[{\"type\":\"histogram2dcontour\",\"colorbar\":{\"outlinewidth\":0,\"ticks\":\"\"},\"colorscale\":[[0.0,\"#0d0887\"],[0.1111111111111111,\"#46039f\"],[0.2222222222222222,\"#7201a8\"],[0.3333333333333333,\"#9c179e\"],[0.4444444444444444,\"#bd3786\"],[0.5555555555555556,\"#d8576b\"],[0.6666666666666666,\"#ed7953\"],[0.7777777777777778,\"#fb9f3a\"],[0.8888888888888888,\"#fdca26\"],[1.0,\"#f0f921\"]]}],\"choropleth\":[{\"type\":\"choropleth\",\"colorbar\":{\"outlinewidth\":0,\"ticks\":\"\"}}],\"histogram2d\":[{\"type\":\"histogram2d\",\"colorbar\":{\"outlinewidth\":0,\"ticks\":\"\"},\"colorscale\":[[0.0,\"#0d0887\"],[0.1111111111111111,\"#46039f\"],[0.2222222222222222,\"#7201a8\"],[0.3333333333333333,\"#9c179e\"],[0.4444444444444444,\"#bd3786\"],[0.5555555555555556,\"#d8576b\"],[0.6666666666666666,\"#ed7953\"],[0.7777777777777778,\"#fb9f3a\"],[0.8888888888888888,\"#fdca26\"],[1.0,\"#f0f921\"]]}],\"heatmap\":[{\"type\":\"heatmap\",\"colorbar\":{\"outlinewidth\":0,\"ticks\":\"\"},\"colorscale\":[[0.0,\"#0d0887\"],[0.1111111111111111,\"#46039f\"],[0.2222222222222222,\"#7201a8\"],[0.3333333333333333,\"#9c179e\"],[0.4444444444444444,\"#bd3786\"],[0.5555555555555556,\"#d8576b\"],[0.6666666666666666,\"#ed7953\"],[0.7777777777777778,\"#fb9f3a\"],[0.8888888888888888,\"#fdca26\"],[1.0,\"#f0f921\"]]}],\"heatmapgl\":[{\"type\":\"heatmapgl\",\"colorbar\":{\"outlinewidth\":0,\"ticks\":\"\"},\"colorscale\":[[0.0,\"#0d0887\"],[0.1111111111111111,\"#46039f\"],[0.2222222222222222,\"#7201a8\"],[0.3333333333333333,\"#9c179e\"],[0.4444444444444444,\"#bd3786\"],[0.5555555555555556,\"#d8576b\"],[0.6666666666666666,\"#ed7953\"],[0.7777777777777778,\"#fb9f3a\"],[0.8888888888888888,\"#fdca26\"],[1.0,\"#f0f921\"]]}],\"contourcarpet\":[{\"type\":\"contourcarpet\",\"colorbar\":{\"outlinewidth\":0,\"ticks\":\"\"}}],\"contour\":[{\"type\":\"contour\",\"colorbar\":{\"outlinewidth\":0,\"ticks\":\"\"},\"colorscale\":[[0.0,\"#0d0887\"],[0.1111111111111111,\"#46039f\"],[0.2222222222222222,\"#7201a8\"],[0.3333333333333333,\"#9c179e\"],[0.4444444444444444,\"#bd3786\"],[0.5555555555555556,\"#d8576b\"],[0.6666666666666666,\"#ed7953\"],[0.7777777777777778,\"#fb9f3a\"],[0.8888888888888888,\"#fdca26\"],[1.0,\"#f0f921\"]]}],\"surface\":[{\"type\":\"surface\",\"colorbar\":{\"outlinewidth\":0,\"ticks\":\"\"},\"colorscale\":[[0.0,\"#0d0887\"],[0.1111111111111111,\"#46039f\"],[0.2222222222222222,\"#7201a8\"],[0.3333333333333333,\"#9c179e\"],[0.4444444444444444,\"#bd3786\"],[0.5555555555555556,\"#d8576b\"],[0.6666666666666666,\"#ed7953\"],[0.7777777777777778,\"#fb9f3a\"],[0.8888888888888888,\"#fdca26\"],[1.0,\"#f0f921\"]]}],\"mesh3d\":[{\"type\":\"mesh3d\",\"colorbar\":{\"outlinewidth\":0,\"ticks\":\"\"}}],\"scatter\":[{\"fillpattern\":{\"fillmode\":\"overlay\",\"size\":10,\"solidity\":0.2},\"type\":\"scatter\"}],\"parcoords\":[{\"type\":\"parcoords\",\"line\":{\"colorbar\":{\"outlinewidth\":0,\"ticks\":\"\"}}}],\"scatterpolargl\":[{\"type\":\"scatterpolargl\",\"marker\":{\"colorbar\":{\"outlinewidth\":0,\"ticks\":\"\"}}}],\"bar\":[{\"error_x\":{\"color\":\"#2a3f5f\"},\"error_y\":{\"color\":\"#2a3f5f\"},\"marker\":{\"line\":{\"color\":\"#E5ECF6\",\"width\":0.5},\"pattern\":{\"fillmode\":\"overlay\",\"size\":10,\"solidity\":0.2}},\"type\":\"bar\"}],\"scattergeo\":[{\"type\":\"scattergeo\",\"marker\":{\"colorbar\":{\"outlinewidth\":0,\"ticks\":\"\"}}}],\"scatterpolar\":[{\"type\":\"scatterpolar\",\"marker\":{\"colorbar\":{\"outlinewidth\":0,\"ticks\":\"\"}}}],\"histogram\":[{\"marker\":{\"pattern\":{\"fillmode\":\"overlay\",\"size\":10,\"solidity\":0.2}},\"type\":\"histogram\"}],\"scattergl\":[{\"type\":\"scattergl\",\"marker\":{\"colorbar\":{\"outlinewidth\":0,\"ticks\":\"\"}}}],\"scatter3d\":[{\"type\":\"scatter3d\",\"line\":{\"colorbar\":{\"outlinewidth\":0,\"ticks\":\"\"}},\"marker\":{\"colorbar\":{\"outlinewidth\":0,\"ticks\":\"\"}}}],\"scattermapbox\":[{\"type\":\"scattermapbox\",\"marker\":{\"colorbar\":{\"outlinewidth\":0,\"ticks\":\"\"}}}],\"scatterternary\":[{\"type\":\"scatterternary\",\"marker\":{\"colorbar\":{\"outlinewidth\":0,\"ticks\":\"\"}}}],\"scattercarpet\":[{\"type\":\"scattercarpet\",\"marker\":{\"colorbar\":{\"outlinewidth\":0,\"ticks\":\"\"}}}],\"carpet\":[{\"aaxis\":{\"endlinecolor\":\"#2a3f5f\",\"gridcolor\":\"white\",\"linecolor\":\"white\",\"minorgridcolor\":\"white\",\"startlinecolor\":\"#2a3f5f\"},\"baxis\":{\"endlinecolor\":\"#2a3f5f\",\"gridcolor\":\"white\",\"linecolor\":\"white\",\"minorgridcolor\":\"white\",\"startlinecolor\":\"#2a3f5f\"},\"type\":\"carpet\"}],\"table\":[{\"cells\":{\"fill\":{\"color\":\"#EBF0F8\"},\"line\":{\"color\":\"white\"}},\"header\":{\"fill\":{\"color\":\"#C8D4E3\"},\"line\":{\"color\":\"white\"}},\"type\":\"table\"}],\"barpolar\":[{\"marker\":{\"line\":{\"color\":\"#E5ECF6\",\"width\":0.5},\"pattern\":{\"fillmode\":\"overlay\",\"size\":10,\"solidity\":0.2}},\"type\":\"barpolar\"}],\"pie\":[{\"automargin\":true,\"type\":\"pie\"}]},\"layout\":{\"autotypenumbers\":\"strict\",\"colorway\":[\"#636efa\",\"#EF553B\",\"#00cc96\",\"#ab63fa\",\"#FFA15A\",\"#19d3f3\",\"#FF6692\",\"#B6E880\",\"#FF97FF\",\"#FECB52\"],\"font\":{\"color\":\"#2a3f5f\"},\"hovermode\":\"closest\",\"hoverlabel\":{\"align\":\"left\"},\"paper_bgcolor\":\"white\",\"plot_bgcolor\":\"#E5ECF6\",\"polar\":{\"bgcolor\":\"#E5ECF6\",\"angularaxis\":{\"gridcolor\":\"white\",\"linecolor\":\"white\",\"ticks\":\"\"},\"radialaxis\":{\"gridcolor\":\"white\",\"linecolor\":\"white\",\"ticks\":\"\"}},\"ternary\":{\"bgcolor\":\"#E5ECF6\",\"aaxis\":{\"gridcolor\":\"white\",\"linecolor\":\"white\",\"ticks\":\"\"},\"baxis\":{\"gridcolor\":\"white\",\"linecolor\":\"white\",\"ticks\":\"\"},\"caxis\":{\"gridcolor\":\"white\",\"linecolor\":\"white\",\"ticks\":\"\"}},\"coloraxis\":{\"colorbar\":{\"outlinewidth\":0,\"ticks\":\"\"}},\"colorscale\":{\"sequential\":[[0.0,\"#0d0887\"],[0.1111111111111111,\"#46039f\"],[0.2222222222222222,\"#7201a8\"],[0.3333333333333333,\"#9c179e\"],[0.4444444444444444,\"#bd3786\"],[0.5555555555555556,\"#d8576b\"],[0.6666666666666666,\"#ed7953\"],[0.7777777777777778,\"#fb9f3a\"],[0.8888888888888888,\"#fdca26\"],[1.0,\"#f0f921\"]],\"sequentialminus\":[[0.0,\"#0d0887\"],[0.1111111111111111,\"#46039f\"],[0.2222222222222222,\"#7201a8\"],[0.3333333333333333,\"#9c179e\"],[0.4444444444444444,\"#bd3786\"],[0.5555555555555556,\"#d8576b\"],[0.6666666666666666,\"#ed7953\"],[0.7777777777777778,\"#fb9f3a\"],[0.8888888888888888,\"#fdca26\"],[1.0,\"#f0f921\"]],\"diverging\":[[0,\"#8e0152\"],[0.1,\"#c51b7d\"],[0.2,\"#de77ae\"],[0.3,\"#f1b6da\"],[0.4,\"#fde0ef\"],[0.5,\"#f7f7f7\"],[0.6,\"#e6f5d0\"],[0.7,\"#b8e186\"],[0.8,\"#7fbc41\"],[0.9,\"#4d9221\"],[1,\"#276419\"]]},\"xaxis\":{\"gridcolor\":\"white\",\"linecolor\":\"white\",\"ticks\":\"\",\"title\":{\"standoff\":15},\"zerolinecolor\":\"white\",\"automargin\":true,\"zerolinewidth\":2},\"yaxis\":{\"gridcolor\":\"white\",\"linecolor\":\"white\",\"ticks\":\"\",\"title\":{\"standoff\":15},\"zerolinecolor\":\"white\",\"automargin\":true,\"zerolinewidth\":2},\"scene\":{\"xaxis\":{\"backgroundcolor\":\"#E5ECF6\",\"gridcolor\":\"white\",\"linecolor\":\"white\",\"showbackground\":true,\"ticks\":\"\",\"zerolinecolor\":\"white\",\"gridwidth\":2},\"yaxis\":{\"backgroundcolor\":\"#E5ECF6\",\"gridcolor\":\"white\",\"linecolor\":\"white\",\"showbackground\":true,\"ticks\":\"\",\"zerolinecolor\":\"white\",\"gridwidth\":2},\"zaxis\":{\"backgroundcolor\":\"#E5ECF6\",\"gridcolor\":\"white\",\"linecolor\":\"white\",\"showbackground\":true,\"ticks\":\"\",\"zerolinecolor\":\"white\",\"gridwidth\":2}},\"shapedefaults\":{\"line\":{\"color\":\"#2a3f5f\"}},\"annotationdefaults\":{\"arrowcolor\":\"#2a3f5f\",\"arrowhead\":0,\"arrowwidth\":1},\"geo\":{\"bgcolor\":\"white\",\"landcolor\":\"#E5ECF6\",\"subunitcolor\":\"white\",\"showland\":true,\"showlakes\":true,\"lakecolor\":\"white\"},\"title\":{\"x\":0.05},\"mapbox\":{\"style\":\"light\"}}},\"mapbox\":{\"domain\":{\"x\":[0.0,1.0],\"y\":[0.0,1.0]},\"center\":{\"lat\":32.10717214285719,\"lon\":67.64589857142865},\"zoom\":3,\"style\":\"open-street-map\"},\"legend\":{\"tracegroupgap\":0,\"itemsizing\":\"constant\"},\"margin\":{\"t\":60},\"height\":900},                        {\"responsive\": true}                    ).then(function(){\n",
       "                            \n",
       "var gd = document.getElementById('baa0119a-20c7-4d54-b2ea-572127da72d9');\n",
       "var x = new MutationObserver(function (mutations, observer) {{\n",
       "        var display = window.getComputedStyle(gd).display;\n",
       "        if (!display || display === 'none') {{\n",
       "            console.log([gd, 'removed!']);\n",
       "            Plotly.purge(gd);\n",
       "            observer.disconnect();\n",
       "        }}\n",
       "}});\n",
       "\n",
       "// Listen for the removal of the full notebook cells\n",
       "var notebookContainer = gd.closest('#notebook-container');\n",
       "if (notebookContainer) {{\n",
       "    x.observe(notebookContainer, {childList: true});\n",
       "}}\n",
       "\n",
       "// Listen for the clearing of the current output cell\n",
       "var outputEl = gd.closest('.output');\n",
       "if (outputEl) {{\n",
       "    x.observe(outputEl, {childList: true});\n",
       "}}\n",
       "\n",
       "                        })                };                });            </script>        </div>"
      ]
     },
     "metadata": {},
     "output_type": "display_data"
    }
   ],
   "source": [
    "from plotly.express import scatter_mapbox\n",
    "scatter_mapbox(data_frame=mountain_df, lat='latitude', lon='longitude', size='count', hover_name='Mountain', mapbox_style='open-street-map', zoom=3, height=900)"
   ]
  },
  {
   "cell_type": "code",
   "execution_count": 21,
   "metadata": {
    "execution": {
     "iopub.execute_input": "2024-02-12T01:39:20.22479Z",
     "iopub.status.busy": "2024-02-12T01:39:20.224242Z",
     "iopub.status.idle": "2024-02-12T01:39:20.458312Z",
     "shell.execute_reply": "2024-02-12T01:39:20.45737Z",
     "shell.execute_reply.started": "2024-02-12T01:39:20.22475Z"
    }
   },
   "outputs": [
    {
     "data": {
      "application/vnd.plotly.v1+json": {
       "config": {
        "plotlyServerURL": "https://plot.ly"
       },
       "data": [
        {
         "alignmentgroup": "True",
         "bingroup": "x",
         "hovertemplate": "Mountain=Annapurna I<br>Date=%{x}<br>count=%{y}<extra></extra>",
         "legendgroup": "Annapurna I",
         "marker": {
          "color": "#636efa",
          "pattern": {
           "shape": ""
          }
         },
         "name": "Annapurna I",
         "offsetgroup": "Annapurna I",
         "orientation": "v",
         "showlegend": true,
         "type": "histogram",
         "x": [
          "2023-04-18T00:00:00",
          "1981-09-28T00:00:00",
          "1981-10-31T00:00:00",
          "1982-05-04T00:00:00",
          "1982-05-12T00:00:00",
          "1982-10-17T00:00:00",
          "1982-10-18T00:00:00",
          "1982-10-18T00:00:00",
          "1983-09-24T00:00:00",
          "1983-09-24T00:00:00",
          "1984-04-21T00:00:00",
          "1984-04-21T00:00:00",
          "1984-12-07T00:00:00",
          "1984-12-07T00:00:00",
          "1986-09-23T00:00:00",
          "1987-05-24T00:00:00",
          "1981-09-28T00:00:00",
          "1987-12-20T00:00:00",
          "1981-09-27T00:00:00",
          "1979-09-19T00:00:00",
          "2019-05-03T00:00:00",
          "1970-05-30T00:00:00",
          "1973-05-18T00:00:00",
          "1973-05-18T00:00:00",
          "1973-05-18T00:00:00",
          "1973-05-18T00:00:00",
          "1973-05-18T00:00:00",
          "1973-09-26T00:00:00",
          "1973-09-26T00:00:00",
          "1975-04-16T00:00:00",
          "1978-10-17T00:00:00",
          "1978-10-17T00:00:00",
          "1979-05-01T00:00:00",
          "1979-09-19T00:00:00",
          "1979-09-19T00:00:00",
          "1981-09-27T00:00:00",
          "1987-12-20T00:00:00",
          "1983-09-24T00:00:00",
          "1988-09-29T00:00:00",
          "2004-10-10T00:00:00",
          "2005-05-18T00:00:00",
          "2006-10-22T00:00:00",
          "2007-04-22T00:00:00",
          "2008-05-23T00:00:00",
          "1988-09-29T00:00:00",
          "2010-04-29T00:00:00",
          "2011-10-18T00:00:00",
          "2011-10-18T00:00:00",
          "2011-10-18T00:00:00",
          "2012-05-05T00:00:00",
          "2012-10-07T00:00:00",
          "2012-10-07T00:00:00",
          "2015-03-24T00:00:00",
          "2015-03-24T00:00:00",
          "2004-10-10T00:00:00",
          "1999-04-29T00:00:00",
          "2009-04-01T00:00:00",
          "1998-04-26T00:00:00",
          "1999-04-29T00:00:00",
          "1988-10-01T00:00:00",
          "1988-10-18T00:00:00",
          "1989-10-28T00:00:00",
          "1989-10-28T00:00:00",
          "1991-09-19T00:00:00",
          "1991-09-19T00:00:00",
          "1991-09-19T00:00:00",
          "1991-09-19T00:00:00",
          "1991-09-19T00:00:00",
          "1991-10-20T00:00:00",
          "1992-10-11T00:00:00",
          "1997-03-23T00:00:00",
          "1997-12-25T00:00:00",
          "1997-12-25T00:00:00",
          "1991-09-19T00:00:00"
         ],
         "xaxis": "x",
         "yaxis": "y"
        },
        {
         "alignmentgroup": "True",
         "bingroup": "x",
         "hovertemplate": "Mountain=Broad Peak<br>Date=%{x}<br>count=%{y}<extra></extra>",
         "legendgroup": "Broad Peak",
         "marker": {
          "color": "#EF553B",
          "pattern": {
           "shape": ""
          }
         },
         "name": "Broad Peak",
         "offsetgroup": "Broad Peak",
         "orientation": "v",
         "showlegend": true,
         "type": "histogram",
         "x": [
          "1996-07-20T00:00:00",
          "1990-07-24T00:00:00",
          "1996-07-20T00:00:00",
          "1996-07-20T00:00:00",
          "1995-07-12T00:00:00",
          "1994-06-22T00:00:00",
          "1994-06-11T00:00:00",
          "1988-08-20T00:00:00",
          "1975-07-28T00:00:00",
          "1985-08-18T00:00:00",
          "1985-05-16T00:00:00",
          "1983-06-29T00:00:00",
          "1981-08-05T00:00:00",
          "1975-07-29T00:00:00",
          "1975-07-29T00:00:00",
          "1997-07-16T00:00:00",
          "1986-08-22T00:00:00",
          "1997-07-16T00:00:00",
          "2013-07-08T00:00:00",
          "1998-07-29T00:00:00",
          "1998-07-29T00:00:00",
          "2022-07-19T00:00:00",
          "2022-07-05T00:00:00",
          "2021-07-19T00:00:00",
          "2015-07-01T00:00:00",
          "2013-07-23T00:00:00",
          "2013-07-23T00:00:00",
          "2013-03-06T00:00:00",
          "2013-07-23T00:00:00",
          "2012-07-31T00:00:00",
          "2012-07-31T00:00:00",
          "2011-07-25T00:00:00",
          "2009-07-18T00:00:00",
          "2008-06-30T00:00:00",
          "2013-03-06T00:00:00",
          "2006-07-08T00:00:00",
          "1999-07-11T00:00:00"
         ],
         "xaxis": "x",
         "yaxis": "y"
        },
        {
         "alignmentgroup": "True",
         "bingroup": "x",
         "hovertemplate": "Mountain=Cho Oyu<br>Date=%{x}<br>count=%{y}<extra></extra>",
         "legendgroup": "Cho Oyu",
         "marker": {
          "color": "#00cc96",
          "pattern": {
           "shape": ""
          }
         },
         "name": "Cho Oyu",
         "offsetgroup": "Cho Oyu",
         "orientation": "v",
         "showlegend": true,
         "type": "histogram",
         "x": [
          "2000-09-20T00:00:00",
          "2003-05-14T00:00:00",
          "2002-05-14T00:00:00",
          "2002-04-30T00:00:00",
          "2000-09-20T00:00:00",
          "2000-10-11T00:00:00",
          "2000-09-20T00:00:00",
          "2003-05-16T00:00:00",
          "2001-09-09T00:00:00",
          "2003-10-06T00:00:00",
          "2010-05-03T00:00:00",
          "2005-05-11T00:00:00",
          "2006-05-09T00:00:00",
          "2008-10-03T00:00:00",
          "2008-10-04T00:00:00",
          "2009-06-02T00:00:00",
          "2009-09-26T00:00:00",
          "2000-05-04T00:00:00",
          "2010-10-03T00:00:00",
          "2011-05-22T00:00:00",
          "2011-09-23T00:00:00",
          "2011-09-26T00:00:00",
          "2004-10-13T00:00:00",
          "2000-05-04T00:00:00",
          "1994-01-24T00:00:00",
          "1998-09-26T00:00:00",
          "2018-05-16T00:00:00",
          "1958-04-28T00:00:00",
          "1959-10-02T00:00:00",
          "1959-10-02T00:00:00",
          "1959-10-02T00:00:00",
          "1959-10-02T00:00:00",
          "1964-05-04T00:00:00",
          "1964-05-07T00:00:00",
          "1982-05-19T00:00:00",
          "1986-10-23T00:00:00",
          "1988-05-12T00:00:00",
          "1988-09-29T00:00:00",
          "1989-12-25T00:00:00",
          "1990-01-01T00:00:00",
          "1991-05-11T00:00:00",
          "1991-10-21T00:00:00",
          "1992-05-20T00:00:00",
          "1994-01-24T00:00:00",
          "1996-04-20T00:00:00",
          "1996-10-06T00:00:00",
          "1996-10-10T00:00:00",
          "1998-04-30T00:00:00",
          "1998-05-13T00:00:00",
          "1999-01-01T00:00:00",
          "2019-04-29T00:00:00",
          "1994-10-08T00:00:00"
         ],
         "xaxis": "x",
         "yaxis": "y"
        },
        {
         "alignmentgroup": "True",
         "bingroup": "x",
         "hovertemplate": "Mountain=Dhaulagiri I<br>Date=%{x}<br>count=%{y}<extra></extra>",
         "legendgroup": "Dhaulagiri I",
         "marker": {
          "color": "#ab63fa",
          "pattern": {
           "shape": ""
          }
         },
         "name": "Dhaulagiri I",
         "offsetgroup": "Dhaulagiri I",
         "orientation": "v",
         "showlegend": true,
         "type": "histogram",
         "x": [
          "1979-05-13T00:00:00",
          "2001-10-14T00:00:00",
          "2001-10-11T00:00:00",
          "2000-10-07T00:00:00",
          "2000-09-29T00:00:00",
          "1999-10-24T00:00:00",
          "1999-10-24T00:00:00",
          "1998-10-02T00:00:00",
          "2010-09-28T00:00:00",
          "1998-05-11T00:00:00",
          "1998-05-01T00:00:00",
          "1995-10-06T00:00:00",
          "1995-05-15T00:00:00",
          "1994-10-18T00:00:00",
          "1994-09-26T00:00:00",
          "1993-10-06T00:00:00",
          "1992-05-11T00:00:00",
          "1992-05-11T00:00:00",
          "1992-05-02T00:00:00",
          "1990-10-31T00:00:00",
          "1990-04-29T00:00:00",
          "1989-12-25T00:00:00",
          "1989-12-25T00:00:00",
          "1989-12-25T00:00:00",
          "2001-10-14T00:00:00",
          "2001-10-14T00:00:00",
          "2007-04-30T00:00:00",
          "2007-05-12T00:00:00",
          "2010-09-28T00:00:00",
          "2013-05-23T00:00:00",
          "2013-05-23T00:00:00",
          "2013-05-26T00:00:00",
          "2014-10-15T00:00:00",
          "2014-10-15T00:00:00",
          "2014-10-15T00:00:00",
          "2014-10-15T00:00:00",
          "2014-10-15T00:00:00",
          "2016-05-16T00:00:00",
          "2016-05-19T00:00:00",
          "1989-10-10T00:00:00",
          "2017-05-20T00:00:00",
          "2018-09-27T00:00:00",
          "2022-04-12T00:00:00",
          "2010-09-28T00:00:00",
          "2010-05-13T00:00:00",
          "2010-05-13T00:00:00",
          "2010-05-13T00:00:00",
          "2009-05-01T00:00:00",
          "2009-04-08T00:00:00",
          "2008-05-05T00:00:00",
          "2008-05-05T00:00:00",
          "2007-05-12T00:00:00",
          "2018-04-30T00:00:00",
          "1989-09-25T00:00:00",
          "1998-05-11T00:00:00",
          "1986-09-21T00:00:00",
          "1954-06-30T00:00:00",
          "1956-05-26T00:00:00",
          "1959-04-29T00:00:00",
          "1969-04-28T00:00:00",
          "1969-04-28T00:00:00",
          "1969-04-28T00:00:00",
          "1969-04-28T00:00:00",
          "1969-04-28T00:00:00",
          "1969-04-28T00:00:00",
          "1989-09-25T00:00:00",
          "1969-04-28T00:00:00",
          "1975-03-26T00:00:00",
          "1975-03-26T00:00:00",
          "2010-09-28T00:00:00",
          "1975-03-26T00:00:00",
          "1978-09-23T00:00:00",
          "1978-09-23T00:00:00",
          "1978-09-23T00:00:00",
          "1978-10-20T00:00:00",
          "1979-05-13T00:00:00",
          "1975-03-26T00:00:00",
          "1980-10-07T00:00:00",
          "1981-05-23T00:00:00",
          "1984-10-23T00:00:00",
          "1978-04-21T00:00:00",
          "1975-03-26T00:00:00",
          "1979-05-14T00:00:00"
         ],
         "xaxis": "x",
         "yaxis": "y"
        },
        {
         "alignmentgroup": "True",
         "bingroup": "x",
         "hovertemplate": "Mountain=Gasherbrum I<br>Date=%{x}<br>count=%{y}<extra></extra>",
         "legendgroup": "Gasherbrum I",
         "marker": {
          "color": "#FFA15A",
          "pattern": {
           "shape": ""
          }
         },
         "name": "Gasherbrum I",
         "offsetgroup": "Gasherbrum I",
         "orientation": "v",
         "showlegend": true,
         "type": "histogram",
         "x": [
          "1990-08-19T00:00:00",
          "1990-08-19T00:00:00",
          "1988-06-25T00:00:00",
          "1987-07-29T00:00:00",
          "1987-07-29T00:00:00",
          "1987-07-29T00:00:00",
          "1986-08-18T00:00:00",
          "1986-05-31T00:00:00",
          "1993-05-30T00:00:00",
          "1987-07-29T00:00:00",
          "1996-07-17T00:00:00",
          "1977-06-10T00:00:00",
          "1998-08-01T00:00:00",
          "1998-08-01T00:00:00",
          "2013-08-09T00:00:00",
          "2013-07-22T00:00:00",
          "2013-07-22T00:00:00",
          "2013-07-22T00:00:00",
          "2013-07-07T00:00:00",
          "2012-03-09T00:00:00",
          "2012-03-09T00:00:00",
          "2012-03-09T00:00:00",
          "2008-06-18T00:00:00",
          "1989-07-12T00:00:00",
          "2005-08-05T00:00:00",
          "2004-07-25T00:00:00",
          "2003-09-07T00:00:00",
          "2003-07-15T00:00:00",
          "2003-07-05T00:00:00",
          "2003-07-05T00:00:00",
          "2001-07-09T00:00:00",
          "1998-08-01T00:00:00",
          "2007-07-29T00:00:00",
          "1998-08-01T00:00:00"
         ],
         "xaxis": "x",
         "yaxis": "y"
        },
        {
         "alignmentgroup": "True",
         "bingroup": "x",
         "hovertemplate": "Mountain=Gasherbrum II<br>Date=%{x}<br>count=%{y}<extra></extra>",
         "legendgroup": "Gasherbrum II",
         "marker": {
          "color": "#19d3f3",
          "pattern": {
           "shape": ""
          }
         },
         "name": "Gasherbrum II",
         "offsetgroup": "Gasherbrum II",
         "orientation": "v",
         "showlegend": true,
         "type": "histogram",
         "x": [
          "2000-07-28T00:00:00",
          "2001-07-20T00:00:00",
          "2007-07-03T00:00:00",
          "2007-07-18T00:00:00",
          "2011-07-22T00:00:00",
          "2009-07-21T00:00:00",
          "1989-07-13T00:00:00",
          "2015-07-25T00:00:00",
          "2022-07-05T00:00:00",
          "2007-07-18T00:00:00",
          "1988-07-09T00:00:00",
          "1985-07-11T00:00:00",
          "1988-06-25T00:00:00",
          "1987-06-29T00:00:00",
          "1986-07-12T00:00:00",
          "1985-06-24T00:00:00",
          "1982-07-01T00:00:00",
          "1982-07-01T00:00:00",
          "1982-07-02T00:00:00",
          "1976-06-01T00:00:00",
          "1976-05-27T00:00:00",
          "1975-06-01T00:00:00",
          "1988-07-06T00:00:00",
          "1976-05-27T00:00:00"
         ],
         "xaxis": "x",
         "yaxis": "y"
        },
        {
         "alignmentgroup": "True",
         "bingroup": "x",
         "hovertemplate": "Mountain=K2<br>Date=%{x}<br>count=%{y}<extra></extra>",
         "legendgroup": "K2",
         "marker": {
          "color": "#FF6692",
          "pattern": {
           "shape": ""
          }
         },
         "name": "K2",
         "offsetgroup": "K2",
         "orientation": "v",
         "showlegend": true,
         "type": "histogram",
         "x": [
          "1939-07-31T00:00:00",
          "1939-07-31T00:00:00",
          "1986-06-21T00:00:00",
          "1954-06-21T00:00:00",
          "2008-08-02T00:00:00",
          "2008-08-02T00:00:00",
          "2008-08-02T00:00:00",
          "2008-08-01T00:00:00",
          "2008-08-01T00:00:00",
          "2008-08-01T00:00:00",
          "2007-07-20T00:00:00",
          "2007-07-20T00:00:00",
          "2006-08-13T00:00:00",
          "2006-08-13T00:00:00",
          "2006-08-13T00:00:00",
          "2006-08-13T00:00:00",
          "2004-08-19T00:00:00",
          "2004-08-02T00:00:00",
          "2004-08-02T00:00:00",
          "2004-07-28T00:00:00",
          "2004-06-08T00:00:00",
          "2004-06-08T00:00:00",
          "2004-06-08T00:00:00",
          "2008-08-02T00:00:00",
          "2003-07-21T00:00:00",
          "2008-08-02T00:00:00",
          "2008-08-02T00:00:00",
          "2022-07-22T00:00:00",
          "2022-07-22T00:00:00",
          "2022-07-21T00:00:00",
          "2021-07-25T00:00:00",
          "2021-02-05T00:00:00",
          "2021-02-05T00:00:00",
          "2021-02-05T00:00:00",
          "2021-02-05T00:00:00",
          "2021-01-16T00:00:00",
          "2018-07-22T00:00:00",
          "2018-07-07T00:00:00",
          "2014-07-30T00:00:00",
          "2013-07-27T00:00:00",
          "2013-07-27T00:00:00",
          "2012-02-06T00:00:00",
          "2010-08-06T00:00:00",
          "2010-07-17T00:00:00",
          "2009-06-23T00:00:00",
          "2008-08-02T00:00:00",
          "2008-08-02T00:00:00",
          "2002-07-22T00:00:00",
          "2002-07-13T00:00:00",
          "2001-07-22T00:00:00",
          "1986-08-10T00:00:00",
          "1986-08-10T00:00:00",
          "1986-08-10T00:00:00",
          "1986-08-10T00:00:00",
          "1986-08-07T00:00:00",
          "1986-08-04T00:00:00",
          "1986-08-03T00:00:00",
          "1986-07-16T00:00:00",
          "1986-07-10T00:00:00",
          "1986-06-24T00:00:00",
          "1986-06-24T00:00:00",
          "1986-06-21T00:00:00",
          "1939-07-31T00:00:00",
          "1985-07-07T00:00:00",
          "1982-08-15T00:00:00",
          "1982-07-30T00:00:00",
          "1979-08-19T00:00:00",
          "1979-06-09T00:00:00",
          "1978-06-12T00:00:00",
          "1987-08-24T00:00:00",
          "1989-07-28T00:00:00",
          "1992-08-14T00:00:00",
          "1993-06-15T00:00:00",
          "1999-07-10T00:00:00",
          "1996-08-14T00:00:00",
          "1996-07-29T00:00:00",
          "1995-08-15T00:00:00",
          "1995-08-13T00:00:00",
          "1995-08-13T00:00:00",
          "1995-08-13T00:00:00",
          "1995-08-13T00:00:00",
          "1995-08-13T00:00:00",
          "1953-08-10T00:00:00",
          "1995-08-13T00:00:00",
          "1994-08-11T00:00:00",
          "1994-07-24T00:00:00",
          "1994-07-10T00:00:00",
          "1994-07-10T00:00:00",
          "1994-07-10T00:00:00",
          "1993-07-31T00:00:00",
          "1993-07-30T00:00:00",
          "1993-07-30T00:00:00",
          "1993-07-07T00:00:00",
          "1995-07-06T00:00:00",
          "1939-07-30T00:00:00",
          "2023-07-27T00:00:00"
         ],
         "xaxis": "x",
         "yaxis": "y"
        },
        {
         "alignmentgroup": "True",
         "bingroup": "x",
         "hovertemplate": "Mountain=Kangchenjunga<br>Date=%{x}<br>count=%{y}<extra></extra>",
         "legendgroup": "Kangchenjunga",
         "marker": {
          "color": "#B6E880",
          "pattern": {
           "shape": ""
          }
         },
         "name": "Kangchenjunga",
         "offsetgroup": "Kangchenjunga",
         "orientation": "v",
         "showlegend": true,
         "type": "histogram",
         "x": [
          "2013-05-20T00:00:00",
          "1991-05-03T00:00:00",
          "1989-12-20T00:00:00",
          "1989-12-20T00:00:00",
          "1989-12-20T00:00:00",
          "1988-05-17T00:00:00",
          "1987-05-31T00:00:00",
          "1987-05-25T00:00:00",
          "1987-05-25T00:00:00",
          "1987-05-25T00:00:00",
          "1985-04-22T00:00:00",
          "1985-01-15T00:00:00",
          "1981-10-15T00:00:00",
          "1980-05-04T00:00:00",
          "1980-05-04T00:00:00",
          "1977-04-08T00:00:00",
          "1973-05-15T00:00:00",
          "1955-05-26T00:00:00",
          "1931-08-09T00:00:00",
          "1931-08-09T00:00:00",
          "1931-08-01T00:00:00",
          "1931-07-01T00:00:00",
          "1930-05-08T00:00:00",
          "1929-05-27T00:00:00",
          "1905-09-01T00:00:00",
          "1905-09-01T00:00:00",
          "1905-08-28T00:00:00",
          "2013-05-20T00:00:00",
          "1991-05-03T00:00:00",
          "1991-05-16T00:00:00",
          "1986-01-11T00:00:00",
          "1992-04-25T00:00:00",
          "2013-05-20T00:00:00",
          "2014-05-20T00:00:00",
          "2014-05-20T00:00:00",
          "1992-04-25T00:00:00",
          "2019-05-15T00:00:00",
          "2019-05-16T00:00:00",
          "2019-05-16T00:00:00",
          "2022-05-05T00:00:00",
          "2023-05-25T00:00:00",
          "2013-05-20T00:00:00",
          "2013-05-20T00:00:00",
          "2007-05-24T00:00:00",
          "2002-05-24T00:00:00",
          "2014-05-20T00:00:00",
          "1999-09-14T00:00:00",
          "2000-04-23T00:00:00",
          "1994-10-09T00:00:00",
          "1994-10-23T00:00:00",
          "1995-01-01T00:00:00",
          "1995-10-05T00:00:00",
          "1995-10-06T00:00:00",
          "1994-10-09T00:00:00",
          "1998-05-16T00:00:00",
          "1998-05-16T00:00:00",
          "1999-09-14T00:00:00",
          "1995-10-06T00:00:00",
          "1992-05-13T00:00:00"
         ],
         "xaxis": "x",
         "yaxis": "y"
        },
        {
         "alignmentgroup": "True",
         "bingroup": "x",
         "hovertemplate": "Mountain=Lhotse<br>Date=%{x}<br>count=%{y}<extra></extra>",
         "legendgroup": "Lhotse",
         "marker": {
          "color": "#FF97FF",
          "pattern": {
           "shape": ""
          }
         },
         "name": "Lhotse",
         "offsetgroup": "Lhotse",
         "orientation": "v",
         "showlegend": true,
         "type": "histogram",
         "x": [
          "1980-05-17T00:00:00",
          "1987-09-27T00:00:00",
          "1981-10-16T00:00:00",
          "1981-10-16T00:00:00",
          "1981-10-25T00:00:00",
          "1985-10-25T00:00:00",
          "1986-10-30T00:00:00",
          "1980-04-28T00:00:00",
          "1987-09-15T00:00:00",
          "1987-09-27T00:00:00",
          "2003-10-05T00:00:00",
          "1987-09-27T00:00:00",
          "1989-10-24T00:00:00",
          "1997-05-27T00:00:00",
          "2000-09-17T00:00:00",
          "2003-10-05T00:00:00",
          "2006-05-09T00:00:00",
          "2007-05-21T00:00:00",
          "2009-05-25T00:00:00",
          "2010-05-07T00:00:00",
          "1977-05-12T00:00:00",
          "2012-05-19T00:00:00",
          "1987-09-27T00:00:00",
          "1974-12-17T00:00:00",
          "2012-10-16T00:00:00",
          "2014-04-18T00:00:00",
          "2013-05-20T00:00:00",
          "2022-05-08T00:00:00",
          "2019-05-17T00:00:00",
          "2018-05-17T00:00:00",
          "2016-05-19T00:00:00",
          "2015-04-27T00:00:00",
          "2015-04-25T00:00:00"
         ],
         "xaxis": "x",
         "yaxis": "y"
        },
        {
         "alignmentgroup": "True",
         "bingroup": "x",
         "hovertemplate": "Mountain=Makalu<br>Date=%{x}<br>count=%{y}<extra></extra>",
         "legendgroup": "Makalu",
         "marker": {
          "color": "#FECB52",
          "pattern": {
           "shape": ""
          }
         },
         "name": "Makalu",
         "offsetgroup": "Makalu",
         "orientation": "v",
         "showlegend": true,
         "type": "histogram",
         "x": [
          "1991-10-02T00:00:00",
          "1991-10-08T00:00:00",
          "1995-05-08T00:00:00",
          "1997-10-12T00:00:00",
          "1997-05-21T00:00:00",
          "2021-10-24T00:00:00",
          "1988-10-14T00:00:00",
          "1996-05-14T00:00:00",
          "1986-09-25T00:00:00",
          "1983-01-01T00:00:00",
          "1984-09-13T00:00:00",
          "1983-10-15T00:00:00",
          "1983-10-03T00:00:00",
          "2019-05-24T00:00:00",
          "1978-10-06T00:00:00",
          "1976-05-24T00:00:00",
          "1973-05-21T00:00:00",
          "1954-09-26T00:00:00",
          "1986-01-01T00:00:00",
          "1997-05-24T00:00:00",
          "2019-05-16T00:00:00",
          "2019-05-08T00:00:00",
          "1999-04-30T00:00:00",
          "1999-10-11T00:00:00",
          "2000-05-16T00:00:00",
          "2001-05-14T00:00:00",
          "2002-01-01T00:00:00",
          "2002-01-01T00:00:00",
          "2002-01-01T00:00:00",
          "2002-01-01T00:00:00",
          "2002-01-01T00:00:00",
          "2002-01-01T00:00:00",
          "2002-04-25T00:00:00",
          "2004-05-17T00:00:00",
          "2004-05-18T00:00:00",
          "2005-05-15T00:00:00",
          "2006-01-27T00:00:00",
          "2008-04-24T00:00:00",
          "2008-05-20T00:00:00",
          "2009-05-01T00:00:00",
          "2010-05-26T00:00:00",
          "2011-05-22T00:00:00",
          "2013-04-23T00:00:00",
          "2014-05-02T00:00:00",
          "2016-05-10T00:00:00",
          "2016-05-10T00:00:00",
          "2018-05-15T00:00:00",
          "2019-05-16T00:00:00",
          "1982-09-26T00:00:00"
         ],
         "xaxis": "x",
         "yaxis": "y"
        },
        {
         "alignmentgroup": "True",
         "bingroup": "x",
         "hovertemplate": "Mountain=Manaslu<br>Date=%{x}<br>count=%{y}<extra></extra>",
         "legendgroup": "Manaslu",
         "marker": {
          "color": "#636efa",
          "pattern": {
           "shape": ""
          }
         },
         "name": "Manaslu",
         "offsetgroup": "Manaslu",
         "orientation": "v",
         "showlegend": true,
         "type": "histogram",
         "x": [
          "1990-03-27T00:00:00",
          "2012-09-23T00:00:00",
          "1985-05-04T00:00:00",
          "1985-10-25T00:00:00",
          "1986-05-03T00:00:00",
          "1986-05-04T00:00:00",
          "1987-10-28T00:00:00",
          "1989-05-07T00:00:00",
          "1990-03-27T00:00:00",
          "1990-03-27T00:00:00",
          "1990-09-07T00:00:00",
          "1990-09-07T00:00:00",
          "1990-09-07T00:00:00",
          "1991-05-10T00:00:00",
          "1991-05-10T00:00:00",
          "1992-10-02T00:00:00",
          "1992-10-03T00:00:00",
          "1993-10-21T00:00:00",
          "1993-10-22T00:00:00",
          "1983-12-11T00:00:00",
          "1983-04-24T00:00:00",
          "1983-04-24T00:00:00",
          "1982-12-18T00:00:00",
          "1972-04-10T00:00:00",
          "1972-04-10T00:00:00",
          "1972-04-10T00:00:00",
          "1972-04-10T00:00:00",
          "1972-04-10T00:00:00",
          "1972-04-10T00:00:00",
          "1972-04-10T00:00:00",
          "1972-04-10T00:00:00",
          "1995-05-06T00:00:00",
          "1972-04-10T00:00:00",
          "1972-04-10T00:00:00",
          "1972-04-10T00:00:00",
          "1972-04-25T00:00:00",
          "1972-04-26T00:00:00",
          "1974-05-05T00:00:00",
          "1979-10-08T00:00:00",
          "1982-05-10T00:00:00",
          "1982-05-10T00:00:00",
          "1972-04-10T00:00:00",
          "1995-05-07T00:00:00",
          "1996-10-01T00:00:00",
          "1997-10-08T00:00:00",
          "2012-09-23T00:00:00",
          "2012-09-23T00:00:00",
          "2012-09-23T00:00:00",
          "2012-09-23T00:00:00",
          "2012-09-23T00:00:00",
          "2012-09-23T00:00:00",
          "2012-10-04T00:00:00",
          "2014-09-26T00:00:00",
          "2012-09-23T00:00:00",
          "2015-10-01T00:00:00",
          "2017-09-25T00:00:00",
          "2018-09-08T00:00:00",
          "2018-09-29T00:00:00",
          "2019-09-28T00:00:00",
          "2021-09-29T00:00:00",
          "2022-09-26T00:00:00",
          "2022-09-26T00:00:00",
          "2022-10-02T00:00:00",
          "2016-10-26T00:00:00",
          "1972-04-10T00:00:00",
          "2012-09-23T00:00:00",
          "2012-09-23T00:00:00",
          "1997-10-09T00:00:00",
          "1998-10-26T00:00:00",
          "1998-10-30T00:00:00",
          "2001-10-13T00:00:00",
          "2006-05-28T00:00:00",
          "2008-05-13T00:00:00",
          "2008-10-05T00:00:00",
          "2009-04-28T00:00:00",
          "2012-09-23T00:00:00",
          "2009-05-19T00:00:00",
          "2010-04-24T00:00:00",
          "2010-04-24T00:00:00",
          "2010-09-24T00:00:00",
          "2011-04-29T00:00:00",
          "2011-05-12T00:00:00",
          "2011-05-12T00:00:00",
          "2011-05-12T00:00:00",
          "2012-05-11T00:00:00",
          "2009-10-03T00:00:00",
          "1972-04-10T00:00:00",
          "1972-04-10T00:00:00",
          "1971-05-04T00:00:00"
         ],
         "xaxis": "x",
         "yaxis": "y"
        },
        {
         "alignmentgroup": "True",
         "bingroup": "x",
         "hovertemplate": "Mountain=Mount Everest<br>Date=%{x}<br>count=%{y}<extra></extra>",
         "legendgroup": "Mount Everest",
         "marker": {
          "color": "#EF553B",
          "pattern": {
           "shape": ""
          }
         },
         "name": "Mount Everest",
         "offsetgroup": "Mount Everest",
         "orientation": "v",
         "showlegend": true,
         "type": "histogram",
         "x": [
          "1992-05-02T00:00:00",
          "1992-05-02T00:00:00",
          "1992-05-11T00:00:00",
          "1992-05-23T00:00:00",
          "1992-05-23T00:00:00",
          "1993-01-15T00:00:00",
          "1993-04-23T00:00:00",
          "1993-04-23T00:00:00",
          "1993-05-10T00:00:00",
          "1993-05-16T00:00:00",
          "1993-05-17T00:00:00",
          "1991-05-27T00:00:00",
          "1993-10-05T00:00:00",
          "1993-10-07T00:00:00",
          "1994-04-06T00:00:00",
          "1994-05-09T00:00:00",
          "1994-05-18T00:00:00",
          "1994-05-27T00:00:00",
          "1994-09-12T00:00:00",
          "1995-05-06T00:00:00",
          "1995-09-10T00:00:00",
          "1995-10-14T00:00:00",
          "1996-05-09T00:00:00",
          "1996-05-11T00:00:00",
          "2005-06-04T00:00:00",
          "1996-05-11T00:00:00",
          "2005-05-21T00:00:00",
          "1990-09-14T00:00:00",
          "2009-05-18T00:00:00",
          "2009-05-07T00:00:00",
          "2008-05-22T00:00:00",
          "2007-05-17T00:00:00",
          "2007-05-17T00:00:00",
          "2007-05-17T00:00:00",
          "2007-05-16T00:00:00",
          "2007-05-17T00:00:00",
          "2007-05-17T00:00:00",
          "2007-04-26T00:00:00",
          "2006-05-25T00:00:00",
          "1990-10-07T00:00:00",
          "2006-05-22T00:00:00",
          "2006-05-16T00:00:00",
          "2006-05-15T00:00:00",
          "2006-05-14T00:00:00",
          "2006-05-17T00:00:00",
          "2006-04-21T00:00:00",
          "2006-04-21T00:00:00",
          "2006-04-21T00:00:00",
          "2006-04-07T00:00:00",
          "2005-06-05T00:00:00",
          "1990-09-14T00:00:00",
          "1990-09-14T00:00:00",
          "2006-05-19T00:00:00",
          "1991-05-03T00:00:00",
          "1996-05-11T00:00:00",
          "1996-05-11T00:00:00",
          "2000-05-20T00:00:00",
          "2000-05-21T00:00:00",
          "2001-04-29T00:00:00",
          "2001-05-23T00:00:00",
          "2001-05-24T00:00:00",
          "2001-05-24T00:00:00",
          "2001-10-17T00:00:00",
          "2002-04-30T00:00:00",
          "2002-05-17T00:00:00",
          "2002-09-08T00:00:00",
          "2003-05-27T00:00:00",
          "1999-05-18T00:00:00",
          "2003-05-25T00:00:00",
          "2009-05-19T00:00:00",
          "2003-05-24T00:00:00",
          "2004-05-18T00:00:00",
          "2004-05-18T00:00:00",
          "2004-05-18T00:00:00",
          "2004-05-18T00:00:00",
          "2004-05-20T00:00:00",
          "2004-05-20T00:00:00",
          "2004-05-23T00:00:00",
          "2005-04-28T00:00:00",
          "2005-05-02T00:00:00",
          "2003-05-08T00:00:00",
          "1996-05-11T00:00:00",
          "1999-05-18T00:00:00",
          "1999-05-08T00:00:00",
          "1996-05-11T00:00:00",
          "1996-05-11T00:00:00",
          "1996-05-11T00:00:00",
          "1996-05-19T00:00:00",
          "1996-05-25T00:00:00",
          "1996-06-06T00:00:00",
          "1996-09-25T00:00:00",
          "1996-09-25T00:00:00",
          "1996-09-25T00:00:00",
          "1997-04-23T00:00:00",
          "1997-05-06T00:00:00",
          "1999-05-13T00:00:00",
          "1997-05-07T00:00:00",
          "1997-05-07T00:00:00",
          "1997-05-07T00:00:00",
          "1997-05-08T00:00:00",
          "1997-09-08T00:00:00",
          "1997-09-08T00:00:00",
          "1998-05-24T00:00:00",
          "1998-05-24T00:00:00",
          "2005-05-30T00:00:00",
          "1998-05-25T00:00:00",
          "1998-05-26T00:00:00",
          "1998-07-24T00:00:00",
          "1997-05-07T00:00:00",
          "2009-05-21T00:00:00",
          "2014-04-18T00:00:00",
          "2010-05-19T00:00:00",
          "2015-04-25T00:00:00",
          "2015-04-25T00:00:00",
          "2015-04-25T00:00:00",
          "2015-04-25T00:00:00",
          "2015-04-25T00:00:00",
          "2015-05-01T00:00:00",
          "2016-05-11T00:00:00",
          "2016-05-19T00:00:00",
          "2016-05-21T00:00:00",
          "2016-05-22T00:00:00",
          "2016-05-22T00:00:00",
          "2015-04-25T00:00:00",
          "2016-05-22T00:00:00",
          "2017-05-05T00:00:00",
          "2017-05-20T00:00:00",
          "2017-05-21T00:00:00",
          "2017-05-21T00:00:00",
          "2017-05-21T00:00:00",
          "2018-05-14T00:00:00",
          "2018-05-18T00:00:00",
          "2018-05-20T00:00:00",
          "2018-05-21T00:00:00",
          "2018-05-21T00:00:00",
          "2019-05-16T00:00:00",
          "2016-05-22T00:00:00",
          "2019-05-17T00:00:00",
          "2015-04-25T00:00:00",
          "2015-04-25T00:00:00",
          "2014-04-02T00:00:00",
          "2013-05-22T00:00:00",
          "2013-05-21T00:00:00",
          "2013-05-21T00:00:00",
          "2014-04-18T00:00:00",
          "2014-04-18T00:00:00",
          "2014-04-18T00:00:00",
          "2014-04-18T00:00:00",
          "2014-04-18T00:00:00",
          "2014-04-18T00:00:00",
          "2014-04-18T00:00:00",
          "2015-04-25T00:00:00",
          "2014-04-18T00:00:00",
          "2014-04-18T00:00:00",
          "2014-04-18T00:00:00",
          "2014-04-18T00:00:00",
          "2014-04-18T00:00:00",
          "2015-04-25T00:00:00",
          "2015-04-25T00:00:00",
          "2015-04-25T00:00:00",
          "2015-04-25T00:00:00",
          "2015-04-25T00:00:00",
          "2015-04-25T00:00:00",
          "2015-04-25T00:00:00",
          "2014-04-18T00:00:00",
          "2019-05-22T00:00:00",
          "2019-05-23T00:00:00",
          "2019-05-23T00:00:00",
          "2014-04-18T00:00:00",
          "2013-05-17T00:00:00",
          "2013-05-15T00:00:00",
          "2013-05-07T00:00:00",
          "2013-05-05T00:00:00",
          "2013-05-05T00:00:00",
          "2013-04-07T00:00:00",
          "2012-05-20T00:00:00",
          "2012-05-20T00:00:00",
          "2012-05-20T00:00:00",
          "2012-05-20T00:00:00",
          "1989-12-12T00:00:00",
          "2012-05-19T00:00:00",
          "2012-05-19T00:00:00",
          "2012-04-21T00:00:00",
          "2012-04-20T00:00:00",
          "2012-04-19T00:00:00",
          "2012-04-05T00:00:00",
          "2011-09-15T00:00:00",
          "2011-05-21T00:00:00",
          "2011-05-12T00:00:00",
          "2011-05-09T00:00:00",
          "2011-05-01T00:00:00",
          "2010-05-26T00:00:00",
          "2012-05-19T00:00:00",
          "2023-05-25T00:00:00",
          "2023-05-25T00:00:00",
          "2023-05-21T00:00:00",
          "2019-05-23T00:00:00",
          "2019-05-23T00:00:00",
          "2019-05-24T00:00:00",
          "2019-05-24T00:00:00",
          "2019-05-25T00:00:00",
          "2019-05-27T00:00:00",
          "2021-05-12T00:00:00",
          "2021-05-12T00:00:00",
          "2021-05-18T00:00:00",
          "2021-05-23T00:00:00",
          "2022-04-14T00:00:00",
          "2022-05-07T00:00:00",
          "2022-05-12T00:00:00",
          "2023-04-12T00:00:00",
          "2023-04-12T00:00:00",
          "2023-04-12T00:00:00",
          "2023-05-01T00:00:00",
          "2023-05-16T00:00:00",
          "2023-05-17T00:00:00",
          "2023-05-18T00:00:00",
          "2023-05-18T00:00:00",
          "2023-05-19T00:00:00",
          "2023-05-19T00:00:00",
          "2023-05-20T00:00:00",
          "2023-05-21T00:00:00",
          "2010-04-26T00:00:00",
          "1989-05-28T00:00:00",
          "2023-06-03T00:00:00",
          "1989-05-27T00:00:00",
          "1970-04-09T00:00:00",
          "1970-04-21T00:00:00",
          "1971-04-18T00:00:00",
          "1972-11-16T00:00:00",
          "1973-10-12T00:00:00",
          "1974-09-09T00:00:00",
          "1974-09-09T00:00:00",
          "1974-09-09T00:00:00",
          "1974-09-09T00:00:00",
          "1974-09-09T00:00:00",
          "1974-09-09T00:00:00",
          "1975-05-04T00:00:00",
          "1975-08-01T00:00:00",
          "1975-09-26T00:00:00",
          "1976-04-10T00:00:00",
          "1978-04-18T00:00:00",
          "1978-04-18T00:00:00",
          "1979-05-16T00:00:00",
          "1979-10-02T00:00:00",
          "1979-10-02T00:00:00",
          "1979-10-12T00:00:00",
          "1979-10-12T00:00:00",
          "1979-10-12T00:00:00",
          "1970-04-05T00:00:00",
          "1980-05-02T00:00:00",
          "1970-04-05T00:00:00",
          "1970-04-05T00:00:00",
          "2023-05-26T00:00:00",
          "1989-05-27T00:00:00",
          "1921-06-05T00:00:00",
          "1921-06-05T00:00:00",
          "1922-06-07T00:00:00",
          "1922-06-07T00:00:00",
          "1922-06-07T00:00:00",
          "1922-06-07T00:00:00",
          "1922-06-07T00:00:00",
          "1922-06-07T00:00:00",
          "1922-06-07T00:00:00",
          "1924-05-13T00:00:00",
          "1924-05-17T00:00:00",
          "1924-06-09T00:00:00",
          "1924-06-09T00:00:00",
          "1934-05-31T00:00:00",
          "1952-10-31T00:00:00",
          "1960-04-11T00:00:00",
          "1960-04-29T00:00:00",
          "1962-04-28T00:00:00",
          "1963-03-23T00:00:00",
          "1966-05-01T00:00:00",
          "1969-10-18T00:00:00",
          "1970-04-05T00:00:00",
          "1980-09-06T00:00:00",
          "1970-04-05T00:00:00",
          "1981-01-12T00:00:00",
          "1985-10-11T00:00:00",
          "1986-08-16T00:00:00",
          "1986-09-28T00:00:00",
          "1986-10-04T00:00:00",
          "1986-10-17T00:00:00",
          "1987-01-30T00:00:00",
          "1987-05-21T00:00:00",
          "1987-09-02T00:00:00",
          "1987-10-20T00:00:00",
          "1988-09-20T00:00:00",
          "1988-09-21T00:00:00",
          "1988-10-13T00:00:00",
          "1988-10-13T00:00:00",
          "1988-10-17T00:00:00",
          "1988-10-17T00:00:00",
          "1988-10-17T00:00:00",
          "1988-10-17T00:00:00",
          "1988-12-23T00:00:00",
          "1989-05-10T00:00:00",
          "1989-05-16T00:00:00",
          "1980-09-22T00:00:00",
          "1989-05-27T00:00:00",
          "1989-05-27T00:00:00",
          "1985-10-11T00:00:00",
          "1985-10-11T00:00:00",
          "1988-04-21T00:00:00",
          "1982-10-14T00:00:00",
          "1982-05-17T00:00:00",
          "1985-10-11T00:00:00",
          "1982-08-31T00:00:00",
          "1982-08-31T00:00:00",
          "1982-08-31T00:00:00",
          "1982-09-02T00:00:00",
          "1982-09-27T00:00:00",
          "1982-05-15T00:00:00",
          "1982-12-28T00:00:00",
          "1982-12-28T00:00:00",
          "1983-10-08T00:00:00",
          "1983-10-09T00:00:00",
          "1983-10-08T00:00:00",
          "1984-03-26T00:00:00",
          "1984-04-03T00:00:00",
          "1984-04-21T00:00:00",
          "1984-10-09T00:00:00",
          "1984-10-09T00:00:00",
          "1984-10-16T00:00:00",
          "1984-10-24T00:00:00",
          "1984-10-24T00:00:00",
          "1985-05-12T00:00:00",
          "1985-09-19T00:00:00",
          "1985-10-07T00:00:00",
          "1982-05-17T00:00:00"
         ],
         "xaxis": "x",
         "yaxis": "y"
        },
        {
         "alignmentgroup": "True",
         "bingroup": "x",
         "hovertemplate": "Mountain=Nanga Parbat<br>Date=%{x}<br>count=%{y}<extra></extra>",
         "legendgroup": "Nanga Parbat",
         "marker": {
          "color": "#00cc96",
          "pattern": {
           "shape": ""
          }
         },
         "name": "Nanga Parbat",
         "offsetgroup": "Nanga Parbat",
         "orientation": "v",
         "showlegend": true,
         "type": "histogram",
         "x": [
          "1985-07-10T00:00:00",
          "1984-07-07T00:00:00",
          "1984-12-08T00:00:00",
          "1984-07-07T00:00:00",
          "1962-06-23T00:00:00",
          "1989-07-18T00:00:00",
          "1990-07-03T00:00:00",
          "1990-08-18T00:00:00",
          "1984-07-07T00:00:00",
          "1993-07-07T00:00:00",
          "1989-06-23T00:00:00",
          "1984-07-07T00:00:00",
          "1976-09-26T00:00:00",
          "1983-07-12T00:00:00",
          "1983-07-12T00:00:00",
          "1983-06-17T00:00:00",
          "1982-06-08T00:00:00",
          "1982-06-12T00:00:00",
          "1982-06-04T00:00:00",
          "1982-04-28T00:00:00",
          "1977-07-31T00:00:00",
          "1977-07-31T00:00:00",
          "1971-07-08T00:00:00",
          "1970-06-29T00:00:00",
          "1994-06-24T00:00:00",
          "1983-07-12T00:00:00",
          "1996-06-20T00:00:00",
          "2018-01-28T00:00:00",
          "1997-07-30T00:00:00",
          "1950-12-04T00:00:00",
          "2023-07-03T00:00:00",
          "2019-02-24T00:00:00",
          "2019-02-24T00:00:00",
          "2017-06-24T00:00:00",
          "2017-06-24T00:00:00",
          "2013-06-22T00:00:00",
          "2013-06-22T00:00:00",
          "2013-06-22T00:00:00",
          "2013-06-22T00:00:00",
          "2013-06-22T00:00:00",
          "2013-06-22T00:00:00",
          "1996-06-20T00:00:00",
          "2013-06-22T00:00:00",
          "2013-06-22T00:00:00",
          "2013-06-22T00:00:00",
          "2013-06-22T00:00:00",
          "2013-02-06T00:00:00",
          "2009-07-11T00:00:00",
          "2009-07-10T00:00:00",
          "2008-07-17T00:00:00",
          "2008-07-15T00:00:00",
          "2006-07-28T00:00:00",
          "2006-07-22T00:00:00",
          "2004-07-01T00:00:00",
          "1998-07-26T00:00:00",
          "2013-06-22T00:00:00",
          "1950-12-04T00:00:00",
          "1934-07-10T00:00:00",
          "1937-06-15T00:00:00",
          "1937-06-15T00:00:00",
          "1895-08-24T00:00:00",
          "1895-08-24T00:00:00",
          "1895-08-24T00:00:00",
          "1934-06-08T00:00:00",
          "1934-07-09T00:00:00",
          "1934-07-09T00:00:00",
          "1934-07-10T00:00:00",
          "1934-07-10T00:00:00",
          "1934-07-12T00:00:00",
          "1934-07-17T00:00:00",
          "1934-07-17T00:00:00",
          "1937-06-15T00:00:00",
          "1934-07-10T00:00:00",
          "1937-06-15T00:00:00",
          "1937-06-15T00:00:00",
          "1937-06-15T00:00:00",
          "1937-06-15T00:00:00",
          "1937-06-15T00:00:00",
          "1937-06-15T00:00:00",
          "1937-06-15T00:00:00",
          "1937-06-15T00:00:00",
          "1937-06-15T00:00:00",
          "1937-06-15T00:00:00",
          "1937-06-15T00:00:00",
          "1937-06-15T00:00:00",
          "1937-06-15T00:00:00"
         ],
         "xaxis": "x",
         "yaxis": "y"
        },
        {
         "alignmentgroup": "True",
         "bingroup": "x",
         "hovertemplate": "Mountain=Shishapangma<br>Date=%{x}<br>count=%{y}<extra></extra>",
         "legendgroup": "Shishapangma",
         "marker": {
          "color": "#ab63fa",
          "pattern": {
           "shape": ""
          }
         },
         "name": "Shishapangma",
         "offsetgroup": "Shishapangma",
         "orientation": "v",
         "showlegend": true,
         "type": "histogram",
         "x": [
          "1996-05-01T00:00:00",
          "1991-09-20T00:00:00",
          "1994-10-01T00:00:00",
          "1994-09-18T00:00:00",
          "1993-09-29T00:00:00",
          "1991-09-20T00:00:00",
          "1989-10-04T00:00:00",
          "1991-05-22T00:00:00",
          "1991-05-22T00:00:00",
          "1990-10-15T00:00:00",
          "1983-04-28T00:00:00",
          "1996-05-19T00:00:00",
          "1991-05-22T00:00:00",
          "1996-10-05T00:00:00",
          "2016-04-24T00:00:00",
          "1998-05-21T00:00:00",
          "1999-10-05T00:00:00",
          "1999-10-05T00:00:00",
          "2005-09-28T00:00:00",
          "2005-10-03T00:00:00",
          "2006-10-31T00:00:00",
          "2007-04-24T00:00:00",
          "2009-10-15T00:00:00",
          "2013-05-11T00:00:00",
          "2014-09-24T00:00:00",
          "2014-09-24T00:00:00",
          "2016-04-24T00:00:00",
          "2016-09-30T00:00:00",
          "2018-05-03T00:00:00",
          "1996-10-05T00:00:00",
          "1991-05-22T00:00:00"
         ],
         "xaxis": "x",
         "yaxis": "y"
        }
       ],
       "layout": {
        "barmode": "relative",
        "legend": {
         "title": {
          "text": "Mountain"
         },
         "tracegroupgap": 0
        },
        "margin": {
         "t": 60
        },
        "template": {
         "data": {
          "bar": [
           {
            "error_x": {
             "color": "#2a3f5f"
            },
            "error_y": {
             "color": "#2a3f5f"
            },
            "marker": {
             "line": {
              "color": "#E5ECF6",
              "width": 0.5
             },
             "pattern": {
              "fillmode": "overlay",
              "size": 10,
              "solidity": 0.2
             }
            },
            "type": "bar"
           }
          ],
          "barpolar": [
           {
            "marker": {
             "line": {
              "color": "#E5ECF6",
              "width": 0.5
             },
             "pattern": {
              "fillmode": "overlay",
              "size": 10,
              "solidity": 0.2
             }
            },
            "type": "barpolar"
           }
          ],
          "carpet": [
           {
            "aaxis": {
             "endlinecolor": "#2a3f5f",
             "gridcolor": "white",
             "linecolor": "white",
             "minorgridcolor": "white",
             "startlinecolor": "#2a3f5f"
            },
            "baxis": {
             "endlinecolor": "#2a3f5f",
             "gridcolor": "white",
             "linecolor": "white",
             "minorgridcolor": "white",
             "startlinecolor": "#2a3f5f"
            },
            "type": "carpet"
           }
          ],
          "choropleth": [
           {
            "colorbar": {
             "outlinewidth": 0,
             "ticks": ""
            },
            "type": "choropleth"
           }
          ],
          "contour": [
           {
            "colorbar": {
             "outlinewidth": 0,
             "ticks": ""
            },
            "colorscale": [
             [
              0,
              "#0d0887"
             ],
             [
              0.1111111111111111,
              "#46039f"
             ],
             [
              0.2222222222222222,
              "#7201a8"
             ],
             [
              0.3333333333333333,
              "#9c179e"
             ],
             [
              0.4444444444444444,
              "#bd3786"
             ],
             [
              0.5555555555555556,
              "#d8576b"
             ],
             [
              0.6666666666666666,
              "#ed7953"
             ],
             [
              0.7777777777777778,
              "#fb9f3a"
             ],
             [
              0.8888888888888888,
              "#fdca26"
             ],
             [
              1,
              "#f0f921"
             ]
            ],
            "type": "contour"
           }
          ],
          "contourcarpet": [
           {
            "colorbar": {
             "outlinewidth": 0,
             "ticks": ""
            },
            "type": "contourcarpet"
           }
          ],
          "heatmap": [
           {
            "colorbar": {
             "outlinewidth": 0,
             "ticks": ""
            },
            "colorscale": [
             [
              0,
              "#0d0887"
             ],
             [
              0.1111111111111111,
              "#46039f"
             ],
             [
              0.2222222222222222,
              "#7201a8"
             ],
             [
              0.3333333333333333,
              "#9c179e"
             ],
             [
              0.4444444444444444,
              "#bd3786"
             ],
             [
              0.5555555555555556,
              "#d8576b"
             ],
             [
              0.6666666666666666,
              "#ed7953"
             ],
             [
              0.7777777777777778,
              "#fb9f3a"
             ],
             [
              0.8888888888888888,
              "#fdca26"
             ],
             [
              1,
              "#f0f921"
             ]
            ],
            "type": "heatmap"
           }
          ],
          "heatmapgl": [
           {
            "colorbar": {
             "outlinewidth": 0,
             "ticks": ""
            },
            "colorscale": [
             [
              0,
              "#0d0887"
             ],
             [
              0.1111111111111111,
              "#46039f"
             ],
             [
              0.2222222222222222,
              "#7201a8"
             ],
             [
              0.3333333333333333,
              "#9c179e"
             ],
             [
              0.4444444444444444,
              "#bd3786"
             ],
             [
              0.5555555555555556,
              "#d8576b"
             ],
             [
              0.6666666666666666,
              "#ed7953"
             ],
             [
              0.7777777777777778,
              "#fb9f3a"
             ],
             [
              0.8888888888888888,
              "#fdca26"
             ],
             [
              1,
              "#f0f921"
             ]
            ],
            "type": "heatmapgl"
           }
          ],
          "histogram": [
           {
            "marker": {
             "pattern": {
              "fillmode": "overlay",
              "size": 10,
              "solidity": 0.2
             }
            },
            "type": "histogram"
           }
          ],
          "histogram2d": [
           {
            "colorbar": {
             "outlinewidth": 0,
             "ticks": ""
            },
            "colorscale": [
             [
              0,
              "#0d0887"
             ],
             [
              0.1111111111111111,
              "#46039f"
             ],
             [
              0.2222222222222222,
              "#7201a8"
             ],
             [
              0.3333333333333333,
              "#9c179e"
             ],
             [
              0.4444444444444444,
              "#bd3786"
             ],
             [
              0.5555555555555556,
              "#d8576b"
             ],
             [
              0.6666666666666666,
              "#ed7953"
             ],
             [
              0.7777777777777778,
              "#fb9f3a"
             ],
             [
              0.8888888888888888,
              "#fdca26"
             ],
             [
              1,
              "#f0f921"
             ]
            ],
            "type": "histogram2d"
           }
          ],
          "histogram2dcontour": [
           {
            "colorbar": {
             "outlinewidth": 0,
             "ticks": ""
            },
            "colorscale": [
             [
              0,
              "#0d0887"
             ],
             [
              0.1111111111111111,
              "#46039f"
             ],
             [
              0.2222222222222222,
              "#7201a8"
             ],
             [
              0.3333333333333333,
              "#9c179e"
             ],
             [
              0.4444444444444444,
              "#bd3786"
             ],
             [
              0.5555555555555556,
              "#d8576b"
             ],
             [
              0.6666666666666666,
              "#ed7953"
             ],
             [
              0.7777777777777778,
              "#fb9f3a"
             ],
             [
              0.8888888888888888,
              "#fdca26"
             ],
             [
              1,
              "#f0f921"
             ]
            ],
            "type": "histogram2dcontour"
           }
          ],
          "mesh3d": [
           {
            "colorbar": {
             "outlinewidth": 0,
             "ticks": ""
            },
            "type": "mesh3d"
           }
          ],
          "parcoords": [
           {
            "line": {
             "colorbar": {
              "outlinewidth": 0,
              "ticks": ""
             }
            },
            "type": "parcoords"
           }
          ],
          "pie": [
           {
            "automargin": true,
            "type": "pie"
           }
          ],
          "scatter": [
           {
            "fillpattern": {
             "fillmode": "overlay",
             "size": 10,
             "solidity": 0.2
            },
            "type": "scatter"
           }
          ],
          "scatter3d": [
           {
            "line": {
             "colorbar": {
              "outlinewidth": 0,
              "ticks": ""
             }
            },
            "marker": {
             "colorbar": {
              "outlinewidth": 0,
              "ticks": ""
             }
            },
            "type": "scatter3d"
           }
          ],
          "scattercarpet": [
           {
            "marker": {
             "colorbar": {
              "outlinewidth": 0,
              "ticks": ""
             }
            },
            "type": "scattercarpet"
           }
          ],
          "scattergeo": [
           {
            "marker": {
             "colorbar": {
              "outlinewidth": 0,
              "ticks": ""
             }
            },
            "type": "scattergeo"
           }
          ],
          "scattergl": [
           {
            "marker": {
             "colorbar": {
              "outlinewidth": 0,
              "ticks": ""
             }
            },
            "type": "scattergl"
           }
          ],
          "scattermapbox": [
           {
            "marker": {
             "colorbar": {
              "outlinewidth": 0,
              "ticks": ""
             }
            },
            "type": "scattermapbox"
           }
          ],
          "scatterpolar": [
           {
            "marker": {
             "colorbar": {
              "outlinewidth": 0,
              "ticks": ""
             }
            },
            "type": "scatterpolar"
           }
          ],
          "scatterpolargl": [
           {
            "marker": {
             "colorbar": {
              "outlinewidth": 0,
              "ticks": ""
             }
            },
            "type": "scatterpolargl"
           }
          ],
          "scatterternary": [
           {
            "marker": {
             "colorbar": {
              "outlinewidth": 0,
              "ticks": ""
             }
            },
            "type": "scatterternary"
           }
          ],
          "surface": [
           {
            "colorbar": {
             "outlinewidth": 0,
             "ticks": ""
            },
            "colorscale": [
             [
              0,
              "#0d0887"
             ],
             [
              0.1111111111111111,
              "#46039f"
             ],
             [
              0.2222222222222222,
              "#7201a8"
             ],
             [
              0.3333333333333333,
              "#9c179e"
             ],
             [
              0.4444444444444444,
              "#bd3786"
             ],
             [
              0.5555555555555556,
              "#d8576b"
             ],
             [
              0.6666666666666666,
              "#ed7953"
             ],
             [
              0.7777777777777778,
              "#fb9f3a"
             ],
             [
              0.8888888888888888,
              "#fdca26"
             ],
             [
              1,
              "#f0f921"
             ]
            ],
            "type": "surface"
           }
          ],
          "table": [
           {
            "cells": {
             "fill": {
              "color": "#EBF0F8"
             },
             "line": {
              "color": "white"
             }
            },
            "header": {
             "fill": {
              "color": "#C8D4E3"
             },
             "line": {
              "color": "white"
             }
            },
            "type": "table"
           }
          ]
         },
         "layout": {
          "annotationdefaults": {
           "arrowcolor": "#2a3f5f",
           "arrowhead": 0,
           "arrowwidth": 1
          },
          "autotypenumbers": "strict",
          "coloraxis": {
           "colorbar": {
            "outlinewidth": 0,
            "ticks": ""
           }
          },
          "colorscale": {
           "diverging": [
            [
             0,
             "#8e0152"
            ],
            [
             0.1,
             "#c51b7d"
            ],
            [
             0.2,
             "#de77ae"
            ],
            [
             0.3,
             "#f1b6da"
            ],
            [
             0.4,
             "#fde0ef"
            ],
            [
             0.5,
             "#f7f7f7"
            ],
            [
             0.6,
             "#e6f5d0"
            ],
            [
             0.7,
             "#b8e186"
            ],
            [
             0.8,
             "#7fbc41"
            ],
            [
             0.9,
             "#4d9221"
            ],
            [
             1,
             "#276419"
            ]
           ],
           "sequential": [
            [
             0,
             "#0d0887"
            ],
            [
             0.1111111111111111,
             "#46039f"
            ],
            [
             0.2222222222222222,
             "#7201a8"
            ],
            [
             0.3333333333333333,
             "#9c179e"
            ],
            [
             0.4444444444444444,
             "#bd3786"
            ],
            [
             0.5555555555555556,
             "#d8576b"
            ],
            [
             0.6666666666666666,
             "#ed7953"
            ],
            [
             0.7777777777777778,
             "#fb9f3a"
            ],
            [
             0.8888888888888888,
             "#fdca26"
            ],
            [
             1,
             "#f0f921"
            ]
           ],
           "sequentialminus": [
            [
             0,
             "#0d0887"
            ],
            [
             0.1111111111111111,
             "#46039f"
            ],
            [
             0.2222222222222222,
             "#7201a8"
            ],
            [
             0.3333333333333333,
             "#9c179e"
            ],
            [
             0.4444444444444444,
             "#bd3786"
            ],
            [
             0.5555555555555556,
             "#d8576b"
            ],
            [
             0.6666666666666666,
             "#ed7953"
            ],
            [
             0.7777777777777778,
             "#fb9f3a"
            ],
            [
             0.8888888888888888,
             "#fdca26"
            ],
            [
             1,
             "#f0f921"
            ]
           ]
          },
          "colorway": [
           "#636efa",
           "#EF553B",
           "#00cc96",
           "#ab63fa",
           "#FFA15A",
           "#19d3f3",
           "#FF6692",
           "#B6E880",
           "#FF97FF",
           "#FECB52"
          ],
          "font": {
           "color": "#2a3f5f"
          },
          "geo": {
           "bgcolor": "white",
           "lakecolor": "white",
           "landcolor": "#E5ECF6",
           "showlakes": true,
           "showland": true,
           "subunitcolor": "white"
          },
          "hoverlabel": {
           "align": "left"
          },
          "hovermode": "closest",
          "mapbox": {
           "style": "light"
          },
          "paper_bgcolor": "white",
          "plot_bgcolor": "#E5ECF6",
          "polar": {
           "angularaxis": {
            "gridcolor": "white",
            "linecolor": "white",
            "ticks": ""
           },
           "bgcolor": "#E5ECF6",
           "radialaxis": {
            "gridcolor": "white",
            "linecolor": "white",
            "ticks": ""
           }
          },
          "scene": {
           "xaxis": {
            "backgroundcolor": "#E5ECF6",
            "gridcolor": "white",
            "gridwidth": 2,
            "linecolor": "white",
            "showbackground": true,
            "ticks": "",
            "zerolinecolor": "white"
           },
           "yaxis": {
            "backgroundcolor": "#E5ECF6",
            "gridcolor": "white",
            "gridwidth": 2,
            "linecolor": "white",
            "showbackground": true,
            "ticks": "",
            "zerolinecolor": "white"
           },
           "zaxis": {
            "backgroundcolor": "#E5ECF6",
            "gridcolor": "white",
            "gridwidth": 2,
            "linecolor": "white",
            "showbackground": true,
            "ticks": "",
            "zerolinecolor": "white"
           }
          },
          "shapedefaults": {
           "line": {
            "color": "#2a3f5f"
           }
          },
          "ternary": {
           "aaxis": {
            "gridcolor": "white",
            "linecolor": "white",
            "ticks": ""
           },
           "baxis": {
            "gridcolor": "white",
            "linecolor": "white",
            "ticks": ""
           },
           "bgcolor": "#E5ECF6",
           "caxis": {
            "gridcolor": "white",
            "linecolor": "white",
            "ticks": ""
           }
          },
          "title": {
           "x": 0.05
          },
          "xaxis": {
           "automargin": true,
           "gridcolor": "white",
           "linecolor": "white",
           "ticks": "",
           "title": {
            "standoff": 15
           },
           "zerolinecolor": "white",
           "zerolinewidth": 2
          },
          "yaxis": {
           "automargin": true,
           "gridcolor": "white",
           "linecolor": "white",
           "ticks": "",
           "title": {
            "standoff": 15
           },
           "zerolinecolor": "white",
           "zerolinewidth": 2
          }
         }
        },
        "xaxis": {
         "anchor": "y",
         "domain": [
          0,
          1
         ],
         "title": {
          "text": "Date"
         }
        },
        "yaxis": {
         "anchor": "x",
         "domain": [
          0,
          1
         ],
         "title": {
          "text": "count"
         }
        }
       }
      },
      "text/html": [
       "<div>                            <div id=\"cfbc9126-14e9-4eb4-85e5-5f4b81260fea\" class=\"plotly-graph-div\" style=\"height:525px; width:100%;\"></div>            <script type=\"text/javascript\">                require([\"plotly\"], function(Plotly) {                    window.PLOTLYENV=window.PLOTLYENV || {};                                    if (document.getElementById(\"cfbc9126-14e9-4eb4-85e5-5f4b81260fea\")) {                    Plotly.newPlot(                        \"cfbc9126-14e9-4eb4-85e5-5f4b81260fea\",                        [{\"alignmentgroup\":\"True\",\"bingroup\":\"x\",\"hovertemplate\":\"Mountain=Annapurna I<br>Date=%{x}<br>count=%{y}<extra></extra>\",\"legendgroup\":\"Annapurna I\",\"marker\":{\"color\":\"#636efa\",\"pattern\":{\"shape\":\"\"}},\"name\":\"Annapurna I\",\"offsetgroup\":\"Annapurna I\",\"orientation\":\"v\",\"showlegend\":true,\"x\":[\"2023-04-18T00:00:00\",\"1981-09-28T00:00:00\",\"1981-10-31T00:00:00\",\"1982-05-04T00:00:00\",\"1982-05-12T00:00:00\",\"1982-10-17T00:00:00\",\"1982-10-18T00:00:00\",\"1982-10-18T00:00:00\",\"1983-09-24T00:00:00\",\"1983-09-24T00:00:00\",\"1984-04-21T00:00:00\",\"1984-04-21T00:00:00\",\"1984-12-07T00:00:00\",\"1984-12-07T00:00:00\",\"1986-09-23T00:00:00\",\"1987-05-24T00:00:00\",\"1981-09-28T00:00:00\",\"1987-12-20T00:00:00\",\"1981-09-27T00:00:00\",\"1979-09-19T00:00:00\",\"2019-05-03T00:00:00\",\"1970-05-30T00:00:00\",\"1973-05-18T00:00:00\",\"1973-05-18T00:00:00\",\"1973-05-18T00:00:00\",\"1973-05-18T00:00:00\",\"1973-05-18T00:00:00\",\"1973-09-26T00:00:00\",\"1973-09-26T00:00:00\",\"1975-04-16T00:00:00\",\"1978-10-17T00:00:00\",\"1978-10-17T00:00:00\",\"1979-05-01T00:00:00\",\"1979-09-19T00:00:00\",\"1979-09-19T00:00:00\",\"1981-09-27T00:00:00\",\"1987-12-20T00:00:00\",\"1983-09-24T00:00:00\",\"1988-09-29T00:00:00\",\"2004-10-10T00:00:00\",\"2005-05-18T00:00:00\",\"2006-10-22T00:00:00\",\"2007-04-22T00:00:00\",\"2008-05-23T00:00:00\",\"1988-09-29T00:00:00\",\"2010-04-29T00:00:00\",\"2011-10-18T00:00:00\",\"2011-10-18T00:00:00\",\"2011-10-18T00:00:00\",\"2012-05-05T00:00:00\",\"2012-10-07T00:00:00\",\"2012-10-07T00:00:00\",\"2015-03-24T00:00:00\",\"2015-03-24T00:00:00\",\"2004-10-10T00:00:00\",\"1999-04-29T00:00:00\",\"2009-04-01T00:00:00\",\"1998-04-26T00:00:00\",\"1999-04-29T00:00:00\",\"1988-10-01T00:00:00\",\"1988-10-18T00:00:00\",\"1989-10-28T00:00:00\",\"1989-10-28T00:00:00\",\"1991-09-19T00:00:00\",\"1991-09-19T00:00:00\",\"1991-09-19T00:00:00\",\"1991-09-19T00:00:00\",\"1991-09-19T00:00:00\",\"1991-10-20T00:00:00\",\"1992-10-11T00:00:00\",\"1997-03-23T00:00:00\",\"1997-12-25T00:00:00\",\"1997-12-25T00:00:00\",\"1991-09-19T00:00:00\"],\"xaxis\":\"x\",\"yaxis\":\"y\",\"type\":\"histogram\"},{\"alignmentgroup\":\"True\",\"bingroup\":\"x\",\"hovertemplate\":\"Mountain=Broad Peak<br>Date=%{x}<br>count=%{y}<extra></extra>\",\"legendgroup\":\"Broad Peak\",\"marker\":{\"color\":\"#EF553B\",\"pattern\":{\"shape\":\"\"}},\"name\":\"Broad Peak\",\"offsetgroup\":\"Broad Peak\",\"orientation\":\"v\",\"showlegend\":true,\"x\":[\"1996-07-20T00:00:00\",\"1990-07-24T00:00:00\",\"1996-07-20T00:00:00\",\"1996-07-20T00:00:00\",\"1995-07-12T00:00:00\",\"1994-06-22T00:00:00\",\"1994-06-11T00:00:00\",\"1988-08-20T00:00:00\",\"1975-07-28T00:00:00\",\"1985-08-18T00:00:00\",\"1985-05-16T00:00:00\",\"1983-06-29T00:00:00\",\"1981-08-05T00:00:00\",\"1975-07-29T00:00:00\",\"1975-07-29T00:00:00\",\"1997-07-16T00:00:00\",\"1986-08-22T00:00:00\",\"1997-07-16T00:00:00\",\"2013-07-08T00:00:00\",\"1998-07-29T00:00:00\",\"1998-07-29T00:00:00\",\"2022-07-19T00:00:00\",\"2022-07-05T00:00:00\",\"2021-07-19T00:00:00\",\"2015-07-01T00:00:00\",\"2013-07-23T00:00:00\",\"2013-07-23T00:00:00\",\"2013-03-06T00:00:00\",\"2013-07-23T00:00:00\",\"2012-07-31T00:00:00\",\"2012-07-31T00:00:00\",\"2011-07-25T00:00:00\",\"2009-07-18T00:00:00\",\"2008-06-30T00:00:00\",\"2013-03-06T00:00:00\",\"2006-07-08T00:00:00\",\"1999-07-11T00:00:00\"],\"xaxis\":\"x\",\"yaxis\":\"y\",\"type\":\"histogram\"},{\"alignmentgroup\":\"True\",\"bingroup\":\"x\",\"hovertemplate\":\"Mountain=Cho Oyu<br>Date=%{x}<br>count=%{y}<extra></extra>\",\"legendgroup\":\"Cho Oyu\",\"marker\":{\"color\":\"#00cc96\",\"pattern\":{\"shape\":\"\"}},\"name\":\"Cho Oyu\",\"offsetgroup\":\"Cho Oyu\",\"orientation\":\"v\",\"showlegend\":true,\"x\":[\"2000-09-20T00:00:00\",\"2003-05-14T00:00:00\",\"2002-05-14T00:00:00\",\"2002-04-30T00:00:00\",\"2000-09-20T00:00:00\",\"2000-10-11T00:00:00\",\"2000-09-20T00:00:00\",\"2003-05-16T00:00:00\",\"2001-09-09T00:00:00\",\"2003-10-06T00:00:00\",\"2010-05-03T00:00:00\",\"2005-05-11T00:00:00\",\"2006-05-09T00:00:00\",\"2008-10-03T00:00:00\",\"2008-10-04T00:00:00\",\"2009-06-02T00:00:00\",\"2009-09-26T00:00:00\",\"2000-05-04T00:00:00\",\"2010-10-03T00:00:00\",\"2011-05-22T00:00:00\",\"2011-09-23T00:00:00\",\"2011-09-26T00:00:00\",\"2004-10-13T00:00:00\",\"2000-05-04T00:00:00\",\"1994-01-24T00:00:00\",\"1998-09-26T00:00:00\",\"2018-05-16T00:00:00\",\"1958-04-28T00:00:00\",\"1959-10-02T00:00:00\",\"1959-10-02T00:00:00\",\"1959-10-02T00:00:00\",\"1959-10-02T00:00:00\",\"1964-05-04T00:00:00\",\"1964-05-07T00:00:00\",\"1982-05-19T00:00:00\",\"1986-10-23T00:00:00\",\"1988-05-12T00:00:00\",\"1988-09-29T00:00:00\",\"1989-12-25T00:00:00\",\"1990-01-01T00:00:00\",\"1991-05-11T00:00:00\",\"1991-10-21T00:00:00\",\"1992-05-20T00:00:00\",\"1994-01-24T00:00:00\",\"1996-04-20T00:00:00\",\"1996-10-06T00:00:00\",\"1996-10-10T00:00:00\",\"1998-04-30T00:00:00\",\"1998-05-13T00:00:00\",\"1999-01-01T00:00:00\",\"2019-04-29T00:00:00\",\"1994-10-08T00:00:00\"],\"xaxis\":\"x\",\"yaxis\":\"y\",\"type\":\"histogram\"},{\"alignmentgroup\":\"True\",\"bingroup\":\"x\",\"hovertemplate\":\"Mountain=Dhaulagiri I<br>Date=%{x}<br>count=%{y}<extra></extra>\",\"legendgroup\":\"Dhaulagiri I\",\"marker\":{\"color\":\"#ab63fa\",\"pattern\":{\"shape\":\"\"}},\"name\":\"Dhaulagiri I\",\"offsetgroup\":\"Dhaulagiri I\",\"orientation\":\"v\",\"showlegend\":true,\"x\":[\"1979-05-13T00:00:00\",\"2001-10-14T00:00:00\",\"2001-10-11T00:00:00\",\"2000-10-07T00:00:00\",\"2000-09-29T00:00:00\",\"1999-10-24T00:00:00\",\"1999-10-24T00:00:00\",\"1998-10-02T00:00:00\",\"2010-09-28T00:00:00\",\"1998-05-11T00:00:00\",\"1998-05-01T00:00:00\",\"1995-10-06T00:00:00\",\"1995-05-15T00:00:00\",\"1994-10-18T00:00:00\",\"1994-09-26T00:00:00\",\"1993-10-06T00:00:00\",\"1992-05-11T00:00:00\",\"1992-05-11T00:00:00\",\"1992-05-02T00:00:00\",\"1990-10-31T00:00:00\",\"1990-04-29T00:00:00\",\"1989-12-25T00:00:00\",\"1989-12-25T00:00:00\",\"1989-12-25T00:00:00\",\"2001-10-14T00:00:00\",\"2001-10-14T00:00:00\",\"2007-04-30T00:00:00\",\"2007-05-12T00:00:00\",\"2010-09-28T00:00:00\",\"2013-05-23T00:00:00\",\"2013-05-23T00:00:00\",\"2013-05-26T00:00:00\",\"2014-10-15T00:00:00\",\"2014-10-15T00:00:00\",\"2014-10-15T00:00:00\",\"2014-10-15T00:00:00\",\"2014-10-15T00:00:00\",\"2016-05-16T00:00:00\",\"2016-05-19T00:00:00\",\"1989-10-10T00:00:00\",\"2017-05-20T00:00:00\",\"2018-09-27T00:00:00\",\"2022-04-12T00:00:00\",\"2010-09-28T00:00:00\",\"2010-05-13T00:00:00\",\"2010-05-13T00:00:00\",\"2010-05-13T00:00:00\",\"2009-05-01T00:00:00\",\"2009-04-08T00:00:00\",\"2008-05-05T00:00:00\",\"2008-05-05T00:00:00\",\"2007-05-12T00:00:00\",\"2018-04-30T00:00:00\",\"1989-09-25T00:00:00\",\"1998-05-11T00:00:00\",\"1986-09-21T00:00:00\",\"1954-06-30T00:00:00\",\"1956-05-26T00:00:00\",\"1959-04-29T00:00:00\",\"1969-04-28T00:00:00\",\"1969-04-28T00:00:00\",\"1969-04-28T00:00:00\",\"1969-04-28T00:00:00\",\"1969-04-28T00:00:00\",\"1969-04-28T00:00:00\",\"1989-09-25T00:00:00\",\"1969-04-28T00:00:00\",\"1975-03-26T00:00:00\",\"1975-03-26T00:00:00\",\"2010-09-28T00:00:00\",\"1975-03-26T00:00:00\",\"1978-09-23T00:00:00\",\"1978-09-23T00:00:00\",\"1978-09-23T00:00:00\",\"1978-10-20T00:00:00\",\"1979-05-13T00:00:00\",\"1975-03-26T00:00:00\",\"1980-10-07T00:00:00\",\"1981-05-23T00:00:00\",\"1984-10-23T00:00:00\",\"1978-04-21T00:00:00\",\"1975-03-26T00:00:00\",\"1979-05-14T00:00:00\"],\"xaxis\":\"x\",\"yaxis\":\"y\",\"type\":\"histogram\"},{\"alignmentgroup\":\"True\",\"bingroup\":\"x\",\"hovertemplate\":\"Mountain=Gasherbrum I<br>Date=%{x}<br>count=%{y}<extra></extra>\",\"legendgroup\":\"Gasherbrum I\",\"marker\":{\"color\":\"#FFA15A\",\"pattern\":{\"shape\":\"\"}},\"name\":\"Gasherbrum I\",\"offsetgroup\":\"Gasherbrum I\",\"orientation\":\"v\",\"showlegend\":true,\"x\":[\"1990-08-19T00:00:00\",\"1990-08-19T00:00:00\",\"1988-06-25T00:00:00\",\"1987-07-29T00:00:00\",\"1987-07-29T00:00:00\",\"1987-07-29T00:00:00\",\"1986-08-18T00:00:00\",\"1986-05-31T00:00:00\",\"1993-05-30T00:00:00\",\"1987-07-29T00:00:00\",\"1996-07-17T00:00:00\",\"1977-06-10T00:00:00\",\"1998-08-01T00:00:00\",\"1998-08-01T00:00:00\",\"2013-08-09T00:00:00\",\"2013-07-22T00:00:00\",\"2013-07-22T00:00:00\",\"2013-07-22T00:00:00\",\"2013-07-07T00:00:00\",\"2012-03-09T00:00:00\",\"2012-03-09T00:00:00\",\"2012-03-09T00:00:00\",\"2008-06-18T00:00:00\",\"1989-07-12T00:00:00\",\"2005-08-05T00:00:00\",\"2004-07-25T00:00:00\",\"2003-09-07T00:00:00\",\"2003-07-15T00:00:00\",\"2003-07-05T00:00:00\",\"2003-07-05T00:00:00\",\"2001-07-09T00:00:00\",\"1998-08-01T00:00:00\",\"2007-07-29T00:00:00\",\"1998-08-01T00:00:00\"],\"xaxis\":\"x\",\"yaxis\":\"y\",\"type\":\"histogram\"},{\"alignmentgroup\":\"True\",\"bingroup\":\"x\",\"hovertemplate\":\"Mountain=Gasherbrum II<br>Date=%{x}<br>count=%{y}<extra></extra>\",\"legendgroup\":\"Gasherbrum II\",\"marker\":{\"color\":\"#19d3f3\",\"pattern\":{\"shape\":\"\"}},\"name\":\"Gasherbrum II\",\"offsetgroup\":\"Gasherbrum II\",\"orientation\":\"v\",\"showlegend\":true,\"x\":[\"2000-07-28T00:00:00\",\"2001-07-20T00:00:00\",\"2007-07-03T00:00:00\",\"2007-07-18T00:00:00\",\"2011-07-22T00:00:00\",\"2009-07-21T00:00:00\",\"1989-07-13T00:00:00\",\"2015-07-25T00:00:00\",\"2022-07-05T00:00:00\",\"2007-07-18T00:00:00\",\"1988-07-09T00:00:00\",\"1985-07-11T00:00:00\",\"1988-06-25T00:00:00\",\"1987-06-29T00:00:00\",\"1986-07-12T00:00:00\",\"1985-06-24T00:00:00\",\"1982-07-01T00:00:00\",\"1982-07-01T00:00:00\",\"1982-07-02T00:00:00\",\"1976-06-01T00:00:00\",\"1976-05-27T00:00:00\",\"1975-06-01T00:00:00\",\"1988-07-06T00:00:00\",\"1976-05-27T00:00:00\"],\"xaxis\":\"x\",\"yaxis\":\"y\",\"type\":\"histogram\"},{\"alignmentgroup\":\"True\",\"bingroup\":\"x\",\"hovertemplate\":\"Mountain=K2<br>Date=%{x}<br>count=%{y}<extra></extra>\",\"legendgroup\":\"K2\",\"marker\":{\"color\":\"#FF6692\",\"pattern\":{\"shape\":\"\"}},\"name\":\"K2\",\"offsetgroup\":\"K2\",\"orientation\":\"v\",\"showlegend\":true,\"x\":[\"1939-07-31T00:00:00\",\"1939-07-31T00:00:00\",\"1986-06-21T00:00:00\",\"1954-06-21T00:00:00\",\"2008-08-02T00:00:00\",\"2008-08-02T00:00:00\",\"2008-08-02T00:00:00\",\"2008-08-01T00:00:00\",\"2008-08-01T00:00:00\",\"2008-08-01T00:00:00\",\"2007-07-20T00:00:00\",\"2007-07-20T00:00:00\",\"2006-08-13T00:00:00\",\"2006-08-13T00:00:00\",\"2006-08-13T00:00:00\",\"2006-08-13T00:00:00\",\"2004-08-19T00:00:00\",\"2004-08-02T00:00:00\",\"2004-08-02T00:00:00\",\"2004-07-28T00:00:00\",\"2004-06-08T00:00:00\",\"2004-06-08T00:00:00\",\"2004-06-08T00:00:00\",\"2008-08-02T00:00:00\",\"2003-07-21T00:00:00\",\"2008-08-02T00:00:00\",\"2008-08-02T00:00:00\",\"2022-07-22T00:00:00\",\"2022-07-22T00:00:00\",\"2022-07-21T00:00:00\",\"2021-07-25T00:00:00\",\"2021-02-05T00:00:00\",\"2021-02-05T00:00:00\",\"2021-02-05T00:00:00\",\"2021-02-05T00:00:00\",\"2021-01-16T00:00:00\",\"2018-07-22T00:00:00\",\"2018-07-07T00:00:00\",\"2014-07-30T00:00:00\",\"2013-07-27T00:00:00\",\"2013-07-27T00:00:00\",\"2012-02-06T00:00:00\",\"2010-08-06T00:00:00\",\"2010-07-17T00:00:00\",\"2009-06-23T00:00:00\",\"2008-08-02T00:00:00\",\"2008-08-02T00:00:00\",\"2002-07-22T00:00:00\",\"2002-07-13T00:00:00\",\"2001-07-22T00:00:00\",\"1986-08-10T00:00:00\",\"1986-08-10T00:00:00\",\"1986-08-10T00:00:00\",\"1986-08-10T00:00:00\",\"1986-08-07T00:00:00\",\"1986-08-04T00:00:00\",\"1986-08-03T00:00:00\",\"1986-07-16T00:00:00\",\"1986-07-10T00:00:00\",\"1986-06-24T00:00:00\",\"1986-06-24T00:00:00\",\"1986-06-21T00:00:00\",\"1939-07-31T00:00:00\",\"1985-07-07T00:00:00\",\"1982-08-15T00:00:00\",\"1982-07-30T00:00:00\",\"1979-08-19T00:00:00\",\"1979-06-09T00:00:00\",\"1978-06-12T00:00:00\",\"1987-08-24T00:00:00\",\"1989-07-28T00:00:00\",\"1992-08-14T00:00:00\",\"1993-06-15T00:00:00\",\"1999-07-10T00:00:00\",\"1996-08-14T00:00:00\",\"1996-07-29T00:00:00\",\"1995-08-15T00:00:00\",\"1995-08-13T00:00:00\",\"1995-08-13T00:00:00\",\"1995-08-13T00:00:00\",\"1995-08-13T00:00:00\",\"1995-08-13T00:00:00\",\"1953-08-10T00:00:00\",\"1995-08-13T00:00:00\",\"1994-08-11T00:00:00\",\"1994-07-24T00:00:00\",\"1994-07-10T00:00:00\",\"1994-07-10T00:00:00\",\"1994-07-10T00:00:00\",\"1993-07-31T00:00:00\",\"1993-07-30T00:00:00\",\"1993-07-30T00:00:00\",\"1993-07-07T00:00:00\",\"1995-07-06T00:00:00\",\"1939-07-30T00:00:00\",\"2023-07-27T00:00:00\"],\"xaxis\":\"x\",\"yaxis\":\"y\",\"type\":\"histogram\"},{\"alignmentgroup\":\"True\",\"bingroup\":\"x\",\"hovertemplate\":\"Mountain=Kangchenjunga<br>Date=%{x}<br>count=%{y}<extra></extra>\",\"legendgroup\":\"Kangchenjunga\",\"marker\":{\"color\":\"#B6E880\",\"pattern\":{\"shape\":\"\"}},\"name\":\"Kangchenjunga\",\"offsetgroup\":\"Kangchenjunga\",\"orientation\":\"v\",\"showlegend\":true,\"x\":[\"2013-05-20T00:00:00\",\"1991-05-03T00:00:00\",\"1989-12-20T00:00:00\",\"1989-12-20T00:00:00\",\"1989-12-20T00:00:00\",\"1988-05-17T00:00:00\",\"1987-05-31T00:00:00\",\"1987-05-25T00:00:00\",\"1987-05-25T00:00:00\",\"1987-05-25T00:00:00\",\"1985-04-22T00:00:00\",\"1985-01-15T00:00:00\",\"1981-10-15T00:00:00\",\"1980-05-04T00:00:00\",\"1980-05-04T00:00:00\",\"1977-04-08T00:00:00\",\"1973-05-15T00:00:00\",\"1955-05-26T00:00:00\",\"1931-08-09T00:00:00\",\"1931-08-09T00:00:00\",\"1931-08-01T00:00:00\",\"1931-07-01T00:00:00\",\"1930-05-08T00:00:00\",\"1929-05-27T00:00:00\",\"1905-09-01T00:00:00\",\"1905-09-01T00:00:00\",\"1905-08-28T00:00:00\",\"2013-05-20T00:00:00\",\"1991-05-03T00:00:00\",\"1991-05-16T00:00:00\",\"1986-01-11T00:00:00\",\"1992-04-25T00:00:00\",\"2013-05-20T00:00:00\",\"2014-05-20T00:00:00\",\"2014-05-20T00:00:00\",\"1992-04-25T00:00:00\",\"2019-05-15T00:00:00\",\"2019-05-16T00:00:00\",\"2019-05-16T00:00:00\",\"2022-05-05T00:00:00\",\"2023-05-25T00:00:00\",\"2013-05-20T00:00:00\",\"2013-05-20T00:00:00\",\"2007-05-24T00:00:00\",\"2002-05-24T00:00:00\",\"2014-05-20T00:00:00\",\"1999-09-14T00:00:00\",\"2000-04-23T00:00:00\",\"1994-10-09T00:00:00\",\"1994-10-23T00:00:00\",\"1995-01-01T00:00:00\",\"1995-10-05T00:00:00\",\"1995-10-06T00:00:00\",\"1994-10-09T00:00:00\",\"1998-05-16T00:00:00\",\"1998-05-16T00:00:00\",\"1999-09-14T00:00:00\",\"1995-10-06T00:00:00\",\"1992-05-13T00:00:00\"],\"xaxis\":\"x\",\"yaxis\":\"y\",\"type\":\"histogram\"},{\"alignmentgroup\":\"True\",\"bingroup\":\"x\",\"hovertemplate\":\"Mountain=Lhotse<br>Date=%{x}<br>count=%{y}<extra></extra>\",\"legendgroup\":\"Lhotse\",\"marker\":{\"color\":\"#FF97FF\",\"pattern\":{\"shape\":\"\"}},\"name\":\"Lhotse\",\"offsetgroup\":\"Lhotse\",\"orientation\":\"v\",\"showlegend\":true,\"x\":[\"1980-05-17T00:00:00\",\"1987-09-27T00:00:00\",\"1981-10-16T00:00:00\",\"1981-10-16T00:00:00\",\"1981-10-25T00:00:00\",\"1985-10-25T00:00:00\",\"1986-10-30T00:00:00\",\"1980-04-28T00:00:00\",\"1987-09-15T00:00:00\",\"1987-09-27T00:00:00\",\"2003-10-05T00:00:00\",\"1987-09-27T00:00:00\",\"1989-10-24T00:00:00\",\"1997-05-27T00:00:00\",\"2000-09-17T00:00:00\",\"2003-10-05T00:00:00\",\"2006-05-09T00:00:00\",\"2007-05-21T00:00:00\",\"2009-05-25T00:00:00\",\"2010-05-07T00:00:00\",\"1977-05-12T00:00:00\",\"2012-05-19T00:00:00\",\"1987-09-27T00:00:00\",\"1974-12-17T00:00:00\",\"2012-10-16T00:00:00\",\"2014-04-18T00:00:00\",\"2013-05-20T00:00:00\",\"2022-05-08T00:00:00\",\"2019-05-17T00:00:00\",\"2018-05-17T00:00:00\",\"2016-05-19T00:00:00\",\"2015-04-27T00:00:00\",\"2015-04-25T00:00:00\"],\"xaxis\":\"x\",\"yaxis\":\"y\",\"type\":\"histogram\"},{\"alignmentgroup\":\"True\",\"bingroup\":\"x\",\"hovertemplate\":\"Mountain=Makalu<br>Date=%{x}<br>count=%{y}<extra></extra>\",\"legendgroup\":\"Makalu\",\"marker\":{\"color\":\"#FECB52\",\"pattern\":{\"shape\":\"\"}},\"name\":\"Makalu\",\"offsetgroup\":\"Makalu\",\"orientation\":\"v\",\"showlegend\":true,\"x\":[\"1991-10-02T00:00:00\",\"1991-10-08T00:00:00\",\"1995-05-08T00:00:00\",\"1997-10-12T00:00:00\",\"1997-05-21T00:00:00\",\"2021-10-24T00:00:00\",\"1988-10-14T00:00:00\",\"1996-05-14T00:00:00\",\"1986-09-25T00:00:00\",\"1983-01-01T00:00:00\",\"1984-09-13T00:00:00\",\"1983-10-15T00:00:00\",\"1983-10-03T00:00:00\",\"2019-05-24T00:00:00\",\"1978-10-06T00:00:00\",\"1976-05-24T00:00:00\",\"1973-05-21T00:00:00\",\"1954-09-26T00:00:00\",\"1986-01-01T00:00:00\",\"1997-05-24T00:00:00\",\"2019-05-16T00:00:00\",\"2019-05-08T00:00:00\",\"1999-04-30T00:00:00\",\"1999-10-11T00:00:00\",\"2000-05-16T00:00:00\",\"2001-05-14T00:00:00\",\"2002-01-01T00:00:00\",\"2002-01-01T00:00:00\",\"2002-01-01T00:00:00\",\"2002-01-01T00:00:00\",\"2002-01-01T00:00:00\",\"2002-01-01T00:00:00\",\"2002-04-25T00:00:00\",\"2004-05-17T00:00:00\",\"2004-05-18T00:00:00\",\"2005-05-15T00:00:00\",\"2006-01-27T00:00:00\",\"2008-04-24T00:00:00\",\"2008-05-20T00:00:00\",\"2009-05-01T00:00:00\",\"2010-05-26T00:00:00\",\"2011-05-22T00:00:00\",\"2013-04-23T00:00:00\",\"2014-05-02T00:00:00\",\"2016-05-10T00:00:00\",\"2016-05-10T00:00:00\",\"2018-05-15T00:00:00\",\"2019-05-16T00:00:00\",\"1982-09-26T00:00:00\"],\"xaxis\":\"x\",\"yaxis\":\"y\",\"type\":\"histogram\"},{\"alignmentgroup\":\"True\",\"bingroup\":\"x\",\"hovertemplate\":\"Mountain=Manaslu<br>Date=%{x}<br>count=%{y}<extra></extra>\",\"legendgroup\":\"Manaslu\",\"marker\":{\"color\":\"#636efa\",\"pattern\":{\"shape\":\"\"}},\"name\":\"Manaslu\",\"offsetgroup\":\"Manaslu\",\"orientation\":\"v\",\"showlegend\":true,\"x\":[\"1990-03-27T00:00:00\",\"2012-09-23T00:00:00\",\"1985-05-04T00:00:00\",\"1985-10-25T00:00:00\",\"1986-05-03T00:00:00\",\"1986-05-04T00:00:00\",\"1987-10-28T00:00:00\",\"1989-05-07T00:00:00\",\"1990-03-27T00:00:00\",\"1990-03-27T00:00:00\",\"1990-09-07T00:00:00\",\"1990-09-07T00:00:00\",\"1990-09-07T00:00:00\",\"1991-05-10T00:00:00\",\"1991-05-10T00:00:00\",\"1992-10-02T00:00:00\",\"1992-10-03T00:00:00\",\"1993-10-21T00:00:00\",\"1993-10-22T00:00:00\",\"1983-12-11T00:00:00\",\"1983-04-24T00:00:00\",\"1983-04-24T00:00:00\",\"1982-12-18T00:00:00\",\"1972-04-10T00:00:00\",\"1972-04-10T00:00:00\",\"1972-04-10T00:00:00\",\"1972-04-10T00:00:00\",\"1972-04-10T00:00:00\",\"1972-04-10T00:00:00\",\"1972-04-10T00:00:00\",\"1972-04-10T00:00:00\",\"1995-05-06T00:00:00\",\"1972-04-10T00:00:00\",\"1972-04-10T00:00:00\",\"1972-04-10T00:00:00\",\"1972-04-25T00:00:00\",\"1972-04-26T00:00:00\",\"1974-05-05T00:00:00\",\"1979-10-08T00:00:00\",\"1982-05-10T00:00:00\",\"1982-05-10T00:00:00\",\"1972-04-10T00:00:00\",\"1995-05-07T00:00:00\",\"1996-10-01T00:00:00\",\"1997-10-08T00:00:00\",\"2012-09-23T00:00:00\",\"2012-09-23T00:00:00\",\"2012-09-23T00:00:00\",\"2012-09-23T00:00:00\",\"2012-09-23T00:00:00\",\"2012-09-23T00:00:00\",\"2012-10-04T00:00:00\",\"2014-09-26T00:00:00\",\"2012-09-23T00:00:00\",\"2015-10-01T00:00:00\",\"2017-09-25T00:00:00\",\"2018-09-08T00:00:00\",\"2018-09-29T00:00:00\",\"2019-09-28T00:00:00\",\"2021-09-29T00:00:00\",\"2022-09-26T00:00:00\",\"2022-09-26T00:00:00\",\"2022-10-02T00:00:00\",\"2016-10-26T00:00:00\",\"1972-04-10T00:00:00\",\"2012-09-23T00:00:00\",\"2012-09-23T00:00:00\",\"1997-10-09T00:00:00\",\"1998-10-26T00:00:00\",\"1998-10-30T00:00:00\",\"2001-10-13T00:00:00\",\"2006-05-28T00:00:00\",\"2008-05-13T00:00:00\",\"2008-10-05T00:00:00\",\"2009-04-28T00:00:00\",\"2012-09-23T00:00:00\",\"2009-05-19T00:00:00\",\"2010-04-24T00:00:00\",\"2010-04-24T00:00:00\",\"2010-09-24T00:00:00\",\"2011-04-29T00:00:00\",\"2011-05-12T00:00:00\",\"2011-05-12T00:00:00\",\"2011-05-12T00:00:00\",\"2012-05-11T00:00:00\",\"2009-10-03T00:00:00\",\"1972-04-10T00:00:00\",\"1972-04-10T00:00:00\",\"1971-05-04T00:00:00\"],\"xaxis\":\"x\",\"yaxis\":\"y\",\"type\":\"histogram\"},{\"alignmentgroup\":\"True\",\"bingroup\":\"x\",\"hovertemplate\":\"Mountain=Mount Everest<br>Date=%{x}<br>count=%{y}<extra></extra>\",\"legendgroup\":\"Mount Everest\",\"marker\":{\"color\":\"#EF553B\",\"pattern\":{\"shape\":\"\"}},\"name\":\"Mount Everest\",\"offsetgroup\":\"Mount Everest\",\"orientation\":\"v\",\"showlegend\":true,\"x\":[\"1992-05-02T00:00:00\",\"1992-05-02T00:00:00\",\"1992-05-11T00:00:00\",\"1992-05-23T00:00:00\",\"1992-05-23T00:00:00\",\"1993-01-15T00:00:00\",\"1993-04-23T00:00:00\",\"1993-04-23T00:00:00\",\"1993-05-10T00:00:00\",\"1993-05-16T00:00:00\",\"1993-05-17T00:00:00\",\"1991-05-27T00:00:00\",\"1993-10-05T00:00:00\",\"1993-10-07T00:00:00\",\"1994-04-06T00:00:00\",\"1994-05-09T00:00:00\",\"1994-05-18T00:00:00\",\"1994-05-27T00:00:00\",\"1994-09-12T00:00:00\",\"1995-05-06T00:00:00\",\"1995-09-10T00:00:00\",\"1995-10-14T00:00:00\",\"1996-05-09T00:00:00\",\"1996-05-11T00:00:00\",\"2005-06-04T00:00:00\",\"1996-05-11T00:00:00\",\"2005-05-21T00:00:00\",\"1990-09-14T00:00:00\",\"2009-05-18T00:00:00\",\"2009-05-07T00:00:00\",\"2008-05-22T00:00:00\",\"2007-05-17T00:00:00\",\"2007-05-17T00:00:00\",\"2007-05-17T00:00:00\",\"2007-05-16T00:00:00\",\"2007-05-17T00:00:00\",\"2007-05-17T00:00:00\",\"2007-04-26T00:00:00\",\"2006-05-25T00:00:00\",\"1990-10-07T00:00:00\",\"2006-05-22T00:00:00\",\"2006-05-16T00:00:00\",\"2006-05-15T00:00:00\",\"2006-05-14T00:00:00\",\"2006-05-17T00:00:00\",\"2006-04-21T00:00:00\",\"2006-04-21T00:00:00\",\"2006-04-21T00:00:00\",\"2006-04-07T00:00:00\",\"2005-06-05T00:00:00\",\"1990-09-14T00:00:00\",\"1990-09-14T00:00:00\",\"2006-05-19T00:00:00\",\"1991-05-03T00:00:00\",\"1996-05-11T00:00:00\",\"1996-05-11T00:00:00\",\"2000-05-20T00:00:00\",\"2000-05-21T00:00:00\",\"2001-04-29T00:00:00\",\"2001-05-23T00:00:00\",\"2001-05-24T00:00:00\",\"2001-05-24T00:00:00\",\"2001-10-17T00:00:00\",\"2002-04-30T00:00:00\",\"2002-05-17T00:00:00\",\"2002-09-08T00:00:00\",\"2003-05-27T00:00:00\",\"1999-05-18T00:00:00\",\"2003-05-25T00:00:00\",\"2009-05-19T00:00:00\",\"2003-05-24T00:00:00\",\"2004-05-18T00:00:00\",\"2004-05-18T00:00:00\",\"2004-05-18T00:00:00\",\"2004-05-18T00:00:00\",\"2004-05-20T00:00:00\",\"2004-05-20T00:00:00\",\"2004-05-23T00:00:00\",\"2005-04-28T00:00:00\",\"2005-05-02T00:00:00\",\"2003-05-08T00:00:00\",\"1996-05-11T00:00:00\",\"1999-05-18T00:00:00\",\"1999-05-08T00:00:00\",\"1996-05-11T00:00:00\",\"1996-05-11T00:00:00\",\"1996-05-11T00:00:00\",\"1996-05-19T00:00:00\",\"1996-05-25T00:00:00\",\"1996-06-06T00:00:00\",\"1996-09-25T00:00:00\",\"1996-09-25T00:00:00\",\"1996-09-25T00:00:00\",\"1997-04-23T00:00:00\",\"1997-05-06T00:00:00\",\"1999-05-13T00:00:00\",\"1997-05-07T00:00:00\",\"1997-05-07T00:00:00\",\"1997-05-07T00:00:00\",\"1997-05-08T00:00:00\",\"1997-09-08T00:00:00\",\"1997-09-08T00:00:00\",\"1998-05-24T00:00:00\",\"1998-05-24T00:00:00\",\"2005-05-30T00:00:00\",\"1998-05-25T00:00:00\",\"1998-05-26T00:00:00\",\"1998-07-24T00:00:00\",\"1997-05-07T00:00:00\",\"2009-05-21T00:00:00\",\"2014-04-18T00:00:00\",\"2010-05-19T00:00:00\",\"2015-04-25T00:00:00\",\"2015-04-25T00:00:00\",\"2015-04-25T00:00:00\",\"2015-04-25T00:00:00\",\"2015-04-25T00:00:00\",\"2015-05-01T00:00:00\",\"2016-05-11T00:00:00\",\"2016-05-19T00:00:00\",\"2016-05-21T00:00:00\",\"2016-05-22T00:00:00\",\"2016-05-22T00:00:00\",\"2015-04-25T00:00:00\",\"2016-05-22T00:00:00\",\"2017-05-05T00:00:00\",\"2017-05-20T00:00:00\",\"2017-05-21T00:00:00\",\"2017-05-21T00:00:00\",\"2017-05-21T00:00:00\",\"2018-05-14T00:00:00\",\"2018-05-18T00:00:00\",\"2018-05-20T00:00:00\",\"2018-05-21T00:00:00\",\"2018-05-21T00:00:00\",\"2019-05-16T00:00:00\",\"2016-05-22T00:00:00\",\"2019-05-17T00:00:00\",\"2015-04-25T00:00:00\",\"2015-04-25T00:00:00\",\"2014-04-02T00:00:00\",\"2013-05-22T00:00:00\",\"2013-05-21T00:00:00\",\"2013-05-21T00:00:00\",\"2014-04-18T00:00:00\",\"2014-04-18T00:00:00\",\"2014-04-18T00:00:00\",\"2014-04-18T00:00:00\",\"2014-04-18T00:00:00\",\"2014-04-18T00:00:00\",\"2014-04-18T00:00:00\",\"2015-04-25T00:00:00\",\"2014-04-18T00:00:00\",\"2014-04-18T00:00:00\",\"2014-04-18T00:00:00\",\"2014-04-18T00:00:00\",\"2014-04-18T00:00:00\",\"2015-04-25T00:00:00\",\"2015-04-25T00:00:00\",\"2015-04-25T00:00:00\",\"2015-04-25T00:00:00\",\"2015-04-25T00:00:00\",\"2015-04-25T00:00:00\",\"2015-04-25T00:00:00\",\"2014-04-18T00:00:00\",\"2019-05-22T00:00:00\",\"2019-05-23T00:00:00\",\"2019-05-23T00:00:00\",\"2014-04-18T00:00:00\",\"2013-05-17T00:00:00\",\"2013-05-15T00:00:00\",\"2013-05-07T00:00:00\",\"2013-05-05T00:00:00\",\"2013-05-05T00:00:00\",\"2013-04-07T00:00:00\",\"2012-05-20T00:00:00\",\"2012-05-20T00:00:00\",\"2012-05-20T00:00:00\",\"2012-05-20T00:00:00\",\"1989-12-12T00:00:00\",\"2012-05-19T00:00:00\",\"2012-05-19T00:00:00\",\"2012-04-21T00:00:00\",\"2012-04-20T00:00:00\",\"2012-04-19T00:00:00\",\"2012-04-05T00:00:00\",\"2011-09-15T00:00:00\",\"2011-05-21T00:00:00\",\"2011-05-12T00:00:00\",\"2011-05-09T00:00:00\",\"2011-05-01T00:00:00\",\"2010-05-26T00:00:00\",\"2012-05-19T00:00:00\",\"2023-05-25T00:00:00\",\"2023-05-25T00:00:00\",\"2023-05-21T00:00:00\",\"2019-05-23T00:00:00\",\"2019-05-23T00:00:00\",\"2019-05-24T00:00:00\",\"2019-05-24T00:00:00\",\"2019-05-25T00:00:00\",\"2019-05-27T00:00:00\",\"2021-05-12T00:00:00\",\"2021-05-12T00:00:00\",\"2021-05-18T00:00:00\",\"2021-05-23T00:00:00\",\"2022-04-14T00:00:00\",\"2022-05-07T00:00:00\",\"2022-05-12T00:00:00\",\"2023-04-12T00:00:00\",\"2023-04-12T00:00:00\",\"2023-04-12T00:00:00\",\"2023-05-01T00:00:00\",\"2023-05-16T00:00:00\",\"2023-05-17T00:00:00\",\"2023-05-18T00:00:00\",\"2023-05-18T00:00:00\",\"2023-05-19T00:00:00\",\"2023-05-19T00:00:00\",\"2023-05-20T00:00:00\",\"2023-05-21T00:00:00\",\"2010-04-26T00:00:00\",\"1989-05-28T00:00:00\",\"2023-06-03T00:00:00\",\"1989-05-27T00:00:00\",\"1970-04-09T00:00:00\",\"1970-04-21T00:00:00\",\"1971-04-18T00:00:00\",\"1972-11-16T00:00:00\",\"1973-10-12T00:00:00\",\"1974-09-09T00:00:00\",\"1974-09-09T00:00:00\",\"1974-09-09T00:00:00\",\"1974-09-09T00:00:00\",\"1974-09-09T00:00:00\",\"1974-09-09T00:00:00\",\"1975-05-04T00:00:00\",\"1975-08-01T00:00:00\",\"1975-09-26T00:00:00\",\"1976-04-10T00:00:00\",\"1978-04-18T00:00:00\",\"1978-04-18T00:00:00\",\"1979-05-16T00:00:00\",\"1979-10-02T00:00:00\",\"1979-10-02T00:00:00\",\"1979-10-12T00:00:00\",\"1979-10-12T00:00:00\",\"1979-10-12T00:00:00\",\"1970-04-05T00:00:00\",\"1980-05-02T00:00:00\",\"1970-04-05T00:00:00\",\"1970-04-05T00:00:00\",\"2023-05-26T00:00:00\",\"1989-05-27T00:00:00\",\"1921-06-05T00:00:00\",\"1921-06-05T00:00:00\",\"1922-06-07T00:00:00\",\"1922-06-07T00:00:00\",\"1922-06-07T00:00:00\",\"1922-06-07T00:00:00\",\"1922-06-07T00:00:00\",\"1922-06-07T00:00:00\",\"1922-06-07T00:00:00\",\"1924-05-13T00:00:00\",\"1924-05-17T00:00:00\",\"1924-06-09T00:00:00\",\"1924-06-09T00:00:00\",\"1934-05-31T00:00:00\",\"1952-10-31T00:00:00\",\"1960-04-11T00:00:00\",\"1960-04-29T00:00:00\",\"1962-04-28T00:00:00\",\"1963-03-23T00:00:00\",\"1966-05-01T00:00:00\",\"1969-10-18T00:00:00\",\"1970-04-05T00:00:00\",\"1980-09-06T00:00:00\",\"1970-04-05T00:00:00\",\"1981-01-12T00:00:00\",\"1985-10-11T00:00:00\",\"1986-08-16T00:00:00\",\"1986-09-28T00:00:00\",\"1986-10-04T00:00:00\",\"1986-10-17T00:00:00\",\"1987-01-30T00:00:00\",\"1987-05-21T00:00:00\",\"1987-09-02T00:00:00\",\"1987-10-20T00:00:00\",\"1988-09-20T00:00:00\",\"1988-09-21T00:00:00\",\"1988-10-13T00:00:00\",\"1988-10-13T00:00:00\",\"1988-10-17T00:00:00\",\"1988-10-17T00:00:00\",\"1988-10-17T00:00:00\",\"1988-10-17T00:00:00\",\"1988-12-23T00:00:00\",\"1989-05-10T00:00:00\",\"1989-05-16T00:00:00\",\"1980-09-22T00:00:00\",\"1989-05-27T00:00:00\",\"1989-05-27T00:00:00\",\"1985-10-11T00:00:00\",\"1985-10-11T00:00:00\",\"1988-04-21T00:00:00\",\"1982-10-14T00:00:00\",\"1982-05-17T00:00:00\",\"1985-10-11T00:00:00\",\"1982-08-31T00:00:00\",\"1982-08-31T00:00:00\",\"1982-08-31T00:00:00\",\"1982-09-02T00:00:00\",\"1982-09-27T00:00:00\",\"1982-05-15T00:00:00\",\"1982-12-28T00:00:00\",\"1982-12-28T00:00:00\",\"1983-10-08T00:00:00\",\"1983-10-09T00:00:00\",\"1983-10-08T00:00:00\",\"1984-03-26T00:00:00\",\"1984-04-03T00:00:00\",\"1984-04-21T00:00:00\",\"1984-10-09T00:00:00\",\"1984-10-09T00:00:00\",\"1984-10-16T00:00:00\",\"1984-10-24T00:00:00\",\"1984-10-24T00:00:00\",\"1985-05-12T00:00:00\",\"1985-09-19T00:00:00\",\"1985-10-07T00:00:00\",\"1982-05-17T00:00:00\"],\"xaxis\":\"x\",\"yaxis\":\"y\",\"type\":\"histogram\"},{\"alignmentgroup\":\"True\",\"bingroup\":\"x\",\"hovertemplate\":\"Mountain=Nanga Parbat<br>Date=%{x}<br>count=%{y}<extra></extra>\",\"legendgroup\":\"Nanga Parbat\",\"marker\":{\"color\":\"#00cc96\",\"pattern\":{\"shape\":\"\"}},\"name\":\"Nanga Parbat\",\"offsetgroup\":\"Nanga Parbat\",\"orientation\":\"v\",\"showlegend\":true,\"x\":[\"1985-07-10T00:00:00\",\"1984-07-07T00:00:00\",\"1984-12-08T00:00:00\",\"1984-07-07T00:00:00\",\"1962-06-23T00:00:00\",\"1989-07-18T00:00:00\",\"1990-07-03T00:00:00\",\"1990-08-18T00:00:00\",\"1984-07-07T00:00:00\",\"1993-07-07T00:00:00\",\"1989-06-23T00:00:00\",\"1984-07-07T00:00:00\",\"1976-09-26T00:00:00\",\"1983-07-12T00:00:00\",\"1983-07-12T00:00:00\",\"1983-06-17T00:00:00\",\"1982-06-08T00:00:00\",\"1982-06-12T00:00:00\",\"1982-06-04T00:00:00\",\"1982-04-28T00:00:00\",\"1977-07-31T00:00:00\",\"1977-07-31T00:00:00\",\"1971-07-08T00:00:00\",\"1970-06-29T00:00:00\",\"1994-06-24T00:00:00\",\"1983-07-12T00:00:00\",\"1996-06-20T00:00:00\",\"2018-01-28T00:00:00\",\"1997-07-30T00:00:00\",\"1950-12-04T00:00:00\",\"2023-07-03T00:00:00\",\"2019-02-24T00:00:00\",\"2019-02-24T00:00:00\",\"2017-06-24T00:00:00\",\"2017-06-24T00:00:00\",\"2013-06-22T00:00:00\",\"2013-06-22T00:00:00\",\"2013-06-22T00:00:00\",\"2013-06-22T00:00:00\",\"2013-06-22T00:00:00\",\"2013-06-22T00:00:00\",\"1996-06-20T00:00:00\",\"2013-06-22T00:00:00\",\"2013-06-22T00:00:00\",\"2013-06-22T00:00:00\",\"2013-06-22T00:00:00\",\"2013-02-06T00:00:00\",\"2009-07-11T00:00:00\",\"2009-07-10T00:00:00\",\"2008-07-17T00:00:00\",\"2008-07-15T00:00:00\",\"2006-07-28T00:00:00\",\"2006-07-22T00:00:00\",\"2004-07-01T00:00:00\",\"1998-07-26T00:00:00\",\"2013-06-22T00:00:00\",\"1950-12-04T00:00:00\",\"1934-07-10T00:00:00\",\"1937-06-15T00:00:00\",\"1937-06-15T00:00:00\",\"1895-08-24T00:00:00\",\"1895-08-24T00:00:00\",\"1895-08-24T00:00:00\",\"1934-06-08T00:00:00\",\"1934-07-09T00:00:00\",\"1934-07-09T00:00:00\",\"1934-07-10T00:00:00\",\"1934-07-10T00:00:00\",\"1934-07-12T00:00:00\",\"1934-07-17T00:00:00\",\"1934-07-17T00:00:00\",\"1937-06-15T00:00:00\",\"1934-07-10T00:00:00\",\"1937-06-15T00:00:00\",\"1937-06-15T00:00:00\",\"1937-06-15T00:00:00\",\"1937-06-15T00:00:00\",\"1937-06-15T00:00:00\",\"1937-06-15T00:00:00\",\"1937-06-15T00:00:00\",\"1937-06-15T00:00:00\",\"1937-06-15T00:00:00\",\"1937-06-15T00:00:00\",\"1937-06-15T00:00:00\",\"1937-06-15T00:00:00\",\"1937-06-15T00:00:00\"],\"xaxis\":\"x\",\"yaxis\":\"y\",\"type\":\"histogram\"},{\"alignmentgroup\":\"True\",\"bingroup\":\"x\",\"hovertemplate\":\"Mountain=Shishapangma<br>Date=%{x}<br>count=%{y}<extra></extra>\",\"legendgroup\":\"Shishapangma\",\"marker\":{\"color\":\"#ab63fa\",\"pattern\":{\"shape\":\"\"}},\"name\":\"Shishapangma\",\"offsetgroup\":\"Shishapangma\",\"orientation\":\"v\",\"showlegend\":true,\"x\":[\"1996-05-01T00:00:00\",\"1991-09-20T00:00:00\",\"1994-10-01T00:00:00\",\"1994-09-18T00:00:00\",\"1993-09-29T00:00:00\",\"1991-09-20T00:00:00\",\"1989-10-04T00:00:00\",\"1991-05-22T00:00:00\",\"1991-05-22T00:00:00\",\"1990-10-15T00:00:00\",\"1983-04-28T00:00:00\",\"1996-05-19T00:00:00\",\"1991-05-22T00:00:00\",\"1996-10-05T00:00:00\",\"2016-04-24T00:00:00\",\"1998-05-21T00:00:00\",\"1999-10-05T00:00:00\",\"1999-10-05T00:00:00\",\"2005-09-28T00:00:00\",\"2005-10-03T00:00:00\",\"2006-10-31T00:00:00\",\"2007-04-24T00:00:00\",\"2009-10-15T00:00:00\",\"2013-05-11T00:00:00\",\"2014-09-24T00:00:00\",\"2014-09-24T00:00:00\",\"2016-04-24T00:00:00\",\"2016-09-30T00:00:00\",\"2018-05-03T00:00:00\",\"1996-10-05T00:00:00\",\"1991-05-22T00:00:00\"],\"xaxis\":\"x\",\"yaxis\":\"y\",\"type\":\"histogram\"}],                        {\"template\":{\"data\":{\"histogram2dcontour\":[{\"type\":\"histogram2dcontour\",\"colorbar\":{\"outlinewidth\":0,\"ticks\":\"\"},\"colorscale\":[[0.0,\"#0d0887\"],[0.1111111111111111,\"#46039f\"],[0.2222222222222222,\"#7201a8\"],[0.3333333333333333,\"#9c179e\"],[0.4444444444444444,\"#bd3786\"],[0.5555555555555556,\"#d8576b\"],[0.6666666666666666,\"#ed7953\"],[0.7777777777777778,\"#fb9f3a\"],[0.8888888888888888,\"#fdca26\"],[1.0,\"#f0f921\"]]}],\"choropleth\":[{\"type\":\"choropleth\",\"colorbar\":{\"outlinewidth\":0,\"ticks\":\"\"}}],\"histogram2d\":[{\"type\":\"histogram2d\",\"colorbar\":{\"outlinewidth\":0,\"ticks\":\"\"},\"colorscale\":[[0.0,\"#0d0887\"],[0.1111111111111111,\"#46039f\"],[0.2222222222222222,\"#7201a8\"],[0.3333333333333333,\"#9c179e\"],[0.4444444444444444,\"#bd3786\"],[0.5555555555555556,\"#d8576b\"],[0.6666666666666666,\"#ed7953\"],[0.7777777777777778,\"#fb9f3a\"],[0.8888888888888888,\"#fdca26\"],[1.0,\"#f0f921\"]]}],\"heatmap\":[{\"type\":\"heatmap\",\"colorbar\":{\"outlinewidth\":0,\"ticks\":\"\"},\"colorscale\":[[0.0,\"#0d0887\"],[0.1111111111111111,\"#46039f\"],[0.2222222222222222,\"#7201a8\"],[0.3333333333333333,\"#9c179e\"],[0.4444444444444444,\"#bd3786\"],[0.5555555555555556,\"#d8576b\"],[0.6666666666666666,\"#ed7953\"],[0.7777777777777778,\"#fb9f3a\"],[0.8888888888888888,\"#fdca26\"],[1.0,\"#f0f921\"]]}],\"heatmapgl\":[{\"type\":\"heatmapgl\",\"colorbar\":{\"outlinewidth\":0,\"ticks\":\"\"},\"colorscale\":[[0.0,\"#0d0887\"],[0.1111111111111111,\"#46039f\"],[0.2222222222222222,\"#7201a8\"],[0.3333333333333333,\"#9c179e\"],[0.4444444444444444,\"#bd3786\"],[0.5555555555555556,\"#d8576b\"],[0.6666666666666666,\"#ed7953\"],[0.7777777777777778,\"#fb9f3a\"],[0.8888888888888888,\"#fdca26\"],[1.0,\"#f0f921\"]]}],\"contourcarpet\":[{\"type\":\"contourcarpet\",\"colorbar\":{\"outlinewidth\":0,\"ticks\":\"\"}}],\"contour\":[{\"type\":\"contour\",\"colorbar\":{\"outlinewidth\":0,\"ticks\":\"\"},\"colorscale\":[[0.0,\"#0d0887\"],[0.1111111111111111,\"#46039f\"],[0.2222222222222222,\"#7201a8\"],[0.3333333333333333,\"#9c179e\"],[0.4444444444444444,\"#bd3786\"],[0.5555555555555556,\"#d8576b\"],[0.6666666666666666,\"#ed7953\"],[0.7777777777777778,\"#fb9f3a\"],[0.8888888888888888,\"#fdca26\"],[1.0,\"#f0f921\"]]}],\"surface\":[{\"type\":\"surface\",\"colorbar\":{\"outlinewidth\":0,\"ticks\":\"\"},\"colorscale\":[[0.0,\"#0d0887\"],[0.1111111111111111,\"#46039f\"],[0.2222222222222222,\"#7201a8\"],[0.3333333333333333,\"#9c179e\"],[0.4444444444444444,\"#bd3786\"],[0.5555555555555556,\"#d8576b\"],[0.6666666666666666,\"#ed7953\"],[0.7777777777777778,\"#fb9f3a\"],[0.8888888888888888,\"#fdca26\"],[1.0,\"#f0f921\"]]}],\"mesh3d\":[{\"type\":\"mesh3d\",\"colorbar\":{\"outlinewidth\":0,\"ticks\":\"\"}}],\"scatter\":[{\"fillpattern\":{\"fillmode\":\"overlay\",\"size\":10,\"solidity\":0.2},\"type\":\"scatter\"}],\"parcoords\":[{\"type\":\"parcoords\",\"line\":{\"colorbar\":{\"outlinewidth\":0,\"ticks\":\"\"}}}],\"scatterpolargl\":[{\"type\":\"scatterpolargl\",\"marker\":{\"colorbar\":{\"outlinewidth\":0,\"ticks\":\"\"}}}],\"bar\":[{\"error_x\":{\"color\":\"#2a3f5f\"},\"error_y\":{\"color\":\"#2a3f5f\"},\"marker\":{\"line\":{\"color\":\"#E5ECF6\",\"width\":0.5},\"pattern\":{\"fillmode\":\"overlay\",\"size\":10,\"solidity\":0.2}},\"type\":\"bar\"}],\"scattergeo\":[{\"type\":\"scattergeo\",\"marker\":{\"colorbar\":{\"outlinewidth\":0,\"ticks\":\"\"}}}],\"scatterpolar\":[{\"type\":\"scatterpolar\",\"marker\":{\"colorbar\":{\"outlinewidth\":0,\"ticks\":\"\"}}}],\"histogram\":[{\"marker\":{\"pattern\":{\"fillmode\":\"overlay\",\"size\":10,\"solidity\":0.2}},\"type\":\"histogram\"}],\"scattergl\":[{\"type\":\"scattergl\",\"marker\":{\"colorbar\":{\"outlinewidth\":0,\"ticks\":\"\"}}}],\"scatter3d\":[{\"type\":\"scatter3d\",\"line\":{\"colorbar\":{\"outlinewidth\":0,\"ticks\":\"\"}},\"marker\":{\"colorbar\":{\"outlinewidth\":0,\"ticks\":\"\"}}}],\"scattermapbox\":[{\"type\":\"scattermapbox\",\"marker\":{\"colorbar\":{\"outlinewidth\":0,\"ticks\":\"\"}}}],\"scatterternary\":[{\"type\":\"scatterternary\",\"marker\":{\"colorbar\":{\"outlinewidth\":0,\"ticks\":\"\"}}}],\"scattercarpet\":[{\"type\":\"scattercarpet\",\"marker\":{\"colorbar\":{\"outlinewidth\":0,\"ticks\":\"\"}}}],\"carpet\":[{\"aaxis\":{\"endlinecolor\":\"#2a3f5f\",\"gridcolor\":\"white\",\"linecolor\":\"white\",\"minorgridcolor\":\"white\",\"startlinecolor\":\"#2a3f5f\"},\"baxis\":{\"endlinecolor\":\"#2a3f5f\",\"gridcolor\":\"white\",\"linecolor\":\"white\",\"minorgridcolor\":\"white\",\"startlinecolor\":\"#2a3f5f\"},\"type\":\"carpet\"}],\"table\":[{\"cells\":{\"fill\":{\"color\":\"#EBF0F8\"},\"line\":{\"color\":\"white\"}},\"header\":{\"fill\":{\"color\":\"#C8D4E3\"},\"line\":{\"color\":\"white\"}},\"type\":\"table\"}],\"barpolar\":[{\"marker\":{\"line\":{\"color\":\"#E5ECF6\",\"width\":0.5},\"pattern\":{\"fillmode\":\"overlay\",\"size\":10,\"solidity\":0.2}},\"type\":\"barpolar\"}],\"pie\":[{\"automargin\":true,\"type\":\"pie\"}]},\"layout\":{\"autotypenumbers\":\"strict\",\"colorway\":[\"#636efa\",\"#EF553B\",\"#00cc96\",\"#ab63fa\",\"#FFA15A\",\"#19d3f3\",\"#FF6692\",\"#B6E880\",\"#FF97FF\",\"#FECB52\"],\"font\":{\"color\":\"#2a3f5f\"},\"hovermode\":\"closest\",\"hoverlabel\":{\"align\":\"left\"},\"paper_bgcolor\":\"white\",\"plot_bgcolor\":\"#E5ECF6\",\"polar\":{\"bgcolor\":\"#E5ECF6\",\"angularaxis\":{\"gridcolor\":\"white\",\"linecolor\":\"white\",\"ticks\":\"\"},\"radialaxis\":{\"gridcolor\":\"white\",\"linecolor\":\"white\",\"ticks\":\"\"}},\"ternary\":{\"bgcolor\":\"#E5ECF6\",\"aaxis\":{\"gridcolor\":\"white\",\"linecolor\":\"white\",\"ticks\":\"\"},\"baxis\":{\"gridcolor\":\"white\",\"linecolor\":\"white\",\"ticks\":\"\"},\"caxis\":{\"gridcolor\":\"white\",\"linecolor\":\"white\",\"ticks\":\"\"}},\"coloraxis\":{\"colorbar\":{\"outlinewidth\":0,\"ticks\":\"\"}},\"colorscale\":{\"sequential\":[[0.0,\"#0d0887\"],[0.1111111111111111,\"#46039f\"],[0.2222222222222222,\"#7201a8\"],[0.3333333333333333,\"#9c179e\"],[0.4444444444444444,\"#bd3786\"],[0.5555555555555556,\"#d8576b\"],[0.6666666666666666,\"#ed7953\"],[0.7777777777777778,\"#fb9f3a\"],[0.8888888888888888,\"#fdca26\"],[1.0,\"#f0f921\"]],\"sequentialminus\":[[0.0,\"#0d0887\"],[0.1111111111111111,\"#46039f\"],[0.2222222222222222,\"#7201a8\"],[0.3333333333333333,\"#9c179e\"],[0.4444444444444444,\"#bd3786\"],[0.5555555555555556,\"#d8576b\"],[0.6666666666666666,\"#ed7953\"],[0.7777777777777778,\"#fb9f3a\"],[0.8888888888888888,\"#fdca26\"],[1.0,\"#f0f921\"]],\"diverging\":[[0,\"#8e0152\"],[0.1,\"#c51b7d\"],[0.2,\"#de77ae\"],[0.3,\"#f1b6da\"],[0.4,\"#fde0ef\"],[0.5,\"#f7f7f7\"],[0.6,\"#e6f5d0\"],[0.7,\"#b8e186\"],[0.8,\"#7fbc41\"],[0.9,\"#4d9221\"],[1,\"#276419\"]]},\"xaxis\":{\"gridcolor\":\"white\",\"linecolor\":\"white\",\"ticks\":\"\",\"title\":{\"standoff\":15},\"zerolinecolor\":\"white\",\"automargin\":true,\"zerolinewidth\":2},\"yaxis\":{\"gridcolor\":\"white\",\"linecolor\":\"white\",\"ticks\":\"\",\"title\":{\"standoff\":15},\"zerolinecolor\":\"white\",\"automargin\":true,\"zerolinewidth\":2},\"scene\":{\"xaxis\":{\"backgroundcolor\":\"#E5ECF6\",\"gridcolor\":\"white\",\"linecolor\":\"white\",\"showbackground\":true,\"ticks\":\"\",\"zerolinecolor\":\"white\",\"gridwidth\":2},\"yaxis\":{\"backgroundcolor\":\"#E5ECF6\",\"gridcolor\":\"white\",\"linecolor\":\"white\",\"showbackground\":true,\"ticks\":\"\",\"zerolinecolor\":\"white\",\"gridwidth\":2},\"zaxis\":{\"backgroundcolor\":\"#E5ECF6\",\"gridcolor\":\"white\",\"linecolor\":\"white\",\"showbackground\":true,\"ticks\":\"\",\"zerolinecolor\":\"white\",\"gridwidth\":2}},\"shapedefaults\":{\"line\":{\"color\":\"#2a3f5f\"}},\"annotationdefaults\":{\"arrowcolor\":\"#2a3f5f\",\"arrowhead\":0,\"arrowwidth\":1},\"geo\":{\"bgcolor\":\"white\",\"landcolor\":\"#E5ECF6\",\"subunitcolor\":\"white\",\"showland\":true,\"showlakes\":true,\"lakecolor\":\"white\"},\"title\":{\"x\":0.05},\"mapbox\":{\"style\":\"light\"}}},\"xaxis\":{\"anchor\":\"y\",\"domain\":[0.0,1.0],\"title\":{\"text\":\"Date\"}},\"yaxis\":{\"anchor\":\"x\",\"domain\":[0.0,1.0],\"title\":{\"text\":\"count\"}},\"legend\":{\"title\":{\"text\":\"Mountain\"},\"tracegroupgap\":0},\"margin\":{\"t\":60},\"barmode\":\"relative\"},                        {\"responsive\": true}                    ).then(function(){\n",
       "                            \n",
       "var gd = document.getElementById('cfbc9126-14e9-4eb4-85e5-5f4b81260fea');\n",
       "var x = new MutationObserver(function (mutations, observer) {{\n",
       "        var display = window.getComputedStyle(gd).display;\n",
       "        if (!display || display === 'none') {{\n",
       "            console.log([gd, 'removed!']);\n",
       "            Plotly.purge(gd);\n",
       "            observer.disconnect();\n",
       "        }}\n",
       "}});\n",
       "\n",
       "// Listen for the removal of the full notebook cells\n",
       "var notebookContainer = gd.closest('#notebook-container');\n",
       "if (notebookContainer) {{\n",
       "    x.observe(notebookContainer, {childList: true});\n",
       "}}\n",
       "\n",
       "// Listen for the clearing of the current output cell\n",
       "var outputEl = gd.closest('.output');\n",
       "if (outputEl) {{\n",
       "    x.observe(outputEl, {childList: true});\n",
       "}}\n",
       "\n",
       "                        })                };                });            </script>        </div>"
      ]
     },
     "metadata": {},
     "output_type": "display_data"
    }
   ],
   "source": [
    "from plotly.express import histogram\n",
    "histogram(data_frame=df.sort_values(by='Mountain'), x='Date', color='Mountain')"
   ]
  },
  {
   "cell_type": "code",
   "execution_count": 22,
   "metadata": {
    "execution": {
     "iopub.execute_input": "2024-02-12T01:39:20.460313Z",
     "iopub.status.busy": "2024-02-12T01:39:20.459886Z",
     "iopub.status.idle": "2024-02-12T01:39:20.538254Z",
     "shell.execute_reply": "2024-02-12T01:39:20.537187Z",
     "shell.execute_reply.started": "2024-02-12T01:39:20.460257Z"
    }
   },
   "outputs": [
    {
     "data": {
      "application/vnd.plotly.v1+json": {
       "config": {
        "plotlyServerURL": "https://plot.ly"
       },
       "data": [
        {
         "alignmentgroup": "True",
         "bingroup": "x",
         "hovertemplate": "Mountain=%{x}<br>count=%{y}<extra></extra>",
         "legendgroup": "",
         "marker": {
          "color": "#636efa",
          "pattern": {
           "shape": ""
          }
         },
         "name": "",
         "offsetgroup": "",
         "orientation": "v",
         "showlegend": false,
         "type": "histogram",
         "x": [
          "K2",
          "K2",
          "K2",
          "K2",
          "K2",
          "K2",
          "K2",
          "K2",
          "K2",
          "K2",
          "K2",
          "K2",
          "K2",
          "K2",
          "K2",
          "K2",
          "K2",
          "K2",
          "K2",
          "K2",
          "K2",
          "K2",
          "K2",
          "K2",
          "K2",
          "K2",
          "K2",
          "K2",
          "K2",
          "K2",
          "K2",
          "K2",
          "K2",
          "K2",
          "K2",
          "K2",
          "K2",
          "K2",
          "K2",
          "K2",
          "K2",
          "K2",
          "K2",
          "K2",
          "K2",
          "K2",
          "K2",
          "K2",
          "K2",
          "K2",
          "K2",
          "K2",
          "K2",
          "K2",
          "K2",
          "K2",
          "K2",
          "K2",
          "K2",
          "K2",
          "K2",
          "K2",
          "K2",
          "K2",
          "K2",
          "K2",
          "K2",
          "K2",
          "K2",
          "K2",
          "K2",
          "K2",
          "K2",
          "K2",
          "K2",
          "K2",
          "K2",
          "K2",
          "K2",
          "K2",
          "K2",
          "K2",
          "K2",
          "K2",
          "K2",
          "K2",
          "K2",
          "K2",
          "K2",
          "K2",
          "K2",
          "K2",
          "K2",
          "K2",
          "K2",
          "K2",
          "Kangchenjunga",
          "Kangchenjunga",
          "Kangchenjunga",
          "Kangchenjunga",
          "Kangchenjunga",
          "Kangchenjunga",
          "Kangchenjunga",
          "Kangchenjunga",
          "Kangchenjunga",
          "Kangchenjunga",
          "Kangchenjunga",
          "Kangchenjunga",
          "Kangchenjunga",
          "Kangchenjunga",
          "Kangchenjunga",
          "Kangchenjunga",
          "Kangchenjunga",
          "Kangchenjunga",
          "Kangchenjunga",
          "Kangchenjunga",
          "Kangchenjunga",
          "Kangchenjunga",
          "Kangchenjunga",
          "Kangchenjunga",
          "Kangchenjunga",
          "Kangchenjunga",
          "Kangchenjunga",
          "Kangchenjunga",
          "Kangchenjunga",
          "Kangchenjunga",
          "Kangchenjunga",
          "Kangchenjunga",
          "Kangchenjunga",
          "Kangchenjunga",
          "Kangchenjunga",
          "Kangchenjunga",
          "Kangchenjunga",
          "Kangchenjunga",
          "Kangchenjunga",
          "Kangchenjunga",
          "Kangchenjunga",
          "Kangchenjunga",
          "Kangchenjunga",
          "Kangchenjunga",
          "Kangchenjunga",
          "Kangchenjunga",
          "Kangchenjunga",
          "Kangchenjunga",
          "Kangchenjunga",
          "Kangchenjunga",
          "Kangchenjunga",
          "Kangchenjunga",
          "Kangchenjunga",
          "Kangchenjunga",
          "Kangchenjunga",
          "Kangchenjunga",
          "Kangchenjunga",
          "Kangchenjunga",
          "Kangchenjunga",
          "Lhotse",
          "Lhotse",
          "Lhotse",
          "Lhotse",
          "Lhotse",
          "Lhotse",
          "Lhotse",
          "Lhotse",
          "Lhotse",
          "Lhotse",
          "Lhotse",
          "Lhotse",
          "Lhotse",
          "Lhotse",
          "Lhotse",
          "Lhotse",
          "Lhotse",
          "Lhotse",
          "Lhotse",
          "Lhotse",
          "Lhotse",
          "Lhotse",
          "Lhotse",
          "Lhotse",
          "Lhotse",
          "Lhotse",
          "Lhotse",
          "Lhotse",
          "Lhotse",
          "Lhotse",
          "Lhotse",
          "Lhotse",
          "Lhotse",
          "Makalu",
          "Makalu",
          "Makalu",
          "Makalu",
          "Makalu",
          "Makalu",
          "Makalu",
          "Makalu",
          "Makalu",
          "Makalu",
          "Makalu",
          "Makalu",
          "Makalu",
          "Makalu",
          "Makalu",
          "Makalu",
          "Makalu",
          "Makalu",
          "Makalu",
          "Makalu",
          "Makalu",
          "Makalu",
          "Makalu",
          "Makalu",
          "Makalu",
          "Makalu",
          "Makalu",
          "Makalu",
          "Makalu",
          "Makalu",
          "Makalu",
          "Makalu",
          "Makalu",
          "Makalu",
          "Makalu",
          "Makalu",
          "Makalu",
          "Makalu",
          "Makalu",
          "Makalu",
          "Makalu",
          "Makalu",
          "Makalu",
          "Makalu",
          "Makalu",
          "Makalu",
          "Makalu",
          "Makalu",
          "Makalu",
          "Cho Oyu",
          "Cho Oyu",
          "Cho Oyu",
          "Cho Oyu",
          "Cho Oyu",
          "Cho Oyu",
          "Cho Oyu",
          "Cho Oyu",
          "Cho Oyu",
          "Cho Oyu",
          "Cho Oyu",
          "Cho Oyu",
          "Cho Oyu",
          "Cho Oyu",
          "Cho Oyu",
          "Cho Oyu",
          "Cho Oyu",
          "Cho Oyu",
          "Cho Oyu",
          "Cho Oyu",
          "Cho Oyu",
          "Cho Oyu",
          "Cho Oyu",
          "Cho Oyu",
          "Cho Oyu",
          "Cho Oyu",
          "Cho Oyu",
          "Cho Oyu",
          "Cho Oyu",
          "Cho Oyu",
          "Cho Oyu",
          "Cho Oyu",
          "Cho Oyu",
          "Cho Oyu",
          "Cho Oyu",
          "Cho Oyu",
          "Cho Oyu",
          "Cho Oyu",
          "Cho Oyu",
          "Cho Oyu",
          "Cho Oyu",
          "Cho Oyu",
          "Cho Oyu",
          "Cho Oyu",
          "Cho Oyu",
          "Cho Oyu",
          "Cho Oyu",
          "Cho Oyu",
          "Cho Oyu",
          "Cho Oyu",
          "Cho Oyu",
          "Cho Oyu",
          "Dhaulagiri I",
          "Dhaulagiri I",
          "Dhaulagiri I",
          "Dhaulagiri I",
          "Dhaulagiri I",
          "Dhaulagiri I",
          "Dhaulagiri I",
          "Dhaulagiri I",
          "Dhaulagiri I",
          "Dhaulagiri I",
          "Dhaulagiri I",
          "Dhaulagiri I",
          "Dhaulagiri I",
          "Dhaulagiri I",
          "Dhaulagiri I",
          "Dhaulagiri I",
          "Dhaulagiri I",
          "Dhaulagiri I",
          "Dhaulagiri I",
          "Dhaulagiri I",
          "Dhaulagiri I",
          "Dhaulagiri I",
          "Dhaulagiri I",
          "Dhaulagiri I",
          "Dhaulagiri I",
          "Dhaulagiri I",
          "Dhaulagiri I",
          "Dhaulagiri I",
          "Dhaulagiri I",
          "Dhaulagiri I",
          "Dhaulagiri I",
          "Dhaulagiri I",
          "Dhaulagiri I",
          "Dhaulagiri I",
          "Dhaulagiri I",
          "Dhaulagiri I",
          "Dhaulagiri I",
          "Dhaulagiri I",
          "Dhaulagiri I",
          "Dhaulagiri I",
          "Dhaulagiri I",
          "Dhaulagiri I",
          "Dhaulagiri I",
          "Dhaulagiri I",
          "Dhaulagiri I",
          "Dhaulagiri I",
          "Dhaulagiri I",
          "Dhaulagiri I",
          "Dhaulagiri I",
          "Dhaulagiri I",
          "Dhaulagiri I",
          "Dhaulagiri I",
          "Dhaulagiri I",
          "Dhaulagiri I",
          "Dhaulagiri I",
          "Dhaulagiri I",
          "Dhaulagiri I",
          "Dhaulagiri I",
          "Dhaulagiri I",
          "Dhaulagiri I",
          "Dhaulagiri I",
          "Dhaulagiri I",
          "Dhaulagiri I",
          "Dhaulagiri I",
          "Dhaulagiri I",
          "Dhaulagiri I",
          "Dhaulagiri I",
          "Dhaulagiri I",
          "Dhaulagiri I",
          "Dhaulagiri I",
          "Dhaulagiri I",
          "Dhaulagiri I",
          "Dhaulagiri I",
          "Dhaulagiri I",
          "Dhaulagiri I",
          "Dhaulagiri I",
          "Dhaulagiri I",
          "Dhaulagiri I",
          "Dhaulagiri I",
          "Dhaulagiri I",
          "Dhaulagiri I",
          "Dhaulagiri I",
          "Dhaulagiri I",
          "Manaslu",
          "Manaslu",
          "Manaslu",
          "Manaslu",
          "Manaslu",
          "Manaslu",
          "Manaslu",
          "Manaslu",
          "Manaslu",
          "Manaslu",
          "Manaslu",
          "Manaslu",
          "Manaslu",
          "Manaslu",
          "Manaslu",
          "Manaslu",
          "Manaslu",
          "Manaslu",
          "Manaslu",
          "Manaslu",
          "Manaslu",
          "Manaslu",
          "Manaslu",
          "Manaslu",
          "Manaslu",
          "Manaslu",
          "Manaslu",
          "Manaslu",
          "Manaslu",
          "Manaslu",
          "Manaslu",
          "Manaslu",
          "Manaslu",
          "Manaslu",
          "Manaslu",
          "Manaslu",
          "Manaslu",
          "Manaslu",
          "Manaslu",
          "Manaslu",
          "Manaslu",
          "Manaslu",
          "Manaslu",
          "Manaslu",
          "Manaslu",
          "Manaslu",
          "Manaslu",
          "Manaslu",
          "Manaslu",
          "Manaslu",
          "Manaslu",
          "Manaslu",
          "Manaslu",
          "Manaslu",
          "Manaslu",
          "Manaslu",
          "Manaslu",
          "Manaslu",
          "Manaslu",
          "Manaslu",
          "Manaslu",
          "Manaslu",
          "Manaslu",
          "Manaslu",
          "Manaslu",
          "Manaslu",
          "Manaslu",
          "Manaslu",
          "Manaslu",
          "Manaslu",
          "Manaslu",
          "Manaslu",
          "Manaslu",
          "Manaslu",
          "Manaslu",
          "Manaslu",
          "Manaslu",
          "Manaslu",
          "Manaslu",
          "Manaslu",
          "Manaslu",
          "Manaslu",
          "Manaslu",
          "Manaslu",
          "Manaslu",
          "Manaslu",
          "Manaslu",
          "Manaslu",
          "Manaslu",
          "Nanga Parbat",
          "Nanga Parbat",
          "Nanga Parbat",
          "Nanga Parbat",
          "Nanga Parbat",
          "Nanga Parbat",
          "Nanga Parbat",
          "Nanga Parbat",
          "Nanga Parbat",
          "Nanga Parbat",
          "Nanga Parbat",
          "Nanga Parbat",
          "Nanga Parbat",
          "Nanga Parbat",
          "Nanga Parbat",
          "Nanga Parbat",
          "Nanga Parbat",
          "Nanga Parbat",
          "Nanga Parbat",
          "Nanga Parbat",
          "Nanga Parbat",
          "Nanga Parbat",
          "Nanga Parbat",
          "Nanga Parbat",
          "Nanga Parbat",
          "Nanga Parbat",
          "Nanga Parbat",
          "Nanga Parbat",
          "Nanga Parbat",
          "Nanga Parbat",
          "Nanga Parbat",
          "Nanga Parbat",
          "Nanga Parbat",
          "Nanga Parbat",
          "Nanga Parbat",
          "Nanga Parbat",
          "Nanga Parbat",
          "Nanga Parbat",
          "Nanga Parbat",
          "Nanga Parbat",
          "Nanga Parbat",
          "Nanga Parbat",
          "Nanga Parbat",
          "Nanga Parbat",
          "Nanga Parbat",
          "Nanga Parbat",
          "Nanga Parbat",
          "Nanga Parbat",
          "Nanga Parbat",
          "Nanga Parbat",
          "Nanga Parbat",
          "Nanga Parbat",
          "Nanga Parbat",
          "Nanga Parbat",
          "Nanga Parbat",
          "Nanga Parbat",
          "Nanga Parbat",
          "Nanga Parbat",
          "Nanga Parbat",
          "Nanga Parbat",
          "Nanga Parbat",
          "Nanga Parbat",
          "Nanga Parbat",
          "Nanga Parbat",
          "Nanga Parbat",
          "Nanga Parbat",
          "Nanga Parbat",
          "Nanga Parbat",
          "Nanga Parbat",
          "Nanga Parbat",
          "Nanga Parbat",
          "Nanga Parbat",
          "Nanga Parbat",
          "Nanga Parbat",
          "Nanga Parbat",
          "Nanga Parbat",
          "Nanga Parbat",
          "Nanga Parbat",
          "Nanga Parbat",
          "Nanga Parbat",
          "Nanga Parbat",
          "Nanga Parbat",
          "Nanga Parbat",
          "Nanga Parbat",
          "Nanga Parbat",
          "Nanga Parbat",
          "Annapurna I",
          "Annapurna I",
          "Annapurna I",
          "Annapurna I",
          "Annapurna I",
          "Annapurna I",
          "Annapurna I",
          "Annapurna I",
          "Annapurna I",
          "Annapurna I",
          "Annapurna I",
          "Annapurna I",
          "Annapurna I",
          "Annapurna I",
          "Annapurna I",
          "Annapurna I",
          "Annapurna I",
          "Annapurna I",
          "Annapurna I",
          "Annapurna I",
          "Annapurna I",
          "Annapurna I",
          "Annapurna I",
          "Annapurna I",
          "Annapurna I",
          "Annapurna I",
          "Annapurna I",
          "Annapurna I",
          "Annapurna I",
          "Annapurna I",
          "Annapurna I",
          "Annapurna I",
          "Annapurna I",
          "Annapurna I",
          "Annapurna I",
          "Annapurna I",
          "Annapurna I",
          "Annapurna I",
          "Annapurna I",
          "Annapurna I",
          "Annapurna I",
          "Annapurna I",
          "Annapurna I",
          "Annapurna I",
          "Annapurna I",
          "Annapurna I",
          "Annapurna I",
          "Annapurna I",
          "Annapurna I",
          "Annapurna I",
          "Annapurna I",
          "Annapurna I",
          "Annapurna I",
          "Annapurna I",
          "Annapurna I",
          "Annapurna I",
          "Annapurna I",
          "Annapurna I",
          "Annapurna I",
          "Annapurna I",
          "Annapurna I",
          "Annapurna I",
          "Annapurna I",
          "Annapurna I",
          "Annapurna I",
          "Annapurna I",
          "Annapurna I",
          "Annapurna I",
          "Annapurna I",
          "Annapurna I",
          "Annapurna I",
          "Annapurna I",
          "Annapurna I",
          "Annapurna I",
          "Gasherbrum I",
          "Gasherbrum I",
          "Gasherbrum I",
          "Gasherbrum I",
          "Gasherbrum I",
          "Gasherbrum I",
          "Gasherbrum I",
          "Gasherbrum I",
          "Gasherbrum I",
          "Gasherbrum I",
          "Gasherbrum I",
          "Gasherbrum I",
          "Gasherbrum I",
          "Gasherbrum I",
          "Gasherbrum I",
          "Gasherbrum I",
          "Gasherbrum I",
          "Gasherbrum I",
          "Gasherbrum I",
          "Gasherbrum I",
          "Gasherbrum I",
          "Gasherbrum I",
          "Gasherbrum I",
          "Gasherbrum I",
          "Gasherbrum I",
          "Gasherbrum I",
          "Gasherbrum I",
          "Gasherbrum I",
          "Gasherbrum I",
          "Gasherbrum I",
          "Gasherbrum I",
          "Gasherbrum I",
          "Gasherbrum I",
          "Gasherbrum I",
          "Broad Peak",
          "Broad Peak",
          "Broad Peak",
          "Broad Peak",
          "Broad Peak",
          "Broad Peak",
          "Broad Peak",
          "Broad Peak",
          "Broad Peak",
          "Broad Peak",
          "Broad Peak",
          "Broad Peak",
          "Broad Peak",
          "Broad Peak",
          "Broad Peak",
          "Broad Peak",
          "Broad Peak",
          "Broad Peak",
          "Broad Peak",
          "Broad Peak",
          "Broad Peak",
          "Broad Peak",
          "Broad Peak",
          "Broad Peak",
          "Broad Peak",
          "Broad Peak",
          "Broad Peak",
          "Broad Peak",
          "Broad Peak",
          "Broad Peak",
          "Broad Peak",
          "Broad Peak",
          "Broad Peak",
          "Broad Peak",
          "Broad Peak",
          "Broad Peak",
          "Broad Peak",
          "Gasherbrum II",
          "Gasherbrum II",
          "Gasherbrum II",
          "Gasherbrum II",
          "Gasherbrum II",
          "Gasherbrum II",
          "Gasherbrum II",
          "Gasherbrum II",
          "Gasherbrum II",
          "Gasherbrum II",
          "Gasherbrum II",
          "Gasherbrum II",
          "Gasherbrum II",
          "Gasherbrum II",
          "Gasherbrum II",
          "Gasherbrum II",
          "Gasherbrum II",
          "Gasherbrum II",
          "Gasherbrum II",
          "Gasherbrum II",
          "Gasherbrum II",
          "Gasherbrum II",
          "Gasherbrum II",
          "Gasherbrum II",
          "Shishapangma",
          "Shishapangma",
          "Shishapangma",
          "Shishapangma",
          "Shishapangma",
          "Shishapangma",
          "Shishapangma",
          "Shishapangma",
          "Shishapangma",
          "Shishapangma",
          "Shishapangma",
          "Shishapangma",
          "Shishapangma",
          "Shishapangma",
          "Shishapangma",
          "Shishapangma",
          "Shishapangma",
          "Shishapangma",
          "Shishapangma",
          "Shishapangma",
          "Shishapangma",
          "Shishapangma",
          "Shishapangma",
          "Shishapangma",
          "Shishapangma",
          "Shishapangma",
          "Shishapangma",
          "Shishapangma",
          "Shishapangma",
          "Shishapangma",
          "Shishapangma",
          "Mount Everest",
          "Mount Everest",
          "Mount Everest",
          "Mount Everest",
          "Mount Everest",
          "Mount Everest",
          "Mount Everest",
          "Mount Everest",
          "Mount Everest",
          "Mount Everest",
          "Mount Everest",
          "Mount Everest",
          "Mount Everest",
          "Mount Everest",
          "Mount Everest",
          "Mount Everest",
          "Mount Everest",
          "Mount Everest",
          "Mount Everest",
          "Mount Everest",
          "Mount Everest",
          "Mount Everest",
          "Mount Everest",
          "Mount Everest",
          "Mount Everest",
          "Mount Everest",
          "Mount Everest",
          "Mount Everest",
          "Mount Everest",
          "Mount Everest",
          "Mount Everest",
          "Mount Everest",
          "Mount Everest",
          "Mount Everest",
          "Mount Everest",
          "Mount Everest",
          "Mount Everest",
          "Mount Everest",
          "Mount Everest",
          "Mount Everest",
          "Mount Everest",
          "Mount Everest",
          "Mount Everest",
          "Mount Everest",
          "Mount Everest",
          "Mount Everest",
          "Mount Everest",
          "Mount Everest",
          "Mount Everest",
          "Mount Everest",
          "Mount Everest",
          "Mount Everest",
          "Mount Everest",
          "Mount Everest",
          "Mount Everest",
          "Mount Everest",
          "Mount Everest",
          "Mount Everest",
          "Mount Everest",
          "Mount Everest",
          "Mount Everest",
          "Mount Everest",
          "Mount Everest",
          "Mount Everest",
          "Mount Everest",
          "Mount Everest",
          "Mount Everest",
          "Mount Everest",
          "Mount Everest",
          "Mount Everest",
          "Mount Everest",
          "Mount Everest",
          "Mount Everest",
          "Mount Everest",
          "Mount Everest",
          "Mount Everest",
          "Mount Everest",
          "Mount Everest",
          "Mount Everest",
          "Mount Everest",
          "Mount Everest",
          "Mount Everest",
          "Mount Everest",
          "Mount Everest",
          "Mount Everest",
          "Mount Everest",
          "Mount Everest",
          "Mount Everest",
          "Mount Everest",
          "Mount Everest",
          "Mount Everest",
          "Mount Everest",
          "Mount Everest",
          "Mount Everest",
          "Mount Everest",
          "Mount Everest",
          "Mount Everest",
          "Mount Everest",
          "Mount Everest",
          "Mount Everest",
          "Mount Everest",
          "Mount Everest",
          "Mount Everest",
          "Mount Everest",
          "Mount Everest",
          "Mount Everest",
          "Mount Everest",
          "Mount Everest",
          "Mount Everest",
          "Mount Everest",
          "Mount Everest",
          "Mount Everest",
          "Mount Everest",
          "Mount Everest",
          "Mount Everest",
          "Mount Everest",
          "Mount Everest",
          "Mount Everest",
          "Mount Everest",
          "Mount Everest",
          "Mount Everest",
          "Mount Everest",
          "Mount Everest",
          "Mount Everest",
          "Mount Everest",
          "Mount Everest",
          "Mount Everest",
          "Mount Everest",
          "Mount Everest",
          "Mount Everest",
          "Mount Everest",
          "Mount Everest",
          "Mount Everest",
          "Mount Everest",
          "Mount Everest",
          "Mount Everest",
          "Mount Everest",
          "Mount Everest",
          "Mount Everest",
          "Mount Everest",
          "Mount Everest",
          "Mount Everest",
          "Mount Everest",
          "Mount Everest",
          "Mount Everest",
          "Mount Everest",
          "Mount Everest",
          "Mount Everest",
          "Mount Everest",
          "Mount Everest",
          "Mount Everest",
          "Mount Everest",
          "Mount Everest",
          "Mount Everest",
          "Mount Everest",
          "Mount Everest",
          "Mount Everest",
          "Mount Everest",
          "Mount Everest",
          "Mount Everest",
          "Mount Everest",
          "Mount Everest",
          "Mount Everest",
          "Mount Everest",
          "Mount Everest",
          "Mount Everest",
          "Mount Everest",
          "Mount Everest",
          "Mount Everest",
          "Mount Everest",
          "Mount Everest",
          "Mount Everest",
          "Mount Everest",
          "Mount Everest",
          "Mount Everest",
          "Mount Everest",
          "Mount Everest",
          "Mount Everest",
          "Mount Everest",
          "Mount Everest",
          "Mount Everest",
          "Mount Everest",
          "Mount Everest",
          "Mount Everest",
          "Mount Everest",
          "Mount Everest",
          "Mount Everest",
          "Mount Everest",
          "Mount Everest",
          "Mount Everest",
          "Mount Everest",
          "Mount Everest",
          "Mount Everest",
          "Mount Everest",
          "Mount Everest",
          "Mount Everest",
          "Mount Everest",
          "Mount Everest",
          "Mount Everest",
          "Mount Everest",
          "Mount Everest",
          "Mount Everest",
          "Mount Everest",
          "Mount Everest",
          "Mount Everest",
          "Mount Everest",
          "Mount Everest",
          "Mount Everest",
          "Mount Everest",
          "Mount Everest",
          "Mount Everest",
          "Mount Everest",
          "Mount Everest",
          "Mount Everest",
          "Mount Everest",
          "Mount Everest",
          "Mount Everest",
          "Mount Everest",
          "Mount Everest",
          "Mount Everest",
          "Mount Everest",
          "Mount Everest",
          "Mount Everest",
          "Mount Everest",
          "Mount Everest",
          "Mount Everest",
          "Mount Everest",
          "Mount Everest",
          "Mount Everest",
          "Mount Everest",
          "Mount Everest",
          "Mount Everest",
          "Mount Everest",
          "Mount Everest",
          "Mount Everest",
          "Mount Everest",
          "Mount Everest",
          "Mount Everest",
          "Mount Everest",
          "Mount Everest",
          "Mount Everest",
          "Mount Everest",
          "Mount Everest",
          "Mount Everest",
          "Mount Everest",
          "Mount Everest",
          "Mount Everest",
          "Mount Everest",
          "Mount Everest",
          "Mount Everest",
          "Mount Everest",
          "Mount Everest",
          "Mount Everest",
          "Mount Everest",
          "Mount Everest",
          "Mount Everest",
          "Mount Everest",
          "Mount Everest",
          "Mount Everest",
          "Mount Everest",
          "Mount Everest",
          "Mount Everest",
          "Mount Everest",
          "Mount Everest",
          "Mount Everest",
          "Mount Everest",
          "Mount Everest",
          "Mount Everest",
          "Mount Everest",
          "Mount Everest",
          "Mount Everest",
          "Mount Everest",
          "Mount Everest",
          "Mount Everest",
          "Mount Everest",
          "Mount Everest",
          "Mount Everest",
          "Mount Everest",
          "Mount Everest",
          "Mount Everest",
          "Mount Everest",
          "Mount Everest",
          "Mount Everest",
          "Mount Everest",
          "Mount Everest",
          "Mount Everest",
          "Mount Everest",
          "Mount Everest",
          "Mount Everest",
          "Mount Everest",
          "Mount Everest",
          "Mount Everest",
          "Mount Everest",
          "Mount Everest",
          "Mount Everest",
          "Mount Everest",
          "Mount Everest",
          "Mount Everest",
          "Mount Everest",
          "Mount Everest",
          "Mount Everest",
          "Mount Everest",
          "Mount Everest",
          "Mount Everest",
          "Mount Everest",
          "Mount Everest",
          "Mount Everest",
          "Mount Everest",
          "Mount Everest",
          "Mount Everest",
          "Mount Everest",
          "Mount Everest",
          "Mount Everest",
          "Mount Everest",
          "Mount Everest",
          "Mount Everest",
          "Mount Everest",
          "Mount Everest",
          "Mount Everest",
          "Mount Everest",
          "Mount Everest",
          "Mount Everest",
          "Mount Everest",
          "Mount Everest",
          "Mount Everest",
          "Mount Everest",
          "Mount Everest",
          "Mount Everest",
          "Mount Everest",
          "Mount Everest",
          "Mount Everest"
         ],
         "xaxis": "x",
         "yaxis": "y"
        }
       ],
       "layout": {
        "barmode": "relative",
        "legend": {
         "tracegroupgap": 0
        },
        "margin": {
         "t": 60
        },
        "template": {
         "data": {
          "bar": [
           {
            "error_x": {
             "color": "#2a3f5f"
            },
            "error_y": {
             "color": "#2a3f5f"
            },
            "marker": {
             "line": {
              "color": "#E5ECF6",
              "width": 0.5
             },
             "pattern": {
              "fillmode": "overlay",
              "size": 10,
              "solidity": 0.2
             }
            },
            "type": "bar"
           }
          ],
          "barpolar": [
           {
            "marker": {
             "line": {
              "color": "#E5ECF6",
              "width": 0.5
             },
             "pattern": {
              "fillmode": "overlay",
              "size": 10,
              "solidity": 0.2
             }
            },
            "type": "barpolar"
           }
          ],
          "carpet": [
           {
            "aaxis": {
             "endlinecolor": "#2a3f5f",
             "gridcolor": "white",
             "linecolor": "white",
             "minorgridcolor": "white",
             "startlinecolor": "#2a3f5f"
            },
            "baxis": {
             "endlinecolor": "#2a3f5f",
             "gridcolor": "white",
             "linecolor": "white",
             "minorgridcolor": "white",
             "startlinecolor": "#2a3f5f"
            },
            "type": "carpet"
           }
          ],
          "choropleth": [
           {
            "colorbar": {
             "outlinewidth": 0,
             "ticks": ""
            },
            "type": "choropleth"
           }
          ],
          "contour": [
           {
            "colorbar": {
             "outlinewidth": 0,
             "ticks": ""
            },
            "colorscale": [
             [
              0,
              "#0d0887"
             ],
             [
              0.1111111111111111,
              "#46039f"
             ],
             [
              0.2222222222222222,
              "#7201a8"
             ],
             [
              0.3333333333333333,
              "#9c179e"
             ],
             [
              0.4444444444444444,
              "#bd3786"
             ],
             [
              0.5555555555555556,
              "#d8576b"
             ],
             [
              0.6666666666666666,
              "#ed7953"
             ],
             [
              0.7777777777777778,
              "#fb9f3a"
             ],
             [
              0.8888888888888888,
              "#fdca26"
             ],
             [
              1,
              "#f0f921"
             ]
            ],
            "type": "contour"
           }
          ],
          "contourcarpet": [
           {
            "colorbar": {
             "outlinewidth": 0,
             "ticks": ""
            },
            "type": "contourcarpet"
           }
          ],
          "heatmap": [
           {
            "colorbar": {
             "outlinewidth": 0,
             "ticks": ""
            },
            "colorscale": [
             [
              0,
              "#0d0887"
             ],
             [
              0.1111111111111111,
              "#46039f"
             ],
             [
              0.2222222222222222,
              "#7201a8"
             ],
             [
              0.3333333333333333,
              "#9c179e"
             ],
             [
              0.4444444444444444,
              "#bd3786"
             ],
             [
              0.5555555555555556,
              "#d8576b"
             ],
             [
              0.6666666666666666,
              "#ed7953"
             ],
             [
              0.7777777777777778,
              "#fb9f3a"
             ],
             [
              0.8888888888888888,
              "#fdca26"
             ],
             [
              1,
              "#f0f921"
             ]
            ],
            "type": "heatmap"
           }
          ],
          "heatmapgl": [
           {
            "colorbar": {
             "outlinewidth": 0,
             "ticks": ""
            },
            "colorscale": [
             [
              0,
              "#0d0887"
             ],
             [
              0.1111111111111111,
              "#46039f"
             ],
             [
              0.2222222222222222,
              "#7201a8"
             ],
             [
              0.3333333333333333,
              "#9c179e"
             ],
             [
              0.4444444444444444,
              "#bd3786"
             ],
             [
              0.5555555555555556,
              "#d8576b"
             ],
             [
              0.6666666666666666,
              "#ed7953"
             ],
             [
              0.7777777777777778,
              "#fb9f3a"
             ],
             [
              0.8888888888888888,
              "#fdca26"
             ],
             [
              1,
              "#f0f921"
             ]
            ],
            "type": "heatmapgl"
           }
          ],
          "histogram": [
           {
            "marker": {
             "pattern": {
              "fillmode": "overlay",
              "size": 10,
              "solidity": 0.2
             }
            },
            "type": "histogram"
           }
          ],
          "histogram2d": [
           {
            "colorbar": {
             "outlinewidth": 0,
             "ticks": ""
            },
            "colorscale": [
             [
              0,
              "#0d0887"
             ],
             [
              0.1111111111111111,
              "#46039f"
             ],
             [
              0.2222222222222222,
              "#7201a8"
             ],
             [
              0.3333333333333333,
              "#9c179e"
             ],
             [
              0.4444444444444444,
              "#bd3786"
             ],
             [
              0.5555555555555556,
              "#d8576b"
             ],
             [
              0.6666666666666666,
              "#ed7953"
             ],
             [
              0.7777777777777778,
              "#fb9f3a"
             ],
             [
              0.8888888888888888,
              "#fdca26"
             ],
             [
              1,
              "#f0f921"
             ]
            ],
            "type": "histogram2d"
           }
          ],
          "histogram2dcontour": [
           {
            "colorbar": {
             "outlinewidth": 0,
             "ticks": ""
            },
            "colorscale": [
             [
              0,
              "#0d0887"
             ],
             [
              0.1111111111111111,
              "#46039f"
             ],
             [
              0.2222222222222222,
              "#7201a8"
             ],
             [
              0.3333333333333333,
              "#9c179e"
             ],
             [
              0.4444444444444444,
              "#bd3786"
             ],
             [
              0.5555555555555556,
              "#d8576b"
             ],
             [
              0.6666666666666666,
              "#ed7953"
             ],
             [
              0.7777777777777778,
              "#fb9f3a"
             ],
             [
              0.8888888888888888,
              "#fdca26"
             ],
             [
              1,
              "#f0f921"
             ]
            ],
            "type": "histogram2dcontour"
           }
          ],
          "mesh3d": [
           {
            "colorbar": {
             "outlinewidth": 0,
             "ticks": ""
            },
            "type": "mesh3d"
           }
          ],
          "parcoords": [
           {
            "line": {
             "colorbar": {
              "outlinewidth": 0,
              "ticks": ""
             }
            },
            "type": "parcoords"
           }
          ],
          "pie": [
           {
            "automargin": true,
            "type": "pie"
           }
          ],
          "scatter": [
           {
            "fillpattern": {
             "fillmode": "overlay",
             "size": 10,
             "solidity": 0.2
            },
            "type": "scatter"
           }
          ],
          "scatter3d": [
           {
            "line": {
             "colorbar": {
              "outlinewidth": 0,
              "ticks": ""
             }
            },
            "marker": {
             "colorbar": {
              "outlinewidth": 0,
              "ticks": ""
             }
            },
            "type": "scatter3d"
           }
          ],
          "scattercarpet": [
           {
            "marker": {
             "colorbar": {
              "outlinewidth": 0,
              "ticks": ""
             }
            },
            "type": "scattercarpet"
           }
          ],
          "scattergeo": [
           {
            "marker": {
             "colorbar": {
              "outlinewidth": 0,
              "ticks": ""
             }
            },
            "type": "scattergeo"
           }
          ],
          "scattergl": [
           {
            "marker": {
             "colorbar": {
              "outlinewidth": 0,
              "ticks": ""
             }
            },
            "type": "scattergl"
           }
          ],
          "scattermapbox": [
           {
            "marker": {
             "colorbar": {
              "outlinewidth": 0,
              "ticks": ""
             }
            },
            "type": "scattermapbox"
           }
          ],
          "scatterpolar": [
           {
            "marker": {
             "colorbar": {
              "outlinewidth": 0,
              "ticks": ""
             }
            },
            "type": "scatterpolar"
           }
          ],
          "scatterpolargl": [
           {
            "marker": {
             "colorbar": {
              "outlinewidth": 0,
              "ticks": ""
             }
            },
            "type": "scatterpolargl"
           }
          ],
          "scatterternary": [
           {
            "marker": {
             "colorbar": {
              "outlinewidth": 0,
              "ticks": ""
             }
            },
            "type": "scatterternary"
           }
          ],
          "surface": [
           {
            "colorbar": {
             "outlinewidth": 0,
             "ticks": ""
            },
            "colorscale": [
             [
              0,
              "#0d0887"
             ],
             [
              0.1111111111111111,
              "#46039f"
             ],
             [
              0.2222222222222222,
              "#7201a8"
             ],
             [
              0.3333333333333333,
              "#9c179e"
             ],
             [
              0.4444444444444444,
              "#bd3786"
             ],
             [
              0.5555555555555556,
              "#d8576b"
             ],
             [
              0.6666666666666666,
              "#ed7953"
             ],
             [
              0.7777777777777778,
              "#fb9f3a"
             ],
             [
              0.8888888888888888,
              "#fdca26"
             ],
             [
              1,
              "#f0f921"
             ]
            ],
            "type": "surface"
           }
          ],
          "table": [
           {
            "cells": {
             "fill": {
              "color": "#EBF0F8"
             },
             "line": {
              "color": "white"
             }
            },
            "header": {
             "fill": {
              "color": "#C8D4E3"
             },
             "line": {
              "color": "white"
             }
            },
            "type": "table"
           }
          ]
         },
         "layout": {
          "annotationdefaults": {
           "arrowcolor": "#2a3f5f",
           "arrowhead": 0,
           "arrowwidth": 1
          },
          "autotypenumbers": "strict",
          "coloraxis": {
           "colorbar": {
            "outlinewidth": 0,
            "ticks": ""
           }
          },
          "colorscale": {
           "diverging": [
            [
             0,
             "#8e0152"
            ],
            [
             0.1,
             "#c51b7d"
            ],
            [
             0.2,
             "#de77ae"
            ],
            [
             0.3,
             "#f1b6da"
            ],
            [
             0.4,
             "#fde0ef"
            ],
            [
             0.5,
             "#f7f7f7"
            ],
            [
             0.6,
             "#e6f5d0"
            ],
            [
             0.7,
             "#b8e186"
            ],
            [
             0.8,
             "#7fbc41"
            ],
            [
             0.9,
             "#4d9221"
            ],
            [
             1,
             "#276419"
            ]
           ],
           "sequential": [
            [
             0,
             "#0d0887"
            ],
            [
             0.1111111111111111,
             "#46039f"
            ],
            [
             0.2222222222222222,
             "#7201a8"
            ],
            [
             0.3333333333333333,
             "#9c179e"
            ],
            [
             0.4444444444444444,
             "#bd3786"
            ],
            [
             0.5555555555555556,
             "#d8576b"
            ],
            [
             0.6666666666666666,
             "#ed7953"
            ],
            [
             0.7777777777777778,
             "#fb9f3a"
            ],
            [
             0.8888888888888888,
             "#fdca26"
            ],
            [
             1,
             "#f0f921"
            ]
           ],
           "sequentialminus": [
            [
             0,
             "#0d0887"
            ],
            [
             0.1111111111111111,
             "#46039f"
            ],
            [
             0.2222222222222222,
             "#7201a8"
            ],
            [
             0.3333333333333333,
             "#9c179e"
            ],
            [
             0.4444444444444444,
             "#bd3786"
            ],
            [
             0.5555555555555556,
             "#d8576b"
            ],
            [
             0.6666666666666666,
             "#ed7953"
            ],
            [
             0.7777777777777778,
             "#fb9f3a"
            ],
            [
             0.8888888888888888,
             "#fdca26"
            ],
            [
             1,
             "#f0f921"
            ]
           ]
          },
          "colorway": [
           "#636efa",
           "#EF553B",
           "#00cc96",
           "#ab63fa",
           "#FFA15A",
           "#19d3f3",
           "#FF6692",
           "#B6E880",
           "#FF97FF",
           "#FECB52"
          ],
          "font": {
           "color": "#2a3f5f"
          },
          "geo": {
           "bgcolor": "white",
           "lakecolor": "white",
           "landcolor": "#E5ECF6",
           "showlakes": true,
           "showland": true,
           "subunitcolor": "white"
          },
          "hoverlabel": {
           "align": "left"
          },
          "hovermode": "closest",
          "mapbox": {
           "style": "light"
          },
          "paper_bgcolor": "white",
          "plot_bgcolor": "#E5ECF6",
          "polar": {
           "angularaxis": {
            "gridcolor": "white",
            "linecolor": "white",
            "ticks": ""
           },
           "bgcolor": "#E5ECF6",
           "radialaxis": {
            "gridcolor": "white",
            "linecolor": "white",
            "ticks": ""
           }
          },
          "scene": {
           "xaxis": {
            "backgroundcolor": "#E5ECF6",
            "gridcolor": "white",
            "gridwidth": 2,
            "linecolor": "white",
            "showbackground": true,
            "ticks": "",
            "zerolinecolor": "white"
           },
           "yaxis": {
            "backgroundcolor": "#E5ECF6",
            "gridcolor": "white",
            "gridwidth": 2,
            "linecolor": "white",
            "showbackground": true,
            "ticks": "",
            "zerolinecolor": "white"
           },
           "zaxis": {
            "backgroundcolor": "#E5ECF6",
            "gridcolor": "white",
            "gridwidth": 2,
            "linecolor": "white",
            "showbackground": true,
            "ticks": "",
            "zerolinecolor": "white"
           }
          },
          "shapedefaults": {
           "line": {
            "color": "#2a3f5f"
           }
          },
          "ternary": {
           "aaxis": {
            "gridcolor": "white",
            "linecolor": "white",
            "ticks": ""
           },
           "baxis": {
            "gridcolor": "white",
            "linecolor": "white",
            "ticks": ""
           },
           "bgcolor": "#E5ECF6",
           "caxis": {
            "gridcolor": "white",
            "linecolor": "white",
            "ticks": ""
           }
          },
          "title": {
           "x": 0.05
          },
          "xaxis": {
           "automargin": true,
           "gridcolor": "white",
           "linecolor": "white",
           "ticks": "",
           "title": {
            "standoff": 15
           },
           "zerolinecolor": "white",
           "zerolinewidth": 2
          },
          "yaxis": {
           "automargin": true,
           "gridcolor": "white",
           "linecolor": "white",
           "ticks": "",
           "title": {
            "standoff": 15
           },
           "zerolinecolor": "white",
           "zerolinewidth": 2
          }
         }
        },
        "xaxis": {
         "anchor": "y",
         "domain": [
          0,
          1
         ],
         "title": {
          "text": "Mountain"
         }
        },
        "yaxis": {
         "anchor": "x",
         "domain": [
          0,
          1
         ],
         "title": {
          "text": "count"
         }
        }
       }
      },
      "text/html": [
       "<div>                            <div id=\"138674ac-3b06-4e5a-9020-bfbf31220f10\" class=\"plotly-graph-div\" style=\"height:525px; width:100%;\"></div>            <script type=\"text/javascript\">                require([\"plotly\"], function(Plotly) {                    window.PLOTLYENV=window.PLOTLYENV || {};                                    if (document.getElementById(\"138674ac-3b06-4e5a-9020-bfbf31220f10\")) {                    Plotly.newPlot(                        \"138674ac-3b06-4e5a-9020-bfbf31220f10\",                        [{\"alignmentgroup\":\"True\",\"bingroup\":\"x\",\"hovertemplate\":\"Mountain=%{x}<br>count=%{y}<extra></extra>\",\"legendgroup\":\"\",\"marker\":{\"color\":\"#636efa\",\"pattern\":{\"shape\":\"\"}},\"name\":\"\",\"offsetgroup\":\"\",\"orientation\":\"v\",\"showlegend\":false,\"x\":[\"K2\",\"K2\",\"K2\",\"K2\",\"K2\",\"K2\",\"K2\",\"K2\",\"K2\",\"K2\",\"K2\",\"K2\",\"K2\",\"K2\",\"K2\",\"K2\",\"K2\",\"K2\",\"K2\",\"K2\",\"K2\",\"K2\",\"K2\",\"K2\",\"K2\",\"K2\",\"K2\",\"K2\",\"K2\",\"K2\",\"K2\",\"K2\",\"K2\",\"K2\",\"K2\",\"K2\",\"K2\",\"K2\",\"K2\",\"K2\",\"K2\",\"K2\",\"K2\",\"K2\",\"K2\",\"K2\",\"K2\",\"K2\",\"K2\",\"K2\",\"K2\",\"K2\",\"K2\",\"K2\",\"K2\",\"K2\",\"K2\",\"K2\",\"K2\",\"K2\",\"K2\",\"K2\",\"K2\",\"K2\",\"K2\",\"K2\",\"K2\",\"K2\",\"K2\",\"K2\",\"K2\",\"K2\",\"K2\",\"K2\",\"K2\",\"K2\",\"K2\",\"K2\",\"K2\",\"K2\",\"K2\",\"K2\",\"K2\",\"K2\",\"K2\",\"K2\",\"K2\",\"K2\",\"K2\",\"K2\",\"K2\",\"K2\",\"K2\",\"K2\",\"K2\",\"K2\",\"Kangchenjunga\",\"Kangchenjunga\",\"Kangchenjunga\",\"Kangchenjunga\",\"Kangchenjunga\",\"Kangchenjunga\",\"Kangchenjunga\",\"Kangchenjunga\",\"Kangchenjunga\",\"Kangchenjunga\",\"Kangchenjunga\",\"Kangchenjunga\",\"Kangchenjunga\",\"Kangchenjunga\",\"Kangchenjunga\",\"Kangchenjunga\",\"Kangchenjunga\",\"Kangchenjunga\",\"Kangchenjunga\",\"Kangchenjunga\",\"Kangchenjunga\",\"Kangchenjunga\",\"Kangchenjunga\",\"Kangchenjunga\",\"Kangchenjunga\",\"Kangchenjunga\",\"Kangchenjunga\",\"Kangchenjunga\",\"Kangchenjunga\",\"Kangchenjunga\",\"Kangchenjunga\",\"Kangchenjunga\",\"Kangchenjunga\",\"Kangchenjunga\",\"Kangchenjunga\",\"Kangchenjunga\",\"Kangchenjunga\",\"Kangchenjunga\",\"Kangchenjunga\",\"Kangchenjunga\",\"Kangchenjunga\",\"Kangchenjunga\",\"Kangchenjunga\",\"Kangchenjunga\",\"Kangchenjunga\",\"Kangchenjunga\",\"Kangchenjunga\",\"Kangchenjunga\",\"Kangchenjunga\",\"Kangchenjunga\",\"Kangchenjunga\",\"Kangchenjunga\",\"Kangchenjunga\",\"Kangchenjunga\",\"Kangchenjunga\",\"Kangchenjunga\",\"Kangchenjunga\",\"Kangchenjunga\",\"Kangchenjunga\",\"Lhotse\",\"Lhotse\",\"Lhotse\",\"Lhotse\",\"Lhotse\",\"Lhotse\",\"Lhotse\",\"Lhotse\",\"Lhotse\",\"Lhotse\",\"Lhotse\",\"Lhotse\",\"Lhotse\",\"Lhotse\",\"Lhotse\",\"Lhotse\",\"Lhotse\",\"Lhotse\",\"Lhotse\",\"Lhotse\",\"Lhotse\",\"Lhotse\",\"Lhotse\",\"Lhotse\",\"Lhotse\",\"Lhotse\",\"Lhotse\",\"Lhotse\",\"Lhotse\",\"Lhotse\",\"Lhotse\",\"Lhotse\",\"Lhotse\",\"Makalu\",\"Makalu\",\"Makalu\",\"Makalu\",\"Makalu\",\"Makalu\",\"Makalu\",\"Makalu\",\"Makalu\",\"Makalu\",\"Makalu\",\"Makalu\",\"Makalu\",\"Makalu\",\"Makalu\",\"Makalu\",\"Makalu\",\"Makalu\",\"Makalu\",\"Makalu\",\"Makalu\",\"Makalu\",\"Makalu\",\"Makalu\",\"Makalu\",\"Makalu\",\"Makalu\",\"Makalu\",\"Makalu\",\"Makalu\",\"Makalu\",\"Makalu\",\"Makalu\",\"Makalu\",\"Makalu\",\"Makalu\",\"Makalu\",\"Makalu\",\"Makalu\",\"Makalu\",\"Makalu\",\"Makalu\",\"Makalu\",\"Makalu\",\"Makalu\",\"Makalu\",\"Makalu\",\"Makalu\",\"Makalu\",\"Cho Oyu\",\"Cho Oyu\",\"Cho Oyu\",\"Cho Oyu\",\"Cho Oyu\",\"Cho Oyu\",\"Cho Oyu\",\"Cho Oyu\",\"Cho Oyu\",\"Cho Oyu\",\"Cho Oyu\",\"Cho Oyu\",\"Cho Oyu\",\"Cho Oyu\",\"Cho Oyu\",\"Cho Oyu\",\"Cho Oyu\",\"Cho Oyu\",\"Cho Oyu\",\"Cho Oyu\",\"Cho Oyu\",\"Cho Oyu\",\"Cho Oyu\",\"Cho Oyu\",\"Cho Oyu\",\"Cho Oyu\",\"Cho Oyu\",\"Cho Oyu\",\"Cho Oyu\",\"Cho Oyu\",\"Cho Oyu\",\"Cho Oyu\",\"Cho Oyu\",\"Cho Oyu\",\"Cho Oyu\",\"Cho Oyu\",\"Cho Oyu\",\"Cho Oyu\",\"Cho Oyu\",\"Cho Oyu\",\"Cho Oyu\",\"Cho Oyu\",\"Cho Oyu\",\"Cho Oyu\",\"Cho Oyu\",\"Cho Oyu\",\"Cho Oyu\",\"Cho Oyu\",\"Cho Oyu\",\"Cho Oyu\",\"Cho Oyu\",\"Cho Oyu\",\"Dhaulagiri I\",\"Dhaulagiri I\",\"Dhaulagiri I\",\"Dhaulagiri I\",\"Dhaulagiri I\",\"Dhaulagiri I\",\"Dhaulagiri I\",\"Dhaulagiri I\",\"Dhaulagiri I\",\"Dhaulagiri I\",\"Dhaulagiri I\",\"Dhaulagiri I\",\"Dhaulagiri I\",\"Dhaulagiri I\",\"Dhaulagiri I\",\"Dhaulagiri I\",\"Dhaulagiri I\",\"Dhaulagiri I\",\"Dhaulagiri I\",\"Dhaulagiri I\",\"Dhaulagiri I\",\"Dhaulagiri I\",\"Dhaulagiri I\",\"Dhaulagiri I\",\"Dhaulagiri I\",\"Dhaulagiri I\",\"Dhaulagiri I\",\"Dhaulagiri I\",\"Dhaulagiri I\",\"Dhaulagiri I\",\"Dhaulagiri I\",\"Dhaulagiri I\",\"Dhaulagiri I\",\"Dhaulagiri I\",\"Dhaulagiri I\",\"Dhaulagiri I\",\"Dhaulagiri I\",\"Dhaulagiri I\",\"Dhaulagiri I\",\"Dhaulagiri I\",\"Dhaulagiri I\",\"Dhaulagiri I\",\"Dhaulagiri I\",\"Dhaulagiri I\",\"Dhaulagiri I\",\"Dhaulagiri I\",\"Dhaulagiri I\",\"Dhaulagiri I\",\"Dhaulagiri I\",\"Dhaulagiri I\",\"Dhaulagiri I\",\"Dhaulagiri I\",\"Dhaulagiri I\",\"Dhaulagiri I\",\"Dhaulagiri I\",\"Dhaulagiri I\",\"Dhaulagiri I\",\"Dhaulagiri I\",\"Dhaulagiri I\",\"Dhaulagiri I\",\"Dhaulagiri I\",\"Dhaulagiri I\",\"Dhaulagiri I\",\"Dhaulagiri I\",\"Dhaulagiri I\",\"Dhaulagiri I\",\"Dhaulagiri I\",\"Dhaulagiri I\",\"Dhaulagiri I\",\"Dhaulagiri I\",\"Dhaulagiri I\",\"Dhaulagiri I\",\"Dhaulagiri I\",\"Dhaulagiri I\",\"Dhaulagiri I\",\"Dhaulagiri I\",\"Dhaulagiri I\",\"Dhaulagiri I\",\"Dhaulagiri I\",\"Dhaulagiri I\",\"Dhaulagiri I\",\"Dhaulagiri I\",\"Dhaulagiri I\",\"Manaslu\",\"Manaslu\",\"Manaslu\",\"Manaslu\",\"Manaslu\",\"Manaslu\",\"Manaslu\",\"Manaslu\",\"Manaslu\",\"Manaslu\",\"Manaslu\",\"Manaslu\",\"Manaslu\",\"Manaslu\",\"Manaslu\",\"Manaslu\",\"Manaslu\",\"Manaslu\",\"Manaslu\",\"Manaslu\",\"Manaslu\",\"Manaslu\",\"Manaslu\",\"Manaslu\",\"Manaslu\",\"Manaslu\",\"Manaslu\",\"Manaslu\",\"Manaslu\",\"Manaslu\",\"Manaslu\",\"Manaslu\",\"Manaslu\",\"Manaslu\",\"Manaslu\",\"Manaslu\",\"Manaslu\",\"Manaslu\",\"Manaslu\",\"Manaslu\",\"Manaslu\",\"Manaslu\",\"Manaslu\",\"Manaslu\",\"Manaslu\",\"Manaslu\",\"Manaslu\",\"Manaslu\",\"Manaslu\",\"Manaslu\",\"Manaslu\",\"Manaslu\",\"Manaslu\",\"Manaslu\",\"Manaslu\",\"Manaslu\",\"Manaslu\",\"Manaslu\",\"Manaslu\",\"Manaslu\",\"Manaslu\",\"Manaslu\",\"Manaslu\",\"Manaslu\",\"Manaslu\",\"Manaslu\",\"Manaslu\",\"Manaslu\",\"Manaslu\",\"Manaslu\",\"Manaslu\",\"Manaslu\",\"Manaslu\",\"Manaslu\",\"Manaslu\",\"Manaslu\",\"Manaslu\",\"Manaslu\",\"Manaslu\",\"Manaslu\",\"Manaslu\",\"Manaslu\",\"Manaslu\",\"Manaslu\",\"Manaslu\",\"Manaslu\",\"Manaslu\",\"Manaslu\",\"Manaslu\",\"Nanga Parbat\",\"Nanga Parbat\",\"Nanga Parbat\",\"Nanga Parbat\",\"Nanga Parbat\",\"Nanga Parbat\",\"Nanga Parbat\",\"Nanga Parbat\",\"Nanga Parbat\",\"Nanga Parbat\",\"Nanga Parbat\",\"Nanga Parbat\",\"Nanga Parbat\",\"Nanga Parbat\",\"Nanga Parbat\",\"Nanga Parbat\",\"Nanga Parbat\",\"Nanga Parbat\",\"Nanga Parbat\",\"Nanga Parbat\",\"Nanga Parbat\",\"Nanga Parbat\",\"Nanga Parbat\",\"Nanga Parbat\",\"Nanga Parbat\",\"Nanga Parbat\",\"Nanga Parbat\",\"Nanga Parbat\",\"Nanga Parbat\",\"Nanga Parbat\",\"Nanga Parbat\",\"Nanga Parbat\",\"Nanga Parbat\",\"Nanga Parbat\",\"Nanga Parbat\",\"Nanga Parbat\",\"Nanga Parbat\",\"Nanga Parbat\",\"Nanga Parbat\",\"Nanga Parbat\",\"Nanga Parbat\",\"Nanga Parbat\",\"Nanga Parbat\",\"Nanga Parbat\",\"Nanga Parbat\",\"Nanga Parbat\",\"Nanga Parbat\",\"Nanga Parbat\",\"Nanga Parbat\",\"Nanga Parbat\",\"Nanga Parbat\",\"Nanga Parbat\",\"Nanga Parbat\",\"Nanga Parbat\",\"Nanga Parbat\",\"Nanga Parbat\",\"Nanga Parbat\",\"Nanga Parbat\",\"Nanga Parbat\",\"Nanga Parbat\",\"Nanga Parbat\",\"Nanga Parbat\",\"Nanga Parbat\",\"Nanga Parbat\",\"Nanga Parbat\",\"Nanga Parbat\",\"Nanga Parbat\",\"Nanga Parbat\",\"Nanga Parbat\",\"Nanga Parbat\",\"Nanga Parbat\",\"Nanga Parbat\",\"Nanga Parbat\",\"Nanga Parbat\",\"Nanga Parbat\",\"Nanga Parbat\",\"Nanga Parbat\",\"Nanga Parbat\",\"Nanga Parbat\",\"Nanga Parbat\",\"Nanga Parbat\",\"Nanga Parbat\",\"Nanga Parbat\",\"Nanga Parbat\",\"Nanga Parbat\",\"Nanga Parbat\",\"Annapurna I\",\"Annapurna I\",\"Annapurna I\",\"Annapurna I\",\"Annapurna I\",\"Annapurna I\",\"Annapurna I\",\"Annapurna I\",\"Annapurna I\",\"Annapurna I\",\"Annapurna I\",\"Annapurna I\",\"Annapurna I\",\"Annapurna I\",\"Annapurna I\",\"Annapurna I\",\"Annapurna I\",\"Annapurna I\",\"Annapurna I\",\"Annapurna I\",\"Annapurna I\",\"Annapurna I\",\"Annapurna I\",\"Annapurna I\",\"Annapurna I\",\"Annapurna I\",\"Annapurna I\",\"Annapurna I\",\"Annapurna I\",\"Annapurna I\",\"Annapurna I\",\"Annapurna I\",\"Annapurna I\",\"Annapurna I\",\"Annapurna I\",\"Annapurna I\",\"Annapurna I\",\"Annapurna I\",\"Annapurna I\",\"Annapurna I\",\"Annapurna I\",\"Annapurna I\",\"Annapurna I\",\"Annapurna I\",\"Annapurna I\",\"Annapurna I\",\"Annapurna I\",\"Annapurna I\",\"Annapurna I\",\"Annapurna I\",\"Annapurna I\",\"Annapurna I\",\"Annapurna I\",\"Annapurna I\",\"Annapurna I\",\"Annapurna I\",\"Annapurna I\",\"Annapurna I\",\"Annapurna I\",\"Annapurna I\",\"Annapurna I\",\"Annapurna I\",\"Annapurna I\",\"Annapurna I\",\"Annapurna I\",\"Annapurna I\",\"Annapurna I\",\"Annapurna I\",\"Annapurna I\",\"Annapurna I\",\"Annapurna I\",\"Annapurna I\",\"Annapurna I\",\"Annapurna I\",\"Gasherbrum I\",\"Gasherbrum I\",\"Gasherbrum I\",\"Gasherbrum I\",\"Gasherbrum I\",\"Gasherbrum I\",\"Gasherbrum I\",\"Gasherbrum I\",\"Gasherbrum I\",\"Gasherbrum I\",\"Gasherbrum I\",\"Gasherbrum I\",\"Gasherbrum I\",\"Gasherbrum I\",\"Gasherbrum I\",\"Gasherbrum I\",\"Gasherbrum I\",\"Gasherbrum I\",\"Gasherbrum I\",\"Gasherbrum I\",\"Gasherbrum I\",\"Gasherbrum I\",\"Gasherbrum I\",\"Gasherbrum I\",\"Gasherbrum I\",\"Gasherbrum I\",\"Gasherbrum I\",\"Gasherbrum I\",\"Gasherbrum I\",\"Gasherbrum I\",\"Gasherbrum I\",\"Gasherbrum I\",\"Gasherbrum I\",\"Gasherbrum I\",\"Broad Peak\",\"Broad Peak\",\"Broad Peak\",\"Broad Peak\",\"Broad Peak\",\"Broad Peak\",\"Broad Peak\",\"Broad Peak\",\"Broad Peak\",\"Broad Peak\",\"Broad Peak\",\"Broad Peak\",\"Broad Peak\",\"Broad Peak\",\"Broad Peak\",\"Broad Peak\",\"Broad Peak\",\"Broad Peak\",\"Broad Peak\",\"Broad Peak\",\"Broad Peak\",\"Broad Peak\",\"Broad Peak\",\"Broad Peak\",\"Broad Peak\",\"Broad Peak\",\"Broad Peak\",\"Broad Peak\",\"Broad Peak\",\"Broad Peak\",\"Broad Peak\",\"Broad Peak\",\"Broad Peak\",\"Broad Peak\",\"Broad Peak\",\"Broad Peak\",\"Broad Peak\",\"Gasherbrum II\",\"Gasherbrum II\",\"Gasherbrum II\",\"Gasherbrum II\",\"Gasherbrum II\",\"Gasherbrum II\",\"Gasherbrum II\",\"Gasherbrum II\",\"Gasherbrum II\",\"Gasherbrum II\",\"Gasherbrum II\",\"Gasherbrum II\",\"Gasherbrum II\",\"Gasherbrum II\",\"Gasherbrum II\",\"Gasherbrum II\",\"Gasherbrum II\",\"Gasherbrum II\",\"Gasherbrum II\",\"Gasherbrum II\",\"Gasherbrum II\",\"Gasherbrum II\",\"Gasherbrum II\",\"Gasherbrum II\",\"Shishapangma\",\"Shishapangma\",\"Shishapangma\",\"Shishapangma\",\"Shishapangma\",\"Shishapangma\",\"Shishapangma\",\"Shishapangma\",\"Shishapangma\",\"Shishapangma\",\"Shishapangma\",\"Shishapangma\",\"Shishapangma\",\"Shishapangma\",\"Shishapangma\",\"Shishapangma\",\"Shishapangma\",\"Shishapangma\",\"Shishapangma\",\"Shishapangma\",\"Shishapangma\",\"Shishapangma\",\"Shishapangma\",\"Shishapangma\",\"Shishapangma\",\"Shishapangma\",\"Shishapangma\",\"Shishapangma\",\"Shishapangma\",\"Shishapangma\",\"Shishapangma\",\"Mount Everest\",\"Mount Everest\",\"Mount Everest\",\"Mount Everest\",\"Mount Everest\",\"Mount Everest\",\"Mount Everest\",\"Mount Everest\",\"Mount Everest\",\"Mount Everest\",\"Mount Everest\",\"Mount Everest\",\"Mount Everest\",\"Mount Everest\",\"Mount Everest\",\"Mount Everest\",\"Mount Everest\",\"Mount Everest\",\"Mount Everest\",\"Mount Everest\",\"Mount Everest\",\"Mount Everest\",\"Mount Everest\",\"Mount Everest\",\"Mount Everest\",\"Mount Everest\",\"Mount Everest\",\"Mount Everest\",\"Mount Everest\",\"Mount Everest\",\"Mount Everest\",\"Mount Everest\",\"Mount Everest\",\"Mount Everest\",\"Mount Everest\",\"Mount Everest\",\"Mount Everest\",\"Mount Everest\",\"Mount Everest\",\"Mount Everest\",\"Mount Everest\",\"Mount Everest\",\"Mount Everest\",\"Mount Everest\",\"Mount Everest\",\"Mount Everest\",\"Mount Everest\",\"Mount Everest\",\"Mount Everest\",\"Mount Everest\",\"Mount Everest\",\"Mount Everest\",\"Mount Everest\",\"Mount Everest\",\"Mount Everest\",\"Mount Everest\",\"Mount Everest\",\"Mount Everest\",\"Mount Everest\",\"Mount Everest\",\"Mount Everest\",\"Mount Everest\",\"Mount Everest\",\"Mount Everest\",\"Mount Everest\",\"Mount Everest\",\"Mount Everest\",\"Mount Everest\",\"Mount Everest\",\"Mount Everest\",\"Mount Everest\",\"Mount Everest\",\"Mount Everest\",\"Mount Everest\",\"Mount Everest\",\"Mount Everest\",\"Mount Everest\",\"Mount Everest\",\"Mount Everest\",\"Mount Everest\",\"Mount Everest\",\"Mount Everest\",\"Mount Everest\",\"Mount Everest\",\"Mount Everest\",\"Mount Everest\",\"Mount Everest\",\"Mount Everest\",\"Mount Everest\",\"Mount Everest\",\"Mount Everest\",\"Mount Everest\",\"Mount Everest\",\"Mount Everest\",\"Mount Everest\",\"Mount Everest\",\"Mount Everest\",\"Mount Everest\",\"Mount Everest\",\"Mount Everest\",\"Mount Everest\",\"Mount Everest\",\"Mount Everest\",\"Mount Everest\",\"Mount Everest\",\"Mount Everest\",\"Mount Everest\",\"Mount Everest\",\"Mount Everest\",\"Mount Everest\",\"Mount Everest\",\"Mount Everest\",\"Mount Everest\",\"Mount Everest\",\"Mount Everest\",\"Mount Everest\",\"Mount Everest\",\"Mount Everest\",\"Mount Everest\",\"Mount Everest\",\"Mount Everest\",\"Mount Everest\",\"Mount Everest\",\"Mount Everest\",\"Mount Everest\",\"Mount Everest\",\"Mount Everest\",\"Mount Everest\",\"Mount Everest\",\"Mount Everest\",\"Mount Everest\",\"Mount Everest\",\"Mount Everest\",\"Mount Everest\",\"Mount Everest\",\"Mount Everest\",\"Mount Everest\",\"Mount Everest\",\"Mount Everest\",\"Mount Everest\",\"Mount Everest\",\"Mount Everest\",\"Mount Everest\",\"Mount Everest\",\"Mount Everest\",\"Mount Everest\",\"Mount Everest\",\"Mount Everest\",\"Mount Everest\",\"Mount Everest\",\"Mount Everest\",\"Mount Everest\",\"Mount Everest\",\"Mount Everest\",\"Mount Everest\",\"Mount Everest\",\"Mount Everest\",\"Mount Everest\",\"Mount Everest\",\"Mount Everest\",\"Mount Everest\",\"Mount Everest\",\"Mount Everest\",\"Mount Everest\",\"Mount Everest\",\"Mount Everest\",\"Mount Everest\",\"Mount Everest\",\"Mount Everest\",\"Mount Everest\",\"Mount Everest\",\"Mount Everest\",\"Mount Everest\",\"Mount Everest\",\"Mount Everest\",\"Mount Everest\",\"Mount Everest\",\"Mount Everest\",\"Mount Everest\",\"Mount Everest\",\"Mount Everest\",\"Mount Everest\",\"Mount Everest\",\"Mount Everest\",\"Mount Everest\",\"Mount Everest\",\"Mount Everest\",\"Mount Everest\",\"Mount Everest\",\"Mount Everest\",\"Mount Everest\",\"Mount Everest\",\"Mount Everest\",\"Mount Everest\",\"Mount Everest\",\"Mount Everest\",\"Mount Everest\",\"Mount Everest\",\"Mount Everest\",\"Mount Everest\",\"Mount Everest\",\"Mount Everest\",\"Mount Everest\",\"Mount Everest\",\"Mount Everest\",\"Mount Everest\",\"Mount Everest\",\"Mount Everest\",\"Mount Everest\",\"Mount Everest\",\"Mount Everest\",\"Mount Everest\",\"Mount Everest\",\"Mount Everest\",\"Mount Everest\",\"Mount Everest\",\"Mount Everest\",\"Mount Everest\",\"Mount Everest\",\"Mount Everest\",\"Mount Everest\",\"Mount Everest\",\"Mount Everest\",\"Mount Everest\",\"Mount Everest\",\"Mount Everest\",\"Mount Everest\",\"Mount Everest\",\"Mount Everest\",\"Mount Everest\",\"Mount Everest\",\"Mount Everest\",\"Mount Everest\",\"Mount Everest\",\"Mount Everest\",\"Mount Everest\",\"Mount Everest\",\"Mount Everest\",\"Mount Everest\",\"Mount Everest\",\"Mount Everest\",\"Mount Everest\",\"Mount Everest\",\"Mount Everest\",\"Mount Everest\",\"Mount Everest\",\"Mount Everest\",\"Mount Everest\",\"Mount Everest\",\"Mount Everest\",\"Mount Everest\",\"Mount Everest\",\"Mount Everest\",\"Mount Everest\",\"Mount Everest\",\"Mount Everest\",\"Mount Everest\",\"Mount Everest\",\"Mount Everest\",\"Mount Everest\",\"Mount Everest\",\"Mount Everest\",\"Mount Everest\",\"Mount Everest\",\"Mount Everest\",\"Mount Everest\",\"Mount Everest\",\"Mount Everest\",\"Mount Everest\",\"Mount Everest\",\"Mount Everest\",\"Mount Everest\",\"Mount Everest\",\"Mount Everest\",\"Mount Everest\",\"Mount Everest\",\"Mount Everest\",\"Mount Everest\",\"Mount Everest\",\"Mount Everest\",\"Mount Everest\",\"Mount Everest\",\"Mount Everest\",\"Mount Everest\",\"Mount Everest\",\"Mount Everest\",\"Mount Everest\",\"Mount Everest\",\"Mount Everest\",\"Mount Everest\",\"Mount Everest\",\"Mount Everest\",\"Mount Everest\",\"Mount Everest\",\"Mount Everest\",\"Mount Everest\",\"Mount Everest\",\"Mount Everest\",\"Mount Everest\",\"Mount Everest\",\"Mount Everest\",\"Mount Everest\",\"Mount Everest\",\"Mount Everest\",\"Mount Everest\",\"Mount Everest\",\"Mount Everest\",\"Mount Everest\",\"Mount Everest\",\"Mount Everest\",\"Mount Everest\",\"Mount Everest\",\"Mount Everest\",\"Mount Everest\",\"Mount Everest\",\"Mount Everest\",\"Mount Everest\",\"Mount Everest\",\"Mount Everest\",\"Mount Everest\",\"Mount Everest\",\"Mount Everest\",\"Mount Everest\",\"Mount Everest\",\"Mount Everest\",\"Mount Everest\",\"Mount Everest\",\"Mount Everest\",\"Mount Everest\",\"Mount Everest\",\"Mount Everest\"],\"xaxis\":\"x\",\"yaxis\":\"y\",\"type\":\"histogram\"}],                        {\"template\":{\"data\":{\"histogram2dcontour\":[{\"type\":\"histogram2dcontour\",\"colorbar\":{\"outlinewidth\":0,\"ticks\":\"\"},\"colorscale\":[[0.0,\"#0d0887\"],[0.1111111111111111,\"#46039f\"],[0.2222222222222222,\"#7201a8\"],[0.3333333333333333,\"#9c179e\"],[0.4444444444444444,\"#bd3786\"],[0.5555555555555556,\"#d8576b\"],[0.6666666666666666,\"#ed7953\"],[0.7777777777777778,\"#fb9f3a\"],[0.8888888888888888,\"#fdca26\"],[1.0,\"#f0f921\"]]}],\"choropleth\":[{\"type\":\"choropleth\",\"colorbar\":{\"outlinewidth\":0,\"ticks\":\"\"}}],\"histogram2d\":[{\"type\":\"histogram2d\",\"colorbar\":{\"outlinewidth\":0,\"ticks\":\"\"},\"colorscale\":[[0.0,\"#0d0887\"],[0.1111111111111111,\"#46039f\"],[0.2222222222222222,\"#7201a8\"],[0.3333333333333333,\"#9c179e\"],[0.4444444444444444,\"#bd3786\"],[0.5555555555555556,\"#d8576b\"],[0.6666666666666666,\"#ed7953\"],[0.7777777777777778,\"#fb9f3a\"],[0.8888888888888888,\"#fdca26\"],[1.0,\"#f0f921\"]]}],\"heatmap\":[{\"type\":\"heatmap\",\"colorbar\":{\"outlinewidth\":0,\"ticks\":\"\"},\"colorscale\":[[0.0,\"#0d0887\"],[0.1111111111111111,\"#46039f\"],[0.2222222222222222,\"#7201a8\"],[0.3333333333333333,\"#9c179e\"],[0.4444444444444444,\"#bd3786\"],[0.5555555555555556,\"#d8576b\"],[0.6666666666666666,\"#ed7953\"],[0.7777777777777778,\"#fb9f3a\"],[0.8888888888888888,\"#fdca26\"],[1.0,\"#f0f921\"]]}],\"heatmapgl\":[{\"type\":\"heatmapgl\",\"colorbar\":{\"outlinewidth\":0,\"ticks\":\"\"},\"colorscale\":[[0.0,\"#0d0887\"],[0.1111111111111111,\"#46039f\"],[0.2222222222222222,\"#7201a8\"],[0.3333333333333333,\"#9c179e\"],[0.4444444444444444,\"#bd3786\"],[0.5555555555555556,\"#d8576b\"],[0.6666666666666666,\"#ed7953\"],[0.7777777777777778,\"#fb9f3a\"],[0.8888888888888888,\"#fdca26\"],[1.0,\"#f0f921\"]]}],\"contourcarpet\":[{\"type\":\"contourcarpet\",\"colorbar\":{\"outlinewidth\":0,\"ticks\":\"\"}}],\"contour\":[{\"type\":\"contour\",\"colorbar\":{\"outlinewidth\":0,\"ticks\":\"\"},\"colorscale\":[[0.0,\"#0d0887\"],[0.1111111111111111,\"#46039f\"],[0.2222222222222222,\"#7201a8\"],[0.3333333333333333,\"#9c179e\"],[0.4444444444444444,\"#bd3786\"],[0.5555555555555556,\"#d8576b\"],[0.6666666666666666,\"#ed7953\"],[0.7777777777777778,\"#fb9f3a\"],[0.8888888888888888,\"#fdca26\"],[1.0,\"#f0f921\"]]}],\"surface\":[{\"type\":\"surface\",\"colorbar\":{\"outlinewidth\":0,\"ticks\":\"\"},\"colorscale\":[[0.0,\"#0d0887\"],[0.1111111111111111,\"#46039f\"],[0.2222222222222222,\"#7201a8\"],[0.3333333333333333,\"#9c179e\"],[0.4444444444444444,\"#bd3786\"],[0.5555555555555556,\"#d8576b\"],[0.6666666666666666,\"#ed7953\"],[0.7777777777777778,\"#fb9f3a\"],[0.8888888888888888,\"#fdca26\"],[1.0,\"#f0f921\"]]}],\"mesh3d\":[{\"type\":\"mesh3d\",\"colorbar\":{\"outlinewidth\":0,\"ticks\":\"\"}}],\"scatter\":[{\"fillpattern\":{\"fillmode\":\"overlay\",\"size\":10,\"solidity\":0.2},\"type\":\"scatter\"}],\"parcoords\":[{\"type\":\"parcoords\",\"line\":{\"colorbar\":{\"outlinewidth\":0,\"ticks\":\"\"}}}],\"scatterpolargl\":[{\"type\":\"scatterpolargl\",\"marker\":{\"colorbar\":{\"outlinewidth\":0,\"ticks\":\"\"}}}],\"bar\":[{\"error_x\":{\"color\":\"#2a3f5f\"},\"error_y\":{\"color\":\"#2a3f5f\"},\"marker\":{\"line\":{\"color\":\"#E5ECF6\",\"width\":0.5},\"pattern\":{\"fillmode\":\"overlay\",\"size\":10,\"solidity\":0.2}},\"type\":\"bar\"}],\"scattergeo\":[{\"type\":\"scattergeo\",\"marker\":{\"colorbar\":{\"outlinewidth\":0,\"ticks\":\"\"}}}],\"scatterpolar\":[{\"type\":\"scatterpolar\",\"marker\":{\"colorbar\":{\"outlinewidth\":0,\"ticks\":\"\"}}}],\"histogram\":[{\"marker\":{\"pattern\":{\"fillmode\":\"overlay\",\"size\":10,\"solidity\":0.2}},\"type\":\"histogram\"}],\"scattergl\":[{\"type\":\"scattergl\",\"marker\":{\"colorbar\":{\"outlinewidth\":0,\"ticks\":\"\"}}}],\"scatter3d\":[{\"type\":\"scatter3d\",\"line\":{\"colorbar\":{\"outlinewidth\":0,\"ticks\":\"\"}},\"marker\":{\"colorbar\":{\"outlinewidth\":0,\"ticks\":\"\"}}}],\"scattermapbox\":[{\"type\":\"scattermapbox\",\"marker\":{\"colorbar\":{\"outlinewidth\":0,\"ticks\":\"\"}}}],\"scatterternary\":[{\"type\":\"scatterternary\",\"marker\":{\"colorbar\":{\"outlinewidth\":0,\"ticks\":\"\"}}}],\"scattercarpet\":[{\"type\":\"scattercarpet\",\"marker\":{\"colorbar\":{\"outlinewidth\":0,\"ticks\":\"\"}}}],\"carpet\":[{\"aaxis\":{\"endlinecolor\":\"#2a3f5f\",\"gridcolor\":\"white\",\"linecolor\":\"white\",\"minorgridcolor\":\"white\",\"startlinecolor\":\"#2a3f5f\"},\"baxis\":{\"endlinecolor\":\"#2a3f5f\",\"gridcolor\":\"white\",\"linecolor\":\"white\",\"minorgridcolor\":\"white\",\"startlinecolor\":\"#2a3f5f\"},\"type\":\"carpet\"}],\"table\":[{\"cells\":{\"fill\":{\"color\":\"#EBF0F8\"},\"line\":{\"color\":\"white\"}},\"header\":{\"fill\":{\"color\":\"#C8D4E3\"},\"line\":{\"color\":\"white\"}},\"type\":\"table\"}],\"barpolar\":[{\"marker\":{\"line\":{\"color\":\"#E5ECF6\",\"width\":0.5},\"pattern\":{\"fillmode\":\"overlay\",\"size\":10,\"solidity\":0.2}},\"type\":\"barpolar\"}],\"pie\":[{\"automargin\":true,\"type\":\"pie\"}]},\"layout\":{\"autotypenumbers\":\"strict\",\"colorway\":[\"#636efa\",\"#EF553B\",\"#00cc96\",\"#ab63fa\",\"#FFA15A\",\"#19d3f3\",\"#FF6692\",\"#B6E880\",\"#FF97FF\",\"#FECB52\"],\"font\":{\"color\":\"#2a3f5f\"},\"hovermode\":\"closest\",\"hoverlabel\":{\"align\":\"left\"},\"paper_bgcolor\":\"white\",\"plot_bgcolor\":\"#E5ECF6\",\"polar\":{\"bgcolor\":\"#E5ECF6\",\"angularaxis\":{\"gridcolor\":\"white\",\"linecolor\":\"white\",\"ticks\":\"\"},\"radialaxis\":{\"gridcolor\":\"white\",\"linecolor\":\"white\",\"ticks\":\"\"}},\"ternary\":{\"bgcolor\":\"#E5ECF6\",\"aaxis\":{\"gridcolor\":\"white\",\"linecolor\":\"white\",\"ticks\":\"\"},\"baxis\":{\"gridcolor\":\"white\",\"linecolor\":\"white\",\"ticks\":\"\"},\"caxis\":{\"gridcolor\":\"white\",\"linecolor\":\"white\",\"ticks\":\"\"}},\"coloraxis\":{\"colorbar\":{\"outlinewidth\":0,\"ticks\":\"\"}},\"colorscale\":{\"sequential\":[[0.0,\"#0d0887\"],[0.1111111111111111,\"#46039f\"],[0.2222222222222222,\"#7201a8\"],[0.3333333333333333,\"#9c179e\"],[0.4444444444444444,\"#bd3786\"],[0.5555555555555556,\"#d8576b\"],[0.6666666666666666,\"#ed7953\"],[0.7777777777777778,\"#fb9f3a\"],[0.8888888888888888,\"#fdca26\"],[1.0,\"#f0f921\"]],\"sequentialminus\":[[0.0,\"#0d0887\"],[0.1111111111111111,\"#46039f\"],[0.2222222222222222,\"#7201a8\"],[0.3333333333333333,\"#9c179e\"],[0.4444444444444444,\"#bd3786\"],[0.5555555555555556,\"#d8576b\"],[0.6666666666666666,\"#ed7953\"],[0.7777777777777778,\"#fb9f3a\"],[0.8888888888888888,\"#fdca26\"],[1.0,\"#f0f921\"]],\"diverging\":[[0,\"#8e0152\"],[0.1,\"#c51b7d\"],[0.2,\"#de77ae\"],[0.3,\"#f1b6da\"],[0.4,\"#fde0ef\"],[0.5,\"#f7f7f7\"],[0.6,\"#e6f5d0\"],[0.7,\"#b8e186\"],[0.8,\"#7fbc41\"],[0.9,\"#4d9221\"],[1,\"#276419\"]]},\"xaxis\":{\"gridcolor\":\"white\",\"linecolor\":\"white\",\"ticks\":\"\",\"title\":{\"standoff\":15},\"zerolinecolor\":\"white\",\"automargin\":true,\"zerolinewidth\":2},\"yaxis\":{\"gridcolor\":\"white\",\"linecolor\":\"white\",\"ticks\":\"\",\"title\":{\"standoff\":15},\"zerolinecolor\":\"white\",\"automargin\":true,\"zerolinewidth\":2},\"scene\":{\"xaxis\":{\"backgroundcolor\":\"#E5ECF6\",\"gridcolor\":\"white\",\"linecolor\":\"white\",\"showbackground\":true,\"ticks\":\"\",\"zerolinecolor\":\"white\",\"gridwidth\":2},\"yaxis\":{\"backgroundcolor\":\"#E5ECF6\",\"gridcolor\":\"white\",\"linecolor\":\"white\",\"showbackground\":true,\"ticks\":\"\",\"zerolinecolor\":\"white\",\"gridwidth\":2},\"zaxis\":{\"backgroundcolor\":\"#E5ECF6\",\"gridcolor\":\"white\",\"linecolor\":\"white\",\"showbackground\":true,\"ticks\":\"\",\"zerolinecolor\":\"white\",\"gridwidth\":2}},\"shapedefaults\":{\"line\":{\"color\":\"#2a3f5f\"}},\"annotationdefaults\":{\"arrowcolor\":\"#2a3f5f\",\"arrowhead\":0,\"arrowwidth\":1},\"geo\":{\"bgcolor\":\"white\",\"landcolor\":\"#E5ECF6\",\"subunitcolor\":\"white\",\"showland\":true,\"showlakes\":true,\"lakecolor\":\"white\"},\"title\":{\"x\":0.05},\"mapbox\":{\"style\":\"light\"}}},\"xaxis\":{\"anchor\":\"y\",\"domain\":[0.0,1.0],\"title\":{\"text\":\"Mountain\"}},\"yaxis\":{\"anchor\":\"x\",\"domain\":[0.0,1.0],\"title\":{\"text\":\"count\"}},\"legend\":{\"tracegroupgap\":0},\"margin\":{\"t\":60},\"barmode\":\"relative\"},                        {\"responsive\": true}                    ).then(function(){\n",
       "                            \n",
       "var gd = document.getElementById('138674ac-3b06-4e5a-9020-bfbf31220f10');\n",
       "var x = new MutationObserver(function (mutations, observer) {{\n",
       "        var display = window.getComputedStyle(gd).display;\n",
       "        if (!display || display === 'none') {{\n",
       "            console.log([gd, 'removed!']);\n",
       "            Plotly.purge(gd);\n",
       "            observer.disconnect();\n",
       "        }}\n",
       "}});\n",
       "\n",
       "// Listen for the removal of the full notebook cells\n",
       "var notebookContainer = gd.closest('#notebook-container');\n",
       "if (notebookContainer) {{\n",
       "    x.observe(notebookContainer, {childList: true});\n",
       "}}\n",
       "\n",
       "// Listen for the clearing of the current output cell\n",
       "var outputEl = gd.closest('.output');\n",
       "if (outputEl) {{\n",
       "    x.observe(outputEl, {childList: true});\n",
       "}}\n",
       "\n",
       "                        })                };                });            </script>        </div>"
      ]
     },
     "metadata": {},
     "output_type": "display_data"
    }
   ],
   "source": [
    "histogram(data_frame=df, x='Mountain')"
   ]
  },
  {
   "cell_type": "code",
   "execution_count": 23,
   "metadata": {
    "execution": {
     "iopub.execute_input": "2024-02-12T01:39:20.540136Z",
     "iopub.status.busy": "2024-02-12T01:39:20.53974Z",
     "iopub.status.idle": "2024-02-12T01:39:20.684436Z",
     "shell.execute_reply": "2024-02-12T01:39:20.683467Z",
     "shell.execute_reply.started": "2024-02-12T01:39:20.540101Z"
    }
   },
   "outputs": [
    {
     "data": {
      "application/vnd.plotly.v1+json": {
       "config": {
        "plotlyServerURL": "https://plot.ly"
       },
       "data": [
        {
         "alignmentgroup": "True",
         "bingroup": "y",
         "hovertemplate": "count=%{x}<br>Nationality=%{y}<extra></extra>",
         "legendgroup": "",
         "marker": {
          "color": "#636efa",
          "pattern": {
           "shape": ""
          }
         },
         "name": "",
         "offsetgroup": "",
         "orientation": "h",
         "showlegend": false,
         "type": "histogram",
         "xaxis": "x",
         "y": [
          "Pakistan",
          "Australia",
          "Canada",
          "Afghanistan",
          "United Kingdom",
          "Pakistan",
          "Chile",
          "Iceland",
          "Bulgaria",
          "Spain",
          "Japan",
          "Canada",
          "Spain",
          "New Zealand / United States",
          "New Zealand / United States",
          "Russia",
          "Sweden",
          "Bulgaria",
          "Italy",
          "South Korea",
          "South Korea",
          "South Korea",
          "Nepal",
          "Nepal",
          "Ireland",
          "Pakistan",
          "France",
          "Norway",
          "Pakistan",
          "Serbia",
          "Italy",
          "Nepal",
          "Russia",
          "Russia",
          "Russia",
          "Russia",
          "Spain",
          "Iran",
          "Russia",
          "Kyrgyzstan",
          "South Korea",
          "South Korea",
          "South Korea",
          "Germany",
          "Pakistan",
          "Pakistan",
          "South Korea",
          "Romania",
          "Russia",
          "Italy",
          "Canada",
          "New Zealand",
          "United States",
          "United Kingdom",
          "Spain",
          "Spain",
          "Spain",
          "Spain",
          "Spain",
          "United States",
          "Ukraine",
          "Ukraine",
          "Ukraine",
          "Sweden",
          "Germany",
          "Germany",
          "Canada",
          "Slovenia",
          "Mexico",
          "Austria",
          "Japan",
          "Poland",
          "Austria",
          "Austria",
          "United Kingdom",
          "United Kingdom",
          "Pakistan",
          "Poland",
          "Italy",
          "Poland",
          "France",
          "France",
          "United States",
          "United States",
          "France",
          "Japan",
          "Poland",
          "Pakistan",
          "Pakistan",
          "United Kingdom",
          "Italy",
          "United States",
          "Nepal",
          "Nepal",
          "Nepal",
          "United States",
          "Germany",
          "India",
          "India",
          "India",
          "Chile",
          "India",
          "Nepal",
          "Nepal",
          "Nepal",
          "Nepal",
          "South Korea",
          "Hungary",
          "Hungary",
          "Spain",
          "Canada",
          "Nepal",
          "South Korea",
          "South Korea",
          "Japan",
          "Japan",
          "France",
          "Nepal",
          "France",
          "Nepal",
          "Bulgaria",
          "Belarus",
          "Russia",
          "Poland",
          "Nepal",
          "Nepal",
          "India",
          "Yugoslavia",
          "Yugoslavia",
          "Nepal",
          "Nepal",
          "South Korea",
          "India",
          "India",
          "India",
          "India",
          "India",
          "Poland",
          "Yugoslavia",
          "United States",
          "France",
          "Mexico",
          "Mexico",
          "India",
          "Japan",
          "India",
          "Germany",
          "British Raj",
          "British Raj",
          "British Raj",
          "British Raj",
          "United States",
          "British Raj",
          "Switzerland",
          "British Raj",
          "Nepal",
          "Bulgaria",
          "Russia",
          "Nepal",
          "Japan",
          "China",
          "Nepal",
          "Taiwan",
          "Nepal",
          "Czech Republic",
          "Russia",
          "Kazakhstan",
          "Nepal",
          "Czech Republic",
          "South Korea",
          "South Korea",
          "Russia",
          "Russia",
          "Poland",
          "Spain",
          "Spain",
          "Spain",
          "Spain",
          "Poland",
          "Spain",
          "Poland",
          "Switzerland",
          "Switzerland",
          "Switzerland",
          "Nepal",
          "France",
          "West Germany",
          "Poland",
          "Denmark",
          "Nepal",
          "India",
          "India",
          "Peru",
          "Nepal",
          "Nepal",
          "Nepal",
          "France",
          "China",
          "Switzerland",
          "Greece",
          "India",
          "Nepal",
          "Nepal",
          "France",
          "Nepal",
          "United States",
          "Ukraine",
          "United States",
          "Nepal",
          "Nepal",
          "Nepal",
          "Nepal",
          "Nepal",
          "Nepal",
          "Austria",
          "Germany",
          "Nepal",
          "Denmark",
          "Denmark",
          "Russia",
          "Russia",
          "Russia",
          "Australia",
          "Japan",
          "Spain",
          "Poland",
          "Switzerland",
          "Nepal",
          "Nepal",
          "Australia",
          "New Zealand",
          "Nepal",
          "Poland",
          "Poland",
          "Czechoslovakia",
          "Czechoslovakia",
          "Nepal",
          "Nepal",
          "South Korea",
          "Germany",
          "Czech Republic",
          "Netherlands",
          "Italy",
          "Russia",
          "United States",
          "Netherlands",
          "Slovenia",
          "Canada",
          "Germany",
          "Slovakia",
          "Spain",
          "Greece",
          "Germany",
          "Australia",
          "United Kingdom",
          "Nepal",
          "South Korea",
          "Yugoslavia",
          "Nepal",
          "Nepal",
          "Nepal",
          "Russia",
          "Finland",
          "Spain",
          "Switzerland",
          "Germany",
          "Russia",
          "Czech Republic",
          "Japan",
          "Germany",
          "Nepal",
          "Switzerland",
          "Switzerland",
          "Switzerland",
          "Soviet Union",
          "Germany",
          "Nepal",
          "Nepal",
          "France",
          "Switzerland",
          "Switzerland",
          "West Germany",
          "West Germany",
          "West Germany",
          "Nepal",
          "Nepal",
          "Belgium",
          "France",
          "India",
          "Greece",
          "Nepal",
          "Italy",
          "Nepal",
          "India",
          "Netherlands",
          "Slovakia",
          "Slovakia",
          "Nepal",
          "Nepal",
          "Nepal",
          "Spain",
          "Japan",
          "Nepal",
          "Japan",
          "Japan",
          "Nepal",
          "Japan",
          "China",
          "China",
          "China",
          "Iran",
          "Poland",
          "Spain",
          "Argentina",
          "Spain",
          "Spain",
          "Italy",
          "Japan",
          "Japan",
          "Japan",
          "Spain",
          "Nepal",
          "South Korea",
          "United Kingdom",
          "Nepal",
          "Greece",
          "France",
          "Nepal",
          "Greece",
          "Japan",
          "Germany",
          "Ukraine",
          "Switzerland",
          "New Zealand",
          "Romania",
          "Romania",
          "Germany",
          "Lithuania",
          "Nepal",
          "United States",
          "United States",
          "Nepal",
          "Spain",
          "Nepal",
          "Nepal",
          "Austria",
          "Czechoslovakia",
          "Argentina",
          "Australia",
          "Nepal",
          "France",
          "France",
          "Japan",
          "Japan",
          "Japan",
          "Japan",
          "Japan",
          "Japan",
          "Japan",
          "Nepal",
          "Nepal",
          "Nepal",
          "United States",
          "United States",
          "United States",
          "United States",
          "United States",
          "Nepal",
          "Nepal",
          "Austria",
          "Nepal",
          "Argentina",
          "Nepal",
          "United States",
          "Nepal",
          "Canada",
          "Poland",
          "Czech Republic",
          "Japan",
          "United Kingdom",
          "Japan",
          "Austria",
          "Japan",
          "Colombia",
          "Canada",
          "France",
          "Italy",
          "France",
          "Germany",
          "Nepal",
          "France",
          "France",
          "Spain",
          "France",
          "France",
          "Iran",
          "Nepal",
          "France",
          "France",
          "Iran",
          "Japan",
          "South Korea",
          "South Korea",
          "Slovenia",
          "Hungary",
          "Italy",
          "France",
          "Nepal",
          "Australia",
          "Nepal",
          "Bulgaria",
          "Colombia",
          "Slovakia",
          "Slovakia",
          "Japan",
          "Germany",
          "Germany",
          "Russia",
          "Russia",
          "Belgium",
          "Poland",
          "Italy",
          "Italy",
          "Soviet Union",
          "Soviet Union",
          "Soviet Union",
          "Nepal",
          "United States",
          "United States",
          "Spain",
          "Japan",
          "Austria",
          "West Germany",
          "Nepal",
          "Austria",
          "Poland",
          "Yugoslavia",
          "Yugoslavia",
          "Japan",
          "Spain",
          "Spain",
          "Argentina",
          "Japan",
          "Austria",
          "Austria",
          "Nepal",
          "Nepal",
          "Nepal",
          "Nepal",
          "Nepal",
          "Nepal",
          "Nepal",
          "Nepal",
          "Nepal",
          "Nepal",
          "Japan",
          "South Korea",
          "South Korea",
          "South Korea",
          "South Korea",
          "South Korea",
          "Poland",
          "Italy",
          "United Kingdom",
          "Poland",
          "Spain",
          "Argentina",
          "Ukraine",
          "Ukraine",
          "Ukraine",
          "China",
          "China",
          "China (USA/China dual national)",
          "Nepal",
          "Lithuania",
          "Pakistan",
          "Slovakia",
          "Slovakia",
          "France",
          "South Korea",
          "Austria",
          "Iran",
          "Italy",
          "Japan",
          "Venezuela",
          "Germany",
          "Japan",
          "Spain",
          "Romania",
          "Romania",
          "Spain",
          "South Korea",
          "Japan",
          "South Korea",
          "Japan",
          "South Korea",
          "Poland",
          "Japan",
          "Japan",
          "Japan",
          "Japan",
          "Japan",
          "Japan",
          "Japan",
          "Japan",
          "Japan",
          "Switzerland",
          "Pakistan",
          "Switzerland",
          "Pakistan",
          "United States",
          "United States",
          "Austria",
          "Pakistan",
          "Italy",
          "West Germany",
          "United Kingdom",
          "United Kingdom",
          "Nazi Germany",
          "Nazi Germany",
          "Nazi Germany",
          "Nazi Germany",
          "Nazi Germany",
          "Nazi Germany",
          "Austria",
          "British Raj",
          "British Raj",
          "British Raj",
          "British Raj",
          "British Raj",
          "British Raj",
          "British Raj",
          "British Raj",
          "British Raj",
          "Nazi Germany",
          "British Raj",
          "Nazi Germany",
          "British Raj",
          "British Raj",
          "British Raj",
          "British Raj",
          "British Raj",
          "Nazi Germany",
          "Nazi Germany",
          "United Kingdom",
          "Nepal",
          "Nepal",
          "United Kingdom",
          "Malaysia",
          "Finland",
          "Nepal",
          "Uzbekistan",
          "Uzbekistan",
          "Hungary",
          "South Korea",
          "South Korea",
          "South Korea",
          "Spain",
          "Czech Republic",
          "Spain",
          "Nepal",
          "Nepal",
          "Italy",
          "Japan",
          "Japan",
          "South Korea",
          "Nepal",
          "Nepal",
          "Kazakhstan",
          "Kazakhstan",
          "Nepal",
          "France",
          "Belgium",
          "South Korea",
          "South Korea",
          "Nepal",
          "Nepal",
          "Nepal",
          "Nepal",
          "Bulgaria",
          "Bulgaria",
          "Ecuador",
          "Czechoslovakia",
          "Japan",
          "Japan",
          "Japan",
          "Japan",
          "Spain",
          "France",
          "Nepal",
          "Nepal",
          "France",
          "France",
          "South Korea",
          "Nepal",
          "Nepal",
          "Japan",
          "Japan",
          "United Kingdom",
          "Nepal",
          "Switzerland",
          "Japan",
          "France",
          "France",
          "Nepal",
          "Nepal",
          "United Kingdom",
          "United States",
          "United States",
          "France",
          "United Kingdom",
          "United States",
          "Austria",
          "Italy",
          "Italy",
          "Japan",
          "Japan",
          "Japan",
          "Japan",
          "Nepal",
          "United Kingdom",
          "Czech Republic",
          "Spain",
          "Spain",
          "Spain",
          "Poland",
          "Austria",
          "Switzerland",
          "Pakistan",
          "France",
          "Czech Republic",
          "Nepal",
          "Spain",
          "Iran",
          "Ukraine",
          "Spain",
          "Argentina",
          "Chile",
          "Japan",
          "Japan",
          "Japan",
          "Japan",
          "Spain",
          "Italy",
          "Spain",
          "Spain",
          "Nepal",
          "Mexico",
          "Pakistan",
          "Pakistan",
          "Pakistan",
          "Pakistan",
          "Switzerland",
          "Pakistan",
          "Yugoslavia",
          "United Kingdom",
          "Pakistan",
          "South Korea",
          "Pakistan",
          "Iran",
          "Iran",
          "Iran",
          "Germany",
          "Poland",
          "Poland",
          "Pakistan",
          "Czech Republic",
          "Hong Kong",
          "Italy",
          "Slovakia",
          "Austria",
          "South Korea",
          "France",
          "France",
          "United States",
          "Japan",
          "South Korea",
          "South Korea",
          "South Korea",
          "South Korea",
          "Czech Republic",
          "Czech Republic",
          "West Germany",
          "South Korea",
          "United Kingdom",
          "Poland",
          "Canada",
          "United Kingdom",
          "Spain",
          "Poland",
          "Poland",
          "Poland",
          "Pakistan",
          "Poland",
          "Iran",
          "Spain",
          "Germany",
          "Germany",
          "Austria",
          "Belgium",
          "Spain",
          "Spain",
          "United States",
          "France",
          "France",
          "Switzerland",
          "Spain",
          "France",
          "Japan",
          "Austria",
          "West Germany",
          "United States",
          "Japan",
          "Japan",
          "Japan",
          "France",
          "Bulgaria",
          "Nepal",
          "Switzerland",
          "Australia",
          "Germany",
          "Italy",
          "Germany",
          "Italy",
          "Slovakia",
          "Portugal",
          "Russia",
          "Czech Republic",
          "United States",
          "United States",
          "Italy",
          "Ukraine",
          "Ukraine",
          "Taiwan",
          "Slovakia",
          "Czech Republic",
          "United States",
          "South Korea",
          "Japan",
          "Japan",
          "Germany",
          "Germany",
          "Germany",
          "Germany",
          "Spain",
          "Switzerland",
          "Switzerland",
          "United Kingdom",
          null,
          "Nepal",
          "Nepal",
          "Nepal",
          "Nepal",
          "Nepal",
          "Nepal",
          "Nepal",
          "Nepal",
          "Nepal",
          "United Kingdom",
          "United Kingdom",
          "United Kingdom",
          "Nepal",
          "China",
          "China",
          "Nepal",
          "United States",
          "China",
          "Nepal",
          "Nepal",
          "Nepal",
          "Nepal",
          "Nepal",
          "Nepal",
          "Nepal",
          "Japan",
          "India",
          "Australia",
          "Nepal",
          "France",
          "Nepal",
          "Nepal",
          "Nepal",
          "Nepal",
          "Nepal",
          "China",
          "Nepal",
          "United Kingdom",
          "United Kingdom",
          "Nepal",
          "China",
          "Nepal",
          "United States",
          "West Germany",
          "China",
          "China",
          "China",
          "Japan",
          "Nepal",
          "Italy",
          "Japan",
          "United States",
          "United Kingdom",
          "United Kingdom",
          "Nepal",
          "Nepal",
          "Nepal",
          "Canada",
          "Nepal",
          "Nepal",
          "Japan",
          "Japan",
          "Japan",
          "Nepal",
          "Japan",
          "Nepal",
          "United Kingdom",
          "Bulgaria",
          "Australia",
          "Australia",
          "Czechoslovakia",
          "Nepal",
          "Nepal",
          "Spain",
          "Japan",
          "India",
          "India",
          "India",
          "India",
          "India",
          "Chile",
          "Switzerland",
          "Nepal",
          "Nepal",
          "Nepal",
          "Canada",
          "Japan",
          "Nepal",
          "Japan",
          "France",
          "Nepal",
          "Nepal",
          "Nepal",
          "Czechoslovakia",
          "Czechoslovakia",
          "Czechoslovakia",
          "Czechoslovakia",
          "Nepal",
          "Yugoslavia",
          "Nepal",
          "Poland",
          "Poland",
          "Poland",
          "Poland",
          "Poland",
          "Nepal",
          "Spain",
          "Nepal",
          "Nepal",
          "South Korea",
          "Germany",
          "Japan",
          "India",
          "India",
          "Nepal",
          "India",
          "Japan",
          "Nepal",
          "Nepal",
          "Nepal",
          "Nepal",
          "South Korea",
          "South Korea",
          "United States",
          "Spain",
          "Nepal",
          "Taiwan",
          "Italy",
          "Australia",
          "Nepal",
          "Nepal",
          "Nepal",
          "Nepal",
          "Taiwan",
          "United States",
          "New Zealand",
          "United States",
          "New Zealand",
          "Japan",
          "India",
          "India",
          "India",
          "Austria",
          "United Kingdom",
          "Nepal",
          "France",
          "Nepal",
          "Nepal",
          "United Kingdom",
          "United Kingdom",
          "Russia",
          "Russia",
          "Russia",
          "Nepal",
          "Germany",
          "Nepal",
          "South Korea",
          "United States",
          "United States",
          "United Kingdom",
          "New Zealand",
          "India",
          "Ukraine",
          "United Kingdom",
          "Poland",
          "Belgium",
          "Denmark",
          "China",
          "Nepal",
          "Austria",
          "Australia",
          "Russia",
          "Hungary",
          "United Kingdom",
          "FR Yugoslavia",
          "France",
          "Nepal",
          "Poland",
          "France",
          "Nepal",
          "South Korea",
          "South Korea",
          "South Korea",
          "United States Bolivia",
          "Bulgaria",
          "Japan",
          "Bulgaria",
          "Canada",
          "United States",
          "Slovenia",
          "India",
          "Germany",
          "United Kingdom",
          "Nepal",
          "Nepal",
          "Nepal",
          "Nepal",
          "France",
          "India",
          "United Kingdom",
          "Sweden",
          "Brazil",
          "Russia",
          "Germany",
          "Nepal",
          "Japan",
          "Czech Republic",
          "Japan",
          "Italy",
          "South Korea",
          "South Korea",
          "Switzerland",
          "Nepal",
          "Czech Republic",
          "China",
          "Canada",
          "Hungary",
          "Denmark",
          "United Kingdom",
          "United States",
          "Nepal",
          "Japan",
          "Ireland",
          "Japan",
          "Nepal",
          "Nepal",
          "India",
          "Nepal",
          "Canada",
          "Germany",
          "South Korea",
          "China",
          "Spain",
          "Czech",
          "Germany",
          "Nepal",
          "Nepal",
          "Russia",
          "Nepal",
          "Russia",
          "Nepal",
          "South Korea",
          "Bangladesh",
          "Nepal",
          "Nepal",
          "Nepal",
          "Nepal",
          "Nepal",
          "Nepal",
          "Nepal",
          "Nepal",
          "Nepal",
          "Nepal",
          "Nepal",
          "Nepal",
          "Nepal",
          "Nepal",
          "Nepal",
          "Nepal",
          "Nepal",
          "United States",
          "United States",
          "United States",
          "Nepal",
          "Nepal",
          "Nepal",
          "Nepal",
          "Nepal",
          "Nepal",
          "Nepal",
          "Nepal",
          "Australia  India",
          "Nepal",
          "United States  Vietnam",
          "Nepal",
          null,
          "Nepal",
          "Canada",
          "Nepal",
          "Netherlands",
          "Australia  South Africa",
          "India",
          "India",
          "India",
          "Nepal",
          "United States",
          "Slovakia",
          "Australia",
          "India",
          "Nepal",
          "Nepal",
          "North Macedonia",
          "Japan",
          "Nepal",
          "Ireland",
          "India",
          "United States",
          "India",
          "Austria",
          "India",
          "India",
          "Ireland",
          "Nepal",
          "United Kingdom",
          "United States",
          "United States",
          "Switzerland",
          "Nepal",
          "Nepal",
          "Nepal",
          "Russia",
          "Nepal",
          "Nepal",
          "Nepal",
          "Nepal",
          "United States",
          "Nepal",
          "Moldova",
          "India",
          "China",
          "Malaysia",
          "Singapore",
          "Malaysia",
          "Australia",
          "Nepal",
          "Hungary",
          "Nepal",
          "Canada",
          "Nepal"
         ],
         "yaxis": "y"
        }
       ],
       "layout": {
        "barmode": "relative",
        "height": 1500,
        "legend": {
         "tracegroupgap": 0
        },
        "margin": {
         "t": 60
        },
        "template": {
         "data": {
          "bar": [
           {
            "error_x": {
             "color": "#2a3f5f"
            },
            "error_y": {
             "color": "#2a3f5f"
            },
            "marker": {
             "line": {
              "color": "#E5ECF6",
              "width": 0.5
             },
             "pattern": {
              "fillmode": "overlay",
              "size": 10,
              "solidity": 0.2
             }
            },
            "type": "bar"
           }
          ],
          "barpolar": [
           {
            "marker": {
             "line": {
              "color": "#E5ECF6",
              "width": 0.5
             },
             "pattern": {
              "fillmode": "overlay",
              "size": 10,
              "solidity": 0.2
             }
            },
            "type": "barpolar"
           }
          ],
          "carpet": [
           {
            "aaxis": {
             "endlinecolor": "#2a3f5f",
             "gridcolor": "white",
             "linecolor": "white",
             "minorgridcolor": "white",
             "startlinecolor": "#2a3f5f"
            },
            "baxis": {
             "endlinecolor": "#2a3f5f",
             "gridcolor": "white",
             "linecolor": "white",
             "minorgridcolor": "white",
             "startlinecolor": "#2a3f5f"
            },
            "type": "carpet"
           }
          ],
          "choropleth": [
           {
            "colorbar": {
             "outlinewidth": 0,
             "ticks": ""
            },
            "type": "choropleth"
           }
          ],
          "contour": [
           {
            "colorbar": {
             "outlinewidth": 0,
             "ticks": ""
            },
            "colorscale": [
             [
              0,
              "#0d0887"
             ],
             [
              0.1111111111111111,
              "#46039f"
             ],
             [
              0.2222222222222222,
              "#7201a8"
             ],
             [
              0.3333333333333333,
              "#9c179e"
             ],
             [
              0.4444444444444444,
              "#bd3786"
             ],
             [
              0.5555555555555556,
              "#d8576b"
             ],
             [
              0.6666666666666666,
              "#ed7953"
             ],
             [
              0.7777777777777778,
              "#fb9f3a"
             ],
             [
              0.8888888888888888,
              "#fdca26"
             ],
             [
              1,
              "#f0f921"
             ]
            ],
            "type": "contour"
           }
          ],
          "contourcarpet": [
           {
            "colorbar": {
             "outlinewidth": 0,
             "ticks": ""
            },
            "type": "contourcarpet"
           }
          ],
          "heatmap": [
           {
            "colorbar": {
             "outlinewidth": 0,
             "ticks": ""
            },
            "colorscale": [
             [
              0,
              "#0d0887"
             ],
             [
              0.1111111111111111,
              "#46039f"
             ],
             [
              0.2222222222222222,
              "#7201a8"
             ],
             [
              0.3333333333333333,
              "#9c179e"
             ],
             [
              0.4444444444444444,
              "#bd3786"
             ],
             [
              0.5555555555555556,
              "#d8576b"
             ],
             [
              0.6666666666666666,
              "#ed7953"
             ],
             [
              0.7777777777777778,
              "#fb9f3a"
             ],
             [
              0.8888888888888888,
              "#fdca26"
             ],
             [
              1,
              "#f0f921"
             ]
            ],
            "type": "heatmap"
           }
          ],
          "heatmapgl": [
           {
            "colorbar": {
             "outlinewidth": 0,
             "ticks": ""
            },
            "colorscale": [
             [
              0,
              "#0d0887"
             ],
             [
              0.1111111111111111,
              "#46039f"
             ],
             [
              0.2222222222222222,
              "#7201a8"
             ],
             [
              0.3333333333333333,
              "#9c179e"
             ],
             [
              0.4444444444444444,
              "#bd3786"
             ],
             [
              0.5555555555555556,
              "#d8576b"
             ],
             [
              0.6666666666666666,
              "#ed7953"
             ],
             [
              0.7777777777777778,
              "#fb9f3a"
             ],
             [
              0.8888888888888888,
              "#fdca26"
             ],
             [
              1,
              "#f0f921"
             ]
            ],
            "type": "heatmapgl"
           }
          ],
          "histogram": [
           {
            "marker": {
             "pattern": {
              "fillmode": "overlay",
              "size": 10,
              "solidity": 0.2
             }
            },
            "type": "histogram"
           }
          ],
          "histogram2d": [
           {
            "colorbar": {
             "outlinewidth": 0,
             "ticks": ""
            },
            "colorscale": [
             [
              0,
              "#0d0887"
             ],
             [
              0.1111111111111111,
              "#46039f"
             ],
             [
              0.2222222222222222,
              "#7201a8"
             ],
             [
              0.3333333333333333,
              "#9c179e"
             ],
             [
              0.4444444444444444,
              "#bd3786"
             ],
             [
              0.5555555555555556,
              "#d8576b"
             ],
             [
              0.6666666666666666,
              "#ed7953"
             ],
             [
              0.7777777777777778,
              "#fb9f3a"
             ],
             [
              0.8888888888888888,
              "#fdca26"
             ],
             [
              1,
              "#f0f921"
             ]
            ],
            "type": "histogram2d"
           }
          ],
          "histogram2dcontour": [
           {
            "colorbar": {
             "outlinewidth": 0,
             "ticks": ""
            },
            "colorscale": [
             [
              0,
              "#0d0887"
             ],
             [
              0.1111111111111111,
              "#46039f"
             ],
             [
              0.2222222222222222,
              "#7201a8"
             ],
             [
              0.3333333333333333,
              "#9c179e"
             ],
             [
              0.4444444444444444,
              "#bd3786"
             ],
             [
              0.5555555555555556,
              "#d8576b"
             ],
             [
              0.6666666666666666,
              "#ed7953"
             ],
             [
              0.7777777777777778,
              "#fb9f3a"
             ],
             [
              0.8888888888888888,
              "#fdca26"
             ],
             [
              1,
              "#f0f921"
             ]
            ],
            "type": "histogram2dcontour"
           }
          ],
          "mesh3d": [
           {
            "colorbar": {
             "outlinewidth": 0,
             "ticks": ""
            },
            "type": "mesh3d"
           }
          ],
          "parcoords": [
           {
            "line": {
             "colorbar": {
              "outlinewidth": 0,
              "ticks": ""
             }
            },
            "type": "parcoords"
           }
          ],
          "pie": [
           {
            "automargin": true,
            "type": "pie"
           }
          ],
          "scatter": [
           {
            "fillpattern": {
             "fillmode": "overlay",
             "size": 10,
             "solidity": 0.2
            },
            "type": "scatter"
           }
          ],
          "scatter3d": [
           {
            "line": {
             "colorbar": {
              "outlinewidth": 0,
              "ticks": ""
             }
            },
            "marker": {
             "colorbar": {
              "outlinewidth": 0,
              "ticks": ""
             }
            },
            "type": "scatter3d"
           }
          ],
          "scattercarpet": [
           {
            "marker": {
             "colorbar": {
              "outlinewidth": 0,
              "ticks": ""
             }
            },
            "type": "scattercarpet"
           }
          ],
          "scattergeo": [
           {
            "marker": {
             "colorbar": {
              "outlinewidth": 0,
              "ticks": ""
             }
            },
            "type": "scattergeo"
           }
          ],
          "scattergl": [
           {
            "marker": {
             "colorbar": {
              "outlinewidth": 0,
              "ticks": ""
             }
            },
            "type": "scattergl"
           }
          ],
          "scattermapbox": [
           {
            "marker": {
             "colorbar": {
              "outlinewidth": 0,
              "ticks": ""
             }
            },
            "type": "scattermapbox"
           }
          ],
          "scatterpolar": [
           {
            "marker": {
             "colorbar": {
              "outlinewidth": 0,
              "ticks": ""
             }
            },
            "type": "scatterpolar"
           }
          ],
          "scatterpolargl": [
           {
            "marker": {
             "colorbar": {
              "outlinewidth": 0,
              "ticks": ""
             }
            },
            "type": "scatterpolargl"
           }
          ],
          "scatterternary": [
           {
            "marker": {
             "colorbar": {
              "outlinewidth": 0,
              "ticks": ""
             }
            },
            "type": "scatterternary"
           }
          ],
          "surface": [
           {
            "colorbar": {
             "outlinewidth": 0,
             "ticks": ""
            },
            "colorscale": [
             [
              0,
              "#0d0887"
             ],
             [
              0.1111111111111111,
              "#46039f"
             ],
             [
              0.2222222222222222,
              "#7201a8"
             ],
             [
              0.3333333333333333,
              "#9c179e"
             ],
             [
              0.4444444444444444,
              "#bd3786"
             ],
             [
              0.5555555555555556,
              "#d8576b"
             ],
             [
              0.6666666666666666,
              "#ed7953"
             ],
             [
              0.7777777777777778,
              "#fb9f3a"
             ],
             [
              0.8888888888888888,
              "#fdca26"
             ],
             [
              1,
              "#f0f921"
             ]
            ],
            "type": "surface"
           }
          ],
          "table": [
           {
            "cells": {
             "fill": {
              "color": "#EBF0F8"
             },
             "line": {
              "color": "white"
             }
            },
            "header": {
             "fill": {
              "color": "#C8D4E3"
             },
             "line": {
              "color": "white"
             }
            },
            "type": "table"
           }
          ]
         },
         "layout": {
          "annotationdefaults": {
           "arrowcolor": "#2a3f5f",
           "arrowhead": 0,
           "arrowwidth": 1
          },
          "autotypenumbers": "strict",
          "coloraxis": {
           "colorbar": {
            "outlinewidth": 0,
            "ticks": ""
           }
          },
          "colorscale": {
           "diverging": [
            [
             0,
             "#8e0152"
            ],
            [
             0.1,
             "#c51b7d"
            ],
            [
             0.2,
             "#de77ae"
            ],
            [
             0.3,
             "#f1b6da"
            ],
            [
             0.4,
             "#fde0ef"
            ],
            [
             0.5,
             "#f7f7f7"
            ],
            [
             0.6,
             "#e6f5d0"
            ],
            [
             0.7,
             "#b8e186"
            ],
            [
             0.8,
             "#7fbc41"
            ],
            [
             0.9,
             "#4d9221"
            ],
            [
             1,
             "#276419"
            ]
           ],
           "sequential": [
            [
             0,
             "#0d0887"
            ],
            [
             0.1111111111111111,
             "#46039f"
            ],
            [
             0.2222222222222222,
             "#7201a8"
            ],
            [
             0.3333333333333333,
             "#9c179e"
            ],
            [
             0.4444444444444444,
             "#bd3786"
            ],
            [
             0.5555555555555556,
             "#d8576b"
            ],
            [
             0.6666666666666666,
             "#ed7953"
            ],
            [
             0.7777777777777778,
             "#fb9f3a"
            ],
            [
             0.8888888888888888,
             "#fdca26"
            ],
            [
             1,
             "#f0f921"
            ]
           ],
           "sequentialminus": [
            [
             0,
             "#0d0887"
            ],
            [
             0.1111111111111111,
             "#46039f"
            ],
            [
             0.2222222222222222,
             "#7201a8"
            ],
            [
             0.3333333333333333,
             "#9c179e"
            ],
            [
             0.4444444444444444,
             "#bd3786"
            ],
            [
             0.5555555555555556,
             "#d8576b"
            ],
            [
             0.6666666666666666,
             "#ed7953"
            ],
            [
             0.7777777777777778,
             "#fb9f3a"
            ],
            [
             0.8888888888888888,
             "#fdca26"
            ],
            [
             1,
             "#f0f921"
            ]
           ]
          },
          "colorway": [
           "#636efa",
           "#EF553B",
           "#00cc96",
           "#ab63fa",
           "#FFA15A",
           "#19d3f3",
           "#FF6692",
           "#B6E880",
           "#FF97FF",
           "#FECB52"
          ],
          "font": {
           "color": "#2a3f5f"
          },
          "geo": {
           "bgcolor": "white",
           "lakecolor": "white",
           "landcolor": "#E5ECF6",
           "showlakes": true,
           "showland": true,
           "subunitcolor": "white"
          },
          "hoverlabel": {
           "align": "left"
          },
          "hovermode": "closest",
          "mapbox": {
           "style": "light"
          },
          "paper_bgcolor": "white",
          "plot_bgcolor": "#E5ECF6",
          "polar": {
           "angularaxis": {
            "gridcolor": "white",
            "linecolor": "white",
            "ticks": ""
           },
           "bgcolor": "#E5ECF6",
           "radialaxis": {
            "gridcolor": "white",
            "linecolor": "white",
            "ticks": ""
           }
          },
          "scene": {
           "xaxis": {
            "backgroundcolor": "#E5ECF6",
            "gridcolor": "white",
            "gridwidth": 2,
            "linecolor": "white",
            "showbackground": true,
            "ticks": "",
            "zerolinecolor": "white"
           },
           "yaxis": {
            "backgroundcolor": "#E5ECF6",
            "gridcolor": "white",
            "gridwidth": 2,
            "linecolor": "white",
            "showbackground": true,
            "ticks": "",
            "zerolinecolor": "white"
           },
           "zaxis": {
            "backgroundcolor": "#E5ECF6",
            "gridcolor": "white",
            "gridwidth": 2,
            "linecolor": "white",
            "showbackground": true,
            "ticks": "",
            "zerolinecolor": "white"
           }
          },
          "shapedefaults": {
           "line": {
            "color": "#2a3f5f"
           }
          },
          "ternary": {
           "aaxis": {
            "gridcolor": "white",
            "linecolor": "white",
            "ticks": ""
           },
           "baxis": {
            "gridcolor": "white",
            "linecolor": "white",
            "ticks": ""
           },
           "bgcolor": "#E5ECF6",
           "caxis": {
            "gridcolor": "white",
            "linecolor": "white",
            "ticks": ""
           }
          },
          "title": {
           "x": 0.05
          },
          "xaxis": {
           "automargin": true,
           "gridcolor": "white",
           "linecolor": "white",
           "ticks": "",
           "title": {
            "standoff": 15
           },
           "zerolinecolor": "white",
           "zerolinewidth": 2
          },
          "yaxis": {
           "automargin": true,
           "gridcolor": "white",
           "linecolor": "white",
           "ticks": "",
           "title": {
            "standoff": 15
           },
           "zerolinecolor": "white",
           "zerolinewidth": 2
          }
         }
        },
        "xaxis": {
         "anchor": "y",
         "domain": [
          0,
          1
         ],
         "title": {
          "text": "count"
         }
        },
        "yaxis": {
         "anchor": "x",
         "domain": [
          0,
          1
         ],
         "title": {
          "text": "Nationality"
         }
        }
       }
      },
      "text/html": [
       "<div>                            <div id=\"14632067-e471-474f-a13d-658fea1fd6dc\" class=\"plotly-graph-div\" style=\"height:1500px; width:100%;\"></div>            <script type=\"text/javascript\">                require([\"plotly\"], function(Plotly) {                    window.PLOTLYENV=window.PLOTLYENV || {};                                    if (document.getElementById(\"14632067-e471-474f-a13d-658fea1fd6dc\")) {                    Plotly.newPlot(                        \"14632067-e471-474f-a13d-658fea1fd6dc\",                        [{\"alignmentgroup\":\"True\",\"bingroup\":\"y\",\"hovertemplate\":\"count=%{x}<br>Nationality=%{y}<extra></extra>\",\"legendgroup\":\"\",\"marker\":{\"color\":\"#636efa\",\"pattern\":{\"shape\":\"\"}},\"name\":\"\",\"offsetgroup\":\"\",\"orientation\":\"h\",\"showlegend\":false,\"xaxis\":\"x\",\"y\":[\"Pakistan\",\"Australia\",\"Canada\",\"Afghanistan\",\"United Kingdom\",\"Pakistan\",\"Chile\",\"Iceland\",\"Bulgaria\",\"Spain\",\"Japan\",\"Canada\",\"Spain\",\"New Zealand / United States\",\"New Zealand / United States\",\"Russia\",\"Sweden\",\"Bulgaria\",\"Italy\",\"South Korea\",\"South Korea\",\"South Korea\",\"Nepal\",\"Nepal\",\"Ireland\",\"Pakistan\",\"France\",\"Norway\",\"Pakistan\",\"Serbia\",\"Italy\",\"Nepal\",\"Russia\",\"Russia\",\"Russia\",\"Russia\",\"Spain\",\"Iran\",\"Russia\",\"Kyrgyzstan\",\"South Korea\",\"South Korea\",\"South Korea\",\"Germany\",\"Pakistan\",\"Pakistan\",\"South Korea\",\"Romania\",\"Russia\",\"Italy\",\"Canada\",\"New Zealand\",\"United States\",\"United Kingdom\",\"Spain\",\"Spain\",\"Spain\",\"Spain\",\"Spain\",\"United States\",\"Ukraine\",\"Ukraine\",\"Ukraine\",\"Sweden\",\"Germany\",\"Germany\",\"Canada\",\"Slovenia\",\"Mexico\",\"Austria\",\"Japan\",\"Poland\",\"Austria\",\"Austria\",\"United Kingdom\",\"United Kingdom\",\"Pakistan\",\"Poland\",\"Italy\",\"Poland\",\"France\",\"France\",\"United States\",\"United States\",\"France\",\"Japan\",\"Poland\",\"Pakistan\",\"Pakistan\",\"United Kingdom\",\"Italy\",\"United States\",\"Nepal\",\"Nepal\",\"Nepal\",\"United States\",\"Germany\",\"India\",\"India\",\"India\",\"Chile\",\"India\",\"Nepal\",\"Nepal\",\"Nepal\",\"Nepal\",\"South Korea\",\"Hungary\",\"Hungary\",\"Spain\",\"Canada\",\"Nepal\",\"South Korea\",\"South Korea\",\"Japan\",\"Japan\",\"France\",\"Nepal\",\"France\",\"Nepal\",\"Bulgaria\",\"Belarus\",\"Russia\",\"Poland\",\"Nepal\",\"Nepal\",\"India\",\"Yugoslavia\",\"Yugoslavia\",\"Nepal\",\"Nepal\",\"South Korea\",\"India\",\"India\",\"India\",\"India\",\"India\",\"Poland\",\"Yugoslavia\",\"United States\",\"France\",\"Mexico\",\"Mexico\",\"India\",\"Japan\",\"India\",\"Germany\",\"British Raj\",\"British Raj\",\"British Raj\",\"British Raj\",\"United States\",\"British Raj\",\"Switzerland\",\"British Raj\",\"Nepal\",\"Bulgaria\",\"Russia\",\"Nepal\",\"Japan\",\"China\",\"Nepal\",\"Taiwan\",\"Nepal\",\"Czech Republic\",\"Russia\",\"Kazakhstan\",\"Nepal\",\"Czech Republic\",\"South Korea\",\"South Korea\",\"Russia\",\"Russia\",\"Poland\",\"Spain\",\"Spain\",\"Spain\",\"Spain\",\"Poland\",\"Spain\",\"Poland\",\"Switzerland\",\"Switzerland\",\"Switzerland\",\"Nepal\",\"France\",\"West Germany\",\"Poland\",\"Denmark\",\"Nepal\",\"India\",\"India\",\"Peru\",\"Nepal\",\"Nepal\",\"Nepal\",\"France\",\"China\",\"Switzerland\",\"Greece\",\"India\",\"Nepal\",\"Nepal\",\"France\",\"Nepal\",\"United States\",\"Ukraine\",\"United States\",\"Nepal\",\"Nepal\",\"Nepal\",\"Nepal\",\"Nepal\",\"Nepal\",\"Austria\",\"Germany\",\"Nepal\",\"Denmark\",\"Denmark\",\"Russia\",\"Russia\",\"Russia\",\"Australia\",\"Japan\",\"Spain\",\"Poland\",\"Switzerland\",\"Nepal\",\"Nepal\",\"Australia\",\"New Zealand\",\"Nepal\",\"Poland\",\"Poland\",\"Czechoslovakia\",\"Czechoslovakia\",\"Nepal\",\"Nepal\",\"South Korea\",\"Germany\",\"Czech Republic\",\"Netherlands\",\"Italy\",\"Russia\",\"United States\",\"Netherlands\",\"Slovenia\",\"Canada\",\"Germany\",\"Slovakia\",\"Spain\",\"Greece\",\"Germany\",\"Australia\",\"United Kingdom\",\"Nepal\",\"South Korea\",\"Yugoslavia\",\"Nepal\",\"Nepal\",\"Nepal\",\"Russia\",\"Finland\",\"Spain\",\"Switzerland\",\"Germany\",\"Russia\",\"Czech Republic\",\"Japan\",\"Germany\",\"Nepal\",\"Switzerland\",\"Switzerland\",\"Switzerland\",\"Soviet Union\",\"Germany\",\"Nepal\",\"Nepal\",\"France\",\"Switzerland\",\"Switzerland\",\"West Germany\",\"West Germany\",\"West Germany\",\"Nepal\",\"Nepal\",\"Belgium\",\"France\",\"India\",\"Greece\",\"Nepal\",\"Italy\",\"Nepal\",\"India\",\"Netherlands\",\"Slovakia\",\"Slovakia\",\"Nepal\",\"Nepal\",\"Nepal\",\"Spain\",\"Japan\",\"Nepal\",\"Japan\",\"Japan\",\"Nepal\",\"Japan\",\"China\",\"China\",\"China\",\"Iran\",\"Poland\",\"Spain\",\"Argentina\",\"Spain\",\"Spain\",\"Italy\",\"Japan\",\"Japan\",\"Japan\",\"Spain\",\"Nepal\",\"South Korea\",\"United Kingdom\",\"Nepal\",\"Greece\",\"France\",\"Nepal\",\"Greece\",\"Japan\",\"Germany\",\"Ukraine\",\"Switzerland\",\"New Zealand\",\"Romania\",\"Romania\",\"Germany\",\"Lithuania\",\"Nepal\",\"United States\",\"United States\",\"Nepal\",\"Spain\",\"Nepal\",\"Nepal\",\"Austria\",\"Czechoslovakia\",\"Argentina\",\"Australia\",\"Nepal\",\"France\",\"France\",\"Japan\",\"Japan\",\"Japan\",\"Japan\",\"Japan\",\"Japan\",\"Japan\",\"Nepal\",\"Nepal\",\"Nepal\",\"United States\",\"United States\",\"United States\",\"United States\",\"United States\",\"Nepal\",\"Nepal\",\"Austria\",\"Nepal\",\"Argentina\",\"Nepal\",\"United States\",\"Nepal\",\"Canada\",\"Poland\",\"Czech Republic\",\"Japan\",\"United Kingdom\",\"Japan\",\"Austria\",\"Japan\",\"Colombia\",\"Canada\",\"France\",\"Italy\",\"France\",\"Germany\",\"Nepal\",\"France\",\"France\",\"Spain\",\"France\",\"France\",\"Iran\",\"Nepal\",\"France\",\"France\",\"Iran\",\"Japan\",\"South Korea\",\"South Korea\",\"Slovenia\",\"Hungary\",\"Italy\",\"France\",\"Nepal\",\"Australia\",\"Nepal\",\"Bulgaria\",\"Colombia\",\"Slovakia\",\"Slovakia\",\"Japan\",\"Germany\",\"Germany\",\"Russia\",\"Russia\",\"Belgium\",\"Poland\",\"Italy\",\"Italy\",\"Soviet Union\",\"Soviet Union\",\"Soviet Union\",\"Nepal\",\"United States\",\"United States\",\"Spain\",\"Japan\",\"Austria\",\"West Germany\",\"Nepal\",\"Austria\",\"Poland\",\"Yugoslavia\",\"Yugoslavia\",\"Japan\",\"Spain\",\"Spain\",\"Argentina\",\"Japan\",\"Austria\",\"Austria\",\"Nepal\",\"Nepal\",\"Nepal\",\"Nepal\",\"Nepal\",\"Nepal\",\"Nepal\",\"Nepal\",\"Nepal\",\"Nepal\",\"Japan\",\"South Korea\",\"South Korea\",\"South Korea\",\"South Korea\",\"South Korea\",\"Poland\",\"Italy\",\"United Kingdom\",\"Poland\",\"Spain\",\"Argentina\",\"Ukraine\",\"Ukraine\",\"Ukraine\",\"China\",\"China\",\"China (USA/China dual national)\",\"Nepal\",\"Lithuania\",\"Pakistan\",\"Slovakia\",\"Slovakia\",\"France\",\"South Korea\",\"Austria\",\"Iran\",\"Italy\",\"Japan\",\"Venezuela\",\"Germany\",\"Japan\",\"Spain\",\"Romania\",\"Romania\",\"Spain\",\"South Korea\",\"Japan\",\"South Korea\",\"Japan\",\"South Korea\",\"Poland\",\"Japan\",\"Japan\",\"Japan\",\"Japan\",\"Japan\",\"Japan\",\"Japan\",\"Japan\",\"Japan\",\"Switzerland\",\"Pakistan\",\"Switzerland\",\"Pakistan\",\"United States\",\"United States\",\"Austria\",\"Pakistan\",\"Italy\",\"West Germany\",\"United Kingdom\",\"United Kingdom\",\"Nazi Germany\",\"Nazi Germany\",\"Nazi Germany\",\"Nazi Germany\",\"Nazi Germany\",\"Nazi Germany\",\"Austria\",\"British Raj\",\"British Raj\",\"British Raj\",\"British Raj\",\"British Raj\",\"British Raj\",\"British Raj\",\"British Raj\",\"British Raj\",\"Nazi Germany\",\"British Raj\",\"Nazi Germany\",\"British Raj\",\"British Raj\",\"British Raj\",\"British Raj\",\"British Raj\",\"Nazi Germany\",\"Nazi Germany\",\"United Kingdom\",\"Nepal\",\"Nepal\",\"United Kingdom\",\"Malaysia\",\"Finland\",\"Nepal\",\"Uzbekistan\",\"Uzbekistan\",\"Hungary\",\"South Korea\",\"South Korea\",\"South Korea\",\"Spain\",\"Czech Republic\",\"Spain\",\"Nepal\",\"Nepal\",\"Italy\",\"Japan\",\"Japan\",\"South Korea\",\"Nepal\",\"Nepal\",\"Kazakhstan\",\"Kazakhstan\",\"Nepal\",\"France\",\"Belgium\",\"South Korea\",\"South Korea\",\"Nepal\",\"Nepal\",\"Nepal\",\"Nepal\",\"Bulgaria\",\"Bulgaria\",\"Ecuador\",\"Czechoslovakia\",\"Japan\",\"Japan\",\"Japan\",\"Japan\",\"Spain\",\"France\",\"Nepal\",\"Nepal\",\"France\",\"France\",\"South Korea\",\"Nepal\",\"Nepal\",\"Japan\",\"Japan\",\"United Kingdom\",\"Nepal\",\"Switzerland\",\"Japan\",\"France\",\"France\",\"Nepal\",\"Nepal\",\"United Kingdom\",\"United States\",\"United States\",\"France\",\"United Kingdom\",\"United States\",\"Austria\",\"Italy\",\"Italy\",\"Japan\",\"Japan\",\"Japan\",\"Japan\",\"Nepal\",\"United Kingdom\",\"Czech Republic\",\"Spain\",\"Spain\",\"Spain\",\"Poland\",\"Austria\",\"Switzerland\",\"Pakistan\",\"France\",\"Czech Republic\",\"Nepal\",\"Spain\",\"Iran\",\"Ukraine\",\"Spain\",\"Argentina\",\"Chile\",\"Japan\",\"Japan\",\"Japan\",\"Japan\",\"Spain\",\"Italy\",\"Spain\",\"Spain\",\"Nepal\",\"Mexico\",\"Pakistan\",\"Pakistan\",\"Pakistan\",\"Pakistan\",\"Switzerland\",\"Pakistan\",\"Yugoslavia\",\"United Kingdom\",\"Pakistan\",\"South Korea\",\"Pakistan\",\"Iran\",\"Iran\",\"Iran\",\"Germany\",\"Poland\",\"Poland\",\"Pakistan\",\"Czech Republic\",\"Hong Kong\",\"Italy\",\"Slovakia\",\"Austria\",\"South Korea\",\"France\",\"France\",\"United States\",\"Japan\",\"South Korea\",\"South Korea\",\"South Korea\",\"South Korea\",\"Czech Republic\",\"Czech Republic\",\"West Germany\",\"South Korea\",\"United Kingdom\",\"Poland\",\"Canada\",\"United Kingdom\",\"Spain\",\"Poland\",\"Poland\",\"Poland\",\"Pakistan\",\"Poland\",\"Iran\",\"Spain\",\"Germany\",\"Germany\",\"Austria\",\"Belgium\",\"Spain\",\"Spain\",\"United States\",\"France\",\"France\",\"Switzerland\",\"Spain\",\"France\",\"Japan\",\"Austria\",\"West Germany\",\"United States\",\"Japan\",\"Japan\",\"Japan\",\"France\",\"Bulgaria\",\"Nepal\",\"Switzerland\",\"Australia\",\"Germany\",\"Italy\",\"Germany\",\"Italy\",\"Slovakia\",\"Portugal\",\"Russia\",\"Czech Republic\",\"United States\",\"United States\",\"Italy\",\"Ukraine\",\"Ukraine\",\"Taiwan\",\"Slovakia\",\"Czech Republic\",\"United States\",\"South Korea\",\"Japan\",\"Japan\",\"Germany\",\"Germany\",\"Germany\",\"Germany\",\"Spain\",\"Switzerland\",\"Switzerland\",\"United Kingdom\",null,\"Nepal\",\"Nepal\",\"Nepal\",\"Nepal\",\"Nepal\",\"Nepal\",\"Nepal\",\"Nepal\",\"Nepal\",\"United Kingdom\",\"United Kingdom\",\"United Kingdom\",\"Nepal\",\"China\",\"China\",\"Nepal\",\"United States\",\"China\",\"Nepal\",\"Nepal\",\"Nepal\",\"Nepal\",\"Nepal\",\"Nepal\",\"Nepal\",\"Japan\",\"India\",\"Australia\",\"Nepal\",\"France\",\"Nepal\",\"Nepal\",\"Nepal\",\"Nepal\",\"Nepal\",\"China\",\"Nepal\",\"United Kingdom\",\"United Kingdom\",\"Nepal\",\"China\",\"Nepal\",\"United States\",\"West Germany\",\"China\",\"China\",\"China\",\"Japan\",\"Nepal\",\"Italy\",\"Japan\",\"United States\",\"United Kingdom\",\"United Kingdom\",\"Nepal\",\"Nepal\",\"Nepal\",\"Canada\",\"Nepal\",\"Nepal\",\"Japan\",\"Japan\",\"Japan\",\"Nepal\",\"Japan\",\"Nepal\",\"United Kingdom\",\"Bulgaria\",\"Australia\",\"Australia\",\"Czechoslovakia\",\"Nepal\",\"Nepal\",\"Spain\",\"Japan\",\"India\",\"India\",\"India\",\"India\",\"India\",\"Chile\",\"Switzerland\",\"Nepal\",\"Nepal\",\"Nepal\",\"Canada\",\"Japan\",\"Nepal\",\"Japan\",\"France\",\"Nepal\",\"Nepal\",\"Nepal\",\"Czechoslovakia\",\"Czechoslovakia\",\"Czechoslovakia\",\"Czechoslovakia\",\"Nepal\",\"Yugoslavia\",\"Nepal\",\"Poland\",\"Poland\",\"Poland\",\"Poland\",\"Poland\",\"Nepal\",\"Spain\",\"Nepal\",\"Nepal\",\"South Korea\",\"Germany\",\"Japan\",\"India\",\"India\",\"Nepal\",\"India\",\"Japan\",\"Nepal\",\"Nepal\",\"Nepal\",\"Nepal\",\"South Korea\",\"South Korea\",\"United States\",\"Spain\",\"Nepal\",\"Taiwan\",\"Italy\",\"Australia\",\"Nepal\",\"Nepal\",\"Nepal\",\"Nepal\",\"Taiwan\",\"United States\",\"New Zealand\",\"United States\",\"New Zealand\",\"Japan\",\"India\",\"India\",\"India\",\"Austria\",\"United Kingdom\",\"Nepal\",\"France\",\"Nepal\",\"Nepal\",\"United Kingdom\",\"United Kingdom\",\"Russia\",\"Russia\",\"Russia\",\"Nepal\",\"Germany\",\"Nepal\",\"South Korea\",\"United States\",\"United States\",\"United Kingdom\",\"New Zealand\",\"India\",\"Ukraine\",\"United Kingdom\",\"Poland\",\"Belgium\",\"Denmark\",\"China\",\"Nepal\",\"Austria\",\"Australia\",\"Russia\",\"Hungary\",\"United Kingdom\",\"FR Yugoslavia\",\"France\",\"Nepal\",\"Poland\",\"France\",\"Nepal\",\"South Korea\",\"South Korea\",\"South Korea\",\"United States\\u00a0Bolivia\",\"Bulgaria\",\"Japan\",\"Bulgaria\",\"Canada\",\"United States\",\"Slovenia\",\"India\",\"Germany\",\"United Kingdom\",\"Nepal\",\"Nepal\",\"Nepal\",\"Nepal\",\"France\",\"India\",\"United Kingdom\",\"Sweden\",\"Brazil\",\"Russia\",\"Germany\",\"Nepal\",\"Japan\",\"Czech Republic\",\"Japan\",\"Italy\",\"South Korea\",\"South Korea\",\"Switzerland\",\"Nepal\",\"Czech Republic\",\"China\",\"Canada\",\"Hungary\",\"Denmark\",\"United Kingdom\",\"United States\",\"Nepal\",\"Japan\",\"Ireland\",\"Japan\",\"Nepal\",\"Nepal\",\"India\",\"Nepal\",\"Canada\",\"Germany\",\"South Korea\",\"China\",\"Spain\",\"Czech\",\"Germany\",\"Nepal\",\"Nepal\",\"Russia\",\"Nepal\",\"Russia\",\"Nepal\",\"South Korea\",\"Bangladesh\",\"Nepal\",\"Nepal\",\"Nepal\",\"Nepal\",\"Nepal\",\"Nepal\",\"Nepal\",\"Nepal\",\"Nepal\",\"Nepal\",\"Nepal\",\"Nepal\",\"Nepal\",\"Nepal\",\"Nepal\",\"Nepal\",\"Nepal\",\"United States\",\"United States\",\"United States\",\"Nepal\",\"Nepal\",\"Nepal\",\"Nepal\",\"Nepal\",\"Nepal\",\"Nepal\",\"Nepal\",\"Australia \\u00a0India\",\"Nepal\",\"United States \\u00a0Vietnam\",\"Nepal\",null,\"Nepal\",\"Canada\",\"Nepal\",\"Netherlands\",\"Australia \\u00a0South Africa\",\"India\",\"India\",\"India\",\"Nepal\",\"United States\",\"Slovakia\",\"Australia\",\"India\",\"Nepal\",\"Nepal\",\"North Macedonia\",\"Japan\",\"Nepal\",\"Ireland\",\"India\",\"United States\",\"India\",\"Austria\",\"India\",\"India\",\"Ireland\",\"Nepal\",\"United Kingdom\",\"United States\",\"United States\",\"Switzerland\",\"Nepal\",\"Nepal\",\"Nepal\",\"Russia\",\"Nepal\",\"Nepal\",\"Nepal\",\"Nepal\",\"United States\",\"Nepal\",\"Moldova\",\"India\",\"China\",\"Malaysia\",\"Singapore\",\"Malaysia\",\"Australia\",\"Nepal\",\"Hungary\",\"Nepal\",\"Canada\",\"Nepal\"],\"yaxis\":\"y\",\"type\":\"histogram\"}],                        {\"template\":{\"data\":{\"histogram2dcontour\":[{\"type\":\"histogram2dcontour\",\"colorbar\":{\"outlinewidth\":0,\"ticks\":\"\"},\"colorscale\":[[0.0,\"#0d0887\"],[0.1111111111111111,\"#46039f\"],[0.2222222222222222,\"#7201a8\"],[0.3333333333333333,\"#9c179e\"],[0.4444444444444444,\"#bd3786\"],[0.5555555555555556,\"#d8576b\"],[0.6666666666666666,\"#ed7953\"],[0.7777777777777778,\"#fb9f3a\"],[0.8888888888888888,\"#fdca26\"],[1.0,\"#f0f921\"]]}],\"choropleth\":[{\"type\":\"choropleth\",\"colorbar\":{\"outlinewidth\":0,\"ticks\":\"\"}}],\"histogram2d\":[{\"type\":\"histogram2d\",\"colorbar\":{\"outlinewidth\":0,\"ticks\":\"\"},\"colorscale\":[[0.0,\"#0d0887\"],[0.1111111111111111,\"#46039f\"],[0.2222222222222222,\"#7201a8\"],[0.3333333333333333,\"#9c179e\"],[0.4444444444444444,\"#bd3786\"],[0.5555555555555556,\"#d8576b\"],[0.6666666666666666,\"#ed7953\"],[0.7777777777777778,\"#fb9f3a\"],[0.8888888888888888,\"#fdca26\"],[1.0,\"#f0f921\"]]}],\"heatmap\":[{\"type\":\"heatmap\",\"colorbar\":{\"outlinewidth\":0,\"ticks\":\"\"},\"colorscale\":[[0.0,\"#0d0887\"],[0.1111111111111111,\"#46039f\"],[0.2222222222222222,\"#7201a8\"],[0.3333333333333333,\"#9c179e\"],[0.4444444444444444,\"#bd3786\"],[0.5555555555555556,\"#d8576b\"],[0.6666666666666666,\"#ed7953\"],[0.7777777777777778,\"#fb9f3a\"],[0.8888888888888888,\"#fdca26\"],[1.0,\"#f0f921\"]]}],\"heatmapgl\":[{\"type\":\"heatmapgl\",\"colorbar\":{\"outlinewidth\":0,\"ticks\":\"\"},\"colorscale\":[[0.0,\"#0d0887\"],[0.1111111111111111,\"#46039f\"],[0.2222222222222222,\"#7201a8\"],[0.3333333333333333,\"#9c179e\"],[0.4444444444444444,\"#bd3786\"],[0.5555555555555556,\"#d8576b\"],[0.6666666666666666,\"#ed7953\"],[0.7777777777777778,\"#fb9f3a\"],[0.8888888888888888,\"#fdca26\"],[1.0,\"#f0f921\"]]}],\"contourcarpet\":[{\"type\":\"contourcarpet\",\"colorbar\":{\"outlinewidth\":0,\"ticks\":\"\"}}],\"contour\":[{\"type\":\"contour\",\"colorbar\":{\"outlinewidth\":0,\"ticks\":\"\"},\"colorscale\":[[0.0,\"#0d0887\"],[0.1111111111111111,\"#46039f\"],[0.2222222222222222,\"#7201a8\"],[0.3333333333333333,\"#9c179e\"],[0.4444444444444444,\"#bd3786\"],[0.5555555555555556,\"#d8576b\"],[0.6666666666666666,\"#ed7953\"],[0.7777777777777778,\"#fb9f3a\"],[0.8888888888888888,\"#fdca26\"],[1.0,\"#f0f921\"]]}],\"surface\":[{\"type\":\"surface\",\"colorbar\":{\"outlinewidth\":0,\"ticks\":\"\"},\"colorscale\":[[0.0,\"#0d0887\"],[0.1111111111111111,\"#46039f\"],[0.2222222222222222,\"#7201a8\"],[0.3333333333333333,\"#9c179e\"],[0.4444444444444444,\"#bd3786\"],[0.5555555555555556,\"#d8576b\"],[0.6666666666666666,\"#ed7953\"],[0.7777777777777778,\"#fb9f3a\"],[0.8888888888888888,\"#fdca26\"],[1.0,\"#f0f921\"]]}],\"mesh3d\":[{\"type\":\"mesh3d\",\"colorbar\":{\"outlinewidth\":0,\"ticks\":\"\"}}],\"scatter\":[{\"fillpattern\":{\"fillmode\":\"overlay\",\"size\":10,\"solidity\":0.2},\"type\":\"scatter\"}],\"parcoords\":[{\"type\":\"parcoords\",\"line\":{\"colorbar\":{\"outlinewidth\":0,\"ticks\":\"\"}}}],\"scatterpolargl\":[{\"type\":\"scatterpolargl\",\"marker\":{\"colorbar\":{\"outlinewidth\":0,\"ticks\":\"\"}}}],\"bar\":[{\"error_x\":{\"color\":\"#2a3f5f\"},\"error_y\":{\"color\":\"#2a3f5f\"},\"marker\":{\"line\":{\"color\":\"#E5ECF6\",\"width\":0.5},\"pattern\":{\"fillmode\":\"overlay\",\"size\":10,\"solidity\":0.2}},\"type\":\"bar\"}],\"scattergeo\":[{\"type\":\"scattergeo\",\"marker\":{\"colorbar\":{\"outlinewidth\":0,\"ticks\":\"\"}}}],\"scatterpolar\":[{\"type\":\"scatterpolar\",\"marker\":{\"colorbar\":{\"outlinewidth\":0,\"ticks\":\"\"}}}],\"histogram\":[{\"marker\":{\"pattern\":{\"fillmode\":\"overlay\",\"size\":10,\"solidity\":0.2}},\"type\":\"histogram\"}],\"scattergl\":[{\"type\":\"scattergl\",\"marker\":{\"colorbar\":{\"outlinewidth\":0,\"ticks\":\"\"}}}],\"scatter3d\":[{\"type\":\"scatter3d\",\"line\":{\"colorbar\":{\"outlinewidth\":0,\"ticks\":\"\"}},\"marker\":{\"colorbar\":{\"outlinewidth\":0,\"ticks\":\"\"}}}],\"scattermapbox\":[{\"type\":\"scattermapbox\",\"marker\":{\"colorbar\":{\"outlinewidth\":0,\"ticks\":\"\"}}}],\"scatterternary\":[{\"type\":\"scatterternary\",\"marker\":{\"colorbar\":{\"outlinewidth\":0,\"ticks\":\"\"}}}],\"scattercarpet\":[{\"type\":\"scattercarpet\",\"marker\":{\"colorbar\":{\"outlinewidth\":0,\"ticks\":\"\"}}}],\"carpet\":[{\"aaxis\":{\"endlinecolor\":\"#2a3f5f\",\"gridcolor\":\"white\",\"linecolor\":\"white\",\"minorgridcolor\":\"white\",\"startlinecolor\":\"#2a3f5f\"},\"baxis\":{\"endlinecolor\":\"#2a3f5f\",\"gridcolor\":\"white\",\"linecolor\":\"white\",\"minorgridcolor\":\"white\",\"startlinecolor\":\"#2a3f5f\"},\"type\":\"carpet\"}],\"table\":[{\"cells\":{\"fill\":{\"color\":\"#EBF0F8\"},\"line\":{\"color\":\"white\"}},\"header\":{\"fill\":{\"color\":\"#C8D4E3\"},\"line\":{\"color\":\"white\"}},\"type\":\"table\"}],\"barpolar\":[{\"marker\":{\"line\":{\"color\":\"#E5ECF6\",\"width\":0.5},\"pattern\":{\"fillmode\":\"overlay\",\"size\":10,\"solidity\":0.2}},\"type\":\"barpolar\"}],\"pie\":[{\"automargin\":true,\"type\":\"pie\"}]},\"layout\":{\"autotypenumbers\":\"strict\",\"colorway\":[\"#636efa\",\"#EF553B\",\"#00cc96\",\"#ab63fa\",\"#FFA15A\",\"#19d3f3\",\"#FF6692\",\"#B6E880\",\"#FF97FF\",\"#FECB52\"],\"font\":{\"color\":\"#2a3f5f\"},\"hovermode\":\"closest\",\"hoverlabel\":{\"align\":\"left\"},\"paper_bgcolor\":\"white\",\"plot_bgcolor\":\"#E5ECF6\",\"polar\":{\"bgcolor\":\"#E5ECF6\",\"angularaxis\":{\"gridcolor\":\"white\",\"linecolor\":\"white\",\"ticks\":\"\"},\"radialaxis\":{\"gridcolor\":\"white\",\"linecolor\":\"white\",\"ticks\":\"\"}},\"ternary\":{\"bgcolor\":\"#E5ECF6\",\"aaxis\":{\"gridcolor\":\"white\",\"linecolor\":\"white\",\"ticks\":\"\"},\"baxis\":{\"gridcolor\":\"white\",\"linecolor\":\"white\",\"ticks\":\"\"},\"caxis\":{\"gridcolor\":\"white\",\"linecolor\":\"white\",\"ticks\":\"\"}},\"coloraxis\":{\"colorbar\":{\"outlinewidth\":0,\"ticks\":\"\"}},\"colorscale\":{\"sequential\":[[0.0,\"#0d0887\"],[0.1111111111111111,\"#46039f\"],[0.2222222222222222,\"#7201a8\"],[0.3333333333333333,\"#9c179e\"],[0.4444444444444444,\"#bd3786\"],[0.5555555555555556,\"#d8576b\"],[0.6666666666666666,\"#ed7953\"],[0.7777777777777778,\"#fb9f3a\"],[0.8888888888888888,\"#fdca26\"],[1.0,\"#f0f921\"]],\"sequentialminus\":[[0.0,\"#0d0887\"],[0.1111111111111111,\"#46039f\"],[0.2222222222222222,\"#7201a8\"],[0.3333333333333333,\"#9c179e\"],[0.4444444444444444,\"#bd3786\"],[0.5555555555555556,\"#d8576b\"],[0.6666666666666666,\"#ed7953\"],[0.7777777777777778,\"#fb9f3a\"],[0.8888888888888888,\"#fdca26\"],[1.0,\"#f0f921\"]],\"diverging\":[[0,\"#8e0152\"],[0.1,\"#c51b7d\"],[0.2,\"#de77ae\"],[0.3,\"#f1b6da\"],[0.4,\"#fde0ef\"],[0.5,\"#f7f7f7\"],[0.6,\"#e6f5d0\"],[0.7,\"#b8e186\"],[0.8,\"#7fbc41\"],[0.9,\"#4d9221\"],[1,\"#276419\"]]},\"xaxis\":{\"gridcolor\":\"white\",\"linecolor\":\"white\",\"ticks\":\"\",\"title\":{\"standoff\":15},\"zerolinecolor\":\"white\",\"automargin\":true,\"zerolinewidth\":2},\"yaxis\":{\"gridcolor\":\"white\",\"linecolor\":\"white\",\"ticks\":\"\",\"title\":{\"standoff\":15},\"zerolinecolor\":\"white\",\"automargin\":true,\"zerolinewidth\":2},\"scene\":{\"xaxis\":{\"backgroundcolor\":\"#E5ECF6\",\"gridcolor\":\"white\",\"linecolor\":\"white\",\"showbackground\":true,\"ticks\":\"\",\"zerolinecolor\":\"white\",\"gridwidth\":2},\"yaxis\":{\"backgroundcolor\":\"#E5ECF6\",\"gridcolor\":\"white\",\"linecolor\":\"white\",\"showbackground\":true,\"ticks\":\"\",\"zerolinecolor\":\"white\",\"gridwidth\":2},\"zaxis\":{\"backgroundcolor\":\"#E5ECF6\",\"gridcolor\":\"white\",\"linecolor\":\"white\",\"showbackground\":true,\"ticks\":\"\",\"zerolinecolor\":\"white\",\"gridwidth\":2}},\"shapedefaults\":{\"line\":{\"color\":\"#2a3f5f\"}},\"annotationdefaults\":{\"arrowcolor\":\"#2a3f5f\",\"arrowhead\":0,\"arrowwidth\":1},\"geo\":{\"bgcolor\":\"white\",\"landcolor\":\"#E5ECF6\",\"subunitcolor\":\"white\",\"showland\":true,\"showlakes\":true,\"lakecolor\":\"white\"},\"title\":{\"x\":0.05},\"mapbox\":{\"style\":\"light\"}}},\"xaxis\":{\"anchor\":\"y\",\"domain\":[0.0,1.0],\"title\":{\"text\":\"count\"}},\"yaxis\":{\"anchor\":\"x\",\"domain\":[0.0,1.0],\"title\":{\"text\":\"Nationality\"}},\"legend\":{\"tracegroupgap\":0},\"margin\":{\"t\":60},\"barmode\":\"relative\",\"height\":1500},                        {\"responsive\": true}                    ).then(function(){\n",
       "                            \n",
       "var gd = document.getElementById('14632067-e471-474f-a13d-658fea1fd6dc');\n",
       "var x = new MutationObserver(function (mutations, observer) {{\n",
       "        var display = window.getComputedStyle(gd).display;\n",
       "        if (!display || display === 'none') {{\n",
       "            console.log([gd, 'removed!']);\n",
       "            Plotly.purge(gd);\n",
       "            observer.disconnect();\n",
       "        }}\n",
       "}});\n",
       "\n",
       "// Listen for the removal of the full notebook cells\n",
       "var notebookContainer = gd.closest('#notebook-container');\n",
       "if (notebookContainer) {{\n",
       "    x.observe(notebookContainer, {childList: true});\n",
       "}}\n",
       "\n",
       "// Listen for the clearing of the current output cell\n",
       "var outputEl = gd.closest('.output');\n",
       "if (outputEl) {{\n",
       "    x.observe(outputEl, {childList: true});\n",
       "}}\n",
       "\n",
       "                        })                };                });            </script>        </div>"
      ]
     },
     "metadata": {},
     "output_type": "display_data"
    },
    {
     "data": {
      "application/vnd.plotly.v1+json": {
       "config": {
        "plotlyServerURL": "https://plot.ly"
       },
       "data": [
        {
         "alignmentgroup": "True",
         "bingroup": "y",
         "hovertemplate": "count=%{x}<br>Cause of death=%{y}<extra></extra>",
         "legendgroup": "",
         "marker": {
          "color": "#636efa",
          "pattern": {
           "shape": ""
          }
         },
         "name": "",
         "offsetgroup": "",
         "orientation": "h",
         "showlegend": false,
         "type": "histogram",
         "xaxis": "x",
         "y": [
          "Unknown",
          "Fall",
          "Fall",
          "Unknown, suspected altitude sickness",
          "Avalanche",
          "Froze to death in storm, remains found July 2021",
          "Froze to death in storm, remains found July 2021",
          "Froze to death in storm, remains found July 2021",
          "Fall during descent from Camp 3",
          "Fall during descent from Camp 1",
          "Fall during descent",
          "Fall",
          "Unclear, likely altitude sickness",
          "Avalanche",
          "Avalanche",
          "Frostbite",
          "Fall from the Bottleneck",
          "Altitude sickness",
          "Fall with skis",
          "Fourth serac fall",
          "Fourth serac fall",
          "Fourth serac fall",
          "Fourth serac fall",
          "Fourth serac fall",
          "Second or third serac fall",
          "Second or third serac fall",
          "Fall during descent",
          "First serac fall",
          "Fall while trying to recover Mandić's corpse",
          "Fall during ascent",
          "Unknown (disappeared)",
          "Fall from the Bottleneck",
          "Avalanche",
          "Avalanche",
          "Avalanche",
          "Avalanche",
          "Pulmonary edema",
          "Lost in storm, presumed dead",
          "Lost in storm, presumed dead",
          "Fall",
          "Avalanche",
          "Avalanche",
          "Avalanche",
          "Fall",
          "Fall",
          "Avalanche",
          "Fall",
          "Hit by rockfall",
          "Exhaustion",
          "Fall",
          "Exhaustion",
          "Killed in a storm",
          "Killed in a storm",
          "Killed in a storm",
          "Killed in a storm",
          "Killed in a storm",
          "Killed in a storm",
          "Fall",
          "HACE",
          "Fall from broken rope",
          "Killed in a storm",
          "Killed in a storm",
          "Killed in a storm",
          "Altitude sickness, fall",
          "Fall",
          "Fall",
          "Fall",
          "Altitude sickness",
          "Fall",
          "Avalanche",
          "Fall",
          "Exhaustion",
          "Altitude sickness",
          "Altitude sickness",
          "Altitude sickness",
          "Altitude sickness",
          "Stonefall",
          "Fall",
          "Fall into crevasse",
          "Fall",
          "Disappeared, remains found in 1998 near Camp 1",
          "Disappeared, remains found July 19, 1986, near the South Face",
          "Avalanche",
          "Avalanche",
          "Unknown (disappeared)",
          "Fall",
          "Stroke",
          "Stroke",
          "Fall into crevasse",
          "Avalanche",
          "Pneumonia",
          "Avalanche",
          "Unknown (disappeared)",
          "Unknown (disappeared)",
          "Unknown (disappeared)",
          "Altitude sickness, severe dehydration",
          "Unknown",
          "Altitude sickness",
          "Exposure, frostbite",
          "Exposure, frostbite",
          "Unknown (disappeared)",
          "Fall on descent above Camp 4 on Yalung Kang",
          "Fall on descent above Camp 4 on Yalung Kang",
          "Fall on descent above Camp 4 on Yalung Kang",
          "Fall",
          "Fall",
          "Fall",
          "Fall on descent above Camp 4",
          "Exhaustion",
          "Fall",
          "Fall",
          "Hit by ice block",
          "Avalanche",
          "Avalanche",
          "Altitude sickness",
          "Fall",
          "Fall",
          "Fall",
          "Fall",
          "Altitude sickness",
          "Avalanche",
          "Avalanche",
          "Avalanche",
          "Unknown (disappeared)",
          "Suffocation",
          "Suffocation",
          "Fall",
          "Fall",
          "Fall",
          "Fall on Yalung Kang",
          "Fall on Yalung Kang",
          "Fall on Yalung Kang",
          "Exhaustion",
          "Fall",
          "Fall",
          "Fall",
          "Fall",
          "Altitude sickness",
          "Fall on Yalung Kang",
          "Altitude sickness",
          "Fall",
          "Fall on Yalung Kang",
          "Fall on Yalung Kang",
          "Fall",
          "Hit by rock after summitting Yalung Kang",
          "Unknown illness",
          "Avalanche",
          "Avalanche",
          "Blackwater fever",
          "Unknown illness",
          "Avalanche",
          "Unknown (disappeared)",
          "Fall",
          "Fall",
          "Fall",
          "Avalanche on south face",
          "HACE",
          "Altitude sickness",
          "Fall",
          "2015 Mount Everest avalanche (died in Kathmandu of injuries)",
          "2015 Mount Everest avalanche",
          "2014 Mount Everest ice avalanche",
          "Altitude sickness",
          "Fall",
          "Exposure, frostbite",
          "Altitude sickness",
          "Fall",
          "Fall",
          "Fall",
          "Avalanche on Lhotse Shar",
          "Avalanche on Lhotse Shar",
          "Avalanche",
          "Altitude sickness",
          "Fall",
          "Avalanche on Lhotse Shar",
          "Avalanche on Lhotse Shar",
          "Avalanche on Lhotse Shar",
          "Avalanche on Lhotse Shar",
          "Avalanche",
          "Fall on Lhotse Shar",
          "Fall",
          "Fall on Lhotse Shar",
          "Fall on Lhotse Shar",
          "Fall on Lhotse Shar",
          "Avalanche",
          "Unknown (disappeared on Lhotse Shar)",
          "Fall",
          "Exhaustion",
          "Unknown (died near Base Camp; likely a trekker as no climbing permits were issued in autumn 2021)",
          "Storm, altitude sickness",
          "Exhaustion",
          "Exhaustion",
          "Died in sleep, likely altitude sickness",
          "Unknown illness",
          "Unknown illness",
          "Unknown illness",
          "HACE",
          "Fall during descent",
          "Altitude sickness",
          "Unknown (disappeared)",
          "Fall",
          "Altitude sickness",
          "Falling rock/ice",
          "Fall into crevasse",
          "Altitude sickness",
          "Fall",
          "Unknown (disappeared)",
          "Exposure, frostbite",
          "Unspecified",
          "Unspecified",
          "Unspecified",
          "Unspecified",
          "Unspecified",
          "Unspecified",
          "Fall",
          "Altitude sickness",
          "Fall",
          "Fall",
          "Unknown illness",
          "Falling rock/ice",
          "Exhaustion",
          "Fall",
          "Fall",
          "Exposure, frostbite",
          "Fall",
          "Fall",
          "Altitude sickness",
          "Altitude sickness",
          "Altitude sickness",
          "Fall",
          "Avalanche",
          "Unknown",
          "Unknown illness",
          "Avalanche",
          "Exposure, frostbite",
          "Fall",
          "Pneumonia",
          "Fall into crevasse",
          "Exhaustion, altitude sickness",
          "Avalanche",
          "Unknown illness",
          "Altitude sickness",
          "Fall",
          "HACE",
          "Unknown illness",
          "Fall",
          "Altitude sickness",
          "Fall",
          "Fall",
          "Unknown illness",
          "Exhaustion, fall",
          "Exhaustion",
          "Altitude sickness",
          "Heart attack",
          "Fall into crevasse",
          "Unknown",
          "Altitude sickness",
          "HAPE, heart problems",
          "Avalanche",
          "Avalanche",
          "Avalanche",
          "Fall",
          "Fall",
          "Fall",
          "Unknown illness",
          "Fall",
          "Unknown illness",
          "Altitude sickness",
          "Altitude sickness",
          "Unknown illness",
          "Unknown illness",
          "Fall",
          "Fall",
          "Fall",
          "Falling rock/ice",
          "Fall",
          "Unknown illness",
          "Fall",
          "Altitude sickness",
          "Altitude sickness",
          "Fall",
          "Avalanche",
          "Altitude sickness",
          "Altitude sickness",
          "Avalanche",
          "Avalanche",
          "Avalanche",
          "Avalanche",
          "Altitude sickness",
          "Illness",
          "Avalanche",
          "Storm",
          "Fall/Exposure",
          "Altitude sickness",
          "Disappeared",
          "Avalanche",
          "Avalanche",
          "Avalanche",
          "Avalanche",
          "Avalanche",
          "Fall and exposure",
          "Exhaustion",
          "Disappeared",
          "Avalanche",
          "Avalanche",
          "Avalanche",
          "Avalanche",
          "Fall",
          "Cold/ Exhaustion",
          "Fall",
          "Fall",
          "Fall into crevasse",
          "Fall",
          "Disappeared",
          "Avalanche",
          "Avalanche",
          "Fall",
          "Disappeared",
          "Disappeared",
          "Disappeared",
          "Fall",
          "Avalanche",
          "Avalanche",
          "Avalanche",
          "Avalanche",
          "Fall",
          "Avalanche",
          "Avalanche",
          "Fall",
          "Disappeared",
          "Exposure",
          "Fall",
          "Fall",
          "Altitude Sickness",
          "Disappeared",
          "Disappeared",
          "Heart Failure",
          "Disappeared",
          "Avalanche",
          "Avalanche",
          "Avalanche",
          "Avalanche",
          "Disappeared",
          "Avalanche",
          "Avalanche",
          "Edema",
          "Fall",
          "Cold/Exhaustion",
          "Avalanche",
          "Disappeared",
          "Avalanche",
          "Avalanche",
          "Fall/Exposure",
          "Avalanche",
          "Avalanche",
          "Avalanche",
          "Exhaustion",
          "Avalanche",
          "Avalanche",
          "Avalanche",
          "Avalanche",
          "Avalanche",
          "Avalanche",
          "Avalanche",
          "Avalanche",
          "Avalanche",
          "Avalanche",
          "Avalanche",
          "Avalanche",
          "Cold/Exhaustion",
          "Avalanche",
          "Exposure",
          "Avalanche",
          "Fall",
          "Avalanche",
          "Stroke",
          "Altitude sickness",
          "Probably fall",
          "Rescue helicopter crash",
          "Altitude Sickness",
          "Fall",
          "Probably altitude sickness",
          "Fall",
          "Unknown (disappeared)",
          "Avalanche",
          "Avalanche",
          "Avalanche",
          "Avalanche",
          "Avalanche",
          "Avalanche",
          "Avalanche",
          "Avalanche",
          "Avalanche",
          "Avalanche",
          "Avalanche",
          "Unknown (disappeared)",
          "Unknown (disappeared)",
          "Unknown (disappeared)",
          "Unknown (disappeared)",
          "Altitude sickness",
          "Illness",
          "Unknown (disappeared)",
          "Exhaustion",
          "Hit by falling seracs, died in hospital",
          "Fall",
          "Illness",
          "Altitude sickness",
          "Illness",
          "Fall in crevasse",
          "Altitude sickness, Exhaustion",
          "Fall",
          "Avalanche",
          "Collapsed",
          "Unknown (disappeared)",
          "Unknown (disappeared)",
          "Fall",
          "Fall",
          "Avalanche",
          "Fall",
          "Fall",
          "Fall",
          "Fall",
          "Lightning",
          "Fall",
          "Fall",
          "Fall",
          "Avalanche",
          "Avalanche",
          "Avalanche",
          "Fall",
          "Fall",
          "Fall",
          "Unknown (disappeared)",
          "Avalanche",
          "Avalanche",
          "Fall",
          "Avalanche",
          "Avalanche",
          "Cold, Exhaustion",
          "Avalanche",
          "Avalanche",
          "Avalanche",
          "Unknown (disappeared)",
          "Unknown (disappeared)",
          "Unknown (disappeared)",
          "Avalanche",
          "Avalanche",
          "Avalanche",
          "Avalanche",
          "Avalanche",
          "Avalanche",
          "Avalanche",
          "Avalanche",
          "Avalanche",
          "Avalanche",
          "Avalanche",
          "Avalanche",
          "Avalanche",
          "Avalanche",
          "Avalanche",
          "Fall",
          "Altitude sickness",
          "Unknown",
          "Unknown",
          "Altitude sickness",
          "Avalanche",
          "Avalanche",
          "Killed by Taliban at Diamir Base Camp",
          "Killed by Taliban at Diamir Base Camp",
          "Killed by Taliban at Diamir Base Camp",
          "Killed by Taliban at Diamir Base Camp",
          "Killed by Taliban at Diamir Base Camp",
          "Killed by Taliban at Diamir Base Camp",
          "Killed by Taliban at Diamir Base Camp",
          "Killed by Taliban at Diamir Base Camp",
          "Killed by Taliban at Diamir Base Camp",
          "Killed by Taliban at Diamir Base Camp",
          "Killed by Taliban at Diamir Base Camp",
          "Avalanche",
          "Fall",
          "Fall",
          "Unknown",
          "Fell into crevasse",
          "Unknown",
          "Exposure",
          "Fall",
          "Fall",
          "Fell during descent",
          "Avalanche",
          "Avalanche",
          "Fall",
          "Unknown",
          "Fall",
          "Fall into a crevasse",
          "Lightning strike",
          "Fall",
          "Avalanche",
          "Fall",
          "Avalanche",
          "Avalanche",
          "Avalanche",
          "Avalanche",
          "Avalanche",
          "Avalanche",
          "Avalanche",
          "Fall",
          "Altitude sickness",
          "Fall",
          "Avalanche",
          "Fall into crevasse",
          "Avalanche",
          "Avalanche",
          "Fall",
          "Fall",
          "Avalanche",
          "Fall",
          "Unknown",
          "Unknown",
          "Avalanche",
          "Avalanche",
          "Avalanche",
          "Avalanche",
          "Avalanche",
          "Avalanche",
          "Avalanche",
          "Avalanche",
          "Avalanche",
          "Avalanche",
          "Avalanche",
          "Avalanche",
          "Avalanche",
          "Avalanche",
          "Avalanche",
          "Avalanche",
          "Unknown",
          "Unknown",
          "Exposure",
          "Unknown",
          "Exposure",
          "Exposure",
          "Exposure",
          "Unknown",
          "Unknown",
          "Pneumonia",
          "Avalanche",
          "Avalanche",
          "Avalanche",
          "Exposure",
          "Hypothermia/Frostbite",
          "Fall",
          "Fall",
          "Avalanche",
          "Avalanche",
          "Avalanche",
          "Unknown",
          "Unknown",
          "Unknown",
          "Unknown",
          "Fell into Crevasse",
          "HACE",
          "Unknown",
          "Avalanche",
          "Avalanche",
          "Avalanche",
          "Avalanche",
          "Unknown",
          "Unknown",
          "Avalanche",
          "Avalanche",
          "Avalanche",
          "Fall",
          "Fall",
          "Unknown",
          "Avalanche",
          "Avalanche",
          "Avalanche",
          "Avalanche",
          "Avalanche",
          "Avalanche",
          "Unknown",
          "Unknown",
          "Fall",
          "Fall on descent",
          "Avalanche",
          "Avalanche",
          "Fall",
          "Fall",
          "Fall",
          "Fall",
          "Unknown",
          "Unknown",
          "Avalanche",
          "Avalanche",
          "Avalanche",
          "Avalanche",
          "Avalanche",
          "Avalanche",
          "Avalanche",
          "Rock fall",
          "Fall",
          "Heart attack",
          "Fall",
          "Avalanche",
          "Avalanche",
          "Avalanche",
          "Avalanche",
          "Avalanche",
          "Avalanche",
          "Avalanche",
          "Exhaustion",
          "Fall",
          "Fall",
          "Avalanche",
          "Avalanche",
          "Avalanche",
          "Avalanche",
          "Avalanche",
          "Avalanche",
          "Avalanche",
          "Avalanche",
          "Serac fall",
          "Fall",
          "Disappeared",
          "Disappeared",
          "Disappeared",
          "Fall",
          "Disappeared",
          "Disappeared",
          "Disappeared",
          "Fall into crevasse",
          "Fall",
          "Fall",
          "Fall",
          "Avalanche caused injuries, died in hospital",
          "Stone fall",
          "Disappeared",
          "Disappeared",
          "Fall, after successfully summiting",
          "Avalanche",
          "Avalanche",
          "Avalanche",
          "Avalanche",
          "Fall (between Camp III and Camp II)",
          "Slab avalanche (below Camp I)",
          "Disappeared",
          "Disappeared",
          "Fall",
          "Pulmonary edema",
          "Avalanche",
          "Avalanche",
          "Avalanche",
          "Avalanche",
          "Fall",
          "Pneumonia",
          "Disappeared",
          "Fall",
          "Fall",
          "Fall",
          "Avalanche",
          "Disappeared",
          "Disappeared",
          "Disappeared",
          "Slipped into a glacial stream near base camp",
          "Disappeared",
          "Presumably exhaustion",
          "Fall",
          "Disappeared",
          "Fall in crevasse",
          "Fall",
          "Disappeared",
          "Exhaustion",
          "Disappeared",
          "Disappeared",
          "Disappeared",
          "Avalanche",
          "Avalanche",
          "Died on descent due to bad weather",
          "Died on descent due to bad weather",
          "Died on descent due to bad weather",
          "Fall",
          "Fall",
          "Pulmonary edema",
          "Fall",
          "Avalanche",
          "Fell",
          "Drowned in a glacier stream above BC",
          "Avalanche",
          "Pulmonary edema",
          "Fall",
          "Fall",
          "Fall",
          "Fall",
          "Slipped into a glacial stream near base camp",
          "Avalanche",
          "Fall on descent",
          "Disappeared",
          "Avalanche",
          "Avalanche",
          "Possibly Heart Failure",
          "Fall",
          "Fall",
          "Fall",
          "Illness",
          "Pulmonary Edema",
          "Fall on snowboard",
          "Fall",
          "Illness",
          "Illness",
          "Fall",
          "Cold",
          "Disappeared",
          "Avalanche",
          "Exhaustion",
          "Fall",
          "Fall",
          "Cold, exhaustion",
          "Disappearance",
          "Avalanche",
          "Fall in crevasse",
          "Fall in crevasse",
          "Avalanche",
          "Avalanche",
          "HAPE",
          "Fall",
          "Disappearance",
          "Fall",
          "Disappearance",
          "Altitude sickness",
          "Avalanche",
          "Avalanche",
          "Illness",
          "Avalanche",
          "Avalanche",
          "Fall",
          "Disappeared on descent",
          "Avalanche",
          "Fall in crevasse",
          "Fall",
          "Avalanche",
          "Avalanche",
          "Disappearance (probably avalanche)",
          "Disappearance (probably avalanche)",
          "Disappearance (probably avalanche)",
          "Disappearance (probably avalanche)",
          "Exposure",
          "Avalanche",
          "Altitude sickness",
          "Heart attack",
          null,
          "Avalanche",
          "Avalanche",
          "Avalanche",
          "Avalanche",
          "Avalanche",
          "Avalanche",
          "Avalanche",
          "Pneumonia",
          "Brain hemorrhage",
          "Unknown.",
          "Possible ice axe injury following a fall.",
          "Possible exhaustion, exposure or starvation.",
          "Falling ice",
          "Mountain sickness",
          null,
          null,
          "Crushed under serac",
          "Fall",
          "Fall into a crevasse",
          "Avalanche",
          "Avalanche",
          "Avalanche",
          "Avalanche",
          "Avalanche",
          "\"by fall of seracs\"",
          "Heart attack",
          "Succumbed after falling and being suspended above a crevasse during a blizzard",
          "Crushed under serac",
          "Avalanche",
          "Avalanche",
          "Avalanche",
          "Avalanche",
          "Avalanche",
          "Avalanche",
          "Avalanche",
          "Exhaustion, fall",
          "Drowned",
          "Disappearance (likely accidental death during climb)",
          "Fall into a crevasse",
          "Fall into a crevasse",
          "Fall into a crevasse",
          "Fall",
          "Exposure, exhaustion",
          "Exposure, exhaustion",
          "Avalanche",
          "Avalanche",
          "Avalanche",
          "Avalanche",
          "Fall",
          "Crushed under serac",
          "Fall",
          "Fall",
          "Disappearance (likely accidental death during climb)",
          "Disappearance (likely accidental death during climb)",
          "Avalanche",
          "Avalanche",
          "Avalanche",
          "Crushed under serac",
          "Internal hemorrhage",
          "Fall",
          "Disappearance (likely accidental death during climb)",
          "Disappearance (likely accidental death during climb)",
          "Fall",
          "Fall",
          "Fall",
          "Avalanche",
          "Avalanche",
          "Disappearance (likely accidental death during descent)",
          "Fall, while searching for Craig Nottle",
          "Fall",
          "Fall",
          "Fall",
          "Fall",
          "Fall",
          "Avalanche",
          "Fall",
          "Exposure",
          "Exposure",
          "Exposure",
          "Exposure",
          "Avalanche",
          "Avalanche",
          "Crushed under serac",
          "Avalanche",
          "Fall",
          "Disappearance (likely accidental death during descent)",
          "Drowned",
          "Avalanche",
          "Heart attack (at Base camp)",
          "Exposure",
          "Avalanche",
          "Fall",
          "Fall",
          "Disappearance (likely accidental death during descent after reaching South Summit with Jozef Just rejoining group after he summited Everest solo)[76][77]",
          "Disappearance (likely accidental death during descent after reaching South Summit with Jozef Just rejoining group after he summited Everest solo)[76][77]",
          "Disappearance (likely accidental death during descent after reaching South Summit with Jozef Just rejoining group after he summited Everest solo)[76][77]",
          "Disappearance (likely accidental death during descent after reaching South Summit with Jozef Just rejoining group after he summited Everest solo)[76][77]",
          "Cerebral thrombosis",
          "Fall",
          "Fall",
          "Avalanche",
          "Avalanche",
          "Avalanche",
          "Avalanche",
          "Avalanche injuries",
          "Altitude sickness, heart attack",
          "Avalanche",
          "Avalanche",
          "Avalanche",
          "Disappearance (likely accidental death during climb)",
          "Exposure",
          "Fall",
          "Exposure",
          "Exposure",
          "Heart attack",
          "Fall",
          "Disappearance (likely accidental death during climb)",
          "Fall",
          "Disappearance (likely accidental death during climb)",
          "Disappearance (likely accidental death during climb)",
          "Fall",
          "Fall",
          "Fall",
          "HAPE",
          "Fall",
          "Cerebral oedema",
          "Exhaustion and/or exposure",
          "Fall",
          "150m fall. He showed signs of exhaustion, dehydration, cerebral oedema, retinal hemorrhages and possible blood clots in his upper legs.",
          "Avalanche",
          "Fall",
          null,
          "Fall",
          "Injuries from a fall",
          "Suspected HACE (high-altitude cerebral edema), exhaustion, frostbite and exposure.",
          "Exposure",
          "Exposure",
          "Disappearance (likely accidental death during climb)",
          "Exposure",
          "Exposure",
          "Exposure",
          "Exposure",
          "Altitude sickness",
          "Rope accident",
          "Lapsed into coma on 23 Apr 1996; later died in hospital",
          "Avalanche",
          "Avalanche",
          "Avalanche",
          "Heart attack (at Base camp)",
          "Fall",
          "Fall",
          "Exhaustion and/or exposure",
          "Exhaustion and/or exposure",
          "Fall",
          "Disappearance (likely accidental death during climb)",
          "Disappearance (likely accidental death during climb)",
          "Avalanche",
          "100m fall",
          "Exposure and/or cerebral oedema",
          "Exhaustion",
          "Exhaustion",
          "Died due to fall",
          "Exposure",
          "Disappearance (likely accidental death during descent)",
          "Fall",
          "Fall",
          "Fall",
          "Disappeared after reaching the north summit likely accidental death during descent",
          "Fall",
          "Fall",
          "Cerebral oedema",
          "Pre-existing illness exacerbated by freezing conditions, altitude",
          "Fall",
          "Fall into a crevasse",
          "Exact cause and date of death unknown",
          "Snowboarding accident",
          "Fall into a crevasse",
          "Fall",
          "Sickness in tent",
          "Altitude sickness",
          "Exposure",
          "Exposure",
          "Exposure",
          "Exposure",
          "Exposure",
          "Exposure",
          "Exposure",
          "Heart attack",
          "Fall into a crevasse",
          "Oxygen problems which resulted in fall",
          "Exposure",
          "Exposure",
          "Organ failure due to freezing conditions",
          "Altitude",
          "Avalanche",
          "Avalanche",
          "Avalanche",
          "Exhaustion",
          "Fall",
          "Exposure and/or exhaustion",
          "Fall",
          "Exposure and/or exhaustion",
          "Altitude sickness",
          "Altitude sickness",
          null,
          null,
          null,
          "Altitude sickness",
          "Disappearance",
          null,
          "Avalanche",
          "Exhaustion",
          "Avalanche",
          "Heart attack",
          "Altitude sickness",
          "Hypothermia and lack of oxygen",
          "Avalanche crevasse fall",
          "HACE",
          "Exhaustion",
          "Heart attack",
          "Altitude sickness",
          "Altitude sickness",
          "Altitude sickness",
          "Cerebral apoplexy",
          "Stroke (CVA)",
          "Altitude sickness",
          "Stroke",
          "Fall into a crevasse",
          "Exhaustion",
          "Cerebral oedema",
          "Fall",
          "Suspected altitude sickness",
          "Exhaustion",
          "Disappearance (likely accidental death during descent)",
          "Exhaustion and related complications after breaking leg at Second Step",
          "Falling into a crevasse",
          "Suspected cardiac arrest",
          "Suspected cardiac arrest",
          "Fall",
          "Fall",
          null,
          "Suspected altitude sickness",
          "Suspected altitude sickness",
          "Suspected altitude sickness",
          "HAPE",
          "2014 Mount Everest Avalanche",
          "2014 Mount Everest Avalanche",
          "2014 Mount Everest Avalanche",
          "2014 Mount Everest Avalanche",
          "2014 Mount Everest Avalanche",
          "2014 Mount Everest Avalanche",
          "2014 Mount Everest Avalanche",
          "2014 Mount Everest Avalanche",
          "2014 Mount Everest Avalanche",
          "2014 Mount Everest Avalanche",
          "2014 Mount Everest Avalanche",
          "2014 Mount Everest Avalanche",
          "2014 Mount Everest Avalanche",
          "2014 Mount Everest Avalanche",
          "2014 Mount Everest Avalanche",
          "Base Camp avalanche following the April 2015 Nepal earthquake",
          "Base Camp avalanche following the April 2015 Nepal earthquake",
          "Base Camp avalanche following the April 2015 Nepal earthquake",
          "Base Camp avalanche following the April 2015 Nepal earthquake",
          "Base Camp avalanche following the April 2015 Nepal earthquake",
          "Base Camp avalanche following the April 2015 Nepal earthquake",
          "Base Camp avalanche following the April 2015 Nepal earthquake",
          "Base Camp avalanche following the April 2015 Nepal earthquake",
          "Base Camp avalanche following the April 2015 Nepal earthquake",
          "Base Camp avalanche following the April 2015 Nepal earthquake",
          "Base Camp avalanche following the April 2015 Nepal earthquake",
          "Base Camp avalanche following the April 2015 Nepal earthquake",
          "Base Camp avalanche following the April 2015 Nepal earthquake",
          "Base Camp avalanche following the April 2015 Nepal earthquake",
          "Base Camp avalanche following the April 2015 Nepal earthquake",
          "Base Camp avalanche following the April 2015 Nepal earthquake",
          "Died in Kathmandu due to injuries sustained in the Base Camp avalanche following the April 2015 Nepal earthquake",
          "Cardiac event",
          "Fall",
          "Altitude sickness",
          "Snow blindness, stroke",
          "Altitude sickness",
          "Exposure",
          "Exposure",
          "Heart Attack",
          "Altitude sickness",
          "Altitude sickness",
          "Altitude sickness",
          "Fall into a 200m crevasse",
          "Disappearance (reportedly suffered from snow blindness)",
          "Stroke",
          "Cardiac arrest",
          "Hypothermia, had previously reported \"persistent cough and pain\" during attempt",
          "Fall into a crevasse, was rescued but died of head injury",
          "Presumed dead after fall",
          "Altitude sickness",
          "Altitude sickness",
          "Exhaustion on descent",
          "Exhaustion on descent",
          "Exhaustion on descent",
          "Exhaustion on descent",
          "Altitude sickness",
          "Exhaustion and altitude sickness",
          "Exhaustion during descent",
          "Cardiac event during descent",
          "Exhaustion, snow blindness",
          "Exhaustion",
          "Fall into a crevasse",
          "Fall into a crevasse",
          "Exhaustion and collapse",
          "Altitude sickness at Camp II, returned to Camp I",
          "Altitude sickness and excessive bleeding",
          "Serac Collapse",
          "Serac Collapse",
          "Serac Collapse",
          "Illness",
          "Illness",
          "Illness",
          "Illness",
          "Fall",
          "Illness",
          "High Altitude Cerebral Edema (HACE)",
          "Disappeared[246]",
          "Illness",
          "Fall",
          "Disappeared (reportedly suffered from HACE)",
          "Disappeared",
          "Respiratory Event",
          "Suffered from HAPE, later died in hospital due to cardiopulmonary arrest"
         ],
         "yaxis": "y"
        }
       ],
       "layout": {
        "barmode": "relative",
        "height": 1500,
        "legend": {
         "tracegroupgap": 0
        },
        "margin": {
         "t": 60
        },
        "template": {
         "data": {
          "bar": [
           {
            "error_x": {
             "color": "#2a3f5f"
            },
            "error_y": {
             "color": "#2a3f5f"
            },
            "marker": {
             "line": {
              "color": "#E5ECF6",
              "width": 0.5
             },
             "pattern": {
              "fillmode": "overlay",
              "size": 10,
              "solidity": 0.2
             }
            },
            "type": "bar"
           }
          ],
          "barpolar": [
           {
            "marker": {
             "line": {
              "color": "#E5ECF6",
              "width": 0.5
             },
             "pattern": {
              "fillmode": "overlay",
              "size": 10,
              "solidity": 0.2
             }
            },
            "type": "barpolar"
           }
          ],
          "carpet": [
           {
            "aaxis": {
             "endlinecolor": "#2a3f5f",
             "gridcolor": "white",
             "linecolor": "white",
             "minorgridcolor": "white",
             "startlinecolor": "#2a3f5f"
            },
            "baxis": {
             "endlinecolor": "#2a3f5f",
             "gridcolor": "white",
             "linecolor": "white",
             "minorgridcolor": "white",
             "startlinecolor": "#2a3f5f"
            },
            "type": "carpet"
           }
          ],
          "choropleth": [
           {
            "colorbar": {
             "outlinewidth": 0,
             "ticks": ""
            },
            "type": "choropleth"
           }
          ],
          "contour": [
           {
            "colorbar": {
             "outlinewidth": 0,
             "ticks": ""
            },
            "colorscale": [
             [
              0,
              "#0d0887"
             ],
             [
              0.1111111111111111,
              "#46039f"
             ],
             [
              0.2222222222222222,
              "#7201a8"
             ],
             [
              0.3333333333333333,
              "#9c179e"
             ],
             [
              0.4444444444444444,
              "#bd3786"
             ],
             [
              0.5555555555555556,
              "#d8576b"
             ],
             [
              0.6666666666666666,
              "#ed7953"
             ],
             [
              0.7777777777777778,
              "#fb9f3a"
             ],
             [
              0.8888888888888888,
              "#fdca26"
             ],
             [
              1,
              "#f0f921"
             ]
            ],
            "type": "contour"
           }
          ],
          "contourcarpet": [
           {
            "colorbar": {
             "outlinewidth": 0,
             "ticks": ""
            },
            "type": "contourcarpet"
           }
          ],
          "heatmap": [
           {
            "colorbar": {
             "outlinewidth": 0,
             "ticks": ""
            },
            "colorscale": [
             [
              0,
              "#0d0887"
             ],
             [
              0.1111111111111111,
              "#46039f"
             ],
             [
              0.2222222222222222,
              "#7201a8"
             ],
             [
              0.3333333333333333,
              "#9c179e"
             ],
             [
              0.4444444444444444,
              "#bd3786"
             ],
             [
              0.5555555555555556,
              "#d8576b"
             ],
             [
              0.6666666666666666,
              "#ed7953"
             ],
             [
              0.7777777777777778,
              "#fb9f3a"
             ],
             [
              0.8888888888888888,
              "#fdca26"
             ],
             [
              1,
              "#f0f921"
             ]
            ],
            "type": "heatmap"
           }
          ],
          "heatmapgl": [
           {
            "colorbar": {
             "outlinewidth": 0,
             "ticks": ""
            },
            "colorscale": [
             [
              0,
              "#0d0887"
             ],
             [
              0.1111111111111111,
              "#46039f"
             ],
             [
              0.2222222222222222,
              "#7201a8"
             ],
             [
              0.3333333333333333,
              "#9c179e"
             ],
             [
              0.4444444444444444,
              "#bd3786"
             ],
             [
              0.5555555555555556,
              "#d8576b"
             ],
             [
              0.6666666666666666,
              "#ed7953"
             ],
             [
              0.7777777777777778,
              "#fb9f3a"
             ],
             [
              0.8888888888888888,
              "#fdca26"
             ],
             [
              1,
              "#f0f921"
             ]
            ],
            "type": "heatmapgl"
           }
          ],
          "histogram": [
           {
            "marker": {
             "pattern": {
              "fillmode": "overlay",
              "size": 10,
              "solidity": 0.2
             }
            },
            "type": "histogram"
           }
          ],
          "histogram2d": [
           {
            "colorbar": {
             "outlinewidth": 0,
             "ticks": ""
            },
            "colorscale": [
             [
              0,
              "#0d0887"
             ],
             [
              0.1111111111111111,
              "#46039f"
             ],
             [
              0.2222222222222222,
              "#7201a8"
             ],
             [
              0.3333333333333333,
              "#9c179e"
             ],
             [
              0.4444444444444444,
              "#bd3786"
             ],
             [
              0.5555555555555556,
              "#d8576b"
             ],
             [
              0.6666666666666666,
              "#ed7953"
             ],
             [
              0.7777777777777778,
              "#fb9f3a"
             ],
             [
              0.8888888888888888,
              "#fdca26"
             ],
             [
              1,
              "#f0f921"
             ]
            ],
            "type": "histogram2d"
           }
          ],
          "histogram2dcontour": [
           {
            "colorbar": {
             "outlinewidth": 0,
             "ticks": ""
            },
            "colorscale": [
             [
              0,
              "#0d0887"
             ],
             [
              0.1111111111111111,
              "#46039f"
             ],
             [
              0.2222222222222222,
              "#7201a8"
             ],
             [
              0.3333333333333333,
              "#9c179e"
             ],
             [
              0.4444444444444444,
              "#bd3786"
             ],
             [
              0.5555555555555556,
              "#d8576b"
             ],
             [
              0.6666666666666666,
              "#ed7953"
             ],
             [
              0.7777777777777778,
              "#fb9f3a"
             ],
             [
              0.8888888888888888,
              "#fdca26"
             ],
             [
              1,
              "#f0f921"
             ]
            ],
            "type": "histogram2dcontour"
           }
          ],
          "mesh3d": [
           {
            "colorbar": {
             "outlinewidth": 0,
             "ticks": ""
            },
            "type": "mesh3d"
           }
          ],
          "parcoords": [
           {
            "line": {
             "colorbar": {
              "outlinewidth": 0,
              "ticks": ""
             }
            },
            "type": "parcoords"
           }
          ],
          "pie": [
           {
            "automargin": true,
            "type": "pie"
           }
          ],
          "scatter": [
           {
            "fillpattern": {
             "fillmode": "overlay",
             "size": 10,
             "solidity": 0.2
            },
            "type": "scatter"
           }
          ],
          "scatter3d": [
           {
            "line": {
             "colorbar": {
              "outlinewidth": 0,
              "ticks": ""
             }
            },
            "marker": {
             "colorbar": {
              "outlinewidth": 0,
              "ticks": ""
             }
            },
            "type": "scatter3d"
           }
          ],
          "scattercarpet": [
           {
            "marker": {
             "colorbar": {
              "outlinewidth": 0,
              "ticks": ""
             }
            },
            "type": "scattercarpet"
           }
          ],
          "scattergeo": [
           {
            "marker": {
             "colorbar": {
              "outlinewidth": 0,
              "ticks": ""
             }
            },
            "type": "scattergeo"
           }
          ],
          "scattergl": [
           {
            "marker": {
             "colorbar": {
              "outlinewidth": 0,
              "ticks": ""
             }
            },
            "type": "scattergl"
           }
          ],
          "scattermapbox": [
           {
            "marker": {
             "colorbar": {
              "outlinewidth": 0,
              "ticks": ""
             }
            },
            "type": "scattermapbox"
           }
          ],
          "scatterpolar": [
           {
            "marker": {
             "colorbar": {
              "outlinewidth": 0,
              "ticks": ""
             }
            },
            "type": "scatterpolar"
           }
          ],
          "scatterpolargl": [
           {
            "marker": {
             "colorbar": {
              "outlinewidth": 0,
              "ticks": ""
             }
            },
            "type": "scatterpolargl"
           }
          ],
          "scatterternary": [
           {
            "marker": {
             "colorbar": {
              "outlinewidth": 0,
              "ticks": ""
             }
            },
            "type": "scatterternary"
           }
          ],
          "surface": [
           {
            "colorbar": {
             "outlinewidth": 0,
             "ticks": ""
            },
            "colorscale": [
             [
              0,
              "#0d0887"
             ],
             [
              0.1111111111111111,
              "#46039f"
             ],
             [
              0.2222222222222222,
              "#7201a8"
             ],
             [
              0.3333333333333333,
              "#9c179e"
             ],
             [
              0.4444444444444444,
              "#bd3786"
             ],
             [
              0.5555555555555556,
              "#d8576b"
             ],
             [
              0.6666666666666666,
              "#ed7953"
             ],
             [
              0.7777777777777778,
              "#fb9f3a"
             ],
             [
              0.8888888888888888,
              "#fdca26"
             ],
             [
              1,
              "#f0f921"
             ]
            ],
            "type": "surface"
           }
          ],
          "table": [
           {
            "cells": {
             "fill": {
              "color": "#EBF0F8"
             },
             "line": {
              "color": "white"
             }
            },
            "header": {
             "fill": {
              "color": "#C8D4E3"
             },
             "line": {
              "color": "white"
             }
            },
            "type": "table"
           }
          ]
         },
         "layout": {
          "annotationdefaults": {
           "arrowcolor": "#2a3f5f",
           "arrowhead": 0,
           "arrowwidth": 1
          },
          "autotypenumbers": "strict",
          "coloraxis": {
           "colorbar": {
            "outlinewidth": 0,
            "ticks": ""
           }
          },
          "colorscale": {
           "diverging": [
            [
             0,
             "#8e0152"
            ],
            [
             0.1,
             "#c51b7d"
            ],
            [
             0.2,
             "#de77ae"
            ],
            [
             0.3,
             "#f1b6da"
            ],
            [
             0.4,
             "#fde0ef"
            ],
            [
             0.5,
             "#f7f7f7"
            ],
            [
             0.6,
             "#e6f5d0"
            ],
            [
             0.7,
             "#b8e186"
            ],
            [
             0.8,
             "#7fbc41"
            ],
            [
             0.9,
             "#4d9221"
            ],
            [
             1,
             "#276419"
            ]
           ],
           "sequential": [
            [
             0,
             "#0d0887"
            ],
            [
             0.1111111111111111,
             "#46039f"
            ],
            [
             0.2222222222222222,
             "#7201a8"
            ],
            [
             0.3333333333333333,
             "#9c179e"
            ],
            [
             0.4444444444444444,
             "#bd3786"
            ],
            [
             0.5555555555555556,
             "#d8576b"
            ],
            [
             0.6666666666666666,
             "#ed7953"
            ],
            [
             0.7777777777777778,
             "#fb9f3a"
            ],
            [
             0.8888888888888888,
             "#fdca26"
            ],
            [
             1,
             "#f0f921"
            ]
           ],
           "sequentialminus": [
            [
             0,
             "#0d0887"
            ],
            [
             0.1111111111111111,
             "#46039f"
            ],
            [
             0.2222222222222222,
             "#7201a8"
            ],
            [
             0.3333333333333333,
             "#9c179e"
            ],
            [
             0.4444444444444444,
             "#bd3786"
            ],
            [
             0.5555555555555556,
             "#d8576b"
            ],
            [
             0.6666666666666666,
             "#ed7953"
            ],
            [
             0.7777777777777778,
             "#fb9f3a"
            ],
            [
             0.8888888888888888,
             "#fdca26"
            ],
            [
             1,
             "#f0f921"
            ]
           ]
          },
          "colorway": [
           "#636efa",
           "#EF553B",
           "#00cc96",
           "#ab63fa",
           "#FFA15A",
           "#19d3f3",
           "#FF6692",
           "#B6E880",
           "#FF97FF",
           "#FECB52"
          ],
          "font": {
           "color": "#2a3f5f"
          },
          "geo": {
           "bgcolor": "white",
           "lakecolor": "white",
           "landcolor": "#E5ECF6",
           "showlakes": true,
           "showland": true,
           "subunitcolor": "white"
          },
          "hoverlabel": {
           "align": "left"
          },
          "hovermode": "closest",
          "mapbox": {
           "style": "light"
          },
          "paper_bgcolor": "white",
          "plot_bgcolor": "#E5ECF6",
          "polar": {
           "angularaxis": {
            "gridcolor": "white",
            "linecolor": "white",
            "ticks": ""
           },
           "bgcolor": "#E5ECF6",
           "radialaxis": {
            "gridcolor": "white",
            "linecolor": "white",
            "ticks": ""
           }
          },
          "scene": {
           "xaxis": {
            "backgroundcolor": "#E5ECF6",
            "gridcolor": "white",
            "gridwidth": 2,
            "linecolor": "white",
            "showbackground": true,
            "ticks": "",
            "zerolinecolor": "white"
           },
           "yaxis": {
            "backgroundcolor": "#E5ECF6",
            "gridcolor": "white",
            "gridwidth": 2,
            "linecolor": "white",
            "showbackground": true,
            "ticks": "",
            "zerolinecolor": "white"
           },
           "zaxis": {
            "backgroundcolor": "#E5ECF6",
            "gridcolor": "white",
            "gridwidth": 2,
            "linecolor": "white",
            "showbackground": true,
            "ticks": "",
            "zerolinecolor": "white"
           }
          },
          "shapedefaults": {
           "line": {
            "color": "#2a3f5f"
           }
          },
          "ternary": {
           "aaxis": {
            "gridcolor": "white",
            "linecolor": "white",
            "ticks": ""
           },
           "baxis": {
            "gridcolor": "white",
            "linecolor": "white",
            "ticks": ""
           },
           "bgcolor": "#E5ECF6",
           "caxis": {
            "gridcolor": "white",
            "linecolor": "white",
            "ticks": ""
           }
          },
          "title": {
           "x": 0.05
          },
          "xaxis": {
           "automargin": true,
           "gridcolor": "white",
           "linecolor": "white",
           "ticks": "",
           "title": {
            "standoff": 15
           },
           "zerolinecolor": "white",
           "zerolinewidth": 2
          },
          "yaxis": {
           "automargin": true,
           "gridcolor": "white",
           "linecolor": "white",
           "ticks": "",
           "title": {
            "standoff": 15
           },
           "zerolinecolor": "white",
           "zerolinewidth": 2
          }
         }
        },
        "xaxis": {
         "anchor": "y",
         "domain": [
          0,
          1
         ],
         "title": {
          "text": "count"
         }
        },
        "yaxis": {
         "anchor": "x",
         "domain": [
          0,
          1
         ],
         "title": {
          "text": "Cause of death"
         }
        }
       }
      },
      "text/html": [
       "<div>                            <div id=\"d744971c-23da-4fc3-bb38-ec8f55206250\" class=\"plotly-graph-div\" style=\"height:1500px; width:100%;\"></div>            <script type=\"text/javascript\">                require([\"plotly\"], function(Plotly) {                    window.PLOTLYENV=window.PLOTLYENV || {};                                    if (document.getElementById(\"d744971c-23da-4fc3-bb38-ec8f55206250\")) {                    Plotly.newPlot(                        \"d744971c-23da-4fc3-bb38-ec8f55206250\",                        [{\"alignmentgroup\":\"True\",\"bingroup\":\"y\",\"hovertemplate\":\"count=%{x}<br>Cause of death=%{y}<extra></extra>\",\"legendgroup\":\"\",\"marker\":{\"color\":\"#636efa\",\"pattern\":{\"shape\":\"\"}},\"name\":\"\",\"offsetgroup\":\"\",\"orientation\":\"h\",\"showlegend\":false,\"xaxis\":\"x\",\"y\":[\"Unknown\",\"Fall\",\"Fall\",\"Unknown, suspected altitude sickness\",\"Avalanche\",\"Froze to death in storm, remains found July 2021\",\"Froze to death in storm, remains found July 2021\",\"Froze to death in storm, remains found July 2021\",\"Fall during descent from Camp 3\",\"Fall during descent from Camp 1\",\"Fall during descent\",\"Fall\",\"Unclear, likely altitude sickness\",\"Avalanche\",\"Avalanche\",\"Frostbite\",\"Fall from the Bottleneck\",\"Altitude sickness\",\"Fall with skis\",\"Fourth serac fall\",\"Fourth serac fall\",\"Fourth serac fall\",\"Fourth serac fall\",\"Fourth serac fall\",\"Second or third serac fall\",\"Second or third serac fall\",\"Fall during descent\",\"First serac fall\",\"Fall while trying to recover Mandi\\u0107's corpse\",\"Fall during ascent\",\"Unknown (disappeared)\",\"Fall from the Bottleneck\",\"Avalanche\",\"Avalanche\",\"Avalanche\",\"Avalanche\",\"Pulmonary edema\",\"Lost in storm, presumed dead\",\"Lost in storm, presumed dead\",\"Fall\",\"Avalanche\",\"Avalanche\",\"Avalanche\",\"Fall\",\"Fall\",\"Avalanche\",\"Fall\",\"Hit by rockfall\",\"Exhaustion\",\"Fall\",\"Exhaustion\",\"Killed in a storm\",\"Killed in a storm\",\"Killed in a storm\",\"Killed in a storm\",\"Killed in a storm\",\"Killed in a storm\",\"Fall\",\"HACE\",\"Fall from broken rope\",\"Killed in a storm\",\"Killed in a storm\",\"Killed in a storm\",\"Altitude sickness, fall\",\"Fall\",\"Fall\",\"Fall\",\"Altitude sickness\",\"Fall\",\"Avalanche\",\"Fall\",\"Exhaustion\",\"Altitude sickness\",\"Altitude sickness\",\"Altitude sickness\",\"Altitude sickness\",\"Stonefall\",\"Fall\",\"Fall into crevasse\",\"Fall\",\"Disappeared, remains found in 1998 near Camp 1\",\"Disappeared, remains found July 19, 1986, near the South Face\",\"Avalanche\",\"Avalanche\",\"Unknown (disappeared)\",\"Fall\",\"Stroke\",\"Stroke\",\"Fall into crevasse\",\"Avalanche\",\"Pneumonia\",\"Avalanche\",\"Unknown (disappeared)\",\"Unknown (disappeared)\",\"Unknown (disappeared)\",\"Altitude sickness, severe dehydration\",\"Unknown\",\"Altitude sickness\",\"Exposure, frostbite\",\"Exposure, frostbite\",\"Unknown (disappeared)\",\"Fall on descent above Camp 4 on Yalung Kang\",\"Fall on descent above Camp 4 on Yalung Kang\",\"Fall on descent above Camp 4 on Yalung Kang\",\"Fall\",\"Fall\",\"Fall\",\"Fall on descent above Camp 4\",\"Exhaustion\",\"Fall\",\"Fall\",\"Hit by ice block\",\"Avalanche\",\"Avalanche\",\"Altitude sickness\",\"Fall\",\"Fall\",\"Fall\",\"Fall\",\"Altitude sickness\",\"Avalanche\",\"Avalanche\",\"Avalanche\",\"Unknown (disappeared)\",\"Suffocation\",\"Suffocation\",\"Fall\",\"Fall\",\"Fall\",\"Fall on Yalung Kang\",\"Fall on Yalung Kang\",\"Fall on Yalung Kang\",\"Exhaustion\",\"Fall\",\"Fall\",\"Fall\",\"Fall\",\"Altitude sickness\",\"Fall on Yalung Kang\",\"Altitude sickness\",\"Fall\",\"Fall on Yalung Kang\",\"Fall on Yalung Kang\",\"Fall\",\"Hit by rock after summitting Yalung Kang\",\"Unknown illness\",\"Avalanche\",\"Avalanche\",\"Blackwater fever\",\"Unknown illness\",\"Avalanche\",\"Unknown (disappeared)\",\"Fall\",\"Fall\",\"Fall\",\"Avalanche on south face\",\"HACE\",\"Altitude sickness\",\"Fall\",\"2015 Mount Everest avalanche (died in Kathmandu of injuries)\",\"2015 Mount Everest avalanche\",\"2014 Mount Everest ice avalanche\",\"Altitude sickness\",\"Fall\",\"Exposure, frostbite\",\"Altitude sickness\",\"Fall\",\"Fall\",\"Fall\",\"Avalanche on Lhotse Shar\",\"Avalanche on Lhotse Shar\",\"Avalanche\",\"Altitude sickness\",\"Fall\",\"Avalanche on Lhotse Shar\",\"Avalanche on Lhotse Shar\",\"Avalanche on Lhotse Shar\",\"Avalanche on Lhotse Shar\",\"Avalanche\",\"Fall on Lhotse Shar\",\"Fall\",\"Fall on Lhotse Shar\",\"Fall on Lhotse Shar\",\"Fall on Lhotse Shar\",\"Avalanche\",\"Unknown (disappeared on Lhotse Shar)\",\"Fall\",\"Exhaustion\",\"Unknown (died near Base Camp; likely a trekker as no climbing permits were issued in autumn 2021)\",\"Storm, altitude sickness\",\"Exhaustion\",\"Exhaustion\",\"Died in sleep, likely altitude sickness\",\"Unknown illness\",\"Unknown illness\",\"Unknown illness\",\"HACE\",\"Fall during descent\",\"Altitude sickness\",\"Unknown (disappeared)\",\"Fall\",\"Altitude sickness\",\"Falling rock/ice\",\"Fall into crevasse\",\"Altitude sickness\",\"Fall\",\"Unknown (disappeared)\",\"Exposure, frostbite\",\"Unspecified\",\"Unspecified\",\"Unspecified\",\"Unspecified\",\"Unspecified\",\"Unspecified\",\"Fall\",\"Altitude sickness\",\"Fall\",\"Fall\",\"Unknown illness\",\"Falling rock/ice\",\"Exhaustion\",\"Fall\",\"Fall\",\"Exposure, frostbite\",\"Fall\",\"Fall\",\"Altitude sickness\",\"Altitude sickness\",\"Altitude sickness\",\"Fall\",\"Avalanche\",\"Unknown\",\"Unknown illness\",\"Avalanche\",\"Exposure, frostbite\",\"Fall\",\"Pneumonia\",\"Fall into crevasse\",\"Exhaustion, altitude sickness\",\"Avalanche\",\"Unknown illness\",\"Altitude sickness\",\"Fall\",\"HACE\",\"Unknown illness\",\"Fall\",\"Altitude sickness\",\"Fall\",\"Fall\",\"Unknown illness\",\"Exhaustion, fall\",\"Exhaustion\",\"Altitude sickness\",\"Heart attack\",\"Fall into crevasse\",\"Unknown\",\"Altitude sickness\",\"HAPE, heart problems\",\"Avalanche\",\"Avalanche\",\"Avalanche\",\"Fall\",\"Fall\",\"Fall\",\"Unknown illness\",\"Fall\",\"Unknown illness\",\"Altitude sickness\",\"Altitude sickness\",\"Unknown illness\",\"Unknown illness\",\"Fall\",\"Fall\",\"Fall\",\"Falling rock/ice\",\"Fall\",\"Unknown illness\",\"Fall\",\"Altitude sickness\",\"Altitude sickness\",\"Fall\",\"Avalanche\",\"Altitude sickness\",\"Altitude sickness\",\"Avalanche\",\"Avalanche\",\"Avalanche\",\"Avalanche\",\"Altitude sickness\",\"Illness\",\"Avalanche\",\"Storm\",\"Fall/Exposure\",\"Altitude sickness\",\"Disappeared\",\"Avalanche\",\"Avalanche\",\"Avalanche\",\"Avalanche\",\"Avalanche\",\"Fall and exposure\",\"Exhaustion\",\"Disappeared\",\"Avalanche\",\"Avalanche\",\"Avalanche\",\"Avalanche\",\"Fall\",\"Cold/ Exhaustion\",\"Fall\",\"Fall\",\"Fall into crevasse\",\"Fall\",\"Disappeared\",\"Avalanche\",\"Avalanche\",\"Fall\",\"Disappeared\",\"Disappeared\",\"Disappeared\",\"Fall\",\"Avalanche\",\"Avalanche\",\"Avalanche\",\"Avalanche\",\"Fall\",\"Avalanche\",\"Avalanche\",\"Fall\",\"Disappeared\",\"Exposure\",\"Fall\",\"Fall\",\"Altitude Sickness\",\"Disappeared\",\"Disappeared\",\"Heart Failure\",\"Disappeared\",\"Avalanche\",\"Avalanche\",\"Avalanche\",\"Avalanche\",\"Disappeared\",\"Avalanche\",\"Avalanche\",\"Edema\",\"Fall\",\"Cold/Exhaustion\",\"Avalanche\",\"Disappeared\",\"Avalanche\",\"Avalanche\",\"Fall/Exposure\",\"Avalanche\",\"Avalanche\",\"Avalanche\",\"Exhaustion\",\"Avalanche\",\"Avalanche\",\"Avalanche\",\"Avalanche\",\"Avalanche\",\"Avalanche\",\"Avalanche\",\"Avalanche\",\"Avalanche\",\"Avalanche\",\"Avalanche\",\"Avalanche\",\"Cold/Exhaustion\",\"Avalanche\",\"Exposure\",\"Avalanche\",\"Fall\",\"Avalanche\",\"Stroke\",\"Altitude sickness\",\"Probably fall\",\"Rescue helicopter crash\",\"Altitude Sickness\",\"Fall\",\"Probably altitude sickness\",\"Fall\",\"Unknown (disappeared)\",\"Avalanche\",\"Avalanche\",\"Avalanche\",\"Avalanche\",\"Avalanche\",\"Avalanche\",\"Avalanche\",\"Avalanche\",\"Avalanche\",\"Avalanche\",\"Avalanche\",\"Unknown (disappeared)\",\"Unknown (disappeared)\",\"Unknown (disappeared)\",\"Unknown (disappeared)\",\"Altitude sickness\",\"Illness\",\"Unknown (disappeared)\",\"Exhaustion\",\"Hit by falling seracs, died in hospital\",\"Fall\",\"Illness\",\"Altitude sickness\",\"Illness\",\"Fall in crevasse\",\"Altitude sickness, Exhaustion\",\"Fall\",\"Avalanche\",\"Collapsed\",\"Unknown (disappeared)\",\"Unknown (disappeared)\",\"Fall\",\"Fall\",\"Avalanche\",\"Fall\",\"Fall\",\"Fall\",\"Fall\",\"Lightning\",\"Fall\",\"Fall\",\"Fall\",\"Avalanche\",\"Avalanche\",\"Avalanche\",\"Fall\",\"Fall\",\"Fall\",\"Unknown (disappeared)\",\"Avalanche\",\"Avalanche\",\"Fall\",\"Avalanche\",\"Avalanche\",\"Cold, Exhaustion\",\"Avalanche\",\"Avalanche\",\"Avalanche\",\"Unknown (disappeared)\",\"Unknown (disappeared)\",\"Unknown (disappeared)\",\"Avalanche\",\"Avalanche\",\"Avalanche\",\"Avalanche\",\"Avalanche\",\"Avalanche\",\"Avalanche\",\"Avalanche\",\"Avalanche\",\"Avalanche\",\"Avalanche\",\"Avalanche\",\"Avalanche\",\"Avalanche\",\"Avalanche\",\"Fall\",\"Altitude sickness\",\"Unknown\",\"Unknown\",\"Altitude sickness\",\"Avalanche\",\"Avalanche\",\"Killed by Taliban at Diamir Base Camp\",\"Killed by Taliban at Diamir Base Camp\",\"Killed by Taliban at Diamir Base Camp\",\"Killed by Taliban at Diamir Base Camp\",\"Killed by Taliban at Diamir Base Camp\",\"Killed by Taliban at Diamir Base Camp\",\"Killed by Taliban at Diamir Base Camp\",\"Killed by Taliban at Diamir Base Camp\",\"Killed by Taliban at Diamir Base Camp\",\"Killed by Taliban at Diamir Base Camp\",\"Killed by Taliban at Diamir Base Camp\",\"Avalanche\",\"Fall\",\"Fall\",\"Unknown\",\"Fell into crevasse\",\"Unknown\",\"Exposure\",\"Fall\",\"Fall\",\"Fell during descent\",\"Avalanche\",\"Avalanche\",\"Fall\",\"Unknown\",\"Fall\",\"Fall into a crevasse\",\"Lightning strike\",\"Fall\",\"Avalanche\",\"Fall\",\"Avalanche\",\"Avalanche\",\"Avalanche\",\"Avalanche\",\"Avalanche\",\"Avalanche\",\"Avalanche\",\"Fall\",\"Altitude sickness\",\"Fall\",\"Avalanche\",\"Fall into crevasse\",\"Avalanche\",\"Avalanche\",\"Fall\",\"Fall\",\"Avalanche\",\"Fall\",\"Unknown\",\"Unknown\",\"Avalanche\",\"Avalanche\",\"Avalanche\",\"Avalanche\",\"Avalanche\",\"Avalanche\",\"Avalanche\",\"Avalanche\",\"Avalanche\",\"Avalanche\",\"Avalanche\",\"Avalanche\",\"Avalanche\",\"Avalanche\",\"Avalanche\",\"Avalanche\",\"Unknown\",\"Unknown\",\"Exposure\",\"Unknown\",\"Exposure\",\"Exposure\",\"Exposure\",\"Unknown\",\"Unknown\",\"Pneumonia\",\"Avalanche\",\"Avalanche\",\"Avalanche\",\"Exposure\",\"Hypothermia/Frostbite\",\"Fall\",\"Fall\",\"Avalanche\",\"Avalanche\",\"Avalanche\",\"Unknown\",\"Unknown\",\"Unknown\",\"Unknown\",\"Fell into Crevasse\",\"HACE\",\"Unknown\",\"Avalanche\",\"Avalanche\",\"Avalanche\",\"Avalanche\",\"Unknown\",\"Unknown\",\"Avalanche\",\"Avalanche\",\"Avalanche\",\"Fall\",\"Fall\",\"Unknown\",\"Avalanche\",\"Avalanche\",\"Avalanche\",\"Avalanche\",\"Avalanche\",\"Avalanche\",\"Unknown\",\"Unknown\",\"Fall\",\"Fall on descent\",\"Avalanche\",\"Avalanche\",\"Fall\",\"Fall\",\"Fall\",\"Fall\",\"Unknown\",\"Unknown\",\"Avalanche\",\"Avalanche\",\"Avalanche\",\"Avalanche\",\"Avalanche\",\"Avalanche\",\"Avalanche\",\"Rock fall\",\"Fall\",\"Heart attack\",\"Fall\",\"Avalanche\",\"Avalanche\",\"Avalanche\",\"Avalanche\",\"Avalanche\",\"Avalanche\",\"Avalanche\",\"Exhaustion\",\"Fall\",\"Fall\",\"Avalanche\",\"Avalanche\",\"Avalanche\",\"Avalanche\",\"Avalanche\",\"Avalanche\",\"Avalanche\",\"Avalanche\",\"Serac fall\",\"Fall\",\"Disappeared\",\"Disappeared\",\"Disappeared\",\"Fall\",\"Disappeared\",\"Disappeared\",\"Disappeared\",\"Fall into crevasse\",\"Fall\",\"Fall\",\"Fall\",\"Avalanche caused injuries, died in hospital\",\"Stone fall\",\"Disappeared\",\"Disappeared\",\"Fall, after successfully summiting\",\"Avalanche\",\"Avalanche\",\"Avalanche\",\"Avalanche\",\"Fall (between Camp III and Camp II)\",\"Slab avalanche (below Camp I)\",\"Disappeared\",\"Disappeared\",\"Fall\",\"Pulmonary edema\",\"Avalanche\",\"Avalanche\",\"Avalanche\",\"Avalanche\",\"Fall\",\"Pneumonia\",\"Disappeared\",\"Fall\",\"Fall\",\"Fall\",\"Avalanche\",\"Disappeared\",\"Disappeared\",\"Disappeared\",\"Slipped into a glacial stream near base camp\",\"Disappeared\",\"Presumably exhaustion\",\"Fall\",\"Disappeared\",\"Fall in crevasse\",\"Fall\",\"Disappeared\",\"Exhaustion\",\"Disappeared\",\"Disappeared\",\"Disappeared\",\"Avalanche\",\"Avalanche\",\"Died on descent due to bad weather\",\"Died on descent due to bad weather\",\"Died on descent due to bad weather\",\"Fall\",\"Fall\",\"Pulmonary edema\",\"Fall\",\"Avalanche\",\"Fell\",\"Drowned in a glacier stream above BC\",\"Avalanche\",\"Pulmonary edema\",\"Fall\",\"Fall\",\"Fall\",\"Fall\",\"Slipped into a glacial stream near base camp\",\"Avalanche\",\"Fall on descent\",\"Disappeared\",\"Avalanche\",\"Avalanche\",\"Possibly Heart Failure\",\"Fall\",\"Fall\",\"Fall\",\"Illness\",\"Pulmonary Edema\",\"Fall on snowboard\",\"Fall\",\"Illness\",\"Illness\",\"Fall\",\"Cold\",\"Disappeared\",\"Avalanche\",\"Exhaustion\",\"Fall\",\"Fall\",\"Cold, exhaustion\",\"Disappearance\",\"Avalanche\",\"Fall in crevasse\",\"Fall in crevasse\",\"Avalanche\",\"Avalanche\",\"HAPE\",\"Fall\",\"Disappearance\",\"Fall\",\"Disappearance\",\"Altitude sickness\",\"Avalanche\",\"Avalanche\",\"Illness\",\"Avalanche\",\"Avalanche\",\"Fall\",\"Disappeared on descent\",\"Avalanche\",\"Fall in crevasse\",\"Fall\",\"Avalanche\",\"Avalanche\",\"Disappearance (probably avalanche)\",\"Disappearance (probably avalanche)\",\"Disappearance (probably avalanche)\",\"Disappearance (probably avalanche)\",\"Exposure\",\"Avalanche\",\"Altitude sickness\",\"Heart attack\",null,\"Avalanche\",\"Avalanche\",\"Avalanche\",\"Avalanche\",\"Avalanche\",\"Avalanche\",\"Avalanche\",\"Pneumonia\",\"Brain hemorrhage\",\"Unknown.\",\"Possible ice axe injury following a fall.\",\"Possible exhaustion, exposure or starvation.\",\"Falling ice\",\"Mountain sickness\",null,null,\"Crushed under serac\",\"Fall\",\"Fall into a crevasse\",\"Avalanche\",\"Avalanche\",\"Avalanche\",\"Avalanche\",\"Avalanche\",\"\\\"by fall of seracs\\\"\",\"Heart attack\",\"Succumbed after falling and being suspended above a crevasse during a blizzard\",\"Crushed under serac\",\"Avalanche\",\"Avalanche\",\"Avalanche\",\"Avalanche\",\"Avalanche\",\"Avalanche\",\"Avalanche\",\"Exhaustion, fall\",\"Drowned\",\"Disappearance (likely accidental death during climb)\",\"Fall into a crevasse\",\"Fall into a crevasse\",\"Fall into a crevasse\",\"Fall\",\"Exposure, exhaustion\",\"Exposure, exhaustion\",\"Avalanche\",\"Avalanche\",\"Avalanche\",\"Avalanche\",\"Fall\",\"Crushed under serac\",\"Fall\",\"Fall\",\"Disappearance (likely accidental death during climb)\",\"Disappearance (likely accidental death during climb)\",\"Avalanche\",\"Avalanche\",\"Avalanche\",\"Crushed under serac\",\"Internal hemorrhage\",\"Fall\",\"Disappearance (likely accidental death during climb)\",\"Disappearance (likely accidental death during climb)\",\"Fall\",\"Fall\",\"Fall\",\"Avalanche\",\"Avalanche\",\"Disappearance (likely accidental death during descent)\",\"Fall, while searching for Craig Nottle\",\"Fall\",\"Fall\",\"Fall\",\"Fall\",\"Fall\",\"Avalanche\",\"Fall\",\"Exposure\",\"Exposure\",\"Exposure\",\"Exposure\",\"Avalanche\",\"Avalanche\",\"Crushed under serac\",\"Avalanche\",\"Fall\",\"Disappearance (likely accidental death during descent)\",\"Drowned\",\"Avalanche\",\"Heart attack (at Base camp)\",\"Exposure\",\"Avalanche\",\"Fall\",\"Fall\",\"Disappearance (likely accidental death during descent after reaching South Summit with Jozef Just rejoining group after he summited Everest solo)[76][77]\",\"Disappearance (likely accidental death during descent after reaching South Summit with Jozef Just rejoining group after he summited Everest solo)[76][77]\",\"Disappearance (likely accidental death during descent after reaching South Summit with Jozef Just rejoining group after he summited Everest solo)[76][77]\",\"Disappearance (likely accidental death during descent after reaching South Summit with Jozef Just rejoining group after he summited Everest solo)[76][77]\",\"Cerebral thrombosis\",\"Fall\",\"Fall\",\"Avalanche\",\"Avalanche\",\"Avalanche\",\"Avalanche\",\"Avalanche injuries\",\"Altitude sickness, heart attack\",\"Avalanche\",\"Avalanche\",\"Avalanche\",\"Disappearance (likely accidental death during climb)\",\"Exposure\",\"Fall\",\"Exposure\",\"Exposure\",\"Heart attack\",\"Fall\",\"Disappearance (likely accidental death during climb)\",\"Fall\",\"Disappearance (likely accidental death during climb)\",\"Disappearance (likely accidental death during climb)\",\"Fall\",\"Fall\",\"Fall\",\"HAPE\",\"Fall\",\"Cerebral oedema\",\"Exhaustion and/or exposure\",\"Fall\",\"150m fall. He showed signs of exhaustion, dehydration, cerebral oedema, retinal hemorrhages and possible blood clots in his upper legs.\",\"Avalanche\",\"Fall\",null,\"Fall\",\"Injuries from a fall\",\"Suspected HACE (high-altitude cerebral edema), exhaustion, frostbite and exposure.\",\"Exposure\",\"Exposure\",\"Disappearance (likely accidental death during climb)\",\"Exposure\",\"Exposure\",\"Exposure\",\"Exposure\",\"Altitude sickness\",\"Rope accident\",\"Lapsed into coma on 23 Apr 1996; later died in hospital\",\"Avalanche\",\"Avalanche\",\"Avalanche\",\"Heart attack (at Base camp)\",\"Fall\",\"Fall\",\"Exhaustion and/or exposure\",\"Exhaustion and/or exposure\",\"Fall\",\"Disappearance (likely accidental death during climb)\",\"Disappearance (likely accidental death during climb)\",\"Avalanche\",\"100m fall\",\"Exposure and/or cerebral oedema\",\"Exhaustion\",\"Exhaustion\",\"Died due to fall\",\"Exposure\",\"Disappearance (likely accidental death during descent)\",\"Fall\",\"Fall\",\"Fall\",\"Disappeared after reaching the north summit likely accidental death during descent\",\"Fall\",\"Fall\",\"Cerebral oedema\",\"Pre-existing illness exacerbated by freezing conditions, altitude\",\"Fall\",\"Fall into a crevasse\",\"Exact cause and date of death unknown\",\"Snowboarding accident\",\"Fall into a crevasse\",\"Fall\",\"Sickness in tent\",\"Altitude sickness\",\"Exposure\",\"Exposure\",\"Exposure\",\"Exposure\",\"Exposure\",\"Exposure\",\"Exposure\",\"Heart attack\",\"Fall into a crevasse\",\"Oxygen problems which resulted in fall\",\"Exposure\",\"Exposure\",\"Organ failure due to freezing conditions\",\"Altitude\",\"Avalanche\",\"Avalanche\",\"Avalanche\",\"Exhaustion\",\"Fall\",\"Exposure and/or exhaustion\",\"Fall\",\"Exposure and/or exhaustion\",\"Altitude sickness\",\"Altitude sickness\",null,null,null,\"Altitude sickness\",\"Disappearance\",null,\"Avalanche\",\"Exhaustion\",\"Avalanche\",\"Heart attack\",\"Altitude sickness\",\"Hypothermia and lack of oxygen\",\"Avalanche crevasse fall\",\"HACE\",\"Exhaustion\",\"Heart attack\",\"Altitude sickness\",\"Altitude sickness\",\"Altitude sickness\",\"Cerebral apoplexy\",\"Stroke (CVA)\",\"Altitude sickness\",\"Stroke\",\"Fall into a crevasse\",\"Exhaustion\",\"Cerebral oedema\",\"Fall\",\"Suspected altitude sickness\",\"Exhaustion\",\"Disappearance (likely accidental death during descent)\",\"Exhaustion and related complications after breaking leg at Second Step\",\"Falling into a crevasse\",\"Suspected cardiac arrest\",\"Suspected cardiac arrest\",\"Fall\",\"Fall\",null,\"Suspected altitude sickness\",\"Suspected altitude sickness\",\"Suspected altitude sickness\",\"HAPE\",\"2014 Mount Everest Avalanche\",\"2014 Mount Everest Avalanche\",\"2014 Mount Everest Avalanche\",\"2014 Mount Everest Avalanche\",\"2014 Mount Everest Avalanche\",\"2014 Mount Everest Avalanche\",\"2014 Mount Everest Avalanche\",\"2014 Mount Everest Avalanche\",\"2014 Mount Everest Avalanche\",\"2014 Mount Everest Avalanche\",\"2014 Mount Everest Avalanche\",\"2014 Mount Everest Avalanche\",\"2014 Mount Everest Avalanche\",\"2014 Mount Everest Avalanche\",\"2014 Mount Everest Avalanche\",\"Base Camp avalanche following the April 2015 Nepal earthquake\",\"Base Camp avalanche following the April 2015 Nepal earthquake\",\"Base Camp avalanche following the April 2015 Nepal earthquake\",\"Base Camp avalanche following the April 2015 Nepal earthquake\",\"Base Camp avalanche following the April 2015 Nepal earthquake\",\"Base Camp avalanche following the April 2015 Nepal earthquake\",\"Base Camp avalanche following the April 2015 Nepal earthquake\",\"Base Camp avalanche following the April 2015 Nepal earthquake\",\"Base Camp avalanche following the April 2015 Nepal earthquake\",\"Base Camp avalanche following the April 2015 Nepal earthquake\",\"Base Camp avalanche following the April 2015 Nepal earthquake\",\"Base Camp avalanche following the April 2015 Nepal earthquake\",\"Base Camp avalanche following the April 2015 Nepal earthquake\",\"Base Camp avalanche following the April 2015 Nepal earthquake\",\"Base Camp avalanche following the April 2015 Nepal earthquake\",\"Base Camp avalanche following the April 2015 Nepal earthquake\",\"Died in Kathmandu due to injuries sustained in the Base Camp avalanche following the April 2015 Nepal earthquake\",\"Cardiac event\",\"Fall\",\"Altitude sickness\",\"Snow blindness, stroke\",\"Altitude sickness\",\"Exposure\",\"Exposure\",\"Heart Attack\",\"Altitude sickness\",\"Altitude sickness\",\"Altitude sickness\",\"Fall into a 200m crevasse\",\"Disappearance (reportedly suffered from snow blindness)\",\"Stroke\",\"Cardiac arrest\",\"Hypothermia, had previously reported \\\"persistent cough and pain\\\" during attempt\",\"Fall into a crevasse, was rescued but died of head injury\",\"Presumed dead after fall\",\"Altitude sickness\",\"Altitude sickness\",\"Exhaustion on descent\",\"Exhaustion on descent\",\"Exhaustion on descent\",\"Exhaustion on descent\",\"Altitude sickness\",\"Exhaustion and altitude sickness\",\"Exhaustion during descent\",\"Cardiac event during descent\",\"Exhaustion, snow blindness\",\"Exhaustion\",\"Fall into a crevasse\",\"Fall into a crevasse\",\"Exhaustion and collapse\",\"Altitude sickness at Camp II, returned to Camp I\",\"Altitude sickness and excessive bleeding\",\"Serac Collapse\",\"Serac Collapse\",\"Serac Collapse\",\"Illness\",\"Illness\",\"Illness\",\"Illness\",\"Fall\",\"Illness\",\"High Altitude Cerebral Edema (HACE)\",\"Disappeared[246]\",\"Illness\",\"Fall\",\"Disappeared (reportedly suffered from HACE)\",\"Disappeared\",\"Respiratory Event\",\"Suffered from HAPE, later died in hospital due to cardiopulmonary arrest\"],\"yaxis\":\"y\",\"type\":\"histogram\"}],                        {\"template\":{\"data\":{\"histogram2dcontour\":[{\"type\":\"histogram2dcontour\",\"colorbar\":{\"outlinewidth\":0,\"ticks\":\"\"},\"colorscale\":[[0.0,\"#0d0887\"],[0.1111111111111111,\"#46039f\"],[0.2222222222222222,\"#7201a8\"],[0.3333333333333333,\"#9c179e\"],[0.4444444444444444,\"#bd3786\"],[0.5555555555555556,\"#d8576b\"],[0.6666666666666666,\"#ed7953\"],[0.7777777777777778,\"#fb9f3a\"],[0.8888888888888888,\"#fdca26\"],[1.0,\"#f0f921\"]]}],\"choropleth\":[{\"type\":\"choropleth\",\"colorbar\":{\"outlinewidth\":0,\"ticks\":\"\"}}],\"histogram2d\":[{\"type\":\"histogram2d\",\"colorbar\":{\"outlinewidth\":0,\"ticks\":\"\"},\"colorscale\":[[0.0,\"#0d0887\"],[0.1111111111111111,\"#46039f\"],[0.2222222222222222,\"#7201a8\"],[0.3333333333333333,\"#9c179e\"],[0.4444444444444444,\"#bd3786\"],[0.5555555555555556,\"#d8576b\"],[0.6666666666666666,\"#ed7953\"],[0.7777777777777778,\"#fb9f3a\"],[0.8888888888888888,\"#fdca26\"],[1.0,\"#f0f921\"]]}],\"heatmap\":[{\"type\":\"heatmap\",\"colorbar\":{\"outlinewidth\":0,\"ticks\":\"\"},\"colorscale\":[[0.0,\"#0d0887\"],[0.1111111111111111,\"#46039f\"],[0.2222222222222222,\"#7201a8\"],[0.3333333333333333,\"#9c179e\"],[0.4444444444444444,\"#bd3786\"],[0.5555555555555556,\"#d8576b\"],[0.6666666666666666,\"#ed7953\"],[0.7777777777777778,\"#fb9f3a\"],[0.8888888888888888,\"#fdca26\"],[1.0,\"#f0f921\"]]}],\"heatmapgl\":[{\"type\":\"heatmapgl\",\"colorbar\":{\"outlinewidth\":0,\"ticks\":\"\"},\"colorscale\":[[0.0,\"#0d0887\"],[0.1111111111111111,\"#46039f\"],[0.2222222222222222,\"#7201a8\"],[0.3333333333333333,\"#9c179e\"],[0.4444444444444444,\"#bd3786\"],[0.5555555555555556,\"#d8576b\"],[0.6666666666666666,\"#ed7953\"],[0.7777777777777778,\"#fb9f3a\"],[0.8888888888888888,\"#fdca26\"],[1.0,\"#f0f921\"]]}],\"contourcarpet\":[{\"type\":\"contourcarpet\",\"colorbar\":{\"outlinewidth\":0,\"ticks\":\"\"}}],\"contour\":[{\"type\":\"contour\",\"colorbar\":{\"outlinewidth\":0,\"ticks\":\"\"},\"colorscale\":[[0.0,\"#0d0887\"],[0.1111111111111111,\"#46039f\"],[0.2222222222222222,\"#7201a8\"],[0.3333333333333333,\"#9c179e\"],[0.4444444444444444,\"#bd3786\"],[0.5555555555555556,\"#d8576b\"],[0.6666666666666666,\"#ed7953\"],[0.7777777777777778,\"#fb9f3a\"],[0.8888888888888888,\"#fdca26\"],[1.0,\"#f0f921\"]]}],\"surface\":[{\"type\":\"surface\",\"colorbar\":{\"outlinewidth\":0,\"ticks\":\"\"},\"colorscale\":[[0.0,\"#0d0887\"],[0.1111111111111111,\"#46039f\"],[0.2222222222222222,\"#7201a8\"],[0.3333333333333333,\"#9c179e\"],[0.4444444444444444,\"#bd3786\"],[0.5555555555555556,\"#d8576b\"],[0.6666666666666666,\"#ed7953\"],[0.7777777777777778,\"#fb9f3a\"],[0.8888888888888888,\"#fdca26\"],[1.0,\"#f0f921\"]]}],\"mesh3d\":[{\"type\":\"mesh3d\",\"colorbar\":{\"outlinewidth\":0,\"ticks\":\"\"}}],\"scatter\":[{\"fillpattern\":{\"fillmode\":\"overlay\",\"size\":10,\"solidity\":0.2},\"type\":\"scatter\"}],\"parcoords\":[{\"type\":\"parcoords\",\"line\":{\"colorbar\":{\"outlinewidth\":0,\"ticks\":\"\"}}}],\"scatterpolargl\":[{\"type\":\"scatterpolargl\",\"marker\":{\"colorbar\":{\"outlinewidth\":0,\"ticks\":\"\"}}}],\"bar\":[{\"error_x\":{\"color\":\"#2a3f5f\"},\"error_y\":{\"color\":\"#2a3f5f\"},\"marker\":{\"line\":{\"color\":\"#E5ECF6\",\"width\":0.5},\"pattern\":{\"fillmode\":\"overlay\",\"size\":10,\"solidity\":0.2}},\"type\":\"bar\"}],\"scattergeo\":[{\"type\":\"scattergeo\",\"marker\":{\"colorbar\":{\"outlinewidth\":0,\"ticks\":\"\"}}}],\"scatterpolar\":[{\"type\":\"scatterpolar\",\"marker\":{\"colorbar\":{\"outlinewidth\":0,\"ticks\":\"\"}}}],\"histogram\":[{\"marker\":{\"pattern\":{\"fillmode\":\"overlay\",\"size\":10,\"solidity\":0.2}},\"type\":\"histogram\"}],\"scattergl\":[{\"type\":\"scattergl\",\"marker\":{\"colorbar\":{\"outlinewidth\":0,\"ticks\":\"\"}}}],\"scatter3d\":[{\"type\":\"scatter3d\",\"line\":{\"colorbar\":{\"outlinewidth\":0,\"ticks\":\"\"}},\"marker\":{\"colorbar\":{\"outlinewidth\":0,\"ticks\":\"\"}}}],\"scattermapbox\":[{\"type\":\"scattermapbox\",\"marker\":{\"colorbar\":{\"outlinewidth\":0,\"ticks\":\"\"}}}],\"scatterternary\":[{\"type\":\"scatterternary\",\"marker\":{\"colorbar\":{\"outlinewidth\":0,\"ticks\":\"\"}}}],\"scattercarpet\":[{\"type\":\"scattercarpet\",\"marker\":{\"colorbar\":{\"outlinewidth\":0,\"ticks\":\"\"}}}],\"carpet\":[{\"aaxis\":{\"endlinecolor\":\"#2a3f5f\",\"gridcolor\":\"white\",\"linecolor\":\"white\",\"minorgridcolor\":\"white\",\"startlinecolor\":\"#2a3f5f\"},\"baxis\":{\"endlinecolor\":\"#2a3f5f\",\"gridcolor\":\"white\",\"linecolor\":\"white\",\"minorgridcolor\":\"white\",\"startlinecolor\":\"#2a3f5f\"},\"type\":\"carpet\"}],\"table\":[{\"cells\":{\"fill\":{\"color\":\"#EBF0F8\"},\"line\":{\"color\":\"white\"}},\"header\":{\"fill\":{\"color\":\"#C8D4E3\"},\"line\":{\"color\":\"white\"}},\"type\":\"table\"}],\"barpolar\":[{\"marker\":{\"line\":{\"color\":\"#E5ECF6\",\"width\":0.5},\"pattern\":{\"fillmode\":\"overlay\",\"size\":10,\"solidity\":0.2}},\"type\":\"barpolar\"}],\"pie\":[{\"automargin\":true,\"type\":\"pie\"}]},\"layout\":{\"autotypenumbers\":\"strict\",\"colorway\":[\"#636efa\",\"#EF553B\",\"#00cc96\",\"#ab63fa\",\"#FFA15A\",\"#19d3f3\",\"#FF6692\",\"#B6E880\",\"#FF97FF\",\"#FECB52\"],\"font\":{\"color\":\"#2a3f5f\"},\"hovermode\":\"closest\",\"hoverlabel\":{\"align\":\"left\"},\"paper_bgcolor\":\"white\",\"plot_bgcolor\":\"#E5ECF6\",\"polar\":{\"bgcolor\":\"#E5ECF6\",\"angularaxis\":{\"gridcolor\":\"white\",\"linecolor\":\"white\",\"ticks\":\"\"},\"radialaxis\":{\"gridcolor\":\"white\",\"linecolor\":\"white\",\"ticks\":\"\"}},\"ternary\":{\"bgcolor\":\"#E5ECF6\",\"aaxis\":{\"gridcolor\":\"white\",\"linecolor\":\"white\",\"ticks\":\"\"},\"baxis\":{\"gridcolor\":\"white\",\"linecolor\":\"white\",\"ticks\":\"\"},\"caxis\":{\"gridcolor\":\"white\",\"linecolor\":\"white\",\"ticks\":\"\"}},\"coloraxis\":{\"colorbar\":{\"outlinewidth\":0,\"ticks\":\"\"}},\"colorscale\":{\"sequential\":[[0.0,\"#0d0887\"],[0.1111111111111111,\"#46039f\"],[0.2222222222222222,\"#7201a8\"],[0.3333333333333333,\"#9c179e\"],[0.4444444444444444,\"#bd3786\"],[0.5555555555555556,\"#d8576b\"],[0.6666666666666666,\"#ed7953\"],[0.7777777777777778,\"#fb9f3a\"],[0.8888888888888888,\"#fdca26\"],[1.0,\"#f0f921\"]],\"sequentialminus\":[[0.0,\"#0d0887\"],[0.1111111111111111,\"#46039f\"],[0.2222222222222222,\"#7201a8\"],[0.3333333333333333,\"#9c179e\"],[0.4444444444444444,\"#bd3786\"],[0.5555555555555556,\"#d8576b\"],[0.6666666666666666,\"#ed7953\"],[0.7777777777777778,\"#fb9f3a\"],[0.8888888888888888,\"#fdca26\"],[1.0,\"#f0f921\"]],\"diverging\":[[0,\"#8e0152\"],[0.1,\"#c51b7d\"],[0.2,\"#de77ae\"],[0.3,\"#f1b6da\"],[0.4,\"#fde0ef\"],[0.5,\"#f7f7f7\"],[0.6,\"#e6f5d0\"],[0.7,\"#b8e186\"],[0.8,\"#7fbc41\"],[0.9,\"#4d9221\"],[1,\"#276419\"]]},\"xaxis\":{\"gridcolor\":\"white\",\"linecolor\":\"white\",\"ticks\":\"\",\"title\":{\"standoff\":15},\"zerolinecolor\":\"white\",\"automargin\":true,\"zerolinewidth\":2},\"yaxis\":{\"gridcolor\":\"white\",\"linecolor\":\"white\",\"ticks\":\"\",\"title\":{\"standoff\":15},\"zerolinecolor\":\"white\",\"automargin\":true,\"zerolinewidth\":2},\"scene\":{\"xaxis\":{\"backgroundcolor\":\"#E5ECF6\",\"gridcolor\":\"white\",\"linecolor\":\"white\",\"showbackground\":true,\"ticks\":\"\",\"zerolinecolor\":\"white\",\"gridwidth\":2},\"yaxis\":{\"backgroundcolor\":\"#E5ECF6\",\"gridcolor\":\"white\",\"linecolor\":\"white\",\"showbackground\":true,\"ticks\":\"\",\"zerolinecolor\":\"white\",\"gridwidth\":2},\"zaxis\":{\"backgroundcolor\":\"#E5ECF6\",\"gridcolor\":\"white\",\"linecolor\":\"white\",\"showbackground\":true,\"ticks\":\"\",\"zerolinecolor\":\"white\",\"gridwidth\":2}},\"shapedefaults\":{\"line\":{\"color\":\"#2a3f5f\"}},\"annotationdefaults\":{\"arrowcolor\":\"#2a3f5f\",\"arrowhead\":0,\"arrowwidth\":1},\"geo\":{\"bgcolor\":\"white\",\"landcolor\":\"#E5ECF6\",\"subunitcolor\":\"white\",\"showland\":true,\"showlakes\":true,\"lakecolor\":\"white\"},\"title\":{\"x\":0.05},\"mapbox\":{\"style\":\"light\"}}},\"xaxis\":{\"anchor\":\"y\",\"domain\":[0.0,1.0],\"title\":{\"text\":\"count\"}},\"yaxis\":{\"anchor\":\"x\",\"domain\":[0.0,1.0],\"title\":{\"text\":\"Cause of death\"}},\"legend\":{\"tracegroupgap\":0},\"margin\":{\"t\":60},\"barmode\":\"relative\",\"height\":1500},                        {\"responsive\": true}                    ).then(function(){\n",
       "                            \n",
       "var gd = document.getElementById('d744971c-23da-4fc3-bb38-ec8f55206250');\n",
       "var x = new MutationObserver(function (mutations, observer) {{\n",
       "        var display = window.getComputedStyle(gd).display;\n",
       "        if (!display || display === 'none') {{\n",
       "            console.log([gd, 'removed!']);\n",
       "            Plotly.purge(gd);\n",
       "            observer.disconnect();\n",
       "        }}\n",
       "}});\n",
       "\n",
       "// Listen for the removal of the full notebook cells\n",
       "var notebookContainer = gd.closest('#notebook-container');\n",
       "if (notebookContainer) {{\n",
       "    x.observe(notebookContainer, {childList: true});\n",
       "}}\n",
       "\n",
       "// Listen for the clearing of the current output cell\n",
       "var outputEl = gd.closest('.output');\n",
       "if (outputEl) {{\n",
       "    x.observe(outputEl, {childList: true});\n",
       "}}\n",
       "\n",
       "                        })                };                });            </script>        </div>"
      ]
     },
     "metadata": {},
     "output_type": "display_data"
    }
   ],
   "source": [
    "for column in ['Nationality', 'Cause of death']:\n",
    "    histogram(data_frame=df, y=column, height=1500).show()"
   ]
  },
  {
   "cell_type": "code",
   "execution_count": 24,
   "metadata": {
    "execution": {
     "iopub.execute_input": "2024-02-12T01:39:20.685865Z",
     "iopub.status.busy": "2024-02-12T01:39:20.685567Z",
     "iopub.status.idle": "2024-02-12T01:39:21.57929Z",
     "shell.execute_reply": "2024-02-12T01:39:21.578171Z",
     "shell.execute_reply.started": "2024-02-12T01:39:20.685839Z"
    }
   },
   "outputs": [
    {
     "data": {
      "application/vnd.plotly.v1+json": {
       "config": {
        "plotlyServerURL": "https://plot.ly"
       },
       "data": [
        {
         "alignmentgroup": "True",
         "boxpoints": "all",
         "customdata": [
          [
           "2023-07-27T00:00:00"
          ],
          [
           "2023-05-25T00:00:00"
          ],
          [
           "2023-07-03T00:00:00"
          ],
          [
           "2023-04-18T00:00:00"
          ],
          [
           "2023-04-12T00:00:00"
          ],
          [
           "2023-04-12T00:00:00"
          ],
          [
           "2023-04-12T00:00:00"
          ],
          [
           "2023-05-01T00:00:00"
          ],
          [
           "2023-05-16T00:00:00"
          ],
          [
           "2023-05-17T00:00:00"
          ],
          [
           "2023-05-18T00:00:00"
          ],
          [
           "2023-05-18T00:00:00"
          ],
          [
           "2023-05-19T00:00:00"
          ],
          [
           "2023-05-19T00:00:00"
          ],
          [
           "2023-05-20T00:00:00"
          ],
          [
           "2023-05-21T00:00:00"
          ],
          [
           "2023-05-21T00:00:00"
          ],
          [
           "2023-05-25T00:00:00"
          ],
          [
           "2023-05-25T00:00:00"
          ],
          [
           "2023-05-26T00:00:00"
          ],
          [
           "2023-06-03T00:00:00"
          ]
         ],
         "fillcolor": "rgba(255,255,255,0)",
         "hoveron": "points",
         "hovertemplate": "<b>%{hovertext}</b><br><br>year=2023<br>Mountain=%{x}<br>Nationality=%{y}<br>Date=%{customdata[0]}<extra></extra>",
         "hovertext": [
          "Muhammad Hassan",
          "Luis Stitzinger",
          "Paweł Kopeć",
          "Noel Hanna",
          "Lakpa Rita Sherpa",
          "Pemba Tenzing Sherpa",
          "Da Chhiree Sherpa",
          "Jonathan Sugarman",
          "Phurba Sherpa",
          "Victor Brinza",
          "Suzanne Leopoldina Jesus",
          "Xuebin Chen",
          "Ag Askandar Bin Ampuan Yaacub",
          "Shrinivas Sainis Dattatraya",
          "Muhammad Hawari Bin Hashim",
          "Jason Bernard Kennison",
          "Ang Kami Sherpa",
          "Szilárd Suhajda [hu]",
          "Ranjit Kumar Shah",
          "Pieter Swart",
          "Lhakpa Nuru Sherpa"
         ],
         "legendgroup": "2023",
         "line": {
          "color": "rgba(255,255,255,0)"
         },
         "marker": {
          "color": "#636efa"
         },
         "name": "2023",
         "offsetgroup": "2023",
         "orientation": "v",
         "pointpos": 0,
         "showlegend": true,
         "type": "box",
         "x": [
          "K2",
          "Kangchenjunga",
          "Nanga Parbat",
          "Annapurna I",
          "Mount Everest",
          "Mount Everest",
          "Mount Everest",
          "Mount Everest",
          "Mount Everest",
          "Mount Everest",
          "Mount Everest",
          "Mount Everest",
          "Mount Everest",
          "Mount Everest",
          "Mount Everest",
          "Mount Everest",
          "Mount Everest",
          "Mount Everest",
          "Mount Everest",
          "Mount Everest",
          "Mount Everest"
         ],
         "x0": " ",
         "xaxis": "x",
         "y": [
          "Pakistan",
          "Germany",
          "Poland",
          "United Kingdom",
          "Nepal",
          "Nepal",
          "Nepal",
          "United States",
          "Nepal",
          "Moldova",
          "India",
          "China",
          "Malaysia",
          "Singapore",
          "Malaysia",
          "Australia",
          "Nepal",
          "Hungary",
          "Nepal",
          "Canada",
          "Nepal"
         ],
         "y0": " ",
         "yaxis": "y"
        },
        {
         "alignmentgroup": "True",
         "boxpoints": "all",
         "customdata": [
          [
           "2022-07-22T00:00:00"
          ],
          [
           "2022-07-22T00:00:00"
          ],
          [
           "2022-07-21T00:00:00"
          ],
          [
           "2022-05-05T00:00:00"
          ],
          [
           "2022-05-08T00:00:00"
          ],
          [
           "2022-04-12T00:00:00"
          ],
          [
           "2022-10-02T00:00:00"
          ],
          [
           "2022-09-26T00:00:00"
          ],
          [
           "2022-09-26T00:00:00"
          ],
          [
           "2022-07-19T00:00:00"
          ],
          [
           "2022-07-05T00:00:00"
          ],
          [
           "2022-07-05T00:00:00"
          ],
          [
           "2022-04-14T00:00:00"
          ],
          [
           "2022-05-07T00:00:00"
          ],
          [
           "2022-05-12T00:00:00"
          ]
         ],
         "fillcolor": "rgba(255,255,255,0)",
         "hoveron": "points",
         "hovertemplate": "<b>%{hovertext}</b><br><br>year=2022<br>Mountain=%{x}<br>Nationality=%{y}<br>Date=%{customdata[0]}<extra></extra>",
         "hovertext": [
          "Matthew Eakin",
          "Richard Cartier",
          "Ali Akbar Sakhi",
          "Narayanan Iyer",
          "Khudam Bir Tamang",
          "Antonios Sykaris",
          "Dawa Chhiring Sherpa",
          "Hilaree Nelson",
          "Anup Rai",
          "Gordon Henderson",
          "Sharif Sadpara",
          "Iram Karim",
          "Ngima Tenji Sherpa",
          "Pavel Kostrikin",
          "Dipak Mahat"
         ],
         "legendgroup": "2022",
         "line": {
          "color": "rgba(255,255,255,0)"
         },
         "marker": {
          "color": "#EF553B"
         },
         "name": "2022",
         "offsetgroup": "2022",
         "orientation": "v",
         "pointpos": 0,
         "showlegend": true,
         "type": "box",
         "x": [
          "K2",
          "K2",
          "K2",
          "Kangchenjunga",
          "Lhotse",
          "Dhaulagiri I",
          "Manaslu",
          "Manaslu",
          "Manaslu",
          "Broad Peak",
          "Broad Peak",
          "Gasherbrum II",
          "Mount Everest",
          "Mount Everest",
          "Mount Everest"
         ],
         "x0": " ",
         "xaxis": "x",
         "y": [
          "Australia",
          "Canada",
          "Afghanistan",
          "India",
          "Nepal",
          "Greece",
          "Nepal",
          "United States",
          "Nepal",
          "United Kingdom",
          "Pakistan",
          "Pakistan",
          "Nepal",
          "Russia",
          "Nepal"
         ],
         "y0": " ",
         "yaxis": "y"
        },
        {
         "alignmentgroup": "True",
         "boxpoints": "all",
         "customdata": [
          [
           "2021-07-25T00:00:00"
          ],
          [
           "2021-02-05T00:00:00"
          ],
          [
           "2021-02-05T00:00:00"
          ],
          [
           "2021-02-05T00:00:00"
          ],
          [
           "2021-02-05T00:00:00"
          ],
          [
           "2021-01-16T00:00:00"
          ],
          [
           "2021-10-24T00:00:00"
          ],
          [
           "2021-09-29T00:00:00"
          ],
          [
           "2021-07-19T00:00:00"
          ],
          [
           "2021-05-12T00:00:00"
          ],
          [
           "2021-05-12T00:00:00"
          ],
          [
           "2021-05-18T00:00:00"
          ],
          [
           "2021-05-23T00:00:00"
          ]
         ],
         "fillcolor": "rgba(255,255,255,0)",
         "hoveron": "points",
         "hovertemplate": "<b>%{hovertext}</b><br><br>year=2021<br>Mountain=%{x}<br>Nationality=%{y}<br>Date=%{customdata[0]}<extra></extra>",
         "hovertext": [
          "Rick Allen",
          "Ali Sadpara",
          "Juan Pablo Mohr Prieto",
          "John Snorri Sigurjónsson",
          "Atanas Skatov",
          "Sergi Mingote",
          "Henrik T. Adersen",
          "Brent Seal",
          "Kim Hong-bin",
          "Puwei Liu",
          "Abdul Waraich",
          "Pemba Tashi Sherpa",
          "Wong Dorchi Sherpa"
         ],
         "legendgroup": "2021",
         "line": {
          "color": "rgba(255,255,255,0)"
         },
         "marker": {
          "color": "#00cc96"
         },
         "name": "2021",
         "offsetgroup": "2021",
         "orientation": "v",
         "pointpos": 0,
         "showlegend": true,
         "type": "box",
         "x": [
          "K2",
          "K2",
          "K2",
          "K2",
          "K2",
          "K2",
          "Makalu",
          "Manaslu",
          "Broad Peak",
          "Mount Everest",
          "Mount Everest",
          "Mount Everest",
          "Mount Everest"
         ],
         "x0": " ",
         "xaxis": "x",
         "y": [
          "United Kingdom",
          "Pakistan",
          "Chile",
          "Iceland",
          "Bulgaria",
          "Spain",
          "Denmark",
          "Canada",
          "South Korea",
          "United States",
          "Switzerland",
          "Nepal",
          "Nepal"
         ],
         "y0": " ",
         "yaxis": "y"
        },
        {
         "alignmentgroup": "True",
         "boxpoints": "all",
         "customdata": [
          [
           "2018-07-22T00:00:00"
          ],
          [
           "2018-07-07T00:00:00"
          ],
          [
           "2018-05-17T00:00:00"
          ],
          [
           "2018-05-15T00:00:00"
          ],
          [
           "2018-05-16T00:00:00"
          ],
          [
           "2018-09-27T00:00:00"
          ],
          [
           "2018-04-30T00:00:00"
          ],
          [
           "2018-09-29T00:00:00"
          ],
          [
           "2018-09-08T00:00:00"
          ],
          [
           "2018-01-28T00:00:00"
          ],
          [
           "2018-05-03T00:00:00"
          ],
          [
           "2018-05-14T00:00:00"
          ],
          [
           "2018-05-18T00:00:00"
          ],
          [
           "2018-05-20T00:00:00"
          ],
          [
           "2018-05-21T00:00:00"
          ],
          [
           "2018-05-21T00:00:00"
          ]
         ],
         "fillcolor": "rgba(255,255,255,0)",
         "hoveron": "points",
         "hovertemplate": "<b>%{hovertext}</b><br><br>year=2018<br>Mountain=%{x}<br>Nationality=%{y}<br>Date=%{customdata[0]}<extra></extra>",
         "hovertext": [
          "Watanabe Kojiro",
          "Serge Dessureault",
          "Rustem Amirov",
          "Ang Dawa Sherpa",
          "Park Shin-yong",
          "Dawa Gyaljen Sherpa",
          "Simone La Terra",
          "Roman Hlávko",
          "Hiromi Komatsu",
          "Tomasz Mackiewicz",
          "Boyan Petrov",
          "Lam Babu Sherpa",
          "Pasang Norbu Sherpa",
          "Gjeorgi Petkov",
          "Nobukazu Kuriki",
          "Damai Sarki Sherpa"
         ],
         "legendgroup": "2018",
         "line": {
          "color": "rgba(255,255,255,0)"
         },
         "marker": {
          "color": "#ab63fa"
         },
         "name": "2018",
         "offsetgroup": "2018",
         "orientation": "v",
         "pointpos": 0,
         "showlegend": true,
         "type": "box",
         "x": [
          "K2",
          "K2",
          "Lhotse",
          "Makalu",
          "Cho Oyu",
          "Dhaulagiri I",
          "Dhaulagiri I",
          "Manaslu",
          "Manaslu",
          "Nanga Parbat",
          "Shishapangma",
          "Mount Everest",
          "Mount Everest",
          "Mount Everest",
          "Mount Everest",
          "Mount Everest"
         ],
         "x0": " ",
         "xaxis": "x",
         "y": [
          "Japan",
          "Canada",
          "Russia",
          "Nepal",
          "South Korea",
          "Nepal",
          "Italy",
          "Czech Republic",
          "Japan",
          "Poland",
          "Bulgaria",
          "Nepal",
          "Nepal",
          "North Macedonia",
          "Japan",
          "Nepal"
         ],
         "y0": " ",
         "yaxis": "y"
        },
        {
         "alignmentgroup": "True",
         "boxpoints": "all",
         "customdata": [
          [
           "2014-07-30T00:00:00"
          ],
          [
           "2014-05-20T00:00:00"
          ],
          [
           "2014-05-20T00:00:00"
          ],
          [
           "2014-05-20T00:00:00"
          ],
          [
           "2014-04-18T00:00:00"
          ],
          [
           "2014-05-02T00:00:00"
          ],
          [
           "2014-10-15T00:00:00"
          ],
          [
           "2014-10-15T00:00:00"
          ],
          [
           "2014-10-15T00:00:00"
          ],
          [
           "2014-10-15T00:00:00"
          ],
          [
           "2014-10-15T00:00:00"
          ],
          [
           "2014-09-26T00:00:00"
          ],
          [
           "2014-09-24T00:00:00"
          ],
          [
           "2014-09-24T00:00:00"
          ],
          [
           "2014-04-02T00:00:00"
          ],
          [
           "2014-04-18T00:00:00"
          ],
          [
           "2014-04-18T00:00:00"
          ],
          [
           "2014-04-18T00:00:00"
          ],
          [
           "2014-04-18T00:00:00"
          ],
          [
           "2014-04-18T00:00:00"
          ],
          [
           "2014-04-18T00:00:00"
          ],
          [
           "2014-04-18T00:00:00"
          ],
          [
           "2014-04-18T00:00:00"
          ],
          [
           "2014-04-18T00:00:00"
          ],
          [
           "2014-04-18T00:00:00"
          ],
          [
           "2014-04-18T00:00:00"
          ],
          [
           "2014-04-18T00:00:00"
          ],
          [
           "2014-04-18T00:00:00"
          ],
          [
           "2014-04-18T00:00:00"
          ],
          [
           "2014-04-18T00:00:00"
          ]
         ],
         "fillcolor": "rgba(255,255,255,0)",
         "hoveron": "points",
         "hovertemplate": "<b>%{hovertext}</b><br><br>year=2014<br>Mountain=%{x}<br>Nationality=%{y}<br>Date=%{customdata[0]}<extra></extra>",
         "hovertext": [
          "Miguel Ángel Pérez",
          "Chhanda Gayen",
          "Migma Temba Sherpa",
          "Dawa Wangchu Sherpa",
          "Asman Tamang",
          "Yannick Claude Sylvain Gagneret",
          "Ján Matlák",
          "Vladimír Švancár",
          "Bhoj Kumar Rai",
          "Gopal Rai",
          "Dorje Sherpa",
          "Yoshimasa Sasaki",
          "Sebastian Haag",
          "Andrea Zambaldi",
          "Mingma Tenzing Sherpa",
          "Mingma Nuru Sherpa",
          "Dorji Sherpa",
          "Ang Tshiri Sherpa",
          "Nima Sherpa",
          "Tenzing Chottar Sherpa",
          "Phurba Ongyal Sherpa",
          "Lapka Tenjing Sherpa",
          "Chhiring Ongchu Sherpa",
          "Dorjee Khatri",
          "Then Dorjee Sherpa",
          "Phur Temba Sherpa",
          "Pasang Karma Sherpa",
          "Ankaji Sherpa",
          "PemTenji Sherpa",
          "Aash Bahadur Gurung"
         ],
         "legendgroup": "2014",
         "line": {
          "color": "rgba(255,255,255,0)"
         },
         "marker": {
          "color": "#FFA15A"
         },
         "name": "2014",
         "offsetgroup": "2014",
         "orientation": "v",
         "pointpos": 0,
         "showlegend": true,
         "type": "box",
         "x": [
          "K2",
          "Kangchenjunga",
          "Kangchenjunga",
          "Kangchenjunga",
          "Lhotse",
          "Makalu",
          "Dhaulagiri I",
          "Dhaulagiri I",
          "Dhaulagiri I",
          "Dhaulagiri I",
          "Dhaulagiri I",
          "Manaslu",
          "Shishapangma",
          "Shishapangma",
          "Mount Everest",
          "Mount Everest",
          "Mount Everest",
          "Mount Everest",
          "Mount Everest",
          "Mount Everest",
          "Mount Everest",
          "Mount Everest",
          "Mount Everest",
          "Mount Everest",
          "Mount Everest",
          "Mount Everest",
          "Mount Everest",
          "Mount Everest",
          "Mount Everest",
          "Mount Everest"
         ],
         "x0": " ",
         "xaxis": "x",
         "y": [
          "Spain",
          "India",
          "Nepal",
          "Nepal",
          "Nepal",
          "France",
          "Slovakia",
          "Slovakia",
          "Nepal",
          "Nepal",
          "Nepal",
          "Japan",
          "Germany",
          "Italy",
          "Nepal",
          "Nepal",
          "Nepal",
          "Nepal",
          "Nepal",
          "Nepal",
          "Nepal",
          "Nepal",
          "Nepal",
          "Nepal",
          "Nepal",
          "Nepal",
          "Nepal",
          "Nepal",
          "Nepal",
          "Nepal"
         ],
         "y0": " ",
         "yaxis": "y"
        },
        {
         "alignmentgroup": "True",
         "boxpoints": "all",
         "customdata": [
          [
           "2013-07-27T00:00:00"
          ],
          [
           "2013-07-27T00:00:00"
          ],
          [
           "2013-05-20T00:00:00"
          ],
          [
           "2013-05-20T00:00:00"
          ],
          [
           "2013-05-20T00:00:00"
          ],
          [
           "2013-05-20T00:00:00"
          ],
          [
           "2013-05-20T00:00:00"
          ],
          [
           "2013-05-20T00:00:00"
          ],
          [
           "2013-04-23T00:00:00"
          ],
          [
           "2013-05-26T00:00:00"
          ],
          [
           "2013-05-23T00:00:00"
          ],
          [
           "2013-05-23T00:00:00"
          ],
          [
           "2013-06-22T00:00:00"
          ],
          [
           "2013-06-22T00:00:00"
          ],
          [
           "2013-06-22T00:00:00"
          ],
          [
           "2013-06-22T00:00:00"
          ],
          [
           "2013-06-22T00:00:00"
          ],
          [
           "2013-06-22T00:00:00"
          ],
          [
           "2013-06-22T00:00:00"
          ],
          [
           "2013-06-22T00:00:00"
          ],
          [
           "2013-06-22T00:00:00"
          ],
          [
           "2013-06-22T00:00:00"
          ],
          [
           "2013-06-22T00:00:00"
          ],
          [
           "2013-02-06T00:00:00"
          ],
          [
           "2013-08-09T00:00:00"
          ],
          [
           "2013-07-22T00:00:00"
          ],
          [
           "2013-07-22T00:00:00"
          ],
          [
           "2013-07-22T00:00:00"
          ],
          [
           "2013-07-07T00:00:00"
          ],
          [
           "2013-07-23T00:00:00"
          ],
          [
           "2013-07-23T00:00:00"
          ],
          [
           "2013-07-23T00:00:00"
          ],
          [
           "2013-07-08T00:00:00"
          ],
          [
           "2013-03-06T00:00:00"
          ],
          [
           "2013-03-06T00:00:00"
          ],
          [
           "2013-05-11T00:00:00"
          ],
          [
           "2013-04-07T00:00:00"
          ],
          [
           "2013-05-05T00:00:00"
          ],
          [
           "2013-05-05T00:00:00"
          ],
          [
           "2013-05-07T00:00:00"
          ],
          [
           "2013-05-15T00:00:00"
          ],
          [
           "2013-05-17T00:00:00"
          ],
          [
           "2013-05-21T00:00:00"
          ],
          [
           "2013-05-21T00:00:00"
          ],
          [
           "2013-05-22T00:00:00"
          ]
         ],
         "fillcolor": "rgba(255,255,255,0)",
         "hoveron": "points",
         "hovertemplate": "<b>%{hovertext}</b><br><br>year=2013<br>Mountain=%{x}<br>Nationality=%{y}<br>Date=%{customdata[0]}<extra></extra>",
         "hovertext": [
          "Marty Schmidt",
          "Denali Schmidt",
          "Bibas Gurung Sherpa",
          "Phu Dorchi Sherpa",
          "Park Nam-soo",
          "Péter Kiss",
          "Zsolt Erőss",
          "Lee Hsiao-shih",
          "Liu Xiang-yang",
          "Juanjo Garra",
          "Chizuko Kono",
          "Dawa Sherpa",
          "Igor Svergun",
          "Badawi Kashaev",
          "Dmitry Konyaev",
          "Rao Jianfeng",
          "Yang Chunfeng",
          "Honglu Chen",
          "Sona Sherpa",
          "Ernestas Markšaitis",
          "Ali Hussain",
          "Anton Dobes",
          "Peter Sperka",
          "Joel Wischnewski",
          "Zdenek Hruby",
          "Xevi Gómez",
          "Álvaro Paredes",
          "Abel Alonso",
          "Artur Hajzer",
          "Aidin Bozorgi",
          "Mojtaba Jarrahi [fa]",
          "Pouya Keivan [fa]",
          "Dana Heide",
          "Maciej Berbeka",
          "Tomasz Kowalski",
          "Unknown",
          "Mingma Sherpa",
          "DaRita Sherpa",
          "Sergey Ponomarev",
          "Lobsang Sherpa",
          "Alexey Bolotov",
          "Namgyal Sherpa",
          "Seo Sung-ho",
          "Sajal Khaled (Mohammed Khaled Hossain)",
          "Unknown climber"
         ],
         "legendgroup": "2013",
         "line": {
          "color": "rgba(255,255,255,0)"
         },
         "marker": {
          "color": "#19d3f3"
         },
         "name": "2013",
         "offsetgroup": "2013",
         "orientation": "v",
         "pointpos": 0,
         "showlegend": true,
         "type": "box",
         "x": [
          "K2",
          "K2",
          "Kangchenjunga",
          "Kangchenjunga",
          "Kangchenjunga",
          "Kangchenjunga",
          "Kangchenjunga",
          "Lhotse",
          "Makalu",
          "Dhaulagiri I",
          "Dhaulagiri I",
          "Dhaulagiri I",
          "Nanga Parbat",
          "Nanga Parbat",
          "Nanga Parbat",
          "Nanga Parbat",
          "Nanga Parbat",
          "Nanga Parbat",
          "Nanga Parbat",
          "Nanga Parbat",
          "Nanga Parbat",
          "Nanga Parbat",
          "Nanga Parbat",
          "Nanga Parbat",
          "Gasherbrum I",
          "Gasherbrum I",
          "Gasherbrum I",
          "Gasherbrum I",
          "Gasherbrum I",
          "Broad Peak",
          "Broad Peak",
          "Broad Peak",
          "Broad Peak",
          "Broad Peak",
          "Broad Peak",
          "Shishapangma",
          "Mount Everest",
          "Mount Everest",
          "Mount Everest",
          "Mount Everest",
          "Mount Everest",
          "Mount Everest",
          "Mount Everest",
          "Mount Everest",
          "Mount Everest"
         ],
         "x0": " ",
         "xaxis": "x",
         "y": [
          "New Zealand / United States",
          "New Zealand / United States",
          "Nepal",
          "Nepal",
          "South Korea",
          "Hungary",
          "Hungary",
          "Taiwan",
          "China",
          "Spain",
          "Japan",
          "Nepal",
          "Ukraine",
          "Ukraine",
          "Ukraine",
          "China",
          "China",
          "China (USA/China dual national)",
          "Nepal",
          "Lithuania",
          "Pakistan",
          "Slovakia",
          "Slovakia",
          "France",
          "Czech Republic",
          "Spain",
          "Spain",
          "Spain",
          "Poland",
          "Iran",
          "Iran",
          "Iran",
          "Germany",
          "Poland",
          "Poland",
          "Germany",
          "Nepal",
          "Nepal",
          "Russia",
          "Nepal",
          "Russia",
          "Nepal",
          "South Korea",
          "Bangladesh",
          "Nepal"
         ],
         "y0": " ",
         "yaxis": "y"
        },
        {
         "alignmentgroup": "True",
         "boxpoints": "all",
         "customdata": [
          [
           "2012-02-06T00:00:00"
          ],
          [
           "2012-10-16T00:00:00"
          ],
          [
           "2012-05-19T00:00:00"
          ],
          [
           "2012-10-04T00:00:00"
          ],
          [
           "2012-09-23T00:00:00"
          ],
          [
           "2012-09-23T00:00:00"
          ],
          [
           "2012-09-23T00:00:00"
          ],
          [
           "2012-09-23T00:00:00"
          ],
          [
           "2012-09-23T00:00:00"
          ],
          [
           "2012-09-23T00:00:00"
          ],
          [
           "2012-09-23T00:00:00"
          ],
          [
           "2012-09-23T00:00:00"
          ],
          [
           "2012-09-23T00:00:00"
          ],
          [
           "2012-09-23T00:00:00"
          ],
          [
           "2012-09-23T00:00:00"
          ],
          [
           "2012-05-11T00:00:00"
          ],
          [
           "2012-10-07T00:00:00"
          ],
          [
           "2012-10-07T00:00:00"
          ],
          [
           "2012-05-05T00:00:00"
          ],
          [
           "2012-03-09T00:00:00"
          ],
          [
           "2012-03-09T00:00:00"
          ],
          [
           "2012-03-09T00:00:00"
          ],
          [
           "2012-07-31T00:00:00"
          ],
          [
           "2012-07-31T00:00:00"
          ],
          [
           "2012-04-05T00:00:00"
          ],
          [
           "2012-04-19T00:00:00"
          ],
          [
           "2012-04-20T00:00:00"
          ],
          [
           "2012-04-21T00:00:00"
          ],
          [
           "2012-05-19T00:00:00"
          ],
          [
           "2012-05-19T00:00:00"
          ],
          [
           "2012-05-19T00:00:00"
          ],
          [
           "2012-05-20T00:00:00"
          ],
          [
           "2012-05-20T00:00:00"
          ],
          [
           "2012-05-20T00:00:00"
          ],
          [
           "2012-05-20T00:00:00"
          ]
         ],
         "fillcolor": "rgba(255,255,255,0)",
         "hoveron": "points",
         "hovertemplate": "<b>%{hovertext}</b><br><br>year=2012<br>Mountain=%{x}<br>Nationality=%{y}<br>Date=%{customdata[0]}<extra></extra>",
         "hovertext": [
          "Vitaliy Gorelik",
          "Temba Sherpa",
          "Milan Sedláček",
          "Victor Correa",
          "Dominique Ouimet",
          "Gregory Ugo Costa",
          "Alberto Magliano",
          "Catherine Ricard",
          "Christian Mittermeyer",
          "Dawa Dorji Sherpa",
          "Fabrice Priez",
          "Ludovic Challeat",
          "Marti Roig Gasull",
          "Phillippe Lucien Bos",
          "Rémy Lécluse",
          "Jafar Naseri",
          "Ivan Lobanov",
          "Iljas Tukhvatullin",
          "Tibor Horváth",
          "Gerfried Göschl",
          "Cedric Hählen",
          "Nissar Hussain",
          "Muhammad Baqir",
          "Zuzana Hofmannová",
          "Dawa Tenzing",
          "Karsang Namgyal Sherpa",
          "Ramesh Gulve",
          "Namgyal Tshering Sherpa",
          "Shriya Shah-Klorfine",
          "Eberhard Schaaf",
          "Song Won-bin",
          "Ha Wenyi",
          "Juan José Polo Carbayo",
          "Milan Sedláček",
          "Ralf D. Arnold"
         ],
         "legendgroup": "2012",
         "line": {
          "color": "rgba(255,255,255,0)"
         },
         "marker": {
          "color": "#FF6692"
         },
         "name": "2012",
         "offsetgroup": "2012",
         "orientation": "v",
         "pointpos": 0,
         "showlegend": true,
         "type": "box",
         "x": [
          "K2",
          "Lhotse",
          "Lhotse",
          "Manaslu",
          "Manaslu",
          "Manaslu",
          "Manaslu",
          "Manaslu",
          "Manaslu",
          "Manaslu",
          "Manaslu",
          "Manaslu",
          "Manaslu",
          "Manaslu",
          "Manaslu",
          "Manaslu",
          "Annapurna I",
          "Annapurna I",
          "Annapurna I",
          "Gasherbrum I",
          "Gasherbrum I",
          "Gasherbrum I",
          "Broad Peak",
          "Broad Peak",
          "Mount Everest",
          "Mount Everest",
          "Mount Everest",
          "Mount Everest",
          "Mount Everest",
          "Mount Everest",
          "Mount Everest",
          "Mount Everest",
          "Mount Everest",
          "Mount Everest",
          "Mount Everest"
         ],
         "x0": " ",
         "xaxis": "x",
         "y": [
          "Russia",
          "Nepal",
          "Czech Republic",
          "Colombia",
          "Canada",
          "France",
          "Italy",
          "France",
          "Germany",
          "Nepal",
          "France",
          "France",
          "Spain",
          "France",
          "France",
          "Iran",
          "Uzbekistan",
          "Uzbekistan",
          "Hungary",
          "Austria",
          "Switzerland",
          "Pakistan",
          "Pakistan",
          "Czech Republic",
          "Nepal",
          "Nepal",
          "India",
          "Nepal",
          "Canada",
          "Germany",
          "South Korea",
          "China",
          "Spain",
          "Czech",
          "Germany"
         ],
         "y0": " ",
         "yaxis": "y"
        },
        {
         "alignmentgroup": "True",
         "boxpoints": "all",
         "customdata": [
          [
           "2010-08-06T00:00:00"
          ],
          [
           "2010-07-17T00:00:00"
          ],
          [
           "2010-05-07T00:00:00"
          ],
          [
           "2010-05-26T00:00:00"
          ],
          [
           "2010-10-03T00:00:00"
          ],
          [
           "2010-05-03T00:00:00"
          ],
          [
           "2010-09-28T00:00:00"
          ],
          [
           "2010-09-28T00:00:00"
          ],
          [
           "2010-09-28T00:00:00"
          ],
          [
           "2010-09-28T00:00:00"
          ],
          [
           "2010-05-13T00:00:00"
          ],
          [
           "2010-05-13T00:00:00"
          ],
          [
           "2010-05-13T00:00:00"
          ],
          [
           "2010-09-24T00:00:00"
          ],
          [
           "2010-04-24T00:00:00"
          ],
          [
           "2010-04-24T00:00:00"
          ],
          [
           "2010-04-29T00:00:00"
          ],
          [
           "2010-04-26T00:00:00"
          ],
          [
           "2010-05-19T00:00:00"
          ],
          [
           "2010-05-26T00:00:00"
          ]
         ],
         "fillcolor": "rgba(255,255,255,0)",
         "hoveron": "points",
         "hovertemplate": "<b>%{hovertext}</b><br><br>year=2010<br>Mountain=%{x}<br>Nationality=%{y}<br>Date=%{customdata[0]}<extra></extra>",
         "hovertext": [
          "Fredrik Ericsson",
          "Petar Georgiev Unzhiev",
          "Sergei Duganov",
          "Zaharias \"Haris\" Kiriakakis",
          "Walter Nones",
          "Serguey Nikitin",
          "Daisuke Honda",
          "Osamu Tanabe",
          "Pasang Gyelu",
          "Toshio Yamamoto",
          "Zhao Liang",
          "Li Bin",
          "Han Xin",
          "Nobuaki Kuwabara",
          "Chi-won Yun",
          "Haeng-su Park",
          "Tolo Calafat",
          "László Várkonyi",
          "Tom Jørgensen",
          "Peter Kinloch"
         ],
         "legendgroup": "2010",
         "line": {
          "color": "rgba(255,255,255,0)"
         },
         "marker": {
          "color": "#B6E880"
         },
         "name": "2010",
         "offsetgroup": "2010",
         "orientation": "v",
         "pointpos": 0,
         "showlegend": true,
         "type": "box",
         "x": [
          "K2",
          "K2",
          "Lhotse",
          "Makalu",
          "Cho Oyu",
          "Cho Oyu",
          "Dhaulagiri I",
          "Dhaulagiri I",
          "Dhaulagiri I",
          "Dhaulagiri I",
          "Dhaulagiri I",
          "Dhaulagiri I",
          "Dhaulagiri I",
          "Manaslu",
          "Manaslu",
          "Manaslu",
          "Annapurna I",
          "Mount Everest",
          "Mount Everest",
          "Mount Everest"
         ],
         "x0": " ",
         "xaxis": "x",
         "y": [
          "Sweden",
          "Bulgaria",
          "Russia",
          "Greece",
          "Italy",
          "Russia",
          "Japan",
          "Japan",
          "Nepal",
          "Japan",
          "China",
          "China",
          "China",
          "Japan",
          "South Korea",
          "South Korea",
          "Spain",
          "Hungary",
          "Denmark",
          "United Kingdom"
         ],
         "y0": " ",
         "yaxis": "y"
        },
        {
         "alignmentgroup": "True",
         "boxpoints": "all",
         "customdata": [
          [
           "2009-06-23T00:00:00"
          ],
          [
           "2009-05-25T00:00:00"
          ],
          [
           "2009-05-01T00:00:00"
          ],
          [
           "2009-09-26T00:00:00"
          ],
          [
           "2009-06-02T00:00:00"
          ],
          [
           "2009-05-01T00:00:00"
          ],
          [
           "2009-04-08T00:00:00"
          ],
          [
           "2009-10-03T00:00:00"
          ],
          [
           "2009-05-19T00:00:00"
          ],
          [
           "2009-04-28T00:00:00"
          ],
          [
           "2009-07-11T00:00:00"
          ],
          [
           "2009-07-10T00:00:00"
          ],
          [
           "2009-04-01T00:00:00"
          ],
          [
           "2009-07-18T00:00:00"
          ],
          [
           "2009-07-21T00:00:00"
          ],
          [
           "2009-10-15T00:00:00"
          ],
          [
           "2009-05-07T00:00:00"
          ],
          [
           "2009-05-18T00:00:00"
          ],
          [
           "2009-05-19T00:00:00"
          ],
          [
           "2009-05-21T00:00:00"
          ]
         ],
         "fillcolor": "rgba(255,255,255,0)",
         "hoveron": "points",
         "hovertemplate": "<b>%{hovertext}</b><br><br>year=2009<br>Mountain=%{x}<br>Nationality=%{y}<br>Date=%{customdata[0]}<extra></extra>",
         "hovertext": [
          "Michele Fait",
          "Sergei Samoilov",
          "Sangat Ram Thakur",
          "Clifton Harlan Wells \"Cliff\" Maloney",
          "Dennis Verhoeve",
          "Mehdi Etemad Far",
          "Piotr Morawski",
          "Franc Oderlap",
          "Levente Szabó",
          "Giuseppe Antonelli",
          "Mi-young Go",
          "Wolfgang Kölblinger",
          "Martin Minařík",
          "Cristina Castagna",
          "Luis María Barbero",
          "Roby Piantoni",
          "Lhakpa Nuru",
          "Věslav Chrzaszcz",
          "Wenhong Wu",
          "Frank Ziebarth"
         ],
         "legendgroup": "2009",
         "line": {
          "color": "rgba(255,255,255,0)"
         },
         "marker": {
          "color": "#FF97FF"
         },
         "name": "2009",
         "offsetgroup": "2009",
         "orientation": "v",
         "pointpos": 0,
         "showlegend": true,
         "type": "box",
         "x": [
          "K2",
          "Lhotse",
          "Makalu",
          "Cho Oyu",
          "Cho Oyu",
          "Dhaulagiri I",
          "Dhaulagiri I",
          "Manaslu",
          "Manaslu",
          "Manaslu",
          "Nanga Parbat",
          "Nanga Parbat",
          "Annapurna I",
          "Broad Peak",
          "Gasherbrum II",
          "Shishapangma",
          "Mount Everest",
          "Mount Everest",
          "Mount Everest",
          "Mount Everest"
         ],
         "x0": " ",
         "xaxis": "x",
         "y": [
          "Italy",
          "Kazakhstan",
          "India",
          "United States",
          "Netherlands",
          "Iran",
          "Poland",
          "Slovenia",
          "Hungary",
          "Italy",
          "South Korea",
          "Austria",
          "Czech Republic",
          "Italy",
          "Spain",
          "Italy",
          "Nepal",
          "Czech Republic",
          "China",
          "Canada"
         ],
         "y0": " ",
         "yaxis": "y"
        },
        {
         "alignmentgroup": "True",
         "boxpoints": "all",
         "customdata": [
          [
           "2008-08-02T00:00:00"
          ],
          [
           "2008-08-02T00:00:00"
          ],
          [
           "2008-08-02T00:00:00"
          ],
          [
           "2008-08-02T00:00:00"
          ],
          [
           "2008-08-02T00:00:00"
          ],
          [
           "2008-08-02T00:00:00"
          ],
          [
           "2008-08-02T00:00:00"
          ],
          [
           "2008-08-02T00:00:00"
          ],
          [
           "2008-08-01T00:00:00"
          ],
          [
           "2008-08-01T00:00:00"
          ],
          [
           "2008-08-01T00:00:00"
          ],
          [
           "2008-05-20T00:00:00"
          ],
          [
           "2008-04-24T00:00:00"
          ],
          [
           "2008-10-04T00:00:00"
          ],
          [
           "2008-10-03T00:00:00"
          ],
          [
           "2008-05-05T00:00:00"
          ],
          [
           "2008-05-05T00:00:00"
          ],
          [
           "2008-10-05T00:00:00"
          ],
          [
           "2008-05-13T00:00:00"
          ],
          [
           "2008-07-17T00:00:00"
          ],
          [
           "2008-07-15T00:00:00"
          ],
          [
           "2008-05-23T00:00:00"
          ],
          [
           "2008-06-18T00:00:00"
          ],
          [
           "2008-06-30T00:00:00"
          ],
          [
           "2008-05-22T00:00:00"
          ]
         ],
         "fillcolor": "rgba(255,255,255,0)",
         "hoveron": "points",
         "hovertemplate": "<b>%{hovertext}</b><br><br>year=2008<br>Mountain=%{x}<br>Nationality=%{y}<br>Date=%{customdata[0]}<extra></extra>",
         "hovertext": [
          "Hwang Dong-jin",
          "Park Kyeong-hyo",
          "Kim Hyo-gyung",
          "Pasang Bhote",
          "Jumic Bhote",
          "Gerard McDonnell",
          "Meherban Karim",
          "Hugues d'Aubarède",
          "Rolf Bae",
          "Jahan Baig",
          "Dren Mandić",
          "Nil Prasad Gurung",
          "Drabey Bahadur Rajan Magar",
          "Miha Valič",
          "Guy Leveille",
          "Rafael Guillén",
          "Darío Bracali",
          "Daniel Goulevitch",
          "Hasta Bahadur Gurung",
          "Saman Nemati",
          "Karl Unterkircher",
          "Iñaki Ochoa de Olza",
          "Jean-Noel Urban",
          "Vlado Plulik",
          "Uwe Gianni Goltz"
         ],
         "legendgroup": "2008",
         "line": {
          "color": "rgba(255,255,255,0)"
         },
         "marker": {
          "color": "#FECB52"
         },
         "name": "2008",
         "offsetgroup": "2008",
         "orientation": "v",
         "pointpos": 0,
         "showlegend": true,
         "type": "box",
         "x": [
          "K2",
          "K2",
          "K2",
          "K2",
          "K2",
          "K2",
          "K2",
          "K2",
          "K2",
          "K2",
          "K2",
          "Makalu",
          "Makalu",
          "Cho Oyu",
          "Cho Oyu",
          "Dhaulagiri I",
          "Dhaulagiri I",
          "Manaslu",
          "Manaslu",
          "Nanga Parbat",
          "Nanga Parbat",
          "Annapurna I",
          "Gasherbrum I",
          "Broad Peak",
          "Mount Everest"
         ],
         "x0": " ",
         "xaxis": "x",
         "y": [
          "South Korea",
          "South Korea",
          "South Korea",
          "Nepal",
          "Nepal",
          "Ireland",
          "Pakistan",
          "France",
          "Norway",
          "Pakistan",
          "Serbia",
          "Nepal",
          "Nepal",
          "Slovenia",
          "Canada",
          "Spain",
          "Argentina",
          "France",
          "Nepal",
          "Iran",
          "Italy",
          "Spain",
          "France",
          "Slovakia",
          "Switzerland"
         ],
         "y0": " ",
         "yaxis": "y"
        },
        {
         "alignmentgroup": "True",
         "boxpoints": "all",
         "customdata": [
          [
           "2007-07-20T00:00:00"
          ],
          [
           "2007-07-20T00:00:00"
          ],
          [
           "2007-05-24T00:00:00"
          ],
          [
           "2007-05-21T00:00:00"
          ],
          [
           "2007-05-12T00:00:00"
          ],
          [
           "2007-05-12T00:00:00"
          ],
          [
           "2007-04-30T00:00:00"
          ],
          [
           "2007-04-22T00:00:00"
          ],
          [
           "2007-07-29T00:00:00"
          ],
          [
           "2007-07-18T00:00:00"
          ],
          [
           "2007-07-18T00:00:00"
          ],
          [
           "2007-07-03T00:00:00"
          ],
          [
           "2007-04-24T00:00:00"
          ],
          [
           "2007-04-26T00:00:00"
          ],
          [
           "2007-05-17T00:00:00"
          ],
          [
           "2007-05-17T00:00:00"
          ],
          [
           "2007-05-16T00:00:00"
          ],
          [
           "2007-05-17T00:00:00"
          ],
          [
           "2007-05-17T00:00:00"
          ],
          [
           "2007-05-17T00:00:00"
          ]
         ],
         "fillcolor": "rgba(255,255,255,0)",
         "hoveron": "points",
         "hovertemplate": "<b>%{hovertext}</b><br><br>year=2007<br>Mountain=%{x}<br>Nationality=%{y}<br>Date=%{customdata[0]}<extra></extra>",
         "hovertext": [
          "Stefano Zavka",
          "Nima Nurbu",
          "Iñigo de Pineda Blanc",
          "Pemba Doma Thaktopa Sherpa",
          "Santiago Sagaste",
          "Ricardo Valencia",
          "Sergio Dalla Longa",
          "Udhav Prasad Khanal",
          "Jiri Danek",
          "Ernst-Robert Zauner",
          "Arne Heckele",
          "Ulrike Gschwandtner [de]",
          "Marek Hudák",
          "Dawa Sherpa",
          "Shinichi Ishii",
          "Libor Kozák",
          "Yoshitomi Okura",
          "Maurizio Pierangelo",
          "Oh Hee-joon",
          "Lee Hyun-jo"
         ],
         "legendgroup": "2007",
         "line": {
          "color": "rgba(255,255,255,0)"
         },
         "marker": {
          "color": "#636efa"
         },
         "name": "2007",
         "offsetgroup": "2007",
         "orientation": "v",
         "pointpos": 0,
         "showlegend": true,
         "type": "box",
         "x": [
          "K2",
          "K2",
          "Kangchenjunga",
          "Lhotse",
          "Dhaulagiri I",
          "Dhaulagiri I",
          "Dhaulagiri I",
          "Annapurna I",
          "Gasherbrum I",
          "Gasherbrum II",
          "Gasherbrum II",
          "Gasherbrum II",
          "Shishapangma",
          "Mount Everest",
          "Mount Everest",
          "Mount Everest",
          "Mount Everest",
          "Mount Everest",
          "Mount Everest",
          "Mount Everest"
         ],
         "x0": " ",
         "xaxis": "x",
         "y": [
          "Italy",
          "Nepal",
          "Spain",
          "Nepal",
          "Spain",
          "Spain",
          "Italy",
          "Nepal",
          "Czech Republic",
          "Germany",
          "Germany",
          "Austria",
          "Slovakia",
          "Nepal",
          "Japan",
          "Czech Republic",
          "Japan",
          "Italy",
          "South Korea",
          "South Korea"
         ],
         "y0": " ",
         "yaxis": "y"
        },
        {
         "alignmentgroup": "True",
         "boxpoints": "all",
         "customdata": [
          [
           "2006-08-13T00:00:00"
          ],
          [
           "2006-08-13T00:00:00"
          ],
          [
           "2006-08-13T00:00:00"
          ],
          [
           "2006-08-13T00:00:00"
          ],
          [
           "2006-05-09T00:00:00"
          ],
          [
           "2006-01-27T00:00:00"
          ],
          [
           "2006-05-09T00:00:00"
          ],
          [
           "2006-05-28T00:00:00"
          ],
          [
           "2006-07-28T00:00:00"
          ],
          [
           "2006-07-22T00:00:00"
          ],
          [
           "2006-10-22T00:00:00"
          ],
          [
           "2006-07-08T00:00:00"
          ],
          [
           "2006-10-31T00:00:00"
          ],
          [
           "2006-04-07T00:00:00"
          ],
          [
           "2006-04-21T00:00:00"
          ],
          [
           "2006-04-21T00:00:00"
          ],
          [
           "2006-04-21T00:00:00"
          ],
          [
           "2006-05-17T00:00:00"
          ],
          [
           "2006-05-14T00:00:00"
          ],
          [
           "2006-05-15T00:00:00"
          ],
          [
           "2006-05-16T00:00:00"
          ],
          [
           "2006-05-19T00:00:00"
          ],
          [
           "2006-05-22T00:00:00"
          ],
          [
           "2006-05-25T00:00:00"
          ]
         ],
         "fillcolor": "rgba(255,255,255,0)",
         "hoveron": "points",
         "hovertemplate": "<b>%{hovertext}</b><br><br>year=2006<br>Mountain=%{x}<br>Nationality=%{y}<br>Date=%{customdata[0]}<extra></extra>",
         "hovertext": [
          "Arkadi Kuvakin",
          "Aleksandr Foigt",
          "Piotr Kuznetsov",
          "Yuri Uteshev",
          "Pavel Kalný",
          "Jean-Christophe Lafaille",
          "Raymund M. Spang",
          "Susan Erica Fear",
          "Naohiro Ozawa",
          "José Antonio Delgado",
          "Lhakpa Rita II",
          "Markus Kronthaler",
          "Bruno Carvalho",
          "Tuk Bahadur Thapa Magar Sherpa",
          "Ang Phinjo Sherpa",
          "Lhakpa Tseri",
          "Dawa Temba",
          "Jacques-Hugues Letrange",
          "Srikrishna",
          "David Sharp",
          "Tomas Olsson",
          "Vitor Negrete",
          "Igor Plyushkin",
          "Thomas Weber"
         ],
         "legendgroup": "2006",
         "line": {
          "color": "rgba(255,255,255,0)"
         },
         "marker": {
          "color": "#EF553B"
         },
         "name": "2006",
         "offsetgroup": "2006",
         "orientation": "v",
         "pointpos": 0,
         "showlegend": true,
         "type": "box",
         "x": [
          "K2",
          "K2",
          "K2",
          "K2",
          "Lhotse",
          "Makalu",
          "Cho Oyu",
          "Manaslu",
          "Nanga Parbat",
          "Nanga Parbat",
          "Annapurna I",
          "Broad Peak",
          "Shishapangma",
          "Mount Everest",
          "Mount Everest",
          "Mount Everest",
          "Mount Everest",
          "Mount Everest",
          "Mount Everest",
          "Mount Everest",
          "Mount Everest",
          "Mount Everest",
          "Mount Everest",
          "Mount Everest"
         ],
         "x0": " ",
         "xaxis": "x",
         "y": [
          "Russia",
          "Russia",
          "Russia",
          "Russia",
          "Czech Republic",
          "France",
          "Germany",
          "Australia",
          "Japan",
          "Venezuela",
          "Nepal",
          "Austria",
          "Portugal",
          "Nepal",
          "Nepal",
          "Nepal",
          "Nepal",
          "France",
          "India",
          "United Kingdom",
          "Sweden",
          "Brazil",
          "Russia",
          "Germany"
         ],
         "y0": " ",
         "yaxis": "y"
        },
        {
         "alignmentgroup": "True",
         "boxpoints": "all",
         "customdata": [
          [
           "2004-08-19T00:00:00"
          ],
          [
           "2004-08-02T00:00:00"
          ],
          [
           "2004-08-02T00:00:00"
          ],
          [
           "2004-07-28T00:00:00"
          ],
          [
           "2004-06-08T00:00:00"
          ],
          [
           "2004-06-08T00:00:00"
          ],
          [
           "2004-06-08T00:00:00"
          ],
          [
           "2004-05-18T00:00:00"
          ],
          [
           "2004-05-17T00:00:00"
          ],
          [
           "2004-10-13T00:00:00"
          ],
          [
           "2004-07-01T00:00:00"
          ],
          [
           "2004-10-10T00:00:00"
          ],
          [
           "2004-10-10T00:00:00"
          ],
          [
           "2004-07-25T00:00:00"
          ],
          [
           "2004-05-18T00:00:00"
          ],
          [
           "2004-05-18T00:00:00"
          ],
          [
           "2004-05-18T00:00:00"
          ],
          [
           "2004-05-18T00:00:00"
          ],
          [
           "2004-05-20T00:00:00"
          ],
          [
           "2004-05-20T00:00:00"
          ],
          [
           "2004-05-23T00:00:00"
          ]
         ],
         "fillcolor": "rgba(255,255,255,0)",
         "hoveron": "points",
         "hovertemplate": "<b>%{hovertext}</b><br><br>year=2004<br>Mountain=%{x}<br>Nationality=%{y}<br>Date=%{customdata[0]}<extra></extra>",
         "hovertext": [
          "Manel de la Mata",
          "Dauoud Khadem Asl",
          "Sergei Sokolov",
          "Aleksandr Gubaev",
          "Pae Kyong-kyu",
          "Kim Jae-koung",
          "Lee Hwa-hyeung",
          "Jay Sieger",
          "Vladislav Terzyul",
          "Xabier Ormazabal",
          "Günter Jung",
          "Hideji Nazuka",
          "Michio Sato",
          "Jose Antonio Anton",
          "Joon-ho Baek",
          "Min Jang",
          "Mu-taek Park",
          "Nils Antezana",
          "Hristo Ganchev Hristov",
          "Shoko Ota",
          "Mariana Prodanova Maslarova"
         ],
         "legendgroup": "2004",
         "line": {
          "color": "rgba(255,255,255,0)"
         },
         "marker": {
          "color": "#00cc96"
         },
         "name": "2004",
         "offsetgroup": "2004",
         "orientation": "v",
         "pointpos": 0,
         "showlegend": true,
         "type": "box",
         "x": [
          "K2",
          "K2",
          "K2",
          "K2",
          "K2",
          "K2",
          "K2",
          "Makalu",
          "Makalu",
          "Cho Oyu",
          "Nanga Parbat",
          "Annapurna I",
          "Annapurna I",
          "Gasherbrum I",
          "Mount Everest",
          "Mount Everest",
          "Mount Everest",
          "Mount Everest",
          "Mount Everest",
          "Mount Everest",
          "Mount Everest"
         ],
         "x0": " ",
         "xaxis": "x",
         "y": [
          "Spain",
          "Iran",
          "Russia",
          "Kyrgyzstan",
          "South Korea",
          "South Korea",
          "South Korea",
          "United States",
          "Ukraine",
          "Spain",
          "Germany",
          "Japan",
          "Japan",
          "Spain",
          "South Korea",
          "South Korea",
          "South Korea",
          "United States Bolivia",
          "Bulgaria",
          "Japan",
          "Bulgaria"
         ],
         "y0": " ",
         "yaxis": "y"
        },
        {
         "alignmentgroup": "True",
         "boxpoints": "all",
         "customdata": [
          [
           "2003-07-21T00:00:00"
          ],
          [
           "2003-10-05T00:00:00"
          ],
          [
           "2003-10-05T00:00:00"
          ],
          [
           "2003-10-06T00:00:00"
          ],
          [
           "2003-05-16T00:00:00"
          ],
          [
           "2003-05-14T00:00:00"
          ],
          [
           "2003-09-07T00:00:00"
          ],
          [
           "2003-07-15T00:00:00"
          ],
          [
           "2003-07-05T00:00:00"
          ],
          [
           "2003-07-05T00:00:00"
          ],
          [
           "2003-05-27T00:00:00"
          ],
          [
           "2003-05-25T00:00:00"
          ],
          [
           "2003-05-08T00:00:00"
          ],
          [
           "2003-05-24T00:00:00"
          ]
         ],
         "fillcolor": "rgba(255,255,255,0)",
         "hoveron": "points",
         "hovertemplate": "<b>%{hovertext}</b><br><br>year=2003<br>Mountain=%{x}<br>Nationality=%{y}<br>Date=%{customdata[0]}<extra></extra>",
         "hovertext": [
          "Klaus-Dieter Grohs",
          "Hwang Sun-dug",
          "Park Joo-hoon",
          "Christos Barouchas",
          "Guenter Welkisch",
          "Paul Bernard Carr",
          "Mohammad Oraz",
          "Vladimir Pestrikov",
          "Jose Manuel Buenaga",
          "Nancy Silvestrini [es]",
          "Bhim Bahadur Gurung",
          "Jan Krzysztof Liszewski",
          "Arnaud Saulnier",
          "Karma Gyalzen Sherpa"
         ],
         "legendgroup": "2003",
         "line": {
          "color": "rgba(255,255,255,0)"
         },
         "marker": {
          "color": "#ab63fa"
         },
         "name": "2003",
         "offsetgroup": "2003",
         "orientation": "v",
         "pointpos": 0,
         "showlegend": true,
         "type": "box",
         "x": [
          "K2",
          "Lhotse",
          "Lhotse",
          "Cho Oyu",
          "Cho Oyu",
          "Cho Oyu",
          "Gasherbrum I",
          "Gasherbrum I",
          "Gasherbrum I",
          "Gasherbrum I",
          "Mount Everest",
          "Mount Everest",
          "Mount Everest",
          "Mount Everest"
         ],
         "x0": " ",
         "xaxis": "x",
         "y": [
          "Germany",
          "South Korea",
          "South Korea",
          "Greece",
          "Germany",
          "Australia",
          "Iran",
          "Ukraine",
          "Spain",
          "Argentina",
          "Nepal",
          "Poland",
          "France",
          "Nepal"
         ],
         "y0": " ",
         "yaxis": "y"
        },
        {
         "alignmentgroup": "True",
         "boxpoints": "all",
         "customdata": [
          [
           "2002-07-22T00:00:00"
          ],
          [
           "2002-07-13T00:00:00"
          ],
          [
           "2002-05-24T00:00:00"
          ],
          [
           "2002-04-25T00:00:00"
          ],
          [
           "2002-01-01T00:00:00"
          ],
          [
           "2002-01-01T00:00:00"
          ],
          [
           "2002-01-01T00:00:00"
          ],
          [
           "2002-01-01T00:00:00"
          ],
          [
           "2002-01-01T00:00:00"
          ],
          [
           "2002-01-01T00:00:00"
          ],
          [
           "2002-05-14T00:00:00"
          ],
          [
           "2002-04-30T00:00:00"
          ],
          [
           "2002-04-30T00:00:00"
          ],
          [
           "2002-05-17T00:00:00"
          ],
          [
           "2002-09-08T00:00:00"
          ]
         ],
         "fillcolor": "rgba(255,255,255,0)",
         "hoveron": "points",
         "hovertemplate": "<b>%{hovertext}</b><br><br>year=2002<br>Mountain=%{x}<br>Nationality=%{y}<br>Date=%{customdata[0]}<extra></extra>",
         "hovertext": [
          "Muhammad Iqbal",
          "Sher Ajman",
          "Christopher Hugh \"Chris\" Grasswick",
          "Raymond David Caughron",
          "Pramod Sunar",
          "Karma Wangchu Sherpa",
          "Prakash Kundip Karki",
          "Ongchhu Sherpa",
          "Sarki Sherpa",
          "Nima Dorje Tamang",
          "Adam Joseph Cinnamond",
          "Chhong Ringee Sherpa",
          "Peter Legate",
          "Zoran Miletić",
          "Marco Siffredi"
         ],
         "legendgroup": "2002",
         "line": {
          "color": "rgba(255,255,255,0)"
         },
         "marker": {
          "color": "#FFA15A"
         },
         "name": "2002",
         "offsetgroup": "2002",
         "orientation": "v",
         "pointpos": 0,
         "showlegend": true,
         "type": "box",
         "x": [
          "K2",
          "K2",
          "Kangchenjunga",
          "Makalu",
          "Makalu",
          "Makalu",
          "Makalu",
          "Makalu",
          "Makalu",
          "Makalu",
          "Cho Oyu",
          "Cho Oyu",
          "Mount Everest",
          "Mount Everest",
          "Mount Everest"
         ],
         "x0": " ",
         "xaxis": "x",
         "y": [
          "Pakistan",
          "Pakistan",
          "Canada",
          "United States",
          "Nepal",
          "Nepal",
          "Nepal",
          "Nepal",
          "Nepal",
          "Nepal",
          "United Kingdom",
          "Nepal",
          "United Kingdom",
          "FR Yugoslavia",
          "France"
         ],
         "y0": " ",
         "yaxis": "y"
        },
        {
         "alignmentgroup": "True",
         "boxpoints": "all",
         "customdata": [
          [
           "2001-07-22T00:00:00"
          ],
          [
           "2001-05-14T00:00:00"
          ],
          [
           "2001-09-09T00:00:00"
          ],
          [
           "2001-10-14T00:00:00"
          ],
          [
           "2001-10-14T00:00:00"
          ],
          [
           "2001-10-14T00:00:00"
          ],
          [
           "2001-10-11T00:00:00"
          ],
          [
           "2001-10-13T00:00:00"
          ],
          [
           "2001-07-09T00:00:00"
          ],
          [
           "2001-07-20T00:00:00"
          ],
          [
           "2001-04-29T00:00:00"
          ],
          [
           "2001-05-23T00:00:00"
          ],
          [
           "2001-05-24T00:00:00"
          ],
          [
           "2001-05-24T00:00:00"
          ],
          [
           "2001-10-17T00:00:00"
          ]
         ],
         "fillcolor": "rgba(255,255,255,0)",
         "hoveron": "points",
         "hovertemplate": "<b>%{hovertext}</b><br><br>year=2001<br>Mountain=%{x}<br>Nationality=%{y}<br>Date=%{customdata[0]}<extra></extra>",
         "hovertext": [
          "Park Young-do",
          "Erich Resch",
          "Kim Su-ya",
          "Yukihiko Shinagawa",
          "Ryushi Hoshino",
          "Masashi Fukumoto",
          "Jose Antonio Garces",
          "Isao Kuribara",
          "Claudio Gálvez Santibañez",
          "Jean-François Bassine",
          "Babu Chiri Sherpa",
          "Peter Ganner",
          "Mark Auricht",
          "Aleksei Nikiforov",
          "Sándor Gárdos"
         ],
         "legendgroup": "2001",
         "line": {
          "color": "rgba(255,255,255,0)"
         },
         "marker": {
          "color": "#19d3f3"
         },
         "name": "2001",
         "offsetgroup": "2001",
         "orientation": "v",
         "pointpos": 0,
         "showlegend": true,
         "type": "box",
         "x": [
          "K2",
          "Makalu",
          "Cho Oyu",
          "Dhaulagiri I",
          "Dhaulagiri I",
          "Dhaulagiri I",
          "Dhaulagiri I",
          "Manaslu",
          "Gasherbrum I",
          "Gasherbrum II",
          "Mount Everest",
          "Mount Everest",
          "Mount Everest",
          "Mount Everest",
          "Mount Everest"
         ],
         "x0": " ",
         "xaxis": "x",
         "y": [
          "South Korea",
          "Austria",
          "South Korea",
          "Japan",
          "Japan",
          "Japan",
          "Spain",
          "Nepal",
          "Chile",
          "Belgium",
          "Nepal",
          "Austria",
          "Australia",
          "Russia",
          "Hungary"
         ],
         "y0": " ",
         "yaxis": "y"
        },
        {
         "alignmentgroup": "True",
         "boxpoints": "all",
         "customdata": [
          [
           "1999-07-10T00:00:00"
          ],
          [
           "1999-09-14T00:00:00"
          ],
          [
           "1999-09-14T00:00:00"
          ],
          [
           "1999-10-11T00:00:00"
          ],
          [
           "1999-04-30T00:00:00"
          ],
          [
           "1999-01-01T00:00:00"
          ],
          [
           "1999-10-24T00:00:00"
          ],
          [
           "1999-10-24T00:00:00"
          ],
          [
           "1999-04-29T00:00:00"
          ],
          [
           "1999-04-29T00:00:00"
          ],
          [
           "1999-07-11T00:00:00"
          ],
          [
           "1999-10-05T00:00:00"
          ],
          [
           "1999-10-05T00:00:00"
          ],
          [
           "1999-05-08T00:00:00"
          ],
          [
           "1999-05-13T00:00:00"
          ],
          [
           "1999-05-18T00:00:00"
          ],
          [
           "1999-05-18T00:00:00"
          ]
         ],
         "fillcolor": "rgba(255,255,255,0)",
         "hoveron": "points",
         "hovertemplate": "<b>%{hovertext}</b><br><br>year=1999<br>Mountain=%{x}<br>Nationality=%{y}<br>Date=%{customdata[0]}<extra></extra>",
         "hovertext": [
          "Mihai Cioroianu",
          "Hyun Myeong-kun",
          "Han Do-kyu",
          "Sange Pemba Sherpa",
          "Michael Knakkergaard-Jørgensen",
          "Joan Carrillo Junca",
          "Ginette Harrison",
          "Dawa Dorje",
          "Hyun-ok Ji",
          "Dorje Kami",
          "Seung-Kwon Hur",
          "Alex Lowe",
          "David Bridges",
          "Vasyl Kopytko",
          "Michael Matthews",
          "Tadeusz Kudelski",
          "Pascal Debrouwer"
         ],
         "legendgroup": "1999",
         "line": {
          "color": "rgba(255,255,255,0)"
         },
         "marker": {
          "color": "#FF6692"
         },
         "name": "1999",
         "offsetgroup": "1999",
         "orientation": "v",
         "pointpos": 0,
         "showlegend": true,
         "type": "box",
         "x": [
          "K2",
          "Kangchenjunga",
          "Kangchenjunga",
          "Makalu",
          "Makalu",
          "Cho Oyu",
          "Dhaulagiri I",
          "Dhaulagiri I",
          "Annapurna I",
          "Annapurna I",
          "Broad Peak",
          "Shishapangma",
          "Shishapangma",
          "Mount Everest",
          "Mount Everest",
          "Mount Everest",
          "Mount Everest"
         ],
         "x0": " ",
         "xaxis": "x",
         "y": [
          "Romania",
          "South Korea",
          "South Korea",
          "Nepal",
          "Denmark",
          "Spain",
          "United Kingdom",
          "Nepal",
          "South Korea",
          "Nepal",
          "South Korea",
          "United States",
          "United States",
          "Ukraine",
          "United Kingdom",
          "Poland",
          "Belgium"
         ],
         "y0": " ",
         "yaxis": "y"
        },
        {
         "alignmentgroup": "True",
         "boxpoints": "all",
         "customdata": [
          [
           "1996-08-14T00:00:00"
          ],
          [
           "1996-07-29T00:00:00"
          ],
          [
           "1996-05-14T00:00:00"
          ],
          [
           "1996-10-10T00:00:00"
          ],
          [
           "1996-10-06T00:00:00"
          ],
          [
           "1996-04-20T00:00:00"
          ],
          [
           "1996-10-01T00:00:00"
          ],
          [
           "1996-06-20T00:00:00"
          ],
          [
           "1996-06-20T00:00:00"
          ],
          [
           "1996-07-17T00:00:00"
          ],
          [
           "1996-07-20T00:00:00"
          ],
          [
           "1996-07-20T00:00:00"
          ],
          [
           "1996-07-20T00:00:00"
          ],
          [
           "1996-10-05T00:00:00"
          ],
          [
           "1996-10-05T00:00:00"
          ],
          [
           "1996-05-19T00:00:00"
          ],
          [
           "1996-05-01T00:00:00"
          ],
          [
           "1996-05-09T00:00:00"
          ],
          [
           "1996-05-11T00:00:00"
          ],
          [
           "1996-05-11T00:00:00"
          ],
          [
           "1996-05-11T00:00:00"
          ],
          [
           "1996-05-11T00:00:00"
          ],
          [
           "1996-05-11T00:00:00"
          ],
          [
           "1996-05-11T00:00:00"
          ],
          [
           "1996-05-11T00:00:00"
          ],
          [
           "1996-05-11T00:00:00"
          ],
          [
           "1996-05-19T00:00:00"
          ],
          [
           "1996-05-25T00:00:00"
          ],
          [
           "1996-06-06T00:00:00"
          ],
          [
           "1996-09-25T00:00:00"
          ],
          [
           "1996-09-25T00:00:00"
          ],
          [
           "1996-09-25T00:00:00"
          ]
         ],
         "fillcolor": "rgba(255,255,255,0)",
         "hoveron": "points",
         "hovertemplate": "<b>%{hovertext}</b><br><br>year=1996<br>Mountain=%{x}<br>Nationality=%{y}<br>Date=%{customdata[0]}<extra></extra>",
         "hovertext": [
          "Igor Benkin",
          "Lorenzo Mazzoleni",
          "Anatoli Chlekht",
          "Lubos Becak",
          "Oya Hiroshi",
          "Friedrich \"Fritz\" Zintl",
          "Masatsugu Konishi",
          "Răzvan Petcu",
          "Gabriel Stana",
          "Manuel Alvarez",
          "Dong-keun Han",
          "Jae-mo Yang",
          "Sun-taek Lim",
          "Viktor Pastukh",
          "Gennadi Vasilenko",
          "Ming-Tse Kuo",
          "Stefan Sluka",
          "Chen Yu-Nan",
          "Scott Fischer",
          "Rob Hall",
          "Doug Hansen",
          "Andrew Harris",
          "Yasuko Namba",
          "Dorje Morup",
          "Tsewang Paljor",
          "Tsewang Samanla",
          "Reinhard Wlasich",
          "Bruce Herrod",
          "Ngawang Topche",
          "Yves Bouchon",
          "Lopsang Jangbu",
          "Dawa"
         ],
         "legendgroup": "1996",
         "line": {
          "color": "rgba(255,255,255,0)"
         },
         "marker": {
          "color": "#B6E880"
         },
         "name": "1996",
         "offsetgroup": "1996",
         "orientation": "v",
         "pointpos": 0,
         "showlegend": true,
         "type": "box",
         "x": [
          "K2",
          "K2",
          "Makalu",
          "Cho Oyu",
          "Cho Oyu",
          "Cho Oyu",
          "Manaslu",
          "Nanga Parbat",
          "Nanga Parbat",
          "Gasherbrum I",
          "Broad Peak",
          "Broad Peak",
          "Broad Peak",
          "Shishapangma",
          "Shishapangma",
          "Shishapangma",
          "Shishapangma",
          "Mount Everest",
          "Mount Everest",
          "Mount Everest",
          "Mount Everest",
          "Mount Everest",
          "Mount Everest",
          "Mount Everest",
          "Mount Everest",
          "Mount Everest",
          "Mount Everest",
          "Mount Everest",
          "Mount Everest",
          "Mount Everest",
          "Mount Everest",
          "Mount Everest"
         ],
         "x0": " ",
         "xaxis": "x",
         "y": [
          "Russia",
          "Italy",
          "Russia",
          "Czech Republic",
          "Japan",
          "Germany",
          "Japan",
          "Romania",
          "Romania",
          "Spain",
          "South Korea",
          "South Korea",
          "South Korea",
          "Ukraine",
          "Ukraine",
          "Taiwan",
          "Slovakia",
          "Taiwan",
          "United States",
          "New Zealand",
          "United States",
          "New Zealand",
          "Japan",
          "India",
          "India",
          "India",
          "Austria",
          "United Kingdom",
          "Nepal",
          "France",
          "Nepal",
          "Nepal"
         ],
         "y0": " ",
         "yaxis": "y"
        },
        {
         "alignmentgroup": "True",
         "boxpoints": "all",
         "customdata": [
          [
           "1995-08-15T00:00:00"
          ],
          [
           "1995-08-13T00:00:00"
          ],
          [
           "1995-08-13T00:00:00"
          ],
          [
           "1995-08-13T00:00:00"
          ],
          [
           "1995-08-13T00:00:00"
          ],
          [
           "1995-08-13T00:00:00"
          ],
          [
           "1995-08-13T00:00:00"
          ],
          [
           "1995-07-06T00:00:00"
          ],
          [
           "1995-10-06T00:00:00"
          ],
          [
           "1995-10-06T00:00:00"
          ],
          [
           "1995-10-05T00:00:00"
          ],
          [
           "1995-01-01T00:00:00"
          ],
          [
           "1995-05-08T00:00:00"
          ],
          [
           "1995-10-06T00:00:00"
          ],
          [
           "1995-05-15T00:00:00"
          ],
          [
           "1995-05-07T00:00:00"
          ],
          [
           "1995-05-06T00:00:00"
          ],
          [
           "1995-07-12T00:00:00"
          ],
          [
           "1995-05-06T00:00:00"
          ],
          [
           "1995-09-10T00:00:00"
          ],
          [
           "1995-10-14T00:00:00"
          ]
         ],
         "fillcolor": "rgba(255,255,255,0)",
         "hoveron": "points",
         "hovertemplate": "<b>%{hovertext}</b><br><br>year=1995<br>Mountain=%{x}<br>Nationality=%{y}<br>Date=%{customdata[0]}<extra></extra>",
         "hovertext": [
          "Jeff Lakes",
          "Bruce Grant",
          "Rob Slater",
          "Alison Hargreaves",
          "Javier Escartin",
          "Javier Olivar",
          "Lorenzo Ortiz",
          "Jordi Anglès",
          "Benoît Chamoux",
          "Riku Sherpa",
          "Pierre Alain Royer",
          "Sukaraj Limbu",
          "David Victor Hume",
          "Isayoshi Tawaraya",
          "Albrecht Hammann",
          "Michael Zunk",
          "Jörg Starke",
          "Hyun-jae Park",
          "Kami Rita",
          "Lhakpa Nuru",
          "Zangbu"
         ],
         "legendgroup": "1995",
         "line": {
          "color": "rgba(255,255,255,0)"
         },
         "marker": {
          "color": "#FF97FF"
         },
         "name": "1995",
         "offsetgroup": "1995",
         "orientation": "v",
         "pointpos": 0,
         "showlegend": true,
         "type": "box",
         "x": [
          "K2",
          "K2",
          "K2",
          "K2",
          "K2",
          "K2",
          "K2",
          "K2",
          "Kangchenjunga",
          "Kangchenjunga",
          "Kangchenjunga",
          "Kangchenjunga",
          "Makalu",
          "Dhaulagiri I",
          "Dhaulagiri I",
          "Manaslu",
          "Manaslu",
          "Broad Peak",
          "Mount Everest",
          "Mount Everest",
          "Mount Everest"
         ],
         "x0": " ",
         "xaxis": "x",
         "y": [
          "Canada",
          "New Zealand",
          "United States",
          "United Kingdom",
          "Spain",
          "Spain",
          "Spain",
          "Spain",
          "France",
          "Nepal",
          "France",
          "Nepal",
          "Australia",
          "Japan",
          "Germany",
          "Germany",
          "Germany",
          "South Korea",
          "Nepal",
          "Nepal",
          "Nepal"
         ],
         "y0": " ",
         "yaxis": "y"
        },
        {
         "alignmentgroup": "True",
         "boxpoints": "all",
         "customdata": [
          [
           "1994-08-11T00:00:00"
          ],
          [
           "1994-07-24T00:00:00"
          ],
          [
           "1994-07-10T00:00:00"
          ],
          [
           "1994-07-10T00:00:00"
          ],
          [
           "1994-07-10T00:00:00"
          ],
          [
           "1994-10-23T00:00:00"
          ],
          [
           "1994-10-09T00:00:00"
          ],
          [
           "1994-10-09T00:00:00"
          ],
          [
           "1994-10-08T00:00:00"
          ],
          [
           "1994-01-24T00:00:00"
          ],
          [
           "1994-01-24T00:00:00"
          ],
          [
           "1994-10-18T00:00:00"
          ],
          [
           "1994-09-26T00:00:00"
          ],
          [
           "1994-06-24T00:00:00"
          ],
          [
           "1994-06-22T00:00:00"
          ],
          [
           "1994-06-11T00:00:00"
          ],
          [
           "1994-10-01T00:00:00"
          ],
          [
           "1994-09-18T00:00:00"
          ],
          [
           "1994-04-06T00:00:00"
          ],
          [
           "1994-05-09T00:00:00"
          ],
          [
           "1994-05-18T00:00:00"
          ],
          [
           "1994-05-27T00:00:00"
          ],
          [
           "1994-09-12T00:00:00"
          ]
         ],
         "fillcolor": "rgba(255,255,255,0)",
         "hoveron": "points",
         "hovertemplate": "<b>%{hovertext}</b><br><br>year=1994<br>Mountain=%{x}<br>Nationality=%{y}<br>Date=%{customdata[0]}<extra></extra>",
         "hovertext": [
          "Juan Antonio \"Atxo\" Apellániz",
          "Steve Untch",
          "Dmitri Ibragim-Zade",
          "Aleksandr Parkhomenko",
          "Aleksei Kharaldin",
          "Iordanka Ivanova Dimitrova",
          "Sergei Zhvirblya",
          "Ekaterina Ivanova",
          "Lhakpa Gyalu Sherpa",
          "Juan Carlos Piedra",
          "Jean-Luc Beausire",
          "Galina Chekanova",
          "Robert Bähler",
          "Antonio Lopez",
          "Alexej Himer",
          "Bohuslav Bilek",
          "Zdenek Slachta",
          "Tod Gassen",
          "Prem Thapa",
          "Shih Fang-Fang 'Norman'",
          "Giuseppe Vigani",
          "Mike Rheinberger",
          "Mingma Norbu"
         ],
         "legendgroup": "1994",
         "line": {
          "color": "rgba(255,255,255,0)"
         },
         "marker": {
          "color": "#FECB52"
         },
         "name": "1994",
         "offsetgroup": "1994",
         "orientation": "v",
         "pointpos": 0,
         "showlegend": true,
         "type": "box",
         "x": [
          "K2",
          "K2",
          "K2",
          "K2",
          "K2",
          "Kangchenjunga",
          "Kangchenjunga",
          "Kangchenjunga",
          "Cho Oyu",
          "Cho Oyu",
          "Cho Oyu",
          "Dhaulagiri I",
          "Dhaulagiri I",
          "Nanga Parbat",
          "Broad Peak",
          "Broad Peak",
          "Shishapangma",
          "Shishapangma",
          "Mount Everest",
          "Mount Everest",
          "Mount Everest",
          "Mount Everest",
          "Mount Everest"
         ],
         "x0": " ",
         "xaxis": "x",
         "y": [
          "Spain",
          "United States",
          "Ukraine",
          "Ukraine",
          "Ukraine",
          "Bulgaria",
          "Belarus",
          "Russia",
          "Nepal",
          "Switzerland",
          "Switzerland",
          "Ukraine",
          "Switzerland",
          "Spain",
          "Czech Republic",
          "Czech Republic",
          "Czech Republic",
          "United States",
          "Nepal",
          "Taiwan",
          "Italy",
          "Australia",
          "Nepal"
         ],
         "y0": " ",
         "yaxis": "y"
        },
        {
         "alignmentgroup": "True",
         "boxpoints": "all",
         "customdata": [
          [
           "1993-07-31T00:00:00"
          ],
          [
           "1993-07-30T00:00:00"
          ],
          [
           "1993-07-30T00:00:00"
          ],
          [
           "1993-07-07T00:00:00"
          ],
          [
           "1993-06-15T00:00:00"
          ],
          [
           "1993-10-06T00:00:00"
          ],
          [
           "1993-10-22T00:00:00"
          ],
          [
           "1993-10-21T00:00:00"
          ],
          [
           "1993-07-07T00:00:00"
          ],
          [
           "1993-05-30T00:00:00"
          ],
          [
           "1993-09-29T00:00:00"
          ],
          [
           "1993-01-15T00:00:00"
          ],
          [
           "1993-04-23T00:00:00"
          ],
          [
           "1993-04-23T00:00:00"
          ],
          [
           "1993-05-10T00:00:00"
          ],
          [
           "1993-05-16T00:00:00"
          ],
          [
           "1993-05-17T00:00:00"
          ],
          [
           "1993-10-05T00:00:00"
          ],
          [
           "1993-10-07T00:00:00"
          ]
         ],
         "fillcolor": "rgba(255,255,255,0)",
         "hoveron": "points",
         "hovertemplate": "<b>%{hovertext}</b><br><br>year=1993<br>Mountain=%{x}<br>Nationality=%{y}<br>Date=%{customdata[0]}<extra></extra>",
         "hovertext": [
          "Daniel Bidner",
          "Reinmar Joswig",
          "Peter Mezger",
          "Dan Culver",
          "Boštjan Kekec",
          "Gary Ball",
          "Sergei Jadrychnikov",
          "Igor Khmiliar",
          "Chun-moon Ahn",
          "Paolo Bernascone",
          "Bueoung-tae Park",
          "Ang Tshering",
          "Pasang Lhamu Sherpa",
          "Sonam Tshering",
          "Lobsang Tshering Bhutia",
          "Nam Won-woo",
          "A Jin-seob",
          "Karl Henize",
          "Antonio Miranda"
         ],
         "legendgroup": "1993",
         "line": {
          "color": "rgba(255,255,255,0)"
         },
         "marker": {
          "color": "#636efa"
         },
         "name": "1993",
         "offsetgroup": "1993",
         "orientation": "v",
         "pointpos": 0,
         "showlegend": true,
         "type": "box",
         "x": [
          "K2",
          "K2",
          "K2",
          "K2",
          "K2",
          "Dhaulagiri I",
          "Manaslu",
          "Manaslu",
          "Nanga Parbat",
          "Gasherbrum I",
          "Shishapangma",
          "Mount Everest",
          "Mount Everest",
          "Mount Everest",
          "Mount Everest",
          "Mount Everest",
          "Mount Everest",
          "Mount Everest",
          "Mount Everest"
         ],
         "x0": " ",
         "xaxis": "x",
         "y": [
          "Sweden",
          "Germany",
          "Germany",
          "Canada",
          "Slovenia",
          "New Zealand",
          "Russia",
          "Russia",
          "South Korea",
          "Italy",
          "South Korea",
          "Nepal",
          "Nepal",
          "Nepal",
          "Nepal",
          "South Korea",
          "South Korea",
          "United States",
          "Spain"
         ],
         "y0": " ",
         "yaxis": "y"
        },
        {
         "alignmentgroup": "True",
         "boxpoints": "all",
         "customdata": [
          [
           "1992-08-14T00:00:00"
          ],
          [
           "1992-05-13T00:00:00"
          ],
          [
           "1992-04-25T00:00:00"
          ],
          [
           "1992-04-25T00:00:00"
          ],
          [
           "1992-05-20T00:00:00"
          ],
          [
           "1992-05-11T00:00:00"
          ],
          [
           "1992-05-11T00:00:00"
          ],
          [
           "1992-05-02T00:00:00"
          ],
          [
           "1992-10-03T00:00:00"
          ],
          [
           "1992-10-02T00:00:00"
          ],
          [
           "1992-10-11T00:00:00"
          ],
          [
           "1992-05-02T00:00:00"
          ],
          [
           "1992-05-02T00:00:00"
          ],
          [
           "1992-05-11T00:00:00"
          ],
          [
           "1992-05-23T00:00:00"
          ],
          [
           "1992-05-23T00:00:00"
          ]
         ],
         "fillcolor": "rgba(255,255,255,0)",
         "hoveron": "points",
         "hovertemplate": "<b>%{hovertext}</b><br><br>year=1992<br>Mountain=%{x}<br>Nationality=%{y}<br>Date=%{customdata[0]}<extra></extra>",
         "hovertext": [
          "Adrián Benítez",
          "Wanda Rutkiewicz",
          "Ang Dorje Sherpa",
          "Lhakpa Nuru Sherpa",
          "Philippe Gerard Arnold Monnerat",
          "Sanda Dumitrescu-Isaila",
          "Taina Coliban",
          "Hubert Weinzierl",
          "Sven Vermeiren",
          "Sylwia Dmowska",
          "Pierre Béghin",
          "Deepak Kulkarni",
          "Raymond Jacob",
          "Subba Singh",
          "Sher Singh",
          "Manabu Hoshi"
         ],
         "legendgroup": "1992",
         "line": {
          "color": "rgba(255,255,255,0)"
         },
         "marker": {
          "color": "#EF553B"
         },
         "name": "1992",
         "offsetgroup": "1992",
         "orientation": "v",
         "pointpos": 0,
         "showlegend": true,
         "type": "box",
         "x": [
          "K2",
          "Kangchenjunga",
          "Kangchenjunga",
          "Kangchenjunga",
          "Cho Oyu",
          "Dhaulagiri I",
          "Dhaulagiri I",
          "Dhaulagiri I",
          "Manaslu",
          "Manaslu",
          "Annapurna I",
          "Mount Everest",
          "Mount Everest",
          "Mount Everest",
          "Mount Everest",
          "Mount Everest"
         ],
         "x0": " ",
         "xaxis": "x",
         "y": [
          "Mexico",
          "Poland",
          "Nepal",
          "Nepal",
          "Switzerland",
          "Romania",
          "Romania",
          "Germany",
          "Belgium",
          "Poland",
          "France",
          "India",
          "India",
          "Nepal",
          "India",
          "Japan"
         ],
         "y0": " ",
         "yaxis": "y"
        },
        {
         "alignmentgroup": "True",
         "boxpoints": "all",
         "customdata": [
          [
           "1989-07-28T00:00:00"
          ],
          [
           "1989-12-20T00:00:00"
          ],
          [
           "1989-12-20T00:00:00"
          ],
          [
           "1989-12-20T00:00:00"
          ],
          [
           "1989-10-24T00:00:00"
          ],
          [
           "1989-12-25T00:00:00"
          ],
          [
           "1989-12-25T00:00:00"
          ],
          [
           "1989-12-25T00:00:00"
          ],
          [
           "1989-12-25T00:00:00"
          ],
          [
           "1989-10-10T00:00:00"
          ],
          [
           "1989-09-25T00:00:00"
          ],
          [
           "1989-09-25T00:00:00"
          ],
          [
           "1989-05-07T00:00:00"
          ],
          [
           "1989-07-18T00:00:00"
          ],
          [
           "1989-06-23T00:00:00"
          ],
          [
           "1989-10-28T00:00:00"
          ],
          [
           "1989-10-28T00:00:00"
          ],
          [
           "1989-07-12T00:00:00"
          ],
          [
           "1989-07-13T00:00:00"
          ],
          [
           "1989-10-04T00:00:00"
          ],
          [
           "1989-05-10T00:00:00"
          ],
          [
           "1989-05-16T00:00:00"
          ],
          [
           "1989-05-27T00:00:00"
          ],
          [
           "1989-05-27T00:00:00"
          ],
          [
           "1989-05-27T00:00:00"
          ],
          [
           "1989-05-27T00:00:00"
          ],
          [
           "1989-05-28T00:00:00"
          ],
          [
           "1989-12-12T00:00:00"
          ]
         ],
         "fillcolor": "rgba(255,255,255,0)",
         "hoveron": "points",
         "hovertemplate": "<b>%{hovertext}</b><br><br>year=1989<br>Mountain=%{x}<br>Nationality=%{y}<br>Date=%{customdata[0]}<extra></extra>",
         "hovertext": [
          "Hans Bärnthaler",
          "Tchiring Chumbi Lama Sherpa",
          "Ang Dawa Sherpa",
          "Jin Kyo-sup",
          "Jerzy Kukuczka",
          "Ang Lhakpa Nuru Sherpa",
          "Scot McGrath",
          "Gregory Barber",
          "Wangchuk Nuru",
          "Francesc (Quico) Dalmases",
          "Sarki Kami",
          "Ajiwa",
          "Santiago Suarez",
          "Tetsuya Baba",
          "Kwang-ho Kim",
          "Milan Metkov",
          "Ognian Stoykov",
          "Dorje Tsindi",
          "Antton Ibarguren",
          "Luca Leonardi",
          "Dimitar Ilievski-Murato",
          "Phu Dorje",
          "Mirosław Dąsal",
          "Mirosław Gardzielewski",
          "Andrzej Heinrich",
          "Wacław Otręba",
          "Eugeniusz Chrobak",
          "Ang Pinjo"
         ],
         "legendgroup": "1989",
         "line": {
          "color": "rgba(255,255,255,0)"
         },
         "marker": {
          "color": "#00cc96"
         },
         "name": "1989",
         "offsetgroup": "1989",
         "orientation": "v",
         "pointpos": 0,
         "showlegend": true,
         "type": "box",
         "x": [
          "K2",
          "Kangchenjunga",
          "Kangchenjunga",
          "Kangchenjunga",
          "Lhotse",
          "Cho Oyu",
          "Dhaulagiri I",
          "Dhaulagiri I",
          "Dhaulagiri I",
          "Dhaulagiri I",
          "Dhaulagiri I",
          "Dhaulagiri I",
          "Manaslu",
          "Nanga Parbat",
          "Nanga Parbat",
          "Annapurna I",
          "Annapurna I",
          "Gasherbrum I",
          "Gasherbrum II",
          "Shishapangma",
          "Mount Everest",
          "Mount Everest",
          "Mount Everest",
          "Mount Everest",
          "Mount Everest",
          "Mount Everest",
          "Mount Everest",
          "Mount Everest"
         ],
         "x0": " ",
         "xaxis": "x",
         "y": [
          "Austria",
          "Nepal",
          "Nepal",
          "South Korea",
          "Poland",
          "Nepal",
          "United States",
          "United States",
          "Nepal",
          "Spain",
          "Nepal",
          "Nepal",
          "Spain",
          "Japan",
          "South Korea",
          "Bulgaria",
          "Bulgaria",
          "Nepal",
          "Spain",
          "Switzerland",
          "Yugoslavia",
          "Nepal",
          "Poland",
          "Poland",
          "Poland",
          "Poland",
          "Poland",
          "Nepal"
         ],
         "y0": " ",
         "yaxis": "y"
        },
        {
         "alignmentgroup": "True",
         "boxpoints": "all",
         "customdata": [
          [
           "1987-08-24T00:00:00"
          ],
          [
           "1987-05-31T00:00:00"
          ],
          [
           "1987-05-25T00:00:00"
          ],
          [
           "1987-05-25T00:00:00"
          ],
          [
           "1987-05-25T00:00:00"
          ],
          [
           "1987-09-27T00:00:00"
          ],
          [
           "1987-09-27T00:00:00"
          ],
          [
           "1987-09-27T00:00:00"
          ],
          [
           "1987-09-27T00:00:00"
          ],
          [
           "1987-09-15T00:00:00"
          ],
          [
           "1987-10-28T00:00:00"
          ],
          [
           "1987-12-20T00:00:00"
          ],
          [
           "1987-12-20T00:00:00"
          ],
          [
           "1987-05-24T00:00:00"
          ],
          [
           "1987-07-29T00:00:00"
          ],
          [
           "1987-07-29T00:00:00"
          ],
          [
           "1987-07-29T00:00:00"
          ],
          [
           "1987-07-29T00:00:00"
          ],
          [
           "1987-06-29T00:00:00"
          ],
          [
           "1987-01-30T00:00:00"
          ],
          [
           "1987-05-21T00:00:00"
          ],
          [
           "1987-09-02T00:00:00"
          ],
          [
           "1987-10-20T00:00:00"
          ]
         ],
         "fillcolor": "rgba(255,255,255,0)",
         "hoveron": "points",
         "hovertemplate": "<b>%{hovertext}</b><br><br>year=1987<br>Mountain=%{x}<br>Nationality=%{y}<br>Date=%{customdata[0]}<extra></extra>",
         "hovertext": [
          "Suzuki Akira",
          "Chander Singh",
          "Choten Tsering",
          "Phupu Bhotia",
          "Phu Dorjee Sherpa",
          "Antoni \"Toni\" Sors Ferrer",
          "Sergio Reinaldo Escalera Fernandez",
          "Francisco Porras Cerda",
          "Antonio Quiñones Tores",
          "Czesław Jakiel",
          "Ichigi Kudo",
          "Toshiyuki Kobayashi",
          "Yasuhira Saito",
          "Andres Ferrer",
          "Mohsin Ali",
          "Fakhar-ul-Islam",
          "Fayyaz Hussain",
          "Khalid Khan",
          "Jean-Pierre Hefti",
          "Tsuttin Dorje",
          "Roger Marshall",
          "Masao Yokoyama",
          "Mangal Singh"
         ],
         "legendgroup": "1987",
         "line": {
          "color": "rgba(255,255,255,0)"
         },
         "marker": {
          "color": "#ab63fa"
         },
         "name": "1987",
         "offsetgroup": "1987",
         "orientation": "v",
         "pointpos": 0,
         "showlegend": true,
         "type": "box",
         "x": [
          "K2",
          "Kangchenjunga",
          "Kangchenjunga",
          "Kangchenjunga",
          "Kangchenjunga",
          "Lhotse",
          "Lhotse",
          "Lhotse",
          "Lhotse",
          "Lhotse",
          "Manaslu",
          "Annapurna I",
          "Annapurna I",
          "Annapurna I",
          "Gasherbrum I",
          "Gasherbrum I",
          "Gasherbrum I",
          "Gasherbrum I",
          "Gasherbrum II",
          "Mount Everest",
          "Mount Everest",
          "Mount Everest",
          "Mount Everest"
         ],
         "x0": " ",
         "xaxis": "x",
         "y": [
          "Japan",
          "India",
          "India",
          "India",
          "India",
          "Spain",
          "Spain",
          "Spain",
          "Spain",
          "Poland",
          "Japan",
          "Japan",
          "Japan",
          "Spain",
          "Pakistan",
          "Pakistan",
          "Pakistan",
          "Pakistan",
          "Switzerland",
          "Nepal",
          "Canada",
          "Japan",
          "Nepal"
         ],
         "y0": " ",
         "yaxis": "y"
        },
        {
         "alignmentgroup": "True",
         "boxpoints": "all",
         "customdata": [
          [
           "1986-08-10T00:00:00"
          ],
          [
           "1986-08-10T00:00:00"
          ],
          [
           "1986-08-10T00:00:00"
          ],
          [
           "1986-08-10T00:00:00"
          ],
          [
           "1986-08-07T00:00:00"
          ],
          [
           "1986-08-04T00:00:00"
          ],
          [
           "1986-08-03T00:00:00"
          ],
          [
           "1986-07-16T00:00:00"
          ],
          [
           "1986-07-10T00:00:00"
          ],
          [
           "1986-06-24T00:00:00"
          ],
          [
           "1986-06-24T00:00:00"
          ],
          [
           "1986-06-21T00:00:00"
          ],
          [
           "1986-06-21T00:00:00"
          ],
          [
           "1986-01-11T00:00:00"
          ],
          [
           "1986-10-30T00:00:00"
          ],
          [
           "1986-09-25T00:00:00"
          ],
          [
           "1986-01-01T00:00:00"
          ],
          [
           "1986-10-23T00:00:00"
          ],
          [
           "1986-09-21T00:00:00"
          ],
          [
           "1986-05-04T00:00:00"
          ],
          [
           "1986-05-03T00:00:00"
          ],
          [
           "1986-09-23T00:00:00"
          ],
          [
           "1986-08-18T00:00:00"
          ],
          [
           "1986-05-31T00:00:00"
          ],
          [
           "1986-08-22T00:00:00"
          ],
          [
           "1986-07-12T00:00:00"
          ],
          [
           "1986-08-16T00:00:00"
          ],
          [
           "1986-09-28T00:00:00"
          ],
          [
           "1986-10-04T00:00:00"
          ],
          [
           "1986-10-17T00:00:00"
          ]
         ],
         "fillcolor": "rgba(255,255,255,0)",
         "hoveron": "points",
         "hovertemplate": "<b>%{hovertext}</b><br><br>year=1986<br>Mountain=%{x}<br>Nationality=%{y}<br>Date=%{customdata[0]}<extra></extra>",
         "hovertext": [
          "Dobrosława Miodowicz-Wolf",
          "Alfred Imitzer",
          "Hannes Wieser",
          "Alan Rouse",
          "Julie Tullis",
          "Mohammad Ali",
          "Wojciech Wróż [pl]",
          "Renato Casarotto",
          "Tadeusz Piotrowski",
          "Maurice Barrard",
          "Liliane Barrard",
          "John Smolich",
          "Alan Pennington",
          "Andrzej \"Leszek\" Czok",
          "Pedro Alonso Lopez",
          "Marcel Rüedi",
          "Kancha Gurung",
          "Pierre-Alain Steiner",
          "Franz Mülleder",
          "Dieter Oberbichler",
          "Wilhelm Klaiber",
          "Benoit Grison",
          "Andreas Bührer",
          "Muhammad Ali Ghulam",
          "Liam Scott Elliott",
          "Carlos Rabago",
          "Víctor Hugo Trujillo",
          "Simon Burkhardt",
          "Gyalu",
          "Dawa Norbu"
         ],
         "legendgroup": "1986",
         "line": {
          "color": "rgba(255,255,255,0)"
         },
         "marker": {
          "color": "#FFA15A"
         },
         "name": "1986",
         "offsetgroup": "1986",
         "orientation": "v",
         "pointpos": 0,
         "showlegend": true,
         "type": "box",
         "x": [
          "K2",
          "K2",
          "K2",
          "K2",
          "K2",
          "K2",
          "K2",
          "K2",
          "K2",
          "K2",
          "K2",
          "K2",
          "K2",
          "Kangchenjunga",
          "Lhotse",
          "Makalu",
          "Makalu",
          "Cho Oyu",
          "Dhaulagiri I",
          "Manaslu",
          "Manaslu",
          "Annapurna I",
          "Gasherbrum I",
          "Gasherbrum I",
          "Broad Peak",
          "Gasherbrum II",
          "Mount Everest",
          "Mount Everest",
          "Mount Everest",
          "Mount Everest"
         ],
         "x0": " ",
         "xaxis": "x",
         "y": [
          "Poland",
          "Austria",
          "Austria",
          "United Kingdom",
          "United Kingdom",
          "Pakistan",
          "Poland",
          "Italy",
          "Poland",
          "France",
          "France",
          "United States",
          "United States",
          "Poland",
          "Spain",
          "Switzerland",
          "Nepal",
          "Switzerland",
          "Austria",
          "Austria",
          "West Germany",
          "France",
          "Switzerland",
          "Pakistan",
          "United Kingdom",
          "Spain",
          "Chile",
          "Switzerland",
          "Nepal",
          "Nepal"
         ],
         "y0": " ",
         "yaxis": "y"
        },
        {
         "alignmentgroup": "True",
         "boxpoints": "all",
         "customdata": [
          [
           "1985-07-07T00:00:00"
          ],
          [
           "1985-04-22T00:00:00"
          ],
          [
           "1985-01-15T00:00:00"
          ],
          [
           "1985-10-25T00:00:00"
          ],
          [
           "1985-10-25T00:00:00"
          ],
          [
           "1985-05-04T00:00:00"
          ],
          [
           "1985-07-10T00:00:00"
          ],
          [
           "1985-08-18T00:00:00"
          ],
          [
           "1985-05-16T00:00:00"
          ],
          [
           "1985-07-11T00:00:00"
          ],
          [
           "1985-06-24T00:00:00"
          ],
          [
           "1985-05-12T00:00:00"
          ],
          [
           "1985-09-19T00:00:00"
          ],
          [
           "1985-10-07T00:00:00"
          ],
          [
           "1985-10-11T00:00:00"
          ],
          [
           "1985-10-11T00:00:00"
          ],
          [
           "1985-10-11T00:00:00"
          ],
          [
           "1985-10-11T00:00:00"
          ]
         ],
         "fillcolor": "rgba(255,255,255,0)",
         "hoveron": "points",
         "hovertemplate": "<b>%{hovertext}</b><br><br>year=1985<br>Mountain=%{x}<br>Nationality=%{y}<br>Date=%{customdata[0]}<extra></extra>",
         "hovertext": [
          "Daniel Lacroix",
          "Borut Bergant",
          "Chris Howard Chandler",
          "Rafał Chołda",
          "Nima Norbu Sherpa",
          "Thomas Juen",
          "Piotr Kalmus",
          "Barbara Kozłowska",
          "Hans Frick",
          "Pierre Bouygues",
          "Toru Nakano",
          "Juanjo Navarro",
          "Shinichi Ishii",
          "Kiran Inder Kumar",
          "Jai Bahugana",
          "Ranjeet Singh Bakshi",
          "Vijay Pal Singh Negi",
          "M.U. Bhaskar Rao"
         ],
         "legendgroup": "1985",
         "line": {
          "color": "rgba(255,255,255,0)"
         },
         "marker": {
          "color": "#19d3f3"
         },
         "name": "1985",
         "offsetgroup": "1985",
         "orientation": "v",
         "pointpos": 0,
         "showlegend": true,
         "type": "box",
         "x": [
          "K2",
          "Kangchenjunga",
          "Kangchenjunga",
          "Lhotse",
          "Manaslu",
          "Manaslu",
          "Nanga Parbat",
          "Broad Peak",
          "Broad Peak",
          "Gasherbrum II",
          "Gasherbrum II",
          "Mount Everest",
          "Mount Everest",
          "Mount Everest",
          "Mount Everest",
          "Mount Everest",
          "Mount Everest",
          "Mount Everest"
         ],
         "x0": " ",
         "xaxis": "x",
         "y": [
          "France",
          "Yugoslavia",
          "United States",
          "Poland",
          "Nepal",
          "Austria",
          "Poland",
          "Poland",
          "Canada",
          "France",
          "Japan",
          "Spain",
          "Japan",
          "India",
          "India",
          "India",
          "India",
          "India"
         ],
         "y0": " ",
         "yaxis": "y"
        },
        {
         "alignmentgroup": "True",
         "boxpoints": "all",
         "customdata": [
          [
           "1982-08-15T00:00:00"
          ],
          [
           "1982-07-30T00:00:00"
          ],
          [
           "1982-09-26T00:00:00"
          ],
          [
           "1982-05-19T00:00:00"
          ],
          [
           "1982-12-18T00:00:00"
          ],
          [
           "1982-05-10T00:00:00"
          ],
          [
           "1982-05-10T00:00:00"
          ],
          [
           "1982-06-08T00:00:00"
          ],
          [
           "1982-06-12T00:00:00"
          ],
          [
           "1982-06-04T00:00:00"
          ],
          [
           "1982-04-28T00:00:00"
          ],
          [
           "1982-10-18T00:00:00"
          ],
          [
           "1982-10-18T00:00:00"
          ],
          [
           "1982-10-17T00:00:00"
          ],
          [
           "1982-05-12T00:00:00"
          ],
          [
           "1982-05-04T00:00:00"
          ],
          [
           "1982-07-01T00:00:00"
          ],
          [
           "1982-07-01T00:00:00"
          ],
          [
           "1982-07-02T00:00:00"
          ],
          [
           "1982-05-15T00:00:00"
          ],
          [
           "1982-05-17T00:00:00"
          ],
          [
           "1982-05-17T00:00:00"
          ],
          [
           "1982-08-31T00:00:00"
          ],
          [
           "1982-08-31T00:00:00"
          ],
          [
           "1982-08-31T00:00:00"
          ],
          [
           "1982-09-02T00:00:00"
          ],
          [
           "1982-09-27T00:00:00"
          ],
          [
           "1982-10-14T00:00:00"
          ],
          [
           "1982-12-28T00:00:00"
          ],
          [
           "1982-12-28T00:00:00"
          ]
         ],
         "fillcolor": "rgba(255,255,255,0)",
         "hoveron": "points",
         "hovertemplate": "<b>%{hovertext}</b><br><br>year=1982<br>Mountain=%{x}<br>Nationality=%{y}<br>Date=%{customdata[0]}<extra></extra>",
         "hovertext": [
          "Yanagisawa Yukihiro",
          "Halina Krüger-Syrokomska",
          "Tadeusz Szulc",
          "Reinhard Karl",
          "Takashi Sakuma",
          "Pere Aymerich",
          "Enric Font",
          "Peter Hiltbrand",
          "Ali Sheikh",
          "Peter Forrer",
          "Matloob Hassan Nuri",
          "Susumu Akimatsu",
          "Miko Ono",
          "Alex MacIntyre",
          "Rai Shanti",
          "Werner Bürkli",
          "Norbert Wolf",
          "Gerhard Gruner",
          "Glenn Brindeiro",
          "Marty Hoey",
          "Peter Boardman",
          "Joe Tasker",
          "Ang Chuldim",
          "Dawa Dorje",
          "Pasang Sona",
          "Blair Griffiths",
          "Lhakpa Tshering",
          "Nima Dorje",
          "Yasuo Kato",
          "Toshiaki Kobayashi"
         ],
         "legendgroup": "1982",
         "line": {
          "color": "rgba(255,255,255,0)"
         },
         "marker": {
          "color": "#FF6692"
         },
         "name": "1982",
         "offsetgroup": "1982",
         "orientation": "v",
         "pointpos": 0,
         "showlegend": true,
         "type": "box",
         "x": [
          "K2",
          "K2",
          "Makalu",
          "Cho Oyu",
          "Manaslu",
          "Manaslu",
          "Manaslu",
          "Nanga Parbat",
          "Nanga Parbat",
          "Nanga Parbat",
          "Nanga Parbat",
          "Annapurna I",
          "Annapurna I",
          "Annapurna I",
          "Annapurna I",
          "Annapurna I",
          "Gasherbrum II",
          "Gasherbrum II",
          "Gasherbrum II",
          "Mount Everest",
          "Mount Everest",
          "Mount Everest",
          "Mount Everest",
          "Mount Everest",
          "Mount Everest",
          "Mount Everest",
          "Mount Everest",
          "Mount Everest",
          "Mount Everest",
          "Mount Everest"
         ],
         "x0": " ",
         "xaxis": "x",
         "y": [
          "Japan",
          "Poland",
          "Poland",
          "West Germany",
          "Japan",
          "Spain",
          "Spain",
          "Switzerland",
          "Pakistan",
          "Switzerland",
          "Pakistan",
          "Japan",
          "Japan",
          "United Kingdom",
          "Nepal",
          "Switzerland",
          "Austria",
          "West Germany",
          "United States",
          "United States",
          "United Kingdom",
          "United Kingdom",
          "Nepal",
          "Nepal",
          "Nepal",
          "Canada",
          "Nepal",
          "Nepal",
          "Japan",
          "Japan"
         ],
         "y0": " ",
         "yaxis": "y"
        },
        {
         "alignmentgroup": "True",
         "boxpoints": "all",
         "customdata": [
          [
           "1979-08-19T00:00:00"
          ],
          [
           "1979-06-09T00:00:00"
          ],
          [
           "1979-05-14T00:00:00"
          ],
          [
           "1979-05-13T00:00:00"
          ],
          [
           "1979-05-13T00:00:00"
          ],
          [
           "1979-10-08T00:00:00"
          ],
          [
           "1979-09-19T00:00:00"
          ],
          [
           "1979-09-19T00:00:00"
          ],
          [
           "1979-09-19T00:00:00"
          ],
          [
           "1979-05-01T00:00:00"
          ],
          [
           "1979-05-16T00:00:00"
          ],
          [
           "1979-10-02T00:00:00"
          ],
          [
           "1979-10-02T00:00:00"
          ],
          [
           "1979-10-12T00:00:00"
          ],
          [
           "1979-10-12T00:00:00"
          ],
          [
           "1979-10-12T00:00:00"
          ]
         ],
         "fillcolor": "rgba(255,255,255,0)",
         "hoveron": "points",
         "hovertemplate": "<b>%{hovertext}</b><br><br>year=1979<br>Mountain=%{x}<br>Nationality=%{y}<br>Date=%{customdata[0]}<extra></extra>",
         "hovertext": [
          "Laskhar Khan",
          "Ali, Son of Kazim",
          "Sherpa Pemba",
          "Jean-Louis Sabarly",
          "Eric Poumailloux",
          "Edgardo Jose Porsellana",
          "Eric Roberts",
          "Maynard Cohick",
          "Gil Harder",
          "Yves Morin",
          "Ang Phu",
          "Ray Genet",
          "Hannelore Schmatz",
          "Wang Hong-bao",
          "Lou Lan [note 5]",
          "Nima Thaxi [note 6]"
         ],
         "legendgroup": "1979",
         "line": {
          "color": "rgba(255,255,255,0)"
         },
         "marker": {
          "color": "#B6E880"
         },
         "name": "1979",
         "offsetgroup": "1979",
         "orientation": "v",
         "pointpos": 0,
         "showlegend": true,
         "type": "box",
         "x": [
          "K2",
          "K2",
          "Dhaulagiri I",
          "Dhaulagiri I",
          "Dhaulagiri I",
          "Manaslu",
          "Annapurna I",
          "Annapurna I",
          "Annapurna I",
          "Annapurna I",
          "Mount Everest",
          "Mount Everest",
          "Mount Everest",
          "Mount Everest",
          "Mount Everest",
          "Mount Everest"
         ],
         "x0": " ",
         "xaxis": "x",
         "y": [
          "Pakistan",
          "Pakistan",
          "Nepal",
          "France",
          "France",
          "Argentina",
          "United Kingdom",
          "United States",
          "United States",
          "France",
          "Nepal",
          "United States",
          "West Germany",
          "China",
          "China",
          "China"
         ],
         "y0": " ",
         "yaxis": "y"
        },
        {
         "alignmentgroup": "True",
         "boxpoints": "all",
         "customdata": [
          [
           "1978-06-12T00:00:00"
          ],
          [
           "1978-10-06T00:00:00"
          ],
          [
           "1978-10-20T00:00:00"
          ],
          [
           "1978-09-23T00:00:00"
          ],
          [
           "1978-09-23T00:00:00"
          ],
          [
           "1978-09-23T00:00:00"
          ],
          [
           "1978-04-21T00:00:00"
          ],
          [
           "1978-10-17T00:00:00"
          ],
          [
           "1978-10-17T00:00:00"
          ],
          [
           "1978-04-18T00:00:00"
          ],
          [
           "1978-04-18T00:00:00"
          ]
         ],
         "fillcolor": "rgba(255,255,255,0)",
         "hoveron": "points",
         "hovertemplate": "<b>%{hovertext}</b><br><br>year=1978<br>Mountain=%{x}<br>Nationality=%{y}<br>Date=%{customdata[0]}<extra></extra>",
         "hovertext": [
          "Nick Estcourt",
          "Andrzej Młynarczyk",
          "Katsuyoshi Kogure",
          "Kiyoshi Kobayashi",
          "Yujiro Fukasawa",
          "Hiroshi Akuzawa",
          "Katsumi Naganuma",
          "Alison Chadwick-Onyszkiewicz",
          "Vera Watson",
          "Dawa Nuru",
          "Shi Ming-ji"
         ],
         "legendgroup": "1978",
         "line": {
          "color": "rgba(255,255,255,0)"
         },
         "marker": {
          "color": "#FF97FF"
         },
         "name": "1978",
         "offsetgroup": "1978",
         "orientation": "v",
         "pointpos": 0,
         "showlegend": true,
         "type": "box",
         "x": [
          "K2",
          "Makalu",
          "Dhaulagiri I",
          "Dhaulagiri I",
          "Dhaulagiri I",
          "Dhaulagiri I",
          "Dhaulagiri I",
          "Annapurna I",
          "Annapurna I",
          "Mount Everest",
          "Mount Everest"
         ],
         "x0": " ",
         "xaxis": "x",
         "y": [
          "United Kingdom",
          "Poland",
          "Japan",
          "Japan",
          "Japan",
          "Japan",
          "Japan",
          "United Kingdom",
          "United States",
          "Nepal",
          "China"
         ],
         "y0": " ",
         "yaxis": "y"
        },
        {
         "alignmentgroup": "True",
         "boxpoints": "all",
         "customdata": [
          [
           "1954-06-21T00:00:00"
          ],
          [
           "1954-09-26T00:00:00"
          ],
          [
           "1954-06-30T00:00:00"
          ]
         ],
         "fillcolor": "rgba(255,255,255,0)",
         "hoveron": "points",
         "hovertemplate": "<b>%{hovertext}</b><br><br>year=1954<br>Mountain=%{x}<br>Nationality=%{y}<br>Date=%{customdata[0]}<extra></extra>",
         "hovertext": [
          "Mario Puchoz",
          "Dilli Bahadur Verma",
          "Francisco (Paco) Ibanez"
         ],
         "legendgroup": "1954",
         "line": {
          "color": "rgba(255,255,255,0)"
         },
         "marker": {
          "color": "#FECB52"
         },
         "name": "1954",
         "offsetgroup": "1954",
         "orientation": "v",
         "pointpos": 0,
         "showlegend": true,
         "type": "box",
         "x": [
          "K2",
          "Makalu",
          "Dhaulagiri I"
         ],
         "x0": " ",
         "xaxis": "x",
         "y": [
          "Italy",
          "Nepal",
          "Argentina"
         ],
         "y0": " ",
         "yaxis": "y"
        },
        {
         "alignmentgroup": "True",
         "boxpoints": "all",
         "customdata": [
          [
           "1953-08-10T00:00:00"
          ]
         ],
         "fillcolor": "rgba(255,255,255,0)",
         "hoveron": "points",
         "hovertemplate": "<b>%{hovertext}</b><br><br>year=1953<br>Mountain=%{x}<br>Nationality=%{y}<br>Date=%{customdata[0]}<extra></extra>",
         "hovertext": [
          "Art Gilkey"
         ],
         "legendgroup": "1953",
         "line": {
          "color": "rgba(255,255,255,0)"
         },
         "marker": {
          "color": "#636efa"
         },
         "name": "1953",
         "offsetgroup": "1953",
         "orientation": "v",
         "pointpos": 0,
         "showlegend": true,
         "type": "box",
         "x": [
          "K2"
         ],
         "x0": " ",
         "xaxis": "x",
         "y": [
          "United States"
         ],
         "y0": " ",
         "yaxis": "y"
        },
        {
         "alignmentgroup": "True",
         "boxpoints": "all",
         "customdata": [
          [
           "1939-07-31T00:00:00"
          ],
          [
           "1939-07-31T00:00:00"
          ],
          [
           "1939-07-31T00:00:00"
          ],
          [
           "1939-07-30T00:00:00"
          ]
         ],
         "fillcolor": "rgba(255,255,255,0)",
         "hoveron": "points",
         "hovertemplate": "<b>%{hovertext}</b><br><br>year=1939<br>Mountain=%{x}<br>Nationality=%{y}<br>Date=%{customdata[0]}<extra></extra>",
         "hovertext": [
          "Pasang Kikuli",
          "Pasang Kitar",
          "Pintso",
          "Dudley Wolfe"
         ],
         "legendgroup": "1939",
         "line": {
          "color": "rgba(255,255,255,0)"
         },
         "marker": {
          "color": "#EF553B"
         },
         "name": "1939",
         "offsetgroup": "1939",
         "orientation": "v",
         "pointpos": 0,
         "showlegend": true,
         "type": "box",
         "x": [
          "K2",
          "K2",
          "K2",
          "K2"
         ],
         "x0": " ",
         "xaxis": "x",
         "y": [
          "Nepal",
          "Nepal",
          "Nepal",
          "United States"
         ],
         "y0": " ",
         "yaxis": "y"
        },
        {
         "alignmentgroup": "True",
         "boxpoints": "all",
         "customdata": [
          [
           "2019-05-16T00:00:00"
          ],
          [
           "2019-05-16T00:00:00"
          ],
          [
           "2019-05-15T00:00:00"
          ],
          [
           "2019-05-17T00:00:00"
          ],
          [
           "2019-05-24T00:00:00"
          ],
          [
           "2019-05-16T00:00:00"
          ],
          [
           "2019-05-16T00:00:00"
          ],
          [
           "2019-05-08T00:00:00"
          ],
          [
           "2019-04-29T00:00:00"
          ],
          [
           "2019-09-28T00:00:00"
          ],
          [
           "2019-02-24T00:00:00"
          ],
          [
           "2019-02-24T00:00:00"
          ],
          [
           "2019-05-03T00:00:00"
          ],
          [
           "2019-05-16T00:00:00"
          ],
          [
           "2019-05-17T00:00:00"
          ],
          [
           "2019-05-22T00:00:00"
          ],
          [
           "2019-05-23T00:00:00"
          ],
          [
           "2019-05-23T00:00:00"
          ],
          [
           "2019-05-23T00:00:00"
          ],
          [
           "2019-05-23T00:00:00"
          ],
          [
           "2019-05-24T00:00:00"
          ],
          [
           "2019-05-24T00:00:00"
          ],
          [
           "2019-05-25T00:00:00"
          ],
          [
           "2019-05-27T00:00:00"
          ]
         ],
         "fillcolor": "rgba(255,255,255,0)",
         "hoveron": "points",
         "hovertemplate": "<b>%{hovertext}</b><br><br>year=2019<br>Mountain=%{x}<br>Nationality=%{y}<br>Date=%{customdata[0]}<extra></extra>",
         "hovertext": [
          "Biplab Baidya",
          "Kuntal Kanrar",
          "Rodrigo Francisco Vivanco Figueroa",
          "Ivan Tomov",
          "Nima Tenji Sherpa",
          "Dipankar Ghosh",
          "Narayan Singh",
          "Richard Leopoldo Hidalgo Jara",
          "Phujung Bhote",
          "Rita Bladyko",
          "Daniele Nardi",
          "Tom Ballard",
          "Wui Kin Chin",
          "Séamus (Shay) Lawless",
          "Ravi Thakar",
          "Donald Cash",
          "Nihal Bagwan",
          "Ernst Landgraf",
          "Anjali S Kulkarni",
          "Kalpana Dash",
          "Kevin Hynes",
          "Dhruba Bista",
          "Robin Haynes Fisher",
          "Christopher Jon Kulish"
         ],
         "legendgroup": "2019",
         "line": {
          "color": "rgba(255,255,255,0)"
         },
         "marker": {
          "color": "#00cc96"
         },
         "name": "2019",
         "offsetgroup": "2019",
         "orientation": "v",
         "pointpos": 0,
         "showlegend": true,
         "type": "box",
         "x": [
          "Kangchenjunga",
          "Kangchenjunga",
          "Kangchenjunga",
          "Lhotse",
          "Makalu",
          "Makalu",
          "Makalu",
          "Makalu",
          "Cho Oyu",
          "Manaslu",
          "Nanga Parbat",
          "Nanga Parbat",
          "Annapurna I",
          "Mount Everest",
          "Mount Everest",
          "Mount Everest",
          "Mount Everest",
          "Mount Everest",
          "Mount Everest",
          "Mount Everest",
          "Mount Everest",
          "Mount Everest",
          "Mount Everest",
          "Mount Everest"
         ],
         "x0": " ",
         "xaxis": "x",
         "y": [
          "India",
          "India",
          "Chile",
          "Bulgaria",
          "Nepal",
          "India",
          "India",
          "Peru",
          "Nepal",
          "Poland",
          "Italy",
          "United Kingdom",
          "Malaysia",
          "Ireland",
          "India",
          "United States",
          "India",
          "Austria",
          "India",
          "India",
          "Ireland",
          "Nepal",
          "United Kingdom",
          "United States"
         ],
         "y0": " ",
         "yaxis": "y"
        },
        {
         "alignmentgroup": "True",
         "boxpoints": "all",
         "customdata": [
          [
           "2000-04-23T00:00:00"
          ],
          [
           "2000-09-17T00:00:00"
          ],
          [
           "2000-05-16T00:00:00"
          ],
          [
           "2000-10-11T00:00:00"
          ],
          [
           "2000-09-20T00:00:00"
          ],
          [
           "2000-09-20T00:00:00"
          ],
          [
           "2000-09-20T00:00:00"
          ],
          [
           "2000-05-04T00:00:00"
          ],
          [
           "2000-05-04T00:00:00"
          ],
          [
           "2000-10-07T00:00:00"
          ],
          [
           "2000-09-29T00:00:00"
          ],
          [
           "2000-07-28T00:00:00"
          ],
          [
           "2000-05-20T00:00:00"
          ],
          [
           "2000-05-21T00:00:00"
          ]
         ],
         "fillcolor": "rgba(255,255,255,0)",
         "hoveron": "points",
         "hovertemplate": "<b>%{hovertext}</b><br><br>year=2000<br>Mountain=%{x}<br>Nationality=%{y}<br>Date=%{customdata[0]}<extra></extra>",
         "hovertext": [
          "Ang Dawa Tamang",
          "Vladimir Bondarev",
          "Bernd Mehnert",
          "Pavle Milošević",
          "Pemba Gyalzen Sherpa",
          "Pasang Nuru Sherpa",
          "Pasang Nima Sherpa",
          "Pavel Bonadyssenko",
          "Noora Toivonen",
          "Gyalzen Chuldim",
          "Soo-ho Lee",
          "Felix Iñurrategui",
          "Jeppe Stoltz",
          "Yan Genghua"
         ],
         "legendgroup": "2000",
         "line": {
          "color": "rgba(255,255,255,0)"
         },
         "marker": {
          "color": "#ab63fa"
         },
         "name": "2000",
         "offsetgroup": "2000",
         "orientation": "v",
         "pointpos": 0,
         "showlegend": true,
         "type": "box",
         "x": [
          "Kangchenjunga",
          "Lhotse",
          "Makalu",
          "Cho Oyu",
          "Cho Oyu",
          "Cho Oyu",
          "Cho Oyu",
          "Cho Oyu",
          "Cho Oyu",
          "Dhaulagiri I",
          "Dhaulagiri I",
          "Gasherbrum II",
          "Mount Everest",
          "Mount Everest"
         ],
         "x0": " ",
         "xaxis": "x",
         "y": [
          "Nepal",
          "Russia",
          "Germany",
          "Yugoslavia",
          "Nepal",
          "Nepal",
          "Nepal",
          "Russia",
          "Finland",
          "Nepal",
          "South Korea",
          "Spain",
          "Denmark",
          "China"
         ],
         "y0": " ",
         "yaxis": "y"
        },
        {
         "alignmentgroup": "True",
         "boxpoints": "all",
         "customdata": [
          [
           "1998-05-16T00:00:00"
          ],
          [
           "1998-05-16T00:00:00"
          ],
          [
           "1998-09-26T00:00:00"
          ],
          [
           "1998-05-13T00:00:00"
          ],
          [
           "1998-04-30T00:00:00"
          ],
          [
           "1998-10-02T00:00:00"
          ],
          [
           "1998-05-11T00:00:00"
          ],
          [
           "1998-05-11T00:00:00"
          ],
          [
           "1998-05-01T00:00:00"
          ],
          [
           "1998-10-30T00:00:00"
          ],
          [
           "1998-10-26T00:00:00"
          ],
          [
           "1998-07-26T00:00:00"
          ],
          [
           "1998-04-26T00:00:00"
          ],
          [
           "1998-08-01T00:00:00"
          ],
          [
           "1998-08-01T00:00:00"
          ],
          [
           "1998-08-01T00:00:00"
          ],
          [
           "1998-08-01T00:00:00"
          ],
          [
           "1998-07-29T00:00:00"
          ],
          [
           "1998-07-29T00:00:00"
          ],
          [
           "1998-05-21T00:00:00"
          ],
          [
           "1998-05-24T00:00:00"
          ],
          [
           "1998-05-24T00:00:00"
          ],
          [
           "1998-05-25T00:00:00"
          ],
          [
           "1998-05-26T00:00:00"
          ],
          [
           "1998-07-24T00:00:00"
          ]
         ],
         "fillcolor": "rgba(255,255,255,0)",
         "hoveron": "points",
         "hovertemplate": "<b>%{hovertext}</b><br><br>year=1998<br>Mountain=%{x}<br>Nationality=%{y}<br>Date=%{customdata[0]}<extra></extra>",
         "hovertext": [
          "Shiina Atsushi",
          "Akasaka Kenzo",
          "Alexander \"Alex\" Jaggi",
          "Gerald Roesner",
          "Viktor Stepanov",
          "Charalampos (Babis) Tsoupras",
          "Chantal Mauduit",
          "Ang Tshering",
          "Nikos Papandreou",
          "Hristo Stantchev",
          "Lenin Granados",
          "Hideki Ohmiya",
          "Ang Tshering",
          "Yoshiumi Hayoshida",
          "Kasunori Kutama",
          "Kasutoshi Naito",
          "Takashi Watanabe",
          "Pascale Bessieres",
          "Eric Escoffier",
          "Andreino Pasini",
          "Sergei Arsentiev",
          "Francys Arsentiev",
          "Mark Jennings",
          "Roger Buick",
          "Shahid Abdul Khader"
         ],
         "legendgroup": "1998",
         "line": {
          "color": "rgba(255,255,255,0)"
         },
         "marker": {
          "color": "#FFA15A"
         },
         "name": "1998",
         "offsetgroup": "1998",
         "orientation": "v",
         "pointpos": 0,
         "showlegend": true,
         "type": "box",
         "x": [
          "Kangchenjunga",
          "Kangchenjunga",
          "Cho Oyu",
          "Cho Oyu",
          "Cho Oyu",
          "Dhaulagiri I",
          "Dhaulagiri I",
          "Dhaulagiri I",
          "Dhaulagiri I",
          "Manaslu",
          "Manaslu",
          "Nanga Parbat",
          "Annapurna I",
          "Gasherbrum I",
          "Gasherbrum I",
          "Gasherbrum I",
          "Gasherbrum I",
          "Broad Peak",
          "Broad Peak",
          "Shishapangma",
          "Mount Everest",
          "Mount Everest",
          "Mount Everest",
          "Mount Everest",
          "Mount Everest"
         ],
         "x0": " ",
         "xaxis": "x",
         "y": [
          "Japan",
          "Japan",
          "Switzerland",
          "Germany",
          "Russia",
          "Greece",
          "France",
          "Nepal",
          "Greece",
          "Bulgaria",
          "Colombia",
          "Japan",
          "Nepal",
          "Japan",
          "Japan",
          "Japan",
          "Japan",
          "France",
          "France",
          "Italy",
          "United States",
          "United States",
          "United Kingdom",
          "New Zealand",
          "India"
         ],
         "y0": " ",
         "yaxis": "y"
        },
        {
         "alignmentgroup": "True",
         "boxpoints": "all",
         "customdata": [
          [
           "1991-05-16T00:00:00"
          ],
          [
           "1991-05-03T00:00:00"
          ],
          [
           "1991-05-03T00:00:00"
          ],
          [
           "1991-10-08T00:00:00"
          ],
          [
           "1991-10-02T00:00:00"
          ],
          [
           "1991-10-21T00:00:00"
          ],
          [
           "1991-05-11T00:00:00"
          ],
          [
           "1991-05-10T00:00:00"
          ],
          [
           "1991-05-10T00:00:00"
          ],
          [
           "1991-10-20T00:00:00"
          ],
          [
           "1991-09-19T00:00:00"
          ],
          [
           "1991-09-19T00:00:00"
          ],
          [
           "1991-09-19T00:00:00"
          ],
          [
           "1991-09-19T00:00:00"
          ],
          [
           "1991-09-19T00:00:00"
          ],
          [
           "1991-09-19T00:00:00"
          ],
          [
           "1991-09-20T00:00:00"
          ],
          [
           "1991-09-20T00:00:00"
          ],
          [
           "1991-05-22T00:00:00"
          ],
          [
           "1991-05-22T00:00:00"
          ],
          [
           "1991-05-22T00:00:00"
          ],
          [
           "1991-05-22T00:00:00"
          ],
          [
           "1991-05-03T00:00:00"
          ],
          [
           "1991-05-27T00:00:00"
          ]
         ],
         "fillcolor": "rgba(255,255,255,0)",
         "hoveron": "points",
         "hovertemplate": "<b>%{hovertext}</b><br><br>year=1991<br>Mountain=%{x}<br>Nationality=%{y}<br>Date=%{customdata[0]}<extra></extra>",
         "hovertext": [
          "Pasang Sherpa",
          "Jože Rozman",
          "Marija Frantar",
          "Ishizaka Takumi",
          "Manuel \"Manu\" Badiola Otegi",
          "Yuri Grebeniuk",
          "Horst Wasmann",
          "Karl Großrubatscher",
          "Gottfried Mutschlechner",
          "Gabriel Denamur",
          "Seog-jee Lee",
          "Song-gu Lee",
          "Sange Dawa",
          "Tendi Lhakpa",
          "Jangbu Nurbu",
          "Tenzing",
          "Hidekazu Gomi",
          "Tetsuichi Miyashita",
          "Werner Braun",
          "Werner Meichsner",
          "Günther Semmler",
          "Karl-Heinz Thiele",
          "Rüdiger Lang",
          "Junichi Futagami"
         ],
         "legendgroup": "1991",
         "line": {
          "color": "rgba(255,255,255,0)"
         },
         "marker": {
          "color": "#19d3f3"
         },
         "name": "1991",
         "offsetgroup": "1991",
         "orientation": "v",
         "pointpos": 0,
         "showlegend": true,
         "type": "box",
         "x": [
          "Kangchenjunga",
          "Kangchenjunga",
          "Kangchenjunga",
          "Makalu",
          "Makalu",
          "Cho Oyu",
          "Cho Oyu",
          "Manaslu",
          "Manaslu",
          "Annapurna I",
          "Annapurna I",
          "Annapurna I",
          "Annapurna I",
          "Annapurna I",
          "Annapurna I",
          "Annapurna I",
          "Shishapangma",
          "Shishapangma",
          "Shishapangma",
          "Shishapangma",
          "Shishapangma",
          "Shishapangma",
          "Mount Everest",
          "Mount Everest"
         ],
         "x0": " ",
         "xaxis": "x",
         "y": [
          "India",
          "Yugoslavia",
          "Yugoslavia",
          "Japan",
          "Spain",
          "Soviet Union",
          "Germany",
          "Italy",
          "Italy",
          "Belgium",
          "South Korea",
          "South Korea",
          "Nepal",
          "Nepal",
          "Nepal",
          "Nepal",
          "Japan",
          "Japan",
          "Germany",
          "Germany",
          "Germany",
          "Germany",
          "Germany",
          "Japan"
         ],
         "y0": " ",
         "yaxis": "y"
        },
        {
         "alignmentgroup": "True",
         "boxpoints": "all",
         "customdata": [
          [
           "1988-05-17T00:00:00"
          ],
          [
           "1988-10-14T00:00:00"
          ],
          [
           "1988-09-29T00:00:00"
          ],
          [
           "1988-05-12T00:00:00"
          ],
          [
           "1988-10-18T00:00:00"
          ],
          [
           "1988-10-01T00:00:00"
          ],
          [
           "1988-09-29T00:00:00"
          ],
          [
           "1988-09-29T00:00:00"
          ],
          [
           "1988-06-25T00:00:00"
          ],
          [
           "1988-08-20T00:00:00"
          ],
          [
           "1988-07-09T00:00:00"
          ],
          [
           "1988-07-06T00:00:00"
          ],
          [
           "1988-06-25T00:00:00"
          ],
          [
           "1988-04-21T00:00:00"
          ],
          [
           "1988-09-20T00:00:00"
          ],
          [
           "1988-09-21T00:00:00"
          ],
          [
           "1988-10-13T00:00:00"
          ],
          [
           "1988-10-13T00:00:00"
          ],
          [
           "1988-10-17T00:00:00"
          ],
          [
           "1988-10-17T00:00:00"
          ],
          [
           "1988-10-17T00:00:00"
          ],
          [
           "1988-10-17T00:00:00"
          ],
          [
           "1988-12-23T00:00:00"
          ]
         ],
         "fillcolor": "rgba(255,255,255,0)",
         "hoveron": "points",
         "hovertemplate": "<b>%{hovertext}</b><br><br>year=1988<br>Mountain=%{x}<br>Nationality=%{y}<br>Date=%{customdata[0]}<extra></extra>",
         "hovertext": [
          "Sanjay Borole",
          "Ryszard Kołakowski",
          "Daniel Bovero",
          "Stefan Wörner",
          "Ramiro Navarrete",
          "Jiri Pelikan",
          "Akihiro Mori",
          "Ang Dawa",
          "Jorge Luis Brito",
          "Yong-il Jang",
          "Gary Silver",
          "Michel Basson",
          "Henri Albet",
          "Hidetaka Mizukoshi",
          "Michel Parmentier",
          "Narayan Shrestha",
          "Lhakpa Sonam",
          "Pasang Temba",
          "Dušan Becík",
          "Peter Božík",
          "Jaroslav Jaško",
          "Jozef Just",
          "Ang Lhakpa"
         ],
         "legendgroup": "1988",
         "line": {
          "color": "rgba(255,255,255,0)"
         },
         "marker": {
          "color": "#FF6692"
         },
         "name": "1988",
         "offsetgroup": "1988",
         "orientation": "v",
         "pointpos": 0,
         "showlegend": true,
         "type": "box",
         "x": [
          "Kangchenjunga",
          "Makalu",
          "Cho Oyu",
          "Cho Oyu",
          "Annapurna I",
          "Annapurna I",
          "Annapurna I",
          "Annapurna I",
          "Gasherbrum I",
          "Broad Peak",
          "Gasherbrum II",
          "Gasherbrum II",
          "Gasherbrum II",
          "Mount Everest",
          "Mount Everest",
          "Mount Everest",
          "Mount Everest",
          "Mount Everest",
          "Mount Everest",
          "Mount Everest",
          "Mount Everest",
          "Mount Everest",
          "Mount Everest"
         ],
         "x0": " ",
         "xaxis": "x",
         "y": [
          "India",
          "Poland",
          "France",
          "Switzerland",
          "Ecuador",
          "Czechoslovakia",
          "Japan",
          "Japan",
          "Mexico",
          "South Korea",
          "United States",
          "France",
          "France",
          "Japan",
          "France",
          "Nepal",
          "Nepal",
          "Nepal",
          "Czechoslovakia",
          "Czechoslovakia",
          "Czechoslovakia",
          "Czechoslovakia",
          "Nepal"
         ],
         "y0": " ",
         "yaxis": "y"
        },
        {
         "alignmentgroup": "True",
         "boxpoints": "all",
         "customdata": [
          [
           "1981-10-15T00:00:00"
          ],
          [
           "1981-10-25T00:00:00"
          ],
          [
           "1981-10-16T00:00:00"
          ],
          [
           "1981-10-16T00:00:00"
          ],
          [
           "1981-05-23T00:00:00"
          ],
          [
           "1981-10-31T00:00:00"
          ],
          [
           "1981-09-28T00:00:00"
          ],
          [
           "1981-09-28T00:00:00"
          ],
          [
           "1981-09-27T00:00:00"
          ],
          [
           "1981-09-27T00:00:00"
          ],
          [
           "1981-08-05T00:00:00"
          ],
          [
           "1981-01-12T00:00:00"
          ]
         ],
         "fillcolor": "rgba(255,255,255,0)",
         "hoveron": "points",
         "hovertemplate": "<b>%{hovertext}</b><br><br>year=1981<br>Mountain=%{x}<br>Nationality=%{y}<br>Date=%{customdata[0]}<extra></extra>",
         "hovertext": [
          "Jean-Jacques Ricouard",
          "Josef Fauchere",
          "Philippe Petten",
          "Pierre Favez",
          "Mario Serrano",
          "Yasuji Kato",
          "Andre Durieux",
          "Yves Favre",
          "Ang Nima",
          "Pemba Tshering",
          "Enric Pujol",
          "Noboru Takenaka"
         ],
         "legendgroup": "1981",
         "line": {
          "color": "rgba(255,255,255,0)"
         },
         "marker": {
          "color": "#B6E880"
         },
         "name": "1981",
         "offsetgroup": "1981",
         "orientation": "v",
         "pointpos": 0,
         "showlegend": true,
         "type": "box",
         "x": [
          "Kangchenjunga",
          "Lhotse",
          "Lhotse",
          "Lhotse",
          "Dhaulagiri I",
          "Annapurna I",
          "Annapurna I",
          "Annapurna I",
          "Annapurna I",
          "Annapurna I",
          "Broad Peak",
          "Mount Everest"
         ],
         "x0": " ",
         "xaxis": "x",
         "y": [
          "France",
          "Switzerland",
          "Switzerland",
          "Switzerland",
          "Argentina",
          "Japan",
          "France",
          "France",
          "Nepal",
          "Nepal",
          "Spain",
          "Japan"
         ],
         "y0": " ",
         "yaxis": "y"
        },
        {
         "alignmentgroup": "True",
         "boxpoints": "all",
         "customdata": [
          [
           "1980-05-04T00:00:00"
          ],
          [
           "1980-05-04T00:00:00"
          ],
          [
           "1980-05-17T00:00:00"
          ],
          [
           "1980-04-28T00:00:00"
          ],
          [
           "1980-10-07T00:00:00"
          ],
          [
           "1980-05-02T00:00:00"
          ],
          [
           "1980-09-06T00:00:00"
          ],
          [
           "1980-09-22T00:00:00"
          ]
         ],
         "fillcolor": "rgba(255,255,255,0)",
         "hoveron": "points",
         "hovertemplate": "<b>%{hovertext}</b><br><br>year=1980<br>Mountain=%{x}<br>Nationality=%{y}<br>Date=%{customdata[0]}<extra></extra>",
         "hovertext": [
          "Alfonso Medina Rubio",
          "Sergio Hugo Saldaña Meneses",
          "Pasang Nima Sherpa",
          "Nicolas Jaeger",
          "Lynette R. Griffith",
          "Akira Ube",
          "Nawang Kersang",
          "Mario Piana"
         ],
         "legendgroup": "1980",
         "line": {
          "color": "rgba(255,255,255,0)"
         },
         "marker": {
          "color": "#FF97FF"
         },
         "name": "1980",
         "offsetgroup": "1980",
         "orientation": "v",
         "pointpos": 0,
         "showlegend": true,
         "type": "box",
         "x": [
          "Kangchenjunga",
          "Kangchenjunga",
          "Lhotse",
          "Lhotse",
          "Dhaulagiri I",
          "Mount Everest",
          "Mount Everest",
          "Mount Everest"
         ],
         "x0": " ",
         "xaxis": "x",
         "y": [
          "Mexico",
          "Mexico",
          "Nepal",
          "France",
          "Australia",
          "Japan",
          "Nepal",
          "Italy"
         ],
         "y0": " ",
         "yaxis": "y"
        },
        {
         "alignmentgroup": "True",
         "boxpoints": "all",
         "customdata": [
          [
           "1977-04-08T00:00:00"
          ],
          [
           "1977-05-12T00:00:00"
          ],
          [
           "1977-07-31T00:00:00"
          ],
          [
           "1977-07-31T00:00:00"
          ],
          [
           "1977-06-10T00:00:00"
          ]
         ],
         "fillcolor": "rgba(255,255,255,0)",
         "hoveron": "points",
         "hovertemplate": "<b>%{hovertext}</b><br><br>year=1977<br>Mountain=%{x}<br>Nationality=%{y}<br>Date=%{customdata[0]}<extra></extra>",
         "hovertext": [
          "Sukhvinder Singh",
          "Max Lutz",
          "Robert Broughton",
          "George Bogel",
          "Drago Bregar"
         ],
         "legendgroup": "1977",
         "line": {
          "color": "rgba(255,255,255,0)"
         },
         "marker": {
          "color": "#FECB52"
         },
         "name": "1977",
         "offsetgroup": "1977",
         "orientation": "v",
         "pointpos": 0,
         "showlegend": true,
         "type": "box",
         "x": [
          "Kangchenjunga",
          "Lhotse",
          "Nanga Parbat",
          "Nanga Parbat",
          "Gasherbrum I"
         ],
         "x0": " ",
         "xaxis": "x",
         "y": [
          "India",
          "West Germany",
          "United States",
          "United States",
          "Yugoslavia"
         ],
         "y0": " ",
         "yaxis": "y"
        },
        {
         "alignmentgroup": "True",
         "boxpoints": "all",
         "customdata": [
          [
           "1973-05-15T00:00:00"
          ],
          [
           "1973-05-21T00:00:00"
          ],
          [
           "1973-09-26T00:00:00"
          ],
          [
           "1973-09-26T00:00:00"
          ],
          [
           "1973-05-18T00:00:00"
          ],
          [
           "1973-05-18T00:00:00"
          ],
          [
           "1973-05-18T00:00:00"
          ],
          [
           "1973-05-18T00:00:00"
          ],
          [
           "1973-05-18T00:00:00"
          ],
          [
           "1973-10-12T00:00:00"
          ]
         ],
         "fillcolor": "rgba(255,255,255,0)",
         "hoveron": "points",
         "hovertemplate": "<b>%{hovertext}</b><br><br>year=1973<br>Mountain=%{x}<br>Nationality=%{y}<br>Date=%{customdata[0]}<extra></extra>",
         "hovertext": [
          "Matsuda Takao",
          "Jan Kounický",
          "Leo Cerruti",
          "Miller Rava",
          "Tadashi Ushigoe",
          "Sadatoshi Takahashi",
          "Masanori Hama",
          "Kazumi Katagiri",
          "Rinje",
          "Jangbu"
         ],
         "legendgroup": "1973",
         "line": {
          "color": "rgba(255,255,255,0)"
         },
         "marker": {
          "color": "#636efa"
         },
         "name": "1973",
         "offsetgroup": "1973",
         "orientation": "v",
         "pointpos": 0,
         "showlegend": true,
         "type": "box",
         "x": [
          "Kangchenjunga",
          "Makalu",
          "Annapurna I",
          "Annapurna I",
          "Annapurna I",
          "Annapurna I",
          "Annapurna I",
          "Annapurna I",
          "Annapurna I",
          "Mount Everest"
         ],
         "x0": " ",
         "xaxis": "x",
         "y": [
          "Japan",
          "Czechoslovakia",
          "Italy",
          "Italy",
          "Japan",
          "Japan",
          "Japan",
          "Japan",
          "Nepal",
          "Nepal"
         ],
         "y0": " ",
         "yaxis": "y"
        },
        {
         "alignmentgroup": "True",
         "boxpoints": "all",
         "customdata": [
          [
           "1955-05-26T00:00:00"
          ]
         ],
         "fillcolor": "rgba(255,255,255,0)",
         "hoveron": "points",
         "hovertemplate": "<b>%{hovertext}</b><br><br>year=1955<br>Mountain=%{x}<br>Nationality=%{y}<br>Date=%{customdata[0]}<extra></extra>",
         "hovertext": [
          "Pemi Dorje Sherpa"
         ],
         "legendgroup": "1955",
         "line": {
          "color": "rgba(255,255,255,0)"
         },
         "marker": {
          "color": "#EF553B"
         },
         "name": "1955",
         "offsetgroup": "1955",
         "orientation": "v",
         "pointpos": 0,
         "showlegend": true,
         "type": "box",
         "x": [
          "Kangchenjunga"
         ],
         "x0": " ",
         "xaxis": "x",
         "y": [
          "India"
         ],
         "y0": " ",
         "yaxis": "y"
        },
        {
         "alignmentgroup": "True",
         "boxpoints": "all",
         "customdata": [
          [
           "1931-08-09T00:00:00"
          ],
          [
           "1931-08-09T00:00:00"
          ],
          [
           "1931-08-01T00:00:00"
          ],
          [
           "1931-07-01T00:00:00"
          ]
         ],
         "fillcolor": "rgba(255,255,255,0)",
         "hoveron": "points",
         "hovertemplate": "<b>%{hovertext}</b><br><br>year=1931<br>Mountain=%{x}<br>Nationality=%{y}<br>Date=%{customdata[0]}<extra></extra>",
         "hovertext": [
          "Hermann \"Xaverl\" Schaller",
          "Pasang Sherpa",
          "Babu Lall",
          "Lobsang"
         ],
         "legendgroup": "1931",
         "line": {
          "color": "rgba(255,255,255,0)"
         },
         "marker": {
          "color": "#00cc96"
         },
         "name": "1931",
         "offsetgroup": "1931",
         "orientation": "v",
         "pointpos": 0,
         "showlegend": true,
         "type": "box",
         "x": [
          "Kangchenjunga",
          "Kangchenjunga",
          "Kangchenjunga",
          "Kangchenjunga"
         ],
         "x0": " ",
         "xaxis": "x",
         "y": [
          "Germany",
          "British Raj",
          "British Raj",
          "British Raj"
         ],
         "y0": " ",
         "yaxis": "y"
        },
        {
         "alignmentgroup": "True",
         "boxpoints": "all",
         "customdata": [
          [
           "1930-05-08T00:00:00"
          ]
         ],
         "fillcolor": "rgba(255,255,255,0)",
         "hoveron": "points",
         "hovertemplate": "<b>%{hovertext}</b><br><br>year=1930<br>Mountain=%{x}<br>Nationality=%{y}<br>Date=%{customdata[0]}<extra></extra>",
         "hovertext": [
          "Chettan Sherpa"
         ],
         "legendgroup": "1930",
         "line": {
          "color": "rgba(255,255,255,0)"
         },
         "marker": {
          "color": "#ab63fa"
         },
         "name": "1930",
         "offsetgroup": "1930",
         "orientation": "v",
         "pointpos": 0,
         "showlegend": true,
         "type": "box",
         "x": [
          "Kangchenjunga"
         ],
         "x0": " ",
         "xaxis": "x",
         "y": [
          "British Raj"
         ],
         "y0": " ",
         "yaxis": "y"
        },
        {
         "alignmentgroup": "True",
         "boxpoints": "all",
         "customdata": [
          [
           "1929-05-27T00:00:00"
          ]
         ],
         "fillcolor": "rgba(255,255,255,0)",
         "hoveron": "points",
         "hovertemplate": "<b>%{hovertext}</b><br><br>year=1929<br>Mountain=%{x}<br>Nationality=%{y}<br>Date=%{customdata[0]}<extra></extra>",
         "hovertext": [
          "Edgar Francis Farmer"
         ],
         "legendgroup": "1929",
         "line": {
          "color": "rgba(255,255,255,0)"
         },
         "marker": {
          "color": "#FFA15A"
         },
         "name": "1929",
         "offsetgroup": "1929",
         "orientation": "v",
         "pointpos": 0,
         "showlegend": true,
         "type": "box",
         "x": [
          "Kangchenjunga"
         ],
         "x0": " ",
         "xaxis": "x",
         "y": [
          "United States"
         ],
         "y0": " ",
         "yaxis": "y"
        },
        {
         "alignmentgroup": "True",
         "boxpoints": "all",
         "customdata": [
          [
           "1905-09-01T00:00:00"
          ],
          [
           "1905-09-01T00:00:00"
          ],
          [
           "1905-08-28T00:00:00"
          ]
         ],
         "fillcolor": "rgba(255,255,255,0)",
         "hoveron": "points",
         "hovertemplate": "<b>%{hovertext}</b><br><br>year=1905<br>Mountain=%{x}<br>Nationality=%{y}<br>Date=%{customdata[0]}<extra></extra>",
         "hovertext": [
          "Unknown",
          "Alexis A. Pache",
          "Unnamed porter"
         ],
         "legendgroup": "1905",
         "line": {
          "color": "rgba(255,255,255,0)"
         },
         "marker": {
          "color": "#19d3f3"
         },
         "name": "1905",
         "offsetgroup": "1905",
         "orientation": "v",
         "pointpos": 0,
         "showlegend": true,
         "type": "box",
         "x": [
          "Kangchenjunga",
          "Kangchenjunga",
          "Kangchenjunga"
         ],
         "x0": " ",
         "xaxis": "x",
         "y": [
          "British Raj",
          "Switzerland",
          "British Raj"
         ],
         "y0": " ",
         "yaxis": "y"
        },
        {
         "alignmentgroup": "True",
         "boxpoints": "all",
         "customdata": [
          [
           "2016-05-19T00:00:00"
          ],
          [
           "2016-05-10T00:00:00"
          ],
          [
           "2016-05-10T00:00:00"
          ],
          [
           "2016-05-19T00:00:00"
          ],
          [
           "2016-05-16T00:00:00"
          ],
          [
           "2016-10-26T00:00:00"
          ],
          [
           "2016-09-30T00:00:00"
          ],
          [
           "2016-04-24T00:00:00"
          ],
          [
           "2016-04-24T00:00:00"
          ],
          [
           "2016-05-11T00:00:00"
          ],
          [
           "2016-05-19T00:00:00"
          ],
          [
           "2016-05-21T00:00:00"
          ],
          [
           "2016-05-22T00:00:00"
          ],
          [
           "2016-05-22T00:00:00"
          ],
          [
           "2016-05-22T00:00:00"
          ],
          [
           "2016-05-22T00:00:00"
          ]
         ],
         "fillcolor": "rgba(255,255,255,0)",
         "hoveron": "points",
         "hovertemplate": "<b>%{hovertext}</b><br><br>year=2016<br>Mountain=%{x}<br>Nationality=%{y}<br>Date=%{customdata[0]}<extra></extra>",
         "hovertext": [
          "Ang Phurba Sherpa",
          "Lakpa Ongyal Sherpa",
          "Da Tenji Sherpa",
          "Rajib Bhattacharya",
          "Christiaan Johan Wilson",
          "Hirotaka Onodera",
          "Pemba Sherpa (Taplejung 8)",
          "Patrik Matiolli",
          "Jon Johnston",
          "Charles MacAdams",
          "Ang Phurba Sherpa",
          "Eric Arnold",
          "Marisa Elizabeth Strydom",
          "Subhash Pal",
          "Paresh Chandra Nath",
          "Goutam Ghosh"
         ],
         "legendgroup": "2016",
         "line": {
          "color": "rgba(255,255,255,0)"
         },
         "marker": {
          "color": "#FF6692"
         },
         "name": "2016",
         "offsetgroup": "2016",
         "orientation": "v",
         "pointpos": 0,
         "showlegend": true,
         "type": "box",
         "x": [
          "Lhotse",
          "Makalu",
          "Makalu",
          "Dhaulagiri I",
          "Dhaulagiri I",
          "Manaslu",
          "Shishapangma",
          "Shishapangma",
          "Shishapangma",
          "Mount Everest",
          "Mount Everest",
          "Mount Everest",
          "Mount Everest",
          "Mount Everest",
          "Mount Everest",
          "Mount Everest"
         ],
         "x0": " ",
         "xaxis": "x",
         "y": [
          "Nepal",
          "Nepal",
          "Nepal",
          "India",
          "Netherlands",
          "Japan",
          "Nepal",
          "Switzerland",
          "Australia",
          "Canada",
          "Nepal",
          "Netherlands",
          "Australia  South Africa",
          "India",
          "India",
          "India"
         ],
         "y0": " ",
         "yaxis": "y"
        },
        {
         "alignmentgroup": "True",
         "boxpoints": "all",
         "customdata": [
          [
           "2015-04-27T00:00:00"
          ],
          [
           "2015-04-25T00:00:00"
          ],
          [
           "2015-10-01T00:00:00"
          ],
          [
           "2015-03-24T00:00:00"
          ],
          [
           "2015-03-24T00:00:00"
          ],
          [
           "2015-07-01T00:00:00"
          ],
          [
           "2015-07-25T00:00:00"
          ],
          [
           "2015-04-25T00:00:00"
          ],
          [
           "2015-04-25T00:00:00"
          ],
          [
           "2015-04-25T00:00:00"
          ],
          [
           "2015-04-25T00:00:00"
          ],
          [
           "2015-04-25T00:00:00"
          ],
          [
           "2015-04-25T00:00:00"
          ],
          [
           "2015-04-25T00:00:00"
          ],
          [
           "2015-04-25T00:00:00"
          ],
          [
           "2015-04-25T00:00:00"
          ],
          [
           "2015-04-25T00:00:00"
          ],
          [
           "2015-04-25T00:00:00"
          ],
          [
           "2015-04-25T00:00:00"
          ],
          [
           "2015-04-25T00:00:00"
          ],
          [
           "2015-04-25T00:00:00"
          ],
          [
           "2015-04-25T00:00:00"
          ],
          [
           "2015-04-25T00:00:00"
          ],
          [
           "2015-05-01T00:00:00"
          ]
         ],
         "fillcolor": "rgba(255,255,255,0)",
         "hoveron": "points",
         "hovertemplate": "<b>%{hovertext}</b><br><br>year=2015<br>Mountain=%{x}<br>Nationality=%{y}<br>Date=%{customdata[0]}<extra></extra>",
         "hovertext": [
          "Yomagato Horoshi",
          "Ge Zhen-fang",
          "Zoltan Benedek",
          "Samuli Mansikka",
          "Pemba Sherpa",
          "Qamber Ali Jangjupa",
          "Aleksander Ostrowski",
          "Daniel Paul Fredinburg",
          "Marisa Eve Girawong",
          "Thomas Ely Taplin",
          "Pemba Sherpa",
          "Dawa Tsering Sherpa",
          "Maila (Milan) Rai",
          "Chhimi Dawa Sherpa",
          "Pema Yishi (Hissi) Sherpa",
          "Pasang Temba Sherpa",
          "Krishna Kumar Rai",
          "Tenzing (Tengien) Bhote",
          "Renu Fotedar",
          "Lhakpa Chhiring Sherpa",
          "Vinh B Truong",
          "Shiva Kumar Shrestha",
          "Unnamed",
          "Jangbu Sherpa"
         ],
         "legendgroup": "2015",
         "line": {
          "color": "rgba(255,255,255,0)"
         },
         "marker": {
          "color": "#B6E880"
         },
         "name": "2015",
         "offsetgroup": "2015",
         "orientation": "v",
         "pointpos": 0,
         "showlegend": true,
         "type": "box",
         "x": [
          "Lhotse",
          "Lhotse",
          "Manaslu",
          "Annapurna I",
          "Annapurna I",
          "Broad Peak",
          "Gasherbrum II",
          "Mount Everest",
          "Mount Everest",
          "Mount Everest",
          "Mount Everest",
          "Mount Everest",
          "Mount Everest",
          "Mount Everest",
          "Mount Everest",
          "Mount Everest",
          "Mount Everest",
          "Mount Everest",
          "Mount Everest",
          "Mount Everest",
          "Mount Everest",
          "Mount Everest",
          "Mount Everest",
          "Mount Everest"
         ],
         "x0": " ",
         "xaxis": "x",
         "y": [
          "Japan",
          "China",
          "Austria",
          "Finland",
          "Nepal",
          "Pakistan",
          "Poland",
          "United States",
          "United States",
          "United States",
          "Nepal",
          "Nepal",
          "Nepal",
          "Nepal",
          "Nepal",
          "Nepal",
          "Nepal",
          "Nepal",
          "Australia  India",
          "Nepal",
          "United States  Vietnam",
          "Nepal",
          null,
          "Nepal"
         ],
         "y0": " ",
         "yaxis": "y"
        },
        {
         "alignmentgroup": "True",
         "boxpoints": "all",
         "customdata": [
          [
           "1997-05-27T00:00:00"
          ],
          [
           "1997-10-12T00:00:00"
          ],
          [
           "1997-05-24T00:00:00"
          ],
          [
           "1997-05-21T00:00:00"
          ],
          [
           "1997-10-09T00:00:00"
          ],
          [
           "1997-10-08T00:00:00"
          ],
          [
           "1997-07-30T00:00:00"
          ],
          [
           "1997-12-25T00:00:00"
          ],
          [
           "1997-12-25T00:00:00"
          ],
          [
           "1997-03-23T00:00:00"
          ],
          [
           "1997-07-16T00:00:00"
          ],
          [
           "1997-07-16T00:00:00"
          ],
          [
           "1997-04-23T00:00:00"
          ],
          [
           "1997-05-06T00:00:00"
          ],
          [
           "1997-05-07T00:00:00"
          ],
          [
           "1997-05-07T00:00:00"
          ],
          [
           "1997-05-07T00:00:00"
          ],
          [
           "1997-05-07T00:00:00"
          ],
          [
           "1997-05-08T00:00:00"
          ],
          [
           "1997-09-08T00:00:00"
          ],
          [
           "1997-09-08T00:00:00"
          ]
         ],
         "fillcolor": "rgba(255,255,255,0)",
         "hoveron": "points",
         "hovertemplate": "<b>%{hovertext}</b><br><br>year=1997<br>Mountain=%{x}<br>Nationality=%{y}<br>Date=%{customdata[0]}<extra></extra>",
         "hovertext": [
          "Vladimir Bachkirov",
          "Per Lyhne",
          "Igor Bougatshevski",
          "Salavat Khabibulin",
          "Miroslav Rybansky",
          "Juraj Kardhordo",
          "Joan Colet",
          "Anatoli Boukreev",
          "Dmitri Sobolev",
          "Ngati",
          "Jeffrey Ian Bubb",
          "Fukuzo Yokotagawa",
          "Malcolm Duff",
          "Nima Rinzi",
          "Aleksandr Torochin",
          "Ivan Plotnikov",
          "Nikolai Chevtchenko",
          "Mingma",
          "Peter Andreas Kowalzik",
          "Tenzing Nuru",
          "Choi Byong-soo"
         ],
         "legendgroup": "1997",
         "line": {
          "color": "rgba(255,255,255,0)"
         },
         "marker": {
          "color": "#FF97FF"
         },
         "name": "1997",
         "offsetgroup": "1997",
         "orientation": "v",
         "pointpos": 0,
         "showlegend": true,
         "type": "box",
         "x": [
          "Lhotse",
          "Makalu",
          "Makalu",
          "Makalu",
          "Manaslu",
          "Manaslu",
          "Nanga Parbat",
          "Annapurna I",
          "Annapurna I",
          "Annapurna I",
          "Broad Peak",
          "Broad Peak",
          "Mount Everest",
          "Mount Everest",
          "Mount Everest",
          "Mount Everest",
          "Mount Everest",
          "Mount Everest",
          "Mount Everest",
          "Mount Everest",
          "Mount Everest"
         ],
         "x0": " ",
         "xaxis": "x",
         "y": [
          "Russia",
          "Denmark",
          "Russia",
          "Russia",
          "Slovakia",
          "Slovakia",
          "Spain",
          "Kazakhstan",
          "Kazakhstan",
          "Nepal",
          "United States",
          "Japan",
          "United Kingdom",
          "United Kingdom",
          "Russia",
          "Russia",
          "Russia",
          "Nepal",
          "Germany",
          "Nepal",
          "South Korea"
         ],
         "y0": " ",
         "yaxis": "y"
        },
        {
         "alignmentgroup": "True",
         "boxpoints": "all",
         "customdata": [
          [
           "1974-12-17T00:00:00"
          ],
          [
           "1974-05-05T00:00:00"
          ],
          [
           "1974-09-09T00:00:00"
          ],
          [
           "1974-09-09T00:00:00"
          ],
          [
           "1974-09-09T00:00:00"
          ],
          [
           "1974-09-09T00:00:00"
          ],
          [
           "1974-09-09T00:00:00"
          ],
          [
           "1974-09-09T00:00:00"
          ]
         ],
         "fillcolor": "rgba(255,255,255,0)",
         "hoveron": "points",
         "hovertemplate": "<b>%{hovertext}</b><br><br>year=1974<br>Mountain=%{x}<br>Nationality=%{y}<br>Date=%{customdata[0]}<extra></extra>",
         "hovertext": [
          "Stanislaw Latałło",
          "Teiko Suzuki",
          "Gérard Devouassoux",
          "Pemba Dorje",
          "Lhakpa",
          "Nawang Lutuk",
          "Nima Wangchu",
          "Sanu Wongal"
         ],
         "legendgroup": "1974",
         "line": {
          "color": "rgba(255,255,255,0)"
         },
         "marker": {
          "color": "#FECB52"
         },
         "name": "1974",
         "offsetgroup": "1974",
         "orientation": "v",
         "pointpos": 0,
         "showlegend": true,
         "type": "box",
         "x": [
          "Lhotse",
          "Manaslu",
          "Mount Everest",
          "Mount Everest",
          "Mount Everest",
          "Mount Everest",
          "Mount Everest",
          "Mount Everest"
         ],
         "x0": " ",
         "xaxis": "x",
         "y": [
          "Poland",
          "Japan",
          "France",
          "Nepal",
          "Nepal",
          "Nepal",
          "Nepal",
          "Nepal"
         ],
         "y0": " ",
         "yaxis": "y"
        },
        {
         "alignmentgroup": "True",
         "boxpoints": "all",
         "customdata": [
          [
           "2011-05-22T00:00:00"
          ],
          [
           "2011-09-26T00:00:00"
          ],
          [
           "2011-09-23T00:00:00"
          ],
          [
           "2011-05-22T00:00:00"
          ],
          [
           "2011-05-12T00:00:00"
          ],
          [
           "2011-05-12T00:00:00"
          ],
          [
           "2011-05-12T00:00:00"
          ],
          [
           "2011-04-29T00:00:00"
          ],
          [
           "2011-10-18T00:00:00"
          ],
          [
           "2011-10-18T00:00:00"
          ],
          [
           "2011-10-18T00:00:00"
          ],
          [
           "2011-07-25T00:00:00"
          ],
          [
           "2011-07-22T00:00:00"
          ],
          [
           "2011-05-01T00:00:00"
          ],
          [
           "2011-05-09T00:00:00"
          ],
          [
           "2011-05-12T00:00:00"
          ],
          [
           "2011-05-21T00:00:00"
          ],
          [
           "2011-09-15T00:00:00"
          ]
         ],
         "fillcolor": "rgba(255,255,255,0)",
         "hoveron": "points",
         "hovertemplate": "<b>%{hovertext}</b><br><br>year=2011<br>Mountain=%{x}<br>Nationality=%{y}<br>Date=%{customdata[0]}<extra></extra>",
         "hovertext": [
          "Joëlle Catherine Brupbacher",
          "Joerg Henry Manuel Henning",
          "Rostislav Krpec",
          "Ronald Naar",
          "Tashi Chhiring",
          "Bernard Jean Francois Milian",
          "Alain Peirre Marie Laurens",
          "Eisa Mir-Shekari",
          "Young-seok Park",
          "Dong-min Shin",
          "Ki-seok Kang",
          "Jeffrey Wai Hung Chung",
          "Leila Esfandyari",
          "Rick Hitch",
          "Shailendra Kumar Upadhyaya",
          "Takashi Ozaki",
          "John Delaney",
          "Hiroaki Kino"
         ],
         "legendgroup": "2011",
         "line": {
          "color": "rgba(255,255,255,0)"
         },
         "marker": {
          "color": "#636efa"
         },
         "name": "2011",
         "offsetgroup": "2011",
         "orientation": "v",
         "pointpos": 0,
         "showlegend": true,
         "type": "box",
         "x": [
          "Makalu",
          "Cho Oyu",
          "Cho Oyu",
          "Cho Oyu",
          "Manaslu",
          "Manaslu",
          "Manaslu",
          "Manaslu",
          "Annapurna I",
          "Annapurna I",
          "Annapurna I",
          "Broad Peak",
          "Gasherbrum II",
          "Mount Everest",
          "Mount Everest",
          "Mount Everest",
          "Mount Everest",
          "Mount Everest"
         ],
         "x0": " ",
         "xaxis": "x",
         "y": [
          "Switzerland",
          "Germany",
          "Czech Republic",
          "Netherlands",
          "Nepal",
          "France",
          "France",
          "Iran",
          "South Korea",
          "South Korea",
          "South Korea",
          "Hong Kong",
          "Iran",
          "United States",
          "Nepal",
          "Japan",
          "Ireland",
          "Japan"
         ],
         "y0": " ",
         "yaxis": "y"
        },
        {
         "alignmentgroup": "True",
         "boxpoints": "all",
         "customdata": [
          [
           "2005-05-15T00:00:00"
          ],
          [
           "2005-05-11T00:00:00"
          ],
          [
           "2005-05-18T00:00:00"
          ],
          [
           "2005-08-05T00:00:00"
          ],
          [
           "2005-10-03T00:00:00"
          ],
          [
           "2005-09-28T00:00:00"
          ],
          [
           "2005-04-28T00:00:00"
          ],
          [
           "2005-05-02T00:00:00"
          ],
          [
           "2005-05-21T00:00:00"
          ],
          [
           "2005-05-30T00:00:00"
          ],
          [
           "2005-06-04T00:00:00"
          ],
          [
           "2005-06-05T00:00:00"
          ]
         ],
         "fillcolor": "rgba(255,255,255,0)",
         "hoveron": "points",
         "hovertemplate": "<b>%{hovertext}</b><br><br>year=2005<br>Mountain=%{x}<br>Nationality=%{y}<br>Date=%{customdata[0]}<extra></extra>",
         "hovertext": [
          "Sumba Sherpa",
          "Lubos Stacho",
          "Christian Kuntner",
          "Dawa Nurbu II",
          "Stanislav Krylov",
          "Martin Oczko",
          "Sean Egan",
          "Michael Corey O'Brien[119]",
          "Marko Lihteneker",
          "Sirigereshiva Shankarappa Chaitanya",
          "Dieter Kramer",
          "Robert William Milne"
         ],
         "legendgroup": "2005",
         "line": {
          "color": "rgba(255,255,255,0)"
         },
         "marker": {
          "color": "#EF553B"
         },
         "name": "2005",
         "offsetgroup": "2005",
         "orientation": "v",
         "pointpos": 0,
         "showlegend": true,
         "type": "box",
         "x": [
          "Makalu",
          "Cho Oyu",
          "Annapurna I",
          "Gasherbrum I",
          "Shishapangma",
          "Shishapangma",
          "Mount Everest",
          "Mount Everest",
          "Mount Everest",
          "Mount Everest",
          "Mount Everest",
          "Mount Everest"
         ],
         "x0": " ",
         "xaxis": "x",
         "y": [
          "Nepal",
          "Slovakia",
          "Italy",
          "Nepal",
          "Russia",
          "Czech Republic",
          "Canada",
          "United States",
          "Slovenia",
          "India",
          "Germany",
          "United Kingdom"
         ],
         "y0": " ",
         "yaxis": "y"
        },
        {
         "alignmentgroup": "True",
         "boxpoints": "all",
         "customdata": [
          [
           "1984-09-13T00:00:00"
          ],
          [
           "1984-10-23T00:00:00"
          ],
          [
           "1984-12-08T00:00:00"
          ],
          [
           "1984-07-07T00:00:00"
          ],
          [
           "1984-07-07T00:00:00"
          ],
          [
           "1984-07-07T00:00:00"
          ],
          [
           "1984-07-07T00:00:00"
          ],
          [
           "1984-12-07T00:00:00"
          ],
          [
           "1984-12-07T00:00:00"
          ],
          [
           "1984-04-21T00:00:00"
          ],
          [
           "1984-04-21T00:00:00"
          ],
          [
           "1984-03-26T00:00:00"
          ],
          [
           "1984-04-03T00:00:00"
          ],
          [
           "1984-04-21T00:00:00"
          ],
          [
           "1984-10-09T00:00:00"
          ],
          [
           "1984-10-09T00:00:00"
          ],
          [
           "1984-10-16T00:00:00"
          ],
          [
           "1984-10-24T00:00:00"
          ],
          [
           "1984-10-24T00:00:00"
          ]
         ],
         "fillcolor": "rgba(255,255,255,0)",
         "hoveron": "points",
         "hovertemplate": "<b>%{hovertext}</b><br><br>year=1984<br>Mountain=%{x}<br>Nationality=%{y}<br>Date=%{customdata[0]}<extra></extra>",
         "hovertext": [
          "Ram Bahadur Shrestha",
          "Jan Simon",
          "Hiromi Kameda",
          "Fuji Tsunoda",
          "Shigeoh Hida",
          "Nobuyuki Imakyurei",
          "Takashi Kogure",
          "Pasang Norbu",
          "Keepa",
          "Philippe Dumas",
          "Patrick Taglianut",
          "Ang Rinji",
          "Tony Swierzy",
          "Hristo Ivanov Prodanov",
          "William (Fred) From",
          "Craig Nottle",
          "Jozef Psotka",
          "Ang Dorje",
          "Yogendra Bahadur Thapa"
         ],
         "legendgroup": "1984",
         "line": {
          "color": "rgba(255,255,255,0)"
         },
         "marker": {
          "color": "#00cc96"
         },
         "name": "1984",
         "offsetgroup": "1984",
         "orientation": "v",
         "pointpos": 0,
         "showlegend": true,
         "type": "box",
         "x": [
          "Makalu",
          "Dhaulagiri I",
          "Nanga Parbat",
          "Nanga Parbat",
          "Nanga Parbat",
          "Nanga Parbat",
          "Nanga Parbat",
          "Annapurna I",
          "Annapurna I",
          "Annapurna I",
          "Annapurna I",
          "Mount Everest",
          "Mount Everest",
          "Mount Everest",
          "Mount Everest",
          "Mount Everest",
          "Mount Everest",
          "Mount Everest",
          "Mount Everest"
         ],
         "x0": " ",
         "xaxis": "x",
         "y": [
          "Nepal",
          "Czechoslovakia",
          "Japan",
          "Japan",
          "Japan",
          "Japan",
          "Japan",
          "Nepal",
          "Nepal",
          "France",
          "France",
          "Nepal",
          "United Kingdom",
          "Bulgaria",
          "Australia",
          "Australia",
          "Czechoslovakia",
          "Nepal",
          "Nepal"
         ],
         "y0": " ",
         "yaxis": "y"
        },
        {
         "alignmentgroup": "True",
         "boxpoints": "all",
         "customdata": [
          [
           "1983-10-15T00:00:00"
          ],
          [
           "1983-10-03T00:00:00"
          ],
          [
           "1983-01-01T00:00:00"
          ],
          [
           "1983-12-11T00:00:00"
          ],
          [
           "1983-04-24T00:00:00"
          ],
          [
           "1983-04-24T00:00:00"
          ],
          [
           "1983-07-12T00:00:00"
          ],
          [
           "1983-07-12T00:00:00"
          ],
          [
           "1983-07-12T00:00:00"
          ],
          [
           "1983-06-17T00:00:00"
          ],
          [
           "1983-09-24T00:00:00"
          ],
          [
           "1983-09-24T00:00:00"
          ],
          [
           "1983-09-24T00:00:00"
          ],
          [
           "1983-06-29T00:00:00"
          ],
          [
           "1983-04-28T00:00:00"
          ],
          [
           "1983-10-08T00:00:00"
          ],
          [
           "1983-10-08T00:00:00"
          ],
          [
           "1983-10-09T00:00:00"
          ]
         ],
         "fillcolor": "rgba(255,255,255,0)",
         "hoveron": "points",
         "hovertemplate": "<b>%{hovertext}</b><br><br>year=1983<br>Mountain=%{x}<br>Nationality=%{y}<br>Date=%{customdata[0]}<extra></extra>",
         "hovertext": [
          "Mark Peter Moorhead",
          "Matthew William \"Bill\" Denz",
          "Unknown",
          "Stanisław Jaworski",
          "Ante Bućan",
          "Nejc Zaplotnik",
          "Nobuyoshi Yamada",
          "Yuichiro Takamori",
          "Satoshi Iida",
          "Kazuo Shimura",
          "Yang-kun Chung",
          "Magar Maila",
          "Rama Magar Tika",
          "Peter Thexton",
          "Fritz Luchsinger",
          "Hironobu Kamuro",
          "Pasang Temba",
          "Hiroshi Yoshino"
         ],
         "legendgroup": "1983",
         "line": {
          "color": "rgba(255,255,255,0)"
         },
         "marker": {
          "color": "#ab63fa"
         },
         "name": "1983",
         "offsetgroup": "1983",
         "orientation": "v",
         "pointpos": 0,
         "showlegend": true,
         "type": "box",
         "x": [
          "Makalu",
          "Makalu",
          "Makalu",
          "Manaslu",
          "Manaslu",
          "Manaslu",
          "Nanga Parbat",
          "Nanga Parbat",
          "Nanga Parbat",
          "Nanga Parbat",
          "Annapurna I",
          "Annapurna I",
          "Annapurna I",
          "Broad Peak",
          "Shishapangma",
          "Mount Everest",
          "Mount Everest",
          "Mount Everest"
         ],
         "x0": " ",
         "xaxis": "x",
         "y": [
          "Australia",
          "New Zealand",
          "Nepal",
          "Poland",
          "Yugoslavia",
          "Yugoslavia",
          "Japan",
          "Japan",
          "Japan",
          "Japan",
          "South Korea",
          "Nepal",
          "Nepal",
          "United Kingdom",
          "Switzerland",
          "Japan",
          "Nepal",
          "Japan"
         ],
         "y0": " ",
         "yaxis": "y"
        },
        {
         "alignmentgroup": "True",
         "boxpoints": "all",
         "customdata": [
          [
           "1976-05-24T00:00:00"
          ],
          [
           "1976-09-26T00:00:00"
          ],
          [
           "1976-06-01T00:00:00"
          ],
          [
           "1976-05-27T00:00:00"
          ],
          [
           "1976-05-27T00:00:00"
          ],
          [
           "1976-04-10T00:00:00"
          ]
         ],
         "fillcolor": "rgba(255,255,255,0)",
         "hoveron": "points",
         "hovertemplate": "<b>%{hovertext}</b><br><br>year=1976<br>Mountain=%{x}<br>Nationality=%{y}<br>Date=%{customdata[0]}<extra></extra>",
         "hovertext": [
          "Karel Schubert",
          "Sebastian (Wastl) Arnold",
          "Osamu Matsuura",
          "Yoshinori Hiramatsu",
          "Taketoshi Miyamoto",
          "Terry Thompson"
         ],
         "legendgroup": "1976",
         "line": {
          "color": "rgba(255,255,255,0)"
         },
         "marker": {
          "color": "#FFA15A"
         },
         "name": "1976",
         "offsetgroup": "1976",
         "orientation": "v",
         "pointpos": 0,
         "showlegend": true,
         "type": "box",
         "x": [
          "Makalu",
          "Nanga Parbat",
          "Gasherbrum II",
          "Gasherbrum II",
          "Gasherbrum II",
          "Mount Everest"
         ],
         "x0": " ",
         "xaxis": "x",
         "y": [
          "Czechoslovakia",
          "Austria",
          "Japan",
          "Japan",
          "Japan",
          "United Kingdom"
         ],
         "y0": " ",
         "yaxis": "y"
        },
        {
         "alignmentgroup": "True",
         "boxpoints": "all",
         "customdata": [
          [
           "1990-01-01T00:00:00"
          ],
          [
           "1990-10-31T00:00:00"
          ],
          [
           "1990-04-29T00:00:00"
          ],
          [
           "1990-09-07T00:00:00"
          ],
          [
           "1990-09-07T00:00:00"
          ],
          [
           "1990-09-07T00:00:00"
          ],
          [
           "1990-03-27T00:00:00"
          ],
          [
           "1990-03-27T00:00:00"
          ],
          [
           "1990-03-27T00:00:00"
          ],
          [
           "1990-08-18T00:00:00"
          ],
          [
           "1990-07-03T00:00:00"
          ],
          [
           "1990-08-19T00:00:00"
          ],
          [
           "1990-08-19T00:00:00"
          ],
          [
           "1990-07-24T00:00:00"
          ],
          [
           "1990-10-15T00:00:00"
          ],
          [
           "1990-09-14T00:00:00"
          ],
          [
           "1990-09-14T00:00:00"
          ],
          [
           "1990-09-14T00:00:00"
          ],
          [
           "1990-10-07T00:00:00"
          ]
         ],
         "fillcolor": "rgba(255,255,255,0)",
         "hoveron": "points",
         "hovertemplate": "<b>%{hovertext}</b><br><br>year=1990<br>Mountain=%{x}<br>Nationality=%{y}<br>Date=%{customdata[0]}<extra></extra>",
         "hovertext": [
          "Chandra Gurung",
          "Dainius Makauskas",
          "Wangel",
          "Murat Galiev",
          "Zinur Halitov",
          "Grigory Lunjakov",
          "Nima Wangchuk Sherpa",
          "Charles Schertz",
          "Nancy Jackson",
          "Osami Nakajima",
          "Chang-gi Park",
          "Josep Granyo",
          "Albert Ibanez",
          "Kurt Lyncke-Krüger",
          "Joan Martinez",
          "Rafael Gómez-Menor",
          "Ang Sona",
          "Badri Nath",
          "Ham Sang-hun"
         ],
         "legendgroup": "1990",
         "line": {
          "color": "rgba(255,255,255,0)"
         },
         "marker": {
          "color": "#19d3f3"
         },
         "name": "1990",
         "offsetgroup": "1990",
         "orientation": "v",
         "pointpos": 0,
         "showlegend": true,
         "type": "box",
         "x": [
          "Cho Oyu",
          "Dhaulagiri I",
          "Dhaulagiri I",
          "Manaslu",
          "Manaslu",
          "Manaslu",
          "Manaslu",
          "Manaslu",
          "Manaslu",
          "Nanga Parbat",
          "Nanga Parbat",
          "Gasherbrum I",
          "Gasherbrum I",
          "Broad Peak",
          "Shishapangma",
          "Mount Everest",
          "Mount Everest",
          "Mount Everest",
          "Mount Everest"
         ],
         "x0": " ",
         "xaxis": "x",
         "y": [
          "Nepal",
          "Lithuania",
          "Nepal",
          "Soviet Union",
          "Soviet Union",
          "Soviet Union",
          "Nepal",
          "United States",
          "United States",
          "Japan",
          "South Korea",
          "Spain",
          "Spain",
          "West Germany",
          "Spain",
          "Spain",
          "Nepal",
          "Nepal",
          "South Korea"
         ],
         "y0": " ",
         "yaxis": "y"
        },
        {
         "alignmentgroup": "True",
         "boxpoints": "all",
         "customdata": [
          [
           "1964-05-07T00:00:00"
          ],
          [
           "1964-05-04T00:00:00"
          ]
         ],
         "fillcolor": "rgba(255,255,255,0)",
         "hoveron": "points",
         "hovertemplate": "<b>%{hovertext}</b><br><br>year=1964<br>Mountain=%{x}<br>Nationality=%{y}<br>Date=%{customdata[0]}<extra></extra>",
         "hovertext": [
          "Alois Thurmayr",
          "Georg Huber"
         ],
         "legendgroup": "1964",
         "line": {
          "color": "rgba(255,255,255,0)"
         },
         "marker": {
          "color": "#FF6692"
         },
         "name": "1964",
         "offsetgroup": "1964",
         "orientation": "v",
         "pointpos": 0,
         "showlegend": true,
         "type": "box",
         "x": [
          "Cho Oyu",
          "Cho Oyu"
         ],
         "x0": " ",
         "xaxis": "x",
         "y": [
          "West Germany",
          "West Germany"
         ],
         "y0": " ",
         "yaxis": "y"
        },
        {
         "alignmentgroup": "True",
         "boxpoints": "all",
         "customdata": [
          [
           "1959-10-02T00:00:00"
          ],
          [
           "1959-10-02T00:00:00"
          ],
          [
           "1959-10-02T00:00:00"
          ],
          [
           "1959-10-02T00:00:00"
          ],
          [
           "1959-04-29T00:00:00"
          ]
         ],
         "fillcolor": "rgba(255,255,255,0)",
         "hoveron": "points",
         "hovertemplate": "<b>%{hovertext}</b><br><br>year=1959<br>Mountain=%{x}<br>Nationality=%{y}<br>Date=%{customdata[0]}<extra></extra>",
         "hovertext": [
          "Chhowang Sherpa",
          "Ang Norbu Sherpa",
          "Claudine van der Straten-Ponthoz",
          "Claude Kogan",
          "Heinrich Roiss"
         ],
         "legendgroup": "1959",
         "line": {
          "color": "rgba(255,255,255,0)"
         },
         "marker": {
          "color": "#B6E880"
         },
         "name": "1959",
         "offsetgroup": "1959",
         "orientation": "v",
         "pointpos": 0,
         "showlegend": true,
         "type": "box",
         "x": [
          "Cho Oyu",
          "Cho Oyu",
          "Cho Oyu",
          "Cho Oyu",
          "Dhaulagiri I"
         ],
         "x0": " ",
         "xaxis": "x",
         "y": [
          "Nepal",
          "Nepal",
          "Belgium",
          "France",
          "Austria"
         ],
         "y0": " ",
         "yaxis": "y"
        },
        {
         "alignmentgroup": "True",
         "boxpoints": "all",
         "customdata": [
          [
           "1958-04-28T00:00:00"
          ]
         ],
         "fillcolor": "rgba(255,255,255,0)",
         "hoveron": "points",
         "hovertemplate": "<b>%{hovertext}</b><br><br>year=1958<br>Mountain=%{x}<br>Nationality=%{y}<br>Date=%{customdata[0]}<extra></extra>",
         "hovertext": [
          "Narendra Dhar \"Nandu\" Jayal"
         ],
         "legendgroup": "1958",
         "line": {
          "color": "rgba(255,255,255,0)"
         },
         "marker": {
          "color": "#FF97FF"
         },
         "name": "1958",
         "offsetgroup": "1958",
         "orientation": "v",
         "pointpos": 0,
         "showlegend": true,
         "type": "box",
         "x": [
          "Cho Oyu"
         ],
         "x0": " ",
         "xaxis": "x",
         "y": [
          "India"
         ],
         "y0": " ",
         "yaxis": "y"
        },
        {
         "alignmentgroup": "True",
         "boxpoints": "all",
         "customdata": [
          [
           "2017-05-20T00:00:00"
          ],
          [
           "2017-09-25T00:00:00"
          ],
          [
           "2017-06-24T00:00:00"
          ],
          [
           "2017-06-24T00:00:00"
          ],
          [
           "2017-05-05T00:00:00"
          ],
          [
           "2017-05-20T00:00:00"
          ],
          [
           "2017-05-21T00:00:00"
          ],
          [
           "2017-05-21T00:00:00"
          ],
          [
           "2017-05-21T00:00:00"
          ]
         ],
         "fillcolor": "rgba(255,255,255,0)",
         "hoveron": "points",
         "hovertemplate": "<b>%{hovertext}</b><br><br>year=2017<br>Mountain=%{x}<br>Nationality=%{y}<br>Date=%{customdata[0]}<extra></extra>",
         "hovertext": [
          "Ang Ngima Sherpa",
          "Philip Harvey",
          "Alberto Zerain",
          "Mariano Galvan",
          "Min Bahadur Sherchan",
          "Roland Yearwood",
          "Vladimír Štrba",
          "Francesco Enrico Marchetti",
          "Ravi Kumar"
         ],
         "legendgroup": "2017",
         "line": {
          "color": "rgba(255,255,255,0)"
         },
         "marker": {
          "color": "#FECB52"
         },
         "name": "2017",
         "offsetgroup": "2017",
         "orientation": "v",
         "pointpos": 0,
         "showlegend": true,
         "type": "box",
         "x": [
          "Dhaulagiri I",
          "Manaslu",
          "Nanga Parbat",
          "Nanga Parbat",
          "Mount Everest",
          "Mount Everest",
          "Mount Everest",
          "Mount Everest",
          "Mount Everest"
         ],
         "x0": " ",
         "xaxis": "x",
         "y": [
          "Nepal",
          "United Kingdom",
          "Spain",
          "Argentina",
          "Nepal",
          "United States",
          "Slovakia",
          "Australia",
          "India"
         ],
         "y0": " ",
         "yaxis": "y"
        },
        {
         "alignmentgroup": "True",
         "boxpoints": "all",
         "customdata": [
          [
           "1975-03-26T00:00:00"
          ],
          [
           "1975-03-26T00:00:00"
          ],
          [
           "1975-03-26T00:00:00"
          ],
          [
           "1975-03-26T00:00:00"
          ],
          [
           "1975-03-26T00:00:00"
          ],
          [
           "1975-04-16T00:00:00"
          ],
          [
           "1975-07-29T00:00:00"
          ],
          [
           "1975-07-29T00:00:00"
          ],
          [
           "1975-07-28T00:00:00"
          ],
          [
           "1975-06-01T00:00:00"
          ],
          [
           "1975-05-04T00:00:00"
          ],
          [
           "1975-08-01T00:00:00"
          ],
          [
           "1975-09-26T00:00:00"
          ]
         ],
         "fillcolor": "rgba(255,255,255,0)",
         "hoveron": "points",
         "hovertemplate": "<b>%{hovertext}</b><br><br>year=1975<br>Mountain=%{x}<br>Nationality=%{y}<br>Date=%{customdata[0]}<extra></extra>",
         "hovertext": [
          "Yoshitada Numao",
          "Tetsu Imura",
          "Pasang Kami",
          "Dorje",
          "Dakiya",
          "Franz Tegischer",
          "Andrzej Sikorski",
          "Marek Kęsicki",
          "Bohdan Nowaczyk",
          "Bernard Villaret",
          "Wu Zhuong Yue [note 4]",
          "Mingma ; deaf-mute Sherpa porter",
          "Mick Burke"
         ],
         "legendgroup": "1975",
         "line": {
          "color": "rgba(255,255,255,0)"
         },
         "marker": {
          "color": "#636efa"
         },
         "name": "1975",
         "offsetgroup": "1975",
         "orientation": "v",
         "pointpos": 0,
         "showlegend": true,
         "type": "box",
         "x": [
          "Dhaulagiri I",
          "Dhaulagiri I",
          "Dhaulagiri I",
          "Dhaulagiri I",
          "Dhaulagiri I",
          "Annapurna I",
          "Broad Peak",
          "Broad Peak",
          "Broad Peak",
          "Gasherbrum II",
          "Mount Everest",
          "Mount Everest",
          "Mount Everest"
         ],
         "x0": " ",
         "xaxis": "x",
         "y": [
          "Japan",
          "Japan",
          "Nepal",
          "Nepal",
          "Nepal",
          "Austria",
          "Poland",
          "Poland",
          "Poland",
          "France",
          "China",
          "Nepal",
          "United Kingdom"
         ],
         "y0": " ",
         "yaxis": "y"
        },
        {
         "alignmentgroup": "True",
         "boxpoints": "all",
         "customdata": [
          [
           "1969-04-28T00:00:00"
          ],
          [
           "1969-04-28T00:00:00"
          ],
          [
           "1969-04-28T00:00:00"
          ],
          [
           "1969-04-28T00:00:00"
          ],
          [
           "1969-04-28T00:00:00"
          ],
          [
           "1969-04-28T00:00:00"
          ],
          [
           "1969-04-28T00:00:00"
          ],
          [
           "1969-10-18T00:00:00"
          ]
         ],
         "fillcolor": "rgba(255,255,255,0)",
         "hoveron": "points",
         "hovertemplate": "<b>%{hovertext}</b><br><br>year=1969<br>Mountain=%{x}<br>Nationality=%{y}<br>Date=%{customdata[0]}<extra></extra>",
         "hovertext": [
          "David Seidman",
          "Ross William",
          "Vincent Hoeman",
          "Paul Gerhard",
          "Boyd Everett",
          "Pemba Phutar",
          "Tenzing",
          "Phu Dorjee Sherpa"
         ],
         "legendgroup": "1969",
         "line": {
          "color": "rgba(255,255,255,0)"
         },
         "marker": {
          "color": "#EF553B"
         },
         "name": "1969",
         "offsetgroup": "1969",
         "orientation": "v",
         "pointpos": 0,
         "showlegend": true,
         "type": "box",
         "x": [
          "Dhaulagiri I",
          "Dhaulagiri I",
          "Dhaulagiri I",
          "Dhaulagiri I",
          "Dhaulagiri I",
          "Dhaulagiri I",
          "Dhaulagiri I",
          "Mount Everest"
         ],
         "x0": " ",
         "xaxis": "x",
         "y": [
          "United States",
          "United States",
          "United States",
          "United States",
          "United States",
          "Nepal",
          "Nepal",
          "Nepal"
         ],
         "y0": " ",
         "yaxis": "y"
        },
        {
         "alignmentgroup": "True",
         "boxpoints": "all",
         "customdata": [
          [
           "1956-05-26T00:00:00"
          ]
         ],
         "fillcolor": "rgba(255,255,255,0)",
         "hoveron": "points",
         "hovertemplate": "<b>%{hovertext}</b><br><br>year=1956<br>Mountain=%{x}<br>Nationality=%{y}<br>Date=%{customdata[0]}<extra></extra>",
         "hovertext": [
          "Bal Bahadur"
         ],
         "legendgroup": "1956",
         "line": {
          "color": "rgba(255,255,255,0)"
         },
         "marker": {
          "color": "#00cc96"
         },
         "name": "1956",
         "offsetgroup": "1956",
         "orientation": "v",
         "pointpos": 0,
         "showlegend": true,
         "type": "box",
         "x": [
          "Dhaulagiri I"
         ],
         "x0": " ",
         "xaxis": "x",
         "y": [
          "Nepal"
         ],
         "y0": " ",
         "yaxis": "y"
        },
        {
         "alignmentgroup": "True",
         "boxpoints": "all",
         "customdata": [
          [
           "1972-04-26T00:00:00"
          ],
          [
           "1972-04-25T00:00:00"
          ],
          [
           "1972-04-10T00:00:00"
          ],
          [
           "1972-04-10T00:00:00"
          ],
          [
           "1972-04-10T00:00:00"
          ],
          [
           "1972-04-10T00:00:00"
          ],
          [
           "1972-04-10T00:00:00"
          ],
          [
           "1972-04-10T00:00:00"
          ],
          [
           "1972-04-10T00:00:00"
          ],
          [
           "1972-04-10T00:00:00"
          ],
          [
           "1972-04-10T00:00:00"
          ],
          [
           "1972-04-10T00:00:00"
          ],
          [
           "1972-04-10T00:00:00"
          ],
          [
           "1972-04-10T00:00:00"
          ],
          [
           "1972-04-10T00:00:00"
          ],
          [
           "1972-04-10T00:00:00"
          ],
          [
           "1972-04-10T00:00:00"
          ],
          [
           "1972-11-16T00:00:00"
          ]
         ],
         "fillcolor": "rgba(255,255,255,0)",
         "hoveron": "points",
         "hovertemplate": "<b>%{hovertext}</b><br><br>year=1972<br>Mountain=%{x}<br>Nationality=%{y}<br>Date=%{customdata[0]}<extra></extra>",
         "hovertext": [
          "Andi Schlick",
          "Franz Jäger",
          "Wangel",
          "Rinsing Ongyal",
          "Phurba Tenzing",
          "Pemba Rinji (Nawang Chultim)",
          "Pasang Nima",
          "Gyalze",
          "Ang Tendi (Ang Dawa)",
          "Ang Rita",
          "Ang Mingma (b)",
          "Ang Mingma (a)",
          "Kazunari Yasuhisha",
          "Chang-hee Park",
          "Sae-keon Oh",
          "Joon-haeng Song",
          "Ho-sup Kim",
          "Tony Tighe"
         ],
         "legendgroup": "1972",
         "line": {
          "color": "rgba(255,255,255,0)"
         },
         "marker": {
          "color": "#ab63fa"
         },
         "name": "1972",
         "offsetgroup": "1972",
         "orientation": "v",
         "pointpos": 0,
         "showlegend": true,
         "type": "box",
         "x": [
          "Manaslu",
          "Manaslu",
          "Manaslu",
          "Manaslu",
          "Manaslu",
          "Manaslu",
          "Manaslu",
          "Manaslu",
          "Manaslu",
          "Manaslu",
          "Manaslu",
          "Manaslu",
          "Manaslu",
          "Manaslu",
          "Manaslu",
          "Manaslu",
          "Manaslu",
          "Mount Everest"
         ],
         "x0": " ",
         "xaxis": "x",
         "y": [
          "Austria",
          "Austria",
          "Nepal",
          "Nepal",
          "Nepal",
          "Nepal",
          "Nepal",
          "Nepal",
          "Nepal",
          "Nepal",
          "Nepal",
          "Nepal",
          "Japan",
          "South Korea",
          "South Korea",
          "South Korea",
          "South Korea",
          "Australia"
         ],
         "y0": " ",
         "yaxis": "y"
        },
        {
         "alignmentgroup": "True",
         "boxpoints": "all",
         "customdata": [
          [
           "1971-05-04T00:00:00"
          ],
          [
           "1971-07-08T00:00:00"
          ],
          [
           "1971-04-18T00:00:00"
          ]
         ],
         "fillcolor": "rgba(255,255,255,0)",
         "hoveron": "points",
         "hovertemplate": "<b>%{hovertext}</b><br><br>year=1971<br>Mountain=%{x}<br>Nationality=%{y}<br>Date=%{customdata[0]}<extra></extra>",
         "hovertext": [
          "Ki-sup Kim",
          "Näbi Mantas Hunza",
          "Harsh Vardhan"
         ],
         "legendgroup": "1971",
         "line": {
          "color": "rgba(255,255,255,0)"
         },
         "marker": {
          "color": "#FFA15A"
         },
         "name": "1971",
         "offsetgroup": "1971",
         "orientation": "v",
         "pointpos": 0,
         "showlegend": true,
         "type": "box",
         "x": [
          "Manaslu",
          "Nanga Parbat",
          "Mount Everest"
         ],
         "x0": " ",
         "xaxis": "x",
         "y": [
          "South Korea",
          "Pakistan",
          "India"
         ],
         "y0": " ",
         "yaxis": "y"
        },
        {
         "alignmentgroup": "True",
         "boxpoints": "all",
         "customdata": [
          [
           "1970-06-29T00:00:00"
          ],
          [
           "1970-05-30T00:00:00"
          ],
          [
           "1970-04-05T00:00:00"
          ],
          [
           "1970-04-05T00:00:00"
          ],
          [
           "1970-04-05T00:00:00"
          ],
          [
           "1970-04-05T00:00:00"
          ],
          [
           "1970-04-05T00:00:00"
          ],
          [
           "1970-04-09T00:00:00"
          ],
          [
           "1970-04-21T00:00:00"
          ]
         ],
         "fillcolor": "rgba(255,255,255,0)",
         "hoveron": "points",
         "hovertemplate": "<b>%{hovertext}</b><br><br>year=1970<br>Mountain=%{x}<br>Nationality=%{y}<br>Date=%{customdata[0]}<extra></extra>",
         "hovertext": [
          "Günther Messner",
          "Ian Clough",
          "Nima Dorje",
          "Kunga Norbu",
          "Mima Norbu",
          "Pasang",
          "Kami Tshering",
          "Kyak Tsering",
          "Kiyoshi Narita"
         ],
         "legendgroup": "1970",
         "line": {
          "color": "rgba(255,255,255,0)"
         },
         "marker": {
          "color": "#19d3f3"
         },
         "name": "1970",
         "offsetgroup": "1970",
         "orientation": "v",
         "pointpos": 0,
         "showlegend": true,
         "type": "box",
         "x": [
          "Nanga Parbat",
          "Annapurna I",
          "Mount Everest",
          "Mount Everest",
          "Mount Everest",
          "Mount Everest",
          "Mount Everest",
          "Mount Everest",
          "Mount Everest"
         ],
         "x0": " ",
         "xaxis": "x",
         "y": [
          "Italy",
          "United Kingdom",
          "Nepal",
          "Nepal",
          "Nepal",
          "Nepal",
          "Nepal",
          "Nepal",
          "Japan"
         ],
         "y0": " ",
         "yaxis": "y"
        },
        {
         "alignmentgroup": "True",
         "boxpoints": "all",
         "customdata": [
          [
           "1962-06-23T00:00:00"
          ],
          [
           "1962-04-28T00:00:00"
          ]
         ],
         "fillcolor": "rgba(255,255,255,0)",
         "hoveron": "points",
         "hovertemplate": "<b>%{hovertext}</b><br><br>year=1962<br>Mountain=%{x}<br>Nationality=%{y}<br>Date=%{customdata[0]}<extra></extra>",
         "hovertext": [
          "Siegfried (Sigi) Löw",
          "Nawang Tshering"
         ],
         "legendgroup": "1962",
         "line": {
          "color": "rgba(255,255,255,0)"
         },
         "marker": {
          "color": "#FF6692"
         },
         "name": "1962",
         "offsetgroup": "1962",
         "orientation": "v",
         "pointpos": 0,
         "showlegend": true,
         "type": "box",
         "x": [
          "Nanga Parbat",
          "Mount Everest"
         ],
         "x0": " ",
         "xaxis": "x",
         "y": [
          "West Germany",
          "Nepal"
         ],
         "y0": " ",
         "yaxis": "y"
        },
        {
         "alignmentgroup": "True",
         "boxpoints": "all",
         "customdata": [
          [
           "1950-12-04T00:00:00"
          ],
          [
           "1950-12-04T00:00:00"
          ]
         ],
         "fillcolor": "rgba(255,255,255,0)",
         "hoveron": "points",
         "hovertemplate": "<b>%{hovertext}</b><br><br>year=1950<br>Mountain=%{x}<br>Nationality=%{y}<br>Date=%{customdata[0]}<extra></extra>",
         "hovertext": [
          "John W. Thornley",
          "William H. Crace"
         ],
         "legendgroup": "1950",
         "line": {
          "color": "rgba(255,255,255,0)"
         },
         "marker": {
          "color": "#B6E880"
         },
         "name": "1950",
         "offsetgroup": "1950",
         "orientation": "v",
         "pointpos": 0,
         "showlegend": true,
         "type": "box",
         "x": [
          "Nanga Parbat",
          "Nanga Parbat"
         ],
         "x0": " ",
         "xaxis": "x",
         "y": [
          "United Kingdom",
          "United Kingdom"
         ],
         "y0": " ",
         "yaxis": "y"
        },
        {
         "alignmentgroup": "True",
         "boxpoints": "all",
         "customdata": [
          [
           "1937-06-15T00:00:00"
          ],
          [
           "1937-06-15T00:00:00"
          ],
          [
           "1937-06-15T00:00:00"
          ],
          [
           "1937-06-15T00:00:00"
          ],
          [
           "1937-06-15T00:00:00"
          ],
          [
           "1937-06-15T00:00:00"
          ],
          [
           "1937-06-15T00:00:00"
          ],
          [
           "1937-06-15T00:00:00"
          ],
          [
           "1937-06-15T00:00:00"
          ],
          [
           "1937-06-15T00:00:00"
          ],
          [
           "1937-06-15T00:00:00"
          ],
          [
           "1937-06-15T00:00:00"
          ],
          [
           "1937-06-15T00:00:00"
          ],
          [
           "1937-06-15T00:00:00"
          ],
          [
           "1937-06-15T00:00:00"
          ],
          [
           "1937-06-15T00:00:00"
          ]
         ],
         "fillcolor": "rgba(255,255,255,0)",
         "hoveron": "points",
         "hovertemplate": "<b>%{hovertext}</b><br><br>year=1937<br>Mountain=%{x}<br>Nationality=%{y}<br>Date=%{customdata[0]}<extra></extra>",
         "hovertext": [
          "Karl Wien",
          "Martin Pfeffer",
          "Peter Müllritter",
          "Günther Hepp",
          "Hans Hartmann",
          "Adolf Göttner",
          "Pert Fankhauser",
          "Tigmay",
          "Pasang Norbu",
          "Nima Tsering I",
          "Nima Tsering II",
          "Mingma Tsering",
          "Karmi",
          "Gyalgen Monjo",
          "Chong Karma",
          "Ang Tshering II"
         ],
         "legendgroup": "1937",
         "line": {
          "color": "rgba(255,255,255,0)"
         },
         "marker": {
          "color": "#FF97FF"
         },
         "name": "1937",
         "offsetgroup": "1937",
         "orientation": "v",
         "pointpos": 0,
         "showlegend": true,
         "type": "box",
         "x": [
          "Nanga Parbat",
          "Nanga Parbat",
          "Nanga Parbat",
          "Nanga Parbat",
          "Nanga Parbat",
          "Nanga Parbat",
          "Nanga Parbat",
          "Nanga Parbat",
          "Nanga Parbat",
          "Nanga Parbat",
          "Nanga Parbat",
          "Nanga Parbat",
          "Nanga Parbat",
          "Nanga Parbat",
          "Nanga Parbat",
          "Nanga Parbat"
         ],
         "x0": " ",
         "xaxis": "x",
         "y": [
          "Nazi Germany",
          "Nazi Germany",
          "Nazi Germany",
          "Nazi Germany",
          "Nazi Germany",
          "Nazi Germany",
          "Austria",
          "British Raj",
          "British Raj",
          "British Raj",
          "British Raj",
          "British Raj",
          "British Raj",
          "British Raj",
          "British Raj",
          "British Raj"
         ],
         "y0": " ",
         "yaxis": "y"
        },
        {
         "alignmentgroup": "True",
         "boxpoints": "all",
         "customdata": [
          [
           "1934-07-17T00:00:00"
          ],
          [
           "1934-07-17T00:00:00"
          ],
          [
           "1934-07-12T00:00:00"
          ],
          [
           "1934-07-10T00:00:00"
          ],
          [
           "1934-07-10T00:00:00"
          ],
          [
           "1934-07-10T00:00:00"
          ],
          [
           "1934-07-10T00:00:00"
          ],
          [
           "1934-07-09T00:00:00"
          ],
          [
           "1934-07-09T00:00:00"
          ],
          [
           "1934-06-08T00:00:00"
          ],
          [
           "1934-05-31T00:00:00"
          ]
         ],
         "fillcolor": "rgba(255,255,255,0)",
         "hoveron": "points",
         "hovertemplate": "<b>%{hovertext}</b><br><br>year=1934<br>Mountain=%{x}<br>Nationality=%{y}<br>Date=%{customdata[0]}<extra></extra>",
         "hovertext": [
          "Willy Merkl",
          "Sherpa Gyali",
          "Wilhelm Welzenbach",
          "Sherpa Dakshi",
          "Dorje Nima",
          "Nima Tashi",
          "Pinju Norbu",
          "Nima Nurbu",
          "Ulrich Wieland",
          "Alfred Drexel",
          "Maurice Wilson"
         ],
         "legendgroup": "1934",
         "line": {
          "color": "rgba(255,255,255,0)"
         },
         "marker": {
          "color": "#FECB52"
         },
         "name": "1934",
         "offsetgroup": "1934",
         "orientation": "v",
         "pointpos": 0,
         "showlegend": true,
         "type": "box",
         "x": [
          "Nanga Parbat",
          "Nanga Parbat",
          "Nanga Parbat",
          "Nanga Parbat",
          "Nanga Parbat",
          "Nanga Parbat",
          "Nanga Parbat",
          "Nanga Parbat",
          "Nanga Parbat",
          "Nanga Parbat",
          "Mount Everest"
         ],
         "x0": " ",
         "xaxis": "x",
         "y": [
          "Nazi Germany",
          "British Raj",
          "Nazi Germany",
          "British Raj",
          "British Raj",
          "British Raj",
          "British Raj",
          "British Raj",
          "Nazi Germany",
          "Nazi Germany",
          "United Kingdom"
         ],
         "y0": " ",
         "yaxis": "y"
        },
        {
         "alignmentgroup": "True",
         "boxpoints": "all",
         "customdata": [
          [
           "1895-08-24T00:00:00"
          ],
          [
           "1895-08-24T00:00:00"
          ],
          [
           "1895-08-24T00:00:00"
          ]
         ],
         "fillcolor": "rgba(255,255,255,0)",
         "hoveron": "points",
         "hovertemplate": "<b>%{hovertext}</b><br><br>year=1895<br>Mountain=%{x}<br>Nationality=%{y}<br>Date=%{customdata[0]}<extra></extra>",
         "hovertext": [
          "Albert F. Mummery",
          "Ragobir Thapa Ghurka",
          "Goman Singh Ghurka"
         ],
         "legendgroup": "1895",
         "line": {
          "color": "rgba(255,255,255,0)"
         },
         "marker": {
          "color": "#636efa"
         },
         "name": "1895",
         "offsetgroup": "1895",
         "orientation": "v",
         "pointpos": 0,
         "showlegend": true,
         "type": "box",
         "x": [
          "Nanga Parbat",
          "Nanga Parbat",
          "Nanga Parbat"
         ],
         "x0": " ",
         "xaxis": "x",
         "y": [
          "United Kingdom",
          "Nepal",
          "Nepal"
         ],
         "y0": " ",
         "yaxis": "y"
        },
        {
         "alignmentgroup": "True",
         "boxpoints": "all",
         "customdata": [
          [
           "1921-06-05T00:00:00"
          ],
          [
           "1921-06-05T00:00:00"
          ]
         ],
         "fillcolor": "rgba(255,255,255,0)",
         "hoveron": "points",
         "hovertemplate": "<b>%{hovertext}</b><br><br>year=1921<br>Mountain=%{x}<br>Nationality=%{y}<br>Date=%{customdata[0]}<extra></extra>",
         "hovertext": [
          "Alexander Mitchell Kellas",
          "Unknown porter"
         ],
         "legendgroup": "1921",
         "line": {
          "color": "rgba(255,255,255,0)"
         },
         "marker": {
          "color": "#EF553B"
         },
         "name": "1921",
         "offsetgroup": "1921",
         "orientation": "v",
         "pointpos": 0,
         "showlegend": true,
         "type": "box",
         "x": [
          "Mount Everest",
          "Mount Everest"
         ],
         "x0": " ",
         "xaxis": "x",
         "y": [
          "United Kingdom",
          null
         ],
         "y0": " ",
         "yaxis": "y"
        },
        {
         "alignmentgroup": "True",
         "boxpoints": "all",
         "customdata": [
          [
           "1922-06-07T00:00:00"
          ],
          [
           "1922-06-07T00:00:00"
          ],
          [
           "1922-06-07T00:00:00"
          ],
          [
           "1922-06-07T00:00:00"
          ],
          [
           "1922-06-07T00:00:00"
          ],
          [
           "1922-06-07T00:00:00"
          ],
          [
           "1922-06-07T00:00:00"
          ]
         ],
         "fillcolor": "rgba(255,255,255,0)",
         "hoveron": "points",
         "hovertemplate": "<b>%{hovertext}</b><br><br>year=1922<br>Mountain=%{x}<br>Nationality=%{y}<br>Date=%{customdata[0]}<extra></extra>",
         "hovertext": [
          "Dorje",
          "Lhakpa",
          "Norbu",
          "Pasang",
          "Pema",
          "Sange",
          "Temba"
         ],
         "legendgroup": "1922",
         "line": {
          "color": "rgba(255,255,255,0)"
         },
         "marker": {
          "color": "#00cc96"
         },
         "name": "1922",
         "offsetgroup": "1922",
         "orientation": "v",
         "pointpos": 0,
         "showlegend": true,
         "type": "box",
         "x": [
          "Mount Everest",
          "Mount Everest",
          "Mount Everest",
          "Mount Everest",
          "Mount Everest",
          "Mount Everest",
          "Mount Everest"
         ],
         "x0": " ",
         "xaxis": "x",
         "y": [
          "Nepal",
          "Nepal",
          "Nepal",
          "Nepal",
          "Nepal",
          "Nepal",
          "Nepal"
         ],
         "y0": " ",
         "yaxis": "y"
        },
        {
         "alignmentgroup": "True",
         "boxpoints": "all",
         "customdata": [
          [
           "1924-05-13T00:00:00"
          ],
          [
           "1924-05-17T00:00:00"
          ],
          [
           "1924-06-09T00:00:00"
          ],
          [
           "1924-06-09T00:00:00"
          ]
         ],
         "fillcolor": "rgba(255,255,255,0)",
         "hoveron": "points",
         "hovertemplate": "<b>%{hovertext}</b><br><br>year=1924<br>Mountain=%{x}<br>Nationality=%{y}<br>Date=%{customdata[0]}<extra></extra>",
         "hovertext": [
          "Man Bahadur",
          "Lance-Naik Shamsherpun",
          "Andrew Irvine",
          "George Mallory"
         ],
         "legendgroup": "1924",
         "line": {
          "color": "rgba(255,255,255,0)"
         },
         "marker": {
          "color": "#ab63fa"
         },
         "name": "1924",
         "offsetgroup": "1924",
         "orientation": "v",
         "pointpos": 0,
         "showlegend": true,
         "type": "box",
         "x": [
          "Mount Everest",
          "Mount Everest",
          "Mount Everest",
          "Mount Everest"
         ],
         "x0": " ",
         "xaxis": "x",
         "y": [
          "Nepal",
          "Nepal",
          "United Kingdom",
          "United Kingdom"
         ],
         "y0": " ",
         "yaxis": "y"
        },
        {
         "alignmentgroup": "True",
         "boxpoints": "all",
         "customdata": [
          [
           "1952-10-31T00:00:00"
          ]
         ],
         "fillcolor": "rgba(255,255,255,0)",
         "hoveron": "points",
         "hovertemplate": "<b>%{hovertext}</b><br><br>year=1952<br>Mountain=%{x}<br>Nationality=%{y}<br>Date=%{customdata[0]}<extra></extra>",
         "hovertext": [
          "Dorje Mingma"
         ],
         "legendgroup": "1952",
         "line": {
          "color": "rgba(255,255,255,0)"
         },
         "marker": {
          "color": "#FFA15A"
         },
         "name": "1952",
         "offsetgroup": "1952",
         "orientation": "v",
         "pointpos": 0,
         "showlegend": true,
         "type": "box",
         "x": [
          "Mount Everest"
         ],
         "x0": " ",
         "xaxis": "x",
         "y": [
          "Nepal"
         ],
         "y0": " ",
         "yaxis": "y"
        },
        {
         "alignmentgroup": "True",
         "boxpoints": "all",
         "customdata": [
          [
           "1960-04-11T00:00:00"
          ],
          [
           "1960-04-29T00:00:00"
          ]
         ],
         "fillcolor": "rgba(255,255,255,0)",
         "hoveron": "points",
         "hovertemplate": "<b>%{hovertext}</b><br><br>year=1960<br>Mountain=%{x}<br>Nationality=%{y}<br>Date=%{customdata[0]}<extra></extra>",
         "hovertext": [
          "Wang Ji",
          "Shao Shi-Ching [note 3]"
         ],
         "legendgroup": "1960",
         "line": {
          "color": "rgba(255,255,255,0)"
         },
         "marker": {
          "color": "#19d3f3"
         },
         "name": "1960",
         "offsetgroup": "1960",
         "orientation": "v",
         "pointpos": 0,
         "showlegend": true,
         "type": "box",
         "x": [
          "Mount Everest",
          "Mount Everest"
         ],
         "x0": " ",
         "xaxis": "x",
         "y": [
          "China",
          "China"
         ],
         "y0": " ",
         "yaxis": "y"
        },
        {
         "alignmentgroup": "True",
         "boxpoints": "all",
         "customdata": [
          [
           "1963-03-23T00:00:00"
          ]
         ],
         "fillcolor": "rgba(255,255,255,0)",
         "hoveron": "points",
         "hovertemplate": "<b>%{hovertext}</b><br><br>year=1963<br>Mountain=%{x}<br>Nationality=%{y}<br>Date=%{customdata[0]}<extra></extra>",
         "hovertext": [
          "Jake Breitenbach"
         ],
         "legendgroup": "1963",
         "line": {
          "color": "rgba(255,255,255,0)"
         },
         "marker": {
          "color": "#FF6692"
         },
         "name": "1963",
         "offsetgroup": "1963",
         "orientation": "v",
         "pointpos": 0,
         "showlegend": true,
         "type": "box",
         "x": [
          "Mount Everest"
         ],
         "x0": " ",
         "xaxis": "x",
         "y": [
          "United States"
         ],
         "y0": " ",
         "yaxis": "y"
        },
        {
         "alignmentgroup": "True",
         "boxpoints": "all",
         "customdata": [
          [
           "1966-05-01T00:00:00"
          ]
         ],
         "fillcolor": "rgba(255,255,255,0)",
         "hoveron": "points",
         "hovertemplate": "<b>%{hovertext}</b><br><br>year=1966<br>Mountain=%{x}<br>Nationality=%{y}<br>Date=%{customdata[0]}<extra></extra>",
         "hovertext": [
          "Ma Gao-shu"
         ],
         "legendgroup": "1966",
         "line": {
          "color": "rgba(255,255,255,0)"
         },
         "marker": {
          "color": "#B6E880"
         },
         "name": "1966",
         "offsetgroup": "1966",
         "orientation": "v",
         "pointpos": 0,
         "showlegend": true,
         "type": "box",
         "x": [
          "Mount Everest"
         ],
         "x0": " ",
         "xaxis": "x",
         "y": [
          "China"
         ],
         "y0": " ",
         "yaxis": "y"
        }
       ],
       "layout": {
        "boxmode": "overlay",
        "height": 1500,
        "legend": {
         "title": {
          "text": "year"
         },
         "tracegroupgap": 0
        },
        "margin": {
         "t": 60
        },
        "template": {
         "data": {
          "bar": [
           {
            "error_x": {
             "color": "#2a3f5f"
            },
            "error_y": {
             "color": "#2a3f5f"
            },
            "marker": {
             "line": {
              "color": "#E5ECF6",
              "width": 0.5
             },
             "pattern": {
              "fillmode": "overlay",
              "size": 10,
              "solidity": 0.2
             }
            },
            "type": "bar"
           }
          ],
          "barpolar": [
           {
            "marker": {
             "line": {
              "color": "#E5ECF6",
              "width": 0.5
             },
             "pattern": {
              "fillmode": "overlay",
              "size": 10,
              "solidity": 0.2
             }
            },
            "type": "barpolar"
           }
          ],
          "carpet": [
           {
            "aaxis": {
             "endlinecolor": "#2a3f5f",
             "gridcolor": "white",
             "linecolor": "white",
             "minorgridcolor": "white",
             "startlinecolor": "#2a3f5f"
            },
            "baxis": {
             "endlinecolor": "#2a3f5f",
             "gridcolor": "white",
             "linecolor": "white",
             "minorgridcolor": "white",
             "startlinecolor": "#2a3f5f"
            },
            "type": "carpet"
           }
          ],
          "choropleth": [
           {
            "colorbar": {
             "outlinewidth": 0,
             "ticks": ""
            },
            "type": "choropleth"
           }
          ],
          "contour": [
           {
            "colorbar": {
             "outlinewidth": 0,
             "ticks": ""
            },
            "colorscale": [
             [
              0,
              "#0d0887"
             ],
             [
              0.1111111111111111,
              "#46039f"
             ],
             [
              0.2222222222222222,
              "#7201a8"
             ],
             [
              0.3333333333333333,
              "#9c179e"
             ],
             [
              0.4444444444444444,
              "#bd3786"
             ],
             [
              0.5555555555555556,
              "#d8576b"
             ],
             [
              0.6666666666666666,
              "#ed7953"
             ],
             [
              0.7777777777777778,
              "#fb9f3a"
             ],
             [
              0.8888888888888888,
              "#fdca26"
             ],
             [
              1,
              "#f0f921"
             ]
            ],
            "type": "contour"
           }
          ],
          "contourcarpet": [
           {
            "colorbar": {
             "outlinewidth": 0,
             "ticks": ""
            },
            "type": "contourcarpet"
           }
          ],
          "heatmap": [
           {
            "colorbar": {
             "outlinewidth": 0,
             "ticks": ""
            },
            "colorscale": [
             [
              0,
              "#0d0887"
             ],
             [
              0.1111111111111111,
              "#46039f"
             ],
             [
              0.2222222222222222,
              "#7201a8"
             ],
             [
              0.3333333333333333,
              "#9c179e"
             ],
             [
              0.4444444444444444,
              "#bd3786"
             ],
             [
              0.5555555555555556,
              "#d8576b"
             ],
             [
              0.6666666666666666,
              "#ed7953"
             ],
             [
              0.7777777777777778,
              "#fb9f3a"
             ],
             [
              0.8888888888888888,
              "#fdca26"
             ],
             [
              1,
              "#f0f921"
             ]
            ],
            "type": "heatmap"
           }
          ],
          "heatmapgl": [
           {
            "colorbar": {
             "outlinewidth": 0,
             "ticks": ""
            },
            "colorscale": [
             [
              0,
              "#0d0887"
             ],
             [
              0.1111111111111111,
              "#46039f"
             ],
             [
              0.2222222222222222,
              "#7201a8"
             ],
             [
              0.3333333333333333,
              "#9c179e"
             ],
             [
              0.4444444444444444,
              "#bd3786"
             ],
             [
              0.5555555555555556,
              "#d8576b"
             ],
             [
              0.6666666666666666,
              "#ed7953"
             ],
             [
              0.7777777777777778,
              "#fb9f3a"
             ],
             [
              0.8888888888888888,
              "#fdca26"
             ],
             [
              1,
              "#f0f921"
             ]
            ],
            "type": "heatmapgl"
           }
          ],
          "histogram": [
           {
            "marker": {
             "pattern": {
              "fillmode": "overlay",
              "size": 10,
              "solidity": 0.2
             }
            },
            "type": "histogram"
           }
          ],
          "histogram2d": [
           {
            "colorbar": {
             "outlinewidth": 0,
             "ticks": ""
            },
            "colorscale": [
             [
              0,
              "#0d0887"
             ],
             [
              0.1111111111111111,
              "#46039f"
             ],
             [
              0.2222222222222222,
              "#7201a8"
             ],
             [
              0.3333333333333333,
              "#9c179e"
             ],
             [
              0.4444444444444444,
              "#bd3786"
             ],
             [
              0.5555555555555556,
              "#d8576b"
             ],
             [
              0.6666666666666666,
              "#ed7953"
             ],
             [
              0.7777777777777778,
              "#fb9f3a"
             ],
             [
              0.8888888888888888,
              "#fdca26"
             ],
             [
              1,
              "#f0f921"
             ]
            ],
            "type": "histogram2d"
           }
          ],
          "histogram2dcontour": [
           {
            "colorbar": {
             "outlinewidth": 0,
             "ticks": ""
            },
            "colorscale": [
             [
              0,
              "#0d0887"
             ],
             [
              0.1111111111111111,
              "#46039f"
             ],
             [
              0.2222222222222222,
              "#7201a8"
             ],
             [
              0.3333333333333333,
              "#9c179e"
             ],
             [
              0.4444444444444444,
              "#bd3786"
             ],
             [
              0.5555555555555556,
              "#d8576b"
             ],
             [
              0.6666666666666666,
              "#ed7953"
             ],
             [
              0.7777777777777778,
              "#fb9f3a"
             ],
             [
              0.8888888888888888,
              "#fdca26"
             ],
             [
              1,
              "#f0f921"
             ]
            ],
            "type": "histogram2dcontour"
           }
          ],
          "mesh3d": [
           {
            "colorbar": {
             "outlinewidth": 0,
             "ticks": ""
            },
            "type": "mesh3d"
           }
          ],
          "parcoords": [
           {
            "line": {
             "colorbar": {
              "outlinewidth": 0,
              "ticks": ""
             }
            },
            "type": "parcoords"
           }
          ],
          "pie": [
           {
            "automargin": true,
            "type": "pie"
           }
          ],
          "scatter": [
           {
            "fillpattern": {
             "fillmode": "overlay",
             "size": 10,
             "solidity": 0.2
            },
            "type": "scatter"
           }
          ],
          "scatter3d": [
           {
            "line": {
             "colorbar": {
              "outlinewidth": 0,
              "ticks": ""
             }
            },
            "marker": {
             "colorbar": {
              "outlinewidth": 0,
              "ticks": ""
             }
            },
            "type": "scatter3d"
           }
          ],
          "scattercarpet": [
           {
            "marker": {
             "colorbar": {
              "outlinewidth": 0,
              "ticks": ""
             }
            },
            "type": "scattercarpet"
           }
          ],
          "scattergeo": [
           {
            "marker": {
             "colorbar": {
              "outlinewidth": 0,
              "ticks": ""
             }
            },
            "type": "scattergeo"
           }
          ],
          "scattergl": [
           {
            "marker": {
             "colorbar": {
              "outlinewidth": 0,
              "ticks": ""
             }
            },
            "type": "scattergl"
           }
          ],
          "scattermapbox": [
           {
            "marker": {
             "colorbar": {
              "outlinewidth": 0,
              "ticks": ""
             }
            },
            "type": "scattermapbox"
           }
          ],
          "scatterpolar": [
           {
            "marker": {
             "colorbar": {
              "outlinewidth": 0,
              "ticks": ""
             }
            },
            "type": "scatterpolar"
           }
          ],
          "scatterpolargl": [
           {
            "marker": {
             "colorbar": {
              "outlinewidth": 0,
              "ticks": ""
             }
            },
            "type": "scatterpolargl"
           }
          ],
          "scatterternary": [
           {
            "marker": {
             "colorbar": {
              "outlinewidth": 0,
              "ticks": ""
             }
            },
            "type": "scatterternary"
           }
          ],
          "surface": [
           {
            "colorbar": {
             "outlinewidth": 0,
             "ticks": ""
            },
            "colorscale": [
             [
              0,
              "#0d0887"
             ],
             [
              0.1111111111111111,
              "#46039f"
             ],
             [
              0.2222222222222222,
              "#7201a8"
             ],
             [
              0.3333333333333333,
              "#9c179e"
             ],
             [
              0.4444444444444444,
              "#bd3786"
             ],
             [
              0.5555555555555556,
              "#d8576b"
             ],
             [
              0.6666666666666666,
              "#ed7953"
             ],
             [
              0.7777777777777778,
              "#fb9f3a"
             ],
             [
              0.8888888888888888,
              "#fdca26"
             ],
             [
              1,
              "#f0f921"
             ]
            ],
            "type": "surface"
           }
          ],
          "table": [
           {
            "cells": {
             "fill": {
              "color": "#EBF0F8"
             },
             "line": {
              "color": "white"
             }
            },
            "header": {
             "fill": {
              "color": "#C8D4E3"
             },
             "line": {
              "color": "white"
             }
            },
            "type": "table"
           }
          ]
         },
         "layout": {
          "annotationdefaults": {
           "arrowcolor": "#2a3f5f",
           "arrowhead": 0,
           "arrowwidth": 1
          },
          "autotypenumbers": "strict",
          "coloraxis": {
           "colorbar": {
            "outlinewidth": 0,
            "ticks": ""
           }
          },
          "colorscale": {
           "diverging": [
            [
             0,
             "#8e0152"
            ],
            [
             0.1,
             "#c51b7d"
            ],
            [
             0.2,
             "#de77ae"
            ],
            [
             0.3,
             "#f1b6da"
            ],
            [
             0.4,
             "#fde0ef"
            ],
            [
             0.5,
             "#f7f7f7"
            ],
            [
             0.6,
             "#e6f5d0"
            ],
            [
             0.7,
             "#b8e186"
            ],
            [
             0.8,
             "#7fbc41"
            ],
            [
             0.9,
             "#4d9221"
            ],
            [
             1,
             "#276419"
            ]
           ],
           "sequential": [
            [
             0,
             "#0d0887"
            ],
            [
             0.1111111111111111,
             "#46039f"
            ],
            [
             0.2222222222222222,
             "#7201a8"
            ],
            [
             0.3333333333333333,
             "#9c179e"
            ],
            [
             0.4444444444444444,
             "#bd3786"
            ],
            [
             0.5555555555555556,
             "#d8576b"
            ],
            [
             0.6666666666666666,
             "#ed7953"
            ],
            [
             0.7777777777777778,
             "#fb9f3a"
            ],
            [
             0.8888888888888888,
             "#fdca26"
            ],
            [
             1,
             "#f0f921"
            ]
           ],
           "sequentialminus": [
            [
             0,
             "#0d0887"
            ],
            [
             0.1111111111111111,
             "#46039f"
            ],
            [
             0.2222222222222222,
             "#7201a8"
            ],
            [
             0.3333333333333333,
             "#9c179e"
            ],
            [
             0.4444444444444444,
             "#bd3786"
            ],
            [
             0.5555555555555556,
             "#d8576b"
            ],
            [
             0.6666666666666666,
             "#ed7953"
            ],
            [
             0.7777777777777778,
             "#fb9f3a"
            ],
            [
             0.8888888888888888,
             "#fdca26"
            ],
            [
             1,
             "#f0f921"
            ]
           ]
          },
          "colorway": [
           "#636efa",
           "#EF553B",
           "#00cc96",
           "#ab63fa",
           "#FFA15A",
           "#19d3f3",
           "#FF6692",
           "#B6E880",
           "#FF97FF",
           "#FECB52"
          ],
          "font": {
           "color": "#2a3f5f"
          },
          "geo": {
           "bgcolor": "white",
           "lakecolor": "white",
           "landcolor": "#E5ECF6",
           "showlakes": true,
           "showland": true,
           "subunitcolor": "white"
          },
          "hoverlabel": {
           "align": "left"
          },
          "hovermode": "closest",
          "mapbox": {
           "style": "light"
          },
          "paper_bgcolor": "white",
          "plot_bgcolor": "#E5ECF6",
          "polar": {
           "angularaxis": {
            "gridcolor": "white",
            "linecolor": "white",
            "ticks": ""
           },
           "bgcolor": "#E5ECF6",
           "radialaxis": {
            "gridcolor": "white",
            "linecolor": "white",
            "ticks": ""
           }
          },
          "scene": {
           "xaxis": {
            "backgroundcolor": "#E5ECF6",
            "gridcolor": "white",
            "gridwidth": 2,
            "linecolor": "white",
            "showbackground": true,
            "ticks": "",
            "zerolinecolor": "white"
           },
           "yaxis": {
            "backgroundcolor": "#E5ECF6",
            "gridcolor": "white",
            "gridwidth": 2,
            "linecolor": "white",
            "showbackground": true,
            "ticks": "",
            "zerolinecolor": "white"
           },
           "zaxis": {
            "backgroundcolor": "#E5ECF6",
            "gridcolor": "white",
            "gridwidth": 2,
            "linecolor": "white",
            "showbackground": true,
            "ticks": "",
            "zerolinecolor": "white"
           }
          },
          "shapedefaults": {
           "line": {
            "color": "#2a3f5f"
           }
          },
          "ternary": {
           "aaxis": {
            "gridcolor": "white",
            "linecolor": "white",
            "ticks": ""
           },
           "baxis": {
            "gridcolor": "white",
            "linecolor": "white",
            "ticks": ""
           },
           "bgcolor": "#E5ECF6",
           "caxis": {
            "gridcolor": "white",
            "linecolor": "white",
            "ticks": ""
           }
          },
          "title": {
           "x": 0.05
          },
          "xaxis": {
           "automargin": true,
           "gridcolor": "white",
           "linecolor": "white",
           "ticks": "",
           "title": {
            "standoff": 15
           },
           "zerolinecolor": "white",
           "zerolinewidth": 2
          },
          "yaxis": {
           "automargin": true,
           "gridcolor": "white",
           "linecolor": "white",
           "ticks": "",
           "title": {
            "standoff": 15
           },
           "zerolinecolor": "white",
           "zerolinewidth": 2
          }
         }
        },
        "xaxis": {
         "anchor": "y",
         "domain": [
          0,
          1
         ],
         "title": {
          "text": "Mountain"
         }
        },
        "yaxis": {
         "anchor": "x",
         "domain": [
          0,
          1
         ],
         "title": {
          "text": "Nationality"
         }
        }
       }
      },
      "text/html": [
       "<div>                            <div id=\"551724c0-803c-4ae8-a8d3-e8e962c8fb0d\" class=\"plotly-graph-div\" style=\"height:1500px; width:100%;\"></div>            <script type=\"text/javascript\">                require([\"plotly\"], function(Plotly) {                    window.PLOTLYENV=window.PLOTLYENV || {};                                    if (document.getElementById(\"551724c0-803c-4ae8-a8d3-e8e962c8fb0d\")) {                    Plotly.newPlot(                        \"551724c0-803c-4ae8-a8d3-e8e962c8fb0d\",                        [{\"alignmentgroup\":\"True\",\"boxpoints\":\"all\",\"customdata\":[[\"2023-07-27T00:00:00\"],[\"2023-05-25T00:00:00\"],[\"2023-07-03T00:00:00\"],[\"2023-04-18T00:00:00\"],[\"2023-04-12T00:00:00\"],[\"2023-04-12T00:00:00\"],[\"2023-04-12T00:00:00\"],[\"2023-05-01T00:00:00\"],[\"2023-05-16T00:00:00\"],[\"2023-05-17T00:00:00\"],[\"2023-05-18T00:00:00\"],[\"2023-05-18T00:00:00\"],[\"2023-05-19T00:00:00\"],[\"2023-05-19T00:00:00\"],[\"2023-05-20T00:00:00\"],[\"2023-05-21T00:00:00\"],[\"2023-05-21T00:00:00\"],[\"2023-05-25T00:00:00\"],[\"2023-05-25T00:00:00\"],[\"2023-05-26T00:00:00\"],[\"2023-06-03T00:00:00\"]],\"fillcolor\":\"rgba(255,255,255,0)\",\"hoveron\":\"points\",\"hovertemplate\":\"<b>%{hovertext}</b><br><br>year=2023<br>Mountain=%{x}<br>Nationality=%{y}<br>Date=%{customdata[0]}<extra></extra>\",\"hovertext\":[\"Muhammad Hassan\",\"Luis Stitzinger\",\"Pawe\\u0142 Kope\\u0107\",\"Noel Hanna\",\"Lakpa Rita Sherpa\",\"Pemba Tenzing Sherpa\",\"Da Chhiree Sherpa\",\"Jonathan Sugarman\",\"Phurba Sherpa\",\"Victor Brinza\",\"Suzanne Leopoldina Jesus\",\"Xuebin Chen\",\"Ag Askandar Bin Ampuan Yaacub\",\"Shrinivas Sainis Dattatraya\",\"Muhammad Hawari Bin Hashim\",\"Jason Bernard Kennison\",\"Ang Kami Sherpa\",\"Szil\\u00e1rd Suhajda\\u00a0[hu]\",\"Ranjit Kumar Shah\",\"Pieter Swart\",\"Lhakpa Nuru Sherpa\"],\"legendgroup\":\"2023\",\"line\":{\"color\":\"rgba(255,255,255,0)\"},\"marker\":{\"color\":\"#636efa\"},\"name\":\"2023\",\"offsetgroup\":\"2023\",\"orientation\":\"v\",\"pointpos\":0,\"showlegend\":true,\"x\":[\"K2\",\"Kangchenjunga\",\"Nanga Parbat\",\"Annapurna I\",\"Mount Everest\",\"Mount Everest\",\"Mount Everest\",\"Mount Everest\",\"Mount Everest\",\"Mount Everest\",\"Mount Everest\",\"Mount Everest\",\"Mount Everest\",\"Mount Everest\",\"Mount Everest\",\"Mount Everest\",\"Mount Everest\",\"Mount Everest\",\"Mount Everest\",\"Mount Everest\",\"Mount Everest\"],\"x0\":\" \",\"xaxis\":\"x\",\"y\":[\"Pakistan\",\"Germany\",\"Poland\",\"United Kingdom\",\"Nepal\",\"Nepal\",\"Nepal\",\"United States\",\"Nepal\",\"Moldova\",\"India\",\"China\",\"Malaysia\",\"Singapore\",\"Malaysia\",\"Australia\",\"Nepal\",\"Hungary\",\"Nepal\",\"Canada\",\"Nepal\"],\"y0\":\" \",\"yaxis\":\"y\",\"type\":\"box\"},{\"alignmentgroup\":\"True\",\"boxpoints\":\"all\",\"customdata\":[[\"2022-07-22T00:00:00\"],[\"2022-07-22T00:00:00\"],[\"2022-07-21T00:00:00\"],[\"2022-05-05T00:00:00\"],[\"2022-05-08T00:00:00\"],[\"2022-04-12T00:00:00\"],[\"2022-10-02T00:00:00\"],[\"2022-09-26T00:00:00\"],[\"2022-09-26T00:00:00\"],[\"2022-07-19T00:00:00\"],[\"2022-07-05T00:00:00\"],[\"2022-07-05T00:00:00\"],[\"2022-04-14T00:00:00\"],[\"2022-05-07T00:00:00\"],[\"2022-05-12T00:00:00\"]],\"fillcolor\":\"rgba(255,255,255,0)\",\"hoveron\":\"points\",\"hovertemplate\":\"<b>%{hovertext}</b><br><br>year=2022<br>Mountain=%{x}<br>Nationality=%{y}<br>Date=%{customdata[0]}<extra></extra>\",\"hovertext\":[\"Matthew Eakin\",\"Richard Cartier\",\"Ali Akbar Sakhi\",\"Narayanan Iyer\",\"Khudam Bir Tamang\",\"Antonios Sykaris\",\"Dawa Chhiring Sherpa\",\"Hilaree Nelson\",\"Anup Rai\",\"Gordon Henderson\",\"Sharif Sadpara\",\"Iram Karim\",\"Ngima Tenji Sherpa\",\"Pavel Kostrikin\",\"Dipak Mahat\"],\"legendgroup\":\"2022\",\"line\":{\"color\":\"rgba(255,255,255,0)\"},\"marker\":{\"color\":\"#EF553B\"},\"name\":\"2022\",\"offsetgroup\":\"2022\",\"orientation\":\"v\",\"pointpos\":0,\"showlegend\":true,\"x\":[\"K2\",\"K2\",\"K2\",\"Kangchenjunga\",\"Lhotse\",\"Dhaulagiri I\",\"Manaslu\",\"Manaslu\",\"Manaslu\",\"Broad Peak\",\"Broad Peak\",\"Gasherbrum II\",\"Mount Everest\",\"Mount Everest\",\"Mount Everest\"],\"x0\":\" \",\"xaxis\":\"x\",\"y\":[\"Australia\",\"Canada\",\"Afghanistan\",\"India\",\"Nepal\",\"Greece\",\"Nepal\",\"United States\",\"Nepal\",\"United Kingdom\",\"Pakistan\",\"Pakistan\",\"Nepal\",\"Russia\",\"Nepal\"],\"y0\":\" \",\"yaxis\":\"y\",\"type\":\"box\"},{\"alignmentgroup\":\"True\",\"boxpoints\":\"all\",\"customdata\":[[\"2021-07-25T00:00:00\"],[\"2021-02-05T00:00:00\"],[\"2021-02-05T00:00:00\"],[\"2021-02-05T00:00:00\"],[\"2021-02-05T00:00:00\"],[\"2021-01-16T00:00:00\"],[\"2021-10-24T00:00:00\"],[\"2021-09-29T00:00:00\"],[\"2021-07-19T00:00:00\"],[\"2021-05-12T00:00:00\"],[\"2021-05-12T00:00:00\"],[\"2021-05-18T00:00:00\"],[\"2021-05-23T00:00:00\"]],\"fillcolor\":\"rgba(255,255,255,0)\",\"hoveron\":\"points\",\"hovertemplate\":\"<b>%{hovertext}</b><br><br>year=2021<br>Mountain=%{x}<br>Nationality=%{y}<br>Date=%{customdata[0]}<extra></extra>\",\"hovertext\":[\"Rick Allen\",\"Ali Sadpara\",\"Juan Pablo Mohr Prieto\",\"John Snorri Sigurj\\u00f3nsson\",\"Atanas Skatov\",\"Sergi Mingote\",\"Henrik T. Adersen\",\"Brent Seal\",\"Kim Hong-bin\",\"Puwei Liu\",\"Abdul Waraich\",\"Pemba Tashi Sherpa\",\"Wong Dorchi Sherpa\"],\"legendgroup\":\"2021\",\"line\":{\"color\":\"rgba(255,255,255,0)\"},\"marker\":{\"color\":\"#00cc96\"},\"name\":\"2021\",\"offsetgroup\":\"2021\",\"orientation\":\"v\",\"pointpos\":0,\"showlegend\":true,\"x\":[\"K2\",\"K2\",\"K2\",\"K2\",\"K2\",\"K2\",\"Makalu\",\"Manaslu\",\"Broad Peak\",\"Mount Everest\",\"Mount Everest\",\"Mount Everest\",\"Mount Everest\"],\"x0\":\" \",\"xaxis\":\"x\",\"y\":[\"United Kingdom\",\"Pakistan\",\"Chile\",\"Iceland\",\"Bulgaria\",\"Spain\",\"Denmark\",\"Canada\",\"South Korea\",\"United States\",\"Switzerland\",\"Nepal\",\"Nepal\"],\"y0\":\" \",\"yaxis\":\"y\",\"type\":\"box\"},{\"alignmentgroup\":\"True\",\"boxpoints\":\"all\",\"customdata\":[[\"2018-07-22T00:00:00\"],[\"2018-07-07T00:00:00\"],[\"2018-05-17T00:00:00\"],[\"2018-05-15T00:00:00\"],[\"2018-05-16T00:00:00\"],[\"2018-09-27T00:00:00\"],[\"2018-04-30T00:00:00\"],[\"2018-09-29T00:00:00\"],[\"2018-09-08T00:00:00\"],[\"2018-01-28T00:00:00\"],[\"2018-05-03T00:00:00\"],[\"2018-05-14T00:00:00\"],[\"2018-05-18T00:00:00\"],[\"2018-05-20T00:00:00\"],[\"2018-05-21T00:00:00\"],[\"2018-05-21T00:00:00\"]],\"fillcolor\":\"rgba(255,255,255,0)\",\"hoveron\":\"points\",\"hovertemplate\":\"<b>%{hovertext}</b><br><br>year=2018<br>Mountain=%{x}<br>Nationality=%{y}<br>Date=%{customdata[0]}<extra></extra>\",\"hovertext\":[\"Watanabe Kojiro\",\"Serge Dessureault\",\"Rustem Amirov\",\"Ang Dawa Sherpa\",\"Park Shin-yong\",\"Dawa Gyaljen Sherpa\",\"Simone La Terra\",\"Roman Hl\\u00e1vko\",\"Hiromi Komatsu\",\"Tomasz Mackiewicz\",\"Boyan Petrov\",\"Lam Babu Sherpa\",\"Pasang Norbu Sherpa\",\"Gjeorgi Petkov\",\"Nobukazu Kuriki\",\"Damai Sarki Sherpa\"],\"legendgroup\":\"2018\",\"line\":{\"color\":\"rgba(255,255,255,0)\"},\"marker\":{\"color\":\"#ab63fa\"},\"name\":\"2018\",\"offsetgroup\":\"2018\",\"orientation\":\"v\",\"pointpos\":0,\"showlegend\":true,\"x\":[\"K2\",\"K2\",\"Lhotse\",\"Makalu\",\"Cho Oyu\",\"Dhaulagiri I\",\"Dhaulagiri I\",\"Manaslu\",\"Manaslu\",\"Nanga Parbat\",\"Shishapangma\",\"Mount Everest\",\"Mount Everest\",\"Mount Everest\",\"Mount Everest\",\"Mount Everest\"],\"x0\":\" \",\"xaxis\":\"x\",\"y\":[\"Japan\",\"Canada\",\"Russia\",\"Nepal\",\"South Korea\",\"Nepal\",\"Italy\",\"Czech Republic\",\"Japan\",\"Poland\",\"Bulgaria\",\"Nepal\",\"Nepal\",\"North Macedonia\",\"Japan\",\"Nepal\"],\"y0\":\" \",\"yaxis\":\"y\",\"type\":\"box\"},{\"alignmentgroup\":\"True\",\"boxpoints\":\"all\",\"customdata\":[[\"2014-07-30T00:00:00\"],[\"2014-05-20T00:00:00\"],[\"2014-05-20T00:00:00\"],[\"2014-05-20T00:00:00\"],[\"2014-04-18T00:00:00\"],[\"2014-05-02T00:00:00\"],[\"2014-10-15T00:00:00\"],[\"2014-10-15T00:00:00\"],[\"2014-10-15T00:00:00\"],[\"2014-10-15T00:00:00\"],[\"2014-10-15T00:00:00\"],[\"2014-09-26T00:00:00\"],[\"2014-09-24T00:00:00\"],[\"2014-09-24T00:00:00\"],[\"2014-04-02T00:00:00\"],[\"2014-04-18T00:00:00\"],[\"2014-04-18T00:00:00\"],[\"2014-04-18T00:00:00\"],[\"2014-04-18T00:00:00\"],[\"2014-04-18T00:00:00\"],[\"2014-04-18T00:00:00\"],[\"2014-04-18T00:00:00\"],[\"2014-04-18T00:00:00\"],[\"2014-04-18T00:00:00\"],[\"2014-04-18T00:00:00\"],[\"2014-04-18T00:00:00\"],[\"2014-04-18T00:00:00\"],[\"2014-04-18T00:00:00\"],[\"2014-04-18T00:00:00\"],[\"2014-04-18T00:00:00\"]],\"fillcolor\":\"rgba(255,255,255,0)\",\"hoveron\":\"points\",\"hovertemplate\":\"<b>%{hovertext}</b><br><br>year=2014<br>Mountain=%{x}<br>Nationality=%{y}<br>Date=%{customdata[0]}<extra></extra>\",\"hovertext\":[\"Miguel \\u00c1ngel P\\u00e9rez\",\"Chhanda Gayen\",\"Migma Temba Sherpa\",\"Dawa Wangchu Sherpa\",\"Asman Tamang\",\"Yannick Claude Sylvain Gagneret\",\"J\\u00e1n Matl\\u00e1k\",\"Vladim\\u00edr \\u0160vanc\\u00e1r\",\"Bhoj Kumar Rai\",\"Gopal Rai\",\"Dorje Sherpa\",\"Yoshimasa Sasaki\",\"Sebastian Haag\",\"Andrea Zambaldi\",\"Mingma Tenzing Sherpa\",\"Mingma Nuru Sherpa\",\"Dorji Sherpa\",\"Ang Tshiri Sherpa\",\"Nima Sherpa\",\"Tenzing Chottar Sherpa\",\"Phurba Ongyal Sherpa\",\"Lapka Tenjing Sherpa\",\"Chhiring Ongchu Sherpa\",\"Dorjee Khatri\",\"Then Dorjee Sherpa\",\"Phur Temba Sherpa\",\"Pasang Karma Sherpa\",\"Ankaji Sherpa\",\"PemTenji Sherpa\",\"Aash Bahadur Gurung\"],\"legendgroup\":\"2014\",\"line\":{\"color\":\"rgba(255,255,255,0)\"},\"marker\":{\"color\":\"#FFA15A\"},\"name\":\"2014\",\"offsetgroup\":\"2014\",\"orientation\":\"v\",\"pointpos\":0,\"showlegend\":true,\"x\":[\"K2\",\"Kangchenjunga\",\"Kangchenjunga\",\"Kangchenjunga\",\"Lhotse\",\"Makalu\",\"Dhaulagiri I\",\"Dhaulagiri I\",\"Dhaulagiri I\",\"Dhaulagiri I\",\"Dhaulagiri I\",\"Manaslu\",\"Shishapangma\",\"Shishapangma\",\"Mount Everest\",\"Mount Everest\",\"Mount Everest\",\"Mount Everest\",\"Mount Everest\",\"Mount Everest\",\"Mount Everest\",\"Mount Everest\",\"Mount Everest\",\"Mount Everest\",\"Mount Everest\",\"Mount Everest\",\"Mount Everest\",\"Mount Everest\",\"Mount Everest\",\"Mount Everest\"],\"x0\":\" \",\"xaxis\":\"x\",\"y\":[\"Spain\",\"India\",\"Nepal\",\"Nepal\",\"Nepal\",\"France\",\"Slovakia\",\"Slovakia\",\"Nepal\",\"Nepal\",\"Nepal\",\"Japan\",\"Germany\",\"Italy\",\"Nepal\",\"Nepal\",\"Nepal\",\"Nepal\",\"Nepal\",\"Nepal\",\"Nepal\",\"Nepal\",\"Nepal\",\"Nepal\",\"Nepal\",\"Nepal\",\"Nepal\",\"Nepal\",\"Nepal\",\"Nepal\"],\"y0\":\" \",\"yaxis\":\"y\",\"type\":\"box\"},{\"alignmentgroup\":\"True\",\"boxpoints\":\"all\",\"customdata\":[[\"2013-07-27T00:00:00\"],[\"2013-07-27T00:00:00\"],[\"2013-05-20T00:00:00\"],[\"2013-05-20T00:00:00\"],[\"2013-05-20T00:00:00\"],[\"2013-05-20T00:00:00\"],[\"2013-05-20T00:00:00\"],[\"2013-05-20T00:00:00\"],[\"2013-04-23T00:00:00\"],[\"2013-05-26T00:00:00\"],[\"2013-05-23T00:00:00\"],[\"2013-05-23T00:00:00\"],[\"2013-06-22T00:00:00\"],[\"2013-06-22T00:00:00\"],[\"2013-06-22T00:00:00\"],[\"2013-06-22T00:00:00\"],[\"2013-06-22T00:00:00\"],[\"2013-06-22T00:00:00\"],[\"2013-06-22T00:00:00\"],[\"2013-06-22T00:00:00\"],[\"2013-06-22T00:00:00\"],[\"2013-06-22T00:00:00\"],[\"2013-06-22T00:00:00\"],[\"2013-02-06T00:00:00\"],[\"2013-08-09T00:00:00\"],[\"2013-07-22T00:00:00\"],[\"2013-07-22T00:00:00\"],[\"2013-07-22T00:00:00\"],[\"2013-07-07T00:00:00\"],[\"2013-07-23T00:00:00\"],[\"2013-07-23T00:00:00\"],[\"2013-07-23T00:00:00\"],[\"2013-07-08T00:00:00\"],[\"2013-03-06T00:00:00\"],[\"2013-03-06T00:00:00\"],[\"2013-05-11T00:00:00\"],[\"2013-04-07T00:00:00\"],[\"2013-05-05T00:00:00\"],[\"2013-05-05T00:00:00\"],[\"2013-05-07T00:00:00\"],[\"2013-05-15T00:00:00\"],[\"2013-05-17T00:00:00\"],[\"2013-05-21T00:00:00\"],[\"2013-05-21T00:00:00\"],[\"2013-05-22T00:00:00\"]],\"fillcolor\":\"rgba(255,255,255,0)\",\"hoveron\":\"points\",\"hovertemplate\":\"<b>%{hovertext}</b><br><br>year=2013<br>Mountain=%{x}<br>Nationality=%{y}<br>Date=%{customdata[0]}<extra></extra>\",\"hovertext\":[\"Marty Schmidt\",\"Denali Schmidt\",\"Bibas Gurung Sherpa\",\"Phu Dorchi Sherpa\",\"Park Nam-soo\",\"P\\u00e9ter Kiss\",\"Zsolt Er\\u0151ss\",\"Lee Hsiao-shih\",\"Liu Xiang-yang\",\"Juanjo Garra\",\"Chizuko Kono\",\"Dawa Sherpa\",\"Igor Svergun\",\"Badawi Kashaev\",\"Dmitry Konyaev\",\"Rao Jianfeng\",\"Yang Chunfeng\",\"Honglu Chen\",\"Sona Sherpa\",\"Ernestas Mark\\u0161aitis\",\"Ali Hussain\",\"Anton Dobes\",\"Peter Sperka\",\"Joel Wischnewski\",\"Zdenek Hruby\",\"Xevi G\\u00f3mez\",\"\\u00c1lvaro Paredes\",\"Abel Alonso\",\"Artur Hajzer\",\"Aidin Bozorgi\",\"Mojtaba Jarrahi\\u00a0[fa]\",\"Pouya Keivan\\u00a0[fa]\",\"Dana Heide\",\"Maciej Berbeka\",\"Tomasz Kowalski\",\"Unknown\",\"Mingma Sherpa\",\"DaRita Sherpa\",\"Sergey Ponomarev\",\"Lobsang Sherpa\",\"Alexey Bolotov\",\"Namgyal Sherpa\",\"Seo Sung-ho\",\"Sajal Khaled (Mohammed Khaled Hossain)\",\"Unknown climber\"],\"legendgroup\":\"2013\",\"line\":{\"color\":\"rgba(255,255,255,0)\"},\"marker\":{\"color\":\"#19d3f3\"},\"name\":\"2013\",\"offsetgroup\":\"2013\",\"orientation\":\"v\",\"pointpos\":0,\"showlegend\":true,\"x\":[\"K2\",\"K2\",\"Kangchenjunga\",\"Kangchenjunga\",\"Kangchenjunga\",\"Kangchenjunga\",\"Kangchenjunga\",\"Lhotse\",\"Makalu\",\"Dhaulagiri I\",\"Dhaulagiri I\",\"Dhaulagiri I\",\"Nanga Parbat\",\"Nanga Parbat\",\"Nanga Parbat\",\"Nanga Parbat\",\"Nanga Parbat\",\"Nanga Parbat\",\"Nanga Parbat\",\"Nanga Parbat\",\"Nanga Parbat\",\"Nanga Parbat\",\"Nanga Parbat\",\"Nanga Parbat\",\"Gasherbrum I\",\"Gasherbrum I\",\"Gasherbrum I\",\"Gasherbrum I\",\"Gasherbrum I\",\"Broad Peak\",\"Broad Peak\",\"Broad Peak\",\"Broad Peak\",\"Broad Peak\",\"Broad Peak\",\"Shishapangma\",\"Mount Everest\",\"Mount Everest\",\"Mount Everest\",\"Mount Everest\",\"Mount Everest\",\"Mount Everest\",\"Mount Everest\",\"Mount Everest\",\"Mount Everest\"],\"x0\":\" \",\"xaxis\":\"x\",\"y\":[\"New Zealand / United States\",\"New Zealand / United States\",\"Nepal\",\"Nepal\",\"South Korea\",\"Hungary\",\"Hungary\",\"Taiwan\",\"China\",\"Spain\",\"Japan\",\"Nepal\",\"Ukraine\",\"Ukraine\",\"Ukraine\",\"China\",\"China\",\"China (USA/China dual national)\",\"Nepal\",\"Lithuania\",\"Pakistan\",\"Slovakia\",\"Slovakia\",\"France\",\"Czech Republic\",\"Spain\",\"Spain\",\"Spain\",\"Poland\",\"Iran\",\"Iran\",\"Iran\",\"Germany\",\"Poland\",\"Poland\",\"Germany\",\"Nepal\",\"Nepal\",\"Russia\",\"Nepal\",\"Russia\",\"Nepal\",\"South Korea\",\"Bangladesh\",\"Nepal\"],\"y0\":\" \",\"yaxis\":\"y\",\"type\":\"box\"},{\"alignmentgroup\":\"True\",\"boxpoints\":\"all\",\"customdata\":[[\"2012-02-06T00:00:00\"],[\"2012-10-16T00:00:00\"],[\"2012-05-19T00:00:00\"],[\"2012-10-04T00:00:00\"],[\"2012-09-23T00:00:00\"],[\"2012-09-23T00:00:00\"],[\"2012-09-23T00:00:00\"],[\"2012-09-23T00:00:00\"],[\"2012-09-23T00:00:00\"],[\"2012-09-23T00:00:00\"],[\"2012-09-23T00:00:00\"],[\"2012-09-23T00:00:00\"],[\"2012-09-23T00:00:00\"],[\"2012-09-23T00:00:00\"],[\"2012-09-23T00:00:00\"],[\"2012-05-11T00:00:00\"],[\"2012-10-07T00:00:00\"],[\"2012-10-07T00:00:00\"],[\"2012-05-05T00:00:00\"],[\"2012-03-09T00:00:00\"],[\"2012-03-09T00:00:00\"],[\"2012-03-09T00:00:00\"],[\"2012-07-31T00:00:00\"],[\"2012-07-31T00:00:00\"],[\"2012-04-05T00:00:00\"],[\"2012-04-19T00:00:00\"],[\"2012-04-20T00:00:00\"],[\"2012-04-21T00:00:00\"],[\"2012-05-19T00:00:00\"],[\"2012-05-19T00:00:00\"],[\"2012-05-19T00:00:00\"],[\"2012-05-20T00:00:00\"],[\"2012-05-20T00:00:00\"],[\"2012-05-20T00:00:00\"],[\"2012-05-20T00:00:00\"]],\"fillcolor\":\"rgba(255,255,255,0)\",\"hoveron\":\"points\",\"hovertemplate\":\"<b>%{hovertext}</b><br><br>year=2012<br>Mountain=%{x}<br>Nationality=%{y}<br>Date=%{customdata[0]}<extra></extra>\",\"hovertext\":[\"Vitaliy Gorelik\",\"Temba Sherpa\",\"Milan Sedl\\u00e1\\u010dek\",\"Victor Correa\",\"Dominique Ouimet\",\"Gregory Ugo Costa\",\"Alberto Magliano\",\"Catherine Ricard\",\"Christian Mittermeyer\",\"Dawa Dorji Sherpa\",\"Fabrice Priez\",\"Ludovic Challeat\",\"Marti Roig Gasull\",\"Phillippe Lucien Bos\",\"R\\u00e9my L\\u00e9cluse\",\"Jafar Naseri\",\"Ivan Lobanov\",\"Iljas Tukhvatullin\",\"Tibor Horv\\u00e1th\",\"Gerfried G\\u00f6schl\",\"Cedric H\\u00e4hlen\",\"Nissar Hussain\",\"Muhammad Baqir\",\"Zuzana Hofmannov\\u00e1\",\"Dawa Tenzing\",\"Karsang Namgyal Sherpa\",\"Ramesh Gulve\",\"Namgyal Tshering Sherpa\",\"Shriya Shah-Klorfine\",\"Eberhard Schaaf\",\"Song Won-bin\",\"Ha Wenyi\",\"Juan Jos\\u00e9 Polo Carbayo\",\"Milan Sedl\\u00e1\\u010dek\",\"Ralf D. Arnold\"],\"legendgroup\":\"2012\",\"line\":{\"color\":\"rgba(255,255,255,0)\"},\"marker\":{\"color\":\"#FF6692\"},\"name\":\"2012\",\"offsetgroup\":\"2012\",\"orientation\":\"v\",\"pointpos\":0,\"showlegend\":true,\"x\":[\"K2\",\"Lhotse\",\"Lhotse\",\"Manaslu\",\"Manaslu\",\"Manaslu\",\"Manaslu\",\"Manaslu\",\"Manaslu\",\"Manaslu\",\"Manaslu\",\"Manaslu\",\"Manaslu\",\"Manaslu\",\"Manaslu\",\"Manaslu\",\"Annapurna I\",\"Annapurna I\",\"Annapurna I\",\"Gasherbrum I\",\"Gasherbrum I\",\"Gasherbrum I\",\"Broad Peak\",\"Broad Peak\",\"Mount Everest\",\"Mount Everest\",\"Mount Everest\",\"Mount Everest\",\"Mount Everest\",\"Mount Everest\",\"Mount Everest\",\"Mount Everest\",\"Mount Everest\",\"Mount Everest\",\"Mount Everest\"],\"x0\":\" \",\"xaxis\":\"x\",\"y\":[\"Russia\",\"Nepal\",\"Czech Republic\",\"Colombia\",\"Canada\",\"France\",\"Italy\",\"France\",\"Germany\",\"Nepal\",\"France\",\"France\",\"Spain\",\"France\",\"France\",\"Iran\",\"Uzbekistan\",\"Uzbekistan\",\"Hungary\",\"Austria\",\"Switzerland\",\"Pakistan\",\"Pakistan\",\"Czech Republic\",\"Nepal\",\"Nepal\",\"India\",\"Nepal\",\"Canada\",\"Germany\",\"South Korea\",\"China\",\"Spain\",\"Czech\",\"Germany\"],\"y0\":\" \",\"yaxis\":\"y\",\"type\":\"box\"},{\"alignmentgroup\":\"True\",\"boxpoints\":\"all\",\"customdata\":[[\"2010-08-06T00:00:00\"],[\"2010-07-17T00:00:00\"],[\"2010-05-07T00:00:00\"],[\"2010-05-26T00:00:00\"],[\"2010-10-03T00:00:00\"],[\"2010-05-03T00:00:00\"],[\"2010-09-28T00:00:00\"],[\"2010-09-28T00:00:00\"],[\"2010-09-28T00:00:00\"],[\"2010-09-28T00:00:00\"],[\"2010-05-13T00:00:00\"],[\"2010-05-13T00:00:00\"],[\"2010-05-13T00:00:00\"],[\"2010-09-24T00:00:00\"],[\"2010-04-24T00:00:00\"],[\"2010-04-24T00:00:00\"],[\"2010-04-29T00:00:00\"],[\"2010-04-26T00:00:00\"],[\"2010-05-19T00:00:00\"],[\"2010-05-26T00:00:00\"]],\"fillcolor\":\"rgba(255,255,255,0)\",\"hoveron\":\"points\",\"hovertemplate\":\"<b>%{hovertext}</b><br><br>year=2010<br>Mountain=%{x}<br>Nationality=%{y}<br>Date=%{customdata[0]}<extra></extra>\",\"hovertext\":[\"Fredrik Ericsson\",\"Petar Georgiev Unzhiev\",\"Sergei Duganov\",\"Zaharias \\\"Haris\\\" Kiriakakis\",\"Walter Nones\",\"Serguey Nikitin\",\"Daisuke Honda\",\"Osamu Tanabe\",\"Pasang Gyelu\",\"Toshio Yamamoto\",\"Zhao Liang\",\"Li Bin\",\"Han Xin\",\"Nobuaki Kuwabara\",\"Chi-won Yun\",\"Haeng-su Park\",\"Tolo Calafat\",\"L\\u00e1szl\\u00f3 V\\u00e1rkonyi\",\"Tom J\\u00f8rgensen\",\"Peter Kinloch\"],\"legendgroup\":\"2010\",\"line\":{\"color\":\"rgba(255,255,255,0)\"},\"marker\":{\"color\":\"#B6E880\"},\"name\":\"2010\",\"offsetgroup\":\"2010\",\"orientation\":\"v\",\"pointpos\":0,\"showlegend\":true,\"x\":[\"K2\",\"K2\",\"Lhotse\",\"Makalu\",\"Cho Oyu\",\"Cho Oyu\",\"Dhaulagiri I\",\"Dhaulagiri I\",\"Dhaulagiri I\",\"Dhaulagiri I\",\"Dhaulagiri I\",\"Dhaulagiri I\",\"Dhaulagiri I\",\"Manaslu\",\"Manaslu\",\"Manaslu\",\"Annapurna I\",\"Mount Everest\",\"Mount Everest\",\"Mount Everest\"],\"x0\":\" \",\"xaxis\":\"x\",\"y\":[\"Sweden\",\"Bulgaria\",\"Russia\",\"Greece\",\"Italy\",\"Russia\",\"Japan\",\"Japan\",\"Nepal\",\"Japan\",\"China\",\"China\",\"China\",\"Japan\",\"South Korea\",\"South Korea\",\"Spain\",\"Hungary\",\"Denmark\",\"United Kingdom\"],\"y0\":\" \",\"yaxis\":\"y\",\"type\":\"box\"},{\"alignmentgroup\":\"True\",\"boxpoints\":\"all\",\"customdata\":[[\"2009-06-23T00:00:00\"],[\"2009-05-25T00:00:00\"],[\"2009-05-01T00:00:00\"],[\"2009-09-26T00:00:00\"],[\"2009-06-02T00:00:00\"],[\"2009-05-01T00:00:00\"],[\"2009-04-08T00:00:00\"],[\"2009-10-03T00:00:00\"],[\"2009-05-19T00:00:00\"],[\"2009-04-28T00:00:00\"],[\"2009-07-11T00:00:00\"],[\"2009-07-10T00:00:00\"],[\"2009-04-01T00:00:00\"],[\"2009-07-18T00:00:00\"],[\"2009-07-21T00:00:00\"],[\"2009-10-15T00:00:00\"],[\"2009-05-07T00:00:00\"],[\"2009-05-18T00:00:00\"],[\"2009-05-19T00:00:00\"],[\"2009-05-21T00:00:00\"]],\"fillcolor\":\"rgba(255,255,255,0)\",\"hoveron\":\"points\",\"hovertemplate\":\"<b>%{hovertext}</b><br><br>year=2009<br>Mountain=%{x}<br>Nationality=%{y}<br>Date=%{customdata[0]}<extra></extra>\",\"hovertext\":[\"Michele Fait\",\"Sergei Samoilov\",\"Sangat Ram Thakur\",\"Clifton Harlan Wells \\\"Cliff\\\" Maloney\",\"Dennis Verhoeve\",\"Mehdi Etemad Far\",\"Piotr Morawski\",\"Franc Oderlap\",\"Levente Szab\\u00f3\",\"Giuseppe Antonelli\",\"Mi-young Go\",\"Wolfgang K\\u00f6lblinger\",\"Martin Mina\\u0159\\u00edk\",\"Cristina Castagna\",\"Luis Mar\\u00eda Barbero\",\"Roby Piantoni\",\"Lhakpa Nuru\",\"V\\u011bslav Chrzaszcz\",\"Wenhong Wu\",\"Frank Ziebarth\"],\"legendgroup\":\"2009\",\"line\":{\"color\":\"rgba(255,255,255,0)\"},\"marker\":{\"color\":\"#FF97FF\"},\"name\":\"2009\",\"offsetgroup\":\"2009\",\"orientation\":\"v\",\"pointpos\":0,\"showlegend\":true,\"x\":[\"K2\",\"Lhotse\",\"Makalu\",\"Cho Oyu\",\"Cho Oyu\",\"Dhaulagiri I\",\"Dhaulagiri I\",\"Manaslu\",\"Manaslu\",\"Manaslu\",\"Nanga Parbat\",\"Nanga Parbat\",\"Annapurna I\",\"Broad Peak\",\"Gasherbrum II\",\"Shishapangma\",\"Mount Everest\",\"Mount Everest\",\"Mount Everest\",\"Mount Everest\"],\"x0\":\" \",\"xaxis\":\"x\",\"y\":[\"Italy\",\"Kazakhstan\",\"India\",\"United States\",\"Netherlands\",\"Iran\",\"Poland\",\"Slovenia\",\"Hungary\",\"Italy\",\"South Korea\",\"Austria\",\"Czech Republic\",\"Italy\",\"Spain\",\"Italy\",\"Nepal\",\"Czech Republic\",\"China\",\"Canada\"],\"y0\":\" \",\"yaxis\":\"y\",\"type\":\"box\"},{\"alignmentgroup\":\"True\",\"boxpoints\":\"all\",\"customdata\":[[\"2008-08-02T00:00:00\"],[\"2008-08-02T00:00:00\"],[\"2008-08-02T00:00:00\"],[\"2008-08-02T00:00:00\"],[\"2008-08-02T00:00:00\"],[\"2008-08-02T00:00:00\"],[\"2008-08-02T00:00:00\"],[\"2008-08-02T00:00:00\"],[\"2008-08-01T00:00:00\"],[\"2008-08-01T00:00:00\"],[\"2008-08-01T00:00:00\"],[\"2008-05-20T00:00:00\"],[\"2008-04-24T00:00:00\"],[\"2008-10-04T00:00:00\"],[\"2008-10-03T00:00:00\"],[\"2008-05-05T00:00:00\"],[\"2008-05-05T00:00:00\"],[\"2008-10-05T00:00:00\"],[\"2008-05-13T00:00:00\"],[\"2008-07-17T00:00:00\"],[\"2008-07-15T00:00:00\"],[\"2008-05-23T00:00:00\"],[\"2008-06-18T00:00:00\"],[\"2008-06-30T00:00:00\"],[\"2008-05-22T00:00:00\"]],\"fillcolor\":\"rgba(255,255,255,0)\",\"hoveron\":\"points\",\"hovertemplate\":\"<b>%{hovertext}</b><br><br>year=2008<br>Mountain=%{x}<br>Nationality=%{y}<br>Date=%{customdata[0]}<extra></extra>\",\"hovertext\":[\"Hwang Dong-jin\",\"Park Kyeong-hyo\",\"Kim Hyo-gyung\",\"Pasang Bhote\",\"Jumic Bhote\",\"Gerard McDonnell\",\"Meherban Karim\",\"Hugues d'Aubar\\u00e8de\",\"Rolf Bae\",\"Jahan Baig\",\"Dren Mandi\\u0107\",\"Nil Prasad Gurung\",\"Drabey Bahadur Rajan Magar\",\"Miha Vali\\u010d\",\"Guy Leveille\",\"Rafael Guill\\u00e9n\",\"Dar\\u00edo Bracali\",\"Daniel Goulevitch\",\"Hasta Bahadur Gurung\",\"Saman Nemati\",\"Karl Unterkircher\",\"I\\u00f1aki Ochoa de Olza\",\"Jean-Noel Urban\",\"Vlado Plulik\",\"Uwe Gianni Goltz\"],\"legendgroup\":\"2008\",\"line\":{\"color\":\"rgba(255,255,255,0)\"},\"marker\":{\"color\":\"#FECB52\"},\"name\":\"2008\",\"offsetgroup\":\"2008\",\"orientation\":\"v\",\"pointpos\":0,\"showlegend\":true,\"x\":[\"K2\",\"K2\",\"K2\",\"K2\",\"K2\",\"K2\",\"K2\",\"K2\",\"K2\",\"K2\",\"K2\",\"Makalu\",\"Makalu\",\"Cho Oyu\",\"Cho Oyu\",\"Dhaulagiri I\",\"Dhaulagiri I\",\"Manaslu\",\"Manaslu\",\"Nanga Parbat\",\"Nanga Parbat\",\"Annapurna I\",\"Gasherbrum I\",\"Broad Peak\",\"Mount Everest\"],\"x0\":\" \",\"xaxis\":\"x\",\"y\":[\"South Korea\",\"South Korea\",\"South Korea\",\"Nepal\",\"Nepal\",\"Ireland\",\"Pakistan\",\"France\",\"Norway\",\"Pakistan\",\"Serbia\",\"Nepal\",\"Nepal\",\"Slovenia\",\"Canada\",\"Spain\",\"Argentina\",\"France\",\"Nepal\",\"Iran\",\"Italy\",\"Spain\",\"France\",\"Slovakia\",\"Switzerland\"],\"y0\":\" \",\"yaxis\":\"y\",\"type\":\"box\"},{\"alignmentgroup\":\"True\",\"boxpoints\":\"all\",\"customdata\":[[\"2007-07-20T00:00:00\"],[\"2007-07-20T00:00:00\"],[\"2007-05-24T00:00:00\"],[\"2007-05-21T00:00:00\"],[\"2007-05-12T00:00:00\"],[\"2007-05-12T00:00:00\"],[\"2007-04-30T00:00:00\"],[\"2007-04-22T00:00:00\"],[\"2007-07-29T00:00:00\"],[\"2007-07-18T00:00:00\"],[\"2007-07-18T00:00:00\"],[\"2007-07-03T00:00:00\"],[\"2007-04-24T00:00:00\"],[\"2007-04-26T00:00:00\"],[\"2007-05-17T00:00:00\"],[\"2007-05-17T00:00:00\"],[\"2007-05-16T00:00:00\"],[\"2007-05-17T00:00:00\"],[\"2007-05-17T00:00:00\"],[\"2007-05-17T00:00:00\"]],\"fillcolor\":\"rgba(255,255,255,0)\",\"hoveron\":\"points\",\"hovertemplate\":\"<b>%{hovertext}</b><br><br>year=2007<br>Mountain=%{x}<br>Nationality=%{y}<br>Date=%{customdata[0]}<extra></extra>\",\"hovertext\":[\"Stefano Zavka\",\"Nima Nurbu\",\"I\\u00f1igo de Pineda Blanc\",\"Pemba Doma Thaktopa Sherpa\",\"Santiago Sagaste\",\"Ricardo Valencia\",\"Sergio Dalla Longa\",\"Udhav Prasad Khanal\",\"Jiri Danek\",\"Ernst-Robert Zauner\",\"Arne Heckele\",\"Ulrike Gschwandtner\\u00a0[de]\",\"Marek Hud\\u00e1k\",\"Dawa Sherpa\",\"Shinichi Ishii\",\"Libor Koz\\u00e1k\",\"Yoshitomi Okura\",\"Maurizio Pierangelo\",\"Oh Hee-joon\",\"Lee Hyun-jo\"],\"legendgroup\":\"2007\",\"line\":{\"color\":\"rgba(255,255,255,0)\"},\"marker\":{\"color\":\"#636efa\"},\"name\":\"2007\",\"offsetgroup\":\"2007\",\"orientation\":\"v\",\"pointpos\":0,\"showlegend\":true,\"x\":[\"K2\",\"K2\",\"Kangchenjunga\",\"Lhotse\",\"Dhaulagiri I\",\"Dhaulagiri I\",\"Dhaulagiri I\",\"Annapurna I\",\"Gasherbrum I\",\"Gasherbrum II\",\"Gasherbrum II\",\"Gasherbrum II\",\"Shishapangma\",\"Mount Everest\",\"Mount Everest\",\"Mount Everest\",\"Mount Everest\",\"Mount Everest\",\"Mount Everest\",\"Mount Everest\"],\"x0\":\" \",\"xaxis\":\"x\",\"y\":[\"Italy\",\"Nepal\",\"Spain\",\"Nepal\",\"Spain\",\"Spain\",\"Italy\",\"Nepal\",\"Czech Republic\",\"Germany\",\"Germany\",\"Austria\",\"Slovakia\",\"Nepal\",\"Japan\",\"Czech Republic\",\"Japan\",\"Italy\",\"South Korea\",\"South Korea\"],\"y0\":\" \",\"yaxis\":\"y\",\"type\":\"box\"},{\"alignmentgroup\":\"True\",\"boxpoints\":\"all\",\"customdata\":[[\"2006-08-13T00:00:00\"],[\"2006-08-13T00:00:00\"],[\"2006-08-13T00:00:00\"],[\"2006-08-13T00:00:00\"],[\"2006-05-09T00:00:00\"],[\"2006-01-27T00:00:00\"],[\"2006-05-09T00:00:00\"],[\"2006-05-28T00:00:00\"],[\"2006-07-28T00:00:00\"],[\"2006-07-22T00:00:00\"],[\"2006-10-22T00:00:00\"],[\"2006-07-08T00:00:00\"],[\"2006-10-31T00:00:00\"],[\"2006-04-07T00:00:00\"],[\"2006-04-21T00:00:00\"],[\"2006-04-21T00:00:00\"],[\"2006-04-21T00:00:00\"],[\"2006-05-17T00:00:00\"],[\"2006-05-14T00:00:00\"],[\"2006-05-15T00:00:00\"],[\"2006-05-16T00:00:00\"],[\"2006-05-19T00:00:00\"],[\"2006-05-22T00:00:00\"],[\"2006-05-25T00:00:00\"]],\"fillcolor\":\"rgba(255,255,255,0)\",\"hoveron\":\"points\",\"hovertemplate\":\"<b>%{hovertext}</b><br><br>year=2006<br>Mountain=%{x}<br>Nationality=%{y}<br>Date=%{customdata[0]}<extra></extra>\",\"hovertext\":[\"Arkadi Kuvakin\",\"Aleksandr Foigt\",\"Piotr Kuznetsov\",\"Yuri Uteshev\",\"Pavel Kaln\\u00fd\",\"Jean-Christophe Lafaille\",\"Raymund M. Spang\",\"Susan Erica Fear\",\"Naohiro Ozawa\",\"Jos\\u00e9 Antonio Delgado\",\"Lhakpa Rita II\",\"Markus Kronthaler\",\"Bruno Carvalho\",\"Tuk Bahadur Thapa Magar Sherpa\",\"Ang Phinjo Sherpa\",\"Lhakpa Tseri\",\"Dawa Temba\",\"Jacques-Hugues Letrange\",\"Srikrishna\",\"David Sharp\",\"Tomas Olsson\",\"Vitor Negrete\",\"Igor Plyushkin\",\"Thomas Weber\"],\"legendgroup\":\"2006\",\"line\":{\"color\":\"rgba(255,255,255,0)\"},\"marker\":{\"color\":\"#EF553B\"},\"name\":\"2006\",\"offsetgroup\":\"2006\",\"orientation\":\"v\",\"pointpos\":0,\"showlegend\":true,\"x\":[\"K2\",\"K2\",\"K2\",\"K2\",\"Lhotse\",\"Makalu\",\"Cho Oyu\",\"Manaslu\",\"Nanga Parbat\",\"Nanga Parbat\",\"Annapurna I\",\"Broad Peak\",\"Shishapangma\",\"Mount Everest\",\"Mount Everest\",\"Mount Everest\",\"Mount Everest\",\"Mount Everest\",\"Mount Everest\",\"Mount Everest\",\"Mount Everest\",\"Mount Everest\",\"Mount Everest\",\"Mount Everest\"],\"x0\":\" \",\"xaxis\":\"x\",\"y\":[\"Russia\",\"Russia\",\"Russia\",\"Russia\",\"Czech Republic\",\"France\",\"Germany\",\"Australia\",\"Japan\",\"Venezuela\",\"Nepal\",\"Austria\",\"Portugal\",\"Nepal\",\"Nepal\",\"Nepal\",\"Nepal\",\"France\",\"India\",\"United Kingdom\",\"Sweden\",\"Brazil\",\"Russia\",\"Germany\"],\"y0\":\" \",\"yaxis\":\"y\",\"type\":\"box\"},{\"alignmentgroup\":\"True\",\"boxpoints\":\"all\",\"customdata\":[[\"2004-08-19T00:00:00\"],[\"2004-08-02T00:00:00\"],[\"2004-08-02T00:00:00\"],[\"2004-07-28T00:00:00\"],[\"2004-06-08T00:00:00\"],[\"2004-06-08T00:00:00\"],[\"2004-06-08T00:00:00\"],[\"2004-05-18T00:00:00\"],[\"2004-05-17T00:00:00\"],[\"2004-10-13T00:00:00\"],[\"2004-07-01T00:00:00\"],[\"2004-10-10T00:00:00\"],[\"2004-10-10T00:00:00\"],[\"2004-07-25T00:00:00\"],[\"2004-05-18T00:00:00\"],[\"2004-05-18T00:00:00\"],[\"2004-05-18T00:00:00\"],[\"2004-05-18T00:00:00\"],[\"2004-05-20T00:00:00\"],[\"2004-05-20T00:00:00\"],[\"2004-05-23T00:00:00\"]],\"fillcolor\":\"rgba(255,255,255,0)\",\"hoveron\":\"points\",\"hovertemplate\":\"<b>%{hovertext}</b><br><br>year=2004<br>Mountain=%{x}<br>Nationality=%{y}<br>Date=%{customdata[0]}<extra></extra>\",\"hovertext\":[\"Manel de la Mata\",\"Dauoud Khadem Asl\",\"Sergei Sokolov\",\"Aleksandr Gubaev\",\"Pae Kyong-kyu\",\"Kim Jae-koung\",\"Lee Hwa-hyeung\",\"Jay Sieger\",\"Vladislav Terzyul\",\"Xabier Ormazabal\",\"G\\u00fcnter Jung\",\"Hideji Nazuka\",\"Michio Sato\",\"Jose Antonio Anton\",\"Joon-ho Baek\",\"Min Jang\",\"Mu-taek Park\",\"Nils Antezana\",\"Hristo Ganchev Hristov\",\"Shoko Ota\",\"Mariana Prodanova Maslarova\"],\"legendgroup\":\"2004\",\"line\":{\"color\":\"rgba(255,255,255,0)\"},\"marker\":{\"color\":\"#00cc96\"},\"name\":\"2004\",\"offsetgroup\":\"2004\",\"orientation\":\"v\",\"pointpos\":0,\"showlegend\":true,\"x\":[\"K2\",\"K2\",\"K2\",\"K2\",\"K2\",\"K2\",\"K2\",\"Makalu\",\"Makalu\",\"Cho Oyu\",\"Nanga Parbat\",\"Annapurna I\",\"Annapurna I\",\"Gasherbrum I\",\"Mount Everest\",\"Mount Everest\",\"Mount Everest\",\"Mount Everest\",\"Mount Everest\",\"Mount Everest\",\"Mount Everest\"],\"x0\":\" \",\"xaxis\":\"x\",\"y\":[\"Spain\",\"Iran\",\"Russia\",\"Kyrgyzstan\",\"South Korea\",\"South Korea\",\"South Korea\",\"United States\",\"Ukraine\",\"Spain\",\"Germany\",\"Japan\",\"Japan\",\"Spain\",\"South Korea\",\"South Korea\",\"South Korea\",\"United States\\u00a0Bolivia\",\"Bulgaria\",\"Japan\",\"Bulgaria\"],\"y0\":\" \",\"yaxis\":\"y\",\"type\":\"box\"},{\"alignmentgroup\":\"True\",\"boxpoints\":\"all\",\"customdata\":[[\"2003-07-21T00:00:00\"],[\"2003-10-05T00:00:00\"],[\"2003-10-05T00:00:00\"],[\"2003-10-06T00:00:00\"],[\"2003-05-16T00:00:00\"],[\"2003-05-14T00:00:00\"],[\"2003-09-07T00:00:00\"],[\"2003-07-15T00:00:00\"],[\"2003-07-05T00:00:00\"],[\"2003-07-05T00:00:00\"],[\"2003-05-27T00:00:00\"],[\"2003-05-25T00:00:00\"],[\"2003-05-08T00:00:00\"],[\"2003-05-24T00:00:00\"]],\"fillcolor\":\"rgba(255,255,255,0)\",\"hoveron\":\"points\",\"hovertemplate\":\"<b>%{hovertext}</b><br><br>year=2003<br>Mountain=%{x}<br>Nationality=%{y}<br>Date=%{customdata[0]}<extra></extra>\",\"hovertext\":[\"Klaus-Dieter Grohs\",\"Hwang Sun-dug\",\"Park Joo-hoon\",\"Christos Barouchas\",\"Guenter Welkisch\",\"Paul Bernard Carr\",\"Mohammad Oraz\",\"Vladimir Pestrikov\",\"Jose Manuel Buenaga\",\"Nancy Silvestrini\\u00a0[es]\",\"Bhim Bahadur Gurung\",\"Jan Krzysztof Liszewski\",\"Arnaud Saulnier\",\"Karma Gyalzen Sherpa\"],\"legendgroup\":\"2003\",\"line\":{\"color\":\"rgba(255,255,255,0)\"},\"marker\":{\"color\":\"#ab63fa\"},\"name\":\"2003\",\"offsetgroup\":\"2003\",\"orientation\":\"v\",\"pointpos\":0,\"showlegend\":true,\"x\":[\"K2\",\"Lhotse\",\"Lhotse\",\"Cho Oyu\",\"Cho Oyu\",\"Cho Oyu\",\"Gasherbrum I\",\"Gasherbrum I\",\"Gasherbrum I\",\"Gasherbrum I\",\"Mount Everest\",\"Mount Everest\",\"Mount Everest\",\"Mount Everest\"],\"x0\":\" \",\"xaxis\":\"x\",\"y\":[\"Germany\",\"South Korea\",\"South Korea\",\"Greece\",\"Germany\",\"Australia\",\"Iran\",\"Ukraine\",\"Spain\",\"Argentina\",\"Nepal\",\"Poland\",\"France\",\"Nepal\"],\"y0\":\" \",\"yaxis\":\"y\",\"type\":\"box\"},{\"alignmentgroup\":\"True\",\"boxpoints\":\"all\",\"customdata\":[[\"2002-07-22T00:00:00\"],[\"2002-07-13T00:00:00\"],[\"2002-05-24T00:00:00\"],[\"2002-04-25T00:00:00\"],[\"2002-01-01T00:00:00\"],[\"2002-01-01T00:00:00\"],[\"2002-01-01T00:00:00\"],[\"2002-01-01T00:00:00\"],[\"2002-01-01T00:00:00\"],[\"2002-01-01T00:00:00\"],[\"2002-05-14T00:00:00\"],[\"2002-04-30T00:00:00\"],[\"2002-04-30T00:00:00\"],[\"2002-05-17T00:00:00\"],[\"2002-09-08T00:00:00\"]],\"fillcolor\":\"rgba(255,255,255,0)\",\"hoveron\":\"points\",\"hovertemplate\":\"<b>%{hovertext}</b><br><br>year=2002<br>Mountain=%{x}<br>Nationality=%{y}<br>Date=%{customdata[0]}<extra></extra>\",\"hovertext\":[\"Muhammad Iqbal\",\"Sher Ajman\",\"Christopher Hugh \\\"Chris\\\" Grasswick\",\"Raymond David Caughron\",\"Pramod Sunar\",\"Karma Wangchu Sherpa\",\"Prakash Kundip Karki\",\"Ongchhu Sherpa\",\"Sarki Sherpa\",\"Nima Dorje Tamang\",\"Adam Joseph Cinnamond\",\"Chhong Ringee Sherpa\",\"Peter Legate\",\"Zoran Mileti\\u0107\",\"Marco Siffredi\"],\"legendgroup\":\"2002\",\"line\":{\"color\":\"rgba(255,255,255,0)\"},\"marker\":{\"color\":\"#FFA15A\"},\"name\":\"2002\",\"offsetgroup\":\"2002\",\"orientation\":\"v\",\"pointpos\":0,\"showlegend\":true,\"x\":[\"K2\",\"K2\",\"Kangchenjunga\",\"Makalu\",\"Makalu\",\"Makalu\",\"Makalu\",\"Makalu\",\"Makalu\",\"Makalu\",\"Cho Oyu\",\"Cho Oyu\",\"Mount Everest\",\"Mount Everest\",\"Mount Everest\"],\"x0\":\" \",\"xaxis\":\"x\",\"y\":[\"Pakistan\",\"Pakistan\",\"Canada\",\"United States\",\"Nepal\",\"Nepal\",\"Nepal\",\"Nepal\",\"Nepal\",\"Nepal\",\"United Kingdom\",\"Nepal\",\"United Kingdom\",\"FR Yugoslavia\",\"France\"],\"y0\":\" \",\"yaxis\":\"y\",\"type\":\"box\"},{\"alignmentgroup\":\"True\",\"boxpoints\":\"all\",\"customdata\":[[\"2001-07-22T00:00:00\"],[\"2001-05-14T00:00:00\"],[\"2001-09-09T00:00:00\"],[\"2001-10-14T00:00:00\"],[\"2001-10-14T00:00:00\"],[\"2001-10-14T00:00:00\"],[\"2001-10-11T00:00:00\"],[\"2001-10-13T00:00:00\"],[\"2001-07-09T00:00:00\"],[\"2001-07-20T00:00:00\"],[\"2001-04-29T00:00:00\"],[\"2001-05-23T00:00:00\"],[\"2001-05-24T00:00:00\"],[\"2001-05-24T00:00:00\"],[\"2001-10-17T00:00:00\"]],\"fillcolor\":\"rgba(255,255,255,0)\",\"hoveron\":\"points\",\"hovertemplate\":\"<b>%{hovertext}</b><br><br>year=2001<br>Mountain=%{x}<br>Nationality=%{y}<br>Date=%{customdata[0]}<extra></extra>\",\"hovertext\":[\"Park Young-do\",\"Erich Resch\",\"Kim Su-ya\",\"Yukihiko Shinagawa\",\"Ryushi Hoshino\",\"Masashi Fukumoto\",\"Jose Antonio Garces\",\"Isao Kuribara\",\"Claudio G\\u00e1lvez Santiba\\u00f1ez\",\"Jean-Fran\\u00e7ois Bassine\",\"Babu Chiri Sherpa\",\"Peter Ganner\",\"Mark Auricht\",\"Aleksei Nikiforov\",\"S\\u00e1ndor G\\u00e1rdos\"],\"legendgroup\":\"2001\",\"line\":{\"color\":\"rgba(255,255,255,0)\"},\"marker\":{\"color\":\"#19d3f3\"},\"name\":\"2001\",\"offsetgroup\":\"2001\",\"orientation\":\"v\",\"pointpos\":0,\"showlegend\":true,\"x\":[\"K2\",\"Makalu\",\"Cho Oyu\",\"Dhaulagiri I\",\"Dhaulagiri I\",\"Dhaulagiri I\",\"Dhaulagiri I\",\"Manaslu\",\"Gasherbrum I\",\"Gasherbrum II\",\"Mount Everest\",\"Mount Everest\",\"Mount Everest\",\"Mount Everest\",\"Mount Everest\"],\"x0\":\" \",\"xaxis\":\"x\",\"y\":[\"South Korea\",\"Austria\",\"South Korea\",\"Japan\",\"Japan\",\"Japan\",\"Spain\",\"Nepal\",\"Chile\",\"Belgium\",\"Nepal\",\"Austria\",\"Australia\",\"Russia\",\"Hungary\"],\"y0\":\" \",\"yaxis\":\"y\",\"type\":\"box\"},{\"alignmentgroup\":\"True\",\"boxpoints\":\"all\",\"customdata\":[[\"1999-07-10T00:00:00\"],[\"1999-09-14T00:00:00\"],[\"1999-09-14T00:00:00\"],[\"1999-10-11T00:00:00\"],[\"1999-04-30T00:00:00\"],[\"1999-01-01T00:00:00\"],[\"1999-10-24T00:00:00\"],[\"1999-10-24T00:00:00\"],[\"1999-04-29T00:00:00\"],[\"1999-04-29T00:00:00\"],[\"1999-07-11T00:00:00\"],[\"1999-10-05T00:00:00\"],[\"1999-10-05T00:00:00\"],[\"1999-05-08T00:00:00\"],[\"1999-05-13T00:00:00\"],[\"1999-05-18T00:00:00\"],[\"1999-05-18T00:00:00\"]],\"fillcolor\":\"rgba(255,255,255,0)\",\"hoveron\":\"points\",\"hovertemplate\":\"<b>%{hovertext}</b><br><br>year=1999<br>Mountain=%{x}<br>Nationality=%{y}<br>Date=%{customdata[0]}<extra></extra>\",\"hovertext\":[\"Mihai Cioroianu\",\"Hyun Myeong-kun\",\"Han Do-kyu\",\"Sange Pemba Sherpa\",\"Michael Knakkergaard-J\\u00f8rgensen\",\"Joan Carrillo Junca\",\"Ginette Harrison\",\"Dawa Dorje\",\"Hyun-ok Ji\",\"Dorje Kami\",\"Seung-Kwon Hur\",\"Alex Lowe\",\"David Bridges\",\"Vasyl Kopytko\",\"Michael Matthews\",\"Tadeusz Kudelski\",\"Pascal Debrouwer\"],\"legendgroup\":\"1999\",\"line\":{\"color\":\"rgba(255,255,255,0)\"},\"marker\":{\"color\":\"#FF6692\"},\"name\":\"1999\",\"offsetgroup\":\"1999\",\"orientation\":\"v\",\"pointpos\":0,\"showlegend\":true,\"x\":[\"K2\",\"Kangchenjunga\",\"Kangchenjunga\",\"Makalu\",\"Makalu\",\"Cho Oyu\",\"Dhaulagiri I\",\"Dhaulagiri I\",\"Annapurna I\",\"Annapurna I\",\"Broad Peak\",\"Shishapangma\",\"Shishapangma\",\"Mount Everest\",\"Mount Everest\",\"Mount Everest\",\"Mount Everest\"],\"x0\":\" \",\"xaxis\":\"x\",\"y\":[\"Romania\",\"South Korea\",\"South Korea\",\"Nepal\",\"Denmark\",\"Spain\",\"United Kingdom\",\"Nepal\",\"South Korea\",\"Nepal\",\"South Korea\",\"United States\",\"United States\",\"Ukraine\",\"United Kingdom\",\"Poland\",\"Belgium\"],\"y0\":\" \",\"yaxis\":\"y\",\"type\":\"box\"},{\"alignmentgroup\":\"True\",\"boxpoints\":\"all\",\"customdata\":[[\"1996-08-14T00:00:00\"],[\"1996-07-29T00:00:00\"],[\"1996-05-14T00:00:00\"],[\"1996-10-10T00:00:00\"],[\"1996-10-06T00:00:00\"],[\"1996-04-20T00:00:00\"],[\"1996-10-01T00:00:00\"],[\"1996-06-20T00:00:00\"],[\"1996-06-20T00:00:00\"],[\"1996-07-17T00:00:00\"],[\"1996-07-20T00:00:00\"],[\"1996-07-20T00:00:00\"],[\"1996-07-20T00:00:00\"],[\"1996-10-05T00:00:00\"],[\"1996-10-05T00:00:00\"],[\"1996-05-19T00:00:00\"],[\"1996-05-01T00:00:00\"],[\"1996-05-09T00:00:00\"],[\"1996-05-11T00:00:00\"],[\"1996-05-11T00:00:00\"],[\"1996-05-11T00:00:00\"],[\"1996-05-11T00:00:00\"],[\"1996-05-11T00:00:00\"],[\"1996-05-11T00:00:00\"],[\"1996-05-11T00:00:00\"],[\"1996-05-11T00:00:00\"],[\"1996-05-19T00:00:00\"],[\"1996-05-25T00:00:00\"],[\"1996-06-06T00:00:00\"],[\"1996-09-25T00:00:00\"],[\"1996-09-25T00:00:00\"],[\"1996-09-25T00:00:00\"]],\"fillcolor\":\"rgba(255,255,255,0)\",\"hoveron\":\"points\",\"hovertemplate\":\"<b>%{hovertext}</b><br><br>year=1996<br>Mountain=%{x}<br>Nationality=%{y}<br>Date=%{customdata[0]}<extra></extra>\",\"hovertext\":[\"Igor Benkin\",\"Lorenzo Mazzoleni\",\"Anatoli Chlekht\",\"Lubos Becak\",\"Oya Hiroshi\",\"Friedrich \\\"Fritz\\\" Zintl\",\"Masatsugu Konishi\",\"R\\u0103zvan Petcu\",\"Gabriel Stana\",\"Manuel Alvarez\",\"Dong-keun Han\",\"Jae-mo Yang\",\"Sun-taek Lim\",\"Viktor Pastukh\",\"Gennadi Vasilenko\",\"Ming-Tse Kuo\",\"Stefan Sluka\",\"Chen Yu-Nan\",\"Scott Fischer\",\"Rob Hall\",\"Doug Hansen\",\"Andrew Harris\",\"Yasuko Namba\",\"Dorje Morup\",\"Tsewang Paljor\",\"Tsewang Samanla\",\"Reinhard Wlasich\",\"Bruce Herrod\",\"Ngawang Topche\",\"Yves Bouchon\",\"Lopsang Jangbu\",\"Dawa\"],\"legendgroup\":\"1996\",\"line\":{\"color\":\"rgba(255,255,255,0)\"},\"marker\":{\"color\":\"#B6E880\"},\"name\":\"1996\",\"offsetgroup\":\"1996\",\"orientation\":\"v\",\"pointpos\":0,\"showlegend\":true,\"x\":[\"K2\",\"K2\",\"Makalu\",\"Cho Oyu\",\"Cho Oyu\",\"Cho Oyu\",\"Manaslu\",\"Nanga Parbat\",\"Nanga Parbat\",\"Gasherbrum I\",\"Broad Peak\",\"Broad Peak\",\"Broad Peak\",\"Shishapangma\",\"Shishapangma\",\"Shishapangma\",\"Shishapangma\",\"Mount Everest\",\"Mount Everest\",\"Mount Everest\",\"Mount Everest\",\"Mount Everest\",\"Mount Everest\",\"Mount Everest\",\"Mount Everest\",\"Mount Everest\",\"Mount Everest\",\"Mount Everest\",\"Mount Everest\",\"Mount Everest\",\"Mount Everest\",\"Mount Everest\"],\"x0\":\" \",\"xaxis\":\"x\",\"y\":[\"Russia\",\"Italy\",\"Russia\",\"Czech Republic\",\"Japan\",\"Germany\",\"Japan\",\"Romania\",\"Romania\",\"Spain\",\"South Korea\",\"South Korea\",\"South Korea\",\"Ukraine\",\"Ukraine\",\"Taiwan\",\"Slovakia\",\"Taiwan\",\"United States\",\"New Zealand\",\"United States\",\"New Zealand\",\"Japan\",\"India\",\"India\",\"India\",\"Austria\",\"United Kingdom\",\"Nepal\",\"France\",\"Nepal\",\"Nepal\"],\"y0\":\" \",\"yaxis\":\"y\",\"type\":\"box\"},{\"alignmentgroup\":\"True\",\"boxpoints\":\"all\",\"customdata\":[[\"1995-08-15T00:00:00\"],[\"1995-08-13T00:00:00\"],[\"1995-08-13T00:00:00\"],[\"1995-08-13T00:00:00\"],[\"1995-08-13T00:00:00\"],[\"1995-08-13T00:00:00\"],[\"1995-08-13T00:00:00\"],[\"1995-07-06T00:00:00\"],[\"1995-10-06T00:00:00\"],[\"1995-10-06T00:00:00\"],[\"1995-10-05T00:00:00\"],[\"1995-01-01T00:00:00\"],[\"1995-05-08T00:00:00\"],[\"1995-10-06T00:00:00\"],[\"1995-05-15T00:00:00\"],[\"1995-05-07T00:00:00\"],[\"1995-05-06T00:00:00\"],[\"1995-07-12T00:00:00\"],[\"1995-05-06T00:00:00\"],[\"1995-09-10T00:00:00\"],[\"1995-10-14T00:00:00\"]],\"fillcolor\":\"rgba(255,255,255,0)\",\"hoveron\":\"points\",\"hovertemplate\":\"<b>%{hovertext}</b><br><br>year=1995<br>Mountain=%{x}<br>Nationality=%{y}<br>Date=%{customdata[0]}<extra></extra>\",\"hovertext\":[\"Jeff Lakes\",\"Bruce Grant\",\"Rob Slater\",\"Alison Hargreaves\",\"Javier Escartin\",\"Javier Olivar\",\"Lorenzo Ortiz\",\"Jordi Angl\\u00e8s\",\"Beno\\u00eet Chamoux\",\"Riku Sherpa\",\"Pierre Alain Royer\",\"Sukaraj Limbu\",\"David Victor Hume\",\"Isayoshi Tawaraya\",\"Albrecht Hammann\",\"Michael Zunk\",\"J\\u00f6rg Starke\",\"Hyun-jae Park\",\"Kami Rita\",\"Lhakpa Nuru\",\"Zangbu\"],\"legendgroup\":\"1995\",\"line\":{\"color\":\"rgba(255,255,255,0)\"},\"marker\":{\"color\":\"#FF97FF\"},\"name\":\"1995\",\"offsetgroup\":\"1995\",\"orientation\":\"v\",\"pointpos\":0,\"showlegend\":true,\"x\":[\"K2\",\"K2\",\"K2\",\"K2\",\"K2\",\"K2\",\"K2\",\"K2\",\"Kangchenjunga\",\"Kangchenjunga\",\"Kangchenjunga\",\"Kangchenjunga\",\"Makalu\",\"Dhaulagiri I\",\"Dhaulagiri I\",\"Manaslu\",\"Manaslu\",\"Broad Peak\",\"Mount Everest\",\"Mount Everest\",\"Mount Everest\"],\"x0\":\" \",\"xaxis\":\"x\",\"y\":[\"Canada\",\"New Zealand\",\"United States\",\"United Kingdom\",\"Spain\",\"Spain\",\"Spain\",\"Spain\",\"France\",\"Nepal\",\"France\",\"Nepal\",\"Australia\",\"Japan\",\"Germany\",\"Germany\",\"Germany\",\"South Korea\",\"Nepal\",\"Nepal\",\"Nepal\"],\"y0\":\" \",\"yaxis\":\"y\",\"type\":\"box\"},{\"alignmentgroup\":\"True\",\"boxpoints\":\"all\",\"customdata\":[[\"1994-08-11T00:00:00\"],[\"1994-07-24T00:00:00\"],[\"1994-07-10T00:00:00\"],[\"1994-07-10T00:00:00\"],[\"1994-07-10T00:00:00\"],[\"1994-10-23T00:00:00\"],[\"1994-10-09T00:00:00\"],[\"1994-10-09T00:00:00\"],[\"1994-10-08T00:00:00\"],[\"1994-01-24T00:00:00\"],[\"1994-01-24T00:00:00\"],[\"1994-10-18T00:00:00\"],[\"1994-09-26T00:00:00\"],[\"1994-06-24T00:00:00\"],[\"1994-06-22T00:00:00\"],[\"1994-06-11T00:00:00\"],[\"1994-10-01T00:00:00\"],[\"1994-09-18T00:00:00\"],[\"1994-04-06T00:00:00\"],[\"1994-05-09T00:00:00\"],[\"1994-05-18T00:00:00\"],[\"1994-05-27T00:00:00\"],[\"1994-09-12T00:00:00\"]],\"fillcolor\":\"rgba(255,255,255,0)\",\"hoveron\":\"points\",\"hovertemplate\":\"<b>%{hovertext}</b><br><br>year=1994<br>Mountain=%{x}<br>Nationality=%{y}<br>Date=%{customdata[0]}<extra></extra>\",\"hovertext\":[\"Juan Antonio \\\"Atxo\\\" Apell\\u00e1niz\",\"Steve Untch\",\"Dmitri Ibragim-Zade\",\"Aleksandr Parkhomenko\",\"Aleksei Kharaldin\",\"Iordanka Ivanova Dimitrova\",\"Sergei Zhvirblya\",\"Ekaterina Ivanova\",\"Lhakpa Gyalu Sherpa\",\"Juan Carlos Piedra\",\"Jean-Luc Beausire\",\"Galina Chekanova\",\"Robert B\\u00e4hler\",\"Antonio Lopez\",\"Alexej Himer\",\"Bohuslav Bilek\",\"Zdenek Slachta\",\"Tod Gassen\",\"Prem Thapa\",\"Shih Fang-Fang 'Norman'\",\"Giuseppe Vigani\",\"Mike Rheinberger\",\"Mingma Norbu\"],\"legendgroup\":\"1994\",\"line\":{\"color\":\"rgba(255,255,255,0)\"},\"marker\":{\"color\":\"#FECB52\"},\"name\":\"1994\",\"offsetgroup\":\"1994\",\"orientation\":\"v\",\"pointpos\":0,\"showlegend\":true,\"x\":[\"K2\",\"K2\",\"K2\",\"K2\",\"K2\",\"Kangchenjunga\",\"Kangchenjunga\",\"Kangchenjunga\",\"Cho Oyu\",\"Cho Oyu\",\"Cho Oyu\",\"Dhaulagiri I\",\"Dhaulagiri I\",\"Nanga Parbat\",\"Broad Peak\",\"Broad Peak\",\"Shishapangma\",\"Shishapangma\",\"Mount Everest\",\"Mount Everest\",\"Mount Everest\",\"Mount Everest\",\"Mount Everest\"],\"x0\":\" \",\"xaxis\":\"x\",\"y\":[\"Spain\",\"United States\",\"Ukraine\",\"Ukraine\",\"Ukraine\",\"Bulgaria\",\"Belarus\",\"Russia\",\"Nepal\",\"Switzerland\",\"Switzerland\",\"Ukraine\",\"Switzerland\",\"Spain\",\"Czech Republic\",\"Czech Republic\",\"Czech Republic\",\"United States\",\"Nepal\",\"Taiwan\",\"Italy\",\"Australia\",\"Nepal\"],\"y0\":\" \",\"yaxis\":\"y\",\"type\":\"box\"},{\"alignmentgroup\":\"True\",\"boxpoints\":\"all\",\"customdata\":[[\"1993-07-31T00:00:00\"],[\"1993-07-30T00:00:00\"],[\"1993-07-30T00:00:00\"],[\"1993-07-07T00:00:00\"],[\"1993-06-15T00:00:00\"],[\"1993-10-06T00:00:00\"],[\"1993-10-22T00:00:00\"],[\"1993-10-21T00:00:00\"],[\"1993-07-07T00:00:00\"],[\"1993-05-30T00:00:00\"],[\"1993-09-29T00:00:00\"],[\"1993-01-15T00:00:00\"],[\"1993-04-23T00:00:00\"],[\"1993-04-23T00:00:00\"],[\"1993-05-10T00:00:00\"],[\"1993-05-16T00:00:00\"],[\"1993-05-17T00:00:00\"],[\"1993-10-05T00:00:00\"],[\"1993-10-07T00:00:00\"]],\"fillcolor\":\"rgba(255,255,255,0)\",\"hoveron\":\"points\",\"hovertemplate\":\"<b>%{hovertext}</b><br><br>year=1993<br>Mountain=%{x}<br>Nationality=%{y}<br>Date=%{customdata[0]}<extra></extra>\",\"hovertext\":[\"Daniel Bidner\",\"Reinmar Joswig\",\"Peter Mezger\",\"Dan Culver\",\"Bo\\u0161tjan Kekec\",\"Gary Ball\",\"Sergei Jadrychnikov\",\"Igor Khmiliar\",\"Chun-moon Ahn\",\"Paolo Bernascone\",\"Bueoung-tae Park\",\"Ang Tshering\",\"Pasang Lhamu Sherpa\",\"Sonam Tshering\",\"Lobsang Tshering Bhutia\",\"Nam Won-woo\",\"A Jin-seob\",\"Karl Henize\",\"Antonio Miranda\"],\"legendgroup\":\"1993\",\"line\":{\"color\":\"rgba(255,255,255,0)\"},\"marker\":{\"color\":\"#636efa\"},\"name\":\"1993\",\"offsetgroup\":\"1993\",\"orientation\":\"v\",\"pointpos\":0,\"showlegend\":true,\"x\":[\"K2\",\"K2\",\"K2\",\"K2\",\"K2\",\"Dhaulagiri I\",\"Manaslu\",\"Manaslu\",\"Nanga Parbat\",\"Gasherbrum I\",\"Shishapangma\",\"Mount Everest\",\"Mount Everest\",\"Mount Everest\",\"Mount Everest\",\"Mount Everest\",\"Mount Everest\",\"Mount Everest\",\"Mount Everest\"],\"x0\":\" \",\"xaxis\":\"x\",\"y\":[\"Sweden\",\"Germany\",\"Germany\",\"Canada\",\"Slovenia\",\"New Zealand\",\"Russia\",\"Russia\",\"South Korea\",\"Italy\",\"South Korea\",\"Nepal\",\"Nepal\",\"Nepal\",\"Nepal\",\"South Korea\",\"South Korea\",\"United States\",\"Spain\"],\"y0\":\" \",\"yaxis\":\"y\",\"type\":\"box\"},{\"alignmentgroup\":\"True\",\"boxpoints\":\"all\",\"customdata\":[[\"1992-08-14T00:00:00\"],[\"1992-05-13T00:00:00\"],[\"1992-04-25T00:00:00\"],[\"1992-04-25T00:00:00\"],[\"1992-05-20T00:00:00\"],[\"1992-05-11T00:00:00\"],[\"1992-05-11T00:00:00\"],[\"1992-05-02T00:00:00\"],[\"1992-10-03T00:00:00\"],[\"1992-10-02T00:00:00\"],[\"1992-10-11T00:00:00\"],[\"1992-05-02T00:00:00\"],[\"1992-05-02T00:00:00\"],[\"1992-05-11T00:00:00\"],[\"1992-05-23T00:00:00\"],[\"1992-05-23T00:00:00\"]],\"fillcolor\":\"rgba(255,255,255,0)\",\"hoveron\":\"points\",\"hovertemplate\":\"<b>%{hovertext}</b><br><br>year=1992<br>Mountain=%{x}<br>Nationality=%{y}<br>Date=%{customdata[0]}<extra></extra>\",\"hovertext\":[\"Adri\\u00e1n Ben\\u00edtez\",\"Wanda Rutkiewicz\",\"Ang Dorje Sherpa\",\"Lhakpa Nuru Sherpa\",\"Philippe Gerard Arnold Monnerat\",\"Sanda Dumitrescu-Isaila\",\"Taina Coliban\",\"Hubert Weinzierl\",\"Sven Vermeiren\",\"Sylwia Dmowska\",\"Pierre B\\u00e9ghin\",\"Deepak Kulkarni\",\"Raymond Jacob\",\"Subba Singh\",\"Sher Singh\",\"Manabu Hoshi\"],\"legendgroup\":\"1992\",\"line\":{\"color\":\"rgba(255,255,255,0)\"},\"marker\":{\"color\":\"#EF553B\"},\"name\":\"1992\",\"offsetgroup\":\"1992\",\"orientation\":\"v\",\"pointpos\":0,\"showlegend\":true,\"x\":[\"K2\",\"Kangchenjunga\",\"Kangchenjunga\",\"Kangchenjunga\",\"Cho Oyu\",\"Dhaulagiri I\",\"Dhaulagiri I\",\"Dhaulagiri I\",\"Manaslu\",\"Manaslu\",\"Annapurna I\",\"Mount Everest\",\"Mount Everest\",\"Mount Everest\",\"Mount Everest\",\"Mount Everest\"],\"x0\":\" \",\"xaxis\":\"x\",\"y\":[\"Mexico\",\"Poland\",\"Nepal\",\"Nepal\",\"Switzerland\",\"Romania\",\"Romania\",\"Germany\",\"Belgium\",\"Poland\",\"France\",\"India\",\"India\",\"Nepal\",\"India\",\"Japan\"],\"y0\":\" \",\"yaxis\":\"y\",\"type\":\"box\"},{\"alignmentgroup\":\"True\",\"boxpoints\":\"all\",\"customdata\":[[\"1989-07-28T00:00:00\"],[\"1989-12-20T00:00:00\"],[\"1989-12-20T00:00:00\"],[\"1989-12-20T00:00:00\"],[\"1989-10-24T00:00:00\"],[\"1989-12-25T00:00:00\"],[\"1989-12-25T00:00:00\"],[\"1989-12-25T00:00:00\"],[\"1989-12-25T00:00:00\"],[\"1989-10-10T00:00:00\"],[\"1989-09-25T00:00:00\"],[\"1989-09-25T00:00:00\"],[\"1989-05-07T00:00:00\"],[\"1989-07-18T00:00:00\"],[\"1989-06-23T00:00:00\"],[\"1989-10-28T00:00:00\"],[\"1989-10-28T00:00:00\"],[\"1989-07-12T00:00:00\"],[\"1989-07-13T00:00:00\"],[\"1989-10-04T00:00:00\"],[\"1989-05-10T00:00:00\"],[\"1989-05-16T00:00:00\"],[\"1989-05-27T00:00:00\"],[\"1989-05-27T00:00:00\"],[\"1989-05-27T00:00:00\"],[\"1989-05-27T00:00:00\"],[\"1989-05-28T00:00:00\"],[\"1989-12-12T00:00:00\"]],\"fillcolor\":\"rgba(255,255,255,0)\",\"hoveron\":\"points\",\"hovertemplate\":\"<b>%{hovertext}</b><br><br>year=1989<br>Mountain=%{x}<br>Nationality=%{y}<br>Date=%{customdata[0]}<extra></extra>\",\"hovertext\":[\"Hans B\\u00e4rnthaler\",\"Tchiring Chumbi Lama Sherpa\",\"Ang Dawa Sherpa\",\"Jin Kyo-sup\",\"Jerzy Kukuczka\",\"Ang Lhakpa Nuru Sherpa\",\"Scot McGrath\",\"Gregory Barber\",\"Wangchuk Nuru\",\"Francesc (Quico) Dalmases\",\"Sarki Kami\",\"Ajiwa\",\"Santiago Suarez\",\"Tetsuya Baba\",\"Kwang-ho Kim\",\"Milan Metkov\",\"Ognian Stoykov\",\"Dorje Tsindi\",\"Antton Ibarguren\",\"Luca Leonardi\",\"Dimitar Ilievski-Murato\",\"Phu Dorje\",\"Miros\\u0142aw D\\u0105sal\",\"Miros\\u0142aw Gardzielewski\",\"Andrzej Heinrich\",\"Wac\\u0142aw Otr\\u0119ba\",\"Eugeniusz Chrobak\",\"Ang Pinjo\"],\"legendgroup\":\"1989\",\"line\":{\"color\":\"rgba(255,255,255,0)\"},\"marker\":{\"color\":\"#00cc96\"},\"name\":\"1989\",\"offsetgroup\":\"1989\",\"orientation\":\"v\",\"pointpos\":0,\"showlegend\":true,\"x\":[\"K2\",\"Kangchenjunga\",\"Kangchenjunga\",\"Kangchenjunga\",\"Lhotse\",\"Cho Oyu\",\"Dhaulagiri I\",\"Dhaulagiri I\",\"Dhaulagiri I\",\"Dhaulagiri I\",\"Dhaulagiri I\",\"Dhaulagiri I\",\"Manaslu\",\"Nanga Parbat\",\"Nanga Parbat\",\"Annapurna I\",\"Annapurna I\",\"Gasherbrum I\",\"Gasherbrum II\",\"Shishapangma\",\"Mount Everest\",\"Mount Everest\",\"Mount Everest\",\"Mount Everest\",\"Mount Everest\",\"Mount Everest\",\"Mount Everest\",\"Mount Everest\"],\"x0\":\" \",\"xaxis\":\"x\",\"y\":[\"Austria\",\"Nepal\",\"Nepal\",\"South Korea\",\"Poland\",\"Nepal\",\"United States\",\"United States\",\"Nepal\",\"Spain\",\"Nepal\",\"Nepal\",\"Spain\",\"Japan\",\"South Korea\",\"Bulgaria\",\"Bulgaria\",\"Nepal\",\"Spain\",\"Switzerland\",\"Yugoslavia\",\"Nepal\",\"Poland\",\"Poland\",\"Poland\",\"Poland\",\"Poland\",\"Nepal\"],\"y0\":\" \",\"yaxis\":\"y\",\"type\":\"box\"},{\"alignmentgroup\":\"True\",\"boxpoints\":\"all\",\"customdata\":[[\"1987-08-24T00:00:00\"],[\"1987-05-31T00:00:00\"],[\"1987-05-25T00:00:00\"],[\"1987-05-25T00:00:00\"],[\"1987-05-25T00:00:00\"],[\"1987-09-27T00:00:00\"],[\"1987-09-27T00:00:00\"],[\"1987-09-27T00:00:00\"],[\"1987-09-27T00:00:00\"],[\"1987-09-15T00:00:00\"],[\"1987-10-28T00:00:00\"],[\"1987-12-20T00:00:00\"],[\"1987-12-20T00:00:00\"],[\"1987-05-24T00:00:00\"],[\"1987-07-29T00:00:00\"],[\"1987-07-29T00:00:00\"],[\"1987-07-29T00:00:00\"],[\"1987-07-29T00:00:00\"],[\"1987-06-29T00:00:00\"],[\"1987-01-30T00:00:00\"],[\"1987-05-21T00:00:00\"],[\"1987-09-02T00:00:00\"],[\"1987-10-20T00:00:00\"]],\"fillcolor\":\"rgba(255,255,255,0)\",\"hoveron\":\"points\",\"hovertemplate\":\"<b>%{hovertext}</b><br><br>year=1987<br>Mountain=%{x}<br>Nationality=%{y}<br>Date=%{customdata[0]}<extra></extra>\",\"hovertext\":[\"Suzuki Akira\",\"Chander Singh\",\"Choten Tsering\",\"Phupu Bhotia\",\"Phu Dorjee Sherpa\",\"Antoni \\\"Toni\\\" Sors Ferrer\",\"Sergio Reinaldo Escalera Fernandez\",\"Francisco Porras Cerda\",\"Antonio Qui\\u00f1ones Tores\",\"Czes\\u0142aw Jakiel\",\"Ichigi Kudo\",\"Toshiyuki Kobayashi\",\"Yasuhira Saito\",\"Andres Ferrer\",\"Mohsin Ali\",\"Fakhar-ul-Islam\",\"Fayyaz Hussain\",\"Khalid Khan\",\"Jean-Pierre Hefti\",\"Tsuttin Dorje\",\"Roger Marshall\",\"Masao Yokoyama\",\"Mangal Singh\"],\"legendgroup\":\"1987\",\"line\":{\"color\":\"rgba(255,255,255,0)\"},\"marker\":{\"color\":\"#ab63fa\"},\"name\":\"1987\",\"offsetgroup\":\"1987\",\"orientation\":\"v\",\"pointpos\":0,\"showlegend\":true,\"x\":[\"K2\",\"Kangchenjunga\",\"Kangchenjunga\",\"Kangchenjunga\",\"Kangchenjunga\",\"Lhotse\",\"Lhotse\",\"Lhotse\",\"Lhotse\",\"Lhotse\",\"Manaslu\",\"Annapurna I\",\"Annapurna I\",\"Annapurna I\",\"Gasherbrum I\",\"Gasherbrum I\",\"Gasherbrum I\",\"Gasherbrum I\",\"Gasherbrum II\",\"Mount Everest\",\"Mount Everest\",\"Mount Everest\",\"Mount Everest\"],\"x0\":\" \",\"xaxis\":\"x\",\"y\":[\"Japan\",\"India\",\"India\",\"India\",\"India\",\"Spain\",\"Spain\",\"Spain\",\"Spain\",\"Poland\",\"Japan\",\"Japan\",\"Japan\",\"Spain\",\"Pakistan\",\"Pakistan\",\"Pakistan\",\"Pakistan\",\"Switzerland\",\"Nepal\",\"Canada\",\"Japan\",\"Nepal\"],\"y0\":\" \",\"yaxis\":\"y\",\"type\":\"box\"},{\"alignmentgroup\":\"True\",\"boxpoints\":\"all\",\"customdata\":[[\"1986-08-10T00:00:00\"],[\"1986-08-10T00:00:00\"],[\"1986-08-10T00:00:00\"],[\"1986-08-10T00:00:00\"],[\"1986-08-07T00:00:00\"],[\"1986-08-04T00:00:00\"],[\"1986-08-03T00:00:00\"],[\"1986-07-16T00:00:00\"],[\"1986-07-10T00:00:00\"],[\"1986-06-24T00:00:00\"],[\"1986-06-24T00:00:00\"],[\"1986-06-21T00:00:00\"],[\"1986-06-21T00:00:00\"],[\"1986-01-11T00:00:00\"],[\"1986-10-30T00:00:00\"],[\"1986-09-25T00:00:00\"],[\"1986-01-01T00:00:00\"],[\"1986-10-23T00:00:00\"],[\"1986-09-21T00:00:00\"],[\"1986-05-04T00:00:00\"],[\"1986-05-03T00:00:00\"],[\"1986-09-23T00:00:00\"],[\"1986-08-18T00:00:00\"],[\"1986-05-31T00:00:00\"],[\"1986-08-22T00:00:00\"],[\"1986-07-12T00:00:00\"],[\"1986-08-16T00:00:00\"],[\"1986-09-28T00:00:00\"],[\"1986-10-04T00:00:00\"],[\"1986-10-17T00:00:00\"]],\"fillcolor\":\"rgba(255,255,255,0)\",\"hoveron\":\"points\",\"hovertemplate\":\"<b>%{hovertext}</b><br><br>year=1986<br>Mountain=%{x}<br>Nationality=%{y}<br>Date=%{customdata[0]}<extra></extra>\",\"hovertext\":[\"Dobros\\u0142awa Miodowicz-Wolf\",\"Alfred Imitzer\",\"Hannes Wieser\",\"Alan Rouse\",\"Julie Tullis\",\"Mohammad Ali\",\"Wojciech Wr\\u00f3\\u017c\\u00a0[pl]\",\"Renato Casarotto\",\"Tadeusz Piotrowski\",\"Maurice Barrard\",\"Liliane Barrard\",\"John Smolich\",\"Alan Pennington\",\"Andrzej \\\"Leszek\\\" Czok\",\"Pedro Alonso Lopez\",\"Marcel R\\u00fcedi\",\"Kancha Gurung\",\"Pierre-Alain Steiner\",\"Franz M\\u00fclleder\",\"Dieter Oberbichler\",\"Wilhelm Klaiber\",\"Benoit Grison\",\"Andreas B\\u00fchrer\",\"Muhammad Ali Ghulam\",\"Liam Scott Elliott\",\"Carlos Rabago\",\"V\\u00edctor Hugo Trujillo\",\"Simon Burkhardt\",\"Gyalu\",\"Dawa Norbu\"],\"legendgroup\":\"1986\",\"line\":{\"color\":\"rgba(255,255,255,0)\"},\"marker\":{\"color\":\"#FFA15A\"},\"name\":\"1986\",\"offsetgroup\":\"1986\",\"orientation\":\"v\",\"pointpos\":0,\"showlegend\":true,\"x\":[\"K2\",\"K2\",\"K2\",\"K2\",\"K2\",\"K2\",\"K2\",\"K2\",\"K2\",\"K2\",\"K2\",\"K2\",\"K2\",\"Kangchenjunga\",\"Lhotse\",\"Makalu\",\"Makalu\",\"Cho Oyu\",\"Dhaulagiri I\",\"Manaslu\",\"Manaslu\",\"Annapurna I\",\"Gasherbrum I\",\"Gasherbrum I\",\"Broad Peak\",\"Gasherbrum II\",\"Mount Everest\",\"Mount Everest\",\"Mount Everest\",\"Mount Everest\"],\"x0\":\" \",\"xaxis\":\"x\",\"y\":[\"Poland\",\"Austria\",\"Austria\",\"United Kingdom\",\"United Kingdom\",\"Pakistan\",\"Poland\",\"Italy\",\"Poland\",\"France\",\"France\",\"United States\",\"United States\",\"Poland\",\"Spain\",\"Switzerland\",\"Nepal\",\"Switzerland\",\"Austria\",\"Austria\",\"West Germany\",\"France\",\"Switzerland\",\"Pakistan\",\"United Kingdom\",\"Spain\",\"Chile\",\"Switzerland\",\"Nepal\",\"Nepal\"],\"y0\":\" \",\"yaxis\":\"y\",\"type\":\"box\"},{\"alignmentgroup\":\"True\",\"boxpoints\":\"all\",\"customdata\":[[\"1985-07-07T00:00:00\"],[\"1985-04-22T00:00:00\"],[\"1985-01-15T00:00:00\"],[\"1985-10-25T00:00:00\"],[\"1985-10-25T00:00:00\"],[\"1985-05-04T00:00:00\"],[\"1985-07-10T00:00:00\"],[\"1985-08-18T00:00:00\"],[\"1985-05-16T00:00:00\"],[\"1985-07-11T00:00:00\"],[\"1985-06-24T00:00:00\"],[\"1985-05-12T00:00:00\"],[\"1985-09-19T00:00:00\"],[\"1985-10-07T00:00:00\"],[\"1985-10-11T00:00:00\"],[\"1985-10-11T00:00:00\"],[\"1985-10-11T00:00:00\"],[\"1985-10-11T00:00:00\"]],\"fillcolor\":\"rgba(255,255,255,0)\",\"hoveron\":\"points\",\"hovertemplate\":\"<b>%{hovertext}</b><br><br>year=1985<br>Mountain=%{x}<br>Nationality=%{y}<br>Date=%{customdata[0]}<extra></extra>\",\"hovertext\":[\"Daniel Lacroix\",\"Borut Bergant\",\"Chris Howard Chandler\",\"Rafa\\u0142 Cho\\u0142da\",\"Nima Norbu Sherpa\",\"Thomas Juen\",\"Piotr Kalmus\",\"Barbara Koz\\u0142owska\",\"Hans Frick\",\"Pierre Bouygues\",\"Toru Nakano\",\"Juanjo Navarro\",\"Shinichi Ishii\",\"Kiran Inder Kumar\",\"Jai Bahugana\",\"Ranjeet Singh Bakshi\",\"Vijay Pal Singh Negi\",\"M.U. Bhaskar Rao\"],\"legendgroup\":\"1985\",\"line\":{\"color\":\"rgba(255,255,255,0)\"},\"marker\":{\"color\":\"#19d3f3\"},\"name\":\"1985\",\"offsetgroup\":\"1985\",\"orientation\":\"v\",\"pointpos\":0,\"showlegend\":true,\"x\":[\"K2\",\"Kangchenjunga\",\"Kangchenjunga\",\"Lhotse\",\"Manaslu\",\"Manaslu\",\"Nanga Parbat\",\"Broad Peak\",\"Broad Peak\",\"Gasherbrum II\",\"Gasherbrum II\",\"Mount Everest\",\"Mount Everest\",\"Mount Everest\",\"Mount Everest\",\"Mount Everest\",\"Mount Everest\",\"Mount Everest\"],\"x0\":\" \",\"xaxis\":\"x\",\"y\":[\"France\",\"Yugoslavia\",\"United States\",\"Poland\",\"Nepal\",\"Austria\",\"Poland\",\"Poland\",\"Canada\",\"France\",\"Japan\",\"Spain\",\"Japan\",\"India\",\"India\",\"India\",\"India\",\"India\"],\"y0\":\" \",\"yaxis\":\"y\",\"type\":\"box\"},{\"alignmentgroup\":\"True\",\"boxpoints\":\"all\",\"customdata\":[[\"1982-08-15T00:00:00\"],[\"1982-07-30T00:00:00\"],[\"1982-09-26T00:00:00\"],[\"1982-05-19T00:00:00\"],[\"1982-12-18T00:00:00\"],[\"1982-05-10T00:00:00\"],[\"1982-05-10T00:00:00\"],[\"1982-06-08T00:00:00\"],[\"1982-06-12T00:00:00\"],[\"1982-06-04T00:00:00\"],[\"1982-04-28T00:00:00\"],[\"1982-10-18T00:00:00\"],[\"1982-10-18T00:00:00\"],[\"1982-10-17T00:00:00\"],[\"1982-05-12T00:00:00\"],[\"1982-05-04T00:00:00\"],[\"1982-07-01T00:00:00\"],[\"1982-07-01T00:00:00\"],[\"1982-07-02T00:00:00\"],[\"1982-05-15T00:00:00\"],[\"1982-05-17T00:00:00\"],[\"1982-05-17T00:00:00\"],[\"1982-08-31T00:00:00\"],[\"1982-08-31T00:00:00\"],[\"1982-08-31T00:00:00\"],[\"1982-09-02T00:00:00\"],[\"1982-09-27T00:00:00\"],[\"1982-10-14T00:00:00\"],[\"1982-12-28T00:00:00\"],[\"1982-12-28T00:00:00\"]],\"fillcolor\":\"rgba(255,255,255,0)\",\"hoveron\":\"points\",\"hovertemplate\":\"<b>%{hovertext}</b><br><br>year=1982<br>Mountain=%{x}<br>Nationality=%{y}<br>Date=%{customdata[0]}<extra></extra>\",\"hovertext\":[\"Yanagisawa Yukihiro\",\"Halina Kr\\u00fcger-Syrokomska\",\"Tadeusz Szulc\",\"Reinhard Karl\",\"Takashi Sakuma\",\"Pere Aymerich\",\"Enric Font\",\"Peter Hiltbrand\",\"Ali Sheikh\",\"Peter Forrer\",\"Matloob Hassan Nuri\",\"Susumu Akimatsu\",\"Miko Ono\",\"Alex MacIntyre\",\"Rai Shanti\",\"Werner B\\u00fcrkli\",\"Norbert Wolf\",\"Gerhard Gruner\",\"Glenn Brindeiro\",\"Marty Hoey\",\"Peter Boardman\",\"Joe Tasker\",\"Ang Chuldim\",\"Dawa Dorje\",\"Pasang Sona\",\"Blair Griffiths\",\"Lhakpa Tshering\",\"Nima Dorje\",\"Yasuo Kato\",\"Toshiaki Kobayashi\"],\"legendgroup\":\"1982\",\"line\":{\"color\":\"rgba(255,255,255,0)\"},\"marker\":{\"color\":\"#FF6692\"},\"name\":\"1982\",\"offsetgroup\":\"1982\",\"orientation\":\"v\",\"pointpos\":0,\"showlegend\":true,\"x\":[\"K2\",\"K2\",\"Makalu\",\"Cho Oyu\",\"Manaslu\",\"Manaslu\",\"Manaslu\",\"Nanga Parbat\",\"Nanga Parbat\",\"Nanga Parbat\",\"Nanga Parbat\",\"Annapurna I\",\"Annapurna I\",\"Annapurna I\",\"Annapurna I\",\"Annapurna I\",\"Gasherbrum II\",\"Gasherbrum II\",\"Gasherbrum II\",\"Mount Everest\",\"Mount Everest\",\"Mount Everest\",\"Mount Everest\",\"Mount Everest\",\"Mount Everest\",\"Mount Everest\",\"Mount Everest\",\"Mount Everest\",\"Mount Everest\",\"Mount Everest\"],\"x0\":\" \",\"xaxis\":\"x\",\"y\":[\"Japan\",\"Poland\",\"Poland\",\"West Germany\",\"Japan\",\"Spain\",\"Spain\",\"Switzerland\",\"Pakistan\",\"Switzerland\",\"Pakistan\",\"Japan\",\"Japan\",\"United Kingdom\",\"Nepal\",\"Switzerland\",\"Austria\",\"West Germany\",\"United States\",\"United States\",\"United Kingdom\",\"United Kingdom\",\"Nepal\",\"Nepal\",\"Nepal\",\"Canada\",\"Nepal\",\"Nepal\",\"Japan\",\"Japan\"],\"y0\":\" \",\"yaxis\":\"y\",\"type\":\"box\"},{\"alignmentgroup\":\"True\",\"boxpoints\":\"all\",\"customdata\":[[\"1979-08-19T00:00:00\"],[\"1979-06-09T00:00:00\"],[\"1979-05-14T00:00:00\"],[\"1979-05-13T00:00:00\"],[\"1979-05-13T00:00:00\"],[\"1979-10-08T00:00:00\"],[\"1979-09-19T00:00:00\"],[\"1979-09-19T00:00:00\"],[\"1979-09-19T00:00:00\"],[\"1979-05-01T00:00:00\"],[\"1979-05-16T00:00:00\"],[\"1979-10-02T00:00:00\"],[\"1979-10-02T00:00:00\"],[\"1979-10-12T00:00:00\"],[\"1979-10-12T00:00:00\"],[\"1979-10-12T00:00:00\"]],\"fillcolor\":\"rgba(255,255,255,0)\",\"hoveron\":\"points\",\"hovertemplate\":\"<b>%{hovertext}</b><br><br>year=1979<br>Mountain=%{x}<br>Nationality=%{y}<br>Date=%{customdata[0]}<extra></extra>\",\"hovertext\":[\"Laskhar Khan\",\"Ali, Son of Kazim\",\"Sherpa Pemba\",\"Jean-Louis Sabarly\",\"Eric Poumailloux\",\"Edgardo Jose Porsellana\",\"Eric Roberts\",\"Maynard Cohick\",\"Gil Harder\",\"Yves Morin\",\"Ang Phu\",\"Ray Genet\",\"Hannelore Schmatz\",\"Wang Hong-bao\",\"Lou Lan [note 5]\",\"Nima Thaxi [note 6]\"],\"legendgroup\":\"1979\",\"line\":{\"color\":\"rgba(255,255,255,0)\"},\"marker\":{\"color\":\"#B6E880\"},\"name\":\"1979\",\"offsetgroup\":\"1979\",\"orientation\":\"v\",\"pointpos\":0,\"showlegend\":true,\"x\":[\"K2\",\"K2\",\"Dhaulagiri I\",\"Dhaulagiri I\",\"Dhaulagiri I\",\"Manaslu\",\"Annapurna I\",\"Annapurna I\",\"Annapurna I\",\"Annapurna I\",\"Mount Everest\",\"Mount Everest\",\"Mount Everest\",\"Mount Everest\",\"Mount Everest\",\"Mount Everest\"],\"x0\":\" \",\"xaxis\":\"x\",\"y\":[\"Pakistan\",\"Pakistan\",\"Nepal\",\"France\",\"France\",\"Argentina\",\"United Kingdom\",\"United States\",\"United States\",\"France\",\"Nepal\",\"United States\",\"West Germany\",\"China\",\"China\",\"China\"],\"y0\":\" \",\"yaxis\":\"y\",\"type\":\"box\"},{\"alignmentgroup\":\"True\",\"boxpoints\":\"all\",\"customdata\":[[\"1978-06-12T00:00:00\"],[\"1978-10-06T00:00:00\"],[\"1978-10-20T00:00:00\"],[\"1978-09-23T00:00:00\"],[\"1978-09-23T00:00:00\"],[\"1978-09-23T00:00:00\"],[\"1978-04-21T00:00:00\"],[\"1978-10-17T00:00:00\"],[\"1978-10-17T00:00:00\"],[\"1978-04-18T00:00:00\"],[\"1978-04-18T00:00:00\"]],\"fillcolor\":\"rgba(255,255,255,0)\",\"hoveron\":\"points\",\"hovertemplate\":\"<b>%{hovertext}</b><br><br>year=1978<br>Mountain=%{x}<br>Nationality=%{y}<br>Date=%{customdata[0]}<extra></extra>\",\"hovertext\":[\"Nick Estcourt\",\"Andrzej M\\u0142ynarczyk\",\"Katsuyoshi Kogure\",\"Kiyoshi Kobayashi\",\"Yujiro Fukasawa\",\"Hiroshi Akuzawa\",\"Katsumi Naganuma\",\"Alison Chadwick-Onyszkiewicz\",\"Vera Watson\",\"Dawa Nuru\",\"Shi Ming-ji\"],\"legendgroup\":\"1978\",\"line\":{\"color\":\"rgba(255,255,255,0)\"},\"marker\":{\"color\":\"#FF97FF\"},\"name\":\"1978\",\"offsetgroup\":\"1978\",\"orientation\":\"v\",\"pointpos\":0,\"showlegend\":true,\"x\":[\"K2\",\"Makalu\",\"Dhaulagiri I\",\"Dhaulagiri I\",\"Dhaulagiri I\",\"Dhaulagiri I\",\"Dhaulagiri I\",\"Annapurna I\",\"Annapurna I\",\"Mount Everest\",\"Mount Everest\"],\"x0\":\" \",\"xaxis\":\"x\",\"y\":[\"United Kingdom\",\"Poland\",\"Japan\",\"Japan\",\"Japan\",\"Japan\",\"Japan\",\"United Kingdom\",\"United States\",\"Nepal\",\"China\"],\"y0\":\" \",\"yaxis\":\"y\",\"type\":\"box\"},{\"alignmentgroup\":\"True\",\"boxpoints\":\"all\",\"customdata\":[[\"1954-06-21T00:00:00\"],[\"1954-09-26T00:00:00\"],[\"1954-06-30T00:00:00\"]],\"fillcolor\":\"rgba(255,255,255,0)\",\"hoveron\":\"points\",\"hovertemplate\":\"<b>%{hovertext}</b><br><br>year=1954<br>Mountain=%{x}<br>Nationality=%{y}<br>Date=%{customdata[0]}<extra></extra>\",\"hovertext\":[\"Mario Puchoz\",\"Dilli Bahadur Verma\",\"Francisco (Paco) Ibanez\"],\"legendgroup\":\"1954\",\"line\":{\"color\":\"rgba(255,255,255,0)\"},\"marker\":{\"color\":\"#FECB52\"},\"name\":\"1954\",\"offsetgroup\":\"1954\",\"orientation\":\"v\",\"pointpos\":0,\"showlegend\":true,\"x\":[\"K2\",\"Makalu\",\"Dhaulagiri I\"],\"x0\":\" \",\"xaxis\":\"x\",\"y\":[\"Italy\",\"Nepal\",\"Argentina\"],\"y0\":\" \",\"yaxis\":\"y\",\"type\":\"box\"},{\"alignmentgroup\":\"True\",\"boxpoints\":\"all\",\"customdata\":[[\"1953-08-10T00:00:00\"]],\"fillcolor\":\"rgba(255,255,255,0)\",\"hoveron\":\"points\",\"hovertemplate\":\"<b>%{hovertext}</b><br><br>year=1953<br>Mountain=%{x}<br>Nationality=%{y}<br>Date=%{customdata[0]}<extra></extra>\",\"hovertext\":[\"Art Gilkey\"],\"legendgroup\":\"1953\",\"line\":{\"color\":\"rgba(255,255,255,0)\"},\"marker\":{\"color\":\"#636efa\"},\"name\":\"1953\",\"offsetgroup\":\"1953\",\"orientation\":\"v\",\"pointpos\":0,\"showlegend\":true,\"x\":[\"K2\"],\"x0\":\" \",\"xaxis\":\"x\",\"y\":[\"United States\"],\"y0\":\" \",\"yaxis\":\"y\",\"type\":\"box\"},{\"alignmentgroup\":\"True\",\"boxpoints\":\"all\",\"customdata\":[[\"1939-07-31T00:00:00\"],[\"1939-07-31T00:00:00\"],[\"1939-07-31T00:00:00\"],[\"1939-07-30T00:00:00\"]],\"fillcolor\":\"rgba(255,255,255,0)\",\"hoveron\":\"points\",\"hovertemplate\":\"<b>%{hovertext}</b><br><br>year=1939<br>Mountain=%{x}<br>Nationality=%{y}<br>Date=%{customdata[0]}<extra></extra>\",\"hovertext\":[\"Pasang Kikuli\",\"Pasang Kitar\",\"Pintso\",\"Dudley Wolfe\"],\"legendgroup\":\"1939\",\"line\":{\"color\":\"rgba(255,255,255,0)\"},\"marker\":{\"color\":\"#EF553B\"},\"name\":\"1939\",\"offsetgroup\":\"1939\",\"orientation\":\"v\",\"pointpos\":0,\"showlegend\":true,\"x\":[\"K2\",\"K2\",\"K2\",\"K2\"],\"x0\":\" \",\"xaxis\":\"x\",\"y\":[\"Nepal\",\"Nepal\",\"Nepal\",\"United States\"],\"y0\":\" \",\"yaxis\":\"y\",\"type\":\"box\"},{\"alignmentgroup\":\"True\",\"boxpoints\":\"all\",\"customdata\":[[\"2019-05-16T00:00:00\"],[\"2019-05-16T00:00:00\"],[\"2019-05-15T00:00:00\"],[\"2019-05-17T00:00:00\"],[\"2019-05-24T00:00:00\"],[\"2019-05-16T00:00:00\"],[\"2019-05-16T00:00:00\"],[\"2019-05-08T00:00:00\"],[\"2019-04-29T00:00:00\"],[\"2019-09-28T00:00:00\"],[\"2019-02-24T00:00:00\"],[\"2019-02-24T00:00:00\"],[\"2019-05-03T00:00:00\"],[\"2019-05-16T00:00:00\"],[\"2019-05-17T00:00:00\"],[\"2019-05-22T00:00:00\"],[\"2019-05-23T00:00:00\"],[\"2019-05-23T00:00:00\"],[\"2019-05-23T00:00:00\"],[\"2019-05-23T00:00:00\"],[\"2019-05-24T00:00:00\"],[\"2019-05-24T00:00:00\"],[\"2019-05-25T00:00:00\"],[\"2019-05-27T00:00:00\"]],\"fillcolor\":\"rgba(255,255,255,0)\",\"hoveron\":\"points\",\"hovertemplate\":\"<b>%{hovertext}</b><br><br>year=2019<br>Mountain=%{x}<br>Nationality=%{y}<br>Date=%{customdata[0]}<extra></extra>\",\"hovertext\":[\"Biplab Baidya\",\"Kuntal Kanrar\",\"Rodrigo Francisco Vivanco Figueroa\",\"Ivan Tomov\",\"Nima Tenji Sherpa\",\"Dipankar Ghosh\",\"Narayan Singh\",\"Richard Leopoldo Hidalgo Jara\",\"Phujung Bhote\",\"Rita Bladyko\",\"Daniele Nardi\",\"Tom Ballard\",\"Wui Kin Chin\",\"S\\u00e9amus (Shay) Lawless\",\"Ravi Thakar\",\"Donald Cash\",\"Nihal Bagwan\",\"Ernst Landgraf\",\"Anjali S Kulkarni\",\"Kalpana Dash\",\"Kevin Hynes\",\"Dhruba Bista\",\"Robin Haynes Fisher\",\"Christopher Jon Kulish\"],\"legendgroup\":\"2019\",\"line\":{\"color\":\"rgba(255,255,255,0)\"},\"marker\":{\"color\":\"#00cc96\"},\"name\":\"2019\",\"offsetgroup\":\"2019\",\"orientation\":\"v\",\"pointpos\":0,\"showlegend\":true,\"x\":[\"Kangchenjunga\",\"Kangchenjunga\",\"Kangchenjunga\",\"Lhotse\",\"Makalu\",\"Makalu\",\"Makalu\",\"Makalu\",\"Cho Oyu\",\"Manaslu\",\"Nanga Parbat\",\"Nanga Parbat\",\"Annapurna I\",\"Mount Everest\",\"Mount Everest\",\"Mount Everest\",\"Mount Everest\",\"Mount Everest\",\"Mount Everest\",\"Mount Everest\",\"Mount Everest\",\"Mount Everest\",\"Mount Everest\",\"Mount Everest\"],\"x0\":\" \",\"xaxis\":\"x\",\"y\":[\"India\",\"India\",\"Chile\",\"Bulgaria\",\"Nepal\",\"India\",\"India\",\"Peru\",\"Nepal\",\"Poland\",\"Italy\",\"United Kingdom\",\"Malaysia\",\"Ireland\",\"India\",\"United States\",\"India\",\"Austria\",\"India\",\"India\",\"Ireland\",\"Nepal\",\"United Kingdom\",\"United States\"],\"y0\":\" \",\"yaxis\":\"y\",\"type\":\"box\"},{\"alignmentgroup\":\"True\",\"boxpoints\":\"all\",\"customdata\":[[\"2000-04-23T00:00:00\"],[\"2000-09-17T00:00:00\"],[\"2000-05-16T00:00:00\"],[\"2000-10-11T00:00:00\"],[\"2000-09-20T00:00:00\"],[\"2000-09-20T00:00:00\"],[\"2000-09-20T00:00:00\"],[\"2000-05-04T00:00:00\"],[\"2000-05-04T00:00:00\"],[\"2000-10-07T00:00:00\"],[\"2000-09-29T00:00:00\"],[\"2000-07-28T00:00:00\"],[\"2000-05-20T00:00:00\"],[\"2000-05-21T00:00:00\"]],\"fillcolor\":\"rgba(255,255,255,0)\",\"hoveron\":\"points\",\"hovertemplate\":\"<b>%{hovertext}</b><br><br>year=2000<br>Mountain=%{x}<br>Nationality=%{y}<br>Date=%{customdata[0]}<extra></extra>\",\"hovertext\":[\"Ang Dawa Tamang\",\"Vladimir Bondarev\",\"Bernd Mehnert\",\"Pavle Milo\\u0161evi\\u0107\",\"Pemba Gyalzen Sherpa\",\"Pasang Nuru Sherpa\",\"Pasang Nima Sherpa\",\"Pavel Bonadyssenko\",\"Noora Toivonen\",\"Gyalzen Chuldim\",\"Soo-ho Lee\",\"Felix I\\u00f1urrategui\",\"Jeppe Stoltz\",\"Yan Genghua\"],\"legendgroup\":\"2000\",\"line\":{\"color\":\"rgba(255,255,255,0)\"},\"marker\":{\"color\":\"#ab63fa\"},\"name\":\"2000\",\"offsetgroup\":\"2000\",\"orientation\":\"v\",\"pointpos\":0,\"showlegend\":true,\"x\":[\"Kangchenjunga\",\"Lhotse\",\"Makalu\",\"Cho Oyu\",\"Cho Oyu\",\"Cho Oyu\",\"Cho Oyu\",\"Cho Oyu\",\"Cho Oyu\",\"Dhaulagiri I\",\"Dhaulagiri I\",\"Gasherbrum II\",\"Mount Everest\",\"Mount Everest\"],\"x0\":\" \",\"xaxis\":\"x\",\"y\":[\"Nepal\",\"Russia\",\"Germany\",\"Yugoslavia\",\"Nepal\",\"Nepal\",\"Nepal\",\"Russia\",\"Finland\",\"Nepal\",\"South Korea\",\"Spain\",\"Denmark\",\"China\"],\"y0\":\" \",\"yaxis\":\"y\",\"type\":\"box\"},{\"alignmentgroup\":\"True\",\"boxpoints\":\"all\",\"customdata\":[[\"1998-05-16T00:00:00\"],[\"1998-05-16T00:00:00\"],[\"1998-09-26T00:00:00\"],[\"1998-05-13T00:00:00\"],[\"1998-04-30T00:00:00\"],[\"1998-10-02T00:00:00\"],[\"1998-05-11T00:00:00\"],[\"1998-05-11T00:00:00\"],[\"1998-05-01T00:00:00\"],[\"1998-10-30T00:00:00\"],[\"1998-10-26T00:00:00\"],[\"1998-07-26T00:00:00\"],[\"1998-04-26T00:00:00\"],[\"1998-08-01T00:00:00\"],[\"1998-08-01T00:00:00\"],[\"1998-08-01T00:00:00\"],[\"1998-08-01T00:00:00\"],[\"1998-07-29T00:00:00\"],[\"1998-07-29T00:00:00\"],[\"1998-05-21T00:00:00\"],[\"1998-05-24T00:00:00\"],[\"1998-05-24T00:00:00\"],[\"1998-05-25T00:00:00\"],[\"1998-05-26T00:00:00\"],[\"1998-07-24T00:00:00\"]],\"fillcolor\":\"rgba(255,255,255,0)\",\"hoveron\":\"points\",\"hovertemplate\":\"<b>%{hovertext}</b><br><br>year=1998<br>Mountain=%{x}<br>Nationality=%{y}<br>Date=%{customdata[0]}<extra></extra>\",\"hovertext\":[\"Shiina Atsushi\",\"Akasaka Kenzo\",\"Alexander \\\"Alex\\\" Jaggi\",\"Gerald Roesner\",\"Viktor Stepanov\",\"Charalampos (Babis) Tsoupras\",\"Chantal Mauduit\",\"Ang Tshering\",\"Nikos Papandreou\",\"Hristo Stantchev\",\"Lenin Granados\",\"Hideki Ohmiya\",\"Ang Tshering\",\"Yoshiumi Hayoshida\",\"Kasunori Kutama\",\"Kasutoshi Naito\",\"Takashi Watanabe\",\"Pascale Bessieres\",\"Eric Escoffier\",\"Andreino Pasini\",\"Sergei Arsentiev\",\"Francys Arsentiev\",\"Mark Jennings\",\"Roger Buick\",\"Shahid Abdul Khader\"],\"legendgroup\":\"1998\",\"line\":{\"color\":\"rgba(255,255,255,0)\"},\"marker\":{\"color\":\"#FFA15A\"},\"name\":\"1998\",\"offsetgroup\":\"1998\",\"orientation\":\"v\",\"pointpos\":0,\"showlegend\":true,\"x\":[\"Kangchenjunga\",\"Kangchenjunga\",\"Cho Oyu\",\"Cho Oyu\",\"Cho Oyu\",\"Dhaulagiri I\",\"Dhaulagiri I\",\"Dhaulagiri I\",\"Dhaulagiri I\",\"Manaslu\",\"Manaslu\",\"Nanga Parbat\",\"Annapurna I\",\"Gasherbrum I\",\"Gasherbrum I\",\"Gasherbrum I\",\"Gasherbrum I\",\"Broad Peak\",\"Broad Peak\",\"Shishapangma\",\"Mount Everest\",\"Mount Everest\",\"Mount Everest\",\"Mount Everest\",\"Mount Everest\"],\"x0\":\" \",\"xaxis\":\"x\",\"y\":[\"Japan\",\"Japan\",\"Switzerland\",\"Germany\",\"Russia\",\"Greece\",\"France\",\"Nepal\",\"Greece\",\"Bulgaria\",\"Colombia\",\"Japan\",\"Nepal\",\"Japan\",\"Japan\",\"Japan\",\"Japan\",\"France\",\"France\",\"Italy\",\"United States\",\"United States\",\"United Kingdom\",\"New Zealand\",\"India\"],\"y0\":\" \",\"yaxis\":\"y\",\"type\":\"box\"},{\"alignmentgroup\":\"True\",\"boxpoints\":\"all\",\"customdata\":[[\"1991-05-16T00:00:00\"],[\"1991-05-03T00:00:00\"],[\"1991-05-03T00:00:00\"],[\"1991-10-08T00:00:00\"],[\"1991-10-02T00:00:00\"],[\"1991-10-21T00:00:00\"],[\"1991-05-11T00:00:00\"],[\"1991-05-10T00:00:00\"],[\"1991-05-10T00:00:00\"],[\"1991-10-20T00:00:00\"],[\"1991-09-19T00:00:00\"],[\"1991-09-19T00:00:00\"],[\"1991-09-19T00:00:00\"],[\"1991-09-19T00:00:00\"],[\"1991-09-19T00:00:00\"],[\"1991-09-19T00:00:00\"],[\"1991-09-20T00:00:00\"],[\"1991-09-20T00:00:00\"],[\"1991-05-22T00:00:00\"],[\"1991-05-22T00:00:00\"],[\"1991-05-22T00:00:00\"],[\"1991-05-22T00:00:00\"],[\"1991-05-03T00:00:00\"],[\"1991-05-27T00:00:00\"]],\"fillcolor\":\"rgba(255,255,255,0)\",\"hoveron\":\"points\",\"hovertemplate\":\"<b>%{hovertext}</b><br><br>year=1991<br>Mountain=%{x}<br>Nationality=%{y}<br>Date=%{customdata[0]}<extra></extra>\",\"hovertext\":[\"Pasang Sherpa\",\"Jo\\u017ee Rozman\",\"Marija Frantar\",\"Ishizaka Takumi\",\"Manuel \\\"Manu\\\" Badiola Otegi\",\"Yuri Grebeniuk\",\"Horst Wasmann\",\"Karl Gro\\u00dfrubatscher\",\"Gottfried Mutschlechner\",\"Gabriel Denamur\",\"Seog-jee Lee\",\"Song-gu Lee\",\"Sange Dawa\",\"Tendi Lhakpa\",\"Jangbu Nurbu\",\"Tenzing\",\"Hidekazu Gomi\",\"Tetsuichi Miyashita\",\"Werner Braun\",\"Werner Meichsner\",\"G\\u00fcnther Semmler\",\"Karl-Heinz Thiele\",\"R\\u00fcdiger Lang\",\"Junichi Futagami\"],\"legendgroup\":\"1991\",\"line\":{\"color\":\"rgba(255,255,255,0)\"},\"marker\":{\"color\":\"#19d3f3\"},\"name\":\"1991\",\"offsetgroup\":\"1991\",\"orientation\":\"v\",\"pointpos\":0,\"showlegend\":true,\"x\":[\"Kangchenjunga\",\"Kangchenjunga\",\"Kangchenjunga\",\"Makalu\",\"Makalu\",\"Cho Oyu\",\"Cho Oyu\",\"Manaslu\",\"Manaslu\",\"Annapurna I\",\"Annapurna I\",\"Annapurna I\",\"Annapurna I\",\"Annapurna I\",\"Annapurna I\",\"Annapurna I\",\"Shishapangma\",\"Shishapangma\",\"Shishapangma\",\"Shishapangma\",\"Shishapangma\",\"Shishapangma\",\"Mount Everest\",\"Mount Everest\"],\"x0\":\" \",\"xaxis\":\"x\",\"y\":[\"India\",\"Yugoslavia\",\"Yugoslavia\",\"Japan\",\"Spain\",\"Soviet Union\",\"Germany\",\"Italy\",\"Italy\",\"Belgium\",\"South Korea\",\"South Korea\",\"Nepal\",\"Nepal\",\"Nepal\",\"Nepal\",\"Japan\",\"Japan\",\"Germany\",\"Germany\",\"Germany\",\"Germany\",\"Germany\",\"Japan\"],\"y0\":\" \",\"yaxis\":\"y\",\"type\":\"box\"},{\"alignmentgroup\":\"True\",\"boxpoints\":\"all\",\"customdata\":[[\"1988-05-17T00:00:00\"],[\"1988-10-14T00:00:00\"],[\"1988-09-29T00:00:00\"],[\"1988-05-12T00:00:00\"],[\"1988-10-18T00:00:00\"],[\"1988-10-01T00:00:00\"],[\"1988-09-29T00:00:00\"],[\"1988-09-29T00:00:00\"],[\"1988-06-25T00:00:00\"],[\"1988-08-20T00:00:00\"],[\"1988-07-09T00:00:00\"],[\"1988-07-06T00:00:00\"],[\"1988-06-25T00:00:00\"],[\"1988-04-21T00:00:00\"],[\"1988-09-20T00:00:00\"],[\"1988-09-21T00:00:00\"],[\"1988-10-13T00:00:00\"],[\"1988-10-13T00:00:00\"],[\"1988-10-17T00:00:00\"],[\"1988-10-17T00:00:00\"],[\"1988-10-17T00:00:00\"],[\"1988-10-17T00:00:00\"],[\"1988-12-23T00:00:00\"]],\"fillcolor\":\"rgba(255,255,255,0)\",\"hoveron\":\"points\",\"hovertemplate\":\"<b>%{hovertext}</b><br><br>year=1988<br>Mountain=%{x}<br>Nationality=%{y}<br>Date=%{customdata[0]}<extra></extra>\",\"hovertext\":[\"Sanjay Borole\",\"Ryszard Ko\\u0142akowski\",\"Daniel Bovero\",\"Stefan W\\u00f6rner\",\"Ramiro Navarrete\",\"Jiri Pelikan\",\"Akihiro Mori\",\"Ang Dawa\",\"Jorge Luis Brito\",\"Yong-il Jang\",\"Gary Silver\",\"Michel Basson\",\"Henri Albet\",\"Hidetaka Mizukoshi\",\"Michel Parmentier\",\"Narayan Shrestha\",\"Lhakpa Sonam\",\"Pasang Temba\",\"Du\\u0161an Bec\\u00edk\",\"Peter Bo\\u017e\\u00edk\",\"Jaroslav Ja\\u0161ko\",\"Jozef Just\",\"Ang Lhakpa\"],\"legendgroup\":\"1988\",\"line\":{\"color\":\"rgba(255,255,255,0)\"},\"marker\":{\"color\":\"#FF6692\"},\"name\":\"1988\",\"offsetgroup\":\"1988\",\"orientation\":\"v\",\"pointpos\":0,\"showlegend\":true,\"x\":[\"Kangchenjunga\",\"Makalu\",\"Cho Oyu\",\"Cho Oyu\",\"Annapurna I\",\"Annapurna I\",\"Annapurna I\",\"Annapurna I\",\"Gasherbrum I\",\"Broad Peak\",\"Gasherbrum II\",\"Gasherbrum II\",\"Gasherbrum II\",\"Mount Everest\",\"Mount Everest\",\"Mount Everest\",\"Mount Everest\",\"Mount Everest\",\"Mount Everest\",\"Mount Everest\",\"Mount Everest\",\"Mount Everest\",\"Mount Everest\"],\"x0\":\" \",\"xaxis\":\"x\",\"y\":[\"India\",\"Poland\",\"France\",\"Switzerland\",\"Ecuador\",\"Czechoslovakia\",\"Japan\",\"Japan\",\"Mexico\",\"South Korea\",\"United States\",\"France\",\"France\",\"Japan\",\"France\",\"Nepal\",\"Nepal\",\"Nepal\",\"Czechoslovakia\",\"Czechoslovakia\",\"Czechoslovakia\",\"Czechoslovakia\",\"Nepal\"],\"y0\":\" \",\"yaxis\":\"y\",\"type\":\"box\"},{\"alignmentgroup\":\"True\",\"boxpoints\":\"all\",\"customdata\":[[\"1981-10-15T00:00:00\"],[\"1981-10-25T00:00:00\"],[\"1981-10-16T00:00:00\"],[\"1981-10-16T00:00:00\"],[\"1981-05-23T00:00:00\"],[\"1981-10-31T00:00:00\"],[\"1981-09-28T00:00:00\"],[\"1981-09-28T00:00:00\"],[\"1981-09-27T00:00:00\"],[\"1981-09-27T00:00:00\"],[\"1981-08-05T00:00:00\"],[\"1981-01-12T00:00:00\"]],\"fillcolor\":\"rgba(255,255,255,0)\",\"hoveron\":\"points\",\"hovertemplate\":\"<b>%{hovertext}</b><br><br>year=1981<br>Mountain=%{x}<br>Nationality=%{y}<br>Date=%{customdata[0]}<extra></extra>\",\"hovertext\":[\"Jean-Jacques Ricouard\",\"Josef Fauchere\",\"Philippe Petten\",\"Pierre Favez\",\"Mario Serrano\",\"Yasuji Kato\",\"Andre Durieux\",\"Yves Favre\",\"Ang Nima\",\"Pemba Tshering\",\"Enric Pujol\",\"Noboru Takenaka\"],\"legendgroup\":\"1981\",\"line\":{\"color\":\"rgba(255,255,255,0)\"},\"marker\":{\"color\":\"#B6E880\"},\"name\":\"1981\",\"offsetgroup\":\"1981\",\"orientation\":\"v\",\"pointpos\":0,\"showlegend\":true,\"x\":[\"Kangchenjunga\",\"Lhotse\",\"Lhotse\",\"Lhotse\",\"Dhaulagiri I\",\"Annapurna I\",\"Annapurna I\",\"Annapurna I\",\"Annapurna I\",\"Annapurna I\",\"Broad Peak\",\"Mount Everest\"],\"x0\":\" \",\"xaxis\":\"x\",\"y\":[\"France\",\"Switzerland\",\"Switzerland\",\"Switzerland\",\"Argentina\",\"Japan\",\"France\",\"France\",\"Nepal\",\"Nepal\",\"Spain\",\"Japan\"],\"y0\":\" \",\"yaxis\":\"y\",\"type\":\"box\"},{\"alignmentgroup\":\"True\",\"boxpoints\":\"all\",\"customdata\":[[\"1980-05-04T00:00:00\"],[\"1980-05-04T00:00:00\"],[\"1980-05-17T00:00:00\"],[\"1980-04-28T00:00:00\"],[\"1980-10-07T00:00:00\"],[\"1980-05-02T00:00:00\"],[\"1980-09-06T00:00:00\"],[\"1980-09-22T00:00:00\"]],\"fillcolor\":\"rgba(255,255,255,0)\",\"hoveron\":\"points\",\"hovertemplate\":\"<b>%{hovertext}</b><br><br>year=1980<br>Mountain=%{x}<br>Nationality=%{y}<br>Date=%{customdata[0]}<extra></extra>\",\"hovertext\":[\"Alfonso Medina Rubio\",\"Sergio Hugo Salda\\u00f1a Meneses\",\"Pasang Nima Sherpa\",\"Nicolas Jaeger\",\"Lynette R. Griffith\",\"Akira Ube\",\"Nawang Kersang\",\"Mario Piana\"],\"legendgroup\":\"1980\",\"line\":{\"color\":\"rgba(255,255,255,0)\"},\"marker\":{\"color\":\"#FF97FF\"},\"name\":\"1980\",\"offsetgroup\":\"1980\",\"orientation\":\"v\",\"pointpos\":0,\"showlegend\":true,\"x\":[\"Kangchenjunga\",\"Kangchenjunga\",\"Lhotse\",\"Lhotse\",\"Dhaulagiri I\",\"Mount Everest\",\"Mount Everest\",\"Mount Everest\"],\"x0\":\" \",\"xaxis\":\"x\",\"y\":[\"Mexico\",\"Mexico\",\"Nepal\",\"France\",\"Australia\",\"Japan\",\"Nepal\",\"Italy\"],\"y0\":\" \",\"yaxis\":\"y\",\"type\":\"box\"},{\"alignmentgroup\":\"True\",\"boxpoints\":\"all\",\"customdata\":[[\"1977-04-08T00:00:00\"],[\"1977-05-12T00:00:00\"],[\"1977-07-31T00:00:00\"],[\"1977-07-31T00:00:00\"],[\"1977-06-10T00:00:00\"]],\"fillcolor\":\"rgba(255,255,255,0)\",\"hoveron\":\"points\",\"hovertemplate\":\"<b>%{hovertext}</b><br><br>year=1977<br>Mountain=%{x}<br>Nationality=%{y}<br>Date=%{customdata[0]}<extra></extra>\",\"hovertext\":[\"Sukhvinder Singh\",\"Max Lutz\",\"Robert Broughton\",\"George Bogel\",\"Drago Bregar\"],\"legendgroup\":\"1977\",\"line\":{\"color\":\"rgba(255,255,255,0)\"},\"marker\":{\"color\":\"#FECB52\"},\"name\":\"1977\",\"offsetgroup\":\"1977\",\"orientation\":\"v\",\"pointpos\":0,\"showlegend\":true,\"x\":[\"Kangchenjunga\",\"Lhotse\",\"Nanga Parbat\",\"Nanga Parbat\",\"Gasherbrum I\"],\"x0\":\" \",\"xaxis\":\"x\",\"y\":[\"India\",\"West Germany\",\"United States\",\"United States\",\"Yugoslavia\"],\"y0\":\" \",\"yaxis\":\"y\",\"type\":\"box\"},{\"alignmentgroup\":\"True\",\"boxpoints\":\"all\",\"customdata\":[[\"1973-05-15T00:00:00\"],[\"1973-05-21T00:00:00\"],[\"1973-09-26T00:00:00\"],[\"1973-09-26T00:00:00\"],[\"1973-05-18T00:00:00\"],[\"1973-05-18T00:00:00\"],[\"1973-05-18T00:00:00\"],[\"1973-05-18T00:00:00\"],[\"1973-05-18T00:00:00\"],[\"1973-10-12T00:00:00\"]],\"fillcolor\":\"rgba(255,255,255,0)\",\"hoveron\":\"points\",\"hovertemplate\":\"<b>%{hovertext}</b><br><br>year=1973<br>Mountain=%{x}<br>Nationality=%{y}<br>Date=%{customdata[0]}<extra></extra>\",\"hovertext\":[\"Matsuda Takao\",\"Jan Kounick\\u00fd\",\"Leo Cerruti\",\"Miller Rava\",\"Tadashi Ushigoe\",\"Sadatoshi Takahashi\",\"Masanori Hama\",\"Kazumi Katagiri\",\"Rinje\",\"Jangbu\"],\"legendgroup\":\"1973\",\"line\":{\"color\":\"rgba(255,255,255,0)\"},\"marker\":{\"color\":\"#636efa\"},\"name\":\"1973\",\"offsetgroup\":\"1973\",\"orientation\":\"v\",\"pointpos\":0,\"showlegend\":true,\"x\":[\"Kangchenjunga\",\"Makalu\",\"Annapurna I\",\"Annapurna I\",\"Annapurna I\",\"Annapurna I\",\"Annapurna I\",\"Annapurna I\",\"Annapurna I\",\"Mount Everest\"],\"x0\":\" \",\"xaxis\":\"x\",\"y\":[\"Japan\",\"Czechoslovakia\",\"Italy\",\"Italy\",\"Japan\",\"Japan\",\"Japan\",\"Japan\",\"Nepal\",\"Nepal\"],\"y0\":\" \",\"yaxis\":\"y\",\"type\":\"box\"},{\"alignmentgroup\":\"True\",\"boxpoints\":\"all\",\"customdata\":[[\"1955-05-26T00:00:00\"]],\"fillcolor\":\"rgba(255,255,255,0)\",\"hoveron\":\"points\",\"hovertemplate\":\"<b>%{hovertext}</b><br><br>year=1955<br>Mountain=%{x}<br>Nationality=%{y}<br>Date=%{customdata[0]}<extra></extra>\",\"hovertext\":[\"Pemi Dorje Sherpa\"],\"legendgroup\":\"1955\",\"line\":{\"color\":\"rgba(255,255,255,0)\"},\"marker\":{\"color\":\"#EF553B\"},\"name\":\"1955\",\"offsetgroup\":\"1955\",\"orientation\":\"v\",\"pointpos\":0,\"showlegend\":true,\"x\":[\"Kangchenjunga\"],\"x0\":\" \",\"xaxis\":\"x\",\"y\":[\"India\"],\"y0\":\" \",\"yaxis\":\"y\",\"type\":\"box\"},{\"alignmentgroup\":\"True\",\"boxpoints\":\"all\",\"customdata\":[[\"1931-08-09T00:00:00\"],[\"1931-08-09T00:00:00\"],[\"1931-08-01T00:00:00\"],[\"1931-07-01T00:00:00\"]],\"fillcolor\":\"rgba(255,255,255,0)\",\"hoveron\":\"points\",\"hovertemplate\":\"<b>%{hovertext}</b><br><br>year=1931<br>Mountain=%{x}<br>Nationality=%{y}<br>Date=%{customdata[0]}<extra></extra>\",\"hovertext\":[\"Hermann \\\"Xaverl\\\" Schaller\",\"Pasang Sherpa\",\"Babu Lall\",\"Lobsang\"],\"legendgroup\":\"1931\",\"line\":{\"color\":\"rgba(255,255,255,0)\"},\"marker\":{\"color\":\"#00cc96\"},\"name\":\"1931\",\"offsetgroup\":\"1931\",\"orientation\":\"v\",\"pointpos\":0,\"showlegend\":true,\"x\":[\"Kangchenjunga\",\"Kangchenjunga\",\"Kangchenjunga\",\"Kangchenjunga\"],\"x0\":\" \",\"xaxis\":\"x\",\"y\":[\"Germany\",\"British Raj\",\"British Raj\",\"British Raj\"],\"y0\":\" \",\"yaxis\":\"y\",\"type\":\"box\"},{\"alignmentgroup\":\"True\",\"boxpoints\":\"all\",\"customdata\":[[\"1930-05-08T00:00:00\"]],\"fillcolor\":\"rgba(255,255,255,0)\",\"hoveron\":\"points\",\"hovertemplate\":\"<b>%{hovertext}</b><br><br>year=1930<br>Mountain=%{x}<br>Nationality=%{y}<br>Date=%{customdata[0]}<extra></extra>\",\"hovertext\":[\"Chettan Sherpa\"],\"legendgroup\":\"1930\",\"line\":{\"color\":\"rgba(255,255,255,0)\"},\"marker\":{\"color\":\"#ab63fa\"},\"name\":\"1930\",\"offsetgroup\":\"1930\",\"orientation\":\"v\",\"pointpos\":0,\"showlegend\":true,\"x\":[\"Kangchenjunga\"],\"x0\":\" \",\"xaxis\":\"x\",\"y\":[\"British Raj\"],\"y0\":\" \",\"yaxis\":\"y\",\"type\":\"box\"},{\"alignmentgroup\":\"True\",\"boxpoints\":\"all\",\"customdata\":[[\"1929-05-27T00:00:00\"]],\"fillcolor\":\"rgba(255,255,255,0)\",\"hoveron\":\"points\",\"hovertemplate\":\"<b>%{hovertext}</b><br><br>year=1929<br>Mountain=%{x}<br>Nationality=%{y}<br>Date=%{customdata[0]}<extra></extra>\",\"hovertext\":[\"Edgar Francis Farmer\"],\"legendgroup\":\"1929\",\"line\":{\"color\":\"rgba(255,255,255,0)\"},\"marker\":{\"color\":\"#FFA15A\"},\"name\":\"1929\",\"offsetgroup\":\"1929\",\"orientation\":\"v\",\"pointpos\":0,\"showlegend\":true,\"x\":[\"Kangchenjunga\"],\"x0\":\" \",\"xaxis\":\"x\",\"y\":[\"United States\"],\"y0\":\" \",\"yaxis\":\"y\",\"type\":\"box\"},{\"alignmentgroup\":\"True\",\"boxpoints\":\"all\",\"customdata\":[[\"1905-09-01T00:00:00\"],[\"1905-09-01T00:00:00\"],[\"1905-08-28T00:00:00\"]],\"fillcolor\":\"rgba(255,255,255,0)\",\"hoveron\":\"points\",\"hovertemplate\":\"<b>%{hovertext}</b><br><br>year=1905<br>Mountain=%{x}<br>Nationality=%{y}<br>Date=%{customdata[0]}<extra></extra>\",\"hovertext\":[\"Unknown\",\"Alexis A. Pache\",\"Unnamed porter\"],\"legendgroup\":\"1905\",\"line\":{\"color\":\"rgba(255,255,255,0)\"},\"marker\":{\"color\":\"#19d3f3\"},\"name\":\"1905\",\"offsetgroup\":\"1905\",\"orientation\":\"v\",\"pointpos\":0,\"showlegend\":true,\"x\":[\"Kangchenjunga\",\"Kangchenjunga\",\"Kangchenjunga\"],\"x0\":\" \",\"xaxis\":\"x\",\"y\":[\"British Raj\",\"Switzerland\",\"British Raj\"],\"y0\":\" \",\"yaxis\":\"y\",\"type\":\"box\"},{\"alignmentgroup\":\"True\",\"boxpoints\":\"all\",\"customdata\":[[\"2016-05-19T00:00:00\"],[\"2016-05-10T00:00:00\"],[\"2016-05-10T00:00:00\"],[\"2016-05-19T00:00:00\"],[\"2016-05-16T00:00:00\"],[\"2016-10-26T00:00:00\"],[\"2016-09-30T00:00:00\"],[\"2016-04-24T00:00:00\"],[\"2016-04-24T00:00:00\"],[\"2016-05-11T00:00:00\"],[\"2016-05-19T00:00:00\"],[\"2016-05-21T00:00:00\"],[\"2016-05-22T00:00:00\"],[\"2016-05-22T00:00:00\"],[\"2016-05-22T00:00:00\"],[\"2016-05-22T00:00:00\"]],\"fillcolor\":\"rgba(255,255,255,0)\",\"hoveron\":\"points\",\"hovertemplate\":\"<b>%{hovertext}</b><br><br>year=2016<br>Mountain=%{x}<br>Nationality=%{y}<br>Date=%{customdata[0]}<extra></extra>\",\"hovertext\":[\"Ang Phurba Sherpa\",\"Lakpa Ongyal Sherpa\",\"Da Tenji Sherpa\",\"Rajib Bhattacharya\",\"Christiaan Johan Wilson\",\"Hirotaka Onodera\",\"Pemba Sherpa (Taplejung 8)\",\"Patrik Matiolli\",\"Jon Johnston\",\"Charles MacAdams\",\"Ang Phurba Sherpa\",\"Eric Arnold\",\"Marisa Elizabeth Strydom\",\"Subhash Pal\",\"Paresh Chandra Nath\",\"Goutam Ghosh\"],\"legendgroup\":\"2016\",\"line\":{\"color\":\"rgba(255,255,255,0)\"},\"marker\":{\"color\":\"#FF6692\"},\"name\":\"2016\",\"offsetgroup\":\"2016\",\"orientation\":\"v\",\"pointpos\":0,\"showlegend\":true,\"x\":[\"Lhotse\",\"Makalu\",\"Makalu\",\"Dhaulagiri I\",\"Dhaulagiri I\",\"Manaslu\",\"Shishapangma\",\"Shishapangma\",\"Shishapangma\",\"Mount Everest\",\"Mount Everest\",\"Mount Everest\",\"Mount Everest\",\"Mount Everest\",\"Mount Everest\",\"Mount Everest\"],\"x0\":\" \",\"xaxis\":\"x\",\"y\":[\"Nepal\",\"Nepal\",\"Nepal\",\"India\",\"Netherlands\",\"Japan\",\"Nepal\",\"Switzerland\",\"Australia\",\"Canada\",\"Nepal\",\"Netherlands\",\"Australia \\u00a0South Africa\",\"India\",\"India\",\"India\"],\"y0\":\" \",\"yaxis\":\"y\",\"type\":\"box\"},{\"alignmentgroup\":\"True\",\"boxpoints\":\"all\",\"customdata\":[[\"2015-04-27T00:00:00\"],[\"2015-04-25T00:00:00\"],[\"2015-10-01T00:00:00\"],[\"2015-03-24T00:00:00\"],[\"2015-03-24T00:00:00\"],[\"2015-07-01T00:00:00\"],[\"2015-07-25T00:00:00\"],[\"2015-04-25T00:00:00\"],[\"2015-04-25T00:00:00\"],[\"2015-04-25T00:00:00\"],[\"2015-04-25T00:00:00\"],[\"2015-04-25T00:00:00\"],[\"2015-04-25T00:00:00\"],[\"2015-04-25T00:00:00\"],[\"2015-04-25T00:00:00\"],[\"2015-04-25T00:00:00\"],[\"2015-04-25T00:00:00\"],[\"2015-04-25T00:00:00\"],[\"2015-04-25T00:00:00\"],[\"2015-04-25T00:00:00\"],[\"2015-04-25T00:00:00\"],[\"2015-04-25T00:00:00\"],[\"2015-04-25T00:00:00\"],[\"2015-05-01T00:00:00\"]],\"fillcolor\":\"rgba(255,255,255,0)\",\"hoveron\":\"points\",\"hovertemplate\":\"<b>%{hovertext}</b><br><br>year=2015<br>Mountain=%{x}<br>Nationality=%{y}<br>Date=%{customdata[0]}<extra></extra>\",\"hovertext\":[\"Yomagato Horoshi\",\"Ge Zhen-fang\",\"Zoltan Benedek\",\"Samuli Mansikka\",\"Pemba Sherpa\",\"Qamber Ali Jangjupa\",\"Aleksander Ostrowski\",\"Daniel Paul Fredinburg\",\"Marisa Eve Girawong\",\"Thomas Ely Taplin\",\"Pemba Sherpa\",\"Dawa Tsering Sherpa\",\"Maila (Milan) Rai\",\"Chhimi Dawa Sherpa\",\"Pema Yishi (Hissi) Sherpa\",\"Pasang Temba Sherpa\",\"Krishna Kumar Rai\",\"Tenzing (Tengien) Bhote\",\"Renu Fotedar\",\"Lhakpa Chhiring Sherpa\",\"Vinh B Truong\",\"Shiva Kumar Shrestha\",\"Unnamed\",\"Jangbu Sherpa\"],\"legendgroup\":\"2015\",\"line\":{\"color\":\"rgba(255,255,255,0)\"},\"marker\":{\"color\":\"#B6E880\"},\"name\":\"2015\",\"offsetgroup\":\"2015\",\"orientation\":\"v\",\"pointpos\":0,\"showlegend\":true,\"x\":[\"Lhotse\",\"Lhotse\",\"Manaslu\",\"Annapurna I\",\"Annapurna I\",\"Broad Peak\",\"Gasherbrum II\",\"Mount Everest\",\"Mount Everest\",\"Mount Everest\",\"Mount Everest\",\"Mount Everest\",\"Mount Everest\",\"Mount Everest\",\"Mount Everest\",\"Mount Everest\",\"Mount Everest\",\"Mount Everest\",\"Mount Everest\",\"Mount Everest\",\"Mount Everest\",\"Mount Everest\",\"Mount Everest\",\"Mount Everest\"],\"x0\":\" \",\"xaxis\":\"x\",\"y\":[\"Japan\",\"China\",\"Austria\",\"Finland\",\"Nepal\",\"Pakistan\",\"Poland\",\"United States\",\"United States\",\"United States\",\"Nepal\",\"Nepal\",\"Nepal\",\"Nepal\",\"Nepal\",\"Nepal\",\"Nepal\",\"Nepal\",\"Australia \\u00a0India\",\"Nepal\",\"United States \\u00a0Vietnam\",\"Nepal\",null,\"Nepal\"],\"y0\":\" \",\"yaxis\":\"y\",\"type\":\"box\"},{\"alignmentgroup\":\"True\",\"boxpoints\":\"all\",\"customdata\":[[\"1997-05-27T00:00:00\"],[\"1997-10-12T00:00:00\"],[\"1997-05-24T00:00:00\"],[\"1997-05-21T00:00:00\"],[\"1997-10-09T00:00:00\"],[\"1997-10-08T00:00:00\"],[\"1997-07-30T00:00:00\"],[\"1997-12-25T00:00:00\"],[\"1997-12-25T00:00:00\"],[\"1997-03-23T00:00:00\"],[\"1997-07-16T00:00:00\"],[\"1997-07-16T00:00:00\"],[\"1997-04-23T00:00:00\"],[\"1997-05-06T00:00:00\"],[\"1997-05-07T00:00:00\"],[\"1997-05-07T00:00:00\"],[\"1997-05-07T00:00:00\"],[\"1997-05-07T00:00:00\"],[\"1997-05-08T00:00:00\"],[\"1997-09-08T00:00:00\"],[\"1997-09-08T00:00:00\"]],\"fillcolor\":\"rgba(255,255,255,0)\",\"hoveron\":\"points\",\"hovertemplate\":\"<b>%{hovertext}</b><br><br>year=1997<br>Mountain=%{x}<br>Nationality=%{y}<br>Date=%{customdata[0]}<extra></extra>\",\"hovertext\":[\"Vladimir Bachkirov\",\"Per Lyhne\",\"Igor Bougatshevski\",\"Salavat Khabibulin\",\"Miroslav Rybansky\",\"Juraj Kardhordo\",\"Joan Colet\",\"Anatoli Boukreev\",\"Dmitri Sobolev\",\"Ngati\",\"Jeffrey Ian Bubb\",\"Fukuzo Yokotagawa\",\"Malcolm Duff\",\"Nima Rinzi\",\"Aleksandr Torochin\",\"Ivan Plotnikov\",\"Nikolai Chevtchenko\",\"Mingma\",\"Peter Andreas Kowalzik\",\"Tenzing Nuru\",\"Choi Byong-soo\"],\"legendgroup\":\"1997\",\"line\":{\"color\":\"rgba(255,255,255,0)\"},\"marker\":{\"color\":\"#FF97FF\"},\"name\":\"1997\",\"offsetgroup\":\"1997\",\"orientation\":\"v\",\"pointpos\":0,\"showlegend\":true,\"x\":[\"Lhotse\",\"Makalu\",\"Makalu\",\"Makalu\",\"Manaslu\",\"Manaslu\",\"Nanga Parbat\",\"Annapurna I\",\"Annapurna I\",\"Annapurna I\",\"Broad Peak\",\"Broad Peak\",\"Mount Everest\",\"Mount Everest\",\"Mount Everest\",\"Mount Everest\",\"Mount Everest\",\"Mount Everest\",\"Mount Everest\",\"Mount Everest\",\"Mount Everest\"],\"x0\":\" \",\"xaxis\":\"x\",\"y\":[\"Russia\",\"Denmark\",\"Russia\",\"Russia\",\"Slovakia\",\"Slovakia\",\"Spain\",\"Kazakhstan\",\"Kazakhstan\",\"Nepal\",\"United States\",\"Japan\",\"United Kingdom\",\"United Kingdom\",\"Russia\",\"Russia\",\"Russia\",\"Nepal\",\"Germany\",\"Nepal\",\"South Korea\"],\"y0\":\" \",\"yaxis\":\"y\",\"type\":\"box\"},{\"alignmentgroup\":\"True\",\"boxpoints\":\"all\",\"customdata\":[[\"1974-12-17T00:00:00\"],[\"1974-05-05T00:00:00\"],[\"1974-09-09T00:00:00\"],[\"1974-09-09T00:00:00\"],[\"1974-09-09T00:00:00\"],[\"1974-09-09T00:00:00\"],[\"1974-09-09T00:00:00\"],[\"1974-09-09T00:00:00\"]],\"fillcolor\":\"rgba(255,255,255,0)\",\"hoveron\":\"points\",\"hovertemplate\":\"<b>%{hovertext}</b><br><br>year=1974<br>Mountain=%{x}<br>Nationality=%{y}<br>Date=%{customdata[0]}<extra></extra>\",\"hovertext\":[\"Stanislaw Lata\\u0142\\u0142o\",\"Teiko Suzuki\",\"G\\u00e9rard Devouassoux\",\"Pemba Dorje\",\"Lhakpa\",\"Nawang Lutuk\",\"Nima Wangchu\",\"Sanu Wongal\"],\"legendgroup\":\"1974\",\"line\":{\"color\":\"rgba(255,255,255,0)\"},\"marker\":{\"color\":\"#FECB52\"},\"name\":\"1974\",\"offsetgroup\":\"1974\",\"orientation\":\"v\",\"pointpos\":0,\"showlegend\":true,\"x\":[\"Lhotse\",\"Manaslu\",\"Mount Everest\",\"Mount Everest\",\"Mount Everest\",\"Mount Everest\",\"Mount Everest\",\"Mount Everest\"],\"x0\":\" \",\"xaxis\":\"x\",\"y\":[\"Poland\",\"Japan\",\"France\",\"Nepal\",\"Nepal\",\"Nepal\",\"Nepal\",\"Nepal\"],\"y0\":\" \",\"yaxis\":\"y\",\"type\":\"box\"},{\"alignmentgroup\":\"True\",\"boxpoints\":\"all\",\"customdata\":[[\"2011-05-22T00:00:00\"],[\"2011-09-26T00:00:00\"],[\"2011-09-23T00:00:00\"],[\"2011-05-22T00:00:00\"],[\"2011-05-12T00:00:00\"],[\"2011-05-12T00:00:00\"],[\"2011-05-12T00:00:00\"],[\"2011-04-29T00:00:00\"],[\"2011-10-18T00:00:00\"],[\"2011-10-18T00:00:00\"],[\"2011-10-18T00:00:00\"],[\"2011-07-25T00:00:00\"],[\"2011-07-22T00:00:00\"],[\"2011-05-01T00:00:00\"],[\"2011-05-09T00:00:00\"],[\"2011-05-12T00:00:00\"],[\"2011-05-21T00:00:00\"],[\"2011-09-15T00:00:00\"]],\"fillcolor\":\"rgba(255,255,255,0)\",\"hoveron\":\"points\",\"hovertemplate\":\"<b>%{hovertext}</b><br><br>year=2011<br>Mountain=%{x}<br>Nationality=%{y}<br>Date=%{customdata[0]}<extra></extra>\",\"hovertext\":[\"Jo\\u00eblle Catherine Brupbacher\",\"Joerg Henry Manuel Henning\",\"Rostislav Krpec\",\"Ronald Naar\",\"Tashi Chhiring\",\"Bernard Jean Francois Milian\",\"Alain Peirre Marie Laurens\",\"Eisa Mir-Shekari\",\"Young-seok Park\",\"Dong-min Shin\",\"Ki-seok Kang\",\"Jeffrey Wai Hung Chung\",\"Leila Esfandyari\",\"Rick Hitch\",\"Shailendra Kumar Upadhyaya\",\"Takashi Ozaki\",\"John Delaney\",\"Hiroaki Kino\"],\"legendgroup\":\"2011\",\"line\":{\"color\":\"rgba(255,255,255,0)\"},\"marker\":{\"color\":\"#636efa\"},\"name\":\"2011\",\"offsetgroup\":\"2011\",\"orientation\":\"v\",\"pointpos\":0,\"showlegend\":true,\"x\":[\"Makalu\",\"Cho Oyu\",\"Cho Oyu\",\"Cho Oyu\",\"Manaslu\",\"Manaslu\",\"Manaslu\",\"Manaslu\",\"Annapurna I\",\"Annapurna I\",\"Annapurna I\",\"Broad Peak\",\"Gasherbrum II\",\"Mount Everest\",\"Mount Everest\",\"Mount Everest\",\"Mount Everest\",\"Mount Everest\"],\"x0\":\" \",\"xaxis\":\"x\",\"y\":[\"Switzerland\",\"Germany\",\"Czech Republic\",\"Netherlands\",\"Nepal\",\"France\",\"France\",\"Iran\",\"South Korea\",\"South Korea\",\"South Korea\",\"Hong Kong\",\"Iran\",\"United States\",\"Nepal\",\"Japan\",\"Ireland\",\"Japan\"],\"y0\":\" \",\"yaxis\":\"y\",\"type\":\"box\"},{\"alignmentgroup\":\"True\",\"boxpoints\":\"all\",\"customdata\":[[\"2005-05-15T00:00:00\"],[\"2005-05-11T00:00:00\"],[\"2005-05-18T00:00:00\"],[\"2005-08-05T00:00:00\"],[\"2005-10-03T00:00:00\"],[\"2005-09-28T00:00:00\"],[\"2005-04-28T00:00:00\"],[\"2005-05-02T00:00:00\"],[\"2005-05-21T00:00:00\"],[\"2005-05-30T00:00:00\"],[\"2005-06-04T00:00:00\"],[\"2005-06-05T00:00:00\"]],\"fillcolor\":\"rgba(255,255,255,0)\",\"hoveron\":\"points\",\"hovertemplate\":\"<b>%{hovertext}</b><br><br>year=2005<br>Mountain=%{x}<br>Nationality=%{y}<br>Date=%{customdata[0]}<extra></extra>\",\"hovertext\":[\"Sumba Sherpa\",\"Lubos Stacho\",\"Christian Kuntner\",\"Dawa Nurbu II\",\"Stanislav Krylov\",\"Martin Oczko\",\"Sean Egan\",\"Michael Corey O'Brien[119]\",\"Marko Lihteneker\",\"Sirigereshiva Shankarappa Chaitanya\",\"Dieter Kramer\",\"Robert William Milne\"],\"legendgroup\":\"2005\",\"line\":{\"color\":\"rgba(255,255,255,0)\"},\"marker\":{\"color\":\"#EF553B\"},\"name\":\"2005\",\"offsetgroup\":\"2005\",\"orientation\":\"v\",\"pointpos\":0,\"showlegend\":true,\"x\":[\"Makalu\",\"Cho Oyu\",\"Annapurna I\",\"Gasherbrum I\",\"Shishapangma\",\"Shishapangma\",\"Mount Everest\",\"Mount Everest\",\"Mount Everest\",\"Mount Everest\",\"Mount Everest\",\"Mount Everest\"],\"x0\":\" \",\"xaxis\":\"x\",\"y\":[\"Nepal\",\"Slovakia\",\"Italy\",\"Nepal\",\"Russia\",\"Czech Republic\",\"Canada\",\"United States\",\"Slovenia\",\"India\",\"Germany\",\"United Kingdom\"],\"y0\":\" \",\"yaxis\":\"y\",\"type\":\"box\"},{\"alignmentgroup\":\"True\",\"boxpoints\":\"all\",\"customdata\":[[\"1984-09-13T00:00:00\"],[\"1984-10-23T00:00:00\"],[\"1984-12-08T00:00:00\"],[\"1984-07-07T00:00:00\"],[\"1984-07-07T00:00:00\"],[\"1984-07-07T00:00:00\"],[\"1984-07-07T00:00:00\"],[\"1984-12-07T00:00:00\"],[\"1984-12-07T00:00:00\"],[\"1984-04-21T00:00:00\"],[\"1984-04-21T00:00:00\"],[\"1984-03-26T00:00:00\"],[\"1984-04-03T00:00:00\"],[\"1984-04-21T00:00:00\"],[\"1984-10-09T00:00:00\"],[\"1984-10-09T00:00:00\"],[\"1984-10-16T00:00:00\"],[\"1984-10-24T00:00:00\"],[\"1984-10-24T00:00:00\"]],\"fillcolor\":\"rgba(255,255,255,0)\",\"hoveron\":\"points\",\"hovertemplate\":\"<b>%{hovertext}</b><br><br>year=1984<br>Mountain=%{x}<br>Nationality=%{y}<br>Date=%{customdata[0]}<extra></extra>\",\"hovertext\":[\"Ram Bahadur Shrestha\",\"Jan Simon\",\"Hiromi Kameda\",\"Fuji Tsunoda\",\"Shigeoh Hida\",\"Nobuyuki Imakyurei\",\"Takashi Kogure\",\"Pasang Norbu\",\"Keepa\",\"Philippe Dumas\",\"Patrick Taglianut\",\"Ang Rinji\",\"Tony Swierzy\",\"Hristo Ivanov Prodanov\",\"William (Fred) From\",\"Craig Nottle\",\"Jozef Psotka\",\"Ang Dorje\",\"Yogendra Bahadur Thapa\"],\"legendgroup\":\"1984\",\"line\":{\"color\":\"rgba(255,255,255,0)\"},\"marker\":{\"color\":\"#00cc96\"},\"name\":\"1984\",\"offsetgroup\":\"1984\",\"orientation\":\"v\",\"pointpos\":0,\"showlegend\":true,\"x\":[\"Makalu\",\"Dhaulagiri I\",\"Nanga Parbat\",\"Nanga Parbat\",\"Nanga Parbat\",\"Nanga Parbat\",\"Nanga Parbat\",\"Annapurna I\",\"Annapurna I\",\"Annapurna I\",\"Annapurna I\",\"Mount Everest\",\"Mount Everest\",\"Mount Everest\",\"Mount Everest\",\"Mount Everest\",\"Mount Everest\",\"Mount Everest\",\"Mount Everest\"],\"x0\":\" \",\"xaxis\":\"x\",\"y\":[\"Nepal\",\"Czechoslovakia\",\"Japan\",\"Japan\",\"Japan\",\"Japan\",\"Japan\",\"Nepal\",\"Nepal\",\"France\",\"France\",\"Nepal\",\"United Kingdom\",\"Bulgaria\",\"Australia\",\"Australia\",\"Czechoslovakia\",\"Nepal\",\"Nepal\"],\"y0\":\" \",\"yaxis\":\"y\",\"type\":\"box\"},{\"alignmentgroup\":\"True\",\"boxpoints\":\"all\",\"customdata\":[[\"1983-10-15T00:00:00\"],[\"1983-10-03T00:00:00\"],[\"1983-01-01T00:00:00\"],[\"1983-12-11T00:00:00\"],[\"1983-04-24T00:00:00\"],[\"1983-04-24T00:00:00\"],[\"1983-07-12T00:00:00\"],[\"1983-07-12T00:00:00\"],[\"1983-07-12T00:00:00\"],[\"1983-06-17T00:00:00\"],[\"1983-09-24T00:00:00\"],[\"1983-09-24T00:00:00\"],[\"1983-09-24T00:00:00\"],[\"1983-06-29T00:00:00\"],[\"1983-04-28T00:00:00\"],[\"1983-10-08T00:00:00\"],[\"1983-10-08T00:00:00\"],[\"1983-10-09T00:00:00\"]],\"fillcolor\":\"rgba(255,255,255,0)\",\"hoveron\":\"points\",\"hovertemplate\":\"<b>%{hovertext}</b><br><br>year=1983<br>Mountain=%{x}<br>Nationality=%{y}<br>Date=%{customdata[0]}<extra></extra>\",\"hovertext\":[\"Mark Peter Moorhead\",\"Matthew William \\\"Bill\\\" Denz\",\"Unknown\",\"Stanis\\u0142aw Jaworski\",\"Ante Bu\\u0107an\",\"Nejc Zaplotnik\",\"Nobuyoshi Yamada\",\"Yuichiro Takamori\",\"Satoshi Iida\",\"Kazuo Shimura\",\"Yang-kun Chung\",\"Magar Maila\",\"Rama Magar Tika\",\"Peter Thexton\",\"Fritz Luchsinger\",\"Hironobu Kamuro\",\"Pasang Temba\",\"Hiroshi Yoshino\"],\"legendgroup\":\"1983\",\"line\":{\"color\":\"rgba(255,255,255,0)\"},\"marker\":{\"color\":\"#ab63fa\"},\"name\":\"1983\",\"offsetgroup\":\"1983\",\"orientation\":\"v\",\"pointpos\":0,\"showlegend\":true,\"x\":[\"Makalu\",\"Makalu\",\"Makalu\",\"Manaslu\",\"Manaslu\",\"Manaslu\",\"Nanga Parbat\",\"Nanga Parbat\",\"Nanga Parbat\",\"Nanga Parbat\",\"Annapurna I\",\"Annapurna I\",\"Annapurna I\",\"Broad Peak\",\"Shishapangma\",\"Mount Everest\",\"Mount Everest\",\"Mount Everest\"],\"x0\":\" \",\"xaxis\":\"x\",\"y\":[\"Australia\",\"New Zealand\",\"Nepal\",\"Poland\",\"Yugoslavia\",\"Yugoslavia\",\"Japan\",\"Japan\",\"Japan\",\"Japan\",\"South Korea\",\"Nepal\",\"Nepal\",\"United Kingdom\",\"Switzerland\",\"Japan\",\"Nepal\",\"Japan\"],\"y0\":\" \",\"yaxis\":\"y\",\"type\":\"box\"},{\"alignmentgroup\":\"True\",\"boxpoints\":\"all\",\"customdata\":[[\"1976-05-24T00:00:00\"],[\"1976-09-26T00:00:00\"],[\"1976-06-01T00:00:00\"],[\"1976-05-27T00:00:00\"],[\"1976-05-27T00:00:00\"],[\"1976-04-10T00:00:00\"]],\"fillcolor\":\"rgba(255,255,255,0)\",\"hoveron\":\"points\",\"hovertemplate\":\"<b>%{hovertext}</b><br><br>year=1976<br>Mountain=%{x}<br>Nationality=%{y}<br>Date=%{customdata[0]}<extra></extra>\",\"hovertext\":[\"Karel Schubert\",\"Sebastian (Wastl) Arnold\",\"Osamu Matsuura\",\"Yoshinori Hiramatsu\",\"Taketoshi Miyamoto\",\"Terry Thompson\"],\"legendgroup\":\"1976\",\"line\":{\"color\":\"rgba(255,255,255,0)\"},\"marker\":{\"color\":\"#FFA15A\"},\"name\":\"1976\",\"offsetgroup\":\"1976\",\"orientation\":\"v\",\"pointpos\":0,\"showlegend\":true,\"x\":[\"Makalu\",\"Nanga Parbat\",\"Gasherbrum II\",\"Gasherbrum II\",\"Gasherbrum II\",\"Mount Everest\"],\"x0\":\" \",\"xaxis\":\"x\",\"y\":[\"Czechoslovakia\",\"Austria\",\"Japan\",\"Japan\",\"Japan\",\"United Kingdom\"],\"y0\":\" \",\"yaxis\":\"y\",\"type\":\"box\"},{\"alignmentgroup\":\"True\",\"boxpoints\":\"all\",\"customdata\":[[\"1990-01-01T00:00:00\"],[\"1990-10-31T00:00:00\"],[\"1990-04-29T00:00:00\"],[\"1990-09-07T00:00:00\"],[\"1990-09-07T00:00:00\"],[\"1990-09-07T00:00:00\"],[\"1990-03-27T00:00:00\"],[\"1990-03-27T00:00:00\"],[\"1990-03-27T00:00:00\"],[\"1990-08-18T00:00:00\"],[\"1990-07-03T00:00:00\"],[\"1990-08-19T00:00:00\"],[\"1990-08-19T00:00:00\"],[\"1990-07-24T00:00:00\"],[\"1990-10-15T00:00:00\"],[\"1990-09-14T00:00:00\"],[\"1990-09-14T00:00:00\"],[\"1990-09-14T00:00:00\"],[\"1990-10-07T00:00:00\"]],\"fillcolor\":\"rgba(255,255,255,0)\",\"hoveron\":\"points\",\"hovertemplate\":\"<b>%{hovertext}</b><br><br>year=1990<br>Mountain=%{x}<br>Nationality=%{y}<br>Date=%{customdata[0]}<extra></extra>\",\"hovertext\":[\"Chandra Gurung\",\"Dainius Makauskas\",\"Wangel\",\"Murat Galiev\",\"Zinur Halitov\",\"Grigory Lunjakov\",\"Nima Wangchuk Sherpa\",\"Charles Schertz\",\"Nancy Jackson\",\"Osami Nakajima\",\"Chang-gi Park\",\"Josep Granyo\",\"Albert Ibanez\",\"Kurt Lyncke-Kr\\u00fcger\",\"Joan Martinez\",\"Rafael G\\u00f3mez-Menor\",\"Ang Sona\",\"Badri Nath\",\"Ham Sang-hun\"],\"legendgroup\":\"1990\",\"line\":{\"color\":\"rgba(255,255,255,0)\"},\"marker\":{\"color\":\"#19d3f3\"},\"name\":\"1990\",\"offsetgroup\":\"1990\",\"orientation\":\"v\",\"pointpos\":0,\"showlegend\":true,\"x\":[\"Cho Oyu\",\"Dhaulagiri I\",\"Dhaulagiri I\",\"Manaslu\",\"Manaslu\",\"Manaslu\",\"Manaslu\",\"Manaslu\",\"Manaslu\",\"Nanga Parbat\",\"Nanga Parbat\",\"Gasherbrum I\",\"Gasherbrum I\",\"Broad Peak\",\"Shishapangma\",\"Mount Everest\",\"Mount Everest\",\"Mount Everest\",\"Mount Everest\"],\"x0\":\" \",\"xaxis\":\"x\",\"y\":[\"Nepal\",\"Lithuania\",\"Nepal\",\"Soviet Union\",\"Soviet Union\",\"Soviet Union\",\"Nepal\",\"United States\",\"United States\",\"Japan\",\"South Korea\",\"Spain\",\"Spain\",\"West Germany\",\"Spain\",\"Spain\",\"Nepal\",\"Nepal\",\"South Korea\"],\"y0\":\" \",\"yaxis\":\"y\",\"type\":\"box\"},{\"alignmentgroup\":\"True\",\"boxpoints\":\"all\",\"customdata\":[[\"1964-05-07T00:00:00\"],[\"1964-05-04T00:00:00\"]],\"fillcolor\":\"rgba(255,255,255,0)\",\"hoveron\":\"points\",\"hovertemplate\":\"<b>%{hovertext}</b><br><br>year=1964<br>Mountain=%{x}<br>Nationality=%{y}<br>Date=%{customdata[0]}<extra></extra>\",\"hovertext\":[\"Alois Thurmayr\",\"Georg Huber\"],\"legendgroup\":\"1964\",\"line\":{\"color\":\"rgba(255,255,255,0)\"},\"marker\":{\"color\":\"#FF6692\"},\"name\":\"1964\",\"offsetgroup\":\"1964\",\"orientation\":\"v\",\"pointpos\":0,\"showlegend\":true,\"x\":[\"Cho Oyu\",\"Cho Oyu\"],\"x0\":\" \",\"xaxis\":\"x\",\"y\":[\"West Germany\",\"West Germany\"],\"y0\":\" \",\"yaxis\":\"y\",\"type\":\"box\"},{\"alignmentgroup\":\"True\",\"boxpoints\":\"all\",\"customdata\":[[\"1959-10-02T00:00:00\"],[\"1959-10-02T00:00:00\"],[\"1959-10-02T00:00:00\"],[\"1959-10-02T00:00:00\"],[\"1959-04-29T00:00:00\"]],\"fillcolor\":\"rgba(255,255,255,0)\",\"hoveron\":\"points\",\"hovertemplate\":\"<b>%{hovertext}</b><br><br>year=1959<br>Mountain=%{x}<br>Nationality=%{y}<br>Date=%{customdata[0]}<extra></extra>\",\"hovertext\":[\"Chhowang Sherpa\",\"Ang Norbu Sherpa\",\"Claudine van der Straten-Ponthoz\",\"Claude Kogan\",\"Heinrich Roiss\"],\"legendgroup\":\"1959\",\"line\":{\"color\":\"rgba(255,255,255,0)\"},\"marker\":{\"color\":\"#B6E880\"},\"name\":\"1959\",\"offsetgroup\":\"1959\",\"orientation\":\"v\",\"pointpos\":0,\"showlegend\":true,\"x\":[\"Cho Oyu\",\"Cho Oyu\",\"Cho Oyu\",\"Cho Oyu\",\"Dhaulagiri I\"],\"x0\":\" \",\"xaxis\":\"x\",\"y\":[\"Nepal\",\"Nepal\",\"Belgium\",\"France\",\"Austria\"],\"y0\":\" \",\"yaxis\":\"y\",\"type\":\"box\"},{\"alignmentgroup\":\"True\",\"boxpoints\":\"all\",\"customdata\":[[\"1958-04-28T00:00:00\"]],\"fillcolor\":\"rgba(255,255,255,0)\",\"hoveron\":\"points\",\"hovertemplate\":\"<b>%{hovertext}</b><br><br>year=1958<br>Mountain=%{x}<br>Nationality=%{y}<br>Date=%{customdata[0]}<extra></extra>\",\"hovertext\":[\"Narendra Dhar \\\"Nandu\\\" Jayal\"],\"legendgroup\":\"1958\",\"line\":{\"color\":\"rgba(255,255,255,0)\"},\"marker\":{\"color\":\"#FF97FF\"},\"name\":\"1958\",\"offsetgroup\":\"1958\",\"orientation\":\"v\",\"pointpos\":0,\"showlegend\":true,\"x\":[\"Cho Oyu\"],\"x0\":\" \",\"xaxis\":\"x\",\"y\":[\"India\"],\"y0\":\" \",\"yaxis\":\"y\",\"type\":\"box\"},{\"alignmentgroup\":\"True\",\"boxpoints\":\"all\",\"customdata\":[[\"2017-05-20T00:00:00\"],[\"2017-09-25T00:00:00\"],[\"2017-06-24T00:00:00\"],[\"2017-06-24T00:00:00\"],[\"2017-05-05T00:00:00\"],[\"2017-05-20T00:00:00\"],[\"2017-05-21T00:00:00\"],[\"2017-05-21T00:00:00\"],[\"2017-05-21T00:00:00\"]],\"fillcolor\":\"rgba(255,255,255,0)\",\"hoveron\":\"points\",\"hovertemplate\":\"<b>%{hovertext}</b><br><br>year=2017<br>Mountain=%{x}<br>Nationality=%{y}<br>Date=%{customdata[0]}<extra></extra>\",\"hovertext\":[\"Ang Ngima Sherpa\",\"Philip Harvey\",\"Alberto Zerain\",\"Mariano Galvan\",\"Min Bahadur Sherchan\",\"Roland Yearwood\",\"Vladim\\u00edr \\u0160trba\",\"Francesco Enrico Marchetti\",\"Ravi Kumar\"],\"legendgroup\":\"2017\",\"line\":{\"color\":\"rgba(255,255,255,0)\"},\"marker\":{\"color\":\"#FECB52\"},\"name\":\"2017\",\"offsetgroup\":\"2017\",\"orientation\":\"v\",\"pointpos\":0,\"showlegend\":true,\"x\":[\"Dhaulagiri I\",\"Manaslu\",\"Nanga Parbat\",\"Nanga Parbat\",\"Mount Everest\",\"Mount Everest\",\"Mount Everest\",\"Mount Everest\",\"Mount Everest\"],\"x0\":\" \",\"xaxis\":\"x\",\"y\":[\"Nepal\",\"United Kingdom\",\"Spain\",\"Argentina\",\"Nepal\",\"United States\",\"Slovakia\",\"Australia\",\"India\"],\"y0\":\" \",\"yaxis\":\"y\",\"type\":\"box\"},{\"alignmentgroup\":\"True\",\"boxpoints\":\"all\",\"customdata\":[[\"1975-03-26T00:00:00\"],[\"1975-03-26T00:00:00\"],[\"1975-03-26T00:00:00\"],[\"1975-03-26T00:00:00\"],[\"1975-03-26T00:00:00\"],[\"1975-04-16T00:00:00\"],[\"1975-07-29T00:00:00\"],[\"1975-07-29T00:00:00\"],[\"1975-07-28T00:00:00\"],[\"1975-06-01T00:00:00\"],[\"1975-05-04T00:00:00\"],[\"1975-08-01T00:00:00\"],[\"1975-09-26T00:00:00\"]],\"fillcolor\":\"rgba(255,255,255,0)\",\"hoveron\":\"points\",\"hovertemplate\":\"<b>%{hovertext}</b><br><br>year=1975<br>Mountain=%{x}<br>Nationality=%{y}<br>Date=%{customdata[0]}<extra></extra>\",\"hovertext\":[\"Yoshitada Numao\",\"Tetsu Imura\",\"Pasang Kami\",\"Dorje\",\"Dakiya\",\"Franz Tegischer\",\"Andrzej Sikorski\",\"Marek K\\u0119sicki\",\"Bohdan Nowaczyk\",\"Bernard Villaret\",\"Wu Zhuong Yue [note 4]\",\"Mingma ; deaf-mute Sherpa porter\",\"Mick Burke\"],\"legendgroup\":\"1975\",\"line\":{\"color\":\"rgba(255,255,255,0)\"},\"marker\":{\"color\":\"#636efa\"},\"name\":\"1975\",\"offsetgroup\":\"1975\",\"orientation\":\"v\",\"pointpos\":0,\"showlegend\":true,\"x\":[\"Dhaulagiri I\",\"Dhaulagiri I\",\"Dhaulagiri I\",\"Dhaulagiri I\",\"Dhaulagiri I\",\"Annapurna I\",\"Broad Peak\",\"Broad Peak\",\"Broad Peak\",\"Gasherbrum II\",\"Mount Everest\",\"Mount Everest\",\"Mount Everest\"],\"x0\":\" \",\"xaxis\":\"x\",\"y\":[\"Japan\",\"Japan\",\"Nepal\",\"Nepal\",\"Nepal\",\"Austria\",\"Poland\",\"Poland\",\"Poland\",\"France\",\"China\",\"Nepal\",\"United Kingdom\"],\"y0\":\" \",\"yaxis\":\"y\",\"type\":\"box\"},{\"alignmentgroup\":\"True\",\"boxpoints\":\"all\",\"customdata\":[[\"1969-04-28T00:00:00\"],[\"1969-04-28T00:00:00\"],[\"1969-04-28T00:00:00\"],[\"1969-04-28T00:00:00\"],[\"1969-04-28T00:00:00\"],[\"1969-04-28T00:00:00\"],[\"1969-04-28T00:00:00\"],[\"1969-10-18T00:00:00\"]],\"fillcolor\":\"rgba(255,255,255,0)\",\"hoveron\":\"points\",\"hovertemplate\":\"<b>%{hovertext}</b><br><br>year=1969<br>Mountain=%{x}<br>Nationality=%{y}<br>Date=%{customdata[0]}<extra></extra>\",\"hovertext\":[\"David Seidman\",\"Ross William\",\"Vincent Hoeman\",\"Paul Gerhard\",\"Boyd Everett\",\"Pemba Phutar\",\"Tenzing\",\"Phu Dorjee Sherpa\"],\"legendgroup\":\"1969\",\"line\":{\"color\":\"rgba(255,255,255,0)\"},\"marker\":{\"color\":\"#EF553B\"},\"name\":\"1969\",\"offsetgroup\":\"1969\",\"orientation\":\"v\",\"pointpos\":0,\"showlegend\":true,\"x\":[\"Dhaulagiri I\",\"Dhaulagiri I\",\"Dhaulagiri I\",\"Dhaulagiri I\",\"Dhaulagiri I\",\"Dhaulagiri I\",\"Dhaulagiri I\",\"Mount Everest\"],\"x0\":\" \",\"xaxis\":\"x\",\"y\":[\"United States\",\"United States\",\"United States\",\"United States\",\"United States\",\"Nepal\",\"Nepal\",\"Nepal\"],\"y0\":\" \",\"yaxis\":\"y\",\"type\":\"box\"},{\"alignmentgroup\":\"True\",\"boxpoints\":\"all\",\"customdata\":[[\"1956-05-26T00:00:00\"]],\"fillcolor\":\"rgba(255,255,255,0)\",\"hoveron\":\"points\",\"hovertemplate\":\"<b>%{hovertext}</b><br><br>year=1956<br>Mountain=%{x}<br>Nationality=%{y}<br>Date=%{customdata[0]}<extra></extra>\",\"hovertext\":[\"Bal Bahadur\"],\"legendgroup\":\"1956\",\"line\":{\"color\":\"rgba(255,255,255,0)\"},\"marker\":{\"color\":\"#00cc96\"},\"name\":\"1956\",\"offsetgroup\":\"1956\",\"orientation\":\"v\",\"pointpos\":0,\"showlegend\":true,\"x\":[\"Dhaulagiri I\"],\"x0\":\" \",\"xaxis\":\"x\",\"y\":[\"Nepal\"],\"y0\":\" \",\"yaxis\":\"y\",\"type\":\"box\"},{\"alignmentgroup\":\"True\",\"boxpoints\":\"all\",\"customdata\":[[\"1972-04-26T00:00:00\"],[\"1972-04-25T00:00:00\"],[\"1972-04-10T00:00:00\"],[\"1972-04-10T00:00:00\"],[\"1972-04-10T00:00:00\"],[\"1972-04-10T00:00:00\"],[\"1972-04-10T00:00:00\"],[\"1972-04-10T00:00:00\"],[\"1972-04-10T00:00:00\"],[\"1972-04-10T00:00:00\"],[\"1972-04-10T00:00:00\"],[\"1972-04-10T00:00:00\"],[\"1972-04-10T00:00:00\"],[\"1972-04-10T00:00:00\"],[\"1972-04-10T00:00:00\"],[\"1972-04-10T00:00:00\"],[\"1972-04-10T00:00:00\"],[\"1972-11-16T00:00:00\"]],\"fillcolor\":\"rgba(255,255,255,0)\",\"hoveron\":\"points\",\"hovertemplate\":\"<b>%{hovertext}</b><br><br>year=1972<br>Mountain=%{x}<br>Nationality=%{y}<br>Date=%{customdata[0]}<extra></extra>\",\"hovertext\":[\"Andi Schlick\",\"Franz J\\u00e4ger\",\"Wangel\",\"Rinsing Ongyal\",\"Phurba Tenzing\",\"Pemba Rinji (Nawang Chultim)\",\"Pasang Nima\",\"Gyalze\",\"Ang Tendi (Ang Dawa)\",\"Ang Rita\",\"Ang Mingma (b)\",\"Ang Mingma (a)\",\"Kazunari Yasuhisha\",\"Chang-hee Park\",\"Sae-keon Oh\",\"Joon-haeng Song\",\"Ho-sup Kim\",\"Tony Tighe\"],\"legendgroup\":\"1972\",\"line\":{\"color\":\"rgba(255,255,255,0)\"},\"marker\":{\"color\":\"#ab63fa\"},\"name\":\"1972\",\"offsetgroup\":\"1972\",\"orientation\":\"v\",\"pointpos\":0,\"showlegend\":true,\"x\":[\"Manaslu\",\"Manaslu\",\"Manaslu\",\"Manaslu\",\"Manaslu\",\"Manaslu\",\"Manaslu\",\"Manaslu\",\"Manaslu\",\"Manaslu\",\"Manaslu\",\"Manaslu\",\"Manaslu\",\"Manaslu\",\"Manaslu\",\"Manaslu\",\"Manaslu\",\"Mount Everest\"],\"x0\":\" \",\"xaxis\":\"x\",\"y\":[\"Austria\",\"Austria\",\"Nepal\",\"Nepal\",\"Nepal\",\"Nepal\",\"Nepal\",\"Nepal\",\"Nepal\",\"Nepal\",\"Nepal\",\"Nepal\",\"Japan\",\"South Korea\",\"South Korea\",\"South Korea\",\"South Korea\",\"Australia\"],\"y0\":\" \",\"yaxis\":\"y\",\"type\":\"box\"},{\"alignmentgroup\":\"True\",\"boxpoints\":\"all\",\"customdata\":[[\"1971-05-04T00:00:00\"],[\"1971-07-08T00:00:00\"],[\"1971-04-18T00:00:00\"]],\"fillcolor\":\"rgba(255,255,255,0)\",\"hoveron\":\"points\",\"hovertemplate\":\"<b>%{hovertext}</b><br><br>year=1971<br>Mountain=%{x}<br>Nationality=%{y}<br>Date=%{customdata[0]}<extra></extra>\",\"hovertext\":[\"Ki-sup Kim\",\"N\\u00e4bi Mantas Hunza\",\"Harsh Vardhan\"],\"legendgroup\":\"1971\",\"line\":{\"color\":\"rgba(255,255,255,0)\"},\"marker\":{\"color\":\"#FFA15A\"},\"name\":\"1971\",\"offsetgroup\":\"1971\",\"orientation\":\"v\",\"pointpos\":0,\"showlegend\":true,\"x\":[\"Manaslu\",\"Nanga Parbat\",\"Mount Everest\"],\"x0\":\" \",\"xaxis\":\"x\",\"y\":[\"South Korea\",\"Pakistan\",\"India\"],\"y0\":\" \",\"yaxis\":\"y\",\"type\":\"box\"},{\"alignmentgroup\":\"True\",\"boxpoints\":\"all\",\"customdata\":[[\"1970-06-29T00:00:00\"],[\"1970-05-30T00:00:00\"],[\"1970-04-05T00:00:00\"],[\"1970-04-05T00:00:00\"],[\"1970-04-05T00:00:00\"],[\"1970-04-05T00:00:00\"],[\"1970-04-05T00:00:00\"],[\"1970-04-09T00:00:00\"],[\"1970-04-21T00:00:00\"]],\"fillcolor\":\"rgba(255,255,255,0)\",\"hoveron\":\"points\",\"hovertemplate\":\"<b>%{hovertext}</b><br><br>year=1970<br>Mountain=%{x}<br>Nationality=%{y}<br>Date=%{customdata[0]}<extra></extra>\",\"hovertext\":[\"G\\u00fcnther Messner\",\"Ian Clough\",\"Nima Dorje\",\"Kunga Norbu\",\"Mima Norbu\",\"Pasang\",\"Kami Tshering\",\"Kyak Tsering\",\"Kiyoshi Narita\"],\"legendgroup\":\"1970\",\"line\":{\"color\":\"rgba(255,255,255,0)\"},\"marker\":{\"color\":\"#19d3f3\"},\"name\":\"1970\",\"offsetgroup\":\"1970\",\"orientation\":\"v\",\"pointpos\":0,\"showlegend\":true,\"x\":[\"Nanga Parbat\",\"Annapurna I\",\"Mount Everest\",\"Mount Everest\",\"Mount Everest\",\"Mount Everest\",\"Mount Everest\",\"Mount Everest\",\"Mount Everest\"],\"x0\":\" \",\"xaxis\":\"x\",\"y\":[\"Italy\",\"United Kingdom\",\"Nepal\",\"Nepal\",\"Nepal\",\"Nepal\",\"Nepal\",\"Nepal\",\"Japan\"],\"y0\":\" \",\"yaxis\":\"y\",\"type\":\"box\"},{\"alignmentgroup\":\"True\",\"boxpoints\":\"all\",\"customdata\":[[\"1962-06-23T00:00:00\"],[\"1962-04-28T00:00:00\"]],\"fillcolor\":\"rgba(255,255,255,0)\",\"hoveron\":\"points\",\"hovertemplate\":\"<b>%{hovertext}</b><br><br>year=1962<br>Mountain=%{x}<br>Nationality=%{y}<br>Date=%{customdata[0]}<extra></extra>\",\"hovertext\":[\"Siegfried (Sigi) L\\u00f6w\",\"Nawang Tshering\"],\"legendgroup\":\"1962\",\"line\":{\"color\":\"rgba(255,255,255,0)\"},\"marker\":{\"color\":\"#FF6692\"},\"name\":\"1962\",\"offsetgroup\":\"1962\",\"orientation\":\"v\",\"pointpos\":0,\"showlegend\":true,\"x\":[\"Nanga Parbat\",\"Mount Everest\"],\"x0\":\" \",\"xaxis\":\"x\",\"y\":[\"West Germany\",\"Nepal\"],\"y0\":\" \",\"yaxis\":\"y\",\"type\":\"box\"},{\"alignmentgroup\":\"True\",\"boxpoints\":\"all\",\"customdata\":[[\"1950-12-04T00:00:00\"],[\"1950-12-04T00:00:00\"]],\"fillcolor\":\"rgba(255,255,255,0)\",\"hoveron\":\"points\",\"hovertemplate\":\"<b>%{hovertext}</b><br><br>year=1950<br>Mountain=%{x}<br>Nationality=%{y}<br>Date=%{customdata[0]}<extra></extra>\",\"hovertext\":[\"John W. Thornley\",\"William H. Crace\"],\"legendgroup\":\"1950\",\"line\":{\"color\":\"rgba(255,255,255,0)\"},\"marker\":{\"color\":\"#B6E880\"},\"name\":\"1950\",\"offsetgroup\":\"1950\",\"orientation\":\"v\",\"pointpos\":0,\"showlegend\":true,\"x\":[\"Nanga Parbat\",\"Nanga Parbat\"],\"x0\":\" \",\"xaxis\":\"x\",\"y\":[\"United Kingdom\",\"United Kingdom\"],\"y0\":\" \",\"yaxis\":\"y\",\"type\":\"box\"},{\"alignmentgroup\":\"True\",\"boxpoints\":\"all\",\"customdata\":[[\"1937-06-15T00:00:00\"],[\"1937-06-15T00:00:00\"],[\"1937-06-15T00:00:00\"],[\"1937-06-15T00:00:00\"],[\"1937-06-15T00:00:00\"],[\"1937-06-15T00:00:00\"],[\"1937-06-15T00:00:00\"],[\"1937-06-15T00:00:00\"],[\"1937-06-15T00:00:00\"],[\"1937-06-15T00:00:00\"],[\"1937-06-15T00:00:00\"],[\"1937-06-15T00:00:00\"],[\"1937-06-15T00:00:00\"],[\"1937-06-15T00:00:00\"],[\"1937-06-15T00:00:00\"],[\"1937-06-15T00:00:00\"]],\"fillcolor\":\"rgba(255,255,255,0)\",\"hoveron\":\"points\",\"hovertemplate\":\"<b>%{hovertext}</b><br><br>year=1937<br>Mountain=%{x}<br>Nationality=%{y}<br>Date=%{customdata[0]}<extra></extra>\",\"hovertext\":[\"Karl Wien\",\"Martin Pfeffer\",\"Peter M\\u00fcllritter\",\"G\\u00fcnther Hepp\",\"Hans Hartmann\",\"Adolf G\\u00f6ttner\",\"Pert Fankhauser\",\"Tigmay\",\"Pasang Norbu\",\"Nima Tsering I\",\"Nima Tsering II\",\"Mingma Tsering\",\"Karmi\",\"Gyalgen Monjo\",\"Chong Karma\",\"Ang Tshering II\"],\"legendgroup\":\"1937\",\"line\":{\"color\":\"rgba(255,255,255,0)\"},\"marker\":{\"color\":\"#FF97FF\"},\"name\":\"1937\",\"offsetgroup\":\"1937\",\"orientation\":\"v\",\"pointpos\":0,\"showlegend\":true,\"x\":[\"Nanga Parbat\",\"Nanga Parbat\",\"Nanga Parbat\",\"Nanga Parbat\",\"Nanga Parbat\",\"Nanga Parbat\",\"Nanga Parbat\",\"Nanga Parbat\",\"Nanga Parbat\",\"Nanga Parbat\",\"Nanga Parbat\",\"Nanga Parbat\",\"Nanga Parbat\",\"Nanga Parbat\",\"Nanga Parbat\",\"Nanga Parbat\"],\"x0\":\" \",\"xaxis\":\"x\",\"y\":[\"Nazi Germany\",\"Nazi Germany\",\"Nazi Germany\",\"Nazi Germany\",\"Nazi Germany\",\"Nazi Germany\",\"Austria\",\"British Raj\",\"British Raj\",\"British Raj\",\"British Raj\",\"British Raj\",\"British Raj\",\"British Raj\",\"British Raj\",\"British Raj\"],\"y0\":\" \",\"yaxis\":\"y\",\"type\":\"box\"},{\"alignmentgroup\":\"True\",\"boxpoints\":\"all\",\"customdata\":[[\"1934-07-17T00:00:00\"],[\"1934-07-17T00:00:00\"],[\"1934-07-12T00:00:00\"],[\"1934-07-10T00:00:00\"],[\"1934-07-10T00:00:00\"],[\"1934-07-10T00:00:00\"],[\"1934-07-10T00:00:00\"],[\"1934-07-09T00:00:00\"],[\"1934-07-09T00:00:00\"],[\"1934-06-08T00:00:00\"],[\"1934-05-31T00:00:00\"]],\"fillcolor\":\"rgba(255,255,255,0)\",\"hoveron\":\"points\",\"hovertemplate\":\"<b>%{hovertext}</b><br><br>year=1934<br>Mountain=%{x}<br>Nationality=%{y}<br>Date=%{customdata[0]}<extra></extra>\",\"hovertext\":[\"Willy Merkl\",\"Sherpa Gyali\",\"Wilhelm Welzenbach\",\"Sherpa Dakshi\",\"Dorje Nima\",\"Nima Tashi\",\"Pinju Norbu\",\"Nima Nurbu\",\"Ulrich Wieland\",\"Alfred Drexel\",\"Maurice Wilson\"],\"legendgroup\":\"1934\",\"line\":{\"color\":\"rgba(255,255,255,0)\"},\"marker\":{\"color\":\"#FECB52\"},\"name\":\"1934\",\"offsetgroup\":\"1934\",\"orientation\":\"v\",\"pointpos\":0,\"showlegend\":true,\"x\":[\"Nanga Parbat\",\"Nanga Parbat\",\"Nanga Parbat\",\"Nanga Parbat\",\"Nanga Parbat\",\"Nanga Parbat\",\"Nanga Parbat\",\"Nanga Parbat\",\"Nanga Parbat\",\"Nanga Parbat\",\"Mount Everest\"],\"x0\":\" \",\"xaxis\":\"x\",\"y\":[\"Nazi Germany\",\"British Raj\",\"Nazi Germany\",\"British Raj\",\"British Raj\",\"British Raj\",\"British Raj\",\"British Raj\",\"Nazi Germany\",\"Nazi Germany\",\"United Kingdom\"],\"y0\":\" \",\"yaxis\":\"y\",\"type\":\"box\"},{\"alignmentgroup\":\"True\",\"boxpoints\":\"all\",\"customdata\":[[\"1895-08-24T00:00:00\"],[\"1895-08-24T00:00:00\"],[\"1895-08-24T00:00:00\"]],\"fillcolor\":\"rgba(255,255,255,0)\",\"hoveron\":\"points\",\"hovertemplate\":\"<b>%{hovertext}</b><br><br>year=1895<br>Mountain=%{x}<br>Nationality=%{y}<br>Date=%{customdata[0]}<extra></extra>\",\"hovertext\":[\"Albert F. Mummery\",\"Ragobir Thapa Ghurka\",\"Goman Singh Ghurka\"],\"legendgroup\":\"1895\",\"line\":{\"color\":\"rgba(255,255,255,0)\"},\"marker\":{\"color\":\"#636efa\"},\"name\":\"1895\",\"offsetgroup\":\"1895\",\"orientation\":\"v\",\"pointpos\":0,\"showlegend\":true,\"x\":[\"Nanga Parbat\",\"Nanga Parbat\",\"Nanga Parbat\"],\"x0\":\" \",\"xaxis\":\"x\",\"y\":[\"United Kingdom\",\"Nepal\",\"Nepal\"],\"y0\":\" \",\"yaxis\":\"y\",\"type\":\"box\"},{\"alignmentgroup\":\"True\",\"boxpoints\":\"all\",\"customdata\":[[\"1921-06-05T00:00:00\"],[\"1921-06-05T00:00:00\"]],\"fillcolor\":\"rgba(255,255,255,0)\",\"hoveron\":\"points\",\"hovertemplate\":\"<b>%{hovertext}</b><br><br>year=1921<br>Mountain=%{x}<br>Nationality=%{y}<br>Date=%{customdata[0]}<extra></extra>\",\"hovertext\":[\"Alexander Mitchell Kellas\",\"Unknown porter\"],\"legendgroup\":\"1921\",\"line\":{\"color\":\"rgba(255,255,255,0)\"},\"marker\":{\"color\":\"#EF553B\"},\"name\":\"1921\",\"offsetgroup\":\"1921\",\"orientation\":\"v\",\"pointpos\":0,\"showlegend\":true,\"x\":[\"Mount Everest\",\"Mount Everest\"],\"x0\":\" \",\"xaxis\":\"x\",\"y\":[\"United Kingdom\",null],\"y0\":\" \",\"yaxis\":\"y\",\"type\":\"box\"},{\"alignmentgroup\":\"True\",\"boxpoints\":\"all\",\"customdata\":[[\"1922-06-07T00:00:00\"],[\"1922-06-07T00:00:00\"],[\"1922-06-07T00:00:00\"],[\"1922-06-07T00:00:00\"],[\"1922-06-07T00:00:00\"],[\"1922-06-07T00:00:00\"],[\"1922-06-07T00:00:00\"]],\"fillcolor\":\"rgba(255,255,255,0)\",\"hoveron\":\"points\",\"hovertemplate\":\"<b>%{hovertext}</b><br><br>year=1922<br>Mountain=%{x}<br>Nationality=%{y}<br>Date=%{customdata[0]}<extra></extra>\",\"hovertext\":[\"Dorje\",\"Lhakpa\",\"Norbu\",\"Pasang\",\"Pema\",\"Sange\",\"Temba\"],\"legendgroup\":\"1922\",\"line\":{\"color\":\"rgba(255,255,255,0)\"},\"marker\":{\"color\":\"#00cc96\"},\"name\":\"1922\",\"offsetgroup\":\"1922\",\"orientation\":\"v\",\"pointpos\":0,\"showlegend\":true,\"x\":[\"Mount Everest\",\"Mount Everest\",\"Mount Everest\",\"Mount Everest\",\"Mount Everest\",\"Mount Everest\",\"Mount Everest\"],\"x0\":\" \",\"xaxis\":\"x\",\"y\":[\"Nepal\",\"Nepal\",\"Nepal\",\"Nepal\",\"Nepal\",\"Nepal\",\"Nepal\"],\"y0\":\" \",\"yaxis\":\"y\",\"type\":\"box\"},{\"alignmentgroup\":\"True\",\"boxpoints\":\"all\",\"customdata\":[[\"1924-05-13T00:00:00\"],[\"1924-05-17T00:00:00\"],[\"1924-06-09T00:00:00\"],[\"1924-06-09T00:00:00\"]],\"fillcolor\":\"rgba(255,255,255,0)\",\"hoveron\":\"points\",\"hovertemplate\":\"<b>%{hovertext}</b><br><br>year=1924<br>Mountain=%{x}<br>Nationality=%{y}<br>Date=%{customdata[0]}<extra></extra>\",\"hovertext\":[\"Man Bahadur\",\"Lance-Naik Shamsherpun\",\"Andrew Irvine\",\"George Mallory\"],\"legendgroup\":\"1924\",\"line\":{\"color\":\"rgba(255,255,255,0)\"},\"marker\":{\"color\":\"#ab63fa\"},\"name\":\"1924\",\"offsetgroup\":\"1924\",\"orientation\":\"v\",\"pointpos\":0,\"showlegend\":true,\"x\":[\"Mount Everest\",\"Mount Everest\",\"Mount Everest\",\"Mount Everest\"],\"x0\":\" \",\"xaxis\":\"x\",\"y\":[\"Nepal\",\"Nepal\",\"United Kingdom\",\"United Kingdom\"],\"y0\":\" \",\"yaxis\":\"y\",\"type\":\"box\"},{\"alignmentgroup\":\"True\",\"boxpoints\":\"all\",\"customdata\":[[\"1952-10-31T00:00:00\"]],\"fillcolor\":\"rgba(255,255,255,0)\",\"hoveron\":\"points\",\"hovertemplate\":\"<b>%{hovertext}</b><br><br>year=1952<br>Mountain=%{x}<br>Nationality=%{y}<br>Date=%{customdata[0]}<extra></extra>\",\"hovertext\":[\"Dorje Mingma\"],\"legendgroup\":\"1952\",\"line\":{\"color\":\"rgba(255,255,255,0)\"},\"marker\":{\"color\":\"#FFA15A\"},\"name\":\"1952\",\"offsetgroup\":\"1952\",\"orientation\":\"v\",\"pointpos\":0,\"showlegend\":true,\"x\":[\"Mount Everest\"],\"x0\":\" \",\"xaxis\":\"x\",\"y\":[\"Nepal\"],\"y0\":\" \",\"yaxis\":\"y\",\"type\":\"box\"},{\"alignmentgroup\":\"True\",\"boxpoints\":\"all\",\"customdata\":[[\"1960-04-11T00:00:00\"],[\"1960-04-29T00:00:00\"]],\"fillcolor\":\"rgba(255,255,255,0)\",\"hoveron\":\"points\",\"hovertemplate\":\"<b>%{hovertext}</b><br><br>year=1960<br>Mountain=%{x}<br>Nationality=%{y}<br>Date=%{customdata[0]}<extra></extra>\",\"hovertext\":[\"Wang Ji\",\"Shao Shi-Ching [note 3]\"],\"legendgroup\":\"1960\",\"line\":{\"color\":\"rgba(255,255,255,0)\"},\"marker\":{\"color\":\"#19d3f3\"},\"name\":\"1960\",\"offsetgroup\":\"1960\",\"orientation\":\"v\",\"pointpos\":0,\"showlegend\":true,\"x\":[\"Mount Everest\",\"Mount Everest\"],\"x0\":\" \",\"xaxis\":\"x\",\"y\":[\"China\",\"China\"],\"y0\":\" \",\"yaxis\":\"y\",\"type\":\"box\"},{\"alignmentgroup\":\"True\",\"boxpoints\":\"all\",\"customdata\":[[\"1963-03-23T00:00:00\"]],\"fillcolor\":\"rgba(255,255,255,0)\",\"hoveron\":\"points\",\"hovertemplate\":\"<b>%{hovertext}</b><br><br>year=1963<br>Mountain=%{x}<br>Nationality=%{y}<br>Date=%{customdata[0]}<extra></extra>\",\"hovertext\":[\"Jake Breitenbach\"],\"legendgroup\":\"1963\",\"line\":{\"color\":\"rgba(255,255,255,0)\"},\"marker\":{\"color\":\"#FF6692\"},\"name\":\"1963\",\"offsetgroup\":\"1963\",\"orientation\":\"v\",\"pointpos\":0,\"showlegend\":true,\"x\":[\"Mount Everest\"],\"x0\":\" \",\"xaxis\":\"x\",\"y\":[\"United States\"],\"y0\":\" \",\"yaxis\":\"y\",\"type\":\"box\"},{\"alignmentgroup\":\"True\",\"boxpoints\":\"all\",\"customdata\":[[\"1966-05-01T00:00:00\"]],\"fillcolor\":\"rgba(255,255,255,0)\",\"hoveron\":\"points\",\"hovertemplate\":\"<b>%{hovertext}</b><br><br>year=1966<br>Mountain=%{x}<br>Nationality=%{y}<br>Date=%{customdata[0]}<extra></extra>\",\"hovertext\":[\"Ma Gao-shu\"],\"legendgroup\":\"1966\",\"line\":{\"color\":\"rgba(255,255,255,0)\"},\"marker\":{\"color\":\"#B6E880\"},\"name\":\"1966\",\"offsetgroup\":\"1966\",\"orientation\":\"v\",\"pointpos\":0,\"showlegend\":true,\"x\":[\"Mount Everest\"],\"x0\":\" \",\"xaxis\":\"x\",\"y\":[\"China\"],\"y0\":\" \",\"yaxis\":\"y\",\"type\":\"box\"}],                        {\"template\":{\"data\":{\"histogram2dcontour\":[{\"type\":\"histogram2dcontour\",\"colorbar\":{\"outlinewidth\":0,\"ticks\":\"\"},\"colorscale\":[[0.0,\"#0d0887\"],[0.1111111111111111,\"#46039f\"],[0.2222222222222222,\"#7201a8\"],[0.3333333333333333,\"#9c179e\"],[0.4444444444444444,\"#bd3786\"],[0.5555555555555556,\"#d8576b\"],[0.6666666666666666,\"#ed7953\"],[0.7777777777777778,\"#fb9f3a\"],[0.8888888888888888,\"#fdca26\"],[1.0,\"#f0f921\"]]}],\"choropleth\":[{\"type\":\"choropleth\",\"colorbar\":{\"outlinewidth\":0,\"ticks\":\"\"}}],\"histogram2d\":[{\"type\":\"histogram2d\",\"colorbar\":{\"outlinewidth\":0,\"ticks\":\"\"},\"colorscale\":[[0.0,\"#0d0887\"],[0.1111111111111111,\"#46039f\"],[0.2222222222222222,\"#7201a8\"],[0.3333333333333333,\"#9c179e\"],[0.4444444444444444,\"#bd3786\"],[0.5555555555555556,\"#d8576b\"],[0.6666666666666666,\"#ed7953\"],[0.7777777777777778,\"#fb9f3a\"],[0.8888888888888888,\"#fdca26\"],[1.0,\"#f0f921\"]]}],\"heatmap\":[{\"type\":\"heatmap\",\"colorbar\":{\"outlinewidth\":0,\"ticks\":\"\"},\"colorscale\":[[0.0,\"#0d0887\"],[0.1111111111111111,\"#46039f\"],[0.2222222222222222,\"#7201a8\"],[0.3333333333333333,\"#9c179e\"],[0.4444444444444444,\"#bd3786\"],[0.5555555555555556,\"#d8576b\"],[0.6666666666666666,\"#ed7953\"],[0.7777777777777778,\"#fb9f3a\"],[0.8888888888888888,\"#fdca26\"],[1.0,\"#f0f921\"]]}],\"heatmapgl\":[{\"type\":\"heatmapgl\",\"colorbar\":{\"outlinewidth\":0,\"ticks\":\"\"},\"colorscale\":[[0.0,\"#0d0887\"],[0.1111111111111111,\"#46039f\"],[0.2222222222222222,\"#7201a8\"],[0.3333333333333333,\"#9c179e\"],[0.4444444444444444,\"#bd3786\"],[0.5555555555555556,\"#d8576b\"],[0.6666666666666666,\"#ed7953\"],[0.7777777777777778,\"#fb9f3a\"],[0.8888888888888888,\"#fdca26\"],[1.0,\"#f0f921\"]]}],\"contourcarpet\":[{\"type\":\"contourcarpet\",\"colorbar\":{\"outlinewidth\":0,\"ticks\":\"\"}}],\"contour\":[{\"type\":\"contour\",\"colorbar\":{\"outlinewidth\":0,\"ticks\":\"\"},\"colorscale\":[[0.0,\"#0d0887\"],[0.1111111111111111,\"#46039f\"],[0.2222222222222222,\"#7201a8\"],[0.3333333333333333,\"#9c179e\"],[0.4444444444444444,\"#bd3786\"],[0.5555555555555556,\"#d8576b\"],[0.6666666666666666,\"#ed7953\"],[0.7777777777777778,\"#fb9f3a\"],[0.8888888888888888,\"#fdca26\"],[1.0,\"#f0f921\"]]}],\"surface\":[{\"type\":\"surface\",\"colorbar\":{\"outlinewidth\":0,\"ticks\":\"\"},\"colorscale\":[[0.0,\"#0d0887\"],[0.1111111111111111,\"#46039f\"],[0.2222222222222222,\"#7201a8\"],[0.3333333333333333,\"#9c179e\"],[0.4444444444444444,\"#bd3786\"],[0.5555555555555556,\"#d8576b\"],[0.6666666666666666,\"#ed7953\"],[0.7777777777777778,\"#fb9f3a\"],[0.8888888888888888,\"#fdca26\"],[1.0,\"#f0f921\"]]}],\"mesh3d\":[{\"type\":\"mesh3d\",\"colorbar\":{\"outlinewidth\":0,\"ticks\":\"\"}}],\"scatter\":[{\"fillpattern\":{\"fillmode\":\"overlay\",\"size\":10,\"solidity\":0.2},\"type\":\"scatter\"}],\"parcoords\":[{\"type\":\"parcoords\",\"line\":{\"colorbar\":{\"outlinewidth\":0,\"ticks\":\"\"}}}],\"scatterpolargl\":[{\"type\":\"scatterpolargl\",\"marker\":{\"colorbar\":{\"outlinewidth\":0,\"ticks\":\"\"}}}],\"bar\":[{\"error_x\":{\"color\":\"#2a3f5f\"},\"error_y\":{\"color\":\"#2a3f5f\"},\"marker\":{\"line\":{\"color\":\"#E5ECF6\",\"width\":0.5},\"pattern\":{\"fillmode\":\"overlay\",\"size\":10,\"solidity\":0.2}},\"type\":\"bar\"}],\"scattergeo\":[{\"type\":\"scattergeo\",\"marker\":{\"colorbar\":{\"outlinewidth\":0,\"ticks\":\"\"}}}],\"scatterpolar\":[{\"type\":\"scatterpolar\",\"marker\":{\"colorbar\":{\"outlinewidth\":0,\"ticks\":\"\"}}}],\"histogram\":[{\"marker\":{\"pattern\":{\"fillmode\":\"overlay\",\"size\":10,\"solidity\":0.2}},\"type\":\"histogram\"}],\"scattergl\":[{\"type\":\"scattergl\",\"marker\":{\"colorbar\":{\"outlinewidth\":0,\"ticks\":\"\"}}}],\"scatter3d\":[{\"type\":\"scatter3d\",\"line\":{\"colorbar\":{\"outlinewidth\":0,\"ticks\":\"\"}},\"marker\":{\"colorbar\":{\"outlinewidth\":0,\"ticks\":\"\"}}}],\"scattermapbox\":[{\"type\":\"scattermapbox\",\"marker\":{\"colorbar\":{\"outlinewidth\":0,\"ticks\":\"\"}}}],\"scatterternary\":[{\"type\":\"scatterternary\",\"marker\":{\"colorbar\":{\"outlinewidth\":0,\"ticks\":\"\"}}}],\"scattercarpet\":[{\"type\":\"scattercarpet\",\"marker\":{\"colorbar\":{\"outlinewidth\":0,\"ticks\":\"\"}}}],\"carpet\":[{\"aaxis\":{\"endlinecolor\":\"#2a3f5f\",\"gridcolor\":\"white\",\"linecolor\":\"white\",\"minorgridcolor\":\"white\",\"startlinecolor\":\"#2a3f5f\"},\"baxis\":{\"endlinecolor\":\"#2a3f5f\",\"gridcolor\":\"white\",\"linecolor\":\"white\",\"minorgridcolor\":\"white\",\"startlinecolor\":\"#2a3f5f\"},\"type\":\"carpet\"}],\"table\":[{\"cells\":{\"fill\":{\"color\":\"#EBF0F8\"},\"line\":{\"color\":\"white\"}},\"header\":{\"fill\":{\"color\":\"#C8D4E3\"},\"line\":{\"color\":\"white\"}},\"type\":\"table\"}],\"barpolar\":[{\"marker\":{\"line\":{\"color\":\"#E5ECF6\",\"width\":0.5},\"pattern\":{\"fillmode\":\"overlay\",\"size\":10,\"solidity\":0.2}},\"type\":\"barpolar\"}],\"pie\":[{\"automargin\":true,\"type\":\"pie\"}]},\"layout\":{\"autotypenumbers\":\"strict\",\"colorway\":[\"#636efa\",\"#EF553B\",\"#00cc96\",\"#ab63fa\",\"#FFA15A\",\"#19d3f3\",\"#FF6692\",\"#B6E880\",\"#FF97FF\",\"#FECB52\"],\"font\":{\"color\":\"#2a3f5f\"},\"hovermode\":\"closest\",\"hoverlabel\":{\"align\":\"left\"},\"paper_bgcolor\":\"white\",\"plot_bgcolor\":\"#E5ECF6\",\"polar\":{\"bgcolor\":\"#E5ECF6\",\"angularaxis\":{\"gridcolor\":\"white\",\"linecolor\":\"white\",\"ticks\":\"\"},\"radialaxis\":{\"gridcolor\":\"white\",\"linecolor\":\"white\",\"ticks\":\"\"}},\"ternary\":{\"bgcolor\":\"#E5ECF6\",\"aaxis\":{\"gridcolor\":\"white\",\"linecolor\":\"white\",\"ticks\":\"\"},\"baxis\":{\"gridcolor\":\"white\",\"linecolor\":\"white\",\"ticks\":\"\"},\"caxis\":{\"gridcolor\":\"white\",\"linecolor\":\"white\",\"ticks\":\"\"}},\"coloraxis\":{\"colorbar\":{\"outlinewidth\":0,\"ticks\":\"\"}},\"colorscale\":{\"sequential\":[[0.0,\"#0d0887\"],[0.1111111111111111,\"#46039f\"],[0.2222222222222222,\"#7201a8\"],[0.3333333333333333,\"#9c179e\"],[0.4444444444444444,\"#bd3786\"],[0.5555555555555556,\"#d8576b\"],[0.6666666666666666,\"#ed7953\"],[0.7777777777777778,\"#fb9f3a\"],[0.8888888888888888,\"#fdca26\"],[1.0,\"#f0f921\"]],\"sequentialminus\":[[0.0,\"#0d0887\"],[0.1111111111111111,\"#46039f\"],[0.2222222222222222,\"#7201a8\"],[0.3333333333333333,\"#9c179e\"],[0.4444444444444444,\"#bd3786\"],[0.5555555555555556,\"#d8576b\"],[0.6666666666666666,\"#ed7953\"],[0.7777777777777778,\"#fb9f3a\"],[0.8888888888888888,\"#fdca26\"],[1.0,\"#f0f921\"]],\"diverging\":[[0,\"#8e0152\"],[0.1,\"#c51b7d\"],[0.2,\"#de77ae\"],[0.3,\"#f1b6da\"],[0.4,\"#fde0ef\"],[0.5,\"#f7f7f7\"],[0.6,\"#e6f5d0\"],[0.7,\"#b8e186\"],[0.8,\"#7fbc41\"],[0.9,\"#4d9221\"],[1,\"#276419\"]]},\"xaxis\":{\"gridcolor\":\"white\",\"linecolor\":\"white\",\"ticks\":\"\",\"title\":{\"standoff\":15},\"zerolinecolor\":\"white\",\"automargin\":true,\"zerolinewidth\":2},\"yaxis\":{\"gridcolor\":\"white\",\"linecolor\":\"white\",\"ticks\":\"\",\"title\":{\"standoff\":15},\"zerolinecolor\":\"white\",\"automargin\":true,\"zerolinewidth\":2},\"scene\":{\"xaxis\":{\"backgroundcolor\":\"#E5ECF6\",\"gridcolor\":\"white\",\"linecolor\":\"white\",\"showbackground\":true,\"ticks\":\"\",\"zerolinecolor\":\"white\",\"gridwidth\":2},\"yaxis\":{\"backgroundcolor\":\"#E5ECF6\",\"gridcolor\":\"white\",\"linecolor\":\"white\",\"showbackground\":true,\"ticks\":\"\",\"zerolinecolor\":\"white\",\"gridwidth\":2},\"zaxis\":{\"backgroundcolor\":\"#E5ECF6\",\"gridcolor\":\"white\",\"linecolor\":\"white\",\"showbackground\":true,\"ticks\":\"\",\"zerolinecolor\":\"white\",\"gridwidth\":2}},\"shapedefaults\":{\"line\":{\"color\":\"#2a3f5f\"}},\"annotationdefaults\":{\"arrowcolor\":\"#2a3f5f\",\"arrowhead\":0,\"arrowwidth\":1},\"geo\":{\"bgcolor\":\"white\",\"landcolor\":\"#E5ECF6\",\"subunitcolor\":\"white\",\"showland\":true,\"showlakes\":true,\"lakecolor\":\"white\"},\"title\":{\"x\":0.05},\"mapbox\":{\"style\":\"light\"}}},\"xaxis\":{\"anchor\":\"y\",\"domain\":[0.0,1.0],\"title\":{\"text\":\"Mountain\"}},\"yaxis\":{\"anchor\":\"x\",\"domain\":[0.0,1.0],\"title\":{\"text\":\"Nationality\"}},\"legend\":{\"title\":{\"text\":\"year\"},\"tracegroupgap\":0},\"margin\":{\"t\":60},\"boxmode\":\"overlay\",\"height\":1500},                        {\"responsive\": true}                    ).then(function(){\n",
       "                            \n",
       "var gd = document.getElementById('551724c0-803c-4ae8-a8d3-e8e962c8fb0d');\n",
       "var x = new MutationObserver(function (mutations, observer) {{\n",
       "        var display = window.getComputedStyle(gd).display;\n",
       "        if (!display || display === 'none') {{\n",
       "            console.log([gd, 'removed!']);\n",
       "            Plotly.purge(gd);\n",
       "            observer.disconnect();\n",
       "        }}\n",
       "}});\n",
       "\n",
       "// Listen for the removal of the full notebook cells\n",
       "var notebookContainer = gd.closest('#notebook-container');\n",
       "if (notebookContainer) {{\n",
       "    x.observe(notebookContainer, {childList: true});\n",
       "}}\n",
       "\n",
       "// Listen for the clearing of the current output cell\n",
       "var outputEl = gd.closest('.output');\n",
       "if (outputEl) {{\n",
       "    x.observe(outputEl, {childList: true});\n",
       "}}\n",
       "\n",
       "                        })                };                });            </script>        </div>"
      ]
     },
     "metadata": {},
     "output_type": "display_data"
    }
   ],
   "source": [
    "from plotly.express import strip\n",
    "strip(data_frame=df, y='Nationality', x='Mountain', hover_name='Name', hover_data=['Date'], height=1500, stripmode='overlay', color='year')"
   ]
  },
  {
   "cell_type": "code",
   "execution_count": 25,
   "metadata": {
    "execution": {
     "iopub.execute_input": "2024-02-12T01:39:21.583482Z",
     "iopub.status.busy": "2024-02-12T01:39:21.582769Z",
     "iopub.status.idle": "2024-02-12T01:39:21.698007Z",
     "shell.execute_reply": "2024-02-12T01:39:21.69682Z",
     "shell.execute_reply.started": "2024-02-12T01:39:21.583432Z"
    },
    "scrolled": false
   },
   "outputs": [
    {
     "data": {
      "application/vnd.plotly.v1+json": {
       "config": {
        "plotlyServerURL": "https://plot.ly"
       },
       "data": [
        {
         "hovertemplate": "Mountain=%{x}<br>Nationality=%{y}<br>count=%{marker.size}<extra></extra>",
         "legendgroup": "",
         "marker": {
          "color": "#636efa",
          "size": [
           1,
           3,
           1,
           1,
           1,
           1,
           1,
           1,
           2,
           1,
           7,
           1,
           1,
           1,
           1,
           1,
           2,
           1,
           2,
           3,
           1,
           5,
           3,
           3,
           1,
           1,
           1,
           1,
           1,
           1,
           1,
           1,
           6,
           15,
           2,
           2,
           1,
           1,
           1,
           3,
           1,
           1,
           1,
           4,
           1,
           2,
           7,
           1,
           1,
           1,
           1,
           3,
           1,
           1,
           12,
           2,
           1,
           2,
           1,
           1,
           3,
           2,
           2,
           2,
           1,
           2,
           2,
           1,
           1,
           2,
           5,
           3,
           2,
           1,
           1,
           1,
           1,
           7,
           2,
           2,
           3,
           1,
           4,
           4,
           3,
           1,
           2,
           9,
           6,
           1,
           1,
           6,
           2,
           2,
           3,
           2,
           1,
           3,
           6,
           1,
           6,
           1,
           3,
           1,
           1,
           1,
           2,
           1,
           3,
           1,
           1,
           1,
           12,
           3,
           25,
           3,
           1,
           1,
           1,
           1,
           2,
           1,
           1,
           3,
           3,
           1,
           1,
           2,
           1,
           5,
           4,
           3,
           3,
           3,
           13,
           1,
           1,
           15,
           4,
           4,
           3,
           3,
           1,
           1,
           9,
           19,
           13,
           2,
           2,
           1,
           1,
           1,
           1,
           1,
           2,
           1,
           1,
           2,
           1,
           10,
           18,
           10,
           21,
           2,
           6,
           11,
           6,
           18,
           18,
           126,
           3,
           1,
           2,
           1,
           1,
           1,
           1,
           1,
           3,
           2,
           1,
           1,
           3,
           6,
           1,
           9,
           4,
           1,
           6,
           1,
           1,
           1,
           4,
           2,
           4,
           3,
           3,
           7,
           3,
           1,
           2,
           1,
           2,
           3,
           7,
           1,
           4,
           3,
           2,
           8,
           1,
           1,
           1,
           1,
           1,
           2,
           2,
           1,
           2,
           2,
           1,
           1,
           1,
           1,
           7,
           7,
           2,
           1,
           7,
           4,
           2,
           7,
           11,
           4,
           1,
           1,
           3,
           3,
           1,
           2,
           6,
           8,
           4,
           8,
           1,
           5,
           1,
           4,
           4,
           3,
           1,
           2,
           1,
           1,
           6,
           1,
           2,
           1,
           1,
           3,
           2,
           3,
           2,
           3,
           1,
           2,
           1,
           1,
           1,
           3,
           1,
           1,
           3,
           2,
           5,
           3,
           1,
           1,
           5,
           1,
           19,
           4,
           3,
           1,
           1,
           7,
           2,
           6,
           2,
           2,
           3,
           18,
           2,
           3,
           1,
           1,
           2,
           1,
           1,
           3,
           1,
           1,
           1,
           1,
           1,
           1,
           1,
           3,
           2,
           1
          ],
          "sizemode": "area",
          "sizeref": 0.315,
          "symbol": "circle"
         },
         "mode": "markers",
         "name": "",
         "orientation": "v",
         "showlegend": false,
         "type": "scatter",
         "x": [
          "K2",
          "Dhaulagiri I",
          "Gasherbrum I",
          "Manaslu",
          "Nanga Parbat",
          "Cho Oyu",
          "Dhaulagiri I",
          "K2",
          "Makalu",
          "Manaslu",
          "Mount Everest",
          "Shishapangma",
          "Mount Everest",
          "Mount Everest",
          "Annapurna I",
          "Broad Peak",
          "Dhaulagiri I",
          "Gasherbrum I",
          "Gasherbrum II",
          "K2",
          "Makalu",
          "Manaslu",
          "Mount Everest",
          "Nanga Parbat",
          "Mount Everest",
          "Kangchenjunga",
          "Annapurna I",
          "Cho Oyu",
          "Gasherbrum II",
          "Manaslu",
          "Mount Everest",
          "Mount Everest",
          "Kangchenjunga",
          "Nanga Parbat",
          "Annapurna I",
          "K2",
          "Kangchenjunga",
          "Lhotse",
          "Manaslu",
          "Mount Everest",
          "Shishapangma",
          "Broad Peak",
          "Cho Oyu",
          "K2",
          "Kangchenjunga",
          "Manaslu",
          "Mount Everest",
          "Gasherbrum I",
          "K2",
          "Kangchenjunga",
          "Mount Everest",
          "Dhaulagiri I",
          "Lhotse",
          "Makalu",
          "Mount Everest",
          "Nanga Parbat",
          "Nanga Parbat",
          "Manaslu",
          "Mount Everest",
          "Annapurna I",
          "Broad Peak",
          "Cho Oyu",
          "Gasherbrum I",
          "Lhotse",
          "Manaslu",
          "Mount Everest",
          "Shishapangma",
          "Annapurna I",
          "Dhaulagiri I",
          "Makalu",
          "Mount Everest",
          "Makalu",
          "Mount Everest",
          "Annapurna I",
          "Mount Everest",
          "Annapurna I",
          "Cho Oyu",
          "Annapurna I",
          "Broad Peak",
          "Cho Oyu",
          "Dhaulagiri I",
          "Gasherbrum I",
          "Gasherbrum II",
          "K2",
          "Kangchenjunga",
          "Lhotse",
          "Makalu",
          "Manaslu",
          "Mount Everest",
          "Nanga Parbat",
          "Broad Peak",
          "Cho Oyu",
          "Dhaulagiri I",
          "Gasherbrum II",
          "K2",
          "Kangchenjunga",
          "Makalu",
          "Manaslu",
          "Mount Everest",
          "Nanga Parbat",
          "Shishapangma",
          "Cho Oyu",
          "Dhaulagiri I",
          "Makalu",
          "Broad Peak",
          "Annapurna I",
          "Kangchenjunga",
          "Manaslu",
          "Mount Everest",
          "K2",
          "Cho Oyu",
          "Dhaulagiri I",
          "Kangchenjunga",
          "Makalu",
          "Mount Everest",
          "Broad Peak",
          "Dhaulagiri I",
          "Gasherbrum I",
          "Gasherbrum II",
          "K2",
          "Manaslu",
          "Nanga Parbat",
          "K2",
          "Mount Everest",
          "Annapurna I",
          "Broad Peak",
          "Cho Oyu",
          "Dhaulagiri I",
          "Gasherbrum I",
          "K2",
          "Manaslu",
          "Mount Everest",
          "Nanga Parbat",
          "Shishapangma",
          "Annapurna I",
          "Broad Peak",
          "Cho Oyu",
          "Dhaulagiri I",
          "Gasherbrum I",
          "Gasherbrum II",
          "K2",
          "Kangchenjunga",
          "Lhotse",
          "Makalu",
          "Manaslu",
          "Mount Everest",
          "Nanga Parbat",
          "Shishapangma",
          "Annapurna I",
          "Lhotse",
          "K2",
          "Dhaulagiri I",
          "Nanga Parbat",
          "Annapurna I",
          "Mount Everest",
          "Gasherbrum I",
          "K2",
          "Kangchenjunga",
          "Mount Everest",
          "Nanga Parbat",
          "Annapurna I",
          "Cho Oyu",
          "Dhaulagiri I",
          "Gasherbrum I",
          "K2",
          "Kangchenjunga",
          "Lhotse",
          "Makalu",
          "Manaslu",
          "Mount Everest",
          "Nanga Parbat",
          "Shishapangma",
          "Cho Oyu",
          "Dhaulagiri I",
          "Mount Everest",
          "Dhaulagiri I",
          "K2",
          "Makalu",
          "Mount Everest",
          "K2",
          "Mount Everest",
          "K2",
          "Broad Peak",
          "Gasherbrum I",
          "Gasherbrum II",
          "K2",
          "Nanga Parbat",
          "Makalu",
          "Broad Peak",
          "Dhaulagiri I",
          "Gasherbrum I",
          "Gasherbrum II",
          "K2",
          "Kangchenjunga",
          "Lhotse",
          "Makalu",
          "Manaslu",
          "Mount Everest",
          "Nanga Parbat",
          "Shishapangma",
          "Dhaulagiri I",
          "K2",
          "Nanga Parbat",
          "Cho Oyu",
          "K2",
          "Kangchenjunga",
          "Lhotse",
          "Makalu",
          "Manaslu",
          "Mount Everest",
          "Shishapangma",
          "K2",
          "Mount Everest",
          "Broad Peak",
          "Cho Oyu",
          "Dhaulagiri I",
          "Manaslu",
          "Mount Everest",
          "Nanga Parbat",
          "Shishapangma",
          "Cho Oyu",
          "K2",
          "Manaslu",
          "Mount Everest",
          "Annapurna I",
          "Broad Peak",
          "Cho Oyu",
          "Dhaulagiri I",
          "K2",
          "Kangchenjunga",
          "Lhotse",
          "Manaslu",
          "Mount Everest",
          "Nanga Parbat",
          "Shishapangma",
          "Cho Oyu",
          "Manaslu",
          "Annapurna I",
          "Broad Peak",
          "Cho Oyu",
          "Dhaulagiri I",
          "Gasherbrum I",
          "Gasherbrum II",
          "K2",
          "Kangchenjunga",
          "Lhotse",
          "Makalu",
          "Manaslu",
          "Mount Everest",
          "Nanga Parbat",
          "Shishapangma",
          "K2",
          "Mount Everest",
          "Annapurna I",
          "Cho Oyu",
          "Dhaulagiri I",
          "Gasherbrum I",
          "Gasherbrum II",
          "Kangchenjunga",
          "Lhotse",
          "Makalu",
          "Mount Everest",
          "Nanga Parbat",
          "Shishapangma",
          "Lhotse",
          "Mount Everest",
          "Shishapangma",
          "Dhaulagiri I",
          "Gasherbrum I",
          "K2",
          "Makalu",
          "Mount Everest",
          "Nanga Parbat",
          "Shishapangma",
          "Annapurna I",
          "Broad Peak",
          "Cho Oyu",
          "Dhaulagiri I",
          "K2",
          "Manaslu",
          "Mount Everest",
          "Nanga Parbat",
          "Annapurna I",
          "Broad Peak",
          "Cho Oyu",
          "Dhaulagiri I",
          "Gasherbrum II",
          "K2",
          "Kangchenjunga",
          "Makalu",
          "Manaslu",
          "Mount Everest",
          "Nanga Parbat",
          "Shishapangma",
          "Mount Everest",
          "Mount Everest",
          "Annapurna I",
          "Nanga Parbat",
          "Broad Peak",
          "Cho Oyu",
          "Gasherbrum II",
          "Lhotse",
          "Manaslu",
          "Mount Everest",
          "Nanga Parbat",
          "Cho Oyu",
          "Gasherbrum I",
          "Kangchenjunga",
          "Manaslu",
          "Mount Everest"
         ],
         "xaxis": "x",
         "y": [
          "Afghanistan",
          "Argentina",
          "Argentina",
          "Argentina",
          "Argentina",
          "Australia",
          "Australia",
          "Australia",
          "Australia",
          "Australia",
          "Australia",
          "Australia",
          "Australia  India",
          "Australia  South Africa",
          "Austria",
          "Austria",
          "Austria",
          "Austria",
          "Austria",
          "Austria",
          "Austria",
          "Austria",
          "Austria",
          "Austria",
          "Bangladesh",
          "Belarus",
          "Belgium",
          "Belgium",
          "Belgium",
          "Belgium",
          "Belgium",
          "Brazil",
          "British Raj",
          "British Raj",
          "Bulgaria",
          "Bulgaria",
          "Bulgaria",
          "Bulgaria",
          "Bulgaria",
          "Bulgaria",
          "Bulgaria",
          "Canada",
          "Canada",
          "Canada",
          "Canada",
          "Canada",
          "Canada",
          "Chile",
          "Chile",
          "Chile",
          "Chile",
          "China",
          "China",
          "China",
          "China",
          "China",
          "China (USA/China dual national)",
          "Colombia",
          "Czech",
          "Czech Republic",
          "Czech Republic",
          "Czech Republic",
          "Czech Republic",
          "Czech Republic",
          "Czech Republic",
          "Czech Republic",
          "Czech Republic",
          "Czechoslovakia",
          "Czechoslovakia",
          "Czechoslovakia",
          "Czechoslovakia",
          "Denmark",
          "Denmark",
          "Ecuador",
          "FR Yugoslavia",
          "Finland",
          "Finland",
          "France",
          "France",
          "France",
          "France",
          "France",
          "France",
          "France",
          "France",
          "France",
          "France",
          "France",
          "France",
          "France",
          "Germany",
          "Germany",
          "Germany",
          "Germany",
          "Germany",
          "Germany",
          "Germany",
          "Germany",
          "Germany",
          "Germany",
          "Germany",
          "Greece",
          "Greece",
          "Greece",
          "Hong Kong",
          "Hungary",
          "Hungary",
          "Hungary",
          "Hungary",
          "Iceland",
          "India",
          "India",
          "India",
          "India",
          "India",
          "Iran",
          "Iran",
          "Iran",
          "Iran",
          "Iran",
          "Iran",
          "Iran",
          "Ireland",
          "Ireland",
          "Italy",
          "Italy",
          "Italy",
          "Italy",
          "Italy",
          "Italy",
          "Italy",
          "Italy",
          "Italy",
          "Italy",
          "Japan",
          "Japan",
          "Japan",
          "Japan",
          "Japan",
          "Japan",
          "Japan",
          "Japan",
          "Japan",
          "Japan",
          "Japan",
          "Japan",
          "Japan",
          "Japan",
          "Kazakhstan",
          "Kazakhstan",
          "Kyrgyzstan",
          "Lithuania",
          "Lithuania",
          "Malaysia",
          "Malaysia",
          "Mexico",
          "Mexico",
          "Mexico",
          "Moldova",
          "Nazi Germany",
          "Nepal",
          "Nepal",
          "Nepal",
          "Nepal",
          "Nepal",
          "Nepal",
          "Nepal",
          "Nepal",
          "Nepal",
          "Nepal",
          "Nepal",
          "Nepal",
          "Netherlands",
          "Netherlands",
          "Netherlands",
          "New Zealand",
          "New Zealand",
          "New Zealand",
          "New Zealand",
          "New Zealand / United States",
          "North Macedonia",
          "Norway",
          "Pakistan",
          "Pakistan",
          "Pakistan",
          "Pakistan",
          "Pakistan",
          "Peru",
          "Poland",
          "Poland",
          "Poland",
          "Poland",
          "Poland",
          "Poland",
          "Poland",
          "Poland",
          "Poland",
          "Poland",
          "Poland",
          "Portugal",
          "Romania",
          "Romania",
          "Romania",
          "Russia",
          "Russia",
          "Russia",
          "Russia",
          "Russia",
          "Russia",
          "Russia",
          "Russia",
          "Serbia",
          "Singapore",
          "Slovakia",
          "Slovakia",
          "Slovakia",
          "Slovakia",
          "Slovakia",
          "Slovakia",
          "Slovakia",
          "Slovenia",
          "Slovenia",
          "Slovenia",
          "Slovenia",
          "South Korea",
          "South Korea",
          "South Korea",
          "South Korea",
          "South Korea",
          "South Korea",
          "South Korea",
          "South Korea",
          "South Korea",
          "South Korea",
          "South Korea",
          "Soviet Union",
          "Soviet Union",
          "Spain",
          "Spain",
          "Spain",
          "Spain",
          "Spain",
          "Spain",
          "Spain",
          "Spain",
          "Spain",
          "Spain",
          "Spain",
          "Spain",
          "Spain",
          "Spain",
          "Sweden",
          "Sweden",
          "Switzerland",
          "Switzerland",
          "Switzerland",
          "Switzerland",
          "Switzerland",
          "Switzerland",
          "Switzerland",
          "Switzerland",
          "Switzerland",
          "Switzerland",
          "Switzerland",
          "Taiwan",
          "Taiwan",
          "Taiwan",
          "Ukraine",
          "Ukraine",
          "Ukraine",
          "Ukraine",
          "Ukraine",
          "Ukraine",
          "Ukraine",
          "United Kingdom",
          "United Kingdom",
          "United Kingdom",
          "United Kingdom",
          "United Kingdom",
          "United Kingdom",
          "United Kingdom",
          "United Kingdom",
          "United States",
          "United States",
          "United States",
          "United States",
          "United States",
          "United States",
          "United States",
          "United States",
          "United States",
          "United States",
          "United States",
          "United States",
          "United States  Vietnam",
          "United States Bolivia",
          "Uzbekistan",
          "Venezuela",
          "West Germany",
          "West Germany",
          "West Germany",
          "West Germany",
          "West Germany",
          "West Germany",
          "West Germany",
          "Yugoslavia",
          "Yugoslavia",
          "Yugoslavia",
          "Yugoslavia",
          "Yugoslavia"
         ],
         "yaxis": "y"
        }
       ],
       "layout": {
        "height": 1500,
        "legend": {
         "itemsizing": "constant",
         "tracegroupgap": 0
        },
        "margin": {
         "t": 60
        },
        "template": {
         "data": {
          "bar": [
           {
            "error_x": {
             "color": "#2a3f5f"
            },
            "error_y": {
             "color": "#2a3f5f"
            },
            "marker": {
             "line": {
              "color": "#E5ECF6",
              "width": 0.5
             },
             "pattern": {
              "fillmode": "overlay",
              "size": 10,
              "solidity": 0.2
             }
            },
            "type": "bar"
           }
          ],
          "barpolar": [
           {
            "marker": {
             "line": {
              "color": "#E5ECF6",
              "width": 0.5
             },
             "pattern": {
              "fillmode": "overlay",
              "size": 10,
              "solidity": 0.2
             }
            },
            "type": "barpolar"
           }
          ],
          "carpet": [
           {
            "aaxis": {
             "endlinecolor": "#2a3f5f",
             "gridcolor": "white",
             "linecolor": "white",
             "minorgridcolor": "white",
             "startlinecolor": "#2a3f5f"
            },
            "baxis": {
             "endlinecolor": "#2a3f5f",
             "gridcolor": "white",
             "linecolor": "white",
             "minorgridcolor": "white",
             "startlinecolor": "#2a3f5f"
            },
            "type": "carpet"
           }
          ],
          "choropleth": [
           {
            "colorbar": {
             "outlinewidth": 0,
             "ticks": ""
            },
            "type": "choropleth"
           }
          ],
          "contour": [
           {
            "colorbar": {
             "outlinewidth": 0,
             "ticks": ""
            },
            "colorscale": [
             [
              0,
              "#0d0887"
             ],
             [
              0.1111111111111111,
              "#46039f"
             ],
             [
              0.2222222222222222,
              "#7201a8"
             ],
             [
              0.3333333333333333,
              "#9c179e"
             ],
             [
              0.4444444444444444,
              "#bd3786"
             ],
             [
              0.5555555555555556,
              "#d8576b"
             ],
             [
              0.6666666666666666,
              "#ed7953"
             ],
             [
              0.7777777777777778,
              "#fb9f3a"
             ],
             [
              0.8888888888888888,
              "#fdca26"
             ],
             [
              1,
              "#f0f921"
             ]
            ],
            "type": "contour"
           }
          ],
          "contourcarpet": [
           {
            "colorbar": {
             "outlinewidth": 0,
             "ticks": ""
            },
            "type": "contourcarpet"
           }
          ],
          "heatmap": [
           {
            "colorbar": {
             "outlinewidth": 0,
             "ticks": ""
            },
            "colorscale": [
             [
              0,
              "#0d0887"
             ],
             [
              0.1111111111111111,
              "#46039f"
             ],
             [
              0.2222222222222222,
              "#7201a8"
             ],
             [
              0.3333333333333333,
              "#9c179e"
             ],
             [
              0.4444444444444444,
              "#bd3786"
             ],
             [
              0.5555555555555556,
              "#d8576b"
             ],
             [
              0.6666666666666666,
              "#ed7953"
             ],
             [
              0.7777777777777778,
              "#fb9f3a"
             ],
             [
              0.8888888888888888,
              "#fdca26"
             ],
             [
              1,
              "#f0f921"
             ]
            ],
            "type": "heatmap"
           }
          ],
          "heatmapgl": [
           {
            "colorbar": {
             "outlinewidth": 0,
             "ticks": ""
            },
            "colorscale": [
             [
              0,
              "#0d0887"
             ],
             [
              0.1111111111111111,
              "#46039f"
             ],
             [
              0.2222222222222222,
              "#7201a8"
             ],
             [
              0.3333333333333333,
              "#9c179e"
             ],
             [
              0.4444444444444444,
              "#bd3786"
             ],
             [
              0.5555555555555556,
              "#d8576b"
             ],
             [
              0.6666666666666666,
              "#ed7953"
             ],
             [
              0.7777777777777778,
              "#fb9f3a"
             ],
             [
              0.8888888888888888,
              "#fdca26"
             ],
             [
              1,
              "#f0f921"
             ]
            ],
            "type": "heatmapgl"
           }
          ],
          "histogram": [
           {
            "marker": {
             "pattern": {
              "fillmode": "overlay",
              "size": 10,
              "solidity": 0.2
             }
            },
            "type": "histogram"
           }
          ],
          "histogram2d": [
           {
            "colorbar": {
             "outlinewidth": 0,
             "ticks": ""
            },
            "colorscale": [
             [
              0,
              "#0d0887"
             ],
             [
              0.1111111111111111,
              "#46039f"
             ],
             [
              0.2222222222222222,
              "#7201a8"
             ],
             [
              0.3333333333333333,
              "#9c179e"
             ],
             [
              0.4444444444444444,
              "#bd3786"
             ],
             [
              0.5555555555555556,
              "#d8576b"
             ],
             [
              0.6666666666666666,
              "#ed7953"
             ],
             [
              0.7777777777777778,
              "#fb9f3a"
             ],
             [
              0.8888888888888888,
              "#fdca26"
             ],
             [
              1,
              "#f0f921"
             ]
            ],
            "type": "histogram2d"
           }
          ],
          "histogram2dcontour": [
           {
            "colorbar": {
             "outlinewidth": 0,
             "ticks": ""
            },
            "colorscale": [
             [
              0,
              "#0d0887"
             ],
             [
              0.1111111111111111,
              "#46039f"
             ],
             [
              0.2222222222222222,
              "#7201a8"
             ],
             [
              0.3333333333333333,
              "#9c179e"
             ],
             [
              0.4444444444444444,
              "#bd3786"
             ],
             [
              0.5555555555555556,
              "#d8576b"
             ],
             [
              0.6666666666666666,
              "#ed7953"
             ],
             [
              0.7777777777777778,
              "#fb9f3a"
             ],
             [
              0.8888888888888888,
              "#fdca26"
             ],
             [
              1,
              "#f0f921"
             ]
            ],
            "type": "histogram2dcontour"
           }
          ],
          "mesh3d": [
           {
            "colorbar": {
             "outlinewidth": 0,
             "ticks": ""
            },
            "type": "mesh3d"
           }
          ],
          "parcoords": [
           {
            "line": {
             "colorbar": {
              "outlinewidth": 0,
              "ticks": ""
             }
            },
            "type": "parcoords"
           }
          ],
          "pie": [
           {
            "automargin": true,
            "type": "pie"
           }
          ],
          "scatter": [
           {
            "fillpattern": {
             "fillmode": "overlay",
             "size": 10,
             "solidity": 0.2
            },
            "type": "scatter"
           }
          ],
          "scatter3d": [
           {
            "line": {
             "colorbar": {
              "outlinewidth": 0,
              "ticks": ""
             }
            },
            "marker": {
             "colorbar": {
              "outlinewidth": 0,
              "ticks": ""
             }
            },
            "type": "scatter3d"
           }
          ],
          "scattercarpet": [
           {
            "marker": {
             "colorbar": {
              "outlinewidth": 0,
              "ticks": ""
             }
            },
            "type": "scattercarpet"
           }
          ],
          "scattergeo": [
           {
            "marker": {
             "colorbar": {
              "outlinewidth": 0,
              "ticks": ""
             }
            },
            "type": "scattergeo"
           }
          ],
          "scattergl": [
           {
            "marker": {
             "colorbar": {
              "outlinewidth": 0,
              "ticks": ""
             }
            },
            "type": "scattergl"
           }
          ],
          "scattermapbox": [
           {
            "marker": {
             "colorbar": {
              "outlinewidth": 0,
              "ticks": ""
             }
            },
            "type": "scattermapbox"
           }
          ],
          "scatterpolar": [
           {
            "marker": {
             "colorbar": {
              "outlinewidth": 0,
              "ticks": ""
             }
            },
            "type": "scatterpolar"
           }
          ],
          "scatterpolargl": [
           {
            "marker": {
             "colorbar": {
              "outlinewidth": 0,
              "ticks": ""
             }
            },
            "type": "scatterpolargl"
           }
          ],
          "scatterternary": [
           {
            "marker": {
             "colorbar": {
              "outlinewidth": 0,
              "ticks": ""
             }
            },
            "type": "scatterternary"
           }
          ],
          "surface": [
           {
            "colorbar": {
             "outlinewidth": 0,
             "ticks": ""
            },
            "colorscale": [
             [
              0,
              "#0d0887"
             ],
             [
              0.1111111111111111,
              "#46039f"
             ],
             [
              0.2222222222222222,
              "#7201a8"
             ],
             [
              0.3333333333333333,
              "#9c179e"
             ],
             [
              0.4444444444444444,
              "#bd3786"
             ],
             [
              0.5555555555555556,
              "#d8576b"
             ],
             [
              0.6666666666666666,
              "#ed7953"
             ],
             [
              0.7777777777777778,
              "#fb9f3a"
             ],
             [
              0.8888888888888888,
              "#fdca26"
             ],
             [
              1,
              "#f0f921"
             ]
            ],
            "type": "surface"
           }
          ],
          "table": [
           {
            "cells": {
             "fill": {
              "color": "#EBF0F8"
             },
             "line": {
              "color": "white"
             }
            },
            "header": {
             "fill": {
              "color": "#C8D4E3"
             },
             "line": {
              "color": "white"
             }
            },
            "type": "table"
           }
          ]
         },
         "layout": {
          "annotationdefaults": {
           "arrowcolor": "#2a3f5f",
           "arrowhead": 0,
           "arrowwidth": 1
          },
          "autotypenumbers": "strict",
          "coloraxis": {
           "colorbar": {
            "outlinewidth": 0,
            "ticks": ""
           }
          },
          "colorscale": {
           "diverging": [
            [
             0,
             "#8e0152"
            ],
            [
             0.1,
             "#c51b7d"
            ],
            [
             0.2,
             "#de77ae"
            ],
            [
             0.3,
             "#f1b6da"
            ],
            [
             0.4,
             "#fde0ef"
            ],
            [
             0.5,
             "#f7f7f7"
            ],
            [
             0.6,
             "#e6f5d0"
            ],
            [
             0.7,
             "#b8e186"
            ],
            [
             0.8,
             "#7fbc41"
            ],
            [
             0.9,
             "#4d9221"
            ],
            [
             1,
             "#276419"
            ]
           ],
           "sequential": [
            [
             0,
             "#0d0887"
            ],
            [
             0.1111111111111111,
             "#46039f"
            ],
            [
             0.2222222222222222,
             "#7201a8"
            ],
            [
             0.3333333333333333,
             "#9c179e"
            ],
            [
             0.4444444444444444,
             "#bd3786"
            ],
            [
             0.5555555555555556,
             "#d8576b"
            ],
            [
             0.6666666666666666,
             "#ed7953"
            ],
            [
             0.7777777777777778,
             "#fb9f3a"
            ],
            [
             0.8888888888888888,
             "#fdca26"
            ],
            [
             1,
             "#f0f921"
            ]
           ],
           "sequentialminus": [
            [
             0,
             "#0d0887"
            ],
            [
             0.1111111111111111,
             "#46039f"
            ],
            [
             0.2222222222222222,
             "#7201a8"
            ],
            [
             0.3333333333333333,
             "#9c179e"
            ],
            [
             0.4444444444444444,
             "#bd3786"
            ],
            [
             0.5555555555555556,
             "#d8576b"
            ],
            [
             0.6666666666666666,
             "#ed7953"
            ],
            [
             0.7777777777777778,
             "#fb9f3a"
            ],
            [
             0.8888888888888888,
             "#fdca26"
            ],
            [
             1,
             "#f0f921"
            ]
           ]
          },
          "colorway": [
           "#636efa",
           "#EF553B",
           "#00cc96",
           "#ab63fa",
           "#FFA15A",
           "#19d3f3",
           "#FF6692",
           "#B6E880",
           "#FF97FF",
           "#FECB52"
          ],
          "font": {
           "color": "#2a3f5f"
          },
          "geo": {
           "bgcolor": "white",
           "lakecolor": "white",
           "landcolor": "#E5ECF6",
           "showlakes": true,
           "showland": true,
           "subunitcolor": "white"
          },
          "hoverlabel": {
           "align": "left"
          },
          "hovermode": "closest",
          "mapbox": {
           "style": "light"
          },
          "paper_bgcolor": "white",
          "plot_bgcolor": "#E5ECF6",
          "polar": {
           "angularaxis": {
            "gridcolor": "white",
            "linecolor": "white",
            "ticks": ""
           },
           "bgcolor": "#E5ECF6",
           "radialaxis": {
            "gridcolor": "white",
            "linecolor": "white",
            "ticks": ""
           }
          },
          "scene": {
           "xaxis": {
            "backgroundcolor": "#E5ECF6",
            "gridcolor": "white",
            "gridwidth": 2,
            "linecolor": "white",
            "showbackground": true,
            "ticks": "",
            "zerolinecolor": "white"
           },
           "yaxis": {
            "backgroundcolor": "#E5ECF6",
            "gridcolor": "white",
            "gridwidth": 2,
            "linecolor": "white",
            "showbackground": true,
            "ticks": "",
            "zerolinecolor": "white"
           },
           "zaxis": {
            "backgroundcolor": "#E5ECF6",
            "gridcolor": "white",
            "gridwidth": 2,
            "linecolor": "white",
            "showbackground": true,
            "ticks": "",
            "zerolinecolor": "white"
           }
          },
          "shapedefaults": {
           "line": {
            "color": "#2a3f5f"
           }
          },
          "ternary": {
           "aaxis": {
            "gridcolor": "white",
            "linecolor": "white",
            "ticks": ""
           },
           "baxis": {
            "gridcolor": "white",
            "linecolor": "white",
            "ticks": ""
           },
           "bgcolor": "#E5ECF6",
           "caxis": {
            "gridcolor": "white",
            "linecolor": "white",
            "ticks": ""
           }
          },
          "title": {
           "x": 0.05
          },
          "xaxis": {
           "automargin": true,
           "gridcolor": "white",
           "linecolor": "white",
           "ticks": "",
           "title": {
            "standoff": 15
           },
           "zerolinecolor": "white",
           "zerolinewidth": 2
          },
          "yaxis": {
           "automargin": true,
           "gridcolor": "white",
           "linecolor": "white",
           "ticks": "",
           "title": {
            "standoff": 15
           },
           "zerolinecolor": "white",
           "zerolinewidth": 2
          }
         }
        },
        "xaxis": {
         "anchor": "y",
         "domain": [
          0,
          1
         ],
         "title": {
          "text": "Mountain"
         }
        },
        "yaxis": {
         "anchor": "x",
         "domain": [
          0,
          1
         ],
         "title": {
          "text": "Nationality"
         }
        }
       }
      },
      "text/html": [
       "<div>                            <div id=\"70c8aee5-b358-4467-9bc0-e0448210dc8b\" class=\"plotly-graph-div\" style=\"height:1500px; width:100%;\"></div>            <script type=\"text/javascript\">                require([\"plotly\"], function(Plotly) {                    window.PLOTLYENV=window.PLOTLYENV || {};                                    if (document.getElementById(\"70c8aee5-b358-4467-9bc0-e0448210dc8b\")) {                    Plotly.newPlot(                        \"70c8aee5-b358-4467-9bc0-e0448210dc8b\",                        [{\"hovertemplate\":\"Mountain=%{x}<br>Nationality=%{y}<br>count=%{marker.size}<extra></extra>\",\"legendgroup\":\"\",\"marker\":{\"color\":\"#636efa\",\"size\":[1,3,1,1,1,1,1,1,2,1,7,1,1,1,1,1,2,1,2,3,1,5,3,3,1,1,1,1,1,1,1,1,6,15,2,2,1,1,1,3,1,1,1,4,1,2,7,1,1,1,1,3,1,1,12,2,1,2,1,1,3,2,2,2,1,2,2,1,1,2,5,3,2,1,1,1,1,7,2,2,3,1,4,4,3,1,2,9,6,1,1,6,2,2,3,2,1,3,6,1,6,1,3,1,1,1,2,1,3,1,1,1,12,3,25,3,1,1,1,1,2,1,1,3,3,1,1,2,1,5,4,3,3,3,13,1,1,15,4,4,3,3,1,1,9,19,13,2,2,1,1,1,1,1,2,1,1,2,1,10,18,10,21,2,6,11,6,18,18,126,3,1,2,1,1,1,1,1,3,2,1,1,3,6,1,9,4,1,6,1,1,1,4,2,4,3,3,7,3,1,2,1,2,3,7,1,4,3,2,8,1,1,1,1,1,2,2,1,2,2,1,1,1,1,7,7,2,1,7,4,2,7,11,4,1,1,3,3,1,2,6,8,4,8,1,5,1,4,4,3,1,2,1,1,6,1,2,1,1,3,2,3,2,3,1,2,1,1,1,3,1,1,3,2,5,3,1,1,5,1,19,4,3,1,1,7,2,6,2,2,3,18,2,3,1,1,2,1,1,3,1,1,1,1,1,1,1,3,2,1],\"sizemode\":\"area\",\"sizeref\":0.315,\"symbol\":\"circle\"},\"mode\":\"markers\",\"name\":\"\",\"orientation\":\"v\",\"showlegend\":false,\"x\":[\"K2\",\"Dhaulagiri I\",\"Gasherbrum I\",\"Manaslu\",\"Nanga Parbat\",\"Cho Oyu\",\"Dhaulagiri I\",\"K2\",\"Makalu\",\"Manaslu\",\"Mount Everest\",\"Shishapangma\",\"Mount Everest\",\"Mount Everest\",\"Annapurna I\",\"Broad Peak\",\"Dhaulagiri I\",\"Gasherbrum I\",\"Gasherbrum II\",\"K2\",\"Makalu\",\"Manaslu\",\"Mount Everest\",\"Nanga Parbat\",\"Mount Everest\",\"Kangchenjunga\",\"Annapurna I\",\"Cho Oyu\",\"Gasherbrum II\",\"Manaslu\",\"Mount Everest\",\"Mount Everest\",\"Kangchenjunga\",\"Nanga Parbat\",\"Annapurna I\",\"K2\",\"Kangchenjunga\",\"Lhotse\",\"Manaslu\",\"Mount Everest\",\"Shishapangma\",\"Broad Peak\",\"Cho Oyu\",\"K2\",\"Kangchenjunga\",\"Manaslu\",\"Mount Everest\",\"Gasherbrum I\",\"K2\",\"Kangchenjunga\",\"Mount Everest\",\"Dhaulagiri I\",\"Lhotse\",\"Makalu\",\"Mount Everest\",\"Nanga Parbat\",\"Nanga Parbat\",\"Manaslu\",\"Mount Everest\",\"Annapurna I\",\"Broad Peak\",\"Cho Oyu\",\"Gasherbrum I\",\"Lhotse\",\"Manaslu\",\"Mount Everest\",\"Shishapangma\",\"Annapurna I\",\"Dhaulagiri I\",\"Makalu\",\"Mount Everest\",\"Makalu\",\"Mount Everest\",\"Annapurna I\",\"Mount Everest\",\"Annapurna I\",\"Cho Oyu\",\"Annapurna I\",\"Broad Peak\",\"Cho Oyu\",\"Dhaulagiri I\",\"Gasherbrum I\",\"Gasherbrum II\",\"K2\",\"Kangchenjunga\",\"Lhotse\",\"Makalu\",\"Manaslu\",\"Mount Everest\",\"Nanga Parbat\",\"Broad Peak\",\"Cho Oyu\",\"Dhaulagiri I\",\"Gasherbrum II\",\"K2\",\"Kangchenjunga\",\"Makalu\",\"Manaslu\",\"Mount Everest\",\"Nanga Parbat\",\"Shishapangma\",\"Cho Oyu\",\"Dhaulagiri I\",\"Makalu\",\"Broad Peak\",\"Annapurna I\",\"Kangchenjunga\",\"Manaslu\",\"Mount Everest\",\"K2\",\"Cho Oyu\",\"Dhaulagiri I\",\"Kangchenjunga\",\"Makalu\",\"Mount Everest\",\"Broad Peak\",\"Dhaulagiri I\",\"Gasherbrum I\",\"Gasherbrum II\",\"K2\",\"Manaslu\",\"Nanga Parbat\",\"K2\",\"Mount Everest\",\"Annapurna I\",\"Broad Peak\",\"Cho Oyu\",\"Dhaulagiri I\",\"Gasherbrum I\",\"K2\",\"Manaslu\",\"Mount Everest\",\"Nanga Parbat\",\"Shishapangma\",\"Annapurna I\",\"Broad Peak\",\"Cho Oyu\",\"Dhaulagiri I\",\"Gasherbrum I\",\"Gasherbrum II\",\"K2\",\"Kangchenjunga\",\"Lhotse\",\"Makalu\",\"Manaslu\",\"Mount Everest\",\"Nanga Parbat\",\"Shishapangma\",\"Annapurna I\",\"Lhotse\",\"K2\",\"Dhaulagiri I\",\"Nanga Parbat\",\"Annapurna I\",\"Mount Everest\",\"Gasherbrum I\",\"K2\",\"Kangchenjunga\",\"Mount Everest\",\"Nanga Parbat\",\"Annapurna I\",\"Cho Oyu\",\"Dhaulagiri I\",\"Gasherbrum I\",\"K2\",\"Kangchenjunga\",\"Lhotse\",\"Makalu\",\"Manaslu\",\"Mount Everest\",\"Nanga Parbat\",\"Shishapangma\",\"Cho Oyu\",\"Dhaulagiri I\",\"Mount Everest\",\"Dhaulagiri I\",\"K2\",\"Makalu\",\"Mount Everest\",\"K2\",\"Mount Everest\",\"K2\",\"Broad Peak\",\"Gasherbrum I\",\"Gasherbrum II\",\"K2\",\"Nanga Parbat\",\"Makalu\",\"Broad Peak\",\"Dhaulagiri I\",\"Gasherbrum I\",\"Gasherbrum II\",\"K2\",\"Kangchenjunga\",\"Lhotse\",\"Makalu\",\"Manaslu\",\"Mount Everest\",\"Nanga Parbat\",\"Shishapangma\",\"Dhaulagiri I\",\"K2\",\"Nanga Parbat\",\"Cho Oyu\",\"K2\",\"Kangchenjunga\",\"Lhotse\",\"Makalu\",\"Manaslu\",\"Mount Everest\",\"Shishapangma\",\"K2\",\"Mount Everest\",\"Broad Peak\",\"Cho Oyu\",\"Dhaulagiri I\",\"Manaslu\",\"Mount Everest\",\"Nanga Parbat\",\"Shishapangma\",\"Cho Oyu\",\"K2\",\"Manaslu\",\"Mount Everest\",\"Annapurna I\",\"Broad Peak\",\"Cho Oyu\",\"Dhaulagiri I\",\"K2\",\"Kangchenjunga\",\"Lhotse\",\"Manaslu\",\"Mount Everest\",\"Nanga Parbat\",\"Shishapangma\",\"Cho Oyu\",\"Manaslu\",\"Annapurna I\",\"Broad Peak\",\"Cho Oyu\",\"Dhaulagiri I\",\"Gasherbrum I\",\"Gasherbrum II\",\"K2\",\"Kangchenjunga\",\"Lhotse\",\"Makalu\",\"Manaslu\",\"Mount Everest\",\"Nanga Parbat\",\"Shishapangma\",\"K2\",\"Mount Everest\",\"Annapurna I\",\"Cho Oyu\",\"Dhaulagiri I\",\"Gasherbrum I\",\"Gasherbrum II\",\"Kangchenjunga\",\"Lhotse\",\"Makalu\",\"Mount Everest\",\"Nanga Parbat\",\"Shishapangma\",\"Lhotse\",\"Mount Everest\",\"Shishapangma\",\"Dhaulagiri I\",\"Gasherbrum I\",\"K2\",\"Makalu\",\"Mount Everest\",\"Nanga Parbat\",\"Shishapangma\",\"Annapurna I\",\"Broad Peak\",\"Cho Oyu\",\"Dhaulagiri I\",\"K2\",\"Manaslu\",\"Mount Everest\",\"Nanga Parbat\",\"Annapurna I\",\"Broad Peak\",\"Cho Oyu\",\"Dhaulagiri I\",\"Gasherbrum II\",\"K2\",\"Kangchenjunga\",\"Makalu\",\"Manaslu\",\"Mount Everest\",\"Nanga Parbat\",\"Shishapangma\",\"Mount Everest\",\"Mount Everest\",\"Annapurna I\",\"Nanga Parbat\",\"Broad Peak\",\"Cho Oyu\",\"Gasherbrum II\",\"Lhotse\",\"Manaslu\",\"Mount Everest\",\"Nanga Parbat\",\"Cho Oyu\",\"Gasherbrum I\",\"Kangchenjunga\",\"Manaslu\",\"Mount Everest\"],\"xaxis\":\"x\",\"y\":[\"Afghanistan\",\"Argentina\",\"Argentina\",\"Argentina\",\"Argentina\",\"Australia\",\"Australia\",\"Australia\",\"Australia\",\"Australia\",\"Australia\",\"Australia\",\"Australia \\u00a0India\",\"Australia \\u00a0South Africa\",\"Austria\",\"Austria\",\"Austria\",\"Austria\",\"Austria\",\"Austria\",\"Austria\",\"Austria\",\"Austria\",\"Austria\",\"Bangladesh\",\"Belarus\",\"Belgium\",\"Belgium\",\"Belgium\",\"Belgium\",\"Belgium\",\"Brazil\",\"British Raj\",\"British Raj\",\"Bulgaria\",\"Bulgaria\",\"Bulgaria\",\"Bulgaria\",\"Bulgaria\",\"Bulgaria\",\"Bulgaria\",\"Canada\",\"Canada\",\"Canada\",\"Canada\",\"Canada\",\"Canada\",\"Chile\",\"Chile\",\"Chile\",\"Chile\",\"China\",\"China\",\"China\",\"China\",\"China\",\"China (USA/China dual national)\",\"Colombia\",\"Czech\",\"Czech Republic\",\"Czech Republic\",\"Czech Republic\",\"Czech Republic\",\"Czech Republic\",\"Czech Republic\",\"Czech Republic\",\"Czech Republic\",\"Czechoslovakia\",\"Czechoslovakia\",\"Czechoslovakia\",\"Czechoslovakia\",\"Denmark\",\"Denmark\",\"Ecuador\",\"FR Yugoslavia\",\"Finland\",\"Finland\",\"France\",\"France\",\"France\",\"France\",\"France\",\"France\",\"France\",\"France\",\"France\",\"France\",\"France\",\"France\",\"France\",\"Germany\",\"Germany\",\"Germany\",\"Germany\",\"Germany\",\"Germany\",\"Germany\",\"Germany\",\"Germany\",\"Germany\",\"Germany\",\"Greece\",\"Greece\",\"Greece\",\"Hong Kong\",\"Hungary\",\"Hungary\",\"Hungary\",\"Hungary\",\"Iceland\",\"India\",\"India\",\"India\",\"India\",\"India\",\"Iran\",\"Iran\",\"Iran\",\"Iran\",\"Iran\",\"Iran\",\"Iran\",\"Ireland\",\"Ireland\",\"Italy\",\"Italy\",\"Italy\",\"Italy\",\"Italy\",\"Italy\",\"Italy\",\"Italy\",\"Italy\",\"Italy\",\"Japan\",\"Japan\",\"Japan\",\"Japan\",\"Japan\",\"Japan\",\"Japan\",\"Japan\",\"Japan\",\"Japan\",\"Japan\",\"Japan\",\"Japan\",\"Japan\",\"Kazakhstan\",\"Kazakhstan\",\"Kyrgyzstan\",\"Lithuania\",\"Lithuania\",\"Malaysia\",\"Malaysia\",\"Mexico\",\"Mexico\",\"Mexico\",\"Moldova\",\"Nazi Germany\",\"Nepal\",\"Nepal\",\"Nepal\",\"Nepal\",\"Nepal\",\"Nepal\",\"Nepal\",\"Nepal\",\"Nepal\",\"Nepal\",\"Nepal\",\"Nepal\",\"Netherlands\",\"Netherlands\",\"Netherlands\",\"New Zealand\",\"New Zealand\",\"New Zealand\",\"New Zealand\",\"New Zealand / United States\",\"North Macedonia\",\"Norway\",\"Pakistan\",\"Pakistan\",\"Pakistan\",\"Pakistan\",\"Pakistan\",\"Peru\",\"Poland\",\"Poland\",\"Poland\",\"Poland\",\"Poland\",\"Poland\",\"Poland\",\"Poland\",\"Poland\",\"Poland\",\"Poland\",\"Portugal\",\"Romania\",\"Romania\",\"Romania\",\"Russia\",\"Russia\",\"Russia\",\"Russia\",\"Russia\",\"Russia\",\"Russia\",\"Russia\",\"Serbia\",\"Singapore\",\"Slovakia\",\"Slovakia\",\"Slovakia\",\"Slovakia\",\"Slovakia\",\"Slovakia\",\"Slovakia\",\"Slovenia\",\"Slovenia\",\"Slovenia\",\"Slovenia\",\"South Korea\",\"South Korea\",\"South Korea\",\"South Korea\",\"South Korea\",\"South Korea\",\"South Korea\",\"South Korea\",\"South Korea\",\"South Korea\",\"South Korea\",\"Soviet Union\",\"Soviet Union\",\"Spain\",\"Spain\",\"Spain\",\"Spain\",\"Spain\",\"Spain\",\"Spain\",\"Spain\",\"Spain\",\"Spain\",\"Spain\",\"Spain\",\"Spain\",\"Spain\",\"Sweden\",\"Sweden\",\"Switzerland\",\"Switzerland\",\"Switzerland\",\"Switzerland\",\"Switzerland\",\"Switzerland\",\"Switzerland\",\"Switzerland\",\"Switzerland\",\"Switzerland\",\"Switzerland\",\"Taiwan\",\"Taiwan\",\"Taiwan\",\"Ukraine\",\"Ukraine\",\"Ukraine\",\"Ukraine\",\"Ukraine\",\"Ukraine\",\"Ukraine\",\"United Kingdom\",\"United Kingdom\",\"United Kingdom\",\"United Kingdom\",\"United Kingdom\",\"United Kingdom\",\"United Kingdom\",\"United Kingdom\",\"United States\",\"United States\",\"United States\",\"United States\",\"United States\",\"United States\",\"United States\",\"United States\",\"United States\",\"United States\",\"United States\",\"United States\",\"United States \\u00a0Vietnam\",\"United States\\u00a0Bolivia\",\"Uzbekistan\",\"Venezuela\",\"West Germany\",\"West Germany\",\"West Germany\",\"West Germany\",\"West Germany\",\"West Germany\",\"West Germany\",\"Yugoslavia\",\"Yugoslavia\",\"Yugoslavia\",\"Yugoslavia\",\"Yugoslavia\"],\"yaxis\":\"y\",\"type\":\"scatter\"}],                        {\"template\":{\"data\":{\"histogram2dcontour\":[{\"type\":\"histogram2dcontour\",\"colorbar\":{\"outlinewidth\":0,\"ticks\":\"\"},\"colorscale\":[[0.0,\"#0d0887\"],[0.1111111111111111,\"#46039f\"],[0.2222222222222222,\"#7201a8\"],[0.3333333333333333,\"#9c179e\"],[0.4444444444444444,\"#bd3786\"],[0.5555555555555556,\"#d8576b\"],[0.6666666666666666,\"#ed7953\"],[0.7777777777777778,\"#fb9f3a\"],[0.8888888888888888,\"#fdca26\"],[1.0,\"#f0f921\"]]}],\"choropleth\":[{\"type\":\"choropleth\",\"colorbar\":{\"outlinewidth\":0,\"ticks\":\"\"}}],\"histogram2d\":[{\"type\":\"histogram2d\",\"colorbar\":{\"outlinewidth\":0,\"ticks\":\"\"},\"colorscale\":[[0.0,\"#0d0887\"],[0.1111111111111111,\"#46039f\"],[0.2222222222222222,\"#7201a8\"],[0.3333333333333333,\"#9c179e\"],[0.4444444444444444,\"#bd3786\"],[0.5555555555555556,\"#d8576b\"],[0.6666666666666666,\"#ed7953\"],[0.7777777777777778,\"#fb9f3a\"],[0.8888888888888888,\"#fdca26\"],[1.0,\"#f0f921\"]]}],\"heatmap\":[{\"type\":\"heatmap\",\"colorbar\":{\"outlinewidth\":0,\"ticks\":\"\"},\"colorscale\":[[0.0,\"#0d0887\"],[0.1111111111111111,\"#46039f\"],[0.2222222222222222,\"#7201a8\"],[0.3333333333333333,\"#9c179e\"],[0.4444444444444444,\"#bd3786\"],[0.5555555555555556,\"#d8576b\"],[0.6666666666666666,\"#ed7953\"],[0.7777777777777778,\"#fb9f3a\"],[0.8888888888888888,\"#fdca26\"],[1.0,\"#f0f921\"]]}],\"heatmapgl\":[{\"type\":\"heatmapgl\",\"colorbar\":{\"outlinewidth\":0,\"ticks\":\"\"},\"colorscale\":[[0.0,\"#0d0887\"],[0.1111111111111111,\"#46039f\"],[0.2222222222222222,\"#7201a8\"],[0.3333333333333333,\"#9c179e\"],[0.4444444444444444,\"#bd3786\"],[0.5555555555555556,\"#d8576b\"],[0.6666666666666666,\"#ed7953\"],[0.7777777777777778,\"#fb9f3a\"],[0.8888888888888888,\"#fdca26\"],[1.0,\"#f0f921\"]]}],\"contourcarpet\":[{\"type\":\"contourcarpet\",\"colorbar\":{\"outlinewidth\":0,\"ticks\":\"\"}}],\"contour\":[{\"type\":\"contour\",\"colorbar\":{\"outlinewidth\":0,\"ticks\":\"\"},\"colorscale\":[[0.0,\"#0d0887\"],[0.1111111111111111,\"#46039f\"],[0.2222222222222222,\"#7201a8\"],[0.3333333333333333,\"#9c179e\"],[0.4444444444444444,\"#bd3786\"],[0.5555555555555556,\"#d8576b\"],[0.6666666666666666,\"#ed7953\"],[0.7777777777777778,\"#fb9f3a\"],[0.8888888888888888,\"#fdca26\"],[1.0,\"#f0f921\"]]}],\"surface\":[{\"type\":\"surface\",\"colorbar\":{\"outlinewidth\":0,\"ticks\":\"\"},\"colorscale\":[[0.0,\"#0d0887\"],[0.1111111111111111,\"#46039f\"],[0.2222222222222222,\"#7201a8\"],[0.3333333333333333,\"#9c179e\"],[0.4444444444444444,\"#bd3786\"],[0.5555555555555556,\"#d8576b\"],[0.6666666666666666,\"#ed7953\"],[0.7777777777777778,\"#fb9f3a\"],[0.8888888888888888,\"#fdca26\"],[1.0,\"#f0f921\"]]}],\"mesh3d\":[{\"type\":\"mesh3d\",\"colorbar\":{\"outlinewidth\":0,\"ticks\":\"\"}}],\"scatter\":[{\"fillpattern\":{\"fillmode\":\"overlay\",\"size\":10,\"solidity\":0.2},\"type\":\"scatter\"}],\"parcoords\":[{\"type\":\"parcoords\",\"line\":{\"colorbar\":{\"outlinewidth\":0,\"ticks\":\"\"}}}],\"scatterpolargl\":[{\"type\":\"scatterpolargl\",\"marker\":{\"colorbar\":{\"outlinewidth\":0,\"ticks\":\"\"}}}],\"bar\":[{\"error_x\":{\"color\":\"#2a3f5f\"},\"error_y\":{\"color\":\"#2a3f5f\"},\"marker\":{\"line\":{\"color\":\"#E5ECF6\",\"width\":0.5},\"pattern\":{\"fillmode\":\"overlay\",\"size\":10,\"solidity\":0.2}},\"type\":\"bar\"}],\"scattergeo\":[{\"type\":\"scattergeo\",\"marker\":{\"colorbar\":{\"outlinewidth\":0,\"ticks\":\"\"}}}],\"scatterpolar\":[{\"type\":\"scatterpolar\",\"marker\":{\"colorbar\":{\"outlinewidth\":0,\"ticks\":\"\"}}}],\"histogram\":[{\"marker\":{\"pattern\":{\"fillmode\":\"overlay\",\"size\":10,\"solidity\":0.2}},\"type\":\"histogram\"}],\"scattergl\":[{\"type\":\"scattergl\",\"marker\":{\"colorbar\":{\"outlinewidth\":0,\"ticks\":\"\"}}}],\"scatter3d\":[{\"type\":\"scatter3d\",\"line\":{\"colorbar\":{\"outlinewidth\":0,\"ticks\":\"\"}},\"marker\":{\"colorbar\":{\"outlinewidth\":0,\"ticks\":\"\"}}}],\"scattermapbox\":[{\"type\":\"scattermapbox\",\"marker\":{\"colorbar\":{\"outlinewidth\":0,\"ticks\":\"\"}}}],\"scatterternary\":[{\"type\":\"scatterternary\",\"marker\":{\"colorbar\":{\"outlinewidth\":0,\"ticks\":\"\"}}}],\"scattercarpet\":[{\"type\":\"scattercarpet\",\"marker\":{\"colorbar\":{\"outlinewidth\":0,\"ticks\":\"\"}}}],\"carpet\":[{\"aaxis\":{\"endlinecolor\":\"#2a3f5f\",\"gridcolor\":\"white\",\"linecolor\":\"white\",\"minorgridcolor\":\"white\",\"startlinecolor\":\"#2a3f5f\"},\"baxis\":{\"endlinecolor\":\"#2a3f5f\",\"gridcolor\":\"white\",\"linecolor\":\"white\",\"minorgridcolor\":\"white\",\"startlinecolor\":\"#2a3f5f\"},\"type\":\"carpet\"}],\"table\":[{\"cells\":{\"fill\":{\"color\":\"#EBF0F8\"},\"line\":{\"color\":\"white\"}},\"header\":{\"fill\":{\"color\":\"#C8D4E3\"},\"line\":{\"color\":\"white\"}},\"type\":\"table\"}],\"barpolar\":[{\"marker\":{\"line\":{\"color\":\"#E5ECF6\",\"width\":0.5},\"pattern\":{\"fillmode\":\"overlay\",\"size\":10,\"solidity\":0.2}},\"type\":\"barpolar\"}],\"pie\":[{\"automargin\":true,\"type\":\"pie\"}]},\"layout\":{\"autotypenumbers\":\"strict\",\"colorway\":[\"#636efa\",\"#EF553B\",\"#00cc96\",\"#ab63fa\",\"#FFA15A\",\"#19d3f3\",\"#FF6692\",\"#B6E880\",\"#FF97FF\",\"#FECB52\"],\"font\":{\"color\":\"#2a3f5f\"},\"hovermode\":\"closest\",\"hoverlabel\":{\"align\":\"left\"},\"paper_bgcolor\":\"white\",\"plot_bgcolor\":\"#E5ECF6\",\"polar\":{\"bgcolor\":\"#E5ECF6\",\"angularaxis\":{\"gridcolor\":\"white\",\"linecolor\":\"white\",\"ticks\":\"\"},\"radialaxis\":{\"gridcolor\":\"white\",\"linecolor\":\"white\",\"ticks\":\"\"}},\"ternary\":{\"bgcolor\":\"#E5ECF6\",\"aaxis\":{\"gridcolor\":\"white\",\"linecolor\":\"white\",\"ticks\":\"\"},\"baxis\":{\"gridcolor\":\"white\",\"linecolor\":\"white\",\"ticks\":\"\"},\"caxis\":{\"gridcolor\":\"white\",\"linecolor\":\"white\",\"ticks\":\"\"}},\"coloraxis\":{\"colorbar\":{\"outlinewidth\":0,\"ticks\":\"\"}},\"colorscale\":{\"sequential\":[[0.0,\"#0d0887\"],[0.1111111111111111,\"#46039f\"],[0.2222222222222222,\"#7201a8\"],[0.3333333333333333,\"#9c179e\"],[0.4444444444444444,\"#bd3786\"],[0.5555555555555556,\"#d8576b\"],[0.6666666666666666,\"#ed7953\"],[0.7777777777777778,\"#fb9f3a\"],[0.8888888888888888,\"#fdca26\"],[1.0,\"#f0f921\"]],\"sequentialminus\":[[0.0,\"#0d0887\"],[0.1111111111111111,\"#46039f\"],[0.2222222222222222,\"#7201a8\"],[0.3333333333333333,\"#9c179e\"],[0.4444444444444444,\"#bd3786\"],[0.5555555555555556,\"#d8576b\"],[0.6666666666666666,\"#ed7953\"],[0.7777777777777778,\"#fb9f3a\"],[0.8888888888888888,\"#fdca26\"],[1.0,\"#f0f921\"]],\"diverging\":[[0,\"#8e0152\"],[0.1,\"#c51b7d\"],[0.2,\"#de77ae\"],[0.3,\"#f1b6da\"],[0.4,\"#fde0ef\"],[0.5,\"#f7f7f7\"],[0.6,\"#e6f5d0\"],[0.7,\"#b8e186\"],[0.8,\"#7fbc41\"],[0.9,\"#4d9221\"],[1,\"#276419\"]]},\"xaxis\":{\"gridcolor\":\"white\",\"linecolor\":\"white\",\"ticks\":\"\",\"title\":{\"standoff\":15},\"zerolinecolor\":\"white\",\"automargin\":true,\"zerolinewidth\":2},\"yaxis\":{\"gridcolor\":\"white\",\"linecolor\":\"white\",\"ticks\":\"\",\"title\":{\"standoff\":15},\"zerolinecolor\":\"white\",\"automargin\":true,\"zerolinewidth\":2},\"scene\":{\"xaxis\":{\"backgroundcolor\":\"#E5ECF6\",\"gridcolor\":\"white\",\"linecolor\":\"white\",\"showbackground\":true,\"ticks\":\"\",\"zerolinecolor\":\"white\",\"gridwidth\":2},\"yaxis\":{\"backgroundcolor\":\"#E5ECF6\",\"gridcolor\":\"white\",\"linecolor\":\"white\",\"showbackground\":true,\"ticks\":\"\",\"zerolinecolor\":\"white\",\"gridwidth\":2},\"zaxis\":{\"backgroundcolor\":\"#E5ECF6\",\"gridcolor\":\"white\",\"linecolor\":\"white\",\"showbackground\":true,\"ticks\":\"\",\"zerolinecolor\":\"white\",\"gridwidth\":2}},\"shapedefaults\":{\"line\":{\"color\":\"#2a3f5f\"}},\"annotationdefaults\":{\"arrowcolor\":\"#2a3f5f\",\"arrowhead\":0,\"arrowwidth\":1},\"geo\":{\"bgcolor\":\"white\",\"landcolor\":\"#E5ECF6\",\"subunitcolor\":\"white\",\"showland\":true,\"showlakes\":true,\"lakecolor\":\"white\"},\"title\":{\"x\":0.05},\"mapbox\":{\"style\":\"light\"}}},\"xaxis\":{\"anchor\":\"y\",\"domain\":[0.0,1.0],\"title\":{\"text\":\"Mountain\"}},\"yaxis\":{\"anchor\":\"x\",\"domain\":[0.0,1.0],\"title\":{\"text\":\"Nationality\"}},\"legend\":{\"tracegroupgap\":0,\"itemsizing\":\"constant\"},\"margin\":{\"t\":60},\"height\":1500},                        {\"responsive\": true}                    ).then(function(){\n",
       "                            \n",
       "var gd = document.getElementById('70c8aee5-b358-4467-9bc0-e0448210dc8b');\n",
       "var x = new MutationObserver(function (mutations, observer) {{\n",
       "        var display = window.getComputedStyle(gd).display;\n",
       "        if (!display || display === 'none') {{\n",
       "            console.log([gd, 'removed!']);\n",
       "            Plotly.purge(gd);\n",
       "            observer.disconnect();\n",
       "        }}\n",
       "}});\n",
       "\n",
       "// Listen for the removal of the full notebook cells\n",
       "var notebookContainer = gd.closest('#notebook-container');\n",
       "if (notebookContainer) {{\n",
       "    x.observe(notebookContainer, {childList: true});\n",
       "}}\n",
       "\n",
       "// Listen for the clearing of the current output cell\n",
       "var outputEl = gd.closest('.output');\n",
       "if (outputEl) {{\n",
       "    x.observe(outputEl, {childList: true});\n",
       "}}\n",
       "\n",
       "                        })                };                });            </script>        </div>"
      ]
     },
     "metadata": {},
     "output_type": "display_data"
    }
   ],
   "source": [
    "from plotly.express import scatter\n",
    "scatter(data_frame=df[['Nationality', 'Mountain']].groupby(by=['Nationality', 'Mountain']).size().reset_index().rename(columns={0: 'count'}),\n",
    "        x='Mountain', y='Nationality', size='count', height=1500)"
   ]
  },
  {
   "cell_type": "code",
   "execution_count": null,
   "metadata": {},
   "outputs": [],
   "source": []
  }
 ],
 "metadata": {
  "kaggle": {
   "accelerator": "none",
   "dataSources": [
    {
     "datasetId": 4415069,
     "sourceId": 7584712,
     "sourceType": "datasetVersion"
    }
   ],
   "dockerImageVersionId": 30646,
   "isGpuEnabled": false,
   "isInternetEnabled": false,
   "language": "python",
   "sourceType": "notebook"
  },
  "kernelspec": {
   "display_name": "Python 3 (ipykernel)",
   "language": "python",
   "name": "python3"
  },
  "language_info": {
   "codemirror_mode": {
    "name": "ipython",
    "version": 3
   },
   "file_extension": ".py",
   "mimetype": "text/x-python",
   "name": "python",
   "nbconvert_exporter": "python",
   "pygments_lexer": "ipython3",
   "version": "3.11.4"
  }
 },
 "nbformat": 4,
 "nbformat_minor": 4
}
