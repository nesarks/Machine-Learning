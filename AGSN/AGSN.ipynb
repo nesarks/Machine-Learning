{
 "cells": [
  {
   "cell_type": "markdown",
   "id": "017187d4",
   "metadata": {},
   "source": [
    "## Importing libraries"
   ]
  },
  {
   "cell_type": "code",
   "execution_count": 1,
   "id": "382dce04",
   "metadata": {},
   "outputs": [
    {
     "name": "stdout",
     "output_type": "stream",
     "text": [
      "WARNING:tensorflow:From C:\\Users\\Ksnes\\anaconda3\\Lib\\site-packages\\keras\\src\\losses.py:2976: The name tf.losses.sparse_softmax_cross_entropy is deprecated. Please use tf.compat.v1.losses.sparse_softmax_cross_entropy instead.\n",
      "\n"
     ]
    }
   ],
   "source": [
    "import os\n",
    "import matplotlib.pyplot as plt\n",
    "from tensorflow.keras.models import Sequential\n",
    "from tensorflow.keras.layers import Conv2D, MaxPooling2D, Flatten, Dense, Dropout\n",
    "from tensorflow.keras.preprocessing.image import ImageDataGenerator\n",
    "from tensorflow.keras.utils import plot_model"
   ]
  },
  {
   "cell_type": "markdown",
   "id": "0c5e8cdf",
   "metadata": {},
   "source": [
    "## Defining image dimensions"
   ]
  },
  {
   "cell_type": "code",
   "execution_count": 2,
   "id": "dade2edb",
   "metadata": {},
   "outputs": [],
   "source": [
    "image_height = 800\n",
    "image_width = 800"
   ]
  },
  {
   "cell_type": "markdown",
   "id": "bf7e3b81",
   "metadata": {},
   "source": [
    "## Data directory"
   ]
  },
  {
   "cell_type": "code",
   "execution_count": 3,
   "id": "a791c7dd",
   "metadata": {},
   "outputs": [],
   "source": [
    "train_dir = \"D:/AGSN/train\"\n",
    "test_dir = \"D:/AGSN/test\""
   ]
  },
  {
   "cell_type": "code",
   "execution_count": 4,
   "id": "57fcad27",
   "metadata": {},
   "outputs": [],
   "source": [
    "# Data Augmentation\n",
    "train_datagen = ImageDataGenerator(\n",
    "    rescale=1./255,\n",
    "    rotation_range=10,\n",
    "    width_shift_range=0.1,\n",
    "    height_shift_range=0.1,\n",
    "    shear_range=0.1,\n",
    "    zoom_range=0.1,\n",
    "    horizontal_flip=True\n",
    ")\n",
    "\n",
    "val_datagen = ImageDataGenerator(rescale=1./255)\n",
    "test_datagen = ImageDataGenerator(rescale=1./255)"
   ]
  },
  {
   "cell_type": "code",
   "execution_count": 5,
   "id": "a17811aa",
   "metadata": {},
   "outputs": [
    {
     "name": "stdout",
     "output_type": "stream",
     "text": [
      "WARNING:tensorflow:From C:\\Users\\Ksnes\\anaconda3\\Lib\\site-packages\\keras\\src\\backend.py:873: The name tf.get_default_graph is deprecated. Please use tf.compat.v1.get_default_graph instead.\n",
      "\n",
      "WARNING:tensorflow:From C:\\Users\\Ksnes\\anaconda3\\Lib\\site-packages\\keras\\src\\layers\\pooling\\max_pooling2d.py:161: The name tf.nn.max_pool is deprecated. Please use tf.nn.max_pool2d instead.\n",
      "\n"
     ]
    }
   ],
   "source": [
    "# Model Definition\n",
    "model = Sequential([\n",
    "    Conv2D(16, (3, 3), activation='relu', input_shape=(image_height, image_width, 3)),  \n",
    "    MaxPooling2D((2, 2)),\n",
    "    Conv2D(32, (3, 3), activation='relu'),  \n",
    "    MaxPooling2D((2, 2)),\n",
    "    Conv2D(64, (3, 3), activation='relu'),  \n",
    "    MaxPooling2D((2, 2)),\n",
    "    Flatten(),\n",
    "    Dense(256, activation='relu'),  \n",
    "    Dropout(0.5),\n",
    "    Dense(7, activation='softmax') \n",
    "])"
   ]
  },
  {
   "cell_type": "code",
   "execution_count": 6,
   "id": "f5ee5762",
   "metadata": {},
   "outputs": [
    {
     "name": "stdout",
     "output_type": "stream",
     "text": [
      "WARNING:tensorflow:From C:\\Users\\Ksnes\\anaconda3\\Lib\\site-packages\\keras\\src\\optimizers\\__init__.py:309: The name tf.train.Optimizer is deprecated. Please use tf.compat.v1.train.Optimizer instead.\n",
      "\n"
     ]
    }
   ],
   "source": [
    "# Compile the Model\n",
    "model.compile(optimizer='adam', loss='categorical_crossentropy', metrics=['accuracy'])"
   ]
  },
  {
   "cell_type": "code",
   "execution_count": 7,
   "id": "28ed2de3",
   "metadata": {},
   "outputs": [
    {
     "name": "stdout",
     "output_type": "stream",
     "text": [
      "Found 77 images belonging to 7 classes.\n",
      "Epoch 1/15\n",
      "WARNING:tensorflow:From C:\\Users\\Ksnes\\anaconda3\\Lib\\site-packages\\keras\\src\\utils\\tf_utils.py:492: The name tf.ragged.RaggedTensorValue is deprecated. Please use tf.compat.v1.ragged.RaggedTensorValue instead.\n",
      "\n",
      "WARNING:tensorflow:From C:\\Users\\Ksnes\\anaconda3\\Lib\\site-packages\\keras\\src\\engine\\base_layer_utils.py:384: The name tf.executing_eagerly_outside_functions is deprecated. Please use tf.compat.v1.executing_eagerly_outside_functions instead.\n",
      "\n",
      "4/4 [==============================] - 36s 7s/step - loss: 2.1944 - accuracy: 0.1803\n",
      "Epoch 2/15\n",
      "4/4 [==============================] - 30s 7s/step - loss: 1.7679 - accuracy: 0.3281\n",
      "Epoch 3/15\n",
      "4/4 [==============================] - 29s 7s/step - loss: 1.7194 - accuracy: 0.3770\n",
      "Epoch 4/15\n",
      "4/4 [==============================] - 31s 8s/step - loss: 1.4643 - accuracy: 0.5082\n",
      "Epoch 5/15\n",
      "4/4 [==============================] - 31s 7s/step - loss: 1.3969 - accuracy: 0.5410\n",
      "Epoch 6/15\n",
      "4/4 [==============================] - 34s 8s/step - loss: 1.4169 - accuracy: 0.4375\n",
      "Epoch 7/15\n",
      "4/4 [==============================] - 31s 8s/step - loss: 1.2341 - accuracy: 0.5574\n",
      "Epoch 8/15\n",
      "4/4 [==============================] - 30s 7s/step - loss: 1.3411 - accuracy: 0.4754\n",
      "Epoch 9/15\n",
      "4/4 [==============================] - 32s 8s/step - loss: 1.0472 - accuracy: 0.6557\n",
      "Epoch 10/15\n",
      "4/4 [==============================] - 31s 7s/step - loss: 0.8471 - accuracy: 0.6721\n",
      "Epoch 11/15\n",
      "4/4 [==============================] - 30s 7s/step - loss: 0.8524 - accuracy: 0.6721\n",
      "Epoch 12/15\n",
      "4/4 [==============================] - 32s 8s/step - loss: 1.0133 - accuracy: 0.6406\n",
      "Epoch 13/15\n",
      "4/4 [==============================] - 32s 8s/step - loss: 1.1102 - accuracy: 0.5156\n",
      "Epoch 14/15\n",
      "4/4 [==============================] - 31s 7s/step - loss: 1.0884 - accuracy: 0.5246\n",
      "Epoch 15/15\n",
      "4/4 [==============================] - 32s 7s/step - loss: 0.7718 - accuracy: 0.8197\n"
     ]
    }
   ],
   "source": [
    "# Train the Model\n",
    "train_generator = train_datagen.flow_from_directory(\n",
    "    train_dir,\n",
    "    target_size=(image_height, image_width),\n",
    "    batch_size=16,\n",
    "    class_mode='categorical'\n",
    ")\n",
    "\n",
    "history = model.fit(\n",
    "    train_generator,\n",
    "    steps_per_epoch=train_generator.samples // 16,\n",
    "    epochs=15,\n",
    ")"
   ]
  },
  {
   "cell_type": "code",
   "execution_count": 8,
   "id": "6119fb98",
   "metadata": {},
   "outputs": [
    {
     "name": "stdout",
     "output_type": "stream",
     "text": [
      "Found 21 images belonging to 7 classes.\n",
      "3/3 [==============================] - 2s 538ms/step - loss: 0.7319 - accuracy: 0.7143\n",
      "Test Accuracy: 0.7142857313156128\n"
     ]
    }
   ],
   "source": [
    "# Evaluate the Model\n",
    "test_generator = test_datagen.flow_from_directory(\n",
    "    test_dir,\n",
    "    target_size=(image_height, image_width),\n",
    "    batch_size=7,  \n",
    "    class_mode='categorical'\n",
    ")\n",
    "\n",
    "test_loss, test_accuracy = model.evaluate(test_generator)\n",
    "print(\"Test Accuracy:\", test_accuracy)"
   ]
  },
  {
   "cell_type": "markdown",
   "id": "f61e8285",
   "metadata": {},
   "source": [
    "### Plot Model Accuracy"
   ]
  },
  {
   "cell_type": "code",
   "execution_count": 10,
   "id": "22228734",
   "metadata": {},
   "outputs": [
    {
     "data": {
      "image/png": "[encoded data removed]",
      "text/plain": [
       "<Figure size 640x480 with 1 Axes>"
      ]
     },
     "metadata": {},
     "output_type": "display_data"
    }
   ],
   "source": [
    "plt.plot(history.history['accuracy'], label='Training Accuracy')\n",
    "plt.xlabel('Epoch')\n",
    "plt.ylabel('Accuracy')\n",
    "plt.title('Model Accuracy')\n",
    "plt.legend()\n",
    "plt.show()"
   ]
  },
  {
   "cell_type": "code",
   "execution_count": null,
   "id": "28a1143c",
   "metadata": {},
   "outputs": [],
   "source": []
  }
 ],
 "metadata": {
  "kernelspec": {
   "display_name": "Python 3 (ipykernel)",
   "language": "python",
   "name": "python3"
  },
  "language_info": {
   "codemirror_mode": {
    "name": "ipython",
    "version": 3
   },
   "file_extension": ".py",
   "mimetype": "text/x-python",
   "name": "python",
   "nbconvert_exporter": "python",
   "pygments_lexer": "ipython3",
   "version": "3.11.4"
  }
 },
 "nbformat": 4,
 "nbformat_minor": 5
}
